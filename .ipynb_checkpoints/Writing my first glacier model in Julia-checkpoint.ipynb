{
 "cells": [
  {
   "cell_type": "markdown",
   "id": "9b4e9c40",
   "metadata": {},
   "source": [
    "Glaciers are the canary in the coal mine of global warming. Their modeling involves a good understanding of fluid dynamics and numerical methods for solving differential equations. \n",
    "\n",
    "Let's first start with some maths and PDEs (I promise you that this is less tedious than it seems!). \n",
    "We are going to focus in simulating the Shallow Ice Approximation (SIA) equation, which describes the evolution in time of the thickness of a glacier $H(x,y,t)$ on a given area, described by the two spatial coordinates $x$ and $t$. Under this approximation, glaciers \"flow\" following the heat equation\n",
    "$$\n",
    "\\frac{\\partial H}{\\partial t} = \\dot b (x,y,t) + \\nabla \\cdot \\left( D \\, \\nabla S \\right),\n",
    "$$\n",
    "where $\\dot b$ is the mass balance given by the difference between accumulation and ablation of ice (that is, this first term on the right site quantifies accumulation of ice that leads to a increase of the ice thickness); $S$ is the surface elevation of the glacier; and $D$ is a diffusivity coefficient in the heat equation, given by\n",
    "$$\n",
    "D(x,y,t) = \\Gamma H^5 \\| \\nabla S \\|^4,\n",
    "$$\n",
    "with $\\Gamma$ some numerical constant. Notice that this is no a classical heat equation since the diffusivity $D$ depends on the solution $H(x,y,t)$. Also notice how sensitive is the diffusivity to small changes in both the ice thickness $H$ and the slope on the surface of a glacier $\\nabla S$. The following figure illustrate this. \n",
    "\n"
   ]
  },
  {
   "cell_type": "code",
   "execution_count": null,
   "id": "861282ed",
   "metadata": {},
   "outputs": [],
   "source": []
  }
 ],
 "metadata": {
  "kernelspec": {
   "display_name": "Julia 1.6.0",
   "language": "julia",
   "name": "julia-1.6"
  },
  "language_info": {
   "file_extension": ".jl",
   "mimetype": "application/julia",
   "name": "julia",
   "version": "1.6.0"
  }
 },
 "nbformat": 4,
 "nbformat_minor": 5
}
