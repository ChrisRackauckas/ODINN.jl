{
 "cells": [
  {
   "cell_type": "code",
   "execution_count": 6,
   "id": "0f368c91",
   "metadata": {},
   "outputs": [
    {
     "name": "stderr",
     "output_type": "stream",
     "text": [
      "\u001b[32m\u001b[1m  Activating\u001b[22m\u001b[39m environment at `~/Dropbox/Glacier UDE/ODINN_toy/scripts/Project.toml`\n",
      "\u001b[32m\u001b[1mPrecompiling\u001b[22m\u001b[39m project...\n",
      "\u001b[33m  ? \u001b[39m\u001b[90mDiffEqBase\u001b[39m\n",
      "\u001b[33m  ? \u001b[39m\u001b[90mDiffEqJump\u001b[39m\n",
      "\u001b[33m  ? \u001b[39m\u001b[90mModelingToolkit\u001b[39m\n",
      "\u001b[33m  ? \u001b[39mDiffEqOperators\n"
     ]
    },
    {
     "ename": "LoadError",
     "evalue": "ArgumentError: Package Tullio not found in current path:\n- Run `import Pkg; Pkg.add(\"Tullio\")` to install the Tullio package.\n",
     "output_type": "error",
     "traceback": [
      "ArgumentError: Package Tullio not found in current path:\n- Run `import Pkg; Pkg.add(\"Tullio\")` to install the Tullio package.\n",
      "",
      "Stacktrace:",
      " [1] require(into::Module, mod::Symbol)",
      "   @ Base ./loading.jl:871",
      " [2] eval",
      "   @ ./boot.jl:360 [inlined]",
      " [3] include_string(mapexpr::typeof(REPL.softscope), mod::Module, code::String, filename::String)",
      "   @ Base ./loading.jl:1094"
     ]
    }
   ],
   "source": [
    "using Pkg; Pkg.activate(\"../.\"); Pkg.instantiate()\n",
    "using Plots; gr()\n",
    "#using SparseArrays\n",
    "using Statistics\n",
    "using ModelingToolkit\n",
    "using LinearAlgebra\n",
    "#using HDF5\n",
    "using JLD\n",
    "#using Infiltrator\n",
    "using Zygote\n",
    "using PaddedViews\n",
    "using Flux\n",
    "using Flux: @epochs\n",
    "#using DiffEqOperators\n",
    "using Tullio"
   ]
  },
  {
   "cell_type": "code",
   "execution_count": 3,
   "id": "447e0225",
   "metadata": {},
   "outputs": [],
   "source": [
    "nx, ny = 100, 100 # Size of the grid\n",
    "Δx, Δy = 1, 1\n",
    "Δt = 0.01\n",
    "t₁ = 1\n",
    "\n",
    "D₀ = 1\n",
    "tolnl = 1e-4\n",
    "itMax = 100\n",
    "damp = 0.85\n",
    "dτsc   = 1.0/3.0\n",
    "ϵ     = 1e-4            # small number\n",
    "cfl  = max(Δx^2,Δy^2)/4.1;"
   ]
  },
  {
   "cell_type": "markdown",
   "id": "fed5f498",
   "metadata": {},
   "source": [
    "### Dynamical functions"
   ]
  },
  {
   "cell_type": "code",
   "execution_count": 4,
   "id": "b02bbc6f",
   "metadata": {},
   "outputs": [
    {
     "ename": "LoadError",
     "evalue": "LoadError: UndefVarError: @tullio not defined\nin expression starting at In[4]:22",
     "output_type": "error",
     "traceback": [
      "LoadError: UndefVarError: @tullio not defined\nin expression starting at In[4]:22",
      "",
      "Stacktrace:",
      " [1] top-level scope",
      "   @ :0",
      " [2] eval",
      "   @ ./boot.jl:360 [inlined]",
      " [3] include_string(mapexpr::typeof(REPL.softscope), mod::Module, code::String, filename::String)",
      "   @ Base ./loading.jl:1094"
     ]
    }
   ],
   "source": [
    "function heatflow(T, D::Real, p, tol=Inf)\n",
    "   \n",
    "    Δx, Δy, Δt, t₁ = p\n",
    "    \n",
    "    total_iter = 0\n",
    "    t = 0\n",
    "    \n",
    "    while t < t₁\n",
    "        \n",
    "        iter = 1\n",
    "        err = 2 * tolnl\n",
    "        Hold = copy(T)\n",
    "        dTdt = zeros(nx, ny)\n",
    "        err = Inf \n",
    "        \n",
    "        while iter < itMax+1 && tol <= err\n",
    "            \n",
    "            Err = copy(T)\n",
    "                    \n",
    "            F, dτ = Heat(T, D, p)\n",
    "            \n",
    "            @tullio ResT[i,j] := -(T[i,j] - Hold[i,j])/Δt + F[pad(i-1,1,1),pad(j-1,1,1)] \n",
    "            \n",
    "            dTdt_ = copy(dTdt)\n",
    "            @tullio dTdt[i,j] := dTdt_[i,j]*damp + ResT[i,j]\n",
    "            \n",
    "            T_ = copy(T)\n",
    "            #@tullio T[i,j] := max(0.0, T_[i,j] + dTdt[i,j]*dτ[pad(i-1,1,1),pad(j-1,1,1)]) \n",
    "            @tullio T[i,j] := max(0.0, T_[i,j] + dτ * dTdt[i,j])\n",
    "            \n",
    "            Zygote.ignore() do\n",
    "                Err .= Err .- T\n",
    "                err = maximum(Err)\n",
    "            end \n",
    "            \n",
    "            iter += 1\n",
    "            total_iter += 1\n",
    "            \n",
    "        end\n",
    "        \n",
    "        t += Δt\n",
    "        \n",
    "    end\n",
    "    \n",
    "    return T\n",
    "    \n",
    "end"
   ]
  },
  {
   "cell_type": "code",
   "execution_count": 5,
   "id": "05aa5a0d",
   "metadata": {},
   "outputs": [
    {
     "data": {
      "text/plain": [
       "Heat (generic function with 1 method)"
      ]
     },
     "execution_count": 5,
     "metadata": {},
     "output_type": "execute_result"
    }
   ],
   "source": [
    "function Heat(T, D, p)\n",
    "   \n",
    "    Δx, Δy, Δt, t₁ = p\n",
    "    \n",
    "    #dTdx = diff(S, dims=1) / Δx\n",
    "    #dTdy = diff(S, dims=2) / Δy\n",
    "\n",
    "    dTdx_edges = diff(T[:,2:end - 1], dims=1) / Δx\n",
    "    dTdy_edges = diff(T[2:end - 1,:], dims=2) / Δy\n",
    "    \n",
    "    Fx = -D * dTdx_edges\n",
    "    Fy = -D * dTdy_edges    \n",
    "    F = .-(diff(Fx, dims=1) / Δx .+ diff(Fy, dims=2) / Δy) \n",
    "\n",
    "    dτ = dτsc * min( 10.0 , 1.0/(1.0/Δt + 1.0/(cfl/(ϵ + D))))\n",
    "    \n",
    "    return F, dτ\n",
    " \n",
    "end"
   ]
  },
  {
   "cell_type": "markdown",
   "id": "6ea54155",
   "metadata": {},
   "source": [
    "### Initial simulation"
   ]
  },
  {
   "cell_type": "code",
   "execution_count": null,
   "id": "69a0881a",
   "metadata": {},
   "outputs": [],
   "source": [
    "p = (Δx, Δy, Δt, t₁)\n",
    "\n",
    "T₀ = [ 250 * exp( - ( (i - nx/2)^2 + (j - ny/2)^2 ) / 300 ) for i in 1:nx, j in 1:ny ]\n",
    "\n",
    "T₁ = copy(T₀)\n",
    "T₁ = heatflow(T₁, D₀, p, 1e-1)"
   ]
  },
  {
   "cell_type": "code",
   "execution_count": null,
   "id": "7ba686d5",
   "metadata": {},
   "outputs": [],
   "source": [
    "heatmap(T₀, clim=(0, maximum(T₀)))"
   ]
  },
  {
   "cell_type": "code",
   "execution_count": null,
   "id": "2dd642d1",
   "metadata": {},
   "outputs": [],
   "source": [
    "heatmap(T₁, clim=(0, maximum(T₀)))"
   ]
  },
  {
   "cell_type": "markdown",
   "id": "540ffb9c",
   "metadata": {},
   "source": [
    "Notice that the changes in the temperature field are really small:"
   ]
  },
  {
   "cell_type": "code",
   "execution_count": null,
   "id": "830192fd",
   "metadata": {},
   "outputs": [],
   "source": [
    "sqrt( sum((T₁.-T₀).^2) / (nx * ny) )"
   ]
  }
 ],
 "metadata": {
  "kernelspec": {
   "display_name": "Julia 1.6.0",
   "language": "julia",
   "name": "julia-1.6"
  },
  "language_info": {
   "file_extension": ".jl",
   "mimetype": "application/julia",
   "name": "julia",
   "version": "1.6.0"
  }
 },
 "nbformat": 4,
 "nbformat_minor": 5
}
