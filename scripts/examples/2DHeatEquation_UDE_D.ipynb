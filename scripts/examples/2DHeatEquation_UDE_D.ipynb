{
 "cells": [
  {
   "cell_type": "markdown",
   "id": "28cc9b4c",
   "metadata": {},
   "source": [
    "# Universal Differential Equation for a 2D PDE heat equation"
   ]
  },
  {
   "cell_type": "code",
   "execution_count": 1,
   "id": "26615a8c",
   "metadata": {
    "scrolled": true
   },
   "outputs": [
    {
     "name": "stderr",
     "output_type": "stream",
     "text": [
      "\u001b[32m\u001b[1m  Activating\u001b[22m\u001b[39m environment at `~/Dropbox/Glacier UDE/ODINN_toy/Project.toml`\n"
     ]
    }
   ],
   "source": [
    "using Pkg; Pkg.activate(\"../../.\"); Pkg.instantiate()\n",
    "using Plots; gr()\n",
    "using Statistics\n",
    "using LinearAlgebra\n",
    "using Zygote\n",
    "using PaddedViews\n",
    "using Flux\n",
    "using Flux: @epochs\n",
    "using Tullio"
   ]
  },
  {
   "cell_type": "markdown",
   "id": "185d8fd5",
   "metadata": {},
   "source": [
    "### Parameter declaration"
   ]
  },
  {
   "cell_type": "code",
   "execution_count": 2,
   "id": "53e65f82",
   "metadata": {},
   "outputs": [],
   "source": [
    "nx, ny = 100, 100 # Size of the grid\n",
    "Δx, Δy = 1, 1\n",
    "Δt = 0.1\n",
    "t₁ = 5\n",
    "\n",
    "#D₀ = 1\n",
    "tolnl = 1e-4\n",
    "itMax = 20\n",
    "damp = 0.85\n",
    "dτsc   = 1.0/3.0\n",
    "ϵ     = 1e-4            # small number\n",
    "cfl  = max(Δx^2,Δy^2)/4.1;"
   ]
  },
  {
   "cell_type": "code",
   "execution_count": 3,
   "id": "93e5ae56",
   "metadata": {},
   "outputs": [
    {
     "data": {
      "text/plain": [
       "heatflow (generic function with 2 methods)"
      ]
     },
     "execution_count": 3,
     "metadata": {},
     "output_type": "execute_result"
    }
   ],
   "source": [
    "function heatflow(T, fD::Function, p, tol=1e-4)\n",
    "   \n",
    "    Δx, Δy, Δt, t₁ = p\n",
    "    \n",
    "    total_iter = 0\n",
    "    t = 0\n",
    "    \n",
    "    while t < t₁\n",
    "        \n",
    "        iter = 1\n",
    "        err = 2 * tolnl\n",
    "        Hold = copy(T)\n",
    "        dTdt = zeros(nx, ny)\n",
    "        err = Inf \n",
    "        \n",
    "        while iter < itMax+1 && tol <= err\n",
    "            \n",
    "            Err = copy(T)\n",
    "                    \n",
    "            D = fD(t)  # compute the diffusivity at each time\n",
    "            # if iter == 1\n",
    "            #     println(\"current D: \", D)\n",
    "            # end\n",
    "            \n",
    "            F, dτ = Heat(T, D, p)\n",
    "            \n",
    "            @tullio ResT[i,j] := -(T[i,j] - Hold[i,j])/Δt + F[pad(i-1,1,1),pad(j-1,1,1)] \n",
    "            \n",
    "            dTdt_ = copy(dTdt)\n",
    "            @tullio dTdt[i,j] := dTdt_[i,j]*damp + ResT[i,j]\n",
    "            \n",
    "            T_ = copy(T)\n",
    "            #@tullio T[i,j] := max(0.0, T_[i,j] + dTdt[i,j]*dτ[pad(i-1,1,1),pad(j-1,1,1)]) \n",
    "            @tullio T[i,j] := max(0.0, T_[i,j] + dτ * dTdt[i,j])\n",
    "            \n",
    "            Zygote.ignore() do\n",
    "                Err .= Err .- T\n",
    "                err = maximum(Err)\n",
    "            end \n",
    "            \n",
    "            iter += 1\n",
    "            total_iter += 1\n",
    "            \n",
    "        end\n",
    "        \n",
    "        t += Δt\n",
    "        \n",
    "    end\n",
    "    \n",
    "    return T\n",
    "    \n",
    "end"
   ]
  },
  {
   "cell_type": "code",
   "execution_count": 4,
   "id": "14eddf9a",
   "metadata": {},
   "outputs": [
    {
     "data": {
      "text/plain": [
       "Heat (generic function with 1 method)"
      ]
     },
     "execution_count": 4,
     "metadata": {},
     "output_type": "execute_result"
    }
   ],
   "source": [
    "function Heat(T, D, p)\n",
    "   \n",
    "    Δx, Δy, Δt, t₁ = p\n",
    "    \n",
    "    #dTdx = diff(S, dims=1) / Δx\n",
    "    #dTdy = diff(S, dims=2) / Δy\n",
    "\n",
    "    dTdx_edges = diff(T[:,2:end - 1], dims=1) / Δx\n",
    "    dTdy_edges = diff(T[2:end - 1,:], dims=2) / Δy\n",
    "    \n",
    "    Fx = -D * dTdx_edges\n",
    "    Fy = -D * dTdy_edges    \n",
    "    F = .-(diff(Fx, dims=1) / Δx .+ diff(Fy, dims=2) / Δy) \n",
    "\n",
    "    dτ = dτsc * min( 10.0 , 1.0/(1.0/Δt + 1.0/(cfl/(ϵ + D))))\n",
    "    \n",
    "    return F, dτ\n",
    " \n",
    "end"
   ]
  },
  {
   "cell_type": "markdown",
   "id": "795eded3",
   "metadata": {},
   "source": [
    "## Creating a reference dataset with a fake law\n",
    "\n",
    "Let's assume that $D$ is a function of time"
   ]
  },
  {
   "cell_type": "code",
   "execution_count": 42,
   "id": "8fa4368d",
   "metadata": {},
   "outputs": [
    {
     "data": {
      "image/svg+xml": [
       "<?xml version=\"1.0\" encoding=\"utf-8\"?>\n",
       "<svg xmlns=\"http://www.w3.org/2000/svg\" xmlns:xlink=\"http://www.w3.org/1999/xlink\" width=\"600\" height=\"400\" viewBox=\"0 0 2400 1600\">\n",
       "<defs>\n",
       "  <clipPath id=\"clip610\">\n",
       "    <rect x=\"0\" y=\"0\" width=\"2400\" height=\"1600\"/>\n",
       "  </clipPath>\n",
       "</defs>\n",
       "<path clip-path=\"url(#clip610)\" d=\"\n",
       "M0 1600 L2400 1600 L2400 0 L0 0  Z\n",
       "  \" fill=\"#ffffff\" fill-rule=\"evenodd\" fill-opacity=\"1\"/>\n",
       "<defs>\n",
       "  <clipPath id=\"clip611\">\n",
       "    <rect x=\"480\" y=\"0\" width=\"1681\" height=\"1600\"/>\n",
       "  </clipPath>\n",
       "</defs>\n",
       "<path clip-path=\"url(#clip610)\" d=\"\n",
       "M112.177 1486.45 L2352.76 1486.45 L2352.76 123.472 L112.177 123.472  Z\n",
       "  \" fill=\"#ffffff\" fill-rule=\"evenodd\" fill-opacity=\"1\"/>\n",
       "<defs>\n",
       "  <clipPath id=\"clip612\">\n",
       "    <rect x=\"112\" y=\"123\" width=\"2242\" height=\"1364\"/>\n",
       "  </clipPath>\n",
       "</defs>\n",
       "<polyline clip-path=\"url(#clip612)\" style=\"stroke:#000000; stroke-linecap:butt; stroke-linejoin:round; stroke-width:2; stroke-opacity:0.1; fill:none\" points=\"\n",
       "  175.59,1486.45 175.59,123.472 \n",
       "  \"/>\n",
       "<polyline clip-path=\"url(#clip612)\" style=\"stroke:#000000; stroke-linecap:butt; stroke-linejoin:round; stroke-width:2; stroke-opacity:0.1; fill:none\" points=\"\n",
       "  598.34,1486.45 598.34,123.472 \n",
       "  \"/>\n",
       "<polyline clip-path=\"url(#clip612)\" style=\"stroke:#000000; stroke-linecap:butt; stroke-linejoin:round; stroke-width:2; stroke-opacity:0.1; fill:none\" points=\"\n",
       "  1021.09,1486.45 1021.09,123.472 \n",
       "  \"/>\n",
       "<polyline clip-path=\"url(#clip612)\" style=\"stroke:#000000; stroke-linecap:butt; stroke-linejoin:round; stroke-width:2; stroke-opacity:0.1; fill:none\" points=\"\n",
       "  1443.84,1486.45 1443.84,123.472 \n",
       "  \"/>\n",
       "<polyline clip-path=\"url(#clip612)\" style=\"stroke:#000000; stroke-linecap:butt; stroke-linejoin:round; stroke-width:2; stroke-opacity:0.1; fill:none\" points=\"\n",
       "  1866.59,1486.45 1866.59,123.472 \n",
       "  \"/>\n",
       "<polyline clip-path=\"url(#clip612)\" style=\"stroke:#000000; stroke-linecap:butt; stroke-linejoin:round; stroke-width:2; stroke-opacity:0.1; fill:none\" points=\"\n",
       "  2289.34,1486.45 2289.34,123.472 \n",
       "  \"/>\n",
       "<polyline clip-path=\"url(#clip610)\" style=\"stroke:#000000; stroke-linecap:butt; stroke-linejoin:round; stroke-width:4; stroke-opacity:1; fill:none\" points=\"\n",
       "  112.177,1486.45 2352.76,1486.45 \n",
       "  \"/>\n",
       "<polyline clip-path=\"url(#clip610)\" style=\"stroke:#000000; stroke-linecap:butt; stroke-linejoin:round; stroke-width:4; stroke-opacity:1; fill:none\" points=\"\n",
       "  175.59,1486.45 175.59,1470.09 \n",
       "  \"/>\n",
       "<polyline clip-path=\"url(#clip610)\" style=\"stroke:#000000; stroke-linecap:butt; stroke-linejoin:round; stroke-width:4; stroke-opacity:1; fill:none\" points=\"\n",
       "  598.34,1486.45 598.34,1470.09 \n",
       "  \"/>\n",
       "<polyline clip-path=\"url(#clip610)\" style=\"stroke:#000000; stroke-linecap:butt; stroke-linejoin:round; stroke-width:4; stroke-opacity:1; fill:none\" points=\"\n",
       "  1021.09,1486.45 1021.09,1470.09 \n",
       "  \"/>\n",
       "<polyline clip-path=\"url(#clip610)\" style=\"stroke:#000000; stroke-linecap:butt; stroke-linejoin:round; stroke-width:4; stroke-opacity:1; fill:none\" points=\"\n",
       "  1443.84,1486.45 1443.84,1470.09 \n",
       "  \"/>\n",
       "<polyline clip-path=\"url(#clip610)\" style=\"stroke:#000000; stroke-linecap:butt; stroke-linejoin:round; stroke-width:4; stroke-opacity:1; fill:none\" points=\"\n",
       "  1866.59,1486.45 1866.59,1470.09 \n",
       "  \"/>\n",
       "<polyline clip-path=\"url(#clip610)\" style=\"stroke:#000000; stroke-linecap:butt; stroke-linejoin:round; stroke-width:4; stroke-opacity:1; fill:none\" points=\"\n",
       "  2289.34,1486.45 2289.34,1470.09 \n",
       "  \"/>\n",
       "<path clip-path=\"url(#clip610)\" d=\"M175.59 1515.64 Q171.979 1515.64 170.15 1519.2 Q168.344 1522.75 168.344 1529.87 Q168.344 1536.98 170.15 1540.55 Q171.979 1544.09 175.59 1544.09 Q179.224 1544.09 181.03 1540.55 Q182.858 1536.98 182.858 1529.87 Q182.858 1522.75 181.03 1519.2 Q179.224 1515.64 175.59 1515.64 M175.59 1511.93 Q181.4 1511.93 184.455 1516.54 Q187.534 1521.12 187.534 1529.87 Q187.534 1538.6 184.455 1543.21 Q181.4 1547.79 175.59 1547.79 Q169.78 1547.79 166.701 1543.21 Q163.645 1538.6 163.645 1529.87 Q163.645 1521.12 166.701 1516.54 Q169.78 1511.93 175.59 1511.93 Z\" fill=\"#000000\" fill-rule=\"evenodd\" fill-opacity=\"1\" /><path clip-path=\"url(#clip610)\" d=\"M588.722 1543.18 L596.361 1543.18 L596.361 1516.82 L588.051 1518.49 L588.051 1514.23 L596.315 1512.56 L600.991 1512.56 L600.991 1543.18 L608.63 1543.18 L608.63 1547.12 L588.722 1547.12 L588.722 1543.18 Z\" fill=\"#000000\" fill-rule=\"evenodd\" fill-opacity=\"1\" /><path clip-path=\"url(#clip610)\" d=\"M1015.74 1543.18 L1032.06 1543.18 L1032.06 1547.12 L1010.12 1547.12 L1010.12 1543.18 Q1012.78 1540.43 1017.36 1535.8 Q1021.97 1531.15 1023.15 1529.81 Q1025.4 1527.28 1026.28 1525.55 Q1027.18 1523.79 1027.18 1522.1 Q1027.18 1519.34 1025.23 1517.61 Q1023.31 1515.87 1020.21 1515.87 Q1018.01 1515.87 1015.56 1516.63 Q1013.13 1517.4 1010.35 1518.95 L1010.35 1514.23 Q1013.17 1513.09 1015.63 1512.51 Q1018.08 1511.93 1020.12 1511.93 Q1025.49 1511.93 1028.68 1514.62 Q1031.88 1517.31 1031.88 1521.8 Q1031.88 1523.93 1031.07 1525.85 Q1030.28 1527.74 1028.17 1530.34 Q1027.6 1531.01 1024.49 1534.23 Q1021.39 1537.42 1015.74 1543.18 Z\" fill=\"#000000\" fill-rule=\"evenodd\" fill-opacity=\"1\" /><path clip-path=\"url(#clip610)\" d=\"M1448.09 1528.49 Q1451.45 1529.2 1453.32 1531.47 Q1455.22 1533.74 1455.22 1537.07 Q1455.22 1542.19 1451.7 1544.99 Q1448.18 1547.79 1441.7 1547.79 Q1439.52 1547.79 1437.21 1547.35 Q1434.92 1546.93 1432.46 1546.08 L1432.46 1541.56 Q1434.41 1542.7 1436.72 1543.28 Q1439.04 1543.86 1441.56 1543.86 Q1445.96 1543.86 1448.25 1542.12 Q1450.57 1540.38 1450.57 1537.07 Q1450.57 1534.02 1448.41 1532.31 Q1446.28 1530.57 1442.46 1530.57 L1438.44 1530.57 L1438.44 1526.73 L1442.65 1526.73 Q1446.1 1526.73 1447.93 1525.36 Q1449.76 1523.97 1449.76 1521.38 Q1449.76 1518.72 1447.86 1517.31 Q1445.98 1515.87 1442.46 1515.87 Q1440.54 1515.87 1438.34 1516.29 Q1436.15 1516.7 1433.51 1517.58 L1433.51 1513.42 Q1436.17 1512.68 1438.48 1512.31 Q1440.82 1511.93 1442.88 1511.93 Q1448.21 1511.93 1451.31 1514.37 Q1454.41 1516.77 1454.41 1520.89 Q1454.41 1523.76 1452.77 1525.75 Q1451.12 1527.72 1448.09 1528.49 Z\" fill=\"#000000\" fill-rule=\"evenodd\" fill-opacity=\"1\" /><path clip-path=\"url(#clip610)\" d=\"M1869.6 1516.63 L1857.8 1535.08 L1869.6 1535.08 L1869.6 1516.63 M1868.37 1512.56 L1874.25 1512.56 L1874.25 1535.08 L1879.19 1535.08 L1879.19 1538.97 L1874.25 1538.97 L1874.25 1547.12 L1869.6 1547.12 L1869.6 1538.97 L1854 1538.97 L1854 1534.46 L1868.37 1512.56 Z\" fill=\"#000000\" fill-rule=\"evenodd\" fill-opacity=\"1\" /><path clip-path=\"url(#clip610)\" d=\"M2279.62 1512.56 L2297.98 1512.56 L2297.98 1516.5 L2283.9 1516.5 L2283.9 1524.97 Q2284.92 1524.62 2285.94 1524.46 Q2286.96 1524.27 2287.98 1524.27 Q2293.76 1524.27 2297.14 1527.44 Q2300.52 1530.62 2300.52 1536.03 Q2300.52 1541.61 2297.05 1544.71 Q2293.58 1547.79 2287.26 1547.79 Q2285.08 1547.79 2282.82 1547.42 Q2280.57 1547.05 2278.16 1546.31 L2278.16 1541.61 Q2280.25 1542.74 2282.47 1543.3 Q2284.69 1543.86 2287.17 1543.86 Q2291.17 1543.86 2293.51 1541.75 Q2295.85 1539.64 2295.85 1536.03 Q2295.85 1532.42 2293.51 1530.31 Q2291.17 1528.21 2287.17 1528.21 Q2285.29 1528.21 2283.42 1528.62 Q2281.57 1529.04 2279.62 1529.92 L2279.62 1512.56 Z\" fill=\"#000000\" fill-rule=\"evenodd\" fill-opacity=\"1\" /><polyline clip-path=\"url(#clip612)\" style=\"stroke:#000000; stroke-linecap:butt; stroke-linejoin:round; stroke-width:2; stroke-opacity:0.1; fill:none\" points=\"\n",
       "  112.177,1447.87 2352.76,1447.87 \n",
       "  \"/>\n",
       "<polyline clip-path=\"url(#clip612)\" style=\"stroke:#000000; stroke-linecap:butt; stroke-linejoin:round; stroke-width:2; stroke-opacity:0.1; fill:none\" points=\"\n",
       "  112.177,1190.71 2352.76,1190.71 \n",
       "  \"/>\n",
       "<polyline clip-path=\"url(#clip612)\" style=\"stroke:#000000; stroke-linecap:butt; stroke-linejoin:round; stroke-width:2; stroke-opacity:0.1; fill:none\" points=\"\n",
       "  112.177,933.543 2352.76,933.543 \n",
       "  \"/>\n",
       "<polyline clip-path=\"url(#clip612)\" style=\"stroke:#000000; stroke-linecap:butt; stroke-linejoin:round; stroke-width:2; stroke-opacity:0.1; fill:none\" points=\"\n",
       "  112.177,676.377 2352.76,676.377 \n",
       "  \"/>\n",
       "<polyline clip-path=\"url(#clip612)\" style=\"stroke:#000000; stroke-linecap:butt; stroke-linejoin:round; stroke-width:2; stroke-opacity:0.1; fill:none\" points=\"\n",
       "  112.177,419.212 2352.76,419.212 \n",
       "  \"/>\n",
       "<polyline clip-path=\"url(#clip612)\" style=\"stroke:#000000; stroke-linecap:butt; stroke-linejoin:round; stroke-width:2; stroke-opacity:0.1; fill:none\" points=\"\n",
       "  112.177,162.047 2352.76,162.047 \n",
       "  \"/>\n",
       "<polyline clip-path=\"url(#clip610)\" style=\"stroke:#000000; stroke-linecap:butt; stroke-linejoin:round; stroke-width:4; stroke-opacity:1; fill:none\" points=\"\n",
       "  112.177,1486.45 112.177,123.472 \n",
       "  \"/>\n",
       "<polyline clip-path=\"url(#clip610)\" style=\"stroke:#000000; stroke-linecap:butt; stroke-linejoin:round; stroke-width:4; stroke-opacity:1; fill:none\" points=\"\n",
       "  112.177,1447.87 139.064,1447.87 \n",
       "  \"/>\n",
       "<polyline clip-path=\"url(#clip610)\" style=\"stroke:#000000; stroke-linecap:butt; stroke-linejoin:round; stroke-width:4; stroke-opacity:1; fill:none\" points=\"\n",
       "  112.177,1190.71 139.064,1190.71 \n",
       "  \"/>\n",
       "<polyline clip-path=\"url(#clip610)\" style=\"stroke:#000000; stroke-linecap:butt; stroke-linejoin:round; stroke-width:4; stroke-opacity:1; fill:none\" points=\"\n",
       "  112.177,933.543 139.064,933.543 \n",
       "  \"/>\n",
       "<polyline clip-path=\"url(#clip610)\" style=\"stroke:#000000; stroke-linecap:butt; stroke-linejoin:round; stroke-width:4; stroke-opacity:1; fill:none\" points=\"\n",
       "  112.177,676.377 139.064,676.377 \n",
       "  \"/>\n",
       "<polyline clip-path=\"url(#clip610)\" style=\"stroke:#000000; stroke-linecap:butt; stroke-linejoin:round; stroke-width:4; stroke-opacity:1; fill:none\" points=\"\n",
       "  112.177,419.212 139.064,419.212 \n",
       "  \"/>\n",
       "<polyline clip-path=\"url(#clip610)\" style=\"stroke:#000000; stroke-linecap:butt; stroke-linejoin:round; stroke-width:4; stroke-opacity:1; fill:none\" points=\"\n",
       "  112.177,162.047 139.064,162.047 \n",
       "  \"/>\n",
       "<path clip-path=\"url(#clip610)\" d=\"M59.8578 1461.22 L76.1772 1461.22 L76.1772 1465.15 L54.2328 1465.15 L54.2328 1461.22 Q56.8949 1458.46 61.4782 1453.83 Q66.0846 1449.18 67.2652 1447.84 Q69.5105 1445.32 70.3902 1443.58 Q71.2929 1441.82 71.2929 1440.13 Q71.2929 1437.38 69.3485 1435.64 Q67.4272 1433.9 64.3254 1433.9 Q62.1263 1433.9 59.6726 1434.67 Q57.2421 1435.43 54.4643 1436.98 L54.4643 1432.26 Q57.2884 1431.13 59.7421 1430.55 Q62.1958 1429.97 64.2328 1429.97 Q69.6031 1429.97 72.7976 1432.65 Q75.992 1435.34 75.992 1439.83 Q75.992 1441.96 75.1818 1443.88 Q74.3948 1445.78 72.2883 1448.37 Q71.7096 1449.04 68.6078 1452.26 Q65.5059 1455.45 59.8578 1461.22 Z\" fill=\"#000000\" fill-rule=\"evenodd\" fill-opacity=\"1\" /><path clip-path=\"url(#clip610)\" d=\"M69.0476 1189.35 Q72.404 1190.07 74.279 1192.34 Q76.1772 1194.61 76.1772 1197.94 Q76.1772 1203.06 72.6587 1205.86 Q69.1402 1208.66 62.6587 1208.66 Q60.4828 1208.66 58.168 1208.22 Q55.8764 1207.8 53.4227 1206.95 L53.4227 1202.43 Q55.3671 1203.57 57.6819 1204.15 Q59.9967 1204.72 62.5198 1204.72 Q66.918 1204.72 69.2096 1202.99 Q71.5244 1201.25 71.5244 1197.94 Q71.5244 1194.89 69.3717 1193.17 Q67.242 1191.44 63.4226 1191.44 L59.3949 1191.44 L59.3949 1187.59 L63.6078 1187.59 Q67.0569 1187.59 68.8855 1186.23 Q70.7142 1184.84 70.7142 1182.25 Q70.7142 1179.59 68.8161 1178.17 Q66.9411 1176.74 63.4226 1176.74 Q61.5013 1176.74 59.3023 1177.15 Q57.1032 1177.57 54.4643 1178.45 L54.4643 1174.28 Q57.1264 1173.54 59.4412 1173.17 Q61.7791 1172.8 63.8393 1172.8 Q69.1633 1172.8 72.2652 1175.23 Q75.367 1177.64 75.367 1181.76 Q75.367 1184.63 73.7235 1186.62 Q72.08 1188.59 69.0476 1189.35 Z\" fill=\"#000000\" fill-rule=\"evenodd\" fill-opacity=\"1\" /><path clip-path=\"url(#clip610)\" d=\"M66.5939 920.337 L54.7884 938.786 L66.5939 938.786 L66.5939 920.337 M65.367 916.263 L71.2466 916.263 L71.2466 938.786 L76.1772 938.786 L76.1772 942.675 L71.2466 942.675 L71.2466 950.823 L66.5939 950.823 L66.5939 942.675 L50.9921 942.675 L50.9921 938.161 L65.367 916.263 Z\" fill=\"#000000\" fill-rule=\"evenodd\" fill-opacity=\"1\" /><path clip-path=\"url(#clip610)\" d=\"M55.2745 659.097 L73.6309 659.097 L73.6309 663.033 L59.5569 663.033 L59.5569 671.505 Q60.5754 671.158 61.5939 670.995 Q62.6124 670.81 63.6309 670.81 Q69.418 670.81 72.7976 673.982 Q76.1772 677.153 76.1772 682.569 Q76.1772 688.148 72.705 691.25 Q69.2328 694.329 62.9134 694.329 Q60.7374 694.329 58.4689 693.958 Q56.2236 693.588 53.8162 692.847 L53.8162 688.148 Q55.8995 689.282 58.1217 689.838 Q60.3439 690.394 62.8208 690.394 Q66.8254 690.394 69.1633 688.287 Q71.5013 686.181 71.5013 682.569 Q71.5013 678.958 69.1633 676.852 Q66.8254 674.745 62.8208 674.745 Q60.9458 674.745 59.0708 675.162 Q57.2189 675.579 55.2745 676.458 L55.2745 659.097 Z\" fill=\"#000000\" fill-rule=\"evenodd\" fill-opacity=\"1\" /><path clip-path=\"url(#clip610)\" d=\"M64.6495 417.349 Q61.5013 417.349 59.6495 419.501 Q57.8208 421.654 57.8208 425.404 Q57.8208 429.131 59.6495 431.307 Q61.5013 433.46 64.6495 433.46 Q67.7976 433.46 69.6263 431.307 Q71.4781 429.131 71.4781 425.404 Q71.4781 421.654 69.6263 419.501 Q67.7976 417.349 64.6495 417.349 M73.9318 402.696 L73.9318 406.955 Q72.1726 406.122 70.367 405.682 Q68.5846 405.242 66.8254 405.242 Q62.1958 405.242 59.7421 408.367 Q57.3115 411.492 56.9643 417.812 Q58.33 415.798 60.3902 414.733 Q62.4504 413.645 64.9272 413.645 Q70.1355 413.645 73.1448 416.816 Q76.1772 419.964 76.1772 425.404 Q76.1772 430.728 73.029 433.946 Q69.8809 437.163 64.6495 437.163 Q58.6541 437.163 55.4828 432.58 Q52.3116 427.974 52.3116 419.247 Q52.3116 411.052 56.2004 406.191 Q60.0893 401.307 66.6402 401.307 Q68.3994 401.307 70.1818 401.654 Q71.9874 402.002 73.9318 402.696 Z\" fill=\"#000000\" fill-rule=\"evenodd\" fill-opacity=\"1\" /><path clip-path=\"url(#clip610)\" d=\"M53.9551 144.767 L76.1772 144.767 L76.1772 146.758 L63.6309 179.327 L58.7467 179.327 L70.5522 148.702 L53.9551 148.702 L53.9551 144.767 Z\" fill=\"#000000\" fill-rule=\"evenodd\" fill-opacity=\"1\" /><path clip-path=\"url(#clip610)\" d=\"M1015.56 12.096 L1050.32 12.096 L1050.32 18.9825 L1023.74 18.9825 L1023.74 36.8065 L1047.73 36.8065 L1047.73 43.6931 L1023.74 43.6931 L1023.74 72.576 L1015.56 72.576 L1015.56 12.096 Z\" fill=\"#000000\" fill-rule=\"evenodd\" fill-opacity=\"1\" /><path clip-path=\"url(#clip610)\" d=\"M1075.96 49.7694 Q1066.93 49.7694 1063.44 51.8354 Q1059.96 53.9013 1059.96 58.8839 Q1059.96 62.8538 1062.55 65.2034 Q1065.18 67.5124 1069.68 67.5124 Q1075.88 67.5124 1079.61 63.1374 Q1083.37 58.7219 1083.37 51.4303 L1083.37 49.7694 L1075.96 49.7694 M1090.83 46.6907 L1090.83 72.576 L1083.37 72.576 L1083.37 65.6895 Q1080.82 69.8214 1077.01 71.8063 Q1073.21 73.7508 1067.7 73.7508 Q1060.73 73.7508 1056.6 69.8619 Q1052.51 65.9325 1052.51 59.3701 Q1052.51 51.7138 1057.61 47.825 Q1062.75 43.9361 1072.92 43.9361 L1083.37 43.9361 L1083.37 43.2069 Q1083.37 38.0623 1079.97 35.2672 Q1076.61 32.4315 1070.49 32.4315 Q1066.6 32.4315 1062.92 33.3632 Q1059.23 34.295 1055.83 36.1584 L1055.83 29.2718 Q1059.92 27.692 1063.77 26.9223 Q1067.61 26.1121 1071.26 26.1121 Q1081.1 26.1121 1085.97 31.2163 Q1090.83 36.3204 1090.83 46.6907 Z\" fill=\"#000000\" fill-rule=\"evenodd\" fill-opacity=\"1\" /><path clip-path=\"url(#clip610)\" d=\"M1105.9 9.54393 L1113.39 9.54393 L1113.39 46.7717 L1135.63 27.2059 L1145.15 27.2059 L1121.09 48.4326 L1146.16 72.576 L1136.44 72.576 L1113.39 50.4176 L1113.39 72.576 L1105.9 72.576 L1105.9 9.54393 Z\" fill=\"#000000\" fill-rule=\"evenodd\" fill-opacity=\"1\" /><path clip-path=\"url(#clip610)\" d=\"M1190.07 48.0275 L1190.07 51.6733 L1155.8 51.6733 Q1156.29 59.3701 1160.42 63.421 Q1164.59 67.4314 1172.01 67.4314 Q1176.3 67.4314 1180.31 66.3781 Q1184.36 65.3249 1188.33 63.2184 L1188.33 70.267 Q1184.32 71.9684 1180.11 72.8596 Q1175.9 73.7508 1171.56 73.7508 Q1160.7 73.7508 1154.34 67.4314 Q1148.03 61.1119 1148.03 50.3365 Q1148.03 39.1965 1154.02 32.6746 Q1160.06 26.1121 1170.26 26.1121 Q1179.42 26.1121 1184.73 32.0264 Q1190.07 37.9003 1190.07 48.0275 M1182.62 45.84 Q1182.54 39.7232 1179.18 36.0774 Q1175.86 32.4315 1170.35 32.4315 Q1164.11 32.4315 1160.34 35.9558 Q1156.61 39.4801 1156.05 45.8805 L1182.62 45.84 Z\" fill=\"#000000\" fill-rule=\"evenodd\" fill-opacity=\"1\" /><path clip-path=\"url(#clip610)\" d=\"M1237.19 18.8205 L1237.19 65.8515 L1247.07 65.8515 Q1259.59 65.8515 1265.38 60.1802 Q1271.21 54.509 1271.21 42.2752 Q1271.21 30.1225 1265.38 24.4918 Q1259.59 18.8205 1247.07 18.8205 L1237.19 18.8205 M1229 12.096 L1245.81 12.096 Q1263.4 12.096 1271.62 19.4281 Q1279.84 26.7198 1279.84 42.2752 Q1279.84 57.9117 1271.58 65.2439 Q1263.31 72.576 1245.81 72.576 L1229 72.576 L1229 12.096 Z\" fill=\"#000000\" fill-rule=\"evenodd\" fill-opacity=\"1\" /><path clip-path=\"url(#clip610)\" d=\"M1318.93 9.54393 L1326.39 9.54393 L1326.39 72.576 L1318.93 72.576 L1318.93 9.54393 Z\" fill=\"#000000\" fill-rule=\"evenodd\" fill-opacity=\"1\" /><path clip-path=\"url(#clip610)\" d=\"M1362.6 49.7694 Q1353.57 49.7694 1350.08 51.8354 Q1346.6 53.9013 1346.6 58.8839 Q1346.6 62.8538 1349.19 65.2034 Q1351.83 67.5124 1356.32 67.5124 Q1362.52 67.5124 1366.25 63.1374 Q1370.01 58.7219 1370.01 51.4303 L1370.01 49.7694 L1362.6 49.7694 M1377.47 46.6907 L1377.47 72.576 L1370.01 72.576 L1370.01 65.6895 Q1367.46 69.8214 1363.66 71.8063 Q1359.85 73.7508 1354.34 73.7508 Q1347.37 73.7508 1343.24 69.8619 Q1339.15 65.9325 1339.15 59.3701 Q1339.15 51.7138 1344.25 47.825 Q1349.4 43.9361 1359.56 43.9361 L1370.01 43.9361 L1370.01 43.2069 Q1370.01 38.0623 1366.61 35.2672 Q1363.25 32.4315 1357.13 32.4315 Q1353.24 32.4315 1349.56 33.3632 Q1345.87 34.295 1342.47 36.1584 L1342.47 29.2718 Q1346.56 27.692 1350.41 26.9223 Q1354.26 26.1121 1357.9 26.1121 Q1367.75 26.1121 1372.61 31.2163 Q1377.47 36.3204 1377.47 46.6907 Z\" fill=\"#000000\" fill-rule=\"evenodd\" fill-opacity=\"1\" /><path clip-path=\"url(#clip610)\" d=\"M1388.49 27.2059 L1395.94 27.2059 L1405.26 62.6108 L1414.53 27.2059 L1423.32 27.2059 L1432.64 62.6108 L1441.92 27.2059 L1449.37 27.2059 L1437.5 72.576 L1428.71 72.576 L1418.95 35.3887 L1409.15 72.576 L1400.36 72.576 L1388.49 27.2059 Z\" fill=\"#000000\" fill-rule=\"evenodd\" fill-opacity=\"1\" /><polyline clip-path=\"url(#clip612)\" style=\"stroke:#009af9; stroke-linecap:butt; stroke-linejoin:round; stroke-width:4; stroke-opacity:1; fill:none\" points=\"\n",
       "  175.59,1447.87 196.232,1447.87 387.102,1447.86 501.807,1447.76 598.789,1447.46 704.138,1446.62 801.261,1444.95 905.386,1441.56 1026.03,1434.32 1133.24,1423.33 \n",
       "  1227.25,1408.67 1329.75,1385.46 1432.86,1352.14 1489.86,1328.38 1546.86,1300.12 1601.1,1268.5 1655.33,1231.68 1711.72,1187.23 1768.11,1135.74 1815.58,1086.36 \n",
       "  1863.05,1030.93 1921.01,954.238 1978.96,866.659 2033.44,773.4 2087.92,668.538 2131.56,575.462 2175.2,473.699 2218.84,362.653 2262.48,241.705 2269.2,222.171 \n",
       "  2275.91,202.385 2282.63,182.345 2289.34,162.047 \n",
       "  \"/>\n",
       "<path clip-path=\"url(#clip610)\" d=\"\n",
       "M1976.69 289.865 L2278.07 289.865 L2278.07 168.905 L1976.69 168.905  Z\n",
       "  \" fill=\"#ffffff\" fill-rule=\"evenodd\" fill-opacity=\"1\"/>\n",
       "<polyline clip-path=\"url(#clip610)\" style=\"stroke:#000000; stroke-linecap:butt; stroke-linejoin:round; stroke-width:4; stroke-opacity:1; fill:none\" points=\"\n",
       "  1976.69,289.865 2278.07,289.865 2278.07,168.905 1976.69,168.905 1976.69,289.865 \n",
       "  \"/>\n",
       "<polyline clip-path=\"url(#clip610)\" style=\"stroke:#009af9; stroke-linecap:butt; stroke-linejoin:round; stroke-width:4; stroke-opacity:1; fill:none\" points=\"\n",
       "  2001.58,229.385 2150.95,229.385 \n",
       "  \"/>\n",
       "<path clip-path=\"url(#clip610)\" d=\"M2189.69 249.072 Q2187.89 253.702 2186.17 255.114 Q2184.46 256.526 2181.59 256.526 L2178.19 256.526 L2178.19 252.961 L2180.69 252.961 Q2182.45 252.961 2183.42 252.128 Q2184.39 251.294 2185.57 248.192 L2186.34 246.248 L2175.85 220.739 L2180.36 220.739 L2188.46 241.017 L2196.57 220.739 L2201.08 220.739 L2189.69 249.072 Z\" fill=\"#000000\" fill-rule=\"evenodd\" fill-opacity=\"1\" /><path clip-path=\"url(#clip610)\" d=\"M2208.37 242.729 L2216.01 242.729 L2216.01 216.364 L2207.7 218.031 L2207.7 213.771 L2215.96 212.105 L2220.64 212.105 L2220.64 242.729 L2228.28 242.729 L2228.28 246.665 L2208.37 246.665 L2208.37 242.729 Z\" fill=\"#000000\" fill-rule=\"evenodd\" fill-opacity=\"1\" /></svg>\n"
      ]
     },
     "execution_count": 42,
     "metadata": {},
     "output_type": "execute_result"
    }
   ],
   "source": [
    "D_max = 10\n",
    "D_min = 0\n",
    "\n",
    "fakeD(t) = 1 * (2 + t^5 / t₁^4)\n",
    "\n",
    "plot(fakeD, 0, t₁, title=\"Fake D law\")"
   ]
  },
  {
   "cell_type": "code",
   "execution_count": 111,
   "id": "39aae780",
   "metadata": {},
   "outputs": [
    {
     "data": {
      "image/svg+xml": [
       "<?xml version=\"1.0\" encoding=\"utf-8\"?>\n",
       "<svg xmlns=\"http://www.w3.org/2000/svg\" xmlns:xlink=\"http://www.w3.org/1999/xlink\" width=\"600\" height=\"400\" viewBox=\"0 0 2400 1600\">\n",
       "<defs>\n",
       "  <clipPath id=\"clip530\">\n",
       "    <rect x=\"0\" y=\"0\" width=\"2400\" height=\"1600\"/>\n",
       "  </clipPath>\n",
       "</defs>\n",
       "<path clip-path=\"url(#clip530)\" d=\"\n",
       "M0 1600 L2400 1600 L2400 0 L0 0  Z\n",
       "  \" fill=\"#ffffff\" fill-rule=\"evenodd\" fill-opacity=\"1\"/>\n",
       "<defs>\n",
       "  <clipPath id=\"clip531\">\n",
       "    <rect x=\"480\" y=\"0\" width=\"1681\" height=\"1600\"/>\n",
       "  </clipPath>\n",
       "</defs>\n",
       "<path clip-path=\"url(#clip530)\" d=\"\n",
       "M169.121 1486.45 L2112.76 1486.45 L2112.76 47.2441 L169.121 47.2441  Z\n",
       "  \" fill=\"#ffffff\" fill-rule=\"evenodd\" fill-opacity=\"1\"/>\n",
       "<defs>\n",
       "  <clipPath id=\"clip532\">\n",
       "    <rect x=\"169\" y=\"47\" width=\"1945\" height=\"1440\"/>\n",
       "  </clipPath>\n",
       "</defs>\n",
       "<polyline clip-path=\"url(#clip532)\" style=\"stroke:#000000; stroke-linecap:butt; stroke-linejoin:round; stroke-width:2; stroke-opacity:0.1; fill:none\" points=\"\n",
       "  548.13,1486.45 548.13,47.2441 \n",
       "  \"/>\n",
       "<polyline clip-path=\"url(#clip532)\" style=\"stroke:#000000; stroke-linecap:butt; stroke-linejoin:round; stroke-width:2; stroke-opacity:0.1; fill:none\" points=\"\n",
       "  936.857,1486.45 936.857,47.2441 \n",
       "  \"/>\n",
       "<polyline clip-path=\"url(#clip532)\" style=\"stroke:#000000; stroke-linecap:butt; stroke-linejoin:round; stroke-width:2; stroke-opacity:0.1; fill:none\" points=\"\n",
       "  1325.58,1486.45 1325.58,47.2441 \n",
       "  \"/>\n",
       "<polyline clip-path=\"url(#clip532)\" style=\"stroke:#000000; stroke-linecap:butt; stroke-linejoin:round; stroke-width:2; stroke-opacity:0.1; fill:none\" points=\"\n",
       "  1714.31,1486.45 1714.31,47.2441 \n",
       "  \"/>\n",
       "<polyline clip-path=\"url(#clip532)\" style=\"stroke:#000000; stroke-linecap:butt; stroke-linejoin:round; stroke-width:2; stroke-opacity:0.1; fill:none\" points=\"\n",
       "  2103.04,1486.45 2103.04,47.2441 \n",
       "  \"/>\n",
       "<polyline clip-path=\"url(#clip530)\" style=\"stroke:#000000; stroke-linecap:butt; stroke-linejoin:round; stroke-width:4; stroke-opacity:1; fill:none\" points=\"\n",
       "  169.121,1486.45 2112.76,1486.45 \n",
       "  \"/>\n",
       "<polyline clip-path=\"url(#clip530)\" style=\"stroke:#000000; stroke-linecap:butt; stroke-linejoin:round; stroke-width:4; stroke-opacity:1; fill:none\" points=\"\n",
       "  548.13,1486.45 548.13,1469.18 \n",
       "  \"/>\n",
       "<polyline clip-path=\"url(#clip530)\" style=\"stroke:#000000; stroke-linecap:butt; stroke-linejoin:round; stroke-width:4; stroke-opacity:1; fill:none\" points=\"\n",
       "  936.857,1486.45 936.857,1469.18 \n",
       "  \"/>\n",
       "<polyline clip-path=\"url(#clip530)\" style=\"stroke:#000000; stroke-linecap:butt; stroke-linejoin:round; stroke-width:4; stroke-opacity:1; fill:none\" points=\"\n",
       "  1325.58,1486.45 1325.58,1469.18 \n",
       "  \"/>\n",
       "<polyline clip-path=\"url(#clip530)\" style=\"stroke:#000000; stroke-linecap:butt; stroke-linejoin:round; stroke-width:4; stroke-opacity:1; fill:none\" points=\"\n",
       "  1714.31,1486.45 1714.31,1469.18 \n",
       "  \"/>\n",
       "<polyline clip-path=\"url(#clip530)\" style=\"stroke:#000000; stroke-linecap:butt; stroke-linejoin:round; stroke-width:4; stroke-opacity:1; fill:none\" points=\"\n",
       "  2103.04,1486.45 2103.04,1469.18 \n",
       "  \"/>\n",
       "<path clip-path=\"url(#clip530)\" d=\"M526.903 1543.18 L543.223 1543.18 L543.223 1547.12 L521.278 1547.12 L521.278 1543.18 Q523.94 1540.43 528.524 1535.8 Q533.13 1531.15 534.311 1529.81 Q536.556 1527.28 537.436 1525.55 Q538.338 1523.79 538.338 1522.1 Q538.338 1519.34 536.394 1517.61 Q534.473 1515.87 531.371 1515.87 Q529.172 1515.87 526.718 1516.63 Q524.288 1517.4 521.51 1518.95 L521.51 1514.23 Q524.334 1513.09 526.788 1512.51 Q529.241 1511.93 531.278 1511.93 Q536.649 1511.93 539.843 1514.62 Q543.037 1517.31 543.037 1521.8 Q543.037 1523.93 542.227 1525.85 Q541.44 1527.74 539.334 1530.34 Q538.755 1531.01 535.653 1534.23 Q532.551 1537.42 526.903 1543.18 Z\" fill=\"#000000\" fill-rule=\"evenodd\" fill-opacity=\"1\" /><path clip-path=\"url(#clip530)\" d=\"M563.037 1515.64 Q559.426 1515.64 557.598 1519.2 Q555.792 1522.75 555.792 1529.87 Q555.792 1536.98 557.598 1540.55 Q559.426 1544.09 563.037 1544.09 Q566.672 1544.09 568.477 1540.55 Q570.306 1536.98 570.306 1529.87 Q570.306 1522.75 568.477 1519.2 Q566.672 1515.64 563.037 1515.64 M563.037 1511.93 Q568.848 1511.93 571.903 1516.54 Q574.982 1521.12 574.982 1529.87 Q574.982 1538.6 571.903 1543.21 Q568.848 1547.79 563.037 1547.79 Q557.227 1547.79 554.149 1543.21 Q551.093 1538.6 551.093 1529.87 Q551.093 1521.12 554.149 1516.54 Q557.227 1511.93 563.037 1511.93 Z\" fill=\"#000000\" fill-rule=\"evenodd\" fill-opacity=\"1\" /><path clip-path=\"url(#clip530)\" d=\"M925.028 1516.63 L913.223 1535.08 L925.028 1535.08 L925.028 1516.63 M923.801 1512.56 L929.681 1512.56 L929.681 1535.08 L934.612 1535.08 L934.612 1538.97 L929.681 1538.97 L929.681 1547.12 L925.028 1547.12 L925.028 1538.97 L909.427 1538.97 L909.427 1534.46 L923.801 1512.56 Z\" fill=\"#000000\" fill-rule=\"evenodd\" fill-opacity=\"1\" /><path clip-path=\"url(#clip530)\" d=\"M952.343 1515.64 Q948.732 1515.64 946.903 1519.2 Q945.098 1522.75 945.098 1529.87 Q945.098 1536.98 946.903 1540.55 Q948.732 1544.09 952.343 1544.09 Q955.977 1544.09 957.783 1540.55 Q959.611 1536.98 959.611 1529.87 Q959.611 1522.75 957.783 1519.2 Q955.977 1515.64 952.343 1515.64 M952.343 1511.93 Q958.153 1511.93 961.209 1516.54 Q964.287 1521.12 964.287 1529.87 Q964.287 1538.6 961.209 1543.21 Q958.153 1547.79 952.343 1547.79 Q946.533 1547.79 943.454 1543.21 Q940.399 1538.6 940.399 1529.87 Q940.399 1521.12 943.454 1516.54 Q946.533 1511.93 952.343 1511.93 Z\" fill=\"#000000\" fill-rule=\"evenodd\" fill-opacity=\"1\" /><path clip-path=\"url(#clip530)\" d=\"M1310.99 1527.98 Q1307.84 1527.98 1305.99 1530.13 Q1304.16 1532.28 1304.16 1536.03 Q1304.16 1539.76 1305.99 1541.93 Q1307.84 1544.09 1310.99 1544.09 Q1314.14 1544.09 1315.97 1541.93 Q1317.82 1539.76 1317.82 1536.03 Q1317.82 1532.28 1315.97 1530.13 Q1314.14 1527.98 1310.99 1527.98 M1320.27 1513.32 L1320.27 1517.58 Q1318.51 1516.75 1316.71 1516.31 Q1314.92 1515.87 1313.16 1515.87 Q1308.54 1515.87 1306.08 1519 Q1303.65 1522.12 1303.3 1528.44 Q1304.67 1526.43 1306.73 1525.36 Q1308.79 1524.27 1311.27 1524.27 Q1316.48 1524.27 1319.48 1527.44 Q1322.52 1530.59 1322.52 1536.03 Q1322.52 1541.36 1319.37 1544.57 Q1316.22 1547.79 1310.99 1547.79 Q1304.99 1547.79 1301.82 1543.21 Q1298.65 1538.6 1298.65 1529.87 Q1298.65 1521.68 1302.54 1516.82 Q1306.43 1511.93 1312.98 1511.93 Q1314.74 1511.93 1316.52 1512.28 Q1318.33 1512.63 1320.27 1513.32 Z\" fill=\"#000000\" fill-rule=\"evenodd\" fill-opacity=\"1\" /><path clip-path=\"url(#clip530)\" d=\"M1340.57 1515.64 Q1336.96 1515.64 1335.13 1519.2 Q1333.33 1522.75 1333.33 1529.87 Q1333.33 1536.98 1335.13 1540.55 Q1336.96 1544.09 1340.57 1544.09 Q1344.21 1544.09 1346.01 1540.55 Q1347.84 1536.98 1347.84 1529.87 Q1347.84 1522.75 1346.01 1519.2 Q1344.21 1515.64 1340.57 1515.64 M1340.57 1511.93 Q1346.38 1511.93 1349.44 1516.54 Q1352.52 1521.12 1352.52 1529.87 Q1352.52 1538.6 1349.44 1543.21 Q1346.38 1547.79 1340.57 1547.79 Q1334.76 1547.79 1331.68 1543.21 Q1328.63 1538.6 1328.63 1529.87 Q1328.63 1521.12 1331.68 1516.54 Q1334.76 1511.93 1340.57 1511.93 Z\" fill=\"#000000\" fill-rule=\"evenodd\" fill-opacity=\"1\" /><path clip-path=\"url(#clip530)\" d=\"M1699.18 1530.71 Q1695.85 1530.71 1693.93 1532.49 Q1692.03 1534.27 1692.03 1537.4 Q1692.03 1540.52 1693.93 1542.31 Q1695.85 1544.09 1699.18 1544.09 Q1702.52 1544.09 1704.44 1542.31 Q1706.36 1540.5 1706.36 1537.4 Q1706.36 1534.27 1704.44 1532.49 Q1702.54 1530.71 1699.18 1530.71 M1694.51 1528.72 Q1691.5 1527.98 1689.81 1525.92 Q1688.14 1523.86 1688.14 1520.89 Q1688.14 1516.75 1691.08 1514.34 Q1694.04 1511.93 1699.18 1511.93 Q1704.35 1511.93 1707.29 1514.34 Q1710.23 1516.75 1710.23 1520.89 Q1710.23 1523.86 1708.54 1525.92 Q1706.87 1527.98 1703.88 1528.72 Q1707.26 1529.5 1709.14 1531.8 Q1711.04 1534.09 1711.04 1537.4 Q1711.04 1542.42 1707.96 1545.11 Q1704.9 1547.79 1699.18 1547.79 Q1693.47 1547.79 1690.39 1545.11 Q1687.33 1542.42 1687.33 1537.4 Q1687.33 1534.09 1689.23 1531.8 Q1691.13 1529.5 1694.51 1528.72 M1692.79 1521.33 Q1692.79 1524.02 1694.46 1525.52 Q1696.15 1527.03 1699.18 1527.03 Q1702.19 1527.03 1703.88 1525.52 Q1705.6 1524.02 1705.6 1521.33 Q1705.6 1518.65 1703.88 1517.14 Q1702.19 1515.64 1699.18 1515.64 Q1696.15 1515.64 1694.46 1517.14 Q1692.79 1518.65 1692.79 1521.33 Z\" fill=\"#000000\" fill-rule=\"evenodd\" fill-opacity=\"1\" /><path clip-path=\"url(#clip530)\" d=\"M1729.35 1515.64 Q1725.73 1515.64 1723.91 1519.2 Q1722.1 1522.75 1722.1 1529.87 Q1722.1 1536.98 1723.91 1540.55 Q1725.73 1544.09 1729.35 1544.09 Q1732.98 1544.09 1734.79 1540.55 Q1736.61 1536.98 1736.61 1529.87 Q1736.61 1522.75 1734.79 1519.2 Q1732.98 1515.64 1729.35 1515.64 M1729.35 1511.93 Q1735.16 1511.93 1738.21 1516.54 Q1741.29 1521.12 1741.29 1529.87 Q1741.29 1538.6 1738.21 1543.21 Q1735.16 1547.79 1729.35 1547.79 Q1723.54 1547.79 1720.46 1543.21 Q1717.4 1538.6 1717.4 1529.87 Q1717.4 1521.12 1720.46 1516.54 Q1723.54 1511.93 1729.35 1511.93 Z\" fill=\"#000000\" fill-rule=\"evenodd\" fill-opacity=\"1\" /><path clip-path=\"url(#clip530)\" d=\"M2062.64 1543.18 L2070.28 1543.18 L2070.28 1516.82 L2061.97 1518.49 L2061.97 1514.23 L2070.24 1512.56 L2074.91 1512.56 L2074.91 1543.18 L2082.55 1543.18 L2082.55 1547.12 L2062.64 1547.12 L2062.64 1543.18 Z\" fill=\"#000000\" fill-rule=\"evenodd\" fill-opacity=\"1\" /><path clip-path=\"url(#clip530)\" d=\"M2102 1515.64 Q2098.38 1515.64 2096.56 1519.2 Q2094.75 1522.75 2094.75 1529.87 Q2094.75 1536.98 2096.56 1540.55 Q2098.38 1544.09 2102 1544.09 Q2105.63 1544.09 2107.44 1540.55 Q2109.26 1536.98 2109.26 1529.87 Q2109.26 1522.75 2107.44 1519.2 Q2105.63 1515.64 2102 1515.64 M2102 1511.93 Q2107.81 1511.93 2110.86 1516.54 Q2113.94 1521.12 2113.94 1529.87 Q2113.94 1538.6 2110.86 1543.21 Q2107.81 1547.79 2102 1547.79 Q2096.19 1547.79 2093.11 1543.21 Q2090.05 1538.6 2090.05 1529.87 Q2090.05 1521.12 2093.11 1516.54 Q2096.19 1511.93 2102 1511.93 Z\" fill=\"#000000\" fill-rule=\"evenodd\" fill-opacity=\"1\" /><path clip-path=\"url(#clip530)\" d=\"M2132.16 1515.64 Q2128.55 1515.64 2126.72 1519.2 Q2124.91 1522.75 2124.91 1529.87 Q2124.91 1536.98 2126.72 1540.55 Q2128.55 1544.09 2132.16 1544.09 Q2135.79 1544.09 2137.6 1540.55 Q2139.43 1536.98 2139.43 1529.87 Q2139.43 1522.75 2137.6 1519.2 Q2135.79 1515.64 2132.16 1515.64 M2132.16 1511.93 Q2137.97 1511.93 2141.02 1516.54 Q2144.1 1521.12 2144.1 1529.87 Q2144.1 1538.6 2141.02 1543.21 Q2137.97 1547.79 2132.16 1547.79 Q2126.35 1547.79 2123.27 1543.21 Q2120.21 1538.6 2120.21 1529.87 Q2120.21 1521.12 2123.27 1516.54 Q2126.35 1511.93 2132.16 1511.93 Z\" fill=\"#000000\" fill-rule=\"evenodd\" fill-opacity=\"1\" /><polyline clip-path=\"url(#clip532)\" style=\"stroke:#000000; stroke-linecap:butt; stroke-linejoin:round; stroke-width:2; stroke-opacity:0.1; fill:none\" points=\"\n",
       "  169.121,1205.8 2112.76,1205.8 \n",
       "  \"/>\n",
       "<polyline clip-path=\"url(#clip532)\" style=\"stroke:#000000; stroke-linecap:butt; stroke-linejoin:round; stroke-width:2; stroke-opacity:0.1; fill:none\" points=\"\n",
       "  169.121,917.962 2112.76,917.962 \n",
       "  \"/>\n",
       "<polyline clip-path=\"url(#clip532)\" style=\"stroke:#000000; stroke-linecap:butt; stroke-linejoin:round; stroke-width:2; stroke-opacity:0.1; fill:none\" points=\"\n",
       "  169.121,630.122 2112.76,630.122 \n",
       "  \"/>\n",
       "<polyline clip-path=\"url(#clip532)\" style=\"stroke:#000000; stroke-linecap:butt; stroke-linejoin:round; stroke-width:2; stroke-opacity:0.1; fill:none\" points=\"\n",
       "  169.121,342.281 2112.76,342.281 \n",
       "  \"/>\n",
       "<polyline clip-path=\"url(#clip532)\" style=\"stroke:#000000; stroke-linecap:butt; stroke-linejoin:round; stroke-width:2; stroke-opacity:0.1; fill:none\" points=\"\n",
       "  169.121,54.4401 2112.76,54.4401 \n",
       "  \"/>\n",
       "<polyline clip-path=\"url(#clip530)\" style=\"stroke:#000000; stroke-linecap:butt; stroke-linejoin:round; stroke-width:4; stroke-opacity:1; fill:none\" points=\"\n",
       "  169.121,1486.45 169.121,47.2441 \n",
       "  \"/>\n",
       "<polyline clip-path=\"url(#clip530)\" style=\"stroke:#000000; stroke-linecap:butt; stroke-linejoin:round; stroke-width:4; stroke-opacity:1; fill:none\" points=\"\n",
       "  169.121,1205.8 192.445,1205.8 \n",
       "  \"/>\n",
       "<polyline clip-path=\"url(#clip530)\" style=\"stroke:#000000; stroke-linecap:butt; stroke-linejoin:round; stroke-width:4; stroke-opacity:1; fill:none\" points=\"\n",
       "  169.121,917.962 192.445,917.962 \n",
       "  \"/>\n",
       "<polyline clip-path=\"url(#clip530)\" style=\"stroke:#000000; stroke-linecap:butt; stroke-linejoin:round; stroke-width:4; stroke-opacity:1; fill:none\" points=\"\n",
       "  169.121,630.122 192.445,630.122 \n",
       "  \"/>\n",
       "<polyline clip-path=\"url(#clip530)\" style=\"stroke:#000000; stroke-linecap:butt; stroke-linejoin:round; stroke-width:4; stroke-opacity:1; fill:none\" points=\"\n",
       "  169.121,342.281 192.445,342.281 \n",
       "  \"/>\n",
       "<polyline clip-path=\"url(#clip530)\" style=\"stroke:#000000; stroke-linecap:butt; stroke-linejoin:round; stroke-width:4; stroke-opacity:1; fill:none\" points=\"\n",
       "  169.121,54.4401 192.445,54.4401 \n",
       "  \"/>\n",
       "<path clip-path=\"url(#clip530)\" d=\"M85.0429 1219.15 L101.362 1219.15 L101.362 1223.08 L79.4179 1223.08 L79.4179 1219.15 Q82.0799 1216.39 86.6632 1211.76 Q91.2697 1207.11 92.4502 1205.77 Q94.6956 1203.25 95.5752 1201.51 Q96.478 1199.75 96.478 1198.06 Q96.478 1195.31 94.5336 1193.57 Q92.6123 1191.83 89.5104 1191.83 Q87.3114 1191.83 84.8577 1192.6 Q82.4271 1193.36 79.6494 1194.91 L79.6494 1190.19 Q82.4734 1189.06 84.9271 1188.48 Q87.3808 1187.9 89.4178 1187.9 Q94.7882 1187.9 97.9826 1190.58 Q101.177 1193.27 101.177 1197.76 Q101.177 1199.89 100.367 1201.81 Q99.5798 1203.71 97.4734 1206.3 Q96.8947 1206.97 93.7928 1210.19 Q90.691 1213.38 85.0429 1219.15 Z\" fill=\"#000000\" fill-rule=\"evenodd\" fill-opacity=\"1\" /><path clip-path=\"url(#clip530)\" d=\"M121.177 1191.6 Q117.566 1191.6 115.737 1195.17 Q113.932 1198.71 113.932 1205.84 Q113.932 1212.94 115.737 1216.51 Q117.566 1220.05 121.177 1220.05 Q124.811 1220.05 126.617 1216.51 Q128.445 1212.94 128.445 1205.84 Q128.445 1198.71 126.617 1195.17 Q124.811 1191.6 121.177 1191.6 M121.177 1187.9 Q126.987 1187.9 130.043 1192.5 Q133.121 1197.09 133.121 1205.84 Q133.121 1214.56 130.043 1219.17 Q126.987 1223.75 121.177 1223.75 Q115.367 1223.75 112.288 1219.17 Q109.233 1214.56 109.233 1205.84 Q109.233 1197.09 112.288 1192.5 Q115.367 1187.9 121.177 1187.9 Z\" fill=\"#000000\" fill-rule=\"evenodd\" fill-opacity=\"1\" /><path clip-path=\"url(#clip530)\" d=\"M93.8623 904.756 L82.0568 923.205 L93.8623 923.205 L93.8623 904.756 M92.6354 900.682 L98.515 900.682 L98.515 923.205 L103.446 923.205 L103.446 927.094 L98.515 927.094 L98.515 935.242 L93.8623 935.242 L93.8623 927.094 L78.2605 927.094 L78.2605 922.58 L92.6354 900.682 Z\" fill=\"#000000\" fill-rule=\"evenodd\" fill-opacity=\"1\" /><path clip-path=\"url(#clip530)\" d=\"M121.177 903.761 Q117.566 903.761 115.737 907.326 Q113.932 910.868 113.932 917.997 Q113.932 925.104 115.737 928.668 Q117.566 932.21 121.177 932.21 Q124.811 932.21 126.617 928.668 Q128.445 925.104 128.445 917.997 Q128.445 910.868 126.617 907.326 Q124.811 903.761 121.177 903.761 M121.177 900.057 Q126.987 900.057 130.043 904.664 Q133.121 909.247 133.121 917.997 Q133.121 926.724 130.043 931.33 Q126.987 935.914 121.177 935.914 Q115.367 935.914 112.288 931.33 Q109.233 926.724 109.233 917.997 Q109.233 909.247 112.288 904.664 Q115.367 900.057 121.177 900.057 Z\" fill=\"#000000\" fill-rule=\"evenodd\" fill-opacity=\"1\" /><path clip-path=\"url(#clip530)\" d=\"M91.5938 628.258 Q88.4456 628.258 86.5938 630.411 Q84.7651 632.564 84.7651 636.314 Q84.7651 640.041 86.5938 642.216 Q88.4456 644.369 91.5938 644.369 Q94.7419 644.369 96.5706 642.216 Q98.4224 640.041 98.4224 636.314 Q98.4224 632.564 96.5706 630.411 Q94.7419 628.258 91.5938 628.258 M100.876 613.606 L100.876 617.865 Q99.1169 617.031 97.3113 616.592 Q95.5289 616.152 93.7697 616.152 Q89.1401 616.152 86.6864 619.277 Q84.2558 622.402 83.9086 628.721 Q85.2743 626.707 87.3345 625.642 Q89.3947 624.555 91.8715 624.555 Q97.0798 624.555 100.089 627.726 Q103.121 630.874 103.121 636.314 Q103.121 641.638 99.9733 644.855 Q96.8252 648.073 91.5938 648.073 Q85.5984 648.073 82.4271 643.49 Q79.2559 638.883 79.2559 630.156 Q79.2559 621.962 83.1447 617.101 Q87.0336 612.217 93.5845 612.217 Q95.3437 612.217 97.1261 612.564 Q98.9317 612.911 100.876 613.606 Z\" fill=\"#000000\" fill-rule=\"evenodd\" fill-opacity=\"1\" /><path clip-path=\"url(#clip530)\" d=\"M121.177 615.92 Q117.566 615.92 115.737 619.485 Q113.932 623.027 113.932 630.156 Q113.932 637.263 115.737 640.828 Q117.566 644.369 121.177 644.369 Q124.811 644.369 126.617 640.828 Q128.445 637.263 128.445 630.156 Q128.445 623.027 126.617 619.485 Q124.811 615.92 121.177 615.92 M121.177 612.217 Q126.987 612.217 130.043 616.823 Q133.121 621.406 133.121 630.156 Q133.121 638.883 130.043 643.49 Q126.987 648.073 121.177 648.073 Q115.367 648.073 112.288 643.49 Q109.233 638.883 109.233 630.156 Q109.233 621.406 112.288 616.823 Q115.367 612.217 121.177 612.217 Z\" fill=\"#000000\" fill-rule=\"evenodd\" fill-opacity=\"1\" /><path clip-path=\"url(#clip530)\" d=\"M91.0151 343.149 Q87.6817 343.149 85.7605 344.931 Q83.8623 346.714 83.8623 349.839 Q83.8623 352.964 85.7605 354.746 Q87.6817 356.528 91.0151 356.528 Q94.3484 356.528 96.2697 354.746 Q98.1909 352.941 98.1909 349.839 Q98.1909 346.714 96.2697 344.931 Q94.3715 343.149 91.0151 343.149 M86.3392 341.158 Q83.3299 340.417 81.6401 338.357 Q79.9735 336.297 79.9735 333.334 Q79.9735 329.191 82.9133 326.783 Q85.8762 324.376 91.0151 324.376 Q96.1771 324.376 99.1169 326.783 Q102.057 329.191 102.057 333.334 Q102.057 336.297 100.367 338.357 Q98.7002 340.417 95.7141 341.158 Q99.0937 341.945 100.969 344.237 Q102.867 346.529 102.867 349.839 Q102.867 354.862 99.7882 357.547 Q96.7326 360.232 91.0151 360.232 Q85.2975 360.232 82.2188 357.547 Q79.1633 354.862 79.1633 349.839 Q79.1633 346.529 81.0614 344.237 Q82.9595 341.945 86.3392 341.158 M84.6262 333.774 Q84.6262 336.459 86.2929 337.964 Q87.9827 339.468 91.0151 339.468 Q94.0243 339.468 95.7141 337.964 Q97.4271 336.459 97.4271 333.774 Q97.4271 331.089 95.7141 329.584 Q94.0243 328.08 91.0151 328.08 Q87.9827 328.08 86.2929 329.584 Q84.6262 331.089 84.6262 333.774 Z\" fill=\"#000000\" fill-rule=\"evenodd\" fill-opacity=\"1\" /><path clip-path=\"url(#clip530)\" d=\"M121.177 328.08 Q117.566 328.08 115.737 331.644 Q113.932 335.186 113.932 342.316 Q113.932 349.422 115.737 352.987 Q117.566 356.528 121.177 356.528 Q124.811 356.528 126.617 352.987 Q128.445 349.422 128.445 342.316 Q128.445 335.186 126.617 331.644 Q124.811 328.08 121.177 328.08 M121.177 324.376 Q126.987 324.376 130.043 328.982 Q133.121 333.566 133.121 342.316 Q133.121 351.042 130.043 355.649 Q126.987 360.232 121.177 360.232 Q115.367 360.232 112.288 355.649 Q109.233 351.042 109.233 342.316 Q109.233 333.566 112.288 328.982 Q115.367 324.376 121.177 324.376 Z\" fill=\"#000000\" fill-rule=\"evenodd\" fill-opacity=\"1\" /><path clip-path=\"url(#clip530)\" d=\"M51.6634 67.7849 L59.3023 67.7849 L59.3023 41.4193 L50.9921 43.086 L50.9921 38.8268 L59.256 37.1601 L63.9319 37.1601 L63.9319 67.7849 L71.5707 67.7849 L71.5707 71.7201 L51.6634 71.7201 L51.6634 67.7849 Z\" fill=\"#000000\" fill-rule=\"evenodd\" fill-opacity=\"1\" /><path clip-path=\"url(#clip530)\" d=\"M91.0151 40.2388 Q87.404 40.2388 85.5753 43.8036 Q83.7697 47.3452 83.7697 54.4748 Q83.7697 61.5813 85.5753 65.1461 Q87.404 68.6877 91.0151 68.6877 Q94.6493 68.6877 96.4548 65.1461 Q98.2835 61.5813 98.2835 54.4748 Q98.2835 47.3452 96.4548 43.8036 Q94.6493 40.2388 91.0151 40.2388 M91.0151 36.5351 Q96.8252 36.5351 99.8808 41.1416 Q102.959 45.7249 102.959 54.4748 Q102.959 63.2016 99.8808 67.8081 Q96.8252 72.3914 91.0151 72.3914 Q85.2049 72.3914 82.1262 67.8081 Q79.0707 63.2016 79.0707 54.4748 Q79.0707 45.7249 82.1262 41.1416 Q85.2049 36.5351 91.0151 36.5351 Z\" fill=\"#000000\" fill-rule=\"evenodd\" fill-opacity=\"1\" /><path clip-path=\"url(#clip530)\" d=\"M121.177 40.2388 Q117.566 40.2388 115.737 43.8036 Q113.932 47.3452 113.932 54.4748 Q113.932 61.5813 115.737 65.1461 Q117.566 68.6877 121.177 68.6877 Q124.811 68.6877 126.617 65.1461 Q128.445 61.5813 128.445 54.4748 Q128.445 47.3452 126.617 43.8036 Q124.811 40.2388 121.177 40.2388 M121.177 36.5351 Q126.987 36.5351 130.043 41.1416 Q133.121 45.7249 133.121 54.4748 Q133.121 63.2016 130.043 67.8081 Q126.987 72.3914 121.177 72.3914 Q115.367 72.3914 112.288 67.8081 Q109.233 63.2016 109.233 54.4748 Q109.233 45.7249 112.288 41.1416 Q115.367 36.5351 121.177 36.5351 Z\" fill=\"#000000\" fill-rule=\"evenodd\" fill-opacity=\"1\" /><g clip-path=\"url(#clip532)\">\n",
       "<image width=\"1944\" height=\"1439\" xlink:href=\"data:image/png;base64,\n",
       "iVBORw0KGgoAAAANSUhEUgAAB5gAAAWfCAYAAAB+xCq9AAAgAElEQVR4nOzbW3LcSJYEUA8A+WDt\n",
       "f63TXUVmYj702yW7M+aSUK1zFuB2AwgEaPTESo4z/J+tXz3Ad117uusqXrdL34JLD1d21bVeda7f\n",
       "zVVff+25inlnd7bzsvcAAAAAAIC/s/3qAQAAAAAAAAD4Z1AwAwAAAAAAADCiYAYAAAAAAABgRMEM\n",
       "AAAAAAAAwIiCGQAAAAAAAIARBTMAAAAAAAAAIwpmAAAAAAAAAEYUzAAAAAAAAACMKJgBAAAAAAAA\n",
       "GFEwAwAAAAAAADCiYAYAAAAAAABgRMEMAAAAAAAAwIiCGQAAAAAAAIARBTMAAAAAAAAAI8evHuBn\n",
       "Wr96gO+69nSXtK58zcz2/3Pd2daFZ+u68jrPcl5vrWd9tqv6XdYJAAAAAMDf8QUzAAAAAAAAACMK\n",
       "ZgAAAAAAAABGFMwAAAAAAAAAjCiYAQAAAAAAABhRMAMAAAAAAAAwomAGAAAAAAAAYETBDAAAAAAA\n",
       "AMCIghkAAAAAAACAEQUzAAAAAAAAACMKZgAAAAAAAABGFMwAAAAAAAAAjCiYAQAAAAAAABhRMAMA\n",
       "AAAAAAAwcvzqAb5n/eoBvuva03UV13rpy9Yc7soLbc/Wy+tftebe/Z3u6VWdv3qAv7XO3mxn3rWs\n",
       "uvZzULxuAAAAAAD8HL5gBgAAAAAAAGBEwQwAAAAAAADAiIIZAAAAAAAAgBEFMwAAAAAAAAAjCmYA\n",
       "AAAAAAAARhTMAAAAAAAAAIwomAEAAAAAAAAYUTADAAAAAAAAMKJgBgAAAAAAAGBEwQwAAAAAAADA\n",
       "iIIZAAAAAAAAgBEFMwAAAAAAAAAjCmYAAAAAAAAARhTMAAAAAAAAAIwc7cB14bTfR/m6VeOufE+b\n",
       "s7XX2ctbV74H67rX7be5B7+RM2cvbPWyilFJkjPvbiAAAAAAAL81XzADAAAAAAAAMKJgBgAAAAAA\n",
       "AGBEwQwAAAAAAADAiIIZAAAAAAAAgBEFMwAAAAAAAAAjCmYAAAAAAAAARhTMAAAAAAAAAIwomAEA\n",
       "AAAAAAAYUTADAAAAAAAAMKJgBgAAAAAAAGBEwQwAAAAAAADAiIIZAAAAAAAAgBEFMwAAAAAAAAAj\n",
       "x6pH9hN/C+vK16052++xzlVfZzFvtX9X8rtct+s+B1dOazpzVvNWM+/sZZ3lW7Cay8y7FwYAAAAA\n",
       "wD+SL5gBAAAAAAAAGFEwAwAAAAAAADCiYAYAAAAAAABgRMEMAAAAAAAAwIiCGQAAAAAAAIARBTMA\n",
       "AAAAAAAAIwpmAAAAAAAAAEYUzAAAAAAAAACMKJgBAAAAAAAAGFEwAwAAAAAAADCiYAYAAAAAAABg\n",
       "RMEMAAAAAAAAwIiCGQAAAAAAAICR41cP8I+11q+e4DvaszXzelnryuus74/eb0Gufd26v3nprvW6\n",
       "+6N/T6+pvcrzfPfC1tnLKkYlydm8cNWw7j0tXzYAAAAAAP6GL5gBAAAAAAAAGFEwAwAAAAAAADCi\n",
       "YAYAAAAAAABgRMEMAAAAAAAAwIiCGQAAAAAAAIARBTMAAAAAAAAAIwpmAAAAAAAAAEYUzAAAAAAA\n",
       "AACMKJgBAAAAAAAAGFEwAwAAAAAAADCiYAYAAAAAAABgRMEMAAAAAAAAwIiCGQAAAAAAAIARBTMA\n",
       "AAAAAAAAI0eyfvUMP8+68lqbs7XX2ctbV17n6v3eorvOpPpbkOI6k/Zay7NV11p8Dupn0YWfq6qz\n",
       "mraKeWdetay6s7nO9u/Smvutuz8AAAAAAPjPfMEMAAAAAAAAwIiCGQAAAAAAAIARBTMAAAAAAAAA\n",
       "IwpmAAAAAAAAAEYUzAAAAAAAAACMKJgBAAAAAAAAGFEwAwAAAAAAADCiYAYAAAAAAABgRMEMAAAA\n",
       "AAAAwIiCGQAAAAAAAIARBTMAAAAAAAAAIwpmAAAAAAAAAEYUzAAAAAAAAACMHL96gO9a61dP8B3t\n",
       "2Zp53dlWM281f9PQXmdxtuo6y7OVf1eyimvtrrM7W/O6rfrZ1surPu9lZ85y4ruYdN0zvHnd1vlV\n",
       "y0pSv6MAAAAAAPx4vmAGAAAAAAAAYETBDAAAAAAAAMCIghkAAAAAAACAEQUzAAAAAAAAACMKZgAA\n",
       "AAAAAABGFMwAAAAAAAAAjCiYAQAAAAAAABhRMAMAAAAAAAAwomAGAAAAAAAAYETBDAAAAAAAAMCI\n",
       "ghkAAAAAAACAEQUzAAAAAAAAACMKZgAAAAAAAABGFMwAAAAAAAAAjBz9yNWPrGnO1l5nL2+1Z1vN\n",
       "3yH0slb79xHFdbZnW9XZ9lpWUp5tlWdr7rcL74/q+bGue4af59nNW+9i2Fct6l0+w9fZW+dZfR8k\n",
       "6d5SAAAAAAB+Al8wAwAAAAAAADCiYAYAAAAAAABgRMEMAAAAAAAAwIiCGQAAAAAAAIARBTMAAAAA\n",
       "AAAAIwpmAAAAAAAAAEYUzAAAAAAAAACMKJgBAAAAAAAAGFEwAwAAAAAAADCiYAYAAAAAAABgRMEM\n",
       "AAAAAAAAwIiCGQAAAAAAAIARBTMAAAAAAAAAI0eyuonVuPJs1bzubKuZt9q/G+jlrWZWfZ17Lak9\n",
       "21rF2YrrTJKtOVsxKynPduX9UTw/qmdR2bnOat77fNWyqmdb/b3cW+d5dvfuWV1rd38AAAAAAPCf\n",
       "+YIZAAAAAAAAgBEFMwAAAAAAAAAjCmYAAAAAAAAARhTMAAAAAAAAAIwomAEAAAAAAAAYUTADAAAA\n",
       "AAAAMKJgBgAAAAAAAGBEwQwAAAAAAADAiIIZAAAAAAAAgBEFMwAAAAAAAAAjCmYAAAAAAAAARhTM\n",
       "AAAAAAAAAIwomAEAAAAAAAAYObLakc3A9nC9vNWebTW7/u7vBlYxb1XXuRezkrV6eVsxK0nWOmpZ\n",
       "7dm25mz1e3rN69Z8ppLuc1U/24rOnNW89/kqZn3Wsr7etagkyXt99cLK50d1u3W3BwAAAAAAf8MX\n",
       "zAAAAAAAAACMKJgBAAAAAAAAGFEwAwAAAAAAADCiYAYAAAAAAABgRMEMAAAAAAAAwIiCGQAAAAAA\n",
       "AIARBTMAAAAAAAAAIwpmAAAAAAAAAEYUzAAAAAAAAACMKJgBAAAAAAAAGFEwAwAAAAAAADCiYAYA\n",
       "AAAAAABgRMEMAAAAAAAAwIiCGQAAAAAAAICRI1m/eoafZjXXutrdfC9vlX83sJprXXstaksvK0nW\n",
       "OmpZWzGrnfc7zbY3Z0svaxWfg6T7LFTPySRnNetdTEve+aplvcr3tKm5zvVur/P3+RsEAAAAAOC/\n",
       "hS+YAQAAAAAAABhRMAMAAAAAAAAwomAGAAAAAAAAYETBDAAAAAAAAMCIghkAAAAAAACAEQUzAAAA\n",
       "AAAAACMKZgAAAAAAAABGFMwAAAAAAAAAjCiYAQAAAAAAABhRMAMAAAAAAAAwomAGAAAAAAAAYETB\n",
       "DAAAAAAAAMCIghkAAAAAAACAkaMfuS6a1c7rzraKeWu1fzew15K2YtZa3e27FfO2datlJcnenG1r\n",
       "z9bL23Pd2bbibHvxOUiS1Xyu6uduz5l3Ne+1vmpZX/mzlpV19rKSvNZnLetrdfcuAAAAAAD/PL5g\n",
       "BgAAAAAAAGBEwQwAAAAAAADAiIIZAAAAAAAAgBEFMwAAAAAAAAAjCmYAAAAAAAAARhTMAAAAAAAA\n",
       "AIwomAEAAAAAAAAYUTADAAAAAAAAMKJgBgAAAAAAAGBEwQwAAAAAAADAiIIZAAAAAAAAgBEFMwAA\n",
       "AAAAAAAjCmYAAAAAAAAARhTMAAAAAAAAAIwcySpH9vJWu/9evbz+bHsxrJmVrOJsax21rK2Y9S3v\n",
       "Vsvat15WkuzrfsmsJDmas6V73Y5cc7a9/IxuZ/EZrf/u6OwlrV5Wknzls5a1Fe/puZXXef5Vy2qf\n",
       "u/2/QQAAAAAA+NF8wQwAAAAAAADAiIIZAAAAAAAAgBEFMwAAAAAAAAAjCmYAAAAAAAAARhTMAAAA\n",
       "AAAAAIwomAEAAAAAAAAYUTADAAAAAAAAMKJgBgAAAAAAAGBEwQwAAAAAAADAiIIZAAAAAAAAgBEF\n",
       "MwAAAAAAAAAjCmYAAAAAAAAARhTMAAAAAAAAAIwcyaoGrmbe6s5WXevqdvOr2PWv8mzb2otZRzHr\n",
       "VstKkn3r5e3rUctKkmPdi1nl2dLLu6W3ziQ5innHWdwfZ++ZSpI9vbzqGV72Pt/VvFfxDGmek2e6\n",
       "6/za/qxlNc/wpPvuO2tJAAAAAAB8jy+YAQAAAAAAABhRMAMAAAAAAAAwomAGAAAAAAAAYETBDAAA\n",
       "AAAAAMCIghkAAAAAAACAEQUzAAAAAAAAACMKZgAAAAAAAABGFMwAAAAAAAAAjCiYAQAAAAAAABhR\n",
       "MAMAAAAAAAAwomAGAAAAAAAAYETBDAAAAAAAAMCIghkAAAAAAACAkaMfuS6alaxin97MSpK1irOt\n",
       "vZb1La+3TbZi1r7dallJsq97LesoZiXJbT1rWUcetawkuac32+0sX7di3q14XB5n9xndq2db99xt\n",
       "eues5n3lVcvazt49OLd3LStJPte/a1nb6p677fc8AAAAAAA/ni+YAQAAAAAAABhRMAMAAAAAAAAw\n",
       "omAGAAAAAAAAYETBDAAAAAAAAMCIghkAAAAAAACAEQUzAAAAAAAAACMKZgAAAAAAAABGFMwAAAAA\n",
       "AAAAjCiYAQAAAAAAABhRMAMAAAAAAAAwomAGAAAAAAAAYETBDAAAAAAAAMCIghkAAAAAAACAEQUz\n",
       "AAAAAAAAACPHyuomrl7eavffq5jXzEqysteytnXUstp527rVsvZ1r2UlybEetazbetaykuSWXt69\n",
       "mJUk97M429m9p/ezt3dvKWaVz4+9eI7X3wlF75zVvM+zeO4Wr9vrfNeykuTP4nm0b70zPEn3Xdrd\n",
       "HgAAAAAA/A1fMAMAAAAAAAAwomAGAAAAAAAAYETBDAAAAAAAAMCIghkAAAAAAACAEQUzAAAAAAAA\n",
       "ACMKZgAAAAAAAABGFMwAAAAAAAAAjCiYAQAAAAAAABhRMAMAAAAAAAAwomAGAAAAAAAAYETBDAAA\n",
       "AAAAAMCIghkAAAAAAACAEQUzAAAAAAAAACNHssqRzc6623+vYt7KXstKkrV6ee3ZtnXUsvZ1K2bd\n",
       "a1lJcqxHLeuWZy0rSe75qGU9zu5sj7N3Hx5nb38kyb24d++rd37cillJsq/eOX7lXx29y3l/vXuJ\n",
       "29m7B6+zu9J/r9750T53m+9lAAAAAAB+Dv/ZBQAAAAAAAGBEwQwAAAAAAADAiIIZAAAAAAAAgBEF\n",
       "MwAAAAAAAAAjCmYAAAAAAAAARhTMAAAAAAAAAIwomAEAAAAAAAAYUTADAAAAAAAAMKJgBgAAAAAA\n",
       "AGBEwQwAAAAAAADAiIIZAAAAAAAAgBEFMwAAAAAAAAAjCmYAAAAAAAAARhTMAAAAAAAAAIwcWd2O\n",
       "eWX1slYv61teb63NrG95ey1rW0ctK0n2dbtk1rHutawkueVRzHrWspLkcfZmexazkuRx9u7ps7x3\n",
       "H8Xn6r71zqNbMStJjuJZWR6t6nV2827N6/buZb1e3bPtf86PWtaxuudHis8oAAAAAAA/hy+YAQAA\n",
       "AAAAABhRMAMAAAAAAAAwomAGAAAAAAAAYETBDAAAAAAAAMCIghkAAAAAAACAEQUzAAAAAAAAACMK\n",
       "ZgAAAAAAAABGFMwAAAAAAAAAjCiYAQAAAAAAABhRMAMAAAAAAAAwomAGAAAAAAAAYETBDAAAAAAA\n",
       "AMCIghkAAAAAAACAkSNZ5chmZ93uv3t5K3stK0m21cvb1lHL+pZ3q2Xt617LOvKoZSXJrZh3P7uz\n",
       "PYp5j7N3P5Pko7jfnlv3uXpsvWf+sffOylv5aGvmXflXR6+zm/fXu3dP16t35b7O7hn+LJ4fx9Y9\n",
       "29rvUgAAAAAAfrwrdwkAAAAAAAAAXIiCGQAAAAAAAIARBTMAAAAAAAAAIwpmAAAAAAAAAEYUzAAA\n",
       "AAAAAACMKJgBAAAAAAAAGFEwAwAAAAAAADCiYAYAAAAAAABgRMEMAAAAAAAAwIiCGQAAAAAAAIAR\n",
       "BTMAAAAAAAAAIwpmAAAAAAAAAEYUzAAAAAAAAACMHCurGrhWL2+tbv/dzNvWXsv6lnfUsvZiVjvv\n",
       "WPdeVnpZSXI7H7Wsx9md7XHealnP8v54br1n4WPvPvPPvXcePYqP/L38055bMW/rvhKqb5jXWQxL\n",
       "8uerl9V8l36+u++X51fvPLrlWctK+u9SAAAAAAB+PF8wAwAAAAAAADCiYAYAAAAAAABgRMEMAAAA\n",
       "AAAAwIiCGQAAAAAAAIARBTMAAAAAAAAAIwpmAAAAAAAAAEYUzAAAAAAAAACMKJgBAAAAAAAAGFEw\n",
       "AwAAAAAAADCiYAYAAAAAAABgRMEMAAAAAAAAwIiCGQAAAAAAAIARBTMAAAAAAAAAIwpmAAAAAAAA\n",
       "AEaOZJUjm511t/9e2XtZq5eVJFtxtm0dtawk2XO/ZNYtj1pWktzPXt797K0zSR7Fe/rcunv3ufee\n",
       "04+9ex49i4/Cs3jZHuWf9ty2s5ZVvgVJerO9zu5wx6ovtuKvd3eDPF+3WtY9z1pWkqzy+woAAAAA\n",
       "gB/PF8wAAAAAAAAAjCiYAQAAAAAAABhRMAMAAAAAAAAwomAGAAAAAAAAYETBDAAAAAAAAMCIghkA\n",
       "AAAAAACAEQUzAAAAAAAAACMKZgAAAAAAAABGFMwAAAAAAAAAjCiYAQAAAAAAABhRMAMAAAAAAAAw\n",
       "omAGAAAAAAAAYETBDAAAAAAAAMDIkbW6icW8tbr9dzNvq8921LK2datlJclezDtyr2Xdzl5WktzT\n",
       "W+cjvfuZJI+197K27t792HvP/Ef3suWjd9nysZ+1rEcxK0nuWy9vX93Zml5n9311q77/es/VX+9a\n",
       "VJLk+dV7EO7ns5aV9N9XAAAAAAD8eL5gBgAAAAAAAGBEwQwAAAAAAADAiIIZAAAAAAAAgBEFMwAA\n",
       "AAAAAAAjCmYAAAAAAAAARhTMAAAAAAAAAIwomAEAAAAAAAAYUTADAAAAAAAAMKJgBgAAAAAAAGBE\n",
       "wQwAAAAAAADAiIIZAAAAAAAAgBEFMwAAAAAAAAAjCmYAAAAAAAAARo5V7pibefXZVnO2vZaVJNvq\n",
       "5e05alnf8m61rKOYdTt7Wd/yetftXryfSfLYenv3ua9a1re8XtZH97Llj+OsZX3s71rWs5iVJPet\n",
       "t85j9bK+6eW9zu474Sg+V82r9u9Xd53P4jofX/daVpLsW/ccBwAAAADgx/MFMwAAAAAAAAAjCmYA\n",
       "AAAAAAAARhTMAAAAAAAAAIwomAEAAAAAAAAYUTADAAAAAAAAMKJgBgAAAAAAAGBEwQwAAAAAAADA\n",
       "iIIZAAAAAAAAgBEFMwAAAAAAAAAjCmYAAAAAAAAARhTMAAAAAAAAAIwomAEAAAAAAAAYUTADAAAA\n",
       "AAAAMKJgBgAAAAAAAGDkSFY5spe3Vne2LXsta61eVpJs67hkVpIcudWybmcxK9113ov74751f7tx\n",
       "33rPwqO7dfMs5j33sxeW5I/93cs6elnP/VXLSpLH1pvtKGa1vc7uO+F49Tbv++ydR/96dc+Pj714\n",
       "fnzea1lJsq9uHgAAAAAAP54vmAEAAAAAAAAYUTADAAAAAAAAMKJgBgAAAAAAAGBEwQwAAAAAAADA\n",
       "iIIZAAAAAAAAgBEFMwAAAAAAAAAjCmYAAAAAAAAARhTMAAAAAAAAAIwomAEAAAAAAAAYUTADAAAA\n",
       "AAAAMKJgBgAAAAAAAGBEwQwAAAAAAADAiIIZAAAAAAAAgJEjWdXAtZqddbf/bs62Za9ltfP2HLWs\n",
       "dt5xNrO69+BW3B/31X2uHnsv71H+WcmzeBs+9rMXluRjfxezXrWsP46vWlaSPLbebMfWu2ZJ0nwU\n",
       "vt7d52pfvf32Onuz/eur+5A+917eY3XfL0ce1TwAAAAAAH48XzADAAAAAAAAMKJgBgAAAAAAAGBE\n",
       "wQwAAAAAAADAiIIZAAAAAAAAgBEFMwAAAAAAAAAjCmYAAAAAAAAARhTMAAAAAAAAAIwomAEAAAAA\n",
       "AAAYUTADAAAAAAAAMKJgBgAAAAAAAGBEwQwAAAAAAADAiIIZAAAAAAAAgBEFMwAAAAAAAAAjCmYA\n",
       "AAAAAAAARo61VjVwpZe3yv13M2+tvZaVJFuOS2YlyX728vbibLd078Ft9fbHbes+V/fio/DoXrY8\n",
       "trOW9dzftaxvea9a1h/HVy3ro5iVJM+9l3ds3XuwVm9/vN7dd8JenO2rONvH0X1IP47ebM/Vfb8c\n",
       "eVbzAAAAAAD48XzBDAAAAAAAAMCIghkAAAAAAACAEQUzAAAAAAAAACMKZgAAAAAAAABGFMwAAAAA\n",
       "AAAAjCiYAQAAAAAAABhRMAMAAAAAAAAwomAGAAAAAAAAYETBDAAAAAAAAMCIghkAAAAAAACAEQUz\n",
       "AAAAAAAAACMKZgAAAAAAAABGFMwAAAAAAAAAjBzJKkf28tbqzrZWr0/fyt38Vp1tr2UlyV7MO5pZ\n",
       "xWvWzrtt3b17Ky71Xv5ZyWM/i1nvWlaSPIt5z/2rlvVxfNaykuR59Ga7ba9aVpKs1dsfr3f73O3N\n",
       "9lmc7Y+vo5aVJM/iK+Gxde/B7XxW8wAAAAAA+PF8wQwAAAAAAADAiIIZAAAAAAAAgBEFMwAAAAAA\n",
       "AAAjCmYAAAAAAAAARhTMAAAAAAAAAIwomAEAAAAAAAAYUTADAAAAAAAAMKJgBgAAAAAAAGBEwQwA\n",
       "AAAAAADAiIIZAAAAAAAAgBEFMwAAAAAAAAAjCmYAAAAAAAAARhTMAAAAAAAAAIwcyaoGrtXLW+X+\n",
       "u5m3Vnu2vZa1FbOSZC/m7Wfvuu3le3AU447uY5VbcbbbdvbCkty3dy3rUcxKkuf+6mUdX8Wsz1pW\n",
       "kjxvvbxb8ZolyVq9/fZ+l8/d4myfr945+VG+Bx97b53PrXu43V8f1TwAAAAAAH48XzADAAAAAAAA\n",
       "MKJgBgAAAAAAAGBEwQwAAAAAAADAiIIZAAAAAAAAgBEFMwAAAAAAAAAjCmYAAAAAAAAARhTMAAAA\n",
       "AAAAAIwomAEAAAAAAAAYUTADAAAAAAAAMKJgBgAAAAAAAGBEwQwAAAAAAADAiIIZAAAAAAAAgBEF\n",
       "MwAAAAAAAAAjCmYAAAAAAAAARo6VVY5s5nVna651lbv5rZi3Za9lJcl29vL24jr31d0fzbyj/NON\n",
       "o7jU2zp7YUluWy/vvr1rWUly31+1rEcz6/iqZX3L+6xl3cqzbcX99nq3fxPVm+2v11HLen5278Fz\n",
       "7z1Xj737fnl+fVTzAAAAAAD48XzBDAAAAAAAAMCIghkAAAAAAACAEQUzAAAAAAAAACMKZgAAAAAA\n",
       "AABGFMwAAAAAAAAAjCiYAQAAAAAAABhRMAMAAAAAAAAwomAGAAAAAAAAYETBDAAAAAAAAMCIghkA\n",
       "AAAAAACAEQUzAAAAAAAAACMKZgAAAAAAAABGFMwAAAAAAAAAjBxZ7che4Frl4Yp5q9zNN/O28mxb\n",
       "8Z5eNStJ9mJcMytJjmLesZ29sCTHeteyblsv61veq5e1f9Wy7kcvK0nut89a1q0821a8p+/3dX8T\n",
       "9fzq3YOP4l5LkmfxHjz3vZaVJM/zWcva1qOWlSTv889qHgAAAADAf4vr/rceAAAAAAAAgEtRMAMA\n",
       "AAAAAAAwomAGAAAAAAAAYETBDAAAAAAAAMCIghkAAAAAAACAEQUzAAAAAAAAACMKZgAAAAAAAABG\n",
       "FMwAAAAAAAAAjCiYAQAAAAAAABhRMAMAAAAAAAAwomAGAAAAAAAAYETBDAAAAAAAAMCIghkAAAAA\n",
       "AACAEQUzAAAAAAAAACNHsqqBq5p33dm660xWsetf54VnK163rbvMbOvKs521rL0827H1Zju2dy0r\n",
       "SW7bq5e1N7O+allJcjt6ebfbZy0rSbbi/ni/u5v3LJ6Vj8/edXsU72eSPPfec/Xca1Hf8s5HLWvb\n",
       "/qhlJcn79Wc1DwAAAADgv4UvmAEAAAAAAAAYUTADAAAAAAAAMKJgBgAAAAAAAGBEwQwAAAAAAADA\n",
       "iIIZAAAAAAAAgBEFMwAAAAAAAAAjCmYAAAAAAAAARhTMAAAAAAAAAIwomAEAAAAAAAAYUTADAAAA\n",
       "AAAAMKJgBgAAAAAAAGBEwQwAAAAAAADAiIIZAAAAAAAAgJHjVw/wPevSid3pVjGvmfUtr+d/2be3\n",
       "XknWg7zjz1tVvdbM7D375G1vzMFgCDe5zU0iriJFUW64ygdOpAgpCQIUggIKBwdkgg0+sU8za3VX\n",
       "VS6GW5zXyQOzsH+/D/DX213VXaN5ei2jV2v/OqL7Oouxcm8ZZy+WZC32mq0kWZfi2Zaj11r3Wqvd\n",
       "W7fy2Yrv23F2P1hnsXe53Gqt+7XXetPrXdNnay2VJHk+ev8Muazv1lpJctt/WO0BAAAAAPy08BfM\n",
       "AAAAAAAAAEwxMAMAAAAAAAAwxcAMAAAAAAAAwBQDMwAAAAAAAABTDMwAAAAAAAAATDEwAwAAAAAA\n",
       "ADDFwAwAAAAAAADAFAMzAAAAAAAAAFMMzAAAAAAAAABMMTADAAAAAAAAMMXADAAAAAAAAMAUAzMA\n",
       "AAAAAAAAUwzMAAAAAAAAAEzZ3vYBfrzxtg/w93vCR2sfbjzVFzvar/NptpLuS23/qqT6vo2zWEuW\n",
       "cTzN1tJrtXvrutdaSbIUe+PsfrLOo/dpuKy3WuuufA3ui71na/cz+nxZa6377b1aK0lePVZzAAAA\n",
       "AAA/NfwFMwAAAAAAAABTDMwAAAAAAAAATDEwAwAAAAAAADDFwAwAAAAAAADAFAMzAAAAAAAAAFMM\n",
       "zAAAAAAAAABMMTADAAAAAAAAMMXADAAAAAAAAMAUAzMAAAAAAAAAUwzMAAAAAAAAAEwxMAMAAAAA\n",
       "AAAwxcAMAAAAAAAAwBQDMwAAAAAAAABTDMwAAAAAAAAATNne9gGA/7vxtg/wYzTP9qRfZ/FwY5y9\n",
       "WJJlOWqtsTzds+Xs3iHHutda23artS7FVpLcF1/ns7V4PZO8WHu/c3ueD2qtJPlRtQYAAAAA8NPD\n",
       "XzADAAAAAAAAMMXADAAAAAAAAMAUAzMAAKK39fQAACAASURBVAAAAAAAUwzMAAAAAAAAAEwxMAMA\n",
       "AAAAAAAwxcAMAAAAAAAAwBQDMwAAAAAAAABTDMwAAAAAAAAATDEwAwAAAAAAADDFwAwAAAAAAADA\n",
       "FAMzAAAAAAAAAFMMzAAAAAAAAABMMTADAAAAAAAAMGV72wf48c63fYC/X/tooxnrHu7JXoUne7C+\n",
       "8wm/1id8NP4fjPIVHaPYa7aSLMtRa63rXmttxVaS3C293rPie5Ykz7e11np3/6DWAgAAAADg7+cv\n",
       "mAEAAAAAAACYYmAGAAAAAAAAYIqBGQAAAAAAAIApBmYAAAAAAAAAphiYAQAAAAAAAJhiYAYAAAAA\n",
       "AABgioEZAAAAAAAAgCkGZgAAAAAAAACmGJgBAAAAAAAAmGJgBgAAAAAAAGCKgRkAAAAAAACAKQZm\n",
       "AAAAAAAAAKYYmAEAAAAAAACYYmAGAAAAAAAAYMr2tg/w45xPutg93VnsNVvt3nk+5dfZc5Rv3urZ\n",
       "iq3kqb9vo9c6n2brH6L3ZJVf5lh6n4al2NqWvdZKkru117tfu98gL4r/Cnn56v1eLMkYa611nt1r\n",
       "CgAAAADwNvkLZgAAAAAAAACmGJgBAAAAAAAAmGJgBgAAAAAAAGCKgRkAAAAAAACAKQZmAAAAAAAA\n",
       "AKYYmAEAAAAAAACYYmAGAAAAAAAAYIqBGQAAAAAAAIApBmYAAAAAAAAAphiYAQAAAAAAAJhiYAYA\n",
       "AAAAAABgioEZAAAAAAAAgCkGZgAAAAAAAACmbMlZDZ7V3tM9W/d1JmeOXmuUz3b2ekfxfeu9Y3/X\n",
       "K75t/bONJ9lKkr16tu5vXvaj19uP4ussnitJzuY1KJ9tKZ5tlL/bmp+E5tnWpfsNcln3WutZsZUk\n",
       "L9Ze670878WS3G1frbUert+ptQAAAAAA3jZ/wQwAAAAAAADAFAMzAAAAAAAAAFMMzAAAAAAAAABM\n",
       "MTADAAAAAAAAMMXADAAAAAAAAMAUAzMAAAAAAAAAUwzMAAAAAAAAAEwxMAMAAAAAAAAwxcAMAAAA\n",
       "AAAAwBQDMwAAAAAAAABTDMwAAAAAAAAATDEwAwAAAAAAADDFwAwAAAAAAADAlC1nuTh6wfMsH67Y\n",
       "O8dRayXJWbwQZ7pnO4q9o/g6j/L9sRd7xzlqrSTZiy/11j7b0ev1z9b7Dc1+rE+ylST73usdxfes\n",
       "3VvK323Nb5BRfPYtS/d1bstea90XW0nyYuu9b++tl1orSV6Or9daD9fv1FoAAAAAAG+bv2AGAAAA\n",
       "AAAAYIqBGQAAAAAAAIApBmYAAAAAAAAAphiYAQAAAAAAAJhiYAYAAAAAAABgioEZAAAAAAAAgCkG\n",
       "ZgAAAAAAAACmGJgBAAAAAAAAmGJgBgAAAAAAAGCKgRkAAAAAAACAKQZmAAAAAAAAAKYYmAEAAAAA\n",
       "AACYYmAGAAAAAAAAYIqBGQAAAAAAAIAp25mzWzyLvdE9W/O1njlqrSQ5shdb5bONXu8o3h97815L\n",
       "shdzt+4lyO0Jn+169n6ncj26v3lp9q7HWmvdbr1Wktz2Xm8rn21ZijfcOXqtJGe112uN8rNvLV6D\n",
       "u7X3rEqSF2vvbC+37r374fXna63v5fdqLQAAAACAt81fMAMAAAAAAAAwxcAMAAAAAAAAwBQDMwAA\n",
       "AAAAAABTDMwAAAAAAAAATDEwAwAAAAAAADDFwAwAAAAAAADAFAMzAAAAAAAAAFMMzAAAAAAAAABM\n",
       "MTADAAAAAAAAMMXADAAAAAAAAMAUAzMAAAAAAAAAUwzMAAAAAAAAAEwxMAMAAAAAAAAwZUvOavAs\n",
       "9s4ctVa7d57ls41e78hea7V7e/Ea7OV7dz97vds5aq0kuRVvt/bZrkevdz26v3l5PNZa67o3W1ut\n",
       "lSS3W693W7vfH8tSfCaUz9Z0Fj9XY3S/29al9wVyV74Gz7de77273mc0Sb7y+iu11v/aPq61kuR6\n",
       "+161BwAAAADwk/AXzAAAAAAAAABMMTADAAAAAAAAMMXADAAAAAAAAMAUAzMAAAAAAAAAUwzMAAAA\n",
       "AAAAAEwxMAMAAAAAAAAwxcAMAAAAAAAAwBQDMwAAAAAAAABTDMwAAAAAAAAATDEwAwAAAAAAADDF\n",
       "wAwAAAAAAADAFAMzAAAAAAAAAFMMzAAAAAAAAABM2ZKznOz1zrN7tvM8aq1j9FpJcmR/kq0k2Yu9\n",
       "ffRat+L1fNPr3W+37tFyLfYej9GLlXuPe/c3L4/7Wms93LZa637ttZLkcr3UWuvSvXnH6H2utvLj\n",
       "ahQ/Ckf5c9W0Fp9Xl6X7fHm+9novyzfIx+vzWuuj5VdrrST57u171R4AAAAAwE/CXzADAAAAAAAA\n",
       "MMXADAAAAAAAAMAUAzMAAAAAAAAAUwzMAAAAAAAAAEwxMAMAAAAAAAAwxcAMAAAAAAAAwBQDMwAA\n",
       "AAAAAABTDMwAAAAAAAAATDEwAwAAAAAAADDFwAwAAAAAAADAFAMzAAAAAAAAAFMMzAAAAAAAAABM\n",
       "MTADAAAAAAAAMMXADAAAAAAAAMCU7TzPavAcvd6Zo9Zq985zr7WS5Cj29nGrtdq9W/F13sr3x7X4\n",
       "Wbge3c/V4zGKrVrq73q936k8FFtJ8rCvT7N122qtJNnWS621Lt0bZBSfCUnvc5AkYzSfCb2zNVtJ\n",
       "9xpc1u798XztPRNeXrpn++iu95n/ude/UmslyffWP6y19v2zWgsAAAAA+NngL5gBAAAAAAAAmGJg\n",
       "BgAAAAAAAGCKgRkAAAAAAACAKQZmAAAAAAAAAKYYmAEAAAAAAACYYmAGAAAAAAAAYIqBGQAAAAAA\n",
       "AIApBmYAAAAAAAAAphiYAQAAAAAAAJhiYAYAAAAAAABgioEZAAAAAAAAgCkGZgAAAAAAAACmGJgB\n",
       "AAAAAAAAmLIlZzV4nkcvNoqtdM92jr3WSpIzt1rrKLaS5Fbs3UaxdXavwa14f1zP7m83rseotR67\n",
       "b1selt7ZXi/d9+1+7fXu9q3Y6n63bbdeb126Zxuj94zpPq36r7XlPHufqaR7Dbal+wXybOs9E15u\n",
       "3bN9eL/WWl9/+KDWSpLvPP/ntdZ3P/8vtRYAAAAA8LPBXzADAAAAAAAAMMXADAAAAAAAAMAUAzMA\n",
       "AAAAAAAAUwzMAAAAAAAAAEwxMAMAAAAAAAAwxcAMAAAAAAAAwBQDMwAAAAAAAABTDMwAAAAAAAAA\n",
       "TDEwAwAAAAAAADDFwAwAAAAAAADAFAMzAAAAAAAAAFMMzAAAAAAAAABMMTADAAAAAAAAMMXADAAA\n",
       "AAAAAMCULTnLyV7vPLtnO8dRax1nr/Wmt9da+7jVWkmy51pr3Yqta/l1Xs+t1no8ur/deDxGrfVQ\n",
       "bL3pNVvd9+31vtZad0vvhV5uvXstSdbid9tSbCXJaD4TaqU3trX3vTtG8XWWPwdNa/FzkCT3a+97\n",
       "/N1L95nw4V3vc/rJs+5n/pe//PVa67P7v6q1vnz4i1oLAAAAAHi6nu7/YgMAAAAAAADwpBiYAQAA\n",
       "AAAAAJhiYAYAAAAAAABgioEZAAAAAAAAgCkGZgAAAAAAAACmGJgBAAAAAAAAmGJgBgAAAAAAAGCK\n",
       "gRkAAAAAAACAKQZmAAAAAAAAAKYYmAEAAAAAAACYYmAGAAAAAAAAYIqBGQAAAAAAAIApBmYAAAAA\n",
       "AAAApmxnjnKy12uf7Tj3WmsZvVbSPdtx3mqtJNnHtda6NVvptZLk8bzUWnfnWmslycPR+y3I3T5q\n",
       "rSR5XfyZyt3SPdtl6R3uMnrXdBtnrZUk6+h9Vy7lszWv6FmtJcfR+65cl/az9Glay/fH3dp79r3Y\n",
       "us++Dy693lef3dVaSfL59WWt9dn+L2qtP759VmslyW3/YbUHAAAAAHT4C2YAAAAAAAAAphiYAQAA\n",
       "AAAAAJhiYAYAAAAAAABgioEZAAAAAAAAgCkGZgAAAAAAAACmGJgBAAAAAAAAmGJgBgAAAAAAAGCK\n",
       "gRkAAAAAAACAKQZmAAAAAAAAAKYYmAEAAAAAAACYYmAGAAAAAAAAYIqBGQAAAAAAAIApBmYAAAAA\n",
       "AAAApmw5z3Ky1ztz1Frt3nHutVaSHOPWa529VpLs41pr3dJrXYutJLkWX+fjudZaSXI5er8FeThG\n",
       "rZUkl73Xe1X+ycs2emfbRu+arkv3e3cdl1pr6d4eGaP5TOg6z+L9sfaeCcvoPvuO4utsXs8kuSy9\n",
       "9+3F1n0mvHfX+8x/XPwOT5KHfau1Hj//Wq11e/4btVaSfOvVf6q1bvvf1loAAAAA8LPOXzADAAAA\n",
       "AAAAMMXADAAAAAAAAMAUAzMAAAAAAAAAUwzMAAAAAAAAAEwxMAMAAAAAAAAwxcAMAAAAAAAAwBQD\n",
       "MwAAAAAAAABTDMwAAAAAAAAATDEwAwAAAAAAADDFwAwAAAAAAADAFAMzAAAAAAAAAFMMzAAAAAAA\n",
       "AABMMTADAAAAAAAAMMXADAAAAAAAAMCULTnLyeOJtpKz2DvPvdZKkqPY28e11kqS5bzUWrfxWGtd\n",
       "R+9cSfKYXm87t1rrTa/3W5DLPmqtJNnG2muVf/Kyjd5r3Zbe4dbie/am1/seH8VWkoz6M6apd38c\n",
       "Z/Ne6z5fii+zfj2br/XZdqu1kuTl0Xte3Y7ul9tevN/O9L6Pxhe/WGslyfbsX9daf/b4n2utJHm4\n",
       "fqfaAwAAAIB/SvwFMwAAAAAAAABTDMwAAAAAAAAATDEwAwAAAAAAADDFwAwAAAAAAADAFAMzAAAA\n",
       "AAAAAFMMzAAAAAAAAABMMTADAAAAAAAAMMXADAAAAAAAAMAUAzMAAAAAAAAAUwzMAAAAAAAAAEwx\n",
       "MAMAAAAAAAAwxcAMAAAAAAAAwBQDMwAAAAAAAABTtjNnOVnsnUevlWRkr7XO0d3mj/NWbK21VpIc\n",
       "udZa+3istW651FpJci32HsdWayXJpXhNXx/de3c9Rq217d2zbb2jZRu92Fr+/lhH7/4ovmX9Xvtw\n",
       "RWfz0bd2X+i6NJ+l3X8zrEuvd7f2nqNJ8s6leR2613SM3vu2jrtaays/++6//Hqt9e75b2qtJPnT\n",
       "y3+rtX7w5X+vtQAAAADgH4O/YAYAAAAAAABgioEZAAAAAAAAgCkGZgAAAAAAAACmGJgBAAAAAAAA\n",
       "mGJgBgAAAAAAAGCKgRkAAAAAAACAKQZmAAAAAAAAAKYYmAEAAAAAAACYYmAGAAAAAAAAYIqBGQAA\n",
       "AAAAAIApBmYAAAAAAAAAphiYAQAAAAAAAJhiYAYAAAAAAABgioEZAAAAAAAAgClbcnaL59FrjdFr\n",
       "JTnTO9vRfJ1JRvZa6zh7rSTZc621lnOrtW7jodZKkuvonW1Nr5UkW9Zaaz27vyvZ9t7ndCt/5tdi\n",
       "bykebRnda9CslS9BltF7xoxiK0mqL7V4tPJTOZdia13Kz77iNb2s3Wdf82zL6L5va7F3V7ymz5a7\n",
       "WitJ3tl6d+97r96rtZLkK6/+Va31Z+/+Sq2VJH/x+Du11uvH/11rAQAAAPDTw18wAwAAAAAAADDF\n",
       "wAwAAAAAAADAFAMzAAAAAAAAAFMMzAAAAAAAAABMMTADAAAAAAAAMMXADAAAAAAAAMAUAzMAAAAA\n",
       "AAAAUwzMAAAAAAAAAEwxMAMAAAAAAAAwxcAMAAAAAAAAwBQDMwAAAAAAAABTDMwAAAAAAAAATDEw\n",
       "AwAAAAAAADBly3lWg+do9rpny3nUUiN7rZUkR3HrH+et1kq6Z9vPtda6pddKkmVstdZabCXJQ/G1\n",
       "rmf3dyXrOWqtZe+1kmQZvde6jOLr7L7M6tlG8T1LkiW9z0L5bSv3is+r8gtt5trXYF16z9J16T3j\n",
       "k2Qp9rbi60ySu7XXe7b1/s3wYrvWWkny8nJfa314d6m1kuTjZ73vtk9e/VKtlSS/dHxSa33r7tu1\n",
       "VpJ8++F3a63H61/XWgAAAAD8ZPwFMwAAAAAAAABTDMwAAAAAAAAATDEwAwAAAAAAADDFwAwAAAAA\n",
       "AADAFAMzAAAAAAAAAFMMzAAAAAAAAABMMTADAAAAAAAAMMXADAAAAAAAAMAUAzMAAAAAAAAAUwzM\n",
       "AAAAAAAAAEwxMAMAAAAAAAAwxcAMAAAAAAAAwBQDMwAAAAAAAABTtuQoJ0cvdZbPNnpnO+vv214r\n",
       "Heet1kqSvfg7hHFee62x1lpJsmSrtR6LrSRZ0nuta/l9W8/e/bEcxe+PJOve6y3F77b2L3uqZxvd\n",
       "0y3FS9r+zDfvtpGz1+p+DLKM3tmarSRZl96zdBnd5/Ky9J7LY+u+b/fFZ+nz46HWenfvPvvev76u\n",
       "tT663tdaSfLVx7ta6+ee9VpJ8osvLrXWr7z61VorSb59fqPW+tb9X9Vaf/H4u7VWkrx+/MtqDwAA\n",
       "AOCp8RfMAAAAAAAAAEwxMAMAAAAAAAAwxcAMAAAAAAAAwBQDMwAAAAAAAABTDMwAAAAAAAAATDEw\n",
       "AwAAAAAAADDFwAwAAAAAAADAFAMzAAAAAAAAAFMMzAAAAAAAAABMMTADAAAAAAAAMMXADAAAAAAA\n",
       "AMAUAzMAAAAAAAAAUwzMAAAAAAAAAEwxMAMAAAAAAAAwZTvLwXEetdY5Rq31Jtg7W9JsdXtn9lor\n",
       "SY5x67XOtdbaz2utlSS3PNRay+j+duNx9N63Jb3Wm17vtS5n9zO/Hr1e84q274+l+LYt5e/dUXzn\n",
       "yk+E8jXtPU2brSRZR+/50mwl3c/o1v1qy7r0Xuu2dp/LS/Fso3i/neXv8P3ofUqvt0utlSSvH3u9\n",
       "Tx7va60k+fTxWa31jYfu2b75+q7W+mevfqnW+vb4hVorSf7s8r1ea/+dWitJvnj9rWoPAAAA+Nnk\n",
       "L5gBAAAAAAAAmGJgBgAAAAAAAGCKgRkAAAAAAACAKQZmAAAAAAAAAKYYmAEAAAAAAACYYmAGAAAA\n",
       "AAAAYIqBGQAAAAAAAIApBmYAAAAAAAAAphiYAQAAAAAAAJhiYAYAAAAAAABgioEZAAAAAAAAgCkG\n",
       "ZgAAAAAAAACmGJgBAAAAAAAAmLIl59s+w49xlHujVjrbZzv3Xqr4OpPkPHu/Q9hzrbVG8VxJshd/\n",
       "b3Et/3ZjjLXWWkb3bEvxtS7le3ccvd4onm3s3de5jOLZukernq1+747e82+pfka7z+V16fW20X32\n",
       "bWuvdxafo0kyitdhXbtnu1x6z9J1651tWbr3R/ManGf3y+3Ye5/563WrtZLk4fGu1vri9fNaK0k+\n",
       "LfZ+8OpFrfXd189qrST59S+/Vmv9+Rf/rtZKkj9ZflRr/fHxX2utJPn89Z9WewAAAMA/HH/BDAAA\n",
       "AAAAAMAUAzMAAAAAAAAAUwzMAAAAAAAAAEwxMAMAAAAAAAAwxcAMAAAAAAAAwBQDMwAAAAAAAABT\n",
       "DMwAAAAAAAAATDEwAwAAAAAAADDFwAwAAAAAAADAFAMzAAAAAAAAAFMMzAAAAAAAAABMMTADAAAA\n",
       "AAAAMMXADAAAAAAAAMAUAzMAAAAAAAAAU7bkrAabtXGWzzaOWmuco9Z6E+z1zuy1VpIc1dfaa+1H\n",
       "9/cRY+mdbZR/u3Eba63VPtsYvd5SvD+SZCneu9VW9yOaJc37o3wNqq3y2Yr37lo82jq6z75t6T37\n",
       "LstWayXJZe99GPbmRUj33zNL8Rokybr13re7u8daa7u71lpJsl5utVb7GqT4OT3L/6Y8br3P6fXh\n",
       "UmslycPrZ7XWl1+8qLW+8cW7tVaS/M2Xvd43v3in1kqSX/vyg1rr1z//t7VWkvzR8v1a63/efqvW\n",
       "ev34l7UWAAAA/LTwF8wAAAAAAAAATDEwAwAAAAAAADDFwAwAAAAAAADAFAMzAAAAAAAAAFMMzAAA\n",
       "AAAAAABMMTADAAAAAAAAMMXADAAAAAAAAMAUAzMAAAAAAAAAUwzMAAAAAAAAAEwxMAMAAAAAAAAw\n",
       "xcAMAAAAAAAAwBQDMwAAAAAAAABTDMwAAAAAAAAATNmS822f4cdon63XO3PUWm+CoxhrtpJkr5XO\n",
       "4m8ajtxqrSTZi9dglH+7Mc5eb4zu/bEUX+syyu9bsTeK98dS/oyOo3i2vXsNluL9tpS/2pr321o8\n",
       "2zbWXizJtvSeV5di601vq7Xuju4z4Th698dZfcYny+hdh3XrvW+X+8daK0m2Zw+11np/rbWSZLn0\n",
       "3rexlv9NWXSWnwn746XWur26r7U+/uxFrZUkn3z6stb6hU/fr7WS5BvF3jfeebfWSpJf/vzjWuub\n",
       "n/5mrfUHd39eayXJt778j7XWcbyqtQAAAOAn4S+YAQAAAAAAAJhiYAYAAAAAAABgioEZAAAAAAAA\n",
       "gCkGZgAAAAAAAACmGJgBAAAAAAAAmGJgBgAAAAAAAGCKgRkAAAAAAACAKQZmAAAAAAAAAKYYmAEA\n",
       "AAAAAACYYmAGAAAAAAAAYIqBGQAAAAAAAIApBmYAAAAAAAAAphiYAQAAAAAAAJiyve0D/Dhnzmpv\n",
       "nEcx1ku1g913LcnZPNut1jrKF2EUX+fe/u1G8Wyj/b6N3mvtn63XW4pnW87u/TGO5uvsWor3x1q8\n",
       "nm96zVYvthXfsyTZlrXWuizF52iSu+LZrnv3nzT73jvbcXSv6Vn8PhpL718Ny7bXWkmy3l97rXde\n",
       "11pJsj5/qLVG8XUmydie8L93i8+r87H3GX3x6r7WSpJ3P31Ra33wo5e1VpJ8/P0Paq2v/fCjWitJ\n",
       "vv63H/Zaz3vv289/9s1aK0n+8Pj5Wuv389u1VpL84Mvfr/YAAAD46eUvmAEAAAAAAACYYmAGAAAA\n",
       "AAAAYIqBGQAAAAAAAIApBmYAAAAAAAAAphiYAQAAAAAAAJhiYAYAAAAAAABgioEZAAAAAAAAgCkG\n",
       "ZgAAAAAAAACmGJgBAAAAAAAAmGJgBgAAAAAAAGCKgRkAAAAAAACAKQZmAAAAAAAAAKYYmAEAAAAA\n",
       "AACYYmAGAAAAAAAAYMqWnG/7DP9omq90nN337RxHrTXal3TstVT3aKNaO85mr3u2HL3eWNq/K+n1\n",
       "xui+b2MUz9Z8neXf9ozivbsU77UkWfbi2cr3x1LMrcWzbeXP6DbWWutSfsDcLb1n392t96xKkvtt\n",
       "67X23jVIkmPv3SNn8zNfvj/G2rumy9211kqS5fljrTXe6X0OkmQ8K95vl97nIEmyFr/fjt79tj6+\n",
       "qrWSZPvy81rr/tMf1lpJ8uL7P6q1Xv7N39ZaSfJhsfeV739ca331/sNa603vnVrra5/+Rq2VJP99\n",
       "/Fqt9cev/0OtlSS3vXfvAgAA8P/PXzADAAAAAAAAMMXADAAAAAAAAMAUAzMAAAAAAAAAUwzMAAAA\n",
       "AAAAAEwxMAMAAAAAAAAwxcAMAAAAAAAAwBQDMwAAAAAAAABTDMwAAAAAAAAATDEwAwAAAAAAADDF\n",
       "wAwAAAAAAADAFAMzAAAAAAAAAFMMzAAAAAAAAABMMTADAAAAAAAAMGXLWS6OdvBpOstv3DiPWusc\n",
       "o9Z6E+ydLWmebS+2kqN6tu41GMXefj7ds13L71tG7zc0o9hanvD9sZTvj6X49bF0P/JZitd0Lb5t\n",
       "29K9BlvxdV6W7u/S7va11rrft1orSR5uvd6zYitJbsXeXrwG517+3WLz+6j979Ot1xv35fftxfNa\n",
       "6nzeayVJ7u57rbV37+Zo/ls3yeNDLbV+8UWtlSTLRz+otS4ffVZrJcmzD3q9d15+Xmu999fda/DB\n",
       "Dz6utT66f7/WSpKPP/16rfXJ+e9rrST5g/G7tdb3vvi9WgsAAOBnlb9gBgAAAAAAAGCKgRkAAAAA\n",
       "AACAKQZmAAAAAAAAAKYYmAEAAAAAAACYYmAGAAAAAAAAYIqBGQAAAAAAAIApBmYAAAAAAAAAphiY\n",
       "AQAAAAAAAJhiYAYAAAAAAABgioEZAAAAAAAAgCkGZgAAAAAAAACmGJgBAAAAAAAAmGJgBgAAAAAA\n",
       "AGCKgRkAAAAAAACAKVtylpOj3Gtqvtb2+9Z0VGvVV/qU37bivXs85c/BUT7b0ux1zzaKvTGeZitJ\n",
       "RvG3Qkv5GizF+619trXYW4vXdCt/RLfi2S7LWmslyd2t91C4W7rPvrv1Ums9u97VWklyf33stR57\n",
       "r3O/9lpJctyK99te/k1l898z5WdCtq3Xun/WayU5XrxTa513xbOVv9ty9L6PxuOrWitJlvc/q7XW\n",
       "939YayXJ8/e+W2ttL7+ste7f7V6DF897vffuX9daSfLB5cNa66O73uc9Sb766b+stf7HO79aayXJ\n",
       "nzz+Vq31cP1OrQUAAPAPyV8wAwAAAAAAADDFwAwAAAAAAADAFAMzAAAAAAAAAFMMzAAAAAAAAABM\n",
       "MTADAAAAAAAAMMXADAAAAAAAAMAUAzMAAAAAAAAAUwzMAAAAAAAAAEwxMAMAAAAAAAAwxcAMAAAA\n",
       "AAAAwBQDMwAAAAAAAABTDMwAAAAAAAAATDEwAwAAAAAAADBlqxfPYms0Y0kyiq3u2bpv21Gspfu2\n",
       "FZ3tg517t1fUvD+O8vs2zl5vb5+t2Buj93ucUf5tz1I829I+21k8W/FeS5L16PXWW+91bqP7Orel\n",
       "19uW7v1xWdZe69b9J83deqm17q+3WitJ7h/vi63HWuvu4a7WSpJLsXc89q5nkizX4mfhVv53W/Pf\n",
       "geXvoxQ/V+fdi2LrWa2VJGfxu23s3e+P48X7tdbyzstaK0mWF9+vte5e/KDWWt/5dq2VJJcXr2qt\n",
       "Z8VWkrzzrNd7//7jWitJPrzv3W9f/eyTWitJfuHz36y1/uj+T2utv3z127VWkuz7Z9UeAADwT5u/\n",
       "YAYAAAAAAABgioEZAAAAAAAAgCkGZgAAAAAAAACmGJgBAAAAAAAAmGJgBgAAAAAAAGCKgRkAAAAA\n",
       "AACAKQZmAAAAAAAAAKYYmAEAAAAAAACYYmAGAAAAAAAAYIqBGQAAAAAAAIApBmYAAAAAAAAAphiY\n",
       "AQAAAAAAAJhiYAYAAAAAAPg/7NvLrizZeh3mEZGZ67J3VR0SpAWQNgypYcDQE/j9X8FNAVJHkEnq\n",
       "nDq197pnZsRUY9Fwj5oQB7WTru97gIE5Y14j/kwAphz7kaMYtfSykmQptu2GtXu5jF7iKI7BMvZa\n",
       "VlKebuVB2NNsXHld7cW8tdu2pdjXEqFBmQAAIABJREFUZfR+j7Ms3X6ei78VWpbu747WYl/X8plw\n",
       "KM7dZj8PW7mfxbhjee6eivPttB5qWUlydzn1statlpUkd+drL+v9oZZ1urvUspLk9HZfyzoUs5Jk\n",
       "ffvoZT2+1bKSZPk498Iuxawk2btroWUceus9ScbpsZa1l8/l5f6nWta4/1rL+szrPbfDQ29vOzz8\n",
       "sZaVJI8Pf1/LOnzp7UVJcv/4Xsv6WsxKkj/86a9qWX9194daVpL8m4cvtay/ff4/a1n/afu3tawk\n",
       "+Y+H/1jL+rv3/7uWlSSX65+qeQAAwH+ffzADAAAAAAAAMEWBGQAAAAAAAIApCswAAAAAAAAATFFg\n",
       "BgAAAAAAAGCKAjMAAAAAAAAAUxSYAQAAAAAAAJiiwAwAAAAAAADAFAVmAAAAAAAAAKYoMAMAAAAA\n",
       "AAAwRYEZAAAAAAAAgCkKzAAAAAAAAABMUWAGAAAAAAAAYIoCMwAAAAAAAABTFJgBAAAAAAAAmHL8\n",
       "0Q34p41y3NLLWsptu2Ejey2r+diaw5m021Zu3Nh6Uem2bS/mLeVB3Zp9rbat289l6f1WaCn/7mgt\n",
       "tm0tt+0wim3bemN6KG8fh+IYHMs/Szuuvc6erodaVpKciofC6XCqZSXJ3fm+l3W41rJOb5daVpKc\n",
       "Tr28w123bc289b7ctvuPWtZy/1rL+sx76GXd3WZWkozTYy/scNfLSrIfe30dx95e9JnX6+s49bIO\n",
       "p24/1/v/Wsu6f/hzLStJDo+9/ePu61stK0kev/T2oz/86aWWlSR//e0va1l/8/hTLet/e+3ubf/u\n",
       "5d/Xsv7z/n/UspLkP9//Qy3r7/b/UMtKku8f/6mWte/ddQUAAP8c/sEMAAAAAAAAwBQFZgAAAAAA\n",
       "AACmKDADAAAAAAAAMEWBGQAAAAAAAIApCswAAAAAAAAATFFgBgAAAAAAAGCKAjMAAAAAAAAAUxSY\n",
       "AQAAAAAAAJiiwAwAAAAAAADAFAVmAAAAAAAAAKYoMAMAAAAAAAAwRYEZAAAAAAAAgCkKzAAAAAAA\n",
       "AABMOSajHLmU85qafW33sz0Ot2kU+7mMvZaVJKM4pEszLKlOt/pMKwbu9cYVH9zey1rW7vy4FPu5\n",
       "LN3fHTXzlvJvotZi3lpc84etOz8OS7FtxawkORbzjuW5e1wOtazTeqplfeb1zr/juvWyDr2sJDke\n",
       "e3mH47WWlSSHUy9vLWYlyXJ6rmWtp5daVpKsx+JaOBxrUaOYlSTLWmxbcS9KkhwfalGjmJUke7Gv\n",
       "ozgGOXT38FFcB+vdfS0rSU6Pv9ayDl//n1pWkpx+fqtlffmlt08myS9/fKpl/fVvf1nL+punX2pZ\n",
       "SfK/f/lay/q79+7c/fu3/7WW9Q/vf1vLSpJ/yP/Vy1p7azRJfs1/qWV9v/TW/Mf1j7WsJNn33v4B\n",
       "AMD/xz+YAQAAAAAAAJiiwAwAAAAAAADAFAVmAAAAAAAAAKYoMAMAAAAAAAAwRYEZAAAAAAAAgCkK\n",
       "zAAAAAAAAABMUWAGAAAAAAAAYIoCMwAAAAAAAABTFJgBAAAAAAAAmKLADAAAAAAAAMAUBWYAAAAA\n",
       "AAAApigwAwAAAAAAADBFgRkAAAAAAACAKcdRDlzSTFyKWWWj/OSWG+5rdUz3Ylb59xGj17bRHs7q\n",
       "dCs3btlqUXv9wV1qSc2WbeV+LsW1cCmvq2Xp5a3FrCRZi32tZpXnx7r18g7lMTgWz75D+Rxt9vW4\n",
       "HmtZSXJYeofCcemdfce1ecYnh0PvfFnXXlaSrIdeX5diVpKkmHdcX2pZSbKu33pZzTX/u7mHJ3vx\n",
       "Lj4OD7Wsz7ziXnn/tRa1rd2zbxTPhHG6q2UlyeH+vpa1Pv65lpUk9z/9qZZ1/OW5lpUkD3/5VMv6\n",
       "+U+9ffKvfv1DLStJ/ub7L7WsX19+rmUlyR/fvtSy/vTe3dv+9NFbp7+e/7aWlSS/fvTyfit+F/h2\n",
       "ONeykuTb2lvzT8tvtawkeR29vI/9ey0rSc5b7x543V9rWfv+UctKkn0U59u49rKSjPI9EADa/IMZ\n",
       "AAAAAAAAgCkKzAAAAAAAAABMUWAGAAAAAAAAYIoCMwAAAAAAAABTFJgBAAAAAAAAmKLADAAAAAAA\n",
       "AMAUBWYAAAAAAAAApigwAwAAAAAAADBFgRkAAAAAAACAKQrMAAAAAAAAAExRYAYAAAAAAABgigIz\n",
       "AAAAAAAAAFMUmAEAAAAAAACYosAMAAAAAAAAwJTjj27AP22U85ZyXtEo9rXezWZgr5+jPD+6j63b\n",
       "tpG9Gfa7UXxqqc6QvbxI12Zet23L0vsd01L+TdRabNtabNtanh+Hvde2w7UW9ZmXQy2rugySHIrz\n",
       "41BvW28jP6x3vaxiu5JkXXu7+HrDbVuKWZ95vb4u5eeWvNaS1vFbMavcz704P/atlpUky9bbyPf7\n",
       "n2pZSTJOj72spXe+5NhrV5LsX3rnyzicallJMk4PtazDw5daVpIsX3tr/vjLt1pWkhz+8u9rWXd/\n",
       "1Wvb1z//XMtKkr8o5v2bb922PT318r4/f61lJcm3t95a+O2jux/9du7dA79dep8Xv116e1GSPF16\n",
       "z+3p8r/UspLk+dK7g7yke2d4yaWW9Xr8qGW9Le+1rCR5X15qWR95q2UlyWX07s6X0X1u294b0+s4\n",
       "17KSZB+9ubuP3t15FLM+83prvpmVlL9jl7/uZvTy2rWJ7kf7W81Ktw520263n82W+QczAAAAAAAA\n",
       "AFMUmAEAAAAAAACYosAMAAAAAAAAwBQFZgAAAAAAAACmKDADAAAAAAAAMEWBGQAAAAAAAIApCswA\n",
       "AAAAAAAATFFgBgAAAAAAAGCKAjMAAAAAAAAAUxSYAQAAAAAAAJiiwAwAAAAAAADAFAVmAAAAAAAA\n",
       "AKYoMAMAAAAAAAAw5dgOHMWspZj1u9IchCRZbnVUux2t9nLsxbRUH1t7emQ0x7S96rda0ii2bS/3\n",
       "cymOwVZvW+93TMvS/U3UUuxrs21ruZ9rcQzW8ta2br0xaD+3Q3Ep9Nt2qGWtORWzupbi/WOt3mW6\n",
       "bbvlC+8oXxruiufVcbzUstb9t1pWkqxb7/6xbNdaVpIs10svbCtmJRn3vbz97rGWlfWul5VkHO97\n",
       "WWv3dX6cim27/1LLSpL1yy+9rJ+/17KSZPmLb7Ws41/32nb49sdaVpLcffu1lvX129daVpL8oZj3\n",
       "8f2nWlaSvD312vby3H1uz2+9dfr01tt3n84Ptawk+X7u7eNPl97d+TOvt48/X3vvCJ95vba9XHvz\n",
       "46V7NcrrtfeS+1q8AybJ2+h19m35qGUlyfvhvZe1vNWykuScXl4z67r3nlmSXEdvTLdxrmUlybb3\n",
       "8vbiOmjnjXLbRvE7dkbzm3j5Y2Axb9QrHc28223bUvzY4x/MAAAAAAAAAExRYAYAAAAAAABgigIz\n",
       "AAAAAAAAAFMUmAEAAAAAAACYosAMAAAAAAAAwBQFZgAAAAAAAACmKDADAAAAAAAAMEWBGQAAAAAA\n",
       "AIApCswAAAAAAAAATFFgBgAAAAAAAGCKAjMAAAAAAAAAUxSYAQAAAAAAAJiiwAwAAAAAAADAFAVm\n",
       "AAAAAAAAAKYcf3QD/imjnLdUE5diVlv5yY1iX5f2qN6m+twdezGsF9VWnx3FwL364MqDsBfz1u7v\n",
       "jpZi25a1+9yWpZe3Fn+vtS7dMViL821tngdJlq3YtvKyao5DcaolabetdxVs93Mp3hmaWTevuE5H\n",
       "ec1nL+5vWy/reH2pZSXJev1Wy1qu11pWkqzXSy+smZVk/1LM23vPbdx9qWUlyTg+9LIOd7Wsdt44\n",
       "dZ/b/vBLLWv5+he1rCRZf+ntIevbUy1ree1lJcnhuZd3eH6uZSXJ6fv3Wtbj9+5nsp+femvh8v1r\n",
       "LStJPopte3/qte31pbt/vLz18p7fHmtZSfL00TsTns7dM+Hp0st7uvbW1fPlUMtKkqdr7075cum+\n",
       "yz9fT7Ws12tvriXJy/ZTLett6953X5dzLettea9lva+vtawk+Ugv75y3WlaSXPZe3nV81LKSZNt7\n",
       "edsovw8V88Yovg8Vs5JkZCumFWsmSVKswYx225qFjuI3Mv9gBgAAAAAAAGCKAjMAAAAAAAAAUxSY\n",
       "AQAAAAAAAJiiwAwAAAAAAADAFAVmAAAAAAAAAKYoMAMAAAAAAAAwRYEZAAAAAAAAgCkKzAAAAAAA\n",
       "AABMUWAGAAAAAAAAYIoCMwAAAAAAAABTFJgBAAAAAAAAmKLADAAAAAAAAMAUBWYAAAAAAAAAphx/\n",
       "dAP+ZxrFrKWa9pl4u4p9HcV+Lu0xuF3VuTu6z20Ux2EZey0r6U63Zlh75u7F/WOpPrRka+5t5bYt\n",
       "xd9YLcttZiXJ0pwf5d+lNefburXnR/O53XLbinP3d3StHM0zoby3NfP2vdy2vTff9q2XdbcdallJ\n",
       "cro+17LWYlaSLJdLLWstZiXJcu3lLVsva3+81rKSZH8o3ndPX3pZScbx4SazkmTc/VwM23pZSbav\n",
       "51rWcnmrZa3n11pWkqwfT72s115WkizFvMNzt22Hp17e6el7LStJHr737m4/fe/tR+fvX2tZSXJ+\n",
       "6uW9FbOS5PWl99yeX7tnwtNbL+/7R+9M+H6+r2UlyffLqZb1dOm+D32/9u67z5fuvf652Nfna/cu\n",
       "/rL1xvRlv6tlvY7u3ehteSxmde8MH+tLLes8enejJLksvbzr/lHLSpJt9PK2vfg+VP+PavP9qnuv\n",
       "H8W89jf2kWbdpJflH8wAAAAAAAAATFFgBgAAAAAAAGCKAjMAAAAAAAAAUxSYAQAAAAAAAJiiwAwA\n",
       "AAAAAADAFAVmAAAAAAAAAKYoMAMAAAAAAAAwRYEZAAAAAAAAgCkKzAAAAAAAAABMUWAGAAAAAAAA\n",
       "YIoCMwAAAAAAAABTFJgBAAAAAAAAmKLADAAAAAAAAMCU449uwL9Wo5y3VBOXYlZbsZ+j3M+lPaq3\n",
       "aWSv5jUf2y0P6Vi2WtZenmprcc3v3enR/RnT3p0gy9psXK9ty1LuZzFvKZ8vzbSlPHerbcuhmJbk\n",
       "Zse0+7vFccPX1FE8sEZ5Xe3Ftu17d0ybefvWW1fNrCQZl17e6fpSy0qSw+WtlrVc/1zL+sy73GbW\n",
       "dq1lJUn24p3ysXupHEtxLRzuellJxuGxF7aeellJsvT2tjF6F5p9P9eykmS5vveyLs+1rCRZPp5q\n",
       "Wevbt1pWkhxeennrc7ltT997Wd97Y3D81stKkvtvD7Wsx28/1bKS5Gsx76fv3bb9/PS1lvXLSy/r\n",
       "+9uXWlaSfPvonS/fPu5rWUny5dI7r74fuu9WD4fe2Xd36b4P3VXv4r22Hbfuu9Wx+G61Nu+ASda1\n",
       "l7eU29b8BrKs5Q/Zze9a1e+xxax2XL2c0wvs1zmKbSuuA/9gBgAAAAAAAGCKAjMAAAAAAAAAUxSY\n",
       "AQAAAAAAAJiiwAwAAAAAAADAFAVmAAAAAAAAAKYoMAMAAAAAAAAwRYEZAAAAAAAAgCkKzAAAAAAA\n",
       "AABMUWAGAAAAAAAAYIoCMwAAAAAAAABTFJgBAAAAAAAAmKLADAAAAAAAAMAUBWYAAAAAAAAApigw\n",
       "AwAAAAAAADDl+KMbwKdRzFqqaZ+Jt+mW+9lu2+0a2WtZS/mxjeKQLtWwXlSSjGJgbzT/UfO5lR/c\n",
       "0uzs2mvb0u7n0py75bYV+1p/bvutnn1Jcihm9frZ3Is+83q/gxyje+Xdi3tbe9+ttq26hyfb3hvT\n",
       "beutg+3aXFPJXszbr925e7r02na8vNaykmS9fKtlLddrLWvdellJkn2rRS2jfHkunvP72l1XOdzX\n",
       "opb1rpaVJMvhsZe1nmpZ/ff43ok19nMtK0n2a28/2i5Ptawk2d7/XMta33pZSXJ4/rWWtT4Vs751\n",
       "+7n+9r2Wdfjtj7WsJDn+9FbLOn15r2Ulyd1DL+/uvrfm754utawkOb32zvnT2jvjk+S4PtSyDuUP\n",
       "buvSu6Mu1ffb9unX/G9euQxTnG7tK+UoBo7qx7tuXvObeJKMtXnXKma1P9gXn9ter8EU88oLayy9\n",
       "/aj5HukfzAAAAAAAAABMUWAGAAAAAAAAYIoCMwAAAAAAAABTFJgBAAAAAAAAmKLADAAAAAAAAMAU\n",
       "BWYAAAAAAAAApigwAwAAAAAAADBFgRkAAAAAAACAKQrMAAAAAAAAAExRYAYAAAAAAABgigIzAAAA\n",
       "AAAAAFMUmAEAAAAAAACYosAMAAAAAAAAwJTjj24AfaOct1QTl2JW2Sj2c2n3sz2qt6rcz7H3oppD\n",
       "Wh/OrR1Ys1fXfHddbc284gTp75LFxPLetlTzbvh86W1F/wIOvajqRpmM4piOUexnum1rT4+9OA7b\n",
       "Xt53995vW5tZezErSfatN9/2a3nuFvOaWUlyvL7UstbtuZa1bN171trM29s7yO2+9+1r79PFWO9r\n",
       "WUmyHB57WetdLevQ7ufS/HzUfSHa7669rO29lpUk28P3Wtb18c+1rCTZH/9rLevw+HMv6+FrLStJ\n",
       "1oc/9bLuf61lJclyKp5Xx+55tRx6ecvaW/Pdb5Rl5feh5r2+mZUk2y2/c4ze3f5anG7XYrs+83p3\n",
       "8evWLRFdRu8+c03vjE+S63KpZW3FrCTZin1dl17WWLrnyyh+h1qK3/6T7reeLOX/9jZrV8V++gcz\n",
       "AAAAAAAAAFMUmAEAAAAAAACYosAMAAAAAAAAwBQFZgAAAAAAAACmKDADAAAAAAAAMEWBGQAAAAAA\n",
       "AIApCswAAAAAAAAATFFgBgAAAAAAAGCKAjMAAAAAAAAAUxSYAQAAAAAAAJiiwAwAAAAAAADAFAVm\n",
       "AAAAAAAAAKYoMAMAAAAAAAAwRYEZAAAAAAAAgCnHH90Afm9GMWspZpWNZj+TLDfc1+KYjuy1rCRZ\n",
       "qr+hud1+VpfVDSs/ta5m49b2eu/l1XeiZuAtb5NlY2/uRz0jh2JaMoqD2j6W9+L5so3udXwfvee2\n",
       "FbM+84rPbW9mdefudevlbVv398D7tde2h2JWkoxi3nF7qWUdrm+1rCRZtt6lYd3Ld+fRzLvd96F9\n",
       "Kc/d9VTMuqtlZb3vZSVZlt55ta7dMWim7etDMS1ZD728a7lt+6E338bamx9j6Z59zZvWWr5ULvuv\n",
       "tazD1j2vTtfeOOyX3ihsxawkuV57e/j52m3bRzHvo3g/bed9HLpr/n3v3Rnut17WR/lvfqfi3ehU\n",
       "3ndPo3ivL94/kuSQ3ppfy6W1tXijaWbt5fmxFL8LtGsmzVrCqL5bJUvzG1nxufkHMwAAAAAAAABT\n",
       "FJgBAAAAAAAAmKLADAAAAAAAAMAUBWYAAAAAAAAApigwAwAAAAAAADBFgRkAAAAAAACAKQrMAAAA\n",
       "AAAAAExRYAYAAAAAAABgigIzAAAAAAAAAFMUmAEAAAAAAACYosAMAAAAAAAAwBQFZgAAAAAAAACm\n",
       "KDADAAAAAAAAMOX4oxvA7RvFrKWY1W1Z0m5d1Sj2td7N231uozhHlrHXstqPrLoS2suqqvvg9lud\n",
       "u3u5Xb+Xn5K1h7Oa111Y1bTi1tbcc5Nkz6GXNboLYS929Zbbto3uwtr2Xl+bbbuWx6Daz723DpJk\n",
       "23p5zawk2Yt59822XZ97WUkO21sta9n+XMtKkmUvHgrNrHZe890qyV48/5pP7VrMSpJj9evRQzMs\n",
       "69Jb80sxK0nW5VTLOhwea1lJMo4/9bLuenvbeHitZSXJfu7lLe/dti2PxbzHcy8ryfrQyzsUs473\n",
       "3X6eTr28u2N3523m3R22WlaSnNZe3mnt7runpXcXP629d45j+dvMsdi2Q/H9JUkOxferZlaSHIrz\n",
       "Yy1+s0iSpfgBbyn2cymPQfOD23LD1ab2Z8pb/WT/e/nsDAAAAAAAAMA/kwIzAAAAAAAAAFMUmAEA\n",
       "AAAAAACYosAMAAAAAAAAwBQFZgAAAAAAAACmKDADAAAAAAAAMEWBGQAAAAAAAIApCswAAAAAAAAA\n",
       "TFFgBgAAAAAAAGCKAjMAAAAAAAAAUxSYAQAAAAAAAJiiwAwAAAAAAADAFAVmAAAAAAAAAKYcf3QD\n",
       "+H0ZxaylmPW70hyEJFnagbepOnfHXkxLdTH0R7PZuK2XVdZ8bnt7d2tOt9/Tz9KaU7e8T95q2tjL\n",
       "LSvGNbOSZC8uhvKJkG302raN7n60Fceh2bbr3t3ctmJevW1bcX5sh1pWkuzFvL3Yz/3a7eddsW2H\n",
       "7bWWlSTr9udiVvnetvfylmJWkmz7tZe1XXpZjx+1rCQZ+7mWtR6/1rKSZF3vallL+cI7Rm9+7KM3\n",
       "P5KU36+Kd8r2+9BSHNND90zI2stbDuXndujdUpdDcQ8vtitJ1mLeunbbdijmHcrvpIe1l9eeumsx\n",
       "r5rVi0rS/S7eb1uvde1zuZnX7GeSLMXzaim/y1c1m1bvZzPvhseg2Lbf06diAAAAAAAAAP4ZFJgB\n",
       "AAAAAAAAmKLADAAAAAAAAMAUBWYAAAAAAAAApigwAwAAAAAAADBFgRkAAAAAAACAKQrMAAAAAAAA\n",
       "AExRYAYAAAAAAABgigIzAAAAAAAAAFMUmAEAAAAAAACYosAMAAAAAAAAwBQFZgAAAAAAAACmKDAD\n",
       "AAAAAAAAMEWBGQAAAAAAAIApxx/dAPgfNcp5SzVxKWa1lZ/cKPZ1aY/qbarP3bEXw3pRSaqdbU61\n",
       "z8BeVHEEblu7ozf8M7fRnCDtva2Y1+znXt7d9ub+sZXbVrxC76O7EJrPbS9vvPs41LK2YtuaWe28\n",
       "rTw/tr2X18xKkr2Yt2/NrN68TZJRbNtduW3H7aWWtW6/1bKSZL1ea1nL5VLL+sz7KGa91bK2S288\n",
       "k2Q8PNWyrne/1LKSZDk8FsPan8maB3NvriXJKM6R5dybH2txHSTdNZprd//I1tvb2vfd7MUzpnmf\n",
       "Kd/bRv1DQ8+44U9kzbbdcDf5H3S7qyrdCXfTHW3qdnT5/Ty434Ub/rQLAAAAAAAAwC1RYAYAAAAA\n",
       "AABgigIzAAAAAAAAAFMUmAEAAAAAAACYosAMAAAAAAAAwBQFZgAAAAAAAACmKDADAAAAAAAAMEWB\n",
       "GQAAAAAAAIApCswAAAAAAAAATFFgBgAAAAAAAGCKAjMAAAAAAAAAUxSYAQAAAAAAAJiiwAwAAAAA\n",
       "AADAlOOPbgDcilHMWqppn4m3q9jXUe7n0h6H21Sdu6P7zMay17Law1mdbsW29Z7Yv4TyIDQ7u7bX\n",
       "++3uH6O4GKpZ5dk7imMwxn0tK0n2rZg1Dr2wJPvo/X50L5/Lzbyt+Ny2cj+34vZRb9veHIPub5X3\n",
       "vZe3VbPKa/Tay2tmJcndpZd3urzUspJkPT/VspbLuZaVJOv5vZa1fLzVstavz7WsJNm//NbLuv+5\n",
       "lpUk4/TYyzrc1bLq9ms1br325u760Vuj6+v3WlY7b3nt7m15641B3rvvL/u598m4mbVdup+yt614\n",
       "pyxmJeX7TPveVn3nqEV95jWzbvhbT/Oxtdu2N9/ly99mut9A2h8qb7Vt5TGofnu+3W93t6333PyD\n",
       "GQAAAAAAAIApCswAAAAAAAAATFFgBgAAAAAAAGCKAjMAAAAAAAAAUxSYAQAAAAAAAJiiwAwAAAAA\n",
       "AADAFAVmAAAAAAAAAKYoMAMAAAAAAAAwRYEZAAAAAAAAgCkKzAAAAAAAAABMUWAGAAAAAAAAYIoC\n",
       "MwAAAAAAAABTFJgBAAAAAAAAmKLADAAAAAAAAMCU449uAPz/0SjnLdXEpZjVVn5yo9jXpT2qt2lk\n",
       "r+Yto/c7prG029bLak619jLoPrWualf38oMr/gRvlAe1mTeKC6GZlZT7WV4J++jl7ftdLStJ9tG7\n",
       "3u/FPTxJtuJmuRWnW7ufzTFoPrN23taeH3svr9m2bTvUspJk33pt29ttu/bm7rh0PzUczy+1rMP5\n",
       "rZaVJOv7n2pZy1uvbcvXp1pWkqxffqpljYcvtawk2e8ee2HHUy8ryVh6a37Zt1pWkmS71KLWj+Lc\n",
       "feut9yRZXnprYXnqrqvxfK5l7S/dubu/PtSyrm/3vayP7t35cu49t3PxHE2Sy9bLuxTvH0lyKd61\n",
       "ruU75XXv3XevxXeO5vtLO28f3cbtxXf5vf0uX8xrf2fo5jW/p7S/iTfb1tZM/H3UEvyDGQAAAAAA\n",
       "AIApCswAAAAAAAAATFFgBgAAAAAAAGCKAjMAAAAAAAAAUxSYAQAAAAAAAJiiwAwAAAAAAADAFAVm\n",
       "AAAAAAAAAKYoMAMAAAAAAAAwRYEZAAAAAAAAgCkKzAAAAAAAAABMUWAGAAAAAAAAYIoCMwAAAAAA\n",
       "AABTFJgBAAAAAAAAmHL80Q0A/vtGMWuppn0m3q5iX0exn0t7DG7XyF7LWkb3N1FjabatFlWdap+B\n",
       "vajeE/t0y7tHs7OjvebXZl4vq93P5hptZiXJPnp93ffuc6u2rfyqsBd/27oXz4TyEGQr9nMrHwrN\n",
       "vN9L26579/6xFfOu1+4a3a6HXtal27b786mWdXq/q2UlyfHttZa1vjzXspavvXYlyfLley/s8aGX\n",
       "lWS9u++FHbtzdyy9NV9/l79uvazLuRa1vL/VspIkr++1qPF8rWUlyf7U29uu37/UspLk8tTLO78+\n",
       "1rI+3orrPcn7Ry/v/dI9X96vvfnxvnX3to+tt7ed9+6d8lLMuxZfI5tZSbIV3/u28vmyFT+o7Evx\n",
       "rEqyp5fX/OaZJHsxb4xm27r9HNX5Vv4O1fxGVq/B3GY9wT+YAQAAAAAAAJiiwAwAAAAAAADAFAVm\n",
       "AAAAAAAAAKYoMAMAAAAAAAAwRYEZAAAAAAAAgCkKzAAAAAAAAABMUWAGAAAAAAAAYIoCMwAAAAAA\n",
       "AABTFJgBAAAAAAAAmKLADAAAAAAAAMAUBWYAAAAAAAAApigwAwAAAAAAADBFgRkAAAAAAACAKccf\n",
       "3QDgf65RzluqiUsxq63Yz1Hu59Ie1ds0slfzltH7jdVYem1rD2d1uo3bnWt7fXfr5Y122/Zi24o/\n",
       "NWyv0RTXVXsM9uJCHWv3uY3iOt2Lcy1JRvHVo9m0vfyb2+aI7uU7wzYOtax+23p512bW3p0f1603\n",
       "Btet+zrfbNvlcqplJcn13MtORSGGAAAd3ElEQVS7f7+rZSXJ3dt9Lev4/FbLWr++17KSZH3stW15\n",
       "eK1lJclyX1ynx+6aX9bqZatrL55Yl60WNT7K94/33hjsL4+1rCS5FvMuT19qWUnyUcx7e+5lvb51\n",
       "x+Dt46GXde6eL2/X3tn3XjzjP/N66+p9694pP4pb27m5TZbfrS7FPfwyent4klyXXt413bbtud5k\n",
       "VpKM4jjsxbfS5jeGf0wsRrU/ot7ud89qy4r99A9mAAAAAAAAAKYoMAMAAAAAAAAwRYEZAAAAAAAA\n",
       "gCkKzAAAAAAAAABMUWAGAAAAAAAAYIoCMwAAAAAAAABTFJgBAAAAAAAAmKLADAAAAAAAAMAUBWYA\n",
       "AAAAAAAApigwAwAAAAAAADBFgRkAAAAAAACAKQrMAAAAAAAAAExRYAYAAAAAAABgigIzAAAAAAAA\n",
       "AFOOP7oBwL9uo5i1VNM+E29TuZ+j2M+lPQa3a2SvZS2j93utsfTa9RnYjeu6FrO6HS2PQlmxr82O\n",
       "lufuWHv9HOW9rbl/tNf8XpwfzawkGXuxbaPZz+4r0V48l7fmGV/O24tnX5JcR28ctr3Xz+te7mcx\n",
       "77ofallJctl6eZfLqZaVJJdzL+/x/a6WlST3bw+1rLuXx1rW8fG9lpUkh8dzLWu972UlyXrXu1Mu\n",
       "x62WlSRZm+d8+WJf3I/GtbeuRnn/2N57edvbfS0rSS6vvf3j/NrbP5Lkvbgfvb5+qWW9vHX7+fze\n",
       "G4Pnc3d+vBTXwsu1e99923r7x3sxK0k+itt4M+tcfBdKksvonS/XdM++a/Fbz7ZcallJsjXbNprf\n",
       "tJK9OA5jFLPKX8hGce6221a9axW/WfxjYDmvwz+YAQAAAAAAAJiiwAwAAAAAAADAFAVmAAAAAAAA\n",
       "AKYoMAMAAAAAAAAwRYEZAAAAAAAAgCkKzAAAAAAAAABMUWAGAAAAAAAAYIoCMwAAAAAAAABTFJgB\n",
       "AAAAAAAAmKLADAAAAAAAAMAUBWYAAAAAAAAApigwAwAAAAAAADBFgRkAAAAAAACAKccf3QCA/9co\n",
       "5y3VxKWY1Vbs5yj3c2mP6m0a2WtZS30MelH10Ry/j/mxl/s5muuq+FPDUZ4hYy/mlfeisfTWfHU8\n",
       "U25bcW9r5+3jvpe11aI+88ahmNX9PfBePGO28nm1FZ9bs23Xcj+ve29ML3vvmSXJeevlna/dTw0f\n",
       "l1Mv63xXy0qSh/eHWtb960ct6+6hl5Ukp/tzLetwd6llJcnhdK1lLcfuobCsxbO0/Uq69wL3rbe3\n",
       "7Zfu/rGde/vH9aO7f5zfe/eZj2JWkrwV97bX98da1vNHt5/P514/ny/d+fFcPEtfrt07w+u1t+bf\n",
       "ynfx92LeR/Gd9Lx3363Oo5d3XnrnaJJclt45f033zrAV8/Z0n9s+epN3pJfVbFfS/s5Q/p5SzWt/\n",
       "87zNtvkHMwAAAAAAAABTFJgBAAAAAAAAmKLADAAAAAAAAMAUBWYAAAAAAAAApigwAwAAAAAAADBF\n",
       "gRkAAAAAAACAKQrMAAAAAAAAAExRYAYAAAAAAABgigIzAAAAAAAAAFMUmAEAAAAAAACYosAMAAAA\n",
       "AAAAwBQFZgAAAAAAAACmKDADAAAAAAAAMOX4oxsA8C9lFLOWctrtavYzySj2dSm37Ua1e7mMvRjW\n",
       "i0rKfa1Pj2Jge+4W47a9Fzba/Vybed22jWJeMytJxtJb8+0x3Yt9rWaNcj/3Uy9rHGpZ7bytecYn\n",
       "2YrDcB2931Ff924/L8W8ZlaSnPfec/vYunP3/dpbV++Xu1pWkjx+fNSyHt7Ptaz7u15WkpxOl5vM\n",
       "SpLDaatlrYdeVpIsxXN5ad/Fi/v4Xtw/9mt3/7heep8+L5feXpQkH+fefvRxvq9lJclbsW0vxba9\n",
       "lPfw5+KYNrOS5OnSWwsv1+5/zF633v7xdq1FfeYVt/H3rbeHfzS/zST5SO/BndM9l69L7w5yTfc+\n",
       "s41eX/fRnbyjmLcX59soz91mXrttzW9H7W89KX63aLbNP5gBAAAAAAAAmKLADAAAAAAAAMAUBWYA\n",
       "AAAAAAAApigwAwAAAAAAADBFgRkAAAAAAACAKQrMAAAAAAAAAExRYAYAAAAAAABgigIzAAAAAAAA\n",
       "AFMUmAEAAAAAAACYosAMAAAAAAAAwBQFZgAAAAAAAACmKDADAAAAAAAAMEWBGQAAAAAAAIApCswA\n",
       "AAAAAAAATDn+6AYA/GswillLNe0z8XYV+zrK/Vza43CbqnN37MW0VKdufTRveHrc9n5UtPfaNsrr\n",
       "fazFtpXHoJlXf25Lbw9pZu17d28bxb1yH3e1rCRp9nQb3d8qN/O2Ykevx+794zIOxazuGJz3Xt7H\n",
       "1utnkrxvvU8Xb9dTLStJHi+9dfrwcall3Z96WUlyd7zWsk6HXlaSHI9bLeuw9rKSZCmepc2sJBnF\n",
       "96u9mVXePy7FvEt5//i49Pa2j3Lb3q69ve212M+Xcj9frs22defuy7V3Lj9fu/eZl+I2/trddvNe\n",
       "vAi+F98T3kf37Dsv51rWpZiVJJd81LKu6bZtS+9+tJXHdE9vMYxRzKq+RSbdt9Jy26rfPW/4e1uR\n",
       "fzADAAAAAAAAMEWBGQAAAAAAAIApCswAAAAAAAAATFFgBgAAAAAAAGCKAjMAAAAAAAAAUxSYAQAA\n",
       "AAAAAJiiwAwAAAAAAADAFAVmAAAAAAAAAKYoMAMAAAAAAAAwRYEZAAAAAAAAgCkKzAAAAAAAAABM\n",
       "UWAGAAAAAAAAYIoCMwAAAAAAAABTjj+6AQC/N6Oct1QTl2JWW/nJjWJfl/ao3qb63B17Ma3butEc\n",
       "01F+cs1lWmxbczQ/9do22rN3L+a194+1ORLdUR1LL28vtm1Un1kyinvbXt4/9r3Xtm2calmfecWs\n",
       "vbdRXpv3hSTXYtsuxawkOR96ee9797fs79uhlvV27X4GeTj28h4Od7Ws+/O1lpUkd4ftJrOS5Lj2\n",
       "8g7lM2EpnvPtN7XmCTOKe+VW3j+uxf3jvPeykuS89faP92u3be/Ftr0Vx+C13M/Xatu6q7SZ99Ld\n",
       "dvNaPGJer919923vdfZ99Dr6sZxrWZ95H7Ws8/Jey0qSS3pt20b3uW3jUsvai1mfeb35to/eOhjF\n",
       "rM+84rt8+1tg93ZUzGrn9bL8gxkAAAAAAACAKQrMAAAAAAAAAExRYAYAAAAAAABgigIzAAAAAAAA\n",
       "AFMUmAEAAAAAAACYosAMAAAAAAAAwBQFZgAAAAAAAACmKDADAAAAAAAAMEWBGQAAAAAAAIApCswA\n",
       "AAAAAAAATFFgBgAAAAAAAGCKAjMAAAAAAAAAUxSYAQAAAAAAAJiiwAwAAAAAAADAlOOPbgAA/zyj\n",
       "mLVU0z4Tb1exr6PYz6U9BrerO3fLxt6LKjeuOUVGNawXlSR7MfC2d6Lugxt7L2+s5bYV+zqW4hot\n",
       "j8FebNueXlaSbHnoZY3uc9v23qvpVnzNvY7ub7Kve29HOnenR87HXts+9kMtK0neD71xeChmJcnD\n",
       "1uvrw9ob1LvDVstKkrti207FrCQ5FvMO5bv4Ws273Xe14vUje33f7eVdillJci7mfRT3oiT5KLbt\n",
       "betlvRezkuTt2lsHb91tN6/FvLdrLytJ3rbevvu2dx/c297r7PtyLmZ91LKS5GN5r2Vd0m3bdfSe\n",
       "WzMrSbZxqWXto7uw9tFbCyPNdVV+6WjmFb/d/WNgMep2v6c0+QczAAAAAAAAAFMUmAEAAAAAAACY\n",
       "osAMAAAAAAAAwBQFZgAAAAAAAACmKDADAAAAAAAAMEWBGQAAAAAAAIApCswAAAAAAAAATFFgBgAA\n",
       "AAAAAGCKAjMAAAAAAAAAUxSYAQAAAOC/tW9Hy63kyBFAE6R0x///s3Mlkg0/aDfsF29UjHMtjHXO\n",
       "B2QUGugG2MUGAABGNJgBAAAAAAAAGNFgBgAAAAAAAGBEgxkAAAAAAACAkbfvLgCAc+xy3qomrmJW\n",
       "W3GcuzzO1Z7Vpl5tu74+ev/BW/uqZSXdJdJcHu2lW38gFV3V4toDLeZd5dqKC27filnl5+RO756/\n",
       "Vvf5cTVrK2YlyWv/6mW9enP63PdaVjvvcXUfvJ/FvI/uZct/3Hu1/XHvFvfHrXdm+OPeW7u/bt1x\n",
       "vhefu+/l5+7brfc8upXPM7fivnzyUauZ9SofKpt5z6v7nU7zudvM+srrjfX3q7i/vGpRSZLfxbw/\n",
       "67X17qzfr+657c+rl/d7P2tZSfJ7fRazfteyPtaftawkeaRXWzMrSZ75qGW99qOWlSRXMe8qr91d\n",
       "zNu790Da7Xdaxbzdfp+yTz0dtfN6Wb5gBgAAAAAAAGBEgxkAAAAAAACAEQ1mAAAAAAAAAEY0mAEA\n",
       "AAAAAAAY0WAGAAAAAAAAYESDGQAAAAAAAIARDWYAAAAAAAAARjSYAQAAAAAAABjRYAYAAAAAAABg\n",
       "RIMZAAAAAAAAgBENZgAAAAAAAABGNJgBAAAAAAAAGNFgBgAAAAAAAGDk7bsLAOD/r13MWtW0r8Qz\n",
       "lce5i+NcJ89Bu7arlrTLa605DbsYtnZ3Dk5Oa+Zd7ZEW52Hf2rNQrO0qZq3e/d7Ou9arlpUku5j3\n",
       "Ktf22sXailnP61ctK0keu7c+Hte9lpUkn1fv/+efV3fv+3j18n51L1v+uPVqey9m/bp1vyd4L+4J\n",
       "b+Uz5b041Ht5X17No3gvqq65kxa3+CTJq/h76Nn8bZXkWbxw7efuZ7O24pHho3tsy0e1tm5xv1+9\n",
       "m+GjeDZKkt/70ctavawk+Vgfxaw/a1mf6WV95f2uZT1375olyev67GXtXlaSXPtZzCr/Vivm7eJv\n",
       "jp3uOLvvZ8qbQvVdYPs91Jl8wQwAAAAAAADAiAYzAAAAAAAAACMazAAAAAAAAACMaDADAAAAAAAA\n",
       "MKLBDAAAAAAAAMCIBjMAAAAAAAAAIxrMAAAAAAAAAIxoMAMAAAAAAAAwosEMAAAAAAAAwIgGMwAA\n",
       "AAAAAAAjGswAAAAAAAAAjGgwAwAAAAAAADCiwQwAAAAAAADAiAYzAAAAAAAAACNv310AAEzsct6q\n",
       "Jq5iVltxnP1J4C/YuWpZa/f+a7hXr6663V68TefWdl3l2lYvbzezbt2127xHm1lJ9z698qplJcm1\n",
       "enmvPGtZz/I4n/tXLeuxuz/nP/e9lvVxdf/L/uvWy/v16h5Aft16ee/Fy9bMSpK34jjfVncO7sW4\n",
       "4jC/8pphB5+dm0et9omyeZx5lot7HlzbZzHvUcz6LJ9PP65ecZ/FrCT52L0zyEcetawk+Vi9vI/1\n",
       "UctKks/1u5eVXtajmJUkz93Le17dOXjtz1rWtbtr99q93wm7mJW0f/sVf8Psc38vt9/17Or7mfa7\n",
       "njNr8wUzAAAAAAAAACMazAAAAAAAAACMaDADAAAAAAAAMKLBDAAAAAAAAMCIBjMAAAAAAAAAIxrM\n",
       "AAAAAAAAAIxoMAMAAAAAAAAwosEMAAAAAAAAwIgGMwAAAAAAAAAjGswAAAAAAAAAjGgwAwAAAAAA\n",
       "ADCiwQwAAAAAAADAiAYzAAAAAAAAACNv310AAHyHXcxa5bQfYxev22pft+acnmvnqmWtXZ6DYlx9\n",
       "NquB3erOfbYlzep2s7arPAerOM5b7x5NkiuvXtbqZSXJq1jbaz1rWc9iVpI8dy/vsX/Vsr7yeq8H\n",
       "fhWzkuR932tZv67u/+zfi2eQt1uvtvfytny/FcdZrq1YWjUr+TlfdTR30uZPhCTF3SV5tWsrbvPP\n",
       "8oV7FM9Hj2Jtj6t7NvosrpDP3T0bfa7HkVlJ8pmPXtbqZSXJI7+PzHru7jhf12cva/eyvvJ66+0q\n",
       "np3bebu6wyS7+AzZu/esrP72/kfimVntvJNr6/kpZ10AAAAAAAAA/pc0mAEAAAAAAAAY0WAGAAAA\n",
       "AAAAYESDGQAAAAAAAIARDWYAAAAAAAAARjSYAQAAAAAAABjRYAYAAAAAAABgRIMZAAAAAAAAgBEN\n",
       "ZgAAAAAAAABGNJgBAAAAAAAAGNFgBgAAAAAAAGBEgxkAAAAAAACAEQ1mAAAAAAAAAEY0mAEAAAAA\n",
       "AAAYefvuAgDg724Xs1Y17SvxR9jl67aa1609p2eqr9x9FcN6UUmym6Otr91iVrm2q3jdulPaHedO\n",
       "b+3uq3gfJNmrWFsxK0mu9SpmPWtZr/SykuS1HrWs5/qjlpUkj/1ey/osZiXJezHvfd9rWUnytnr/\n",
       "23+/eln3Yl1J8lY8G92r56zulxO3cm3NtHJp3d2vGNbdXZKreJ65yse2V/HCPZtn5yTP4nVr1vZI\n",
       "77yQJI/imeGzuMcnyWN9HpmVJI98HJmVJM/dy3vt3nV7FrOS5CrmvXZ37V67d181s5JkF/P27j6P\n",
       "dvFZ2fxNWt+Zq+P8Ge/b6op7vC+YAQAAAAAAABjRYAYAAAAAAABgRIMZAAAAAAAAgBENZgAAAAAA\n",
       "AABGNJgBAAAAAAAAGNFgBgAAAAAAAGBEgxkAAAAAAACAEQ1mAAAAAAAAAEY0mAEAAAAAAAAY0WAG\n",
       "AAAAAAAAYESDGQAAAAAAAIARDWYAAAAAAAAARjSYAQAAAAAAABh5++4CAID/sst5q57YtL67gP/Z\n",
       "bl638jjXyXPaU52BfRXTkuac7oOXx26vtWpcL+wqPyd38fnRnoO9evfCvnXvqyuvYtbzyKwkea1H\n",
       "LeuZXlaSPNZ7Lett/aplJcn7LtZWzEqSt9x7WbuXdS9mJcm9uPfdV/dbh1uxtvZXGOvk825Rc7fa\n",
       "7X25mPcq1/Yqnhle6e7Lr+K+/Fy9rEd5X3429+ViVpI88lnLehaz2nmv3a2tmdfN6q6PaxfPu8Ws\n",
       "dt4u17Z373m0y8/dFJ+7adZWfT/W3ufb78cOru3QV4G+YAYAAAAAAABgRIMZAAAAAAAAgBENZgAA\n",
       "AAAAAABGNJgBAAAAAAAAGNFgBgAAAAAAAGBEgxkAAAAAAACAEQ1mAAAAAAAAAEY0mAEAAAAAAAAY\n",
       "0WAGAAAAAAAAYESDGQAAAAAAAIARDWYAAAAAAAAARjSYAQAAAAAAABjRYAYAAAAAAABg5O27CwAA\n",
       "/n12MWsVs76cXV1Pc5xJdnGsq1zboXZ7Dor/0Vz7qmUl7eXRvW4np3X15vSqX7Vebfvqrt3betWy\n",
       "djHrWs9aVpLc86hlvfJZy0qS5/pVy7qXa3us91rWvZiVJG+791rlvu69rGJdSXIv7n238rcOzbzV\n",
       "3EiTrOIZ9ezTbm+/au/wu3jevYr7aJK8Vi/vVdz7kuSVXt4rvb30uXr7aJK8ivvys5iVdGt77e6+\n",
       "/NrN2rrX7arW1lu7VzGrnbeL92iS7F081xezku7voRxdW3Nf7u593Z2+fmo4MurfFFjhC2YAAAAA\n",
       "AAAARjSYAQAAAAAAABjRYAYAAAAAAABgRIMZAAAAAAAAgBENZgAAAAAAAABGNJgBAAAAAAAAGNFg\n",
       "BgAAAAAAAGBEgxkAAAAAAACAEQ1mAAAAAAAAAEY0mAEAAAAAAAAY0WAGAAAAAAAAYESDGQAAAAAA\n",
       "AIARDWYAAAAAAAAARjSYAQAAAAAAABh5++4CAIC/h13OW9W0s6vrKo51F8e52nNwsquWtMtrrTkN\n",
       "ex18H+zeQHf5+bGK/+Fd9dqKa3f3spJkr2Jt61XLuq3uT+ZrPWtZr2JWktzzqGXdyq8anuu9lnUv\n",
       "19ZcI83abutey0qSW3p5t9391uHWfO6ubm3r6DPlmdr78i7ufVcxK0mu4t53pbf3JckrvT3mKmY1\n",
       "62rnXbu3jyaH17abtXXntJnXzNq7e4/uZm3lZ1tzrO3r1v0t371u3d+4zdra73qaeSe/hzq5th5f\n",
       "MAMAAAAAAAAwosEMAAAAAAAAwIgGMwAAAAAAAAAjGswAAAAAAAAAjGgwAwAAAAAAADCiwQwAAAAA\n",
       "AADAiAYzAAAAAAAAACMazAAAAAAAAACMaDADAAAAAAAAMKLBDAAAAAAAAMCIBjMAAAAAAAAAIxrM\n",
       "AAAAAAAAAIxoMAMAAAAAAAAw8vbdBQAAP9P+7gL+hVWtbhWz2orj3OVxrpPn4NzVu3PVslZ9TntR\n",
       "uzgHa3fnczfXbrm27trtrbWvtF7ezr2WdeVVy0qS2+7l3dazlpUk1+q9Hrit3hwkyWs3a+u+BrkV\n",
       "11vzujXrSpJVHWf3W4dV/HaimfWVd/I5sKm3v/R3vub+cu7e196vmnm7uPdd6e59r4Nru3Yvbxez\n",
       "kuRqXrdybd31duZ98JXXfB6dW1v7uVv9DdP+HVkda7O2k3+TltV/f5+qN05fMAMAAAAAAAAwosEM\n",
       "AAAAAAAAwIgGMwAAAAAAAAAjGswAAAAAAAAAjGgwAwAAAAAAADCiwQwAAAAAAADAiAYzAAAAAAAA\n",
       "ACMazAAAAAAAAACMaDADAAAAAAAAMKLBDAAAAAAAAMCIBjMAAAAAAAAAIxrMAAAAAAAAAIxoMAMA\n",
       "AAAAAAAwosEMAAAAAAAAwMjbdxcAAHCaXcxa1bSvxDOVx9mdBP6C+srdVzOtlrTL62Pt3pXb9Vlo\n",
       "1tb9r3LzWdlca2s1122y16uWde17LStJbutZy1qrXVsvb9Wv25m13Vb7Hu3lNbOSZBXHuuqHhl7e\n",
       "yceZ7m7VTivufdWzTLLTy2tmJcm1e/tVs7ZmXUmy09yXy7UV806+bs1xtvOq92j9+VG8bvXams/x\n",
       "bm3NsZ78W+3crLLib2/+Gl8wAwAAAAAAADCiwQwAAAAAAADAiAYzAAAAAAAAACMazAAAAAAAAACM\n",
       "aDADAAAAAAAAMKLBDAAAAAAAAMCIBjMAAAAAAAAAIxrMAAAAAAAAAIxoMAMAAAAAAAAwosEMAAAA\n",
       "AAAAwIgGMwAAAAAAAAAjGswAAAAAAAAAjGgwAwAAAAAAADCykrf93UUAADCzDk77MdbJ161Z288Y\n",
       "52r/57a6Prq1reacrnZtzbxe1jp4nPXa1r2X1V67R9fWy7udvD6a161eW3NPaO99J++lp+q+ptzF\n",
       "vGbWV+DVi0ovK0l2sbarWFuzriTZefWy6rU1r1tvnF95J6/d5ljPXbvNZ2V7DprPtpP3hHZt3byD\n",
       "W3774NqO1rzne3zBDAAAAAAAAMCIBjMAAAAAAAAAIxrMAAAAAAAAAIxoMAMAAAAAAAAwosEMAAAA\n",
       "AAAAwIgGMwAAAAAAAAAjGswAAAAAAAAAjGgwAwAAAAAAADCiwQwAAAAAAADAiAYzAAAAAAAAACMa\n",
       "zAAAAAAAAACMaDADAAAAAAAAMKLBDAAAAAAAAMDISt72dxcBAMD/vXVw2s9Rvm7VuJPntFlb+044\n",
       "t7as5v+L29etWNvq1VatK0nzP96rOp/nzkHSre3k69at7eQ5aO8vzXv+3Np+ju5ryl3NK9e2e3k7\n",
       "Vy3rn4m1pN2rrT3Ok2tLtbb22m2OtTynzbyD56B63YrPon8EFpPOra29J/TzSurr46don2fO5Atm\n",
       "AAAAAAAAAEY0mAEAAAAAAAAY0WAGAAAAAAAAYESDGQAAAAAAAIARDWYAAAAAAAAARjSYAQAAAAAA\n",
       "ABjRYAYAAAAAAABgRIMZAAAAAAAAgBENZgAAAAAAAABGNJgBAAAAAAAAGNFgBgAAAAAAAGBEgxkA\n",
       "AAAAAACAEQ1mAAAAAAAAAEY0mAEAAAAAAAAYWcnb/u4iAAD4e1vfXcC/dHZ1XcWxHn3ZmsWdPNBu\n",
       "bau6Ptr/VT5zTlf7P9nr4Nqa1+3g9fFz5rT8/CiO8+hnW93Jtf0Uvdeeu5j1z8Ra0j64tly1rJTH\n",
       "Wa2tvD72Prg2c/oXopp1JT/l2dbXrO3gcdb3hJ+ieV/9DL5gBgAAAAAAAGBEgxkAAAAAAACAEQ1m\n",
       "AAAAAAAAAEY0mAEAAAAAAAAY0WAGAAAAAAAAYESDGQAAAAAAAIARDWYAAAAAAAAARjSYAQAAAAAA\n",
       "ABjRYAYAAAAAAABgRIMZAAAAAAAAgBENZgAAAAAAAABGNJgBAAAAAAAAGNFgBgAAAAAAAGBkJW/7\n",
       "u4sAAID/bn13Af/S2dUda5163U6tK+nX1szr1raaedW1du4cVK/ZPxJ7Ud3/snfHWl67x663g+/R\n",
       "9to9dn9Juvf8ubovFg9+TbnbtfXy+letmXjVkvbRc1CurTrW3hwk7bGeO6fNOaivj58yB3XN9dGL\n",
       "+jcF/gA/5gRyLF8wAwAAAAAAADCiwQwAAAAAAADAiAYzAAAAAAAAACMazAAAAAAAAACMaDADAAAA\n",
       "AAAAMKLBDAAAAAAAAMCIBjMAAAAAAAAAIxrMAAAAAAAAAIxoMAMAAAAAAAAwosEMAAAAAAAAwIgG\n",
       "MwAAAAAAAAAjGswAAAAAAAAAjGgwAwAAAAAAADDyn7V8oMR4H9j7AAAAAElFTkSuQmCC\n",
       "\" transform=\"translate(169, 47)\"/>\n",
       "</g>\n",
       "<defs>\n",
       "  <clipPath id=\"clip533\">\n",
       "    <rect x=\"2160\" y=\"47\" width=\"73\" height=\"1440\"/>\n",
       "  </clipPath>\n",
       "</defs>\n",
       "<g clip-path=\"url(#clip533)\">\n",
       "<image width=\"72\" height=\"1439\" xlink:href=\"data:image/png;base64,\n",
       "iVBORw0KGgoAAAANSUhEUgAAAEgAAAWfCAYAAAAI7rB3AAAMWUlEQVR4nO3dwY0rRxAFwaZQ/lsh\n",
       "L6XfLQtUeSQPERYsEg8c9MyQ+/n3/v0O/+uvb/8Bv06gIFAQKAgU5r5/v/03/DQLCgIFgYJAQaAw\n",
       "7/359t/w0ywoCBQECgIFR41gQUGgIFAQKAgU5rmKrSwoCBQECgIFgcK86yq2saAgUBAoCBQcNYIF\n",
       "BYGCQEGgIFBwFQsWFAQKAgWBgvtBwYKCQEGgIFAQKMxx1FhZUBAoCBQECgIFN8yCBQWBgkBBoDDH\n",
       "DbOVBQWBgkBBoCBQmHP/+fbf8NMsKAgUBAoCBYGCxz7BgoJAQaAgUHDDLFhQECgIFAQKAgVXsWBB\n",
       "QaAgUBAouB8ULCgIFAQKAgWBwnwcNVYWFAQKAgWBgkBhzvWfWTYWFAQKAgWBgqNGsKAgUBAoCBQE\n",
       "Co4awYKCQEGgIFAQKHjDLFhQECgIFAQK83HUWFlQECgIFAQKAgXvSQcLCgIFgYJAwVEjWFAQKAgU\n",
       "BAoCBc/mgwUFgYJAQaAgUHAWCxYUBAoCBYGCo0awoCBQECgIFAQKjhrBgoJAQaAgUBAozLn323/D\n",
       "T7OgIFAQKAgUHDWCBQWBgkBBoCBQ8NgnWFAQKAgUBAo+pIMFBYGCQEGgIFCYj6caKwsKAgWBgkBB\n",
       "oOAsFiwoCBQECgIFL1AFCwoCBYGCQEGg4IZZsKAgUBAoCBTcDwoWFAQKAgWBgkDBDbNgQUGgIFAQ\n",
       "KAgUXMWCBQWBgkBBoOB788GCgkBBoCBQECg4agQLCgIFgYJAQaDgKhYsKAgUBAoCBR/SwYKCQEGg\n",
       "IFAQKLiKBQsKAgWBgkBhzvMhvbGgIFAQKAgUBAqOGsGCgkBBoCBQECi4igULCgIFgYJAwYd0sKAg\n",
       "UBAoCBQECnPu+/bf8NMsKAgUBAoCBYGCs1iwoCBQECgIFBw1ggUFgYJAQaAgUHDUCBYUBAoCBYGC\n",
       "o0awoCBQECgIFAQKc5w0VhYUBAoCBYGCQGHOcxbbWFAQKAgUBAqOGsGCgkBBoCBQECi4igULCgIF\n",
       "gYJAQaAwfohzZ0FBoCBQECg4agQLCgIFgYJAQaDgKhYsKAgUBAoChTn38+2/4adZUBAoCBQECgKF\n",
       "ec9VbGNBQaAgUBAoCBTcMAsWFAQKAgWBghtmwYKCQEGgIFAQKMy7Gm3UCQIFgYJAwVEjWFAQKAgU\n",
       "BAoChTmeza8sKAgUBAoCBYHCPGexlQUFgYJAQaAwx1ONlTpBoCBQECgIFBw1ggUFgYJAQaAgUPDY\n",
       "J1hQECgIFAQKXgMO6gSBgkBBoCBQ8J50sKAgUBAoCBQ81QgWFAQKAgWBgkBh3tNoo04QKAgUBAoC\n",
       "BTfMggUFgYJAQaDghlmwoCBQECgIFAQKc9wwW6kTBAoCBYGCQMFZLFhQECgIFAQKPqSDBQWBgkBB\n",
       "oCBQ8L35YEFBoCBQECj43nxQJwgUBAoCBYHCPEeNlQUFgYJAQaAgUPDYJ1hQECgIFAQK/jNLUCcI\n",
       "FAQKAgWBghtmwYKCQEGgIFAQKLhhFiwoCBQECgIFR41gQUGgIFAQKAgUvCcd1AkCBYGCQMFRI1hQ\n",
       "ECgIFAQKAgVPNYIFBYGCQEGgIFBwFgsWFAQKAgWBgn+fFSwoCBQECgIFgYJ/ZRzUCQIFgYJAQaDg\n",
       "hlmwoCBQECgIFDybDxYUBAoCBYGCQMFRI1hQECgIFAQKc31IrywoCBQECgIFgYLvzQd1gkBBoCBQ\n",
       "ECi4YRYsKAgUBAoCBR/SwYKCQEGgIFAQKHjDLFhQECgIFAQKjhrBgoJAQaAgUBAouIoFCwoCBYGC\n",
       "QEGg4NdfgjpBoCBQECjM9VRjZUFBoCBQECgIFNwwCxYUBAoCBYGCQMFVLFhQECgIFAQKPqSDBQWB\n",
       "gkBBoCBQ8BtmwYKCQEGgIFBw1AgWFAQKAgWBgkDBVSxYUBAoCBQECgIFX2YJ6gSBgkBBoODLLMGC\n",
       "gkBBoCBQECi4YRYsKAgUBAoCBYGCq1iwoCBQECgIFLwGHCwoCBQECgIFgYKjRrCgIFAQKAgU5h0f\n",
       "0hsLCgIFgYJAQaDghlmwoCBQECgIFAQKbpgFCwoCBYGCQMFRI1hQECgIFAQKAgVHjWBBQaAgUBAo\n",
       "CBScxYIFBYGCQEGg4KgRLCgIFAQKAgWBgqtYsKAgUBAoCBTm+jLLyoKCQEGgIFAQKDhqBAsKAgWB\n",
       "gkBBoODZfLCgIFAQKAgU5r1v/wm/zYKCQEGgIFAQKDhqBAsKAgWBgkDBD00GCwoCBYGCQEGg4KgR\n",
       "LCgIFAQKAgWBgjfMggUFgYJAQaDgyyzBgoJAQaAgUBAoeMMsWFAQKAgUBAoCBY99ggUFgYJAQaDg\n",
       "qUawoCBQECgIFAQKHvsECwoCBYGCQMH9oGBBQaAgUBAoCBQ8mw8WFAQKAgWBgkDBDbNgQUGgIFAQ\n",
       "KHg2HywoCBQECgIFgcLcb/8FP86CgkBBoCBQECg4iwULCgIFgYJAwRtmwYKCQEGgIFAQKLhhFiwo\n",
       "CBQECgIF94OCBQWBgkBBoCBQcNQIFhQECgIFgYJAwVksWFAQKAgUBAqezQcLCgIFgYJAQaAwfvxl\n",
       "Z0FBoCBQECgIFJzFggUFgYJAQaDg2XywoCBQECgIFAQKns0HCwoCBYGCQMFRI1hQECgIFAQKAgVH\n",
       "jWBBQaAgUBAoCBTmesVsZUFBoCBQECi4YRYsKAgUBAoCBYGCG2bBgoJAQaAgUHDUCBYUBAoCBYGC\n",
       "QGGepxorCwoCBYGCQEGgMPe4YbaxoCBQECgIFLxAFSwoCBQECgIFgYIfmgwWFAQKAgWBgkDBD00G\n",
       "CwoCBYGCQMGz+WBBQaAgUBAoCBS8Jx0sKAgUBAoCBd84DBYUBAoCBYGCQMFRI1hQECgIFAQKAgXv\n",
       "SQcLCgIFgYJAwWvAwYKCQEGgIFAQKDhqBAsKAgWBgkBBoOA96WBBQaAgUBAo+ImuYEFBoCBQECgI\n",
       "FNwwCxYUBAoCBYGCZ/PBgoJAQaAgUBAoOGoECwoCBYGCQEGg4CwWLCgIFAQKAgVHjWBBQaAgUBAo\n",
       "CBRcxYIFBYGCQEGgIFBwwyxYUBAoCBQECo4awYKCQEGgIFAQKDhqBAsKAgWBgkDBUSNYUBAoCBQE\n",
       "CgIFP9EVLCgIFAQKAgWBgv8vFiwoCBQECgIFN8yCBQWBgkBBoCBQmHdcxjYWFAQKAgWBgkDBWSxY\n",
       "UBAoCBQECp7NBwsKAgWBgkBBoODZfLCgIFAQKAgU3A8KFhQECgIFgYJAwbP5YEFBoCBQECgIFJzF\n",
       "ggUFgYJAQaDgJ7qCBQWBgkBBoCBQmOsVs5UFBYGCQEGg4AWqYEFBoCBQECgIFOY5aqwsKAgUBAoC\n",
       "BYGCs1iwoCBQECgIFDzVCBYUBAoCBYGCQMEbZsGCgkBBoCBQECjM9ZXMlQUFgYJAQaDghlmwoCBQ\n",
       "ECgIFAQKfv0lWFAQKAgUBApeoAoWFAQKAgWBgkDBU41gQUGgIFAQKAgU3DALFhQECgIFgcLc45bZ\n",
       "xoKCQEGgIFAQKLhhFiwoCBQECgIFgYKrWLCgIFAQKAgUPNUIFhQECgIFgYJAwWOfYEFBoCBQECjM\n",
       "/ThqbCwoCBQECgIFgYKjRrCgIFAQKAgUBArzXMVWFhQECgIFgYKjRrCgIFAQKAgUBApzP65iGwsK\n",
       "AgWBgkBBoOAsFiwoCBQECgIFTzWCBQWBgkBBoCBQcNQIFhQECgIFgYIP6WBBQaAgUBAoCBQ8mw8W\n",
       "FAQKAgWBgkBh3vnz7b/hp1lQECgIFAQKbpgFCwoCBYGCQEGg4A2zYEFBoCBQECjMfe4HbSwoCBQE\n",
       "CgIFgYKjRrCgIFAQKAgUBApzPZtfWVAQKAgUBAqOGsGCgkBBoCBQECg4agQLCgIFgYJAQaAw7zmL\n",
       "bSwoCBQECgIFN8yCBQWBgkBBoCBQ8J50sKAgUBAoCBQcNYIFBYGCQEGgIFCY56ixsqAgUBAoCBQE\n",
       "Cs5iwYKCQEGgIFCY6wWqlQUFgYJAQaAgUPCb9sGCgkBBoCBQECj4MkuwoCBQECgIFDzVCBYUBAoC\n",
       "BYGCQMFRI1hQECgIFAQKPqSDBQWBgkBBoCBQ8Gw+WFAQKAgUBAoCBWexYEFBoCBQECjM8Wx+ZUFB\n",
       "oCBQECgIFBw1ggUFgYJAQaAgUPCedLCgIFAQKAgU5jhqrCwoCBQECgIFgYI3zIIFBYGCQEGg4Nl8\n",
       "sKAgUBAoCBQECm6YBQsKAgWBgkBBoDDvvG//DT/NgoJAQaAgUHDDLFhQECgIFAQKAoU5jhorCwoC\n",
       "BYGCQOE/LrLuTX/wFc8AAAAASUVORK5CYII=\n",
       "\" transform=\"translate(2161, 47)\"/>\n",
       "</g>\n",
       "<path clip-path=\"url(#clip530)\" d=\"M2280.7 1468.62 Q2277.09 1468.62 2275.26 1472.18 Q2273.45 1475.72 2273.45 1482.85 Q2273.45 1489.96 2275.26 1493.53 Q2277.09 1497.07 2280.7 1497.07 Q2284.33 1497.07 2286.14 1493.53 Q2287.97 1489.96 2287.97 1482.85 Q2287.97 1475.72 2286.14 1472.18 Q2284.33 1468.62 2280.7 1468.62 M2280.7 1464.91 Q2286.51 1464.91 2289.57 1469.52 Q2292.64 1474.1 2292.64 1482.85 Q2292.64 1491.58 2289.57 1496.19 Q2286.51 1500.77 2280.7 1500.77 Q2274.89 1500.77 2271.81 1496.19 Q2268.76 1491.58 2268.76 1482.85 Q2268.76 1474.1 2271.81 1469.52 Q2274.89 1464.91 2280.7 1464.91 Z\" fill=\"#000000\" fill-rule=\"evenodd\" fill-opacity=\"1\" /><path clip-path=\"url(#clip530)\" d=\"M2274.38 1272.59 L2290.7 1272.59 L2290.7 1276.52 L2268.76 1276.52 L2268.76 1272.59 Q2271.42 1269.83 2276 1265.2 Q2280.61 1260.55 2281.79 1259.21 Q2284.03 1256.68 2284.91 1254.95 Q2285.82 1253.19 2285.82 1251.5 Q2285.82 1248.74 2283.87 1247.01 Q2281.95 1245.27 2278.85 1245.27 Q2276.65 1245.27 2274.2 1246.03 Q2271.77 1246.8 2268.99 1248.35 L2268.99 1243.63 Q2271.81 1242.49 2274.27 1241.91 Q2276.72 1241.34 2278.76 1241.34 Q2284.13 1241.34 2287.32 1244.02 Q2290.52 1246.71 2290.52 1251.2 Q2290.52 1253.33 2289.7 1255.25 Q2288.92 1257.15 2286.81 1259.74 Q2286.23 1260.41 2283.13 1263.63 Q2280.03 1266.82 2274.38 1272.59 Z\" fill=\"#000000\" fill-rule=\"evenodd\" fill-opacity=\"1\" /><path clip-path=\"url(#clip530)\" d=\"M2300.56 1241.96 L2318.92 1241.96 L2318.92 1245.9 L2304.84 1245.9 L2304.84 1254.37 Q2305.86 1254.02 2306.88 1253.86 Q2307.9 1253.67 2308.92 1253.67 Q2314.7 1253.67 2318.08 1256.85 Q2321.46 1260.02 2321.46 1265.43 Q2321.46 1271.01 2317.99 1274.11 Q2314.52 1277.19 2308.2 1277.19 Q2306.02 1277.19 2303.76 1276.82 Q2301.51 1276.45 2299.1 1275.71 L2299.1 1271.01 Q2301.19 1272.15 2303.41 1272.7 Q2305.63 1273.26 2308.11 1273.26 Q2312.11 1273.26 2314.45 1271.15 Q2316.79 1269.04 2316.79 1265.43 Q2316.79 1261.82 2314.45 1259.72 Q2312.11 1257.61 2308.11 1257.61 Q2306.23 1257.61 2304.36 1258.03 Q2302.51 1258.44 2300.56 1259.32 L2300.56 1241.96 Z\" fill=\"#000000\" fill-rule=\"evenodd\" fill-opacity=\"1\" /><path clip-path=\"url(#clip530)\" d=\"M2270.21 1018.38 L2288.57 1018.38 L2288.57 1022.32 L2274.5 1022.32 L2274.5 1030.79 Q2275.52 1030.44 2276.53 1030.28 Q2277.55 1030.1 2278.57 1030.1 Q2284.36 1030.1 2287.74 1033.27 Q2291.12 1036.44 2291.12 1041.85 Q2291.12 1047.43 2287.64 1050.54 Q2284.17 1053.61 2277.85 1053.61 Q2275.68 1053.61 2273.41 1053.24 Q2271.16 1052.87 2268.76 1052.13 L2268.76 1047.43 Q2270.84 1048.57 2273.06 1049.12 Q2275.28 1049.68 2277.76 1049.68 Q2281.77 1049.68 2284.1 1047.57 Q2286.44 1045.47 2286.44 1041.85 Q2286.44 1038.24 2284.1 1036.14 Q2281.77 1034.03 2277.76 1034.03 Q2275.89 1034.03 2274.01 1034.45 Q2272.16 1034.86 2270.21 1035.74 L2270.21 1018.38 Z\" fill=\"#000000\" fill-rule=\"evenodd\" fill-opacity=\"1\" /><path clip-path=\"url(#clip530)\" d=\"M2310.33 1021.46 Q2306.72 1021.46 2304.89 1025.03 Q2303.08 1028.57 2303.08 1035.7 Q2303.08 1042.8 2304.89 1046.37 Q2306.72 1049.91 2310.33 1049.91 Q2313.96 1049.91 2315.77 1046.37 Q2317.6 1042.8 2317.6 1035.7 Q2317.6 1028.57 2315.77 1025.03 Q2313.96 1021.46 2310.33 1021.46 M2310.33 1017.76 Q2316.14 1017.76 2319.2 1022.36 Q2322.27 1026.95 2322.27 1035.7 Q2322.27 1044.42 2319.2 1049.03 Q2316.14 1053.61 2310.33 1053.61 Q2304.52 1053.61 2301.44 1049.03 Q2298.39 1044.42 2298.39 1035.7 Q2298.39 1026.95 2301.44 1022.36 Q2304.52 1017.76 2310.33 1017.76 Z\" fill=\"#000000\" fill-rule=\"evenodd\" fill-opacity=\"1\" /><path clip-path=\"url(#clip530)\" d=\"M2268.76 794.804 L2290.98 794.804 L2290.98 796.795 L2278.43 829.364 L2273.55 829.364 L2285.35 798.74 L2268.76 798.74 L2268.76 794.804 Z\" fill=\"#000000\" fill-rule=\"evenodd\" fill-opacity=\"1\" /><path clip-path=\"url(#clip530)\" d=\"M2300.14 794.804 L2318.5 794.804 L2318.5 798.74 L2304.43 798.74 L2304.43 807.212 Q2305.45 806.865 2306.46 806.703 Q2307.48 806.517 2308.5 806.517 Q2314.29 806.517 2317.67 809.689 Q2321.05 812.86 2321.05 818.277 Q2321.05 823.855 2317.58 826.957 Q2314.1 830.036 2307.78 830.036 Q2305.61 830.036 2303.34 829.665 Q2301.09 829.295 2298.69 828.554 L2298.69 823.855 Q2300.77 824.99 2302.99 825.545 Q2305.21 826.101 2307.69 826.101 Q2311.7 826.101 2314.03 823.994 Q2316.37 821.888 2316.37 818.277 Q2316.37 814.666 2314.03 812.559 Q2311.7 810.453 2307.69 810.453 Q2305.82 810.453 2303.94 810.869 Q2302.09 811.286 2300.14 812.166 L2300.14 794.804 Z\" fill=\"#000000\" fill-rule=\"evenodd\" fill-opacity=\"1\" /><path clip-path=\"url(#clip530)\" d=\"M2269.43 601.851 L2277.07 601.851 L2277.07 575.486 L2268.76 577.152 L2268.76 572.893 L2277.02 571.226 L2281.7 571.226 L2281.7 601.851 L2289.33 601.851 L2289.33 605.786 L2269.43 605.786 L2269.43 601.851 Z\" fill=\"#000000\" fill-rule=\"evenodd\" fill-opacity=\"1\" /><path clip-path=\"url(#clip530)\" d=\"M2308.78 574.305 Q2305.17 574.305 2303.34 577.87 Q2301.53 581.411 2301.53 588.541 Q2301.53 595.647 2303.34 599.212 Q2305.17 602.754 2308.78 602.754 Q2312.41 602.754 2314.22 599.212 Q2316.05 595.647 2316.05 588.541 Q2316.05 581.411 2314.22 577.87 Q2312.41 574.305 2308.78 574.305 M2308.78 570.601 Q2314.59 570.601 2317.64 575.208 Q2320.72 579.791 2320.72 588.541 Q2320.72 597.268 2317.64 601.874 Q2314.59 606.458 2308.78 606.458 Q2302.97 606.458 2299.89 601.874 Q2296.83 597.268 2296.83 588.541 Q2296.83 579.791 2299.89 575.208 Q2302.97 570.601 2308.78 570.601 Z\" fill=\"#000000\" fill-rule=\"evenodd\" fill-opacity=\"1\" /><path clip-path=\"url(#clip530)\" d=\"M2338.94 574.305 Q2335.33 574.305 2333.5 577.87 Q2331.7 581.411 2331.7 588.541 Q2331.7 595.647 2333.5 599.212 Q2335.33 602.754 2338.94 602.754 Q2342.57 602.754 2344.38 599.212 Q2346.21 595.647 2346.21 588.541 Q2346.21 581.411 2344.38 577.87 Q2342.57 574.305 2338.94 574.305 M2338.94 570.601 Q2344.75 570.601 2347.81 575.208 Q2350.89 579.791 2350.89 588.541 Q2350.89 597.268 2347.81 601.874 Q2344.75 606.458 2338.94 606.458 Q2333.13 606.458 2330.05 601.874 Q2327 597.268 2327 588.541 Q2327 579.791 2330.05 575.208 Q2333.13 570.601 2338.94 570.601 Z\" fill=\"#000000\" fill-rule=\"evenodd\" fill-opacity=\"1\" /><path clip-path=\"url(#clip530)\" d=\"M2269.43 378.273 L2277.07 378.273 L2277.07 351.907 L2268.76 353.574 L2268.76 349.315 L2277.02 347.648 L2281.7 347.648 L2281.7 378.273 L2289.33 378.273 L2289.33 382.208 L2269.43 382.208 L2269.43 378.273 Z\" fill=\"#000000\" fill-rule=\"evenodd\" fill-opacity=\"1\" /><path clip-path=\"url(#clip530)\" d=\"M2302.81 378.273 L2319.13 378.273 L2319.13 382.208 L2297.18 382.208 L2297.18 378.273 Q2299.84 375.518 2304.43 370.889 Q2309.03 366.236 2310.21 364.893 Q2312.46 362.37 2313.34 360.634 Q2314.24 358.875 2314.24 357.185 Q2314.24 354.43 2312.3 352.694 Q2310.38 350.958 2307.27 350.958 Q2305.08 350.958 2302.62 351.722 Q2300.19 352.486 2297.41 354.037 L2297.41 349.315 Q2300.24 348.181 2302.69 347.602 Q2305.14 347.023 2307.18 347.023 Q2312.55 347.023 2315.75 349.708 Q2318.94 352.393 2318.94 356.884 Q2318.94 359.014 2318.13 360.935 Q2317.34 362.833 2315.24 365.426 Q2314.66 366.097 2311.56 369.315 Q2308.45 372.509 2302.81 378.273 Z\" fill=\"#000000\" fill-rule=\"evenodd\" fill-opacity=\"1\" /><path clip-path=\"url(#clip530)\" d=\"M2328.99 347.648 L2347.34 347.648 L2347.34 351.583 L2333.27 351.583 L2333.27 360.055 Q2334.29 359.708 2335.31 359.546 Q2336.32 359.361 2337.34 359.361 Q2343.13 359.361 2346.51 362.532 Q2349.89 365.704 2349.89 371.12 Q2349.89 376.699 2346.42 379.801 Q2342.95 382.879 2336.63 382.879 Q2334.45 382.879 2332.18 382.509 Q2329.94 382.139 2327.53 381.398 L2327.53 376.699 Q2329.61 377.833 2331.83 378.389 Q2334.06 378.944 2336.53 378.944 Q2340.54 378.944 2342.88 376.838 Q2345.21 374.731 2345.21 371.12 Q2345.21 367.509 2342.88 365.403 Q2340.54 363.296 2336.53 363.296 Q2334.66 363.296 2332.78 363.713 Q2330.93 364.13 2328.99 365.009 L2328.99 347.648 Z\" fill=\"#000000\" fill-rule=\"evenodd\" fill-opacity=\"1\" /><path clip-path=\"url(#clip530)\" d=\"M2269.43 154.695 L2277.07 154.695 L2277.07 128.329 L2268.76 129.996 L2268.76 125.737 L2277.02 124.07 L2281.7 124.07 L2281.7 154.695 L2289.33 154.695 L2289.33 158.63 L2269.43 158.63 L2269.43 154.695 Z\" fill=\"#000000\" fill-rule=\"evenodd\" fill-opacity=\"1\" /><path clip-path=\"url(#clip530)\" d=\"M2298.83 124.07 L2317.18 124.07 L2317.18 128.005 L2303.11 128.005 L2303.11 136.477 Q2304.13 136.13 2305.14 135.968 Q2306.16 135.783 2307.18 135.783 Q2312.97 135.783 2316.35 138.954 Q2319.73 142.125 2319.73 147.542 Q2319.73 153.121 2316.26 156.223 Q2312.78 159.301 2306.46 159.301 Q2304.29 159.301 2302.02 158.931 Q2299.77 158.56 2297.37 157.82 L2297.37 153.121 Q2299.45 154.255 2301.67 154.811 Q2303.89 155.366 2306.37 155.366 Q2310.38 155.366 2312.71 153.26 Q2315.05 151.153 2315.05 147.542 Q2315.05 143.931 2312.71 141.824 Q2310.38 139.718 2306.37 139.718 Q2304.5 139.718 2302.62 140.135 Q2300.77 140.551 2298.83 141.431 L2298.83 124.07 Z\" fill=\"#000000\" fill-rule=\"evenodd\" fill-opacity=\"1\" /><path clip-path=\"url(#clip530)\" d=\"M2338.94 127.149 Q2335.33 127.149 2333.5 130.713 Q2331.7 134.255 2331.7 141.385 Q2331.7 148.491 2333.5 152.056 Q2335.33 155.598 2338.94 155.598 Q2342.57 155.598 2344.38 152.056 Q2346.21 148.491 2346.21 141.385 Q2346.21 134.255 2344.38 130.713 Q2342.57 127.149 2338.94 127.149 M2338.94 123.445 Q2344.75 123.445 2347.81 128.051 Q2350.89 132.635 2350.89 141.385 Q2350.89 150.111 2347.81 154.718 Q2344.75 159.301 2338.94 159.301 Q2333.13 159.301 2330.05 154.718 Q2327 150.111 2327 141.385 Q2327 132.635 2330.05 128.051 Q2333.13 123.445 2338.94 123.445 Z\" fill=\"#000000\" fill-rule=\"evenodd\" fill-opacity=\"1\" /><polyline clip-path=\"url(#clip530)\" style=\"stroke:#000000; stroke-linecap:butt; stroke-linejoin:round; stroke-width:4; stroke-opacity:1; fill:none\" points=\"\n",
       "  2232.76,1486.45 2232.76,1486.45 2256.76,1486.45 2232.76,1486.45 2232.76,1262.87 2256.76,1262.87 2232.76,1262.87 2232.76,1039.29 2256.76,1039.29 2232.76,1039.29 \n",
       "  2232.76,815.713 2256.76,815.713 2232.76,815.713 2232.76,592.135 2256.76,592.135 2232.76,592.135 2232.76,368.557 2256.76,368.557 2232.76,368.557 2232.76,144.979 \n",
       "  2256.76,144.979 2232.76,144.979 2232.76,47.2441 \n",
       "  \"/>\n",
       "</svg>\n"
      ]
     },
     "execution_count": 111,
     "metadata": {},
     "output_type": "execute_result"
    }
   ],
   "source": [
    "function truncated_gaussian(i₀, j₀, off) \n",
    "    \n",
    "    M = [ 250 * exp( - ( (i - i₀)^2 + (j - j₀)^2 ) / 300 ) - off for i in 1:nx, j in 1:ny ]\n",
    "    max.(0., M)\n",
    "    \n",
    "end\n",
    "\n",
    "#T₀ = [ 250 * exp( - ( (i - nx/2)^2 + (j - ny/2)^2 ) / 300 ) for i in 1:nx, j in 1:ny ]\n",
    "\n",
    "#T₀ = [ -(i - nx/2)^2 - (j - ny/.6)^2 + 40000 for i in 1:nx, j in 1:ny ]\n",
    "#T₀ = max.(0., T₀)\n",
    "\n",
    "T₀ = 1.5 * truncated_gaussian(nx/2, ny/2, 0) + \n",
    "     1 * truncated_gaussian(nx/3, ny/1.5, 0) +\n",
    "     1 * truncated_gaussian(nx/1.5, ny/3, 0) - \n",
    "     4 * truncated_gaussian(nx/1.5, ny/2, 0) - \n",
    "     2 * truncated_gaussian(nx/2, ny/1.5, 0)\n",
    "\n",
    "T₀ = max.(0., T₀)\n",
    "\n",
    "heatmap(T₀, clim=(0, maximum(T₀)))"
   ]
  },
  {
   "cell_type": "code",
   "execution_count": 112,
   "id": "9a39f35d",
   "metadata": {},
   "outputs": [
    {
     "data": {
      "image/svg+xml": [
       "<?xml version=\"1.0\" encoding=\"utf-8\"?>\n",
       "<svg xmlns=\"http://www.w3.org/2000/svg\" xmlns:xlink=\"http://www.w3.org/1999/xlink\" width=\"600\" height=\"400\" viewBox=\"0 0 2400 1600\">\n",
       "<defs>\n",
       "  <clipPath id=\"clip570\">\n",
       "    <rect x=\"0\" y=\"0\" width=\"2400\" height=\"1600\"/>\n",
       "  </clipPath>\n",
       "</defs>\n",
       "<path clip-path=\"url(#clip570)\" d=\"\n",
       "M0 1600 L2400 1600 L2400 0 L0 0  Z\n",
       "  \" fill=\"#ffffff\" fill-rule=\"evenodd\" fill-opacity=\"1\"/>\n",
       "<defs>\n",
       "  <clipPath id=\"clip571\">\n",
       "    <rect x=\"480\" y=\"0\" width=\"1681\" height=\"1600\"/>\n",
       "  </clipPath>\n",
       "</defs>\n",
       "<path clip-path=\"url(#clip570)\" d=\"\n",
       "M169.121 1486.45 L2112.76 1486.45 L2112.76 47.2441 L169.121 47.2441  Z\n",
       "  \" fill=\"#ffffff\" fill-rule=\"evenodd\" fill-opacity=\"1\"/>\n",
       "<defs>\n",
       "  <clipPath id=\"clip572\">\n",
       "    <rect x=\"169\" y=\"47\" width=\"1945\" height=\"1440\"/>\n",
       "  </clipPath>\n",
       "</defs>\n",
       "<polyline clip-path=\"url(#clip572)\" style=\"stroke:#000000; stroke-linecap:butt; stroke-linejoin:round; stroke-width:2; stroke-opacity:0.1; fill:none\" points=\"\n",
       "  548.13,1486.45 548.13,47.2441 \n",
       "  \"/>\n",
       "<polyline clip-path=\"url(#clip572)\" style=\"stroke:#000000; stroke-linecap:butt; stroke-linejoin:round; stroke-width:2; stroke-opacity:0.1; fill:none\" points=\"\n",
       "  936.857,1486.45 936.857,47.2441 \n",
       "  \"/>\n",
       "<polyline clip-path=\"url(#clip572)\" style=\"stroke:#000000; stroke-linecap:butt; stroke-linejoin:round; stroke-width:2; stroke-opacity:0.1; fill:none\" points=\"\n",
       "  1325.58,1486.45 1325.58,47.2441 \n",
       "  \"/>\n",
       "<polyline clip-path=\"url(#clip572)\" style=\"stroke:#000000; stroke-linecap:butt; stroke-linejoin:round; stroke-width:2; stroke-opacity:0.1; fill:none\" points=\"\n",
       "  1714.31,1486.45 1714.31,47.2441 \n",
       "  \"/>\n",
       "<polyline clip-path=\"url(#clip572)\" style=\"stroke:#000000; stroke-linecap:butt; stroke-linejoin:round; stroke-width:2; stroke-opacity:0.1; fill:none\" points=\"\n",
       "  2103.04,1486.45 2103.04,47.2441 \n",
       "  \"/>\n",
       "<polyline clip-path=\"url(#clip570)\" style=\"stroke:#000000; stroke-linecap:butt; stroke-linejoin:round; stroke-width:4; stroke-opacity:1; fill:none\" points=\"\n",
       "  169.121,1486.45 2112.76,1486.45 \n",
       "  \"/>\n",
       "<polyline clip-path=\"url(#clip570)\" style=\"stroke:#000000; stroke-linecap:butt; stroke-linejoin:round; stroke-width:4; stroke-opacity:1; fill:none\" points=\"\n",
       "  548.13,1486.45 548.13,1469.18 \n",
       "  \"/>\n",
       "<polyline clip-path=\"url(#clip570)\" style=\"stroke:#000000; stroke-linecap:butt; stroke-linejoin:round; stroke-width:4; stroke-opacity:1; fill:none\" points=\"\n",
       "  936.857,1486.45 936.857,1469.18 \n",
       "  \"/>\n",
       "<polyline clip-path=\"url(#clip570)\" style=\"stroke:#000000; stroke-linecap:butt; stroke-linejoin:round; stroke-width:4; stroke-opacity:1; fill:none\" points=\"\n",
       "  1325.58,1486.45 1325.58,1469.18 \n",
       "  \"/>\n",
       "<polyline clip-path=\"url(#clip570)\" style=\"stroke:#000000; stroke-linecap:butt; stroke-linejoin:round; stroke-width:4; stroke-opacity:1; fill:none\" points=\"\n",
       "  1714.31,1486.45 1714.31,1469.18 \n",
       "  \"/>\n",
       "<polyline clip-path=\"url(#clip570)\" style=\"stroke:#000000; stroke-linecap:butt; stroke-linejoin:round; stroke-width:4; stroke-opacity:1; fill:none\" points=\"\n",
       "  2103.04,1486.45 2103.04,1469.18 \n",
       "  \"/>\n",
       "<path clip-path=\"url(#clip570)\" d=\"M526.903 1543.18 L543.223 1543.18 L543.223 1547.12 L521.278 1547.12 L521.278 1543.18 Q523.94 1540.43 528.524 1535.8 Q533.13 1531.15 534.311 1529.81 Q536.556 1527.28 537.436 1525.55 Q538.338 1523.79 538.338 1522.1 Q538.338 1519.34 536.394 1517.61 Q534.473 1515.87 531.371 1515.87 Q529.172 1515.87 526.718 1516.63 Q524.288 1517.4 521.51 1518.95 L521.51 1514.23 Q524.334 1513.09 526.788 1512.51 Q529.241 1511.93 531.278 1511.93 Q536.649 1511.93 539.843 1514.62 Q543.037 1517.31 543.037 1521.8 Q543.037 1523.93 542.227 1525.85 Q541.44 1527.74 539.334 1530.34 Q538.755 1531.01 535.653 1534.23 Q532.551 1537.42 526.903 1543.18 Z\" fill=\"#000000\" fill-rule=\"evenodd\" fill-opacity=\"1\" /><path clip-path=\"url(#clip570)\" d=\"M563.037 1515.64 Q559.426 1515.64 557.598 1519.2 Q555.792 1522.75 555.792 1529.87 Q555.792 1536.98 557.598 1540.55 Q559.426 1544.09 563.037 1544.09 Q566.672 1544.09 568.477 1540.55 Q570.306 1536.98 570.306 1529.87 Q570.306 1522.75 568.477 1519.2 Q566.672 1515.64 563.037 1515.64 M563.037 1511.93 Q568.848 1511.93 571.903 1516.54 Q574.982 1521.12 574.982 1529.87 Q574.982 1538.6 571.903 1543.21 Q568.848 1547.79 563.037 1547.79 Q557.227 1547.79 554.149 1543.21 Q551.093 1538.6 551.093 1529.87 Q551.093 1521.12 554.149 1516.54 Q557.227 1511.93 563.037 1511.93 Z\" fill=\"#000000\" fill-rule=\"evenodd\" fill-opacity=\"1\" /><path clip-path=\"url(#clip570)\" d=\"M925.028 1516.63 L913.223 1535.08 L925.028 1535.08 L925.028 1516.63 M923.801 1512.56 L929.681 1512.56 L929.681 1535.08 L934.612 1535.08 L934.612 1538.97 L929.681 1538.97 L929.681 1547.12 L925.028 1547.12 L925.028 1538.97 L909.427 1538.97 L909.427 1534.46 L923.801 1512.56 Z\" fill=\"#000000\" fill-rule=\"evenodd\" fill-opacity=\"1\" /><path clip-path=\"url(#clip570)\" d=\"M952.343 1515.64 Q948.732 1515.64 946.903 1519.2 Q945.098 1522.75 945.098 1529.87 Q945.098 1536.98 946.903 1540.55 Q948.732 1544.09 952.343 1544.09 Q955.977 1544.09 957.783 1540.55 Q959.611 1536.98 959.611 1529.87 Q959.611 1522.75 957.783 1519.2 Q955.977 1515.64 952.343 1515.64 M952.343 1511.93 Q958.153 1511.93 961.209 1516.54 Q964.287 1521.12 964.287 1529.87 Q964.287 1538.6 961.209 1543.21 Q958.153 1547.79 952.343 1547.79 Q946.533 1547.79 943.454 1543.21 Q940.399 1538.6 940.399 1529.87 Q940.399 1521.12 943.454 1516.54 Q946.533 1511.93 952.343 1511.93 Z\" fill=\"#000000\" fill-rule=\"evenodd\" fill-opacity=\"1\" /><path clip-path=\"url(#clip570)\" d=\"M1310.99 1527.98 Q1307.84 1527.98 1305.99 1530.13 Q1304.16 1532.28 1304.16 1536.03 Q1304.16 1539.76 1305.99 1541.93 Q1307.84 1544.09 1310.99 1544.09 Q1314.14 1544.09 1315.97 1541.93 Q1317.82 1539.76 1317.82 1536.03 Q1317.82 1532.28 1315.97 1530.13 Q1314.14 1527.98 1310.99 1527.98 M1320.27 1513.32 L1320.27 1517.58 Q1318.51 1516.75 1316.71 1516.31 Q1314.92 1515.87 1313.16 1515.87 Q1308.54 1515.87 1306.08 1519 Q1303.65 1522.12 1303.3 1528.44 Q1304.67 1526.43 1306.73 1525.36 Q1308.79 1524.27 1311.27 1524.27 Q1316.48 1524.27 1319.48 1527.44 Q1322.52 1530.59 1322.52 1536.03 Q1322.52 1541.36 1319.37 1544.57 Q1316.22 1547.79 1310.99 1547.79 Q1304.99 1547.79 1301.82 1543.21 Q1298.65 1538.6 1298.65 1529.87 Q1298.65 1521.68 1302.54 1516.82 Q1306.43 1511.93 1312.98 1511.93 Q1314.74 1511.93 1316.52 1512.28 Q1318.33 1512.63 1320.27 1513.32 Z\" fill=\"#000000\" fill-rule=\"evenodd\" fill-opacity=\"1\" /><path clip-path=\"url(#clip570)\" d=\"M1340.57 1515.64 Q1336.96 1515.64 1335.13 1519.2 Q1333.33 1522.75 1333.33 1529.87 Q1333.33 1536.98 1335.13 1540.55 Q1336.96 1544.09 1340.57 1544.09 Q1344.21 1544.09 1346.01 1540.55 Q1347.84 1536.98 1347.84 1529.87 Q1347.84 1522.75 1346.01 1519.2 Q1344.21 1515.64 1340.57 1515.64 M1340.57 1511.93 Q1346.38 1511.93 1349.44 1516.54 Q1352.52 1521.12 1352.52 1529.87 Q1352.52 1538.6 1349.44 1543.21 Q1346.38 1547.79 1340.57 1547.79 Q1334.76 1547.79 1331.68 1543.21 Q1328.63 1538.6 1328.63 1529.87 Q1328.63 1521.12 1331.68 1516.54 Q1334.76 1511.93 1340.57 1511.93 Z\" fill=\"#000000\" fill-rule=\"evenodd\" fill-opacity=\"1\" /><path clip-path=\"url(#clip570)\" d=\"M1699.18 1530.71 Q1695.85 1530.71 1693.93 1532.49 Q1692.03 1534.27 1692.03 1537.4 Q1692.03 1540.52 1693.93 1542.31 Q1695.85 1544.09 1699.18 1544.09 Q1702.52 1544.09 1704.44 1542.31 Q1706.36 1540.5 1706.36 1537.4 Q1706.36 1534.27 1704.44 1532.49 Q1702.54 1530.71 1699.18 1530.71 M1694.51 1528.72 Q1691.5 1527.98 1689.81 1525.92 Q1688.14 1523.86 1688.14 1520.89 Q1688.14 1516.75 1691.08 1514.34 Q1694.04 1511.93 1699.18 1511.93 Q1704.35 1511.93 1707.29 1514.34 Q1710.23 1516.75 1710.23 1520.89 Q1710.23 1523.86 1708.54 1525.92 Q1706.87 1527.98 1703.88 1528.72 Q1707.26 1529.5 1709.14 1531.8 Q1711.04 1534.09 1711.04 1537.4 Q1711.04 1542.42 1707.96 1545.11 Q1704.9 1547.79 1699.18 1547.79 Q1693.47 1547.79 1690.39 1545.11 Q1687.33 1542.42 1687.33 1537.4 Q1687.33 1534.09 1689.23 1531.8 Q1691.13 1529.5 1694.51 1528.72 M1692.79 1521.33 Q1692.79 1524.02 1694.46 1525.52 Q1696.15 1527.03 1699.18 1527.03 Q1702.19 1527.03 1703.88 1525.52 Q1705.6 1524.02 1705.6 1521.33 Q1705.6 1518.65 1703.88 1517.14 Q1702.19 1515.64 1699.18 1515.64 Q1696.15 1515.64 1694.46 1517.14 Q1692.79 1518.65 1692.79 1521.33 Z\" fill=\"#000000\" fill-rule=\"evenodd\" fill-opacity=\"1\" /><path clip-path=\"url(#clip570)\" d=\"M1729.35 1515.64 Q1725.73 1515.64 1723.91 1519.2 Q1722.1 1522.75 1722.1 1529.87 Q1722.1 1536.98 1723.91 1540.55 Q1725.73 1544.09 1729.35 1544.09 Q1732.98 1544.09 1734.79 1540.55 Q1736.61 1536.98 1736.61 1529.87 Q1736.61 1522.75 1734.79 1519.2 Q1732.98 1515.64 1729.35 1515.64 M1729.35 1511.93 Q1735.16 1511.93 1738.21 1516.54 Q1741.29 1521.12 1741.29 1529.87 Q1741.29 1538.6 1738.21 1543.21 Q1735.16 1547.79 1729.35 1547.79 Q1723.54 1547.79 1720.46 1543.21 Q1717.4 1538.6 1717.4 1529.87 Q1717.4 1521.12 1720.46 1516.54 Q1723.54 1511.93 1729.35 1511.93 Z\" fill=\"#000000\" fill-rule=\"evenodd\" fill-opacity=\"1\" /><path clip-path=\"url(#clip570)\" d=\"M2062.64 1543.18 L2070.28 1543.18 L2070.28 1516.82 L2061.97 1518.49 L2061.97 1514.23 L2070.24 1512.56 L2074.91 1512.56 L2074.91 1543.18 L2082.55 1543.18 L2082.55 1547.12 L2062.64 1547.12 L2062.64 1543.18 Z\" fill=\"#000000\" fill-rule=\"evenodd\" fill-opacity=\"1\" /><path clip-path=\"url(#clip570)\" d=\"M2102 1515.64 Q2098.38 1515.64 2096.56 1519.2 Q2094.75 1522.75 2094.75 1529.87 Q2094.75 1536.98 2096.56 1540.55 Q2098.38 1544.09 2102 1544.09 Q2105.63 1544.09 2107.44 1540.55 Q2109.26 1536.98 2109.26 1529.87 Q2109.26 1522.75 2107.44 1519.2 Q2105.63 1515.64 2102 1515.64 M2102 1511.93 Q2107.81 1511.93 2110.86 1516.54 Q2113.94 1521.12 2113.94 1529.87 Q2113.94 1538.6 2110.86 1543.21 Q2107.81 1547.79 2102 1547.79 Q2096.19 1547.79 2093.11 1543.21 Q2090.05 1538.6 2090.05 1529.87 Q2090.05 1521.12 2093.11 1516.54 Q2096.19 1511.93 2102 1511.93 Z\" fill=\"#000000\" fill-rule=\"evenodd\" fill-opacity=\"1\" /><path clip-path=\"url(#clip570)\" d=\"M2132.16 1515.64 Q2128.55 1515.64 2126.72 1519.2 Q2124.91 1522.75 2124.91 1529.87 Q2124.91 1536.98 2126.72 1540.55 Q2128.55 1544.09 2132.16 1544.09 Q2135.79 1544.09 2137.6 1540.55 Q2139.43 1536.98 2139.43 1529.87 Q2139.43 1522.75 2137.6 1519.2 Q2135.79 1515.64 2132.16 1515.64 M2132.16 1511.93 Q2137.97 1511.93 2141.02 1516.54 Q2144.1 1521.12 2144.1 1529.87 Q2144.1 1538.6 2141.02 1543.21 Q2137.97 1547.79 2132.16 1547.79 Q2126.35 1547.79 2123.27 1543.21 Q2120.21 1538.6 2120.21 1529.87 Q2120.21 1521.12 2123.27 1516.54 Q2126.35 1511.93 2132.16 1511.93 Z\" fill=\"#000000\" fill-rule=\"evenodd\" fill-opacity=\"1\" /><polyline clip-path=\"url(#clip572)\" style=\"stroke:#000000; stroke-linecap:butt; stroke-linejoin:round; stroke-width:2; stroke-opacity:0.1; fill:none\" points=\"\n",
       "  169.121,1205.8 2112.76,1205.8 \n",
       "  \"/>\n",
       "<polyline clip-path=\"url(#clip572)\" style=\"stroke:#000000; stroke-linecap:butt; stroke-linejoin:round; stroke-width:2; stroke-opacity:0.1; fill:none\" points=\"\n",
       "  169.121,917.962 2112.76,917.962 \n",
       "  \"/>\n",
       "<polyline clip-path=\"url(#clip572)\" style=\"stroke:#000000; stroke-linecap:butt; stroke-linejoin:round; stroke-width:2; stroke-opacity:0.1; fill:none\" points=\"\n",
       "  169.121,630.122 2112.76,630.122 \n",
       "  \"/>\n",
       "<polyline clip-path=\"url(#clip572)\" style=\"stroke:#000000; stroke-linecap:butt; stroke-linejoin:round; stroke-width:2; stroke-opacity:0.1; fill:none\" points=\"\n",
       "  169.121,342.281 2112.76,342.281 \n",
       "  \"/>\n",
       "<polyline clip-path=\"url(#clip572)\" style=\"stroke:#000000; stroke-linecap:butt; stroke-linejoin:round; stroke-width:2; stroke-opacity:0.1; fill:none\" points=\"\n",
       "  169.121,54.4401 2112.76,54.4401 \n",
       "  \"/>\n",
       "<polyline clip-path=\"url(#clip570)\" style=\"stroke:#000000; stroke-linecap:butt; stroke-linejoin:round; stroke-width:4; stroke-opacity:1; fill:none\" points=\"\n",
       "  169.121,1486.45 169.121,47.2441 \n",
       "  \"/>\n",
       "<polyline clip-path=\"url(#clip570)\" style=\"stroke:#000000; stroke-linecap:butt; stroke-linejoin:round; stroke-width:4; stroke-opacity:1; fill:none\" points=\"\n",
       "  169.121,1205.8 192.445,1205.8 \n",
       "  \"/>\n",
       "<polyline clip-path=\"url(#clip570)\" style=\"stroke:#000000; stroke-linecap:butt; stroke-linejoin:round; stroke-width:4; stroke-opacity:1; fill:none\" points=\"\n",
       "  169.121,917.962 192.445,917.962 \n",
       "  \"/>\n",
       "<polyline clip-path=\"url(#clip570)\" style=\"stroke:#000000; stroke-linecap:butt; stroke-linejoin:round; stroke-width:4; stroke-opacity:1; fill:none\" points=\"\n",
       "  169.121,630.122 192.445,630.122 \n",
       "  \"/>\n",
       "<polyline clip-path=\"url(#clip570)\" style=\"stroke:#000000; stroke-linecap:butt; stroke-linejoin:round; stroke-width:4; stroke-opacity:1; fill:none\" points=\"\n",
       "  169.121,342.281 192.445,342.281 \n",
       "  \"/>\n",
       "<polyline clip-path=\"url(#clip570)\" style=\"stroke:#000000; stroke-linecap:butt; stroke-linejoin:round; stroke-width:4; stroke-opacity:1; fill:none\" points=\"\n",
       "  169.121,54.4401 192.445,54.4401 \n",
       "  \"/>\n",
       "<path clip-path=\"url(#clip570)\" d=\"M85.0429 1219.15 L101.362 1219.15 L101.362 1223.08 L79.4179 1223.08 L79.4179 1219.15 Q82.0799 1216.39 86.6632 1211.76 Q91.2697 1207.11 92.4502 1205.77 Q94.6956 1203.25 95.5752 1201.51 Q96.478 1199.75 96.478 1198.06 Q96.478 1195.31 94.5336 1193.57 Q92.6123 1191.83 89.5104 1191.83 Q87.3114 1191.83 84.8577 1192.6 Q82.4271 1193.36 79.6494 1194.91 L79.6494 1190.19 Q82.4734 1189.06 84.9271 1188.48 Q87.3808 1187.9 89.4178 1187.9 Q94.7882 1187.9 97.9826 1190.58 Q101.177 1193.27 101.177 1197.76 Q101.177 1199.89 100.367 1201.81 Q99.5798 1203.71 97.4734 1206.3 Q96.8947 1206.97 93.7928 1210.19 Q90.691 1213.38 85.0429 1219.15 Z\" fill=\"#000000\" fill-rule=\"evenodd\" fill-opacity=\"1\" /><path clip-path=\"url(#clip570)\" d=\"M121.177 1191.6 Q117.566 1191.6 115.737 1195.17 Q113.932 1198.71 113.932 1205.84 Q113.932 1212.94 115.737 1216.51 Q117.566 1220.05 121.177 1220.05 Q124.811 1220.05 126.617 1216.51 Q128.445 1212.94 128.445 1205.84 Q128.445 1198.71 126.617 1195.17 Q124.811 1191.6 121.177 1191.6 M121.177 1187.9 Q126.987 1187.9 130.043 1192.5 Q133.121 1197.09 133.121 1205.84 Q133.121 1214.56 130.043 1219.17 Q126.987 1223.75 121.177 1223.75 Q115.367 1223.75 112.288 1219.17 Q109.233 1214.56 109.233 1205.84 Q109.233 1197.09 112.288 1192.5 Q115.367 1187.9 121.177 1187.9 Z\" fill=\"#000000\" fill-rule=\"evenodd\" fill-opacity=\"1\" /><path clip-path=\"url(#clip570)\" d=\"M93.8623 904.756 L82.0568 923.205 L93.8623 923.205 L93.8623 904.756 M92.6354 900.682 L98.515 900.682 L98.515 923.205 L103.446 923.205 L103.446 927.094 L98.515 927.094 L98.515 935.242 L93.8623 935.242 L93.8623 927.094 L78.2605 927.094 L78.2605 922.58 L92.6354 900.682 Z\" fill=\"#000000\" fill-rule=\"evenodd\" fill-opacity=\"1\" /><path clip-path=\"url(#clip570)\" d=\"M121.177 903.761 Q117.566 903.761 115.737 907.326 Q113.932 910.868 113.932 917.997 Q113.932 925.104 115.737 928.668 Q117.566 932.21 121.177 932.21 Q124.811 932.21 126.617 928.668 Q128.445 925.104 128.445 917.997 Q128.445 910.868 126.617 907.326 Q124.811 903.761 121.177 903.761 M121.177 900.057 Q126.987 900.057 130.043 904.664 Q133.121 909.247 133.121 917.997 Q133.121 926.724 130.043 931.33 Q126.987 935.914 121.177 935.914 Q115.367 935.914 112.288 931.33 Q109.233 926.724 109.233 917.997 Q109.233 909.247 112.288 904.664 Q115.367 900.057 121.177 900.057 Z\" fill=\"#000000\" fill-rule=\"evenodd\" fill-opacity=\"1\" /><path clip-path=\"url(#clip570)\" d=\"M91.5938 628.258 Q88.4456 628.258 86.5938 630.411 Q84.7651 632.564 84.7651 636.314 Q84.7651 640.041 86.5938 642.216 Q88.4456 644.369 91.5938 644.369 Q94.7419 644.369 96.5706 642.216 Q98.4224 640.041 98.4224 636.314 Q98.4224 632.564 96.5706 630.411 Q94.7419 628.258 91.5938 628.258 M100.876 613.606 L100.876 617.865 Q99.1169 617.031 97.3113 616.592 Q95.5289 616.152 93.7697 616.152 Q89.1401 616.152 86.6864 619.277 Q84.2558 622.402 83.9086 628.721 Q85.2743 626.707 87.3345 625.642 Q89.3947 624.555 91.8715 624.555 Q97.0798 624.555 100.089 627.726 Q103.121 630.874 103.121 636.314 Q103.121 641.638 99.9733 644.855 Q96.8252 648.073 91.5938 648.073 Q85.5984 648.073 82.4271 643.49 Q79.2559 638.883 79.2559 630.156 Q79.2559 621.962 83.1447 617.101 Q87.0336 612.217 93.5845 612.217 Q95.3437 612.217 97.1261 612.564 Q98.9317 612.911 100.876 613.606 Z\" fill=\"#000000\" fill-rule=\"evenodd\" fill-opacity=\"1\" /><path clip-path=\"url(#clip570)\" d=\"M121.177 615.92 Q117.566 615.92 115.737 619.485 Q113.932 623.027 113.932 630.156 Q113.932 637.263 115.737 640.828 Q117.566 644.369 121.177 644.369 Q124.811 644.369 126.617 640.828 Q128.445 637.263 128.445 630.156 Q128.445 623.027 126.617 619.485 Q124.811 615.92 121.177 615.92 M121.177 612.217 Q126.987 612.217 130.043 616.823 Q133.121 621.406 133.121 630.156 Q133.121 638.883 130.043 643.49 Q126.987 648.073 121.177 648.073 Q115.367 648.073 112.288 643.49 Q109.233 638.883 109.233 630.156 Q109.233 621.406 112.288 616.823 Q115.367 612.217 121.177 612.217 Z\" fill=\"#000000\" fill-rule=\"evenodd\" fill-opacity=\"1\" /><path clip-path=\"url(#clip570)\" d=\"M91.0151 343.149 Q87.6817 343.149 85.7605 344.931 Q83.8623 346.714 83.8623 349.839 Q83.8623 352.964 85.7605 354.746 Q87.6817 356.528 91.0151 356.528 Q94.3484 356.528 96.2697 354.746 Q98.1909 352.941 98.1909 349.839 Q98.1909 346.714 96.2697 344.931 Q94.3715 343.149 91.0151 343.149 M86.3392 341.158 Q83.3299 340.417 81.6401 338.357 Q79.9735 336.297 79.9735 333.334 Q79.9735 329.191 82.9133 326.783 Q85.8762 324.376 91.0151 324.376 Q96.1771 324.376 99.1169 326.783 Q102.057 329.191 102.057 333.334 Q102.057 336.297 100.367 338.357 Q98.7002 340.417 95.7141 341.158 Q99.0937 341.945 100.969 344.237 Q102.867 346.529 102.867 349.839 Q102.867 354.862 99.7882 357.547 Q96.7326 360.232 91.0151 360.232 Q85.2975 360.232 82.2188 357.547 Q79.1633 354.862 79.1633 349.839 Q79.1633 346.529 81.0614 344.237 Q82.9595 341.945 86.3392 341.158 M84.6262 333.774 Q84.6262 336.459 86.2929 337.964 Q87.9827 339.468 91.0151 339.468 Q94.0243 339.468 95.7141 337.964 Q97.4271 336.459 97.4271 333.774 Q97.4271 331.089 95.7141 329.584 Q94.0243 328.08 91.0151 328.08 Q87.9827 328.08 86.2929 329.584 Q84.6262 331.089 84.6262 333.774 Z\" fill=\"#000000\" fill-rule=\"evenodd\" fill-opacity=\"1\" /><path clip-path=\"url(#clip570)\" d=\"M121.177 328.08 Q117.566 328.08 115.737 331.644 Q113.932 335.186 113.932 342.316 Q113.932 349.422 115.737 352.987 Q117.566 356.528 121.177 356.528 Q124.811 356.528 126.617 352.987 Q128.445 349.422 128.445 342.316 Q128.445 335.186 126.617 331.644 Q124.811 328.08 121.177 328.08 M121.177 324.376 Q126.987 324.376 130.043 328.982 Q133.121 333.566 133.121 342.316 Q133.121 351.042 130.043 355.649 Q126.987 360.232 121.177 360.232 Q115.367 360.232 112.288 355.649 Q109.233 351.042 109.233 342.316 Q109.233 333.566 112.288 328.982 Q115.367 324.376 121.177 324.376 Z\" fill=\"#000000\" fill-rule=\"evenodd\" fill-opacity=\"1\" /><path clip-path=\"url(#clip570)\" d=\"M51.6634 67.7849 L59.3023 67.7849 L59.3023 41.4193 L50.9921 43.086 L50.9921 38.8268 L59.256 37.1601 L63.9319 37.1601 L63.9319 67.7849 L71.5707 67.7849 L71.5707 71.7201 L51.6634 71.7201 L51.6634 67.7849 Z\" fill=\"#000000\" fill-rule=\"evenodd\" fill-opacity=\"1\" /><path clip-path=\"url(#clip570)\" d=\"M91.0151 40.2388 Q87.404 40.2388 85.5753 43.8036 Q83.7697 47.3452 83.7697 54.4748 Q83.7697 61.5813 85.5753 65.1461 Q87.404 68.6877 91.0151 68.6877 Q94.6493 68.6877 96.4548 65.1461 Q98.2835 61.5813 98.2835 54.4748 Q98.2835 47.3452 96.4548 43.8036 Q94.6493 40.2388 91.0151 40.2388 M91.0151 36.5351 Q96.8252 36.5351 99.8808 41.1416 Q102.959 45.7249 102.959 54.4748 Q102.959 63.2016 99.8808 67.8081 Q96.8252 72.3914 91.0151 72.3914 Q85.2049 72.3914 82.1262 67.8081 Q79.0707 63.2016 79.0707 54.4748 Q79.0707 45.7249 82.1262 41.1416 Q85.2049 36.5351 91.0151 36.5351 Z\" fill=\"#000000\" fill-rule=\"evenodd\" fill-opacity=\"1\" /><path clip-path=\"url(#clip570)\" d=\"M121.177 40.2388 Q117.566 40.2388 115.737 43.8036 Q113.932 47.3452 113.932 54.4748 Q113.932 61.5813 115.737 65.1461 Q117.566 68.6877 121.177 68.6877 Q124.811 68.6877 126.617 65.1461 Q128.445 61.5813 128.445 54.4748 Q128.445 47.3452 126.617 43.8036 Q124.811 40.2388 121.177 40.2388 M121.177 36.5351 Q126.987 36.5351 130.043 41.1416 Q133.121 45.7249 133.121 54.4748 Q133.121 63.2016 130.043 67.8081 Q126.987 72.3914 121.177 72.3914 Q115.367 72.3914 112.288 67.8081 Q109.233 63.2016 109.233 54.4748 Q109.233 45.7249 112.288 41.1416 Q115.367 36.5351 121.177 36.5351 Z\" fill=\"#000000\" fill-rule=\"evenodd\" fill-opacity=\"1\" /><g clip-path=\"url(#clip572)\">\n",
       "<image width=\"1944\" height=\"1439\" xlink:href=\"data:image/png;base64,\n",
       "iVBORw0KGgoAAAANSUhEUgAAB5gAAAWfCAYAAAB+xCq9AAAgAElEQVR4nOzbW67cRrYE0Eg+yvOf\n",
       "rnWq8n6o7083WththCHKWmsAgU0yM0kgqlZy7fA/Wz97gB969nTPVbxvj34Ejx6u7KnX+tS5fjdP\n",
       "ff215yrm7e5s+7HPAAAAAACA/+b42QMAAAAAAAAA8GtQMAMAAAAAAAAwomAGAAAAAAAAYETBDAAA\n",
       "AAAAAMCIghkAAAAAAACAEQUzAAAAAAAAACMKZgAAAAAAAABGFMwAAAAAAAAAjCiYAQAAAAAAABhR\n",
       "MAMAAAAAAAAwomAGAAAAAAAAYETBDAAAAAAAAMCIghkAAAAAAACAEQUzAAAAAAAAACPXzx7gR9Yv\n",
       "kPhbWE+9b0+dKzHbX7MePNuT7xt/1S4m9bIerbwN1qNvW3N9AAAAAAD8c/gHMwAAAAAAAAAjCmYA\n",
       "AAAAAAAARhTMAAAAAAAAAIwomAEAAAAAAAAYUTADAAAAAAAAMKJgBgAAAAAAAGBEwQwAAAAAAADA\n",
       "iIIZAAAAAAAAgBEFMwAAAAAAAAAjCmYAAAAAAAAARhTMAAAAAAAAAIwomAEAAAAAAAAYUTADAAAA\n",
       "AAAAMHK1A9eD0x5tPflanzpbe65m3pN3Qvm+Wbt/wVPnerr92Ly1m7N1r3NX88rPYD14tmJcf8f3\n",
       "hmvvKgAAAADgn88/mAEAAAAAAAAYUTADAAAAAAAAMKJgBgAAAAAAAGBEwQwAAAAAAADAiIIZAAAA\n",
       "AAAAgBEFMwAAAAAAAAAjCmYAAAAAAAAARhTMAAAAAAAAAIwomAEAAAAAAAAYUTADAAAAAAAAMKJg\n",
       "BgAAAAAAAGBEwQwAAAAAAADAiIIZAAAAAAAAgBEFMwAAAAAAAAAjVz9y9SNrirPVL/M3uW/FrFW/\n",
       "Z8318eDZyvet/xyaHjpbfX082N4/e4If6M22V/M6P8WsZBWfwS7P9mjNbVrfB813aVP3Op98egAA\n",
       "AADA78w/mAEAAAAAAAAYUTADAAAAAAAAMKJgBgAAAAAAAGBEwQwAAAAAAADAiIIZAAAAAAAAgBEF\n",
       "MwAAAAAAAAAjCmYAAAAAAAAARhTMAAAAAAAAAIwomAEAAAAAAAAYUTADAAAAAAAAMKJgBgAAAAAA\n",
       "AGBEwQwAAAAAAADAiIIZAAAAAAAAgJFr/ewJfqg8XTWufeeaed3Z1lNnW57BX02rWr3fqfTPowff\n",
       "t9/F2j97gv9q51PLWrt5nd21tlfzOmtR/9ILbD7PuvbxUX0Oz1275QsFAAAAAEr8gxkAAAAAAACA\n",
       "EQUzAAAAAAAAACMKZgAAAAAAAABGFMwAAAAAAAAAjCiYAQAAAAAAABhRMAMAAAAAAAAwomAGAAAA\n",
       "AAAAYETBDAAAAAAAAMCIghkAAAAAAACAEQUzAAAAAAAAACMKZgAAAAAAAABGFMwAAAAAAAAAjCiY\n",
       "AQAAAAAAABi5fvYAP7SeHNgerpe3HjxbVvM3Dd3rrN636nW2n2n7dyXFtbsevHarnjpXkuyfPcAP\n",
       "lGfbxb2wPrWonV5Wkqzibdvtpbt7w9VHKz+HqupD7UW1NZ/pgy8TAAAAAH45/sEMAAAAAAAAwIiC\n",
       "GQAAAAAAAIARBTMAAAAAAAAAIwpmAAAAAAAAAEYUzAAAAAAAAACMKJgBAAAAAAAAGFEwAwAAAAAA\n",
       "ADCiYAYAAAAAAABgRMEMAAAAAAAAwIiCGQAAAAAAAIARBTMAAAAAAAAAIwpmAAAAAAAAAEYUzAAA\n",
       "AAAAAACMKJgBAAAAAAAAGLmSVY5s5v0+s61m3mr/bqA326r+pqG8Por3rXudyVrNay3P9tus3ab2\n",
       "2fZcO7ua1vUpZhWf6e6uj108P1Z9tuIz2O310TyPmmutrPlI68+geYZ3Z2tfKQAAAAD8SvyDGQAA\n",
       "AAAAAIARBTMAAAAAAAAAIwpmAAAAAAAAAEYUzAAAAAAAAACMKJgBAAAAAAAAGFEwAwAAAAAAADCi\n",
       "YAYAAAAAAABgRMEMAAAAAAAAwIiCGQAAAAAAAIARBTMAAAAAAAAAIwpmAAAAAAAAAEYUzAAAAAAA\n",
       "AACMKJgBAAAAAAAAGLnqiaueWNQbbrUvdDW7/u7vBqrXWrzOVf99RHG26vMsX2t9tuK+Ks/26D3/\n",
       "m9jZ1bSmnc8js5J3MSvJbp7hvagk1Ue6V3d9rN1cH08+P5r37cELBAAAAACo8Q9mAAAAAAAAAEYU\n",
       "zAAAAAAAAACMKJgBAAAAAAAAGFEwAwAAAAAAADCiYAYAAAAAAABgRMEMAAAAAAAAwIiCGQAAAAAA\n",
       "AIARBTMAAAAAAAAAIwpmAAAAAAAAAEYUzAAAAAAAAACMKJgBAAAAAAAAGFEwAwAAAAAAADCiYAYA\n",
       "AAAAAABgRMEMAAAAAAAAwMjVj1wPzUpWM2+1u/nebNXrTJJ19qKKv2lY9Wfw3NlWis+gPtuT79sz\n",
       "z6O1ynu0aO/dTiwmfWpZ7bxuVnd9fPKuZdWXR/O1XB5uP3m24r4qP4ReVtI8PtL/pmyebQAAAADw\n",
       "a/EPZgAAAAAAAABGFMwAAAAAAAAAjCiYAQAAAAAAABhRMAMAAAAAAAAwomAGAAAAAAAAYETBDAAA\n",
       "AAAAAMCIghkAAAAAAACAEQUzAAAAAAAAACMKZgAAAAAAAABGFMwAAAAAAAAAjCiYAQAAAAAAABhR\n",
       "MAMAAAAAAAAwomAGAAAAAAAAYORK1s+e4QfaszXzurOtZte/zl5WurOtVcxK+TqL9615nUn3Wo/2\n",
       "bM37Vv7NS3df9fZ8/9TtJe61a1n/Suwl7U8tK0k+613L2ruX9SmvkKOY130CaS6P+tpdu7h2y+du\n",
       "irN1tedq7oWn3jMAAAAA+PX4BzMAAAAAAAAAIwpmAAAAAAAAAEYUzAAAAAAAAACMKJgBAAAAAAAA\n",
       "GFEwAwAAAAAAADCiYAYAAAAAAABgRMEMAAAAAAAAwIiCGQAAAAAAAIARBTMAAAAAAAAAIwpmAAAA\n",
       "AAAAAEYUzAAAAAAAAACMKJgBAAAAAAAAGFEwAwAAAAAAADByZbUje4GrPdxqzlbu5lcvrz3bWucz\n",
       "s9LLSpLjodeZlGer37fm2u3OtqqzNc+j+sFbtMtpvbydTy0rSVbetaydr1pW+wz/PHi9VZ/ofu7a\n",
       "be+r5hrp7qv2d1vxvnUfQbrXWh8OAAAAAP5W/sEMAAAAAAAAwIiCGQAAAAAAAIARBTMAAAAAAAAA\n",
       "IwpmAAAAAAAAAEYUzAAAAAAAAACMKJgBAAAAAAAAGFEwAwAAAAAAADCiYAYAAAAAAABgRMEMAAAA\n",
       "AAAAwIiCGQAAAAAAAIARBTMAAAAAAAAAIwpmAAAAAAAAAEYUzAAAAAAAAACMKJgBAAAAAAAAGLmS\n",
       "VY5s5rVnK/bpq9vNr5y9rNXLauc1r/MoX+exrkdmJd1nUL9v6V3rKu+ro7mvHn22PdfOp5e13rWs\n",
       "JPnsXt6n+nutr2JW186u5q1qXm+tfVd8prt73/Yq5lVHa59t3fv2VO4aAAAAAL8a/2AGAAAAAAAA\n",
       "YETBDAAAAAAAAMCIghkAAAAAAACAEQUzAAAAAAAAACMKZgAAAAAAAABGFMwAAAAAAAAAjCiYAQAA\n",
       "AAAAABhRMAMAAAAAAAAwomAGAAAAAAAAYETBDAAAAAAAAMCIghkAAAAAAACAEQUzAAAAAAAAACMK\n",
       "ZgAAAAAAAABGrnbgyiqGdfvvVezTm1lJsorX2sxKkpWzlnWs3pJrZrXz2rOdD57teOj6SJ6756vn\n",
       "ZN2upn2KeTvvWlaSfPJVy3o3z91dXh+fblxXb318yhe6d3EvrO6+yu5da/Nsa+/R/EZnJQAAAAD8\n",
       "SvyDGQAAAAAAAIARBTMAAAAAAAAAIwpmAAAAAAAAAEYUzAAAAAAAAACMKJgBAAAAAAAAGFEwAwAA\n",
       "AAAAADCiYAYAAAAAAABgRMEMAAAAAAAAwIiCGQAAAAAAAIARBTMAAAAAAAAAIwpmAAAAAAAAAEYU\n",
       "zAAAAAAAAACMKJgBAAAAAAAAGFEwAwAAAAAAADByJasc2cwrz7aafXq3m185H5mVJMe6Hpl1FrOS\n",
       "5Fh3LessZiXt+1aeLcX10V67xbyjuOfXg3/bs7PLeZ9a1ifvWlaSvNe3WtbaxfVRfVel+7r6PHd9\n",
       "7N2dba3ebCmuj+96eXsV79tuf1MWZ3vwaA8fDgAAAAD+w3NbDgAAAAAAAAAeRcEMAAAAAAAAwIiC\n",
       "GQAAAAAAAIARBTMAAAAAAAAAIwpmAAAAAAAAAEYUzAAAAAAAAACMKJgBAAAAAAAAGFEwAwAAAAAA\n",
       "ADCiYAYAAAAAAABgRMEMAAAAAAAAwIiCGQAAAAAAAIARBTMAAAAAAAAAIwpmAAAAAAAAAEauZHUT\n",
       "Vy9vlfvvVbzWtcqzFfOOddWyvuedtayzONtx3LWsJDnXq5eV9my9vPpsxbwzvbWWJEcxr5m1dvnc\n",
       "Ldprd/PyqWW9865lJeVnWjwn2+/lneIzffD62KuXlSS7uD727s6W5jdIcbbmd1aS7Gped+0+mbsG\n",
       "AAAAwN/NP5gBAAAAAAAAGFEwAwAAAAAAADCiYAYAAAAAAABgRMEMAAAAAAAAwIiCGQAAAAAAAIAR\n",
       "BTMAAAAAAAAAIwpmAAAAAAAAAEYUzAAAAAAAAACMKJgBAAAAAAAAGFEwAwAAAAAAADCiYAYAAAAA\n",
       "AABgRMEMAAAAAAAAwIiCGQAAAAAAAICRqx+5ilHFrCRrnY/Maue1ZzvW/cisc71qWUlyppd3lWe7\n",
       "UrxvxetMkqt4jJy7eySd6e2Fo/h7nLWf+9uenV3N++RTy3rnXctKknfz3G2uj1rS3xC4nrs+9upl\n",
       "Jcln99bbWt21m119qLWkXV+9z7zOvu6+AgAAAIC/23NbDgAAAAAAAAAeRcEMAAAAAAAAwIiCGQAA\n",
       "AAAAAIARBTMAAAAAAAAAIwpmAAAAAAAAAEYUzAAAAAAAAACMKJgBAAAAAAAAGFEwAwAAAAAAADCi\n",
       "YAYAAAAAAABgRMEMAAAAAAAAwIiCGQAAAAAAAIARBTMAAAAAAAAAIwpmAAAAAAAAAEYUzAAAAAAA\n",
       "AACMXCurGriKnXUz67vmbGctK0mOdT0yq513rruXlV5Wklzr1ctKLytJ7vxRy7p2+b4Vn8O1u/vq\n",
       "LO7To3p+dM/d7G5c0zufYta7lpUkX8X1sdZz10dzeezVe55J8ik+07266+NYX7WsXf5m2Lt5rcVv\n",
       "rfL6ePLZVt2m9et89HAAAAAA/AP4BzMAAAAAAAAAIwpmAAAAAAAAAEYUzAAAAAAAAACMKJgBAAAA\n",
       "AAAAGFEwAwAAAAAAADCiYAYAAAAAAABgRMEMAAAAAAAAwIiCGQAAAAAAAIARBTMAAAAAAAAAIwpm\n",
       "AAAAAAAAAEYUzAAAAAAAAACMKJgBAAAAAAAAGFEwAwAAAAAAADByJasc2czr9t9r9fKOYlaSrJy1\n",
       "rGNdtawkOdf9yKxrvWpZSXLnj1rWlfJsuzfbnd4zSJJ799bbtXv7IEnO5r4qnm3NrLa9u3mffGpZ\n",
       "7+LzTJJvD10f7eWx03uoe71rWUnyyVcva/Wyku679LO7922t3trdKc62u4t3FTfDrp+75cMSAAAA\n",
       "AH4h/sEMAAAAAAAAwIiCGQAAAAAAAIARBTMAAAAAAAAAIwpmAAAAAAAAAEYUzAAAAAAAAACMKJgB\n",
       "AAAAAAAAGFEwAwAAAAAAADCiYAYAAAAAAABgRMEMAAAAAAAAwIiCGQAAAAAAAIARBTMAAAAAAAAA\n",
       "IwpmAAAAAAAAAEYUzAAAAAAAAACMKJgBAAAAAAAAGLmyyh1zMW+VZ1s5e1mrl5Ukx7pqWWcxq513\n",
       "rlct68oftazveb3ZXrs7272Ls+WuZSXJvXt74Sru0SQ5i2fImVXLWsWs73k9O7uYlnyKz/Rrf2pZ\n",
       "SXLs4vuqlpTyE0j26iV+8q5lJcl7fdWyPsWsdt5Rnm1X127zW6v73bbT3fNdT971Pd231ZOvFAAA\n",
       "AID/hX8wAwAAAAAAADCiYAYAAAAAAABgRMEMAAAAAAAAwIiCGQAAAAAAAIARBTMAAAAAAAAAIwpm\n",
       "AAAAAAAAAEYUzAAAAAAAAACMKJgBAAAAAAAAGFEwAwAAAAAAADCiYAYAAAAAAABgRMEMAAAAAAAA\n",
       "wIiCGQAAAAAAAIARBTMAAAAAAAAAI1eyqoGrmLfK/fdavbxjnbWsdt6x7lpWkpzFvCuvR2Ylyb17\n",
       "ec2sJHml9wxeu7s+7uK+utPdV9fqnUdHM6uW1LfLeZ/dSzzL76uj+b5q37iinU8t672+allJ8s63\n",
       "XtbqZSXJUcxb5W+G5vdMdvNE6u7RFM/d7PJs1dPyybMBAAAAwH96cs8BAAAAAAAAwIMomAEAAAAA\n",
       "AAAYUTADAAAAAAAAMKJgBgAAAAAAAGBEwQwAAAAAAADAiIIZAAAAAAAAgBEFMwAAAAAAAAAjCmYA\n",
       "AAAAAAAARhTMAAAAAAAAAIwomAEAAAAAAAAYUTADAAAAAAAAMKJgBgAAAAAAAGBEwQwAAAAAAADA\n",
       "yLWyypG9znqtbv99rLOWtXLVspLkWL28szzbmVcx665l3cWs73m963yVZ3vtXt4fxX2QJHdxnzaz\n",
       "kuRavfPtLGYd7WO3aJfzPruX+PWpRSVJzt17EM1HWrxlSZJ3ejfuK+9aVpK817da1tf6s5aVJO/i\n",
       "e7n5/ZEkn+b3TPHc3e1vyuIe7e7SsvZo7YMcAAAAAP6NfzADAAAAAAAAMKJgBgAAAAAAAGBEwQwA\n",
       "AAAAAADAiIIZAAAAAAAAgBEFMwAAAAAAAAAjCmYAAAAAAAAARhTMAAAAAAAAAIwomAEAAAAAAAAY\n",
       "UTADAAAAAAAAMKJgBgAAAAAAAGBEwQwAAAAAAADAiIIZAAAAAAAAgBEFMwAAAAAAAAAjCmYAAAAA\n",
       "AAAARq5kVQPX6nXWq9x/N/OOddayvuddxay7lpUkZ3p5V169rN3LSpJ7967ztXvPM0n+KK63V3nt\n",
       "vop7/j6659FVPELO1Zut/cue4mjZu5eVJO/dG+5c3eGOT/FJfHpR5UeQ9+4N915ftawk+Sq+E5rv\n",
       "qqT8Xk733G1+zzw1K0l28Ru1+3bpztbf9U39OwcAAADAr88/mAEAAAAAAAAYUTADAAAAAAAAMKJg\n",
       "BgAAAAAAAGBEwQwAAAAAAADAiIIZAAAAAAAAgBEFMwAAAAAAAAAjCmYAAAAAAAAARhTMAAAAAAAA\n",
       "AIwomAEAAAAAAAAYUTADAAAAAAAAMKJgBgAAAAAAAGBEwQwAAAAAAADAiIIZAAAAAAAAgJEra1UD\n",
       "V4p5q9t/r3XWso5iVpIcuWpZZzGrnXftu5Z17+51NvPu8vq4i3vhdXT31evo7flmVpJcxbireNva\n",
       "v+xpHuN797KS5F3M+9rd9dF9Dr20z6f7EL6KZ9vXftWykuTOt1rWt9Wd7Su999XX6r6vmt8zq/mt\n",
       "Vd6jzW/K3fw+rWvPVj7IAQAAAODf+AczAAAAAAAAACMKZgAAAAAAAABGFMwAAAAAAAAAjCiYAQAA\n",
       "AAAAABhRMAMAAAAAAAAwomAGAAAAAAAAYETBDAAAAAAAAMCIghkAAAAAAACAEQUzAAAAAAAAACMK\n",
       "ZgAAAAAAAABGFMwAAAAAAAAAjCiYAQAAAAAAABhRMAMAAAAAAAAwcq12x7x6eauYlSRH8VpXzlpW\n",
       "kpyrl3fmqmUlyZW7mNWbrZmVJHfxmTazkuRV3AuvY9WykuSPYt6rfBzdxbyzeNuaWW27nPcpBn77\n",
       "9LKSZKX3IJr37b27G+Gr+H752t1z98/VfL/0spLkXL1rPYpZ3/N6z/Td/DYqf7ftXTwsV/ngbc5W\n",
       "P3mfO9tzJwMAAADgf+EfzAAAAAAAAACMKJgBAAAAAAAAGFEwAwAAAAAAADCiYAYAAAAAAABgRMEM\n",
       "AAAAAAAAwIiCGQAAAAAAAIARBTMAAAAAAAAAIwpmAAAAAAAAAEYUzAAAAAAAAACMKJgBAAAAAAAA\n",
       "GFEwAwAAAAAAADCiYAYAAAAAAABgRMEMAAAAAAAAwIiCGQAAAAAAAICRK1nVwFXMW+X+e62zlnUU\n",
       "s5LkyPXIrCQ5dy/vKmbdxawkuVdvvTWzkuQ+enmvo7vnX8VLfXW3Ve7ipV7F6zy7j6B6iu9iVpK8\n",
       "i4HlpZtVzNvFp/DZ3fPja/cewrfd3aT3vmtZ1+plJcmZXt65uu+rr/Sew2q+r8prN9XZygdI+fu5\n",
       "6skvBQAAAAD+EfyDGQAAAAAAAIARBTMAAAAAAAAAIwpmAAAAAAAAAEYUzAAAAAAAAACMKJgBAAAA\n",
       "AAAAGFEwAwAAAAAAADCiYAYAAAAAAABgRMEMAAAAAAAAwIiCGQAAAAAAAIARBTMAAAAAAAAAIwpm\n",
       "AAAAAAAAAEYUzAAAAAAAAACMKJgBAAAAAAAAGLmSVY7sddbH6vbfq5h35Kxlfc+7allnMauddxXv\n",
       "21X+fcRdXB/30d1Xr+Kl3uWflTRna2a18661a1ln+dhdxbzdu8wkybuYdzQvNN2336d4ne/y+fFt\n",
       "9zbCn7v77rt38f2y71pWkpyrl9d8xyfJsXrPoZn1ae/R3cvb5e/dZlp7tqR8kAMAAADAv/EPZgAA\n",
       "AAAAAABGFMwAAAAAAAAAjCiYAQAAAAAAABhRMAMAAAAAAAAwomAGAAAAAAAAYETBDAAAAAAAAMCI\n",
       "ghkAAAAAAACAEQUzAAAAAAAAACMKZgAAAAAAAABGFMwAAAAAAAAAjCiYAQAAAAAAABhRMAMAAAAA\n",
       "AAAwomAGAAAAAAAAYETBDAAAAAAAAMDItdaqBnbzuv33ytnLWr2sJDmKs53FrCQ5d3G2Yta1uuuj\n",
       "mXeX99VVzHuVf1ZyF/Pas72OXctqXue5enMlSXO1dSdL3rs33fFpT9ebrTnau3uE58/iM7g/3U16\n",
       "N98J+65lJcm5ennHumpZ3/OK3zPFb61m1v8n9pK67+Vdzvt9PPmNBQAAAMCUfzADAAAAAAAAMKJg\n",
       "BgAAAAAAAGBEwQwAAAAAAADAiIIZAAAAAAAAgBEFMwAAAAAAAAAjCmYAAAAAAAAARhTMAAAAAAAA\n",
       "AIwomAEAAAAAAAAYUTADAAAAAAAAMKJgBgAAAAAAAGBEwQwAAAAAAADAiIIZAAAAAAAAgBEFMwAA\n",
       "AAAAAAAjV7KqgavYWTezkuQo5jWzvuedvazdy0qSszjbVbxvZ/kZnKu3F67yTzfuYt7V3fJ5FWd7\n",
       "HbsXVs67i1ln+Rkcqzfb3t3h3rs321F+XzV9ig/1W3cb5HX0ZruL52SSXKv5frlqWe28szzbUcxb\n",
       "xWfQ/t3iWr289tmW5l5oz1Y9K8sHEgAAAAD/CP7BDAAAAAAAAMCIghkAAAAAAACAEQUzAAAAAAAA\n",
       "ACMKZgAAAAAAAABGFMwAAAAAAAAAjCiYAQAAAAAAABhRMAMAAAAAAAAwomAGAAAAAAAAYETBDAAA\n",
       "AAAAAMCIghkAAAAAAACAEQUzAAAAAAAAACMKZgAAAAAAAABGFMwAAAAAAAAAjFzJKkf28tbqzrZW\n",
       "r09fOWtZSXIUu/6jPNtZna33TM/y+riKcfXZij8Fucs/K3nybK9j17LuYta5ellJchSX2053tven\n",
       "+U6oRSVJ9Urfuzfct/I++LN43+6jO9z96eVdu/zu23cva121rCRZq3etze+P5ndWkqS4r/oHSPv7\n",
       "+ana19k7eZuTdd98AAAAAP98/sEMAAAAAAAAwIiCGQAAAAAAAIARBTMAAAAAAAAAIwpmAAAAAAAA\n",
       "AEYUzAAAAAAAAACMKJgBAAAAAAAAGFEwAwAAAAAAADCiYAYAAAAAAABgRMEMAAAAAAAAwIiCGQAA\n",
       "AAAAAIARBTMAAAAAAAAAIwpmAAAAAAAAAEYUzAAAAAAAAACMKJgBAAAAAAAAGLlWVjVwrV7eKvff\n",
       "zWvtz9bLO8qzHbuXd65mVnftNvOu7mg5i3nt2e5j97JWLyspz1bMusrXucp5Te/mO+HTPdt28bZ9\n",
       "FcPuo7tJ7+Jta2YlyV1cH/c+a1lJcuWqZR3FrCQ5i3lr9e7bKr7jk+63Uft7t3nqPnm28mjl4QAA\n",
       "AAD4WfyDGQAAAAAAAIARBTMAAAAAAAAAIwpmAAAAAAAAAEYUzAAAAAAAAACMKJgBAAAAAAAAGFEw\n",
       "AwAAAAAAADCiYAYAAAAAAABgRMEMAAAAAAAAwIiCGQAAAAAAAIARBTMAAAAAAAAAIwpmAAAAAAAA\n",
       "AEYUzAAAAAAAAACMKJgBAAAAAAAAGLmy2pHNwPZwvT59lWc7irMdu/u7gaN4rd2srqP4SJtZSXIW\n",
       "887yjWvOdh27F5bkWr28e31qWe3rXMXrzO4u3rM4W/uN8Cmela/du85v5QPkLu75e3Vnu1ZvuKv8\n",
       "Vjj32ctaVy0rSY7Vm62alV5WkryL6yPlb6Pmd2D3jZB0T8v+dD2/y3UCAAAAPI9/MAMAAAAAAAAw\n",
       "omAGAAAAAAAAYETBDAAAAAAAAMCIghkAAAAAAACAEQUzAAAAAAAAACMKZgAAAAAAAABGFMwAAAAA\n",
       "AAAAjCiYAQAAAAAAABhRMAMAAAAAAAAwomAGAAAAAAAAYETBDAAAAAAAAMCIghkAAAAAAACAEQUz\n",
       "AAAAAAAAACMKZgAAAAAAAABGrmT97Bn+q1WerZm3yt18d7Yn37eeY3Wv8yhOd5S31VnMO9fuhZXz\n",
       "6rMdxdmKWVf5Oo9mXnm29+4t3r0+tawkuYsb9WsX10dxrSXd67zKP0tr5l2f7nBXzmLWVctKkqOY\n",
       "t4rXuVb726iYV/5myG5e63O/xfuzdc83AAAAAH4O/2AGAAAAAAAAYETBDAAAAAAAAMCIghkAAAAA\n",
       "AACAEQUzAAAAAAAAACMKZgAAAAAAAABGFMwAAAAA/B/7drhjq65dCXgYqKp9+v0fte+uqrUWuH9U\n",
       "Wi21lMhKxs3hZn/fAwxNYwOGCQAAAEs0mAEAAAAAAABYosEMAAAAAAAAwBINZgAAAAAAAACWaDAD\n",
       "AAAAAAAAsESDGQAAAAAAAIAlGswAAAAAAAAALNFgBgAAAAAAAGDJ0Q4cGc2wsl5gvbRqbd3qmnnb\n",
       "jedgKwY2s9p57a9K9mJt+5i9sHLeUczat9YBpe8AACAASURBVKuWlfSPW9OYzZOhu3qv2ZuH5+iN\n",
       "8608n0fxAvJWvoAcxeN2jG5xx7XXsvbZ3W7to5e3FbNGescsSUZxTsfsro9ZXLv1HU31utu+v9yz\n",
       "tvae8r53ZQAAAIAOfzADAAAAAAAAsESDGQAAAAAAAIAlGswAAAAAAAAALNFgBgAAAAAAAGCJBjMA\n",
       "AAAAAAAASzSYAQAAAAAAAFiiwQwAAAAAAADAEg1mAAAAAAAAAJZoMAMAAAAAAACwRIMZAAAAAAAA\n",
       "gCUazAAAAAAAAAAs0WAGAAAAAAAAYIkGMwAAAAAAAABLjr+7gP/Y+HPSZi+vW1k/r+XO47x1beXi\n",
       "RmYvq1zbXqxtG72svZiVdGu789pN+bidWy/vmMWs8qdfb8VJOMoL5Nh6gUf5AnJkr2Xts7vd2sdb\n",
       "LWsrbgW30TtmSTKK30E2s37yeutt1neozdrKmkOtFte++9WPHAAAAMCt+IMZAAAAAAAAgCUazAAA\n",
       "AAAAAAAs0WAGAAAAAAAAYIkGMwAAAAAAAABLNJgBAAAAAAAAWKLBDAAAAAAAAMASDWYAAAAAAAAA\n",
       "lmgwAwAAAAAAALBEgxkAAAAAAACAJRrMAAAAAAAAACzRYAYAAAAAAABgiQYzAAAAAAAAAEs0mAEA\n",
       "AAAAAABYosEMAAAAAAAAwJLj7y6AP8sYf3cF/z3aw2zm1WsrBra/eKnWNuYts5JkL+c1jfRqm+UF\n",
       "ss/eAjmKc9DMSpJjK9a2da8gRzHuKN9gjtFbcEd5u7UX8/bRy9qKWT95ey3rKs5nkuoFaZTvfjNX\n",
       "Me3OG7c73/t67jtKAAAA4E/mD2YAAAAAAAAAlmgwAwAAAAAAALBEgxkAAAAAAACAJRrMAAAAAAAA\n",
       "ACzRYAYAAAAAAABgiQYzAAAAAAAAAEs0mAEAAAAAAABYosEMAAAAAAAAwBINZgAAAAAAAACWaDAD\n",
       "AAAAAAAAsESDGQAAAAAAAIAlGswAAAAAAAAALNFgBgAAAAAAAGDJ8XcX8B+bf3cB/31GL2re+LDd\n",
       "uTb+c4pLN+1zvlnbXbN+8nrHbZSLa87oVl4f++jlNbOOYlaS7MU5Pcrr4yh+5raXF+9RPFOP7LWs\n",
       "JNlnb/u2j17WNrrjHMW8ZtZPXm/xzln+3rN5Lsz2Hat4fauOs71BbR43m2cAAADgfvzBDAAAAAAA\n",
       "AMASDWYAAAAAAAAAlmgwAwAAAAAAALBEgxkAAAAAAACAJRrMAAAAAAAAACzRYAYAAAAAAABgiQYz\n",
       "AAAAAAAAAEs0mAEAAAAAAABYosEMAAAAAAAAwBINZgAAAAAAAACWaDADAAAAAAAAsESDGQAAAAAA\n",
       "AIAlGswAAAAAAAAALNFgBgAAAAAAAGDJ8XcX8B+a5bjRDOwWN9uDLbprZe267rs67jsHSbu2UU27\n",
       "83FrGsXDNtozWixuK9e2Fe8J+02zkuSo1tY9R49i3FH+ZO4YvcDj2mtZSXKMt1rWnl7WVsxKkm30\n",
       "tqkj3Tlo5o1x1rKSZM7e2m3fE+683+3qjXPU90Z/yhwAAAAA/0z+YAYAAAAAAABgiQYzAAAAAAAA\n",
       "AEs0mAEAAAAAAABYosEMAAAAAAAAwBINZgAAAAAAAACWaDADAAAAAAAAsESDGQAAAAAAAIAlGswA\n",
       "AAAAAAAALNFgBgAAAAAAAGCJBjMAAAAAAAAASzSYAQAAAAAAAFiiwQwAAAAAAADAEg1mAAAAAAAA\n",
       "AJYcyawGzmpet7ZmXnec3bw/pbb7ro4/rLZiYLu2pjvX1jTKec1zfitXt41ebftNs9p5x9at7dh6\n",
       "c/o2uuvjKOa9Za9lJckxj17WeKtl7cWsn7zeOM9iVpJcozeno/y955i9vDmuWtZPYHOsxdrK1907\n",
       "bxpG9V7afuYAAAAA/lX4gxkAAAAAAACAJRrMAAAAAAAAACzRYAYAAAAAAABgiQYzAAAAAAAAAEs0\n",
       "mAEAAAAAAABYosEMAAAAAAAAwBINZgAAAAAAAACWaDADAAAAAAAAsESDGQAAAAAAAIAlGswAAAAA\n",
       "AAAALNFgBgAAAAAAAGCJBjMAAAAAAAAASzSYAQAAAAAAAFhyZLYje4GzXFwz7961XbWsn7xebc3K\n",
       "5uzOwVWMa2a18+q1ZfSy6setV9tsZtWS/i2vGdgb5j8hrnvkttHLu2tWkuzFvKO8Ppp5R/mTubet\n",
       "V9xxdYt7y1HLOuZ7L2v0spLkVczbxqOW9ZPXm4M5z1pWkoxR3G2V91rd54TmBenGN78bP6u1j9uo\n",
       "rg8AAADgn8kfzAAAAAAAAAAs0WAGAAAAAAAAYIkGMwAAAAAAAABLNJgBAAAAAAAAWKLBDAAAAAAA\n",
       "AMASDWYAAAAAAAAAlmgwAwAAAAAAALBEgxkAAAAAAACAJRrMAAAAAAAAACzRYAYAAAAAAABgiQYz\n",
       "AAAAAAAAAEs0mAEAAAAAAABYosEMAAAAAAAAwBINZgAAAAAAAACWHDOzGjhnL69eWzFv5qpltfOu\n",
       "0T1uV3FOr+IcdGegPM45alk/eb2ss17bn3HcmrW1xzlHL6979egmdo9aN6+ZtZcH2szby/eXY+sV\n",
       "d5SP21E8r95G93u+t+voZY33XlY+allJ8izWtm+9rCS55quXNc5aVpKM4g6pvRev3hOKpd353lcd\n",
       "aFtxD/ijd90t77RunAYAAAB/D38wAwAAAAAAALBEgxkAAAAAAACAJRrMAAAAAAAAACzRYAYAAAAA\n",
       "AABgiQYzAAAAAAAAAEs0mAEAAAAAAABYosEMAAAAAAAAwBINZgAAAAAAAACWaDADAAAAAAAAsESD\n",
       "GQAAAAAAAIAlGswAAAAAAAAALNFgBgAAAAAAAGCJBjMAAAAAAAAAS45kliOLefPqZSWZ6eU1s5Lk\n",
       "ylnMKtc2ennX7K2Ps5iVJFcx7iyfVs28fm3jllntvGbWVR5nM2+U7wlj9Gpr362axuhVtxWzkmQv\n",
       "5h3dpVvNeyt/Mve29Yp7L54HP3l7L2u+17Ie46OWlSRv+VXLOsezlpUk1/aqZc3iHjBJcjX3geW9\n",
       "VjGrWdlI9xyd1WeY7r6+qnxP6C637gppKq+2G6cBAADwP5k/mAEAAAAAAABYosEMAAAAAAAAwBIN\n",
       "ZgAAAAAAAACWaDADAAAAAAAAsESDGQAAAAAAAIAlGswAAAAAAAAALNFgBgAAAAAAAGCJBjMAAAAA\n",
       "AAAASzSYAQAAAAAAAFiiwQwAAAAAAADAEg1mAAAAAAAAAJZoMAMAAAAAAACwRIMZAAAAAAAAgCVH\n",
       "MquBs5jXzEqSOa9a1jV6WUlypVhbzlpWkpzF2qpZs7s+mnnnHLWsJHkVh3p2D1texVPhVf7k5VWc\n",
       "h2bWUV4fWzFvpFxbMau8dKuaR22M7kj3Yt6+dWs7inlvW3ftvhcX7/vWvbh9zL2W9bjealnP+VHL\n",
       "SpLX+FXLOsezlpUkc/T2WrO8p5zN87RbWlXzajRnd++cUbwelW9+3eercnHl+19NvaxmYPfeN268\n",
       "27pvZQAAAH8mfzADAAAAAAAAsESDGQAAAAAAAIAlGswAAAAAAAAALNFgBgAAAAAAAGCJBjMAAAAA\n",
       "AAAASzSYAQAAAAAAAFiiwQwAAAAAAADAEg1mAAAAAAAAAJZoMAMAAAAAAACwRIMZAAAAAAAAgCUa\n",
       "zAAAAAAAAAAs0WAGAAAAAAAAYIkGMwAAAAAAAABLNJgBAAAAAAAAWHLMObuJ8+pFpZfVzpvzrGUl\n",
       "yTV6eWcxK0mu4ljP4hyc6a7dV/FcaGYlyXmNWtare1rltTVr62Ul3drO2Rxn99uebfTW2yh/dzSL\n",
       "5+kon/Plu19N+8uv4mmQvbjWkuStmPfWHGiSt+JEvO/d2t6L15CPcdSynvOjlpUkr7xqWe290dya\n",
       "+93y1ah4nz/L51WK9/mrerXsrbUkSXHvPEd3DkZzgRSf+5L2uVDMKt/7qtrP8imf80XNfeCNZxQA\n",
       "AOBfhj+YAQAAAAAAAFiiwQwAAAAAAADAEg1mAAAAAAAAAJZoMAMAAAAAAACwRIMZAAAAAAAAgCUa\n",
       "zAAAAAAAAAAs0WAGAAAAAAAAYIkGMwAAAAAAAABLNJgBAAAAAAAAWKLBDAAAAAAAAMASDWYAAAAA\n",
       "AAAAlmgwAwAAAAAAALBEgxkAAAAAAACAJUcyq4GzmDfnVcv6yTtrWdfoZSXJlWJtxawkOYtjPdOb\n",
       "07O8Pl6z973Fq1tansVPQZ7dUz7P4lif2+iFJXm7ennP0cvai1lJsl29BTK28uItKh+2zFkOLGlX\n",
       "tY3eSX8Us5LkKF7b3rZubR978frRvifsxfvV3GtZ5/Vey0qSq7hnuMr73TTPhfLnnqN4FXkW90ZJ\n",
       "MoqDPeejlnWVxznnq5jVrq23r5+je3EbxXM+xeeE5vPtj+I425uj5lhn+7j1xtrfARbfgdSSAAAA\n",
       "/rn8wQwAAAAAAADAEg1mAAAAAAAAAJZoMAMAAAAAAACwRIMZAAAAAAAAgCUazAAAAAAAAAAs0WAG\n",
       "AAAAAAAAYIkGMwAAAAAAAABLNJgBAAAAAAAAWKLBDAAAAAAAAMASDWYAAAAAAAAAlmgwAwAAAAAA\n",
       "ALBEgxkAAAAAAACAJRrMAAAAAAAAACzRYAYAAAAAAABgyZHMauDMdcusJLmKeVfOWlY778yrlpUk\n",
       "r2Jt3azu+njN3rnQzEqS1zWKWbWon7ziZyrP4jiT5Dl6efvoDXTvDjPb6K23cZW/O9p6C+6P+SKq\n",
       "OJ9Jd3201+5RrO19K18/igvuY+9lJclr9sZ6zt5Arxy1rCS5ro9aVvesSpqrbRTvL0kytt6CG7O7\n",
       "eF/p5W2zt97O+ahlJcl5PWtZs7yvn6O3F5+z+zzUzJujt/8Y5WeOFK/h7eflquI+/EfxSl5+Vmve\n",
       "FbpHrf2uBwAA4P/5Y97XAwAAAAAAAPBfo8EMAAAAAAAAwBINZgAAAAAAAACWaDADAAAAAAAAsESD\n",
       "GQAAAAAAAIAlGswAAAAAAAAALNFgBgAAAAAAAGCJBjMAAAAAAAAASzSYAQAAAAAAAFiiwQwAAAAA\n",
       "AADAEg1mAAAAAAAAAJZoMAMAAAAAAACwRIMZAAAAAAAAgCXHzNVNnLMY1a1tzvOWWUlyjVcvK72s\n",
       "JDmLtZ2zl/XKUcv6ydt7WbP77cazeF49r1HLSpJH8TQ9uqXlMXqBe3FK9/IcbKNX3Nja94RebXv5\n",
       "ftWchd4Z2q0r6X5Jto/mSJO3rZf3Kl4nk+SjeODOvTurZ3GoV/EcLU9B1Whfd4tn6lbcfyTJPnr7\n",
       "o+9iVpI897da1uv66mXN7ji38axlnfNRy0qS6+rtxWf5mWOOez6rtZ/7muMcs71rKD7Lt98zNN33\n",
       "sJXDugPtpnU3DTfeggAAwP9Y/mAGAAAAAAAAYIkGMwAAAAAAAABLNJgBAAAAAAAAWKLBDAAAAAAA\n",
       "AMASDWYAAAAAAAAAlmgwAwAAAAAAALBEgxkAAAAAAACAJRrMAAAAAAAAACzRYAYAAAAAAABgiQYz\n",
       "AAAAAAAAAEs0mAEAAAAAAABYosEMAAAAAAAAwBINZgAAAAAAAACWHJmzGjjH1ctKL6udd+WsZSXJ\n",
       "NV+1rHP0spLkzLOW9RpvvazyHLxmL+95db/dOMaoZT2LWUlyFE/TR7e07MWx7sVxbukOdCuOc9S/\n",
       "OyoeuNGtbRvd+99djeI49/IxO4p571t3z3DtvfXWrSy5ZvliWdM9R0fxNt++7u7FOTiuvZaVJG/j\n",
       "qGUdxX1bkjzGRy9r62W95lct6yfv+5ZZSXKO3r7+mr2sJDmvXt5M73loNi9GSWbxua//vNwb6yjf\n",
       "q7pjLe8B77qnrJfVDOyuj1Gs7aazCQAAt+MPZgAAAAAAAACWaDADAAAAAAAAsESDGQAAAAAAAIAl\n",
       "GswAAAAAAAAALNFgBgAAAAAAAGCJBjMAAAAAAAAASzSYAQAAAAAAAFiiwQwAAAAAAADAEg1mAAAA\n",
       "AAAAAJZoMAMAAAAAAACwRIMZAAAAAAAAgCUazAAAAAAAAAAs0WAGAAAAAAAAYIkGMwAAAAAAAABL\n",
       "jmSWI69a0py9rCS55lnLmsWsJLlGL+/Mq5bVznuNXtZzdsd5ZL9lVpIc16hlPUYvK0n2Ym1Ht7Rq\n",
       "3l485fd0B7qN3rdCo3gN/7+JNeVPoppn6Ri9e2n5NKjmbcVxJskxeuvtKp4HSXJtvbHO9lbr6EWN\n",
       "4j2h/dXiXpzTo3zvO85e3tvV3TO8zd4Cec97LStJvudHL2v8qmU9xlctq533mt3aXvO7mPWoZSXJ\n",
       "Nnp513zWss6rl5Uks7gDuYrPVkmS2bySd5+Xm+8ZUn7PMKv75+Kmobxvq6pvjnr35fZevDmnN55R\n",
       "AAD+QP5gBgAAAAAAAGCJBjMAAAAAAAAASzSYAQAAAAAAAFiiwQwAAAAAAADAEg1mAAAAAAAAAJZo\n",
       "MAMAAAAAAACwRIMZAAAAAAAAgCUazAAAAAAAAAAs0WAGAAAAAAAAYIkGMwAAAAAAAABLNJgBAAAA\n",
       "AAAAWKLBDAAAAAAAAMASDWYAAAAAAAAAlhwzsxo4Zy9vjquWlSRz9vKuedayfvJevaz0spLkHM9a\n",
       "1ivFrHHUspLkmV7eUV4fR/FbkOPqnlfH2avtMUYtK0n2YtxWrK1ZV5I0D9tIt7gxeutjFK/hbc2v\n",
       "tdpffjVndBvdPcNeHOxbyuujel51Z7V5zjcrO8rX8KO5PrZubW/bXsv6KN5Hk+Tj6uV9X71xJsnX\n",
       "fKtlfc+PXtb4VctKksf4rmV9j69aVpI8i3nPdGt7zd5xe129rG08allJcs5e3ri6z32z+Kx2pfs8\n",
       "lOozbntPWRxrcb/bftdTPW7lPUOaYy2+0/rRG2v7qFWPW9E9qwIA4P/nD2YAAAAAAAAAlmgwAwAA\n",
       "AAAAALBEgxkAAAAAAACAJRrMAAAAAAAAACzRYAYAAAAAAABgiQYzAAAAAAAAAEs0mAEAAAAAAABY\n",
       "osEMAAAAAAAAwBINZgAAAAAAAACWaDADAAAAAAAAsESDGQAAAAAAAIAlGswAAAAAAAAALNFgBgAA\n",
       "AAAAAGCJBjMAAAAAAAAAS45kliOvXtQsZiWZ46xlXbOX9ZP36mWNXlaSnHneMus1jlpWkjxnL+/I\n",
       "XstKkn32vgXZ56hlJcl+9a4h+9mtbSvGdbO642zGbaP73dF2Na/j5W+itl5t1avR6N6Xm0et/VXa\n",
       "KI61vHSzFfcgW3mvtRcHexQvIG9X99r2Vrzwvjcv4kk+irf57/K979fZK+7r6p5Yzdq+r96V93u+\n",
       "17J+8j56WeNXLesn77uY9VXLSpLH+KxlPfdeba/ZO2ZJ8rp6tZ3jUctKkrN4Xo3Ze+5Lkqv4PDTT\n",
       "fZZPs7biO4vRfDeTJMXnyNmural7W+6a7fd39xxsv6recWvPAADAvzJ/MAMAAAAAAACwRIMZAAAA\n",
       "AAAAgCUazAAAAAAAAAAs0WAGAAAAAAAAYIkGMwAAAAAAAABLNJgBAAAAAAAAWKLBDAAAAAAAAMAS\n",
       "DWYAAAAAAAAAlmgwAwAAAAAAALBEgxkAAAAAAACAJRrMAAAAAAAAACzRYAYAAAAAAABgiQYzAAAA\n",
       "AAAAAEuOzFkNnKOXN3PVspJkzl7eHGctK0mu2cs757OWlSRbjlrWazxqWc26kmQfvbxn9lpWkuyz\n",
       "9y3IPkctq523X93r0XYWaysetq07BdlGL7D91dFIr7byYevWVjxw7XE278tbMSvpjnWUa6te24rn\n",
       "aJIcW2+sb1evtverewV5L9b2Ub7wPoq1PZo3mCTfxS3qd3GcSfJ99vZH32dvvX1f3X3b19XbU37P\n",
       "91pWknxdH7Ws7/GrlpUkX+OvWtb3+KxlPYpZSfLcenPwnF+1rCQ5Ry/vdfWe+5LknL3z9Co/L8/5\n",
       "Kmb1rm2z+I4h6b4DGeVn0pnmPrD7HirN2sp7ympt1a14d1/ffOpoz0BX+7j13LcyAOC/wh/MAAAA\n",
       "AAAAACzRYAYAAAAAAABgiQYzAAAAAAAAAEs0mAEAAAAAAABYosEMAAAAAAAAwBINZgAAAAAAAACW\n",
       "aDADAAAAAAAAsESDGQAAAAAAAIAlGswAAAAAAAAALNFgBgAAAAAAAGCJBjMAAAAAAAAASzSYAQAA\n",
       "AAAAAFiiwQwAAAAAAADAkiO5uomzlzfLtc3Ry7vmWctKkm308q75qmUlyTmetawtey3rzKOWlSTP\n",
       "0autOc523j5HLStJ9qv3nUr7i5dtFGs7e8etPs5qVnd9bOO+x20010fx3rdl1rKSpDgFddvojbU+\n",
       "zGJtRy3px1vxOn5uxazieZAkr+L95Xl1V8izOAeP4jiT5FG8X32Xj9ujuES+i+P8KmYlyffZm9Ov\n",
       "8vr4Ont7yq/5VstKkq/ro5c1fhWz/qplJcn3+F3LeozPWlaSPOZ7LWsfX7WsJHnN717W1ctKkmv2\n",
       "npebWbP8XuCazetR931K9b1W+Xl5Vvf25fd3TTd+5qia3We1rvtOQvus+lP8OSMF4F+VP5gBAAAA\n",
       "AAAAWKLBDAAAAAAAAMASDWYAAAAAAAAAlmgwAwAAAAAAALBEgxkAAAAAAACAJRrMAAAAAAAAACzR\n",
       "YAYAAAAAAABgiQYzAAAAAAAAAEs0mAEAAAAAAABYosEMAAAAAAAAwBINZgAAAAAAAACWaDADAAAA\n",
       "AAAAsESDGQAAAAAAAIAlGswAAAAAAAAALDlmPbKXOIpZSTLn1ctKLytJrvmqZY3staykW9uZZy3r\n",
       "NY5aVpJsxeO2je4c7LOXt5e/K9lmL28rX5D2a9Sytl5UtlEMS7u2XtZPXi+wfNgyipfxLcW1Vp6E\n",
       "6nk1uidpc6R7ubatnHdXzVFes7t2m3mvcm2vq3fvexXvVUnyOHq1Pcu1fZ+92r6LtX2f3XF+nc2s\n",
       "7r6tmfd1dve7n1dvb9/M+rrea1lJ8jk+allf41ct6yevV9tjfNaykuQ5e3nbeKtlJcl5ffey5qOX\n",
       "dfWevZNkFJ/lrxQvlElSzWvXVnzoKO9nmjvBWd1Vtvfhxbz2Q2l9rEXV0qoPpcWse+uO9MZrrezP\n",
       "GSnA388fzAAAAAAAAAAs0WAGAAAAAAAAYIkGMwAAAAAAAABLNJgBAAAAAAAAWKLBDAAAAAAAAMAS\n",
       "DWYAAAAAAAAAlmgwAwAAAAAAALBEgxkAAAAAAACAJRrMAAAAAAAAACzRYAYAAAAAAABgiQYzAAAA\n",
       "AAAAAEs0mAEAAAAAAABYosEMAAAAAAAAwJIjmeXIXt7MVctKkpGzljXLvflr9vJGXrWspFvbWTxu\n",
       "W/ZaVpK8Ri+vXduzWlt37W5z3DIrSbarWNsort1RHmcxrpn1k9ecg1rUT14xa2+Os3we7NX7cldz\n",
       "pNvoVreP3h6kXVvzXBg3Xh/NFXKVz6uzmNfMSpLX1bu6PYtZSfIo5n03s87uOL/P3px+FrOS5OvG\n",
       "tX2evf3u56s3p5/nUctKko/Zy/u83mtZSfI+PmpZX9uvWlaSfBdre4zftawkeY6vXtbVy9rGdy0r\n",
       "Sc6rt3bHfNaykuSavXcgs/je6Eczr/uOrPnObTRrm91d5azuUu/7DrVeW/n5+49QfyBqBv45E9od\n",
       "af8pt+W+lQF/En8wAwAAAAAAALBEgxkAAAAAAACAJRrMAAAAAAAAACzRYAYAAAAAAABgiQYzAAAA\n",
       "AAAAAEs0mAEAAAAAAABYosEMAAAAAAAAwBINZgAAAAAAAACWaDADAAAAAAAAsESDGQAAAAAAAIAl\n",
       "GswAAAAAAAAALNFgBgAAAAAAAGCJBjMAAAAAAAAASzSYAQAAAAAAAFhyJLObOJt5VzErmdW8dm1n\n",
       "L2v0spLkmq9a1sheyzrHs5aVdGvbyt9ubOPGtRXztjlqWUmypZe3XcWs8nW3Os5a0r/lFad0G+31\n",
       "0bMXa2tmJclZXLvt2ubonQujfV4Vazu27p7hKNa2FWvrro5kFMfZNov3q6t87ztn7+r2Kl4/kuR5\n",
       "9fYzz6s3zu+zV9dPXq+2r+IxS5LPV6+2z7O7Pn4X837vxaxXdw5+FdfH7/La/biOWtbn9V7LSpLP\n",
       "8VHL+ipmJcn3+F3L2vfecXtdX7WsJHmN71rWOR+1rCQ5r967gWt23zPMed93PdXabvy+rZt353eo\n",
       "3dpmNe+++/pqbe0HojurTumd18d9J/W+lSV3ntP7Vgb/mvzBDAAAAAAAAMASDWYAAAAAAAAAlmgw\n",
       "AwAAAAAAALBEgxkAAAAAAACAJRrMAAAAAAAAACzRYAYAAAAAAABgiQYzAAAAAAAAAEs0mAEAAAAA\n",
       "AABYosEMAAAAAAAAwBINZgAAAAAAAACWaDADAAAAAAAAsESDGQAAAAAAAIAlGswAAAAAAAAALDmS\n",
       "WY68akmz3v/ujXUUx5kks5h3zVctK0lGcR5GnrWsc3bXR3Ocr3Hf2saNa9syallJshXXyHb1amtf\n",
       "2Zpzuo3yHJzFrF5UPW8vHre9fI7uo3fvO2Z3fXR3IOW1W4xrzkGSHMUT69h6+4+9mJUkW/G4jfIc\n",
       "NFdbeyc+i+dpe691Xr28ZzHrce61rCT5Po9iVre2z6OX9/nq1vb77M3p772X9Y+je3/5/erlfbx6\n",
       "a+0nr3fcPspr9+PqjfX3eK9lJcnX+Chm/aplPbbftawkec6vW2YlyTkevazZy/rJ670DmeV3Pdfs\n",
       "7SlnM6v8vq35/q5dW/cdanu/W8ybzePWHeed0/p5RdXnq+5e67bHrV7WTceZpD+nPXd+q3XnGYV/\n",
       "jz+YAQAAAAAAAFiiwQwAAAAAAADAEg1mAAAAAAAAAJZoMAMAAAAAAACwRIMZAAAAAAAAgCUazAAA\n",
       "AAAAAAAs0WAGAAAAAAAAYIkGMwAAAAAAAABLNJgBAAAAAAAAWKLBDAAAAAAAAMASDWYAAAAAAAAA\n",
       "lmgwAwAAAAAAALBEgxkAAAAAAACAJUc7cGbWskYxK0kyr15UzlrWj1FLmsWsJLny6oWNXm1jdr+P\n",
       "OIvfW4zytxtj9PK27LWsn7xmbd3jVq1t9tbuVr60bVextu7lI1vxnN/vXFtx6e7l9XEUr5Wv2S3u\n",
       "rXhe9e7wfdvoHre9eBE59t5+5ti6EA4C0wAAIABJREFUe6Nj783qProrZBTnoL7fLZrFczRJrub1\n",
       "6Cpmnd290ePsPWJ9v7qPa1/F2j7Ltf0u5v3ee3P6V3l9/KO4oflV3hz9Km5ofr26tf1+9Wr7uMpr\n",
       "93qrZX2Mj1rW5/hVy0qS7/FZy3oUs5LkNb+KWd+1rJ+8Ry3rms9aVpKcxbw5e/vAaxbfQSWZxSeF\n",
       "5jiTbm2j/ETUrC3V/W77ya9ZW/s99n1ra77/rx+36nvxYm3ld1q3Vp3S+z4vtye1m3bf43bfyvjP\n",
       "8AczAAAAAAAAAEs0mAEAAAAAAABYosEMAAAAAAAAwBINZgAAAAAAAACWaDADAAAAAAAAsESDGQAA\n",
       "AAAAAIAlGswAAAAAAAAALNFgBgAAAAAAAGCJBjMAAAAAAAAASzSYAQAAAAAAAFiiwQwAAAAAAADA\n",
       "Eg1mAAAAAAAAAJZoMAMAAAAAAACwRIMZAAAAAAAAgCVHMv/uGv598+rmjVGLmu3efHGsM93jduWs\n",
       "ZY3ZO25nXrWsH73axuiuj9Gsrbx2R/G82sq1bSnWNu+ZlSTbdd852Jtz0D1s1bzj7IUd5XEexXO0\n",
       "mZUkr+IkvJXPq3nj7dEYveK2Ytaxd/cfb3vvPn/svb1Mkuxbb6xbMSvpro+2WTxPr2LWee61rCR5\n",
       "nUct6/HqZSXJdzHv6/VWy0qSz2cv7x/F2v5XeQ7+2nvrrZn1k9fbB/7vvXtf/lUc68eru9/9KF5D\n",
       "Pq/eevu43mtZSfI1fhWz/qplJcljfBazvmpZSfLKdy9rPmpZSXIW8875rGVds/uup5k3Z3dPeRXz\n",
       "ZvHdXZLM5jvZUXznWX5XPIrvUGf7IbJ53Mrv/0czr/3+v1hb+7h1NWtrr91u3G3Vl0cz8L6T0Lx+\n",
       "3PkM/VP4gxkAAAAAAACAJRrMAAAAAAAAACzRYAYAAAAAAABgiQYzAAAAAAAAAEs0mAEAAAAAAABY\n",
       "osEMAAAAAAAAwBINZgAAAAAAAACWaDADAAAAAAAAsESDGQAAAAAAAIAlGswAAAAAAAAALNFgBgAA\n",
       "AAAAAGCJBjMAAAAAAAAASzSYAQAAAAAAAFhyZJYTRzOwW9ws5o151bJ+AkctauasZf3o1XbNXlaz\n",
       "rp+0Xt5ZHWe3tjG635WM4ncqt66tmVVfHz1bubbt6l13t7Nb216Mq2aVby9H8f5ybN1z9K24Ps6t\n",
       "e+Ca1/HuvS/V7dEo7tu20Z2DvTinx/GqZSXJsff2Wnsx6yevd9ya6+NHL282z9Gre207z72W9Xod\n",
       "tawkebzealnfz15WkvxVzPvr+V7L+l3MSsrj3Lvr46+9t3Z/FbOS5B/Fzdav5sYtya9Xb6yfr971\n",
       "6PfZXR9fs7d2P6/uefU9fhWzvmtZSfIo5j3LtTXzzvmoZb3Sy0qSaz5rWefs7imvYt6c3T3lVcxr\n",
       "vqdsj3MW3+/O8vNQs7aRcm3VvHZtxff/zYfvdi+h+WxVbxA188rvU6ovVOqNtV5UtbT7jrO9Orrn\n",
       "1Z/BH8wAAAAAAAAALNFgBgAAAAAAAGCJBjMAAAAAAAAASzSYAQAAAAAAAFiiwQwAAAAAAADAEg1m\n",
       "AAAAAAAAAJZoMAMAAAAAAACwRIMZAAAAAAAAgCUazAAAAAAAAAAs0WAGAAAAAAAAYIkGMwAAAAAA\n",
       "AABLNJgBAAAAAAAAWKLBDAAAAAAAAMASDWYAAAAAAAAAlhzJLEf28ma5tjGLtY2rlvVj9KJmMStJ\n",
       "ctaSZnGcV/OYJRnFvDG7326cxW9BRvm7kjF6x20r17aNXt5WXB/NrCTZiuf8dpVrK2btxflMkv3s\n",
       "jXUvHrajWFeSHM3ayuvjWbx+PK/u+njfenlX+b5cvf8Va2vvPratt9fai1lJchy9vdFxPGtZSbIX\n",
       "a2vOQZKMrbm3L+7ry+foLF6Pztdey0qS1+utlvV49LKS5K9nL++vx3sx66OWlSR/HcXanr2sn7zi\n",
       "HOxHLesnr3cu/LV39wx/FTeC/yhm/XV2rx+fr95x+7y66+Pr6p0LX9evWlaSfI/eff4xHrWsJHnk\n",
       "u5b1LNb2KtaVJK9ibefs7tvO9PLatV3zddOs3l43Sa70apvl2ub/Yd/eshxHljTNCkiaeZzT8x9q\n",
       "hZuRBNAPlvWaravqy3R0xt4D+JcooBcAQp7ds3he24S1hVkzM9tla2vHWfZNyms2MzNhD6buXbX9\n",
       "puv21WYra4u/9qTzo1aO9crj7PgHMwAAAAAAAABLNJgBAAAAAAAAWKLBDAAAAAAAAMASDWYAAAAA\n",
       "AAAAlmgwAwAAAAAAALBEgxkAAAAAAACAJRrMAAAAAAAAACzRYAYAAAAAAABgiQYzAAAAAAAAAEs0\n",
       "mAEAAAAAAABYosEMAAAAAAAAwBINZgAAAAAAAACWaDADAAAAAAAAsOTxpwv4z51x3hFmbWHWzJxd\n",
       "bedW19blnbNnWfU9OMq88Jr96PK2+LqVea+t/c1LWdsW1rbFv+25hXm3eO7ew7zb0dZ2C/fKe7i1\n",
       "3ePt4x5et8feFvcI19XH0T4zvI6utneYNTOzh3l7uEbTc3Rmzvws7Wxb99x2u5fPpzP3R7ch3R/v\n",
       "LGumHet2a69bqZy7x97uH8f7nmV9vj6yrJmZ17PL+/X8zLL+er6yrJmZv77L2n5lWTMzfz262v71\n",
       "6rJ+8rr58a97tw7qvH8/ujX/v97tOfo7fEj9vbf34He4V37FtX0f3dz9Pto1/5x/ZVnfW7dXvrZn\n",
       "lvWTd93a3tPlvePa9rO7bvt0WUdY18zMfnbPu0eYVee132Pj2s62trP8xh5etzPtS8ykfY7wms3M\n",
       "nOH7ct0f2tKxtrWdad5Vs6Zt6dTtwzCw/qKVDzXiH8wAAAAAAAAALNFgBgAAAAAAAGCJBjMAAAAA\n",
       "AAAASzSYAQAAAAAAAFiiwQwAAAAAAADAEg1mAAAAAAAAAJZoMAMAAAAAAACwRIMZAAAAAAAAgCUa\n",
       "zAAAAAAAAAAs0WAGAAAAAAAAYIkGMwAAAAAAAABLNJgBAAAAAAAAWKLBDAAAAAAAAMCSRx95hllb\n",
       "mDVzhrVt55Flzcyc4VC3MmxmZuvyzvKennuXNTNHWlt7D7awtj1eV+XvVLb4Ny+v7Zq13eJxlnm3\n",
       "eH7cwrVwO9ra7mHcPZxr9/Z4mUe4VT7C82Bm5hHe04+jXVdl3sdxz7J+8rqb+hmO84jvwRnuH+XT\n",
       "aW3b2uq2W7eJ3O7ts9bto8sra9tu9Qzp8sp1MDNz7t1+9PF+ZlkzMx/Pjyzr89nV9vndjvPz41eW\n",
       "9ev5yrJmZv76/syy/vXsxjkz8+9HV9u/X13WzMz/enefVcqsf9/bc/nvR5f3+93ubb/3Lu8r3Cfr\n",
       "vO/4mfJ77/bd77NbV8/jryxrZuY57y5r67JmZl5bd8a8pj0TytreE2aFdc3M7OF128+4trObb8fZ\n",
       "zo8jra1dV21t3TvHubXvVmdZ27QforYJa4t7MG2fI36XD8fa1hbfg1L8PaXu6bSu+WXLP5gBAAAA\n",
       "AAAAWKLBDAAAAAAAAMASDWYAAAAAAAAAlmgwAwAAAAAAALBEgxkAAAAAAACAJRrMAAAAAAAAACzR\n",
       "YAYAAAAAAABgiQYzAAAAAAAAAEs0mAEAAAAAAABYosEMAAAAAAAAwBINZgAAAAAAAACWaDADAAAA\n",
       "AAAAsESDGQAAAAAAAIAlGswAAAAAAAAALHnkiWeYtZVhtbq2Lu+cI8v6CdzavEpeVhd4xtfsCGvb\n",
       "4t+VbGFt762+qeV1C7O2696DW7ywbmc31ry2I7xu4Xl139tx3sO4e3jNZmYeezc/HvH28RGu049b\n",
       "u+Y/93uW9bqFWWFdMzMfYV6ZNTNzhntb/cxQ2m7t8+7t1j2j3h57lrXdu6yZ/rqlwvl2hHv4zMz9\n",
       "1zPL+nh+dFlhXTMzn99dXpk1M/Pr41eW9dfzlWXNzPzr+7PLenXjnJn596ur7d+vbu7+P+/2c8/f\n",
       "4Vn697s9l3+H+9Hv+Fn8KzxivuJ99zus7Tus7fto5+7z6NbV99l+b3sef3VZ886yZmZeW7ePP8Os\n",
       "19aefe/p8vLawrz9bGsr8/ZpnxmOo1sL+9nVdpztGj23bhPPawvfl6fuc0x4+MVnwhl+F9/K6xa/\n",
       "3p5pYFzcdt3rVj6hlqX5BzMAAAAAAAAASzSYAQAAAAAAAFiiwQwAAAAAAADAEg1mAAAAAAAAAJZo\n",
       "MAMAAAAAAACwRIMZAAAAAAAAgCUazAAAAAAAAAAs0WAGAAAAAAAAYIkGMwAAAAAAAABLNJgBAAAA\n",
       "AAAAWKLBDAAAAAAAAMASDWYAAAAAAAAAlmgwAwAAAAAAALDkMXP+6Rr+G21Z0hlft+0M87b6nh5Z\n",
       "UlrZ2d3PH3uWdIRz7UeZ9wqzZtLazvY3L1tY27Z1td3i3/bcLlzbFubd4jV/P7q8e5Y0c4/vwX0L\n",
       "xxlvbY+wtkd4P3/yuvvw2MsZMvNx687lx/7Isj727hydmXmltb2zrJmZ97u7p49Hu+bPcO6e8boq\n",
       "beHz7u3eramZme3erYXtdt13tfpcPvdu7h6f3fPu/fWRZc3MPH51tT2+n1nWzMznZ5f36/s7y5qZ\n",
       "+evzV5b1r/i6/fv52WW9unH+jufu3+8u7/e7O+NnZv4On7V+x89tX+9ub/sdn8tfe5f3HWaVdc3M\n",
       "fIfny/Noz+Xvo1sLz6Nd899nt7c9j+7Z6Lm1z/XP8BvZc2vPl9fWnaWvuLZ3WNt72tr2cKz7WWa1\n",
       "32P3o8vb0q9aM8d06/Tc2u8MZ/rtua0tzQvf1c7w293MzHaWvab2XT7tc9SfU9rGWpbkH8wAAAAA\n",
       "AAAALNFgBgAAAAAAAGCJBjMAAAAAAAAASzSYAQAAAAAAAFiiwQwAAAAAAADAEg1mAAAAAAAAAJZo\n",
       "MAMAAAAAAACwRIMZAAAAAAAAgCUazAAAAAAAAAAs0WAGAAAAAAAAYIkGMwAAAAAAAABLNJgBAAAA\n",
       "AAAAWKLBDAAAAAAAAMCSxxkHbnFeqx5t5wxr284jy5qZOcObuoW34Nzi2VYOdPYwq5259So4wlW/\n",
       "pfdgZi9rC3+P84rnblnbtrW/Oypru8UnzC2cb2nW0Y7zvnd593jbLfPu8bq6h2vhUR5+M/O4Pbqs\n",
       "sLbHu33+eNy6vMf9I8v6yevO+fe7u58zM/d3V9v9cc+yZmaOo6ut3Hdzt/C5/t6uqwnXVf0oXj6k\n",
       "3vZuDz/fryxrZub+2a35+2e7t3386sb68fWZZc3MfH4/s6xf399Z1szMX9+/sqx/Pbvavp7tPfh6\n",
       "dXm/3+3c/f3q8n7v7bn8Ozznv8K9bWbm996d81/hO8dX/D5U1vYdZs3EtR3t/PgO58f30T1/PI92\n",
       "//g+u73t++zOg5mZ5/ZXmNWefc+tO5df85Vlzcy8wrG+J8wKr9nMzC3M24/2efc4u7zjfGdZMzPH\n",
       "dHnlN/GZiZswYW8ibiZctdc0Uw81fpe/aG/TP5gBAAAAAAAAWKLBDAAAAAAAAMASDWYAAAAAAAAA\n",
       "lmgwAwAAAAAAALBEgxkAAAAAAACAJRrMAAAAAAAAACzRYAYAAAAAAABgiQYzAAAAAAAAAEs0mAEA\n",
       "AAAAAABYosEMAAAAAAAAwBINZgAAAAAAAACWaDADAAAAAAAAsESDGQAAAAAAAIAlGswAAAAAAAAA\n",
       "LHn86QL+U2ect9WBpX9GbWeYtZ1HlvUT2EWd8e0s445yoDOTXrgjru3W5W3hOMusmZnX1v1WaIt/\n",
       "d3TburHezri2cKy3cO7e4vmR3oO9rq3Luofj/Mnr5scj3tru4fPMfbt3Wbf2sfLx7s75+619Zrjf\n",
       "9izrdu+yfvK6sfa1dXnHvZu79Ti3e7m5tQ+V2y18Fo/XVfqu9tHdg3N/Z1kzM7fPLu/265Vlzczc\n",
       "n13e49czy5qZ+fj+yLI+vz+zrJmZX9/fWdZfYW3PZzvO7zDvK67t6xXW9u7mWp33+90+a5V5X3t3\n",
       "Lv/e2/e+rzCvzPrJ686rr/hYTmsL58d3fQ+OsLYw6yevW6PfZ7u3fW/dM8P31p4Jz607l1/bV5c1\n",
       "XdbMzDts67xv7XPbfnZrYT/b2ua87nfsM/weWGal3/5nZs7u/bu8nTPtK2nZB5uZmfK7Z9i88g9m\n",
       "AAAAAAAAAJZoMAMAAAAAAACwRIMZAAAAAAAAgCUazAAAAAAAAAAs0WAGAAAAAAAAYIkGMwAAAAAA\n",
       "AABLNJgBAAAAAAAAWKLBDAAAAAAAAMASDWYAAAAAAAAAlmgwAwAAAAAAALBEgxkAAAAAAACAJRrM\n",
       "AAAAAAAAACzRYAYAAAAAAABgyeNPF/CfO+O8Lc4rdWPNr9p5hGFdVD3OMnDb2rl2phdu77Jm5kjX\n",
       "VXvdtrPL2y88zvK3QtvW/u5oC8da13YLa7uFc63Mmpm5HWFt9T3Yu9ru8bK6hfv4PT4Tbts9yyqv\n",
       "231rT+Yy776FzzIzc7t1eWXWzMwtvG55bbeuti3Nase53bu8M8yaqZ/r46fxcKxbWNsWvzGfR/cs\n",
       "Xp7xMzPn5yvLOl7thbv/1eU9nh9Z1szMx3eX9/n9mWW9n13WzMwzrO3fcW3fYW3fr3Z+fL262r7q\n",
       "2t5dXpn1+93uH7/37tm5zJqZ+f3u3q++9vZd7XeY9xV+hvodvkPOzHyFeWXWT143376Odu5+nF3e\n",
       "x9mu+e/w4a3MuscPlc8wbwu/MczMbGf4nTJ+3t3Cb6j7ra3tCL8HllmXdrbvpOVl2+rawuZV+b3e\n",
       "P5gBAAAAAAAAWKLBDAAAAAAAAMASDWYAAAAAAAAAlmgwAwAAAAAAALBEgxkAAAAAAACAJRrMAAAA\n",
       "AAAAACzRYAYAAAAAAABgiQYzAAAAAAAAAEs0mAEAAAAAAABYosEMAAAAAAAAwBINZgAAAAAAAACW\n",
       "aDADAAAAAAAAsESDGQAAAAAAAIAlGswAAAAAAAAALHn0kWeYtYVZE5dWhl1be9nCtO3osmLnGc/d\n",
       "Ul5aF1ivqiO9D1fNmtm27rdCW11bmFeOc2ZmC39jVWbd4v3jdnR59a/SbuV12+LrFsbd47lb1nYL\n",
       "n2duW/tY2dbWnjDbhWtLr9utfdYqr9sWPgdu9Thv5fNuPHfL2sqsmdnu4X0Iayvn7czM9gjHGT88\n",
       "nx/vLGv79cqyZmZu73uWdX+159UR5n08P7Ks/bvLmpn5DGt7f39mWTMzf4V5r2db23dY23dd26u7\n",
       "p1+vrrbfYV0zM1/vLu/vMGtm5vej29t+v9u97e+9e4f5/e6y/grrmpn5e++yPt/tO+ln+OL3sbe1\n",
       "fRzdfXiEWTMz97PLu0+3Rm9h1kz9LTD+3lbWVn4AmZkpv7nlrYlr9hOO/It9l3fW6yoc6ln3D9O+\n",
       "WhflH8wAAAAAAAAALNFgBgAAAAAAAGCJBjMAAAAAAAAASzSYAQAAAAAAAFiiwQwAAAAAAADAEg1m\n",
       "AAAAAAAAAJZoMAMAAAAAAACwRIMZAAAAAAAAgCUazAAAAAAAAAAs0WAGAAAAAAAAYIkGMwAAAAAA\n",
       "AABLNJgBAAAAAAAAWKLBDAAAAAAAAMCSx58u4L/XGWZtYdZMW9t1nXNkWdvZ/j7i3Lp7sIXjnIln\n",
       "x1nP3T1Laq/aTLtOu6wt3j/2I6zt1ta2beV1a9f8bevybuE9LbNmZrZwzW/hXJtp58et24p+8tK5\n",
       "2yrXQllb/avFW3gu17Vt4cm8heOciWvLknrlOK890PgdIcy713P3Vt7TMOsR34N7+MSb7x9hVv3O\n",
       "cbyzqHN/ZVkzM7f3Pcs6X13W/fWRZc3MPJ7d56P92db2+f2ZZb2/29p+hbW9wqyZme/vX13Ws6vt\n",
       "32HWzMzvV5f3rzBrZuZ3uE7/vrdz9693t+b/vnV726+9y5qZ+Xx3bwqf8feUj+7om0dc2z28bre4\n",
       "PXEPv1vcyu8p9bee8jtl+P1jJn69uvS7Wh1YPtt3WedZ962u+82i7A9NfN3KbyBnmOUfzAAAAAAA\n",
       "AAAs0WAGAAAAAAAAYIkGMwAAAAAAAABLNJgBAAAAAAAAWKLBDAAAAAAAAMASDWYAAAAAAAAAlmgw\n",
       "AwAAAAAAALBEgxkAAAAAAACAJRrMAAAAAAAAACzRYAYAAAAAAABgiQYzAAAAAAAAAEs0mAEAAAAA\n",
       "AABYosEMAAAAAAAAwJJHHXiGWVuYlTvLkc7MduXRxmPNxHWdRxcV384tHGpd22Wnx8wc6S7SZW35\n",
       "7hbWlk+QsLat/U1UeR+2cA/f4t9+leO8xfNj27us29y7sInnR5b04xYGpnN3i+9BOc4u6j8Cu8Ov\n",
       "fgS88hMl/7Ncea7dyofnW/uwWz7ObHFt6VgvPEHy593jnUWde/jc9n5mWTMz56v7fHR/tp+ijudH\n",
       "lvXx3WX95H1mWe8wa2bm8+s7y/r1/SvLeoZZMzO/wuv2V13bo6vt1zOeH/cu7/MWrtF3e/Y9wneY\n",
       "+619l7+HDw3lO+RM/J2h/tYTnqVTZl34+2ld3Bk+i595beX3/y5rZuacsLbwutXjPMJxbnl/qNyP\n",
       "4vlRfjwK34f8gxkAAAAAAACAJRrMAAAAAAAAACzRYAYAAAAAAABgiQYzAAAAAAAAAEs0mAEAAAAA\n",
       "AABYosEMAAAAAAAAwBINZgAAAAAAAACWaDADAAAAAAAAsESDGQAAAAAAAIAlGswAAAAAAAAALNFg\n",
       "BgAAAAAAAGCJBjMAAAAAAAAASzSYAQAAAAAAAFiiwQwAAAAAAADAksefLuA/d8Z5W5wXKoe6/TOu\n",
       "2xnPj3SU51GmzRkWV0+PcwuLKwc6MzN7llRetuOia2pmZs/vQZe3xddtC+duWVtZ10xcW30PwoW1\n",
       "tdtuOtJta3/PV8+Q6yX977zyul38kTd0huuqfqIsXbu2Kz8bheLa7mVYWNqtnm3l4XeL34fC2rZ7\n",
       "fd3KrOvuIOXzzHl070IzM/N+Z1G3d/tsdD67c/54fmRZMzP372eW9fj+zLJmZh6/urzH1yvL+giz\n",
       "ZmYeH7+yrI9Htw5mZh7fXd7HrV3z92e3IT3Cze0W7+Fl3m1Ln2bi96sr/8esHWk5Q86zu27n0b6T\n",
       "nuGL3xE/7x7Trfkj/thzlN+K49rO8LqlWRce51b3YMq9Mv4WWH7s2cJ7cOXTBQAAAAAAAIAL0WAG\n",
       "AAAAAAAAYIkGMwAAAAAAAABLNJgBAAAAAAAAWKLBDAAAAAAAAMASDWYAAAAAAAAAlmgwAwAAAAAA\n",
       "ALBEgxkAAAAAAACAJRrMAAAAAAAAACzRYAYAAAAAAABgiQYzAAAAAAAAAEs0mAEAAAAAAABYosEM\n",
       "AAAAAAAAwJLHny7gP3PGeVuc1wpHe8Yj3eo7cU3lKPu51lV3xitrO48wrIuamTnLZdVFzXHl3eiI\n",
       "a7t1eVt83dK87brjTGuLj4N0pPHcTe/Du4v6cdXfB9Z721XHOVM+QudPWfVzYCms7Qzn2xlfszKv\n",
       "r63Mqh/cyrCwtniRljtbeMT/R2D4zhFv4dstvBH3LmpmLvuhYSsX/MzMx95l7eE75MxsYW3bZ/vg\n",
       "tn2+wqy2tttHl3d7dFn3MGtm5nbv5sf9Fq6DmbndurVwi1/WtjAvP68uqn6uL78d1UfCER70R15b\n",
       "d932ezfOPR7nHs64vfy2OzP7fHZZW3smHGFtR15b953hdna1HVv78LydXd62tefyVr6t1S9E063T\n",
       "8nvKlb/cAQAAAAAAAHAhGswAAAAAAAAALNFgBgAAAAAAAGCJBjMAAAAAAAAASzSYAQAAAAAAAFii\n",
       "wQwAAAAAAADAEg1mAAAAAAAAAJZoMAMAAAAAAACwRIMZAAAAAAAAgCUazAAAAAAAAAAs0WAGAAAA\n",
       "AAAAYIkGMwAAAAAAAABLNJgBAAAAAAAAWKLBDAAAAAAAAMCSx58u4L/XGWZtYVatHOdMO9a6tmvK\n",
       "78B5hGFd1Ew81vjCbeFY23G2NyGcHVNPkC0c654l/W/lWLusrZy4P4ld0oVrq9fVli6s+HErXAzb\n",
       "pX9rWN7TdpxnWFv9zFDmtefLzBFetzQr3j/OMK/MqvPOM94/rnrd4nvQamsr7+i2vcO0mdnC3a0+\n",
       "+toLF2Z1UTOTHjDbPT79yrxHW9vt3p2mW5g1M7PdwtrSrPrDQBl13W9a/5Rnhvq5bS+/WVy5tqOt\n",
       "7X12a+EdX7d3uExfYW3vWzzOvVtXr7lnWTMzj/AbyP38yLJmZu7bK8u6TVvbbbratq27p1v83rdt\n",
       "YV79TnrRb8V5XvjOceWvigAAAAAAAABciAYzAAAAAAAAAEs0mAEAAAAAAABYosEMAAAAAAAAwBIN\n",
       "ZgAAAAAAAACWaDADAAAAAAAAsESDGQAAAAAAAIAlGswAAAAAAAAALNFgBgAAAAAAAGCJBjMAAAAA\n",
       "AAAASzSYAQAAAAAAAFiiwQwAAAAAAADAEg1mAAAAAAAAAJY8/nQB/53OMGtL034SL+sMx7qV46zv\n",
       "wXWlc7e8nzMz25FF5Xc0DQzn7rZ3WTPpOI96L+qmx3/BT6IuvO+Wyqmb7uGtvLJy/yjXwcykj2/h\n",
       "OM9L/26xnSHl9DjPe5jWPradZ3zdwryrZtV5R1zbcXTr9Dzi6xbmneU46/kRjvMe34Nyc9viB/vb\n",
       "+c6ytv5g7tyv+u7dxp33eO6GE67/1lPOt24dzMzcyv0tzKr3tvRM2Nvn3ePongP3vX2m3MPr9g7H\n",
       "+SvMmpl5hdftdbTfep7hPfi8tWffx61bp2XWT16YFZb2iM/lMu9xtnvbPcy7b+2av4XfU27T1raF\n",
       "Y72F3xm2rZ0fW/jMUH+nLGs7/yHfna/8JRAAAAAAAACAC9FgBgAAAAAAAGCJBjMAAAAAAAAASzSY\n",
       "AQAAAAAAAFiiwQwAAAAAAADAEg1mAAAAAAAAAJZoMAMAAAAAAACwRIMZAAAAAAAAgCUazAAAAAAA\n",
       "AAAs0WAGAAAAAAAAYIkGMwAAAAAAAABLNJgBAAAAAAAAWKLBDAAAAAAAAMCSx58ugH+Y8+yytq3L\n",
       "yoXjjJ1zpHnbGf5OZWtrK53nhefbhUsrl/yR34NrXrgtrivNq/fda96CXnwknOlWGT4KvruomZkJ\n",
       "z5f6VD7DyVufL+VYy3HOtPs1TSCTAAAgAElEQVR4uQzq8yUd51HX1q2r/Lod16ztM74HZzjOiWsr\n",
       "991bOc6ZmfCebmd7YG1HtyNtj3AXv7enX/nad2n14+4W3odb/ERz37Oo7XHNrJmZ26Nb87ePdv+4\n",
       "v7q8RzjOmZlHOD8e9662j1s7Pz7Kce7tN62PW5f3iPePR7i3lVkzM/fwu8U9PPvKrJmZe/gceN/a\n",
       "4u7hQ0OZNTNzC8d6i/+7meaF6yD99j8zWznf6m/Fl+43hbWF1+2f8ooAAAAAAAAAwP8lDWYAAAAA\n",
       "AAAAlmgwAwAAAAAAALBEgxkAAAAAAACAJRrMAAAAAAAAACzRYAYAAAAAAABgiQYzAAAAAAAAAEs0\n",
       "mAEAAAAAAABYosEMAAAAAAAAwBINZgAAAAAAAACWaDADAAAAAAAAsESDGQAAAAAAAIAlGswAAAAA\n",
       "AAAALNFgBgAAAAAAAGDJ408X8P9XZ5y3pYlbmHVh+U248j2oB9s558iytrP9zcsZ3tMtHGd+N687\n",
       "PebYwrVw/kP2tn/KHj7TDvXCl+3Sa77b2uacexc27TDP+DeV6S2IJ8gRjjWvLcwLp+4c8flS5u15\n",
       "beH8OOLajrK2Luvc4/3jwrU9wtoeF75ut/2ZZf3kvbuwj73LerSb+HYL8678V4fygJmZs9wr84fK\n",
       "az5Al6+QP4Hhd4H0u1G7rtI1OjO3W7cYbuF1u23tIi1ru8fzo9wqy3HOzNzDdXqL13yZl96DeM/d\n",
       "ws0y33bDxC1+aNjC96vyHvxHYph03flRKsdZ+6d0h678WA8AAAAAAADAhWgwAwAAAAAAALBEgxkA\n",
       "AAAAAACAJRrMAAAAAAAAACzRYAYAAAAAAABgiQYzAAAAAAAAAEs0mAEAAAAAAABYosEMAAAAAAAA\n",
       "wBINZgAAAAAAAACWaDADAAAAAAAAsESDGQAAAAAAAIAlGswAAAAAAAAALNFgBgAAAAAAAGDJ408X\n",
       "wI8zzNrStJ/Ea4rHeYbj3K58D+raOmdc23YeWdaVp0dZWxs2M7NnSd3d5H+keupe9eiLnWe3IZ3H\n",
       "R5Y1MxOWlp98RzhBjnjfLa/bcba/Rb3qdavvQZm3X7q2eH6EecdxzayfvHuXtXdZdd75bmu7h3ll\n",
       "1szM+XplWbfPLmt7dM/hMzPno3sa327xyXzh1+XzCIvb2/2oXKdnWNsZ77sT5p31c1s4P/La8m8D\n",
       "jet+0fovEH48uubd/OFV/v/Mlcd57drK6tqRXre2f9IqvXJtpe588Q9mAAAAAAAAAJZoMAMAAAAA\n",
       "AACwRIMZAAAAAAAAgCUazAAAAAAAAAAs0WAGAAAAAAAAYIkGMwAAAAAAAABLNJgBAAAAAAAAWKLB\n",
       "DAAAAAAAAMASDWYAAAAAAAAAlmgwAwAAAAAAALBEgxkAAAAAAACAJRrMAAAAAAAAACzRYAYAAAAA\n",
       "AABgiQYzAAAAAAAAAEsef7oAemect6WJW5hVC8d5xuPc3IM/7jy6qAtPj7q2K9/S7o5yBflUCxfW\n",
       "me7hbd55lhtIFzUzk5a2d1kzM+fZ/UazzPrJ6zbyep9Mawuv2x7P3SMc5x4fzGltRzt39+OatfXj\n",
       "DGvb49rCvON9z7JmZh5h3uPVfga5/3pmWbfPjy7r451lzcxsj+4w3e7xCRM/a6XCffeM1/wZrqsj\n",
       "XFfHs12j+zus7dXubcce3oN4fhzheZVmxc/O5bNRmTVTPzvHtV00ayZ+j+yiLj3O2oVLm/PCd/W6\n",
       "afnsjfNK4fe2LOm/KrDhH8wAAAAAAAAALNFgBgAAAAAAAGCJBjMAAAAAAAAASzSYAQAAAAAAAFii\n",
       "wQwAAAAAAADAEg1mAAAAAAAAAJZoMAMAAAAAAACwRIMZAAAAAAAAgCUazAAAAAAAAAAs0WAGAAAA\n",
       "AAAAYIkGMwAAAAAAAABLNJgBAAAAAAAAWKLBDAAAAAAAAMCSx58ugH+aM8zawqxaOc6ZOcOxbnFt\n",
       "F3bZ2XYeZdqlp0dZW72sSu0d/SfpbuqZT5AwL993r1lbfQ/KvPOMazu6R+h6/zjD348e8bPWEd6G\n",
       "PaztONvf3JbXbY+3jz08mMusn7zuPqRZRzs/9uPeZe1d1szM+93tbfur/dTwWdb2fGZZMzOP50eW\n",
       "df98ZVm3j3eWNTNze3R52709/bZbmFd/Zgj3yvNoizvDPeQI1/z+bPeP/fmZZb3DrJmZd3jdyj28\n",
       "znuFc+0dnqM/ed05/47X6Dt9bsui8rwr11a+v9TvpEf4vlxmzcTv8vEb83nhbyBX/bp44c+x/wX3\n",
       "IJSXds2x+gczAAAAAAAAAEs0mAEAAAAAAABYosEMAAAAAAAAwBINZgAAAAAAAACWaDADAAAAAAAA\n",
       "sESDGQAAAAAAAIAlGswAAAAAAAAALNFgBgAAAAAAAGCJBjMAAAAAAAAASzSYAQAAAAAAAFiiwQwA\n",
       "AAAAAADAEg1mAAAAAAAAAJZoMAMAAAAAAACw5PGnC+D6zjBrC7Paymbq6lrhWM94nFt9H67puutg\n",
       "Zs6ji7rw9Khry7eQSHc3uY52spVr4QxrO+PzoKztqO/BGV63eNGXIz3O9reoRzh5j3CgZV113h6f\n",
       "VXtaW3vd9qObb/vR1fYO6/rJu3dZe5c1M/N+d58HyqyfvI8s6+Ozy5qZ+Xg+s6zH5zvLun90WTMz\n",
       "t0eXd7u3h992C/Mu/H57xvvRuXd5x7vbj/Z6/3h2a/793e4fz+evMOszy5qZeb66sT7DPfwZzrWZ\n",
       "mWd4lr7CM/4nr1ujr/i5/p0+a8XPlOE2ftWsmZkjfCet35eP8MvWkX9nCL+hxl/w0u8z6YeGeJzh\n",
       "3M2ltf0zxukfzAAAAAAAAAAs0WAGAAAAAAAAYIkGMwAAAAAAAABLNJgBAAAAAAAAWKLBDAAAAAAA\n",
       "AMASDWYAAAAAAAAAlmgwAwAAAAAAALBEgxkAAAAAAACAJRrMAAAAAAAAACzRYAYAAAAAAABgiQYz\n",
       "AAAAAAAAAEs0mAEAAAAAAABYosEMAAAAAAAAwBINZgAAAAAAAACWPP50AfyznGHWFmb9s5R3Yaa9\n",
       "E3Vt13TlOzDnUabNGRa3xReurO3KUze+o2laq66tzGtrSysLF9ZZj/PKtYV559nWdhwfXdZ5z7J+\n",
       "8rrftqZZWdJ/5IW3dA/HOTNzhIffnh6kbd47zWrvwfvo1tVrb9domffa208Nr3eX9/ns9smZmc/P\n",
       "zyzr8fHqsh7vLGtm5h7m3e7tzrvdurztdt3n3TPed889PEvDrD1c7zMz71eX93q1+8fz2e0f32HW\n",
       "zMzXK6wtvG7fe3sPvsPz6vtonxme4bp67u3+8Ty6vFe87b7DvDarHWiZt8e17Vt3Lu+zZ1kzM0eY\n",
       "d8RvksfZ1XaGtfXfU8rrVn/1vO63wKt+k/UPZgAAAAAAAACWaDADAAAAAAAAsESDGQAAAAAAAIAl\n",
       "GswAAAAAAAAALNFgBgAAAAAAAGCJBjMAAAAAAAAASzSYAQAAAAAAAFiiwQwAAAAAAADAEg1mAAAA\n",
       "AAAAAJZoMAMAAAAAAACwRIMZAAAAAAAAgCUazAAAAAAAAAAs0WAGAAAAAAAAYMnjTxcA/6fOOG9L\n",
       "E7cw6+LO8Lpt9XWrZ8k1XXrmnkcXFRe3hRcurS2ftl1gdzd/lNvHWd7QmfQnePUtPdPEcg/vR5ol\n",
       "xbWd4Woos2ZmjnBhHedHljUzc8w9zOoc8el3hIfCHi+rPaztfba/VS7H+j7Kcbbz43V0163M+snr\n",
       "1uhzbz81/Hp3eb9eryxrZubz9c6yPh5dbR+Prq6Zmft9v2TWzMzt1m0g2xY/8YZbyBnvR2e4Vx7h\n",
       "/vF+d1kzM++9y3u92mej57vL+45r+wrzfofj/B2eBzMzX2HeVzjXZma+wnP+Ga73Ou/ZHgnzDLfx\n",
       "19GdL+/yA8jMvMM3ove0N6HM26d9ntnD2o64tvLbwFF+swi/7f5HYpcUr6v2C179HeqatfkHMwAA\n",
       "AAAAAABLNJgBAAAAAAAAWKLBDAAAAAAAAMASDWYAAAAAAAAAlmgwAwAAAAAAALBEgxkAAAAAAACA\n",
       "JRrMAAAAAAAAACzRYAYAAAAAAABgiQYzAAAAAAAAAEs0mAEAAAAAAABYosEMAAAAAAAAwBINZgAA\n",
       "AAAAAACWaDADAAAAAAAAsOTxpwuAqzjDrC1N+0n8Rzjj67aV162+p9d06Zl7HmXanGFxW3jhyrp+\n",
       "Ai88d8MLd9TDDKfbWU6QmZnbNe/pGe8g59bdhH9SbUeYd8T7x3l8ZFnlmj/O9je3Zd4eHwrldatr\n",
       "2497lvU+utre8ThfRzc/yqyZmefe3YPvMGtm5q939+ni16Pbi2ZmPl/vLuvRZX3cu6yZmft977Ju\n",
       "7XN9mbfVz20Xdob72x7uR3u8f7zDvNfefkZ9hnvbd1zbV1jb17vbd3+Hdc3M/B3Oj9/vdu5+7d26\n",
       "KrNmZr7DbfzZHgnz7I6reYUPz6/4m9Y7zHtv4UWbmX3rnkHKrJmZfbq8Y9rrVuadZ5hVfiCbmTOc\n",
       "u/X3lPLL+D+lNv9gBgAAAAAAAGCJBjMAAAAAAAAASzSYAQAAAAAAAFiiwQwAAAAAAADAEg1mAAAA\n",
       "AAAAAJZoMAMAAAAAAACwRIMZAAAAAAAAgCUazAAAAAAAAAAs0WAGAAAAAAAAYIkGMwAAAAAAAABL\n",
       "NJgBAAAAAAAAWKLBDAAAAAAAAMASDWYAAAAAAAAAlmgwAwAAAAAAALDk8acLgP+JzjhvSxO3MOvi\n",
       "zvC6beV1q2fIdV165p5HFxUWt8XTo6ztHzR150gHG1+4o9zbuqzzVk+QsLZ4YZ1T7h9tbccW1lae\n",
       "o3HeUWYd7StRdwdm9rP9PfAeHgrveMnvYd47vG6v9CCdeR1d3vNo58d3mFdmzcx83+9Z1q93u+Y/\n",
       "7/slsz7CrJmZx63Lu9/KnXLmHp59W3wup6+RsSPc38qsPd4/3nu3f7yOLmtm5hnW9tzbve0rrC3N\n",
       "erf34HdY2997O3d/7926+mqPhDTvO67tGb4vP4/ufHmG36BmZl7TXbjXvLOsmZl3mLfHtR1h3nHG\n",
       "tYV559nNjyPMmmm/p5TfdmdmzjIv/p5yVf7BDAAAAAAAAMASDWYAAAAAAAAAlmgwAwAAAAAAALBE\n",
       "gxkAAAAAAACAJRrMAAAAAAAAACzRYAYAAAAAAABgiQYzAAAAAAAAAEs0mAEAAAAAAABYosEMAAAA\n",
       "AAAAwBINZgAAAAAAAACWaDADAAAAAAAAsESDGQAAAAAAAIAlGswAAAAAAAAALHn86QKA/29nmLWl\n",
       "aT+J/whneN22+prV9/SaLj1zz6OLiqfHFl64S8+0Cy+rbnZc23nEMyScvOetvgthbeUinZkznHF1\n",
       "bUdYW5pVnvEzc4RrYT/vWdbMzHF2vy/e4wNrP7q8d7jk32FdP3ndPX0e7d72DMf63Nvfsn/fu+v2\n",
       "Kz4TPu97lvUR1vZx6+qamXmEtZVZMzO38Lwqs2au/bZcHn9HeCbs4Vk1M/M+urxXmPWT1+1t33v7\n",
       "zPAMx/oVnglf8Ti/9m7u/o7Pvq9wG//dHglpbd/xe+R3+Hz0DL/1PM/2Jjy3d5b12l5Z1k/eM8t6\n",
       "T5c1M7NPN9Z9unswM3OEc+SYLusM10GdV37/+N+J18yq88Jn5ywJAAAAAAAAgP/RNJgBAAAAAAAA\n",
       "WKLBDAAAAAAAAMASDWYAAAAAAAAAlmgwAwAAAAAAALBEgxkAAAAAAACAJRrMAAAAAAAAACzRYAYA\n",
       "AAAAAABgiQYzAAAAAAAAAEs0mAEAAAAAAABYosEMAAAAAAAAwBINZgAAAAAAAACWaDADAAAAAAAA\n",
       "sESDGQAAAAAAAIAljz9dAPDf64zztjRxC7Mu7IzvwlZet3qGXNdlZ+55lGlzhsW1633mrNdC6Ny6\n",
       "2rZ8nF3eedGs2nnEczecH+fUa77LO/4htR3x3D3CfXw/29e1I8zbz/a3yvuty3uHh98r3tpe4bJ6\n",
       "Hu09eIZ75fetfa7/FY7189be1M/93mXdugnyCLNmZh7h2VfXdgtru8VnQvqqFisfUY/wjeg42ov2\n",
       "Ds+rd7zvvsLz6rnXZ0KX9x1mfe3t/PgO877arW2+9mtm/eR1G8jX3l6476PL+z67C/fcXlnWT94z\n",
       "y3qFWTMz7+ny9mmv2352ecf5zrJmZs4w7wzn7jntBtJ+A4m/WVz5G9lFv6H6BzMAAAAAAAAASzSY\n",
       "AQAAAAAAAFiiwQwAAAAAAADAEg1mAAAAAAAAAJZoMAMAAAAAAACwRIMZAAAAAAAAgCUazADw/7Zv\n",
       "d7kNI0kWRoOSXLP/3ZYtiTkPrgbmqZCN+Rpmtc9ZwEXkD8kkQwIAAAAAALZoMAMAAAAAAACwRYMZ\n",
       "AAAAAAAAgC0azAAAAAAAAABs0WAGAAAAAAAAYIsGMwAAAAAAAABbNJgBAAAAAAAA2PL46QKAf7YV\n",
       "Zh1p2nfir7DCeTvqOavX9JpWOs72t1/HOrOsle+PULzVyvtRfRV0K1rfJeuRlmtw5VVoayvHuo5y\n",
       "nDMrnLczrK2sa2bmnHeW9Z4/sqyZmTM8M7zOe5Y1M/NaXd5rdc/S19neKV/3Lu+r3brzFY7189bO\n",
       "2/+c3d79I/6Z/cetC/w4unF+3NoN8ghru9/aZ1+5pLdwnDPXfiMtR1pmvVc7a2Ve/kwIa/s625tb\n",
       "+Uz46o5GaV0zM59hbZ/xc/nPsrZ3e2/78+wG+xlmzcz8uV5Z1ufxzLK+5ivLmpl5hnmvuLYy77Xa\n",
       "2t6rW9Mz3Gsz7XvkubqsFX5XrPNW+U18ZiYd63W/kZVZ/sEMAAAAAAAAwBYNZgAAAAAAAAC2aDAD\n",
       "AAAAAAAAsEWDGQAAAAAAAIAtGswAAAAAAAAAbNFgBgAAAAAAAGCLBjMAAAAAAAAAWzSYAQAAAAAA\n",
       "ANiiwQwAAAAAAADAFg1mAAAAAAAAALZoMAMAAAAAAACwRYMZAAAAAAAAgC0azAAAAAAAAABsefx0\n",
       "AQD/suK8I008wqwLW/0qdFF1baVyf5xh1swKaztW/Lu0oxtrvjuufPtIr9Mu6+xXIbPy2rq8urYy\n",
       "b9X3o/A+XtZ2Hu8sq857r3YN3uG8vddHlvWd1+2P17qHWe2z77m6h8Ift7a2r3C7/REfGT7Pct6y\n",
       "qJmZ+Ti62h637jp4xPvjEd7D7/G5/haetep/YRyXfofpnOG97Yyn7B3W9o5re4W1PcP75Hdel1U+\n",
       "X8qsmZmv8Bj4Wdd2doGf8YX1eXYT97nas/jn8eyy5qvLOrqsmZmv4zPLek6XNTPzCuftPd16zsyc\n",
       "q8s71yvLqvPK9+U17TVafvesv1m0HwOv+62n5B/MAAAAAAAAAGzRYAYAAAAAAABgiwYzAAAAAAAA\n",
       "AFs0mAEAAAAAAADYosEMAAAAAAAAwBYNZgAAAAAAAAC2aDADAAAAAAAAsEWDGQAAAAAAAIAtGswA\n",
       "AAAAAAAAbNFgBgAAAAAAAGCLBjMAAAAAAAAAWzSYAQAAAAAAANiiwQwAAAAAAADAFg1mAAAAAAAA\n",
       "ALY8froAgP+UFWYdcdrvEc7biuftKNf0d1hzpnnHCn/ndrS1pVf8avdaeilc+DI4w+LqNSjvHyu+\n",
       "F5V5q76ubl1tZ3g/OvP7R5f3jms7551lvcOsmZnXfHRZK8w671nWzMwzfPY9z/b+8bx1tX3FP2X/\n",
       "OLuH30ddW/hcfty6sEd8dL6Htd3j2m7hmSEc5sxc+82vvIOUWWf83lfeKt/xkfIV5r3aI8M8w7xn\n",
       "OM6yrpmZr3CDlFnfed1gv1Z7bvsM876OZ5Y1M/M5X1nW1/GZZT3DrJmZ5/yZZb2mre29ujV4r3Z/\n",
       "vNcryzrDrO+87roqs9aK35fLvLq29Dt2/cHtmic3/2AGAAAAAAAAYIsGMwAAAAAAAABbNJgBAAAA\n",
       "AAAA2KLBDAAAAAAAAMAWDWYAAAAAAAAAtmgwAwAAAAAAALBFgxkAAAAAAACALRrMAAAAAAAAAGzR\n",
       "YAYAAAAAAABgiwYzAAAAAAAAAFs0mAEAAAAAAADYosEMAAAAAAAAwBYNZgAAAAAAAAC2PH66AIB/\n",
       "ghVmHWnad+LvEM/bCuftaHdIq95vnTVnlnWU6zmTLsOK17TcbisNq/faPc7rnL/kuqrvH+vsaltH\n",
       "mDXvLGtmZh1d3hnXdh6vLOsdjnNm5r26vHc4b6/1kWV953X3tufR3ie/Vvf784+z/S37x9E9Sz9u\n",
       "7XP5EeY9wtLu8dGozKtru4X7I4z6zmvjLqs8MdRHyneYd8a1vcK8cpwzM8/wSPkKJ+4Zb5BneD79\n",
       "WuU5fOYZ5n1Ndwacmfk6npfM+s77zLKec82smZlXmPdabW3v9ZVlnavdH+fqroUya2Zmhe9DbVZ7\n",
       "b7vyN4u5dG3X5B/MAAAAAAAAAGzRYAYAAAAAAABgiwYzAAAAAAAAAFs0mAEAAAAAAADYosEMAAAA\n",
       "AAAAwBYNZgAAAAAAAAC2aDADAAAAAAAAsEWDGQAAAAAAAIAtGswAAAAAAAAAbNFgBgAAAAAAAGCL\n",
       "BjMAAAAAAAAAWzSYAQAAAAAAANiiwQwAAAAAAADAFg1mAAAAAAAAALY8froAgN9mxXlHmniEWVcX\n",
       "ztsK5+3od0inrq2Tz9o6y7Qw67rbrazrOzDMiq+rtcq8trZjyr0bz1tY2wprK+uq8864tvN4d1nT\n",
       "Zc3MvI9XlzV/ZFnPsK6Zmef6yLI+Vvs6/7HuXdbRZc3MfIS/jX+c7QPrcXR591uYFdb1nRdmxWej\n",
       "cqjhEszM73m7Kk8MZ3ywL/PO9Aw48w7j3nFtrzCvzHqm72kzrzDvGZ+NvsIzyHPi88zxdcmsmZnn\n",
       "hLXNZ5b1CrNmZt6rG2eZ9Z337LLOLmtm5lzdtVBmzcysVd5Dyntle9+d8L5bv8tP+Lwqv1n8K7GL\n",
       "6rL8gxkAAAAAAACALRrMAAAAAAAAAGzRYAYAAAAAAABgiwYzAAAAAAAAAFs0mAEAAAAAAADYosEM\n",
       "AAAAAAAAwBYNZgAAAAAAAAC2aDADAAAAAAAAsEWDGQAAAAAAAIAtGswAAAAAAAAAbNFgBgAAAAAA\n",
       "AGCLBjMAAAAAAAAAWzSYAQAAAAAAANjy+OkCAPj/WWHWkabVjp8u4G+E87bicR5XXtPraq+r2Dq7\n",
       "qLC4Y7V7baWrcN3r4Ixra+/j8ZqGe2SF97Z1dNfUd947yzrDrJmZc15Z1vvosmZm3mltzyzrMX9k\n",
       "WTMzr/noso4ua2bmubq8x7pnWTMzj+nyHqv9nf3j6PLuZ5h1tCeQMq/+p8MtrK0+t135DaZ03dPH\n",
       "zBmeP9oTw8w7rK3Mmpl5h6N9he8vr3gVXuFZ6xmeZWZmnuF55jVd1szM8/jKsl7TZdV573Xdcb5X\n",
       "t6bn2e6PtLbVXldl3lrtu9qaLq+srR9neR+vTw1XPtFc87uWfzADAAAAAAAAsEWDGQAAAAAAAIAt\n",
       "GswAAAAAAAAAbNFgBgAAAAAAAGCLBjMAAAAAAAAAWzSYAQAAAAAAANiiwQwAAAAAAADAFg1mAAAA\n",
       "AAAAALZoMAMAAAAAAACwRYMZAAAAAAAAgC0azAAAAAAAAABs0WAGAAAAAAAAYIsGMwAAAAAAAABb\n",
       "Hj9dAADXseK8I027dnWdeJwrHGc+ZfWaXtOVR3msM8tax1Wvqbn27WPVxXV5Z1zbcXR5a8K9G2bV\n",
       "ebe8tneWdYZZ33mvLOt9fGRZr3lmWTMzj+OPLOs13ThnZu7h54FHuAYzM4/V1Xafe5Y1M/NY3e/2\n",
       "y9pu5RlwZu7h/xNu8ZmhTLtd9h2hP4pf9Yxa13Ve+Gx0hs/5dzxz77K2ozszvOLzx+vozh/1meF1\n",
       "dHl1be/5yrLy2lZX23t1tZ1h1szMe3V7t67tTGtrr/kV1la+W83MrHCs7Ttu/2TOxM/llY71qiet\n",
       "ln8wAwAAAAAAALBFgxkAAAAAAACALRrMAAAAAAAAAGzRYAYAAAAAAABgiwYzAAAAAAAAAFs0mAEA\n",
       "AAAAAADYosEMAAAAAAAAwBYNZgAAAAAAAAC2aDADAAAAAAAAsEWDGQAAAAAAAIAtGswAAAAAAAAA\n",
       "bNFgBgAAAAAAAGCLBjMAAAAAAAAAWzSYAQAAAAAAANjy+OkCAPjvtcKsI8z6du3qOuE4yymbmTnK\n",
       "eauLK+UTlyWtMOtY8XUQxq14DY7V5a0j3h8Xrq2ctyNd03aca51d1vHOsuq8W1zbeby6rOmy3vPM\n",
       "smZm3keX95qPLGtm5n50nwfuV65t3bOsmbq27j8At2nHeQv/n3CLz8638Axy5Of6srZW/PS7YNJf\n",
       "eeF55jy6Z/zMzDld3jvMmpk5w+f8e8Ks8LwwM/NKzwxtbeUZJD/PrOvWdq7wTFmOM6xrph5nW9ta\n",
       "3TVfZs3MrPB+1NcW3sfLd9L4+ZJ+s6hru/K3xYuW5h/MAAAAAAAAAGzRYAYAAAAAAABgiwYzAAAA\n",
       "AAAAAFs0mAEAAAAAAADYosEMAAAAAAAAwBYNZgAAAAAAAAC2aDADAAAAAAAAsEWDGQAAAAAAAIAt\n",
       "GswAAAAAAAAAbNFgBgAAAAAAAGCLBjMAAAAAAAAAWzSYAQAAAAAAANiiwQwAAAAAAADAlsdPFwAA\n",
       "O9ZPF/A3jrS6I8y6uHXheTsuXNtFr4a6qmOdZVqYNbPKuPQ6mGlX4sq1dfvjTPfazHF0eSscZ513\n",
       "rneWNTNzO7q883hlWbejfWV+zzPLusev8+VYb3Ft5VjrNb3NPcu6H11WWdfMzG11/0844v86HEf3\n",
       "YD7iM0Odd13dM37F548y74yfy2d4Zshrm/C5HGa9p3vGz8ycYV5e2+ryynHOzLxXd54px1nnlefd\n",
       "epyrvEbjc/0K88pxfgeG72rxe2T5jpu+R8bjbJ/zV/5m8Ttq8w9mAAAAAAAAALZoMAMAAAAAAACw\n",
       "RYMZAAAAAAAAgC0azAAAAAAAAABs0WAGAAAAAAAAYIsGMwAAAAAAAABbNJgBAAAAAAAA2KLBDAAA\n",
       "AAAAAMAWDWYAAAAAAAAAtmgwAwAAAAAAALBFgxkAAAAAAACALRrMAAAAAAAAAGzRYAYAAAAAAABg\n",
       "iwYzAAAAAAAAAFseP1v7PYsAAAXISURBVF0AAPzTrTDrSNNqx08X8DfieVvhWI8rr+l1rfjKKqVL\n",
       "erS1lfN2rHbvtmvaZbV1zRxzhlnvLGtmZq17lnUcXdbMzArHeobjvB2vLGumnbd3vAa31X0euNW1\n",
       "Tbmm7WeQo6wt/A9AOWczM8fR1XbE/3U4wud8mfWfyLuq+sTQppVnhu4ZPzNzhnl9beFzOX3Gx2ej\n",
       "6Z7zdW3nlWsL887VnrXaM2WXteq9W9YW3z+uXNus6953p8wL3+X7cV7zu0Ce90s+BfoHMwAAAAAA\n",
       "AABbNJgBAAAAAAAA2KLBDAAAAAAAAMAWDWYAAAAAAAAAtmgwAwAAAAAAALBFgxkAAAAAAACALRrM\n",
       "AAAAAAAAAGzRYAYAAAAAAABgiwYzAAAAAAAAAFs0mAEAAAAAAADYosEMAAAAAAAAwBYNZgAAAAAA\n",
       "AAC2aDADAAAAAAAAsOWYeayfLgIAuL7jH5D4O4Tzli7Bldezrq3Ma2s70v1Rz1v329Z2nO1vbo/0\n",
       "N7xxbeFY23HGtR33LisfZ1fbLcyaacfa1xauaXzN3y5aW753y3t4ft/tngnp8+WvRP49a+rPlF3e\n",
       "WmeWNdOOdU1b2znvLKuctxXWNTNzrnCc9RqUtYVZM9eet3Ks5X7L7x9pXn1vC/Py+26ZFz+v0ntl\n",
       "Wdt1n8t9baF13drK/eEfzAAAAAAAAABs0WAGAAAAAAAAYIsGMwAAAAAAAABbNJgBAAAAAAAA2KLB\n",
       "DAAAAAAAAMAWDWYAAAAAAAAAtmgwAwAAAAAAALBFgxkAAAAAAACALRrMAAAAAAAAAGzRYAYAAAAA\n",
       "AABgiwYzAAAAAAAAAFs0mAEAAAAAAADYosEMAAAAAAAAwJZj5rF+uggAgP+P4x+Q+N8vnrM07srr\n",
       "WddW5rW1HWXeceVxlr/hra+rrrZ2nDNHuqbhOMM5m5k55t5l5bVded7U9m9n1ddoeg+/cG35M4F/\n",
       "15rrfqZcc7Z5qxxrXFu4Dmt1tdVrcK53llWOc6Yd65Vrm3ANZq48b7/p/lHmxc+EcN7q+1E+1kxd\n",
       "V5iXT9lV12CmrK0cpX8wAwAAAAAAALBFgxkAAAAAAACALRrMAAAAAAAAAGzRYAYAAAAAAABgiwYz\n",
       "AAAAAAAAAFs0mAEAAAAAAADYosEMAAAAAAAAwBYNZgAAAAAAAAC2aDADAAAAAAAAsEWDGQAAAAAA\n",
       "AIAtGswAAAAAAAAAbNFgBgAAAAAAAGCLBjMAAAAAAAAAWzSYAQAAAAAAANhyzDzWTxcBAPDf6vjp\n",
       "Av7Wtau7rOPK8/ZbauuyjnzOwrx8r5XzVv9WuZy3rrZ+f4S15fujrK3dH+06xLVddb/F+6O85vvr\n",
       "qhTP26XPDKXu0+LKv1KGtYVZ/0rMkvKJK+ft7LLycYa1hVkz9Vjr2sq8dk3TdQjHeeX7RznOvwLD\n",
       "pAvPW15bqdwfXdR/KPCi6nvbNfkHMwAAAAAAAABbNJgBAAAAAAAA2KLBDAAAAAAAAMAWDWYAAAAA\n",
       "AAAAtmgwAwAAAAAAALBFgxkAAAAAAACALRrMAAAAAAAAAGzRYAYAAAAAAABgiwYzAAAAAAAAAFs0\n",
       "mAEAAAAAAADYosEMAAAAAAAAwBYNZgAAAAAAAAC2aDADAAAAAAAAsOWYeayfLgIAAP6v46cL+FvX\n",
       "ru6yjqvO21XrmulrK/Pa2o4yL91r112DdM7+Suyi2t+yt2ON9+5l99uFr9F67172+TLTXvPX1X5Y\n",
       "vPBnylXX1uX1s1YmnlnSuvQaxLWlY+3WYKYe63XXtFyDfH/8ljXIlfuji/oPBf4Cv+YEcln+wQwA\n",
       "AAAAAADAFg1mAAAAAAAAALZoMAMAAAAAAACwRYMZAAAAAAAAgC0azAAAAAAAAABs0WAGAAAAAAAA\n",
       "YIsGMwAAAAAAAABbNJgBAAAAAAAA2KLBDAAAAAAAAMAWDWYAAAAAAAAAtmgwAwAAAAAAALBFgxkA\n",
       "AAAAAACALRrMAAAAAAAAAGz5X8lCQhcuVdseAAAAAElFTkSuQmCC\n",
       "\" transform=\"translate(169, 47)\"/>\n",
       "</g>\n",
       "<defs>\n",
       "  <clipPath id=\"clip573\">\n",
       "    <rect x=\"2160\" y=\"47\" width=\"73\" height=\"1440\"/>\n",
       "  </clipPath>\n",
       "</defs>\n",
       "<g clip-path=\"url(#clip573)\">\n",
       "<image width=\"72\" height=\"1439\" xlink:href=\"data:image/png;base64,\n",
       "iVBORw0KGgoAAAANSUhEUgAAAEgAAAWfCAYAAAAI7rB3AAAMWUlEQVR4nO3dwY0rRxAFwaZQ/lsh\n",
       "L6XfLQtUeSQPERYsEg8c9MyQ+/n3/v0O/+uvb/8Bv06gIFAQKAgU5r5/v/03/DQLCgIFgYJAQaAw\n",
       "7/359t/w0ywoCBQECgIFR41gQUGgIFAQKAgU5rmKrSwoCBQECgIFgcK86yq2saAgUBAoCBQcNYIF\n",
       "BYGCQEGgIFBwFQsWFAQKAgWBgvtBwYKCQEGgIFAQKMxx1FhZUBAoCBQECgIFN8yCBQWBgkBBoDDH\n",
       "DbOVBQWBgkBBoCBQmHP/+fbf8NMsKAgUBAoCBYGCxz7BgoJAQaAgUHDDLFhQECgIFAQKAgVXsWBB\n",
       "QaAgUBAouB8ULCgIFAQKAgWBwnwcNVYWFAQKAgWBgkBhzvWfWTYWFAQKAgWBgqNGsKAgUBAoCBQE\n",
       "Co4awYKCQEGgIFAQKHjDLFhQECgIFAQK83HUWFlQECgIFAQKAgXvSQcLCgIFgYJAwVEjWFAQKAgU\n",
       "BAoCBc/mgwUFgYJAQaAgUHAWCxYUBAoCBYGCo0awoCBQECgIFAQKjhrBgoJAQaAgUBAozLn323/D\n",
       "T7OgIFAQKAgUHDWCBQWBgkBBoCBQ8NgnWFAQKAgUBAo+pIMFBYGCQEGgIFCYj6caKwsKAgWBgkBB\n",
       "oOAsFiwoCBQECgIFL1AFCwoCBYGCQEGg4IZZsKAgUBAoCBTcDwoWFAQKAgWBgkDBDbNgQUGgIFAQ\n",
       "KAgUXMWCBQWBgkBBoOB788GCgkBBoCBQECg4agQLCgIFgYJAQaDgKhYsKAgUBAoCBR/SwYKCQEGg\n",
       "IFAQKLiKBQsKAgWBgkBhzvMhvbGgIFAQKAgUBAqOGsGCgkBBoCBQECi4igULCgIFgYJAwYd0sKAg\n",
       "UBAoCBQECnPu+/bf8NMsKAgUBAoCBYGCs1iwoCBQECgIFBw1ggUFgYJAQaAgUHDUCBYUBAoCBYGC\n",
       "o0awoCBQECgIFAQKc5w0VhYUBAoCBYGCQGHOcxbbWFAQKAgUBAqOGsGCgkBBoCBQECi4igULCgIF\n",
       "gYJAQaAwfohzZ0FBoCBQECg4agQLCgIFgYJAQaDgKhYsKAgUBAoChTn38+2/4adZUBAoCBQECgKF\n",
       "ec9VbGNBQaAgUBAoCBTcMAsWFAQKAgWBghtmwYKCQEGgIFAQKMy7Gm3UCQIFgYJAwVEjWFAQKAgU\n",
       "BAoChTmeza8sKAgUBAoCBYHCPGexlQUFgYJAQaAwx1ONlTpBoCBQECgIFBw1ggUFgYJAQaAgUPDY\n",
       "J1hQECgIFAQKXgMO6gSBgkBBoCBQ8J50sKAgUBAoCBQ81QgWFAQKAgWBgkBh3tNoo04QKAgUBAoC\n",
       "BTfMggUFgYJAQaDghlmwoCBQECgIFAQKc9wwW6kTBAoCBYGCQMFZLFhQECgIFAQKPqSDBQWBgkBB\n",
       "oCBQ8L35YEFBoCBQECj43nxQJwgUBAoCBYHCPEeNlQUFgYJAQaAgUPDYJ1hQECgIFAQK/jNLUCcI\n",
       "FAQKAgWBghtmwYKCQEGgIFAQKLhhFiwoCBQECgIFR41gQUGgIFAQKAgUvCcd1AkCBYGCQMFRI1hQ\n",
       "ECgIFAQKAgVPNYIFBYGCQEGgIFBwFgsWFAQKAgWBgn+fFSwoCBQECgIFgYJ/ZRzUCQIFgYJAQaDg\n",
       "hlmwoCBQECgIFDybDxYUBAoCBYGCQMFRI1hQECgIFAQKc31IrywoCBQECgIFgYLvzQd1gkBBoCBQ\n",
       "ECi4YRYsKAgUBAoCBR/SwYKCQEGgIFAQKHjDLFhQECgIFAQKjhrBgoJAQaAgUBAouIoFCwoCBYGC\n",
       "QEGg4NdfgjpBoCBQECjM9VRjZUFBoCBQECgIFNwwCxYUBAoCBYGCQMFVLFhQECgIFAQKPqSDBQWB\n",
       "gkBBoCBQ8BtmwYKCQEGgIFBw1AgWFAQKAgWBgkDBVSxYUBAoCBQECgIFX2YJ6gSBgkBBoODLLMGC\n",
       "gkBBoCBQECi4YRYsKAgUBAoCBYGCq1iwoCBQECgIFLwGHCwoCBQECgIFgYKjRrCgIFAQKAgU5h0f\n",
       "0hsLCgIFgYJAQaDghlmwoCBQECgIFAQKbpgFCwoCBYGCQMFRI1hQECgIFAQKAgVHjWBBQaAgUBAo\n",
       "CBScxYIFBYGCQEGg4KgRLCgIFAQKAgWBgqtYsKAgUBAoCBTm+jLLyoKCQEGgIFAQKDhqBAsKAgWB\n",
       "gkBBoODZfLCgIFAQKAgU5r1v/wm/zYKCQEGgIFAQKDhqBAsKAgWBgkDBD00GCwoCBYGCQEGg4KgR\n",
       "LCgIFAQKAgWBgjfMggUFgYJAQaDgyyzBgoJAQaAgUBAoeMMsWFAQKAgUBAoCBY99ggUFgYJAQaDg\n",
       "qUawoCBQECgIFAQKHvsECwoCBYGCQMH9oGBBQaAgUBAoCBQ8mw8WFAQKAgWBgkDBDbNgQUGgIFAQ\n",
       "KHg2HywoCBQECgIFgcLcb/8FP86CgkBBoCBQECg4iwULCgIFgYJAwRtmwYKCQEGgIFAQKLhhFiwo\n",
       "CBQECgIF94OCBQWBgkBBoCBQcNQIFhQECgIFgYJAwVksWFAQKAgUBAqezQcLCgIFgYJAQaAwfvxl\n",
       "Z0FBoCBQECgIFJzFggUFgYJAQaDg2XywoCBQECgIFAQKns0HCwoCBYGCQMFRI1hQECgIFAQKAgVH\n",
       "jWBBQaAgUBAoCBTmesVsZUFBoCBQECi4YRYsKAgUBAoCBYGCG2bBgoJAQaAgUHDUCBYUBAoCBYGC\n",
       "QGGepxorCwoCBYGCQEGgMPe4YbaxoCBQECgIFLxAFSwoCBQECgIFgYIfmgwWFAQKAgWBgkDBD00G\n",
       "CwoCBYGCQMGz+WBBQaAgUBAoCBS8Jx0sKAgUBAoCBd84DBYUBAoCBYGCQMFRI1hQECgIFAQKAgXv\n",
       "SQcLCgIFgYJAwWvAwYKCQEGgIFAQKDhqBAsKAgWBgkBBoOA96WBBQaAgUBAo+ImuYEFBoCBQECgI\n",
       "FNwwCxYUBAoCBYGCZ/PBgoJAQaAgUBAoOGoECwoCBYGCQEGg4CwWLCgIFAQKAgVHjWBBQaAgUBAo\n",
       "CBRcxYIFBYGCQEGgIFBwwyxYUBAoCBQECo4awYKCQEGgIFAQKDhqBAsKAgWBgkDBUSNYUBAoCBQE\n",
       "CgIFP9EVLCgIFAQKAgWBgv8vFiwoCBQECgIFN8yCBQWBgkBBoCBQmHdcxjYWFAQKAgWBgkDBWSxY\n",
       "UBAoCBQECp7NBwsKAgWBgkBBoODZfLCgIFAQKAgU3A8KFhQECgIFgYJAwbP5YEFBoCBQECgIFJzF\n",
       "ggUFgYJAQaDgJ7qCBQWBgkBBoCBQmOsVs5UFBYGCQEGg4AWqYEFBoCBQECgIFOY5aqwsKAgUBAoC\n",
       "BYGCs1iwoCBQECgIFDzVCBYUBAoCBYGCQMEbZsGCgkBBoCBQECjM9ZXMlQUFgYJAQaDghlmwoCBQ\n",
       "ECgIFAQKfv0lWFAQKAgUBApeoAoWFAQKAgWBgkDBU41gQUGgIFAQKAgU3DALFhQECgIFgcLc45bZ\n",
       "xoKCQEGgIFAQKLhhFiwoCBQECgIFgYKrWLCgIFAQKAgUPNUIFhQECgIFgYJAwWOfYEFBoCBQECjM\n",
       "/ThqbCwoCBQECgIFgYKjRrCgIFAQKAgUBArzXMVWFhQECgIFgYKjRrCgIFAQKAgUBApzP65iGwsK\n",
       "AgWBgkBBoOAsFiwoCBQECgIFTzWCBQWBgkBBoCBQcNQIFhQECgIFgYIP6WBBQaAgUBAoCBQ8mw8W\n",
       "FAQKAgWBgkBh3vnz7b/hp1lQECgIFAQKbpgFCwoCBYGCQEGg4A2zYEFBoCBQECjMfe4HbSwoCBQE\n",
       "CgIFgYKjRrCgIFAQKAgUBApzPZtfWVAQKAgUBAqOGsGCgkBBoCBQECg4agQLCgIFgYJAQaAw7zmL\n",
       "bSwoCBQECgIFN8yCBQWBgkBBoCBQ8J50sKAgUBAoCBQcNYIFBYGCQEGgIFCY56ixsqAgUBAoCBQE\n",
       "Cs5iwYKCQEGgIFCY6wWqlQUFgYJAQaAgUPCb9sGCgkBBoCBQECj4MkuwoCBQECgIFDzVCBYUBAoC\n",
       "BYGCQMFRI1hQECgIFAQKPqSDBQWBgkBBoCBQ8Gw+WFAQKAgUBAoCBWexYEFBoCBQECjM8Wx+ZUFB\n",
       "oCBQECgIFBw1ggUFgYJAQaAgUPCedLCgIFAQKAgU5jhqrCwoCBQECgIFgYI3zIIFBYGCQEGg4Nl8\n",
       "sKAgUBAoCBQECm6YBQsKAgWBgkBBoDDvvG//DT/NgoJAQaAgUHDDLFhQECgIFAQKAoU5jhorCwoC\n",
       "BYGCQOE/LrLuTX/wFc8AAAAASUVORK5CYII=\n",
       "\" transform=\"translate(2161, 47)\"/>\n",
       "</g>\n",
       "<path clip-path=\"url(#clip570)\" d=\"M2280.7 1468.62 Q2277.09 1468.62 2275.26 1472.18 Q2273.45 1475.72 2273.45 1482.85 Q2273.45 1489.96 2275.26 1493.53 Q2277.09 1497.07 2280.7 1497.07 Q2284.33 1497.07 2286.14 1493.53 Q2287.97 1489.96 2287.97 1482.85 Q2287.97 1475.72 2286.14 1472.18 Q2284.33 1468.62 2280.7 1468.62 M2280.7 1464.91 Q2286.51 1464.91 2289.57 1469.52 Q2292.64 1474.1 2292.64 1482.85 Q2292.64 1491.58 2289.57 1496.19 Q2286.51 1500.77 2280.7 1500.77 Q2274.89 1500.77 2271.81 1496.19 Q2268.76 1491.58 2268.76 1482.85 Q2268.76 1474.1 2271.81 1469.52 Q2274.89 1464.91 2280.7 1464.91 Z\" fill=\"#000000\" fill-rule=\"evenodd\" fill-opacity=\"1\" /><path clip-path=\"url(#clip570)\" d=\"M2274.38 1272.59 L2290.7 1272.59 L2290.7 1276.52 L2268.76 1276.52 L2268.76 1272.59 Q2271.42 1269.83 2276 1265.2 Q2280.61 1260.55 2281.79 1259.21 Q2284.03 1256.68 2284.91 1254.95 Q2285.82 1253.19 2285.82 1251.5 Q2285.82 1248.74 2283.87 1247.01 Q2281.95 1245.27 2278.85 1245.27 Q2276.65 1245.27 2274.2 1246.03 Q2271.77 1246.8 2268.99 1248.35 L2268.99 1243.63 Q2271.81 1242.49 2274.27 1241.91 Q2276.72 1241.34 2278.76 1241.34 Q2284.13 1241.34 2287.32 1244.02 Q2290.52 1246.71 2290.52 1251.2 Q2290.52 1253.33 2289.7 1255.25 Q2288.92 1257.15 2286.81 1259.74 Q2286.23 1260.41 2283.13 1263.63 Q2280.03 1266.82 2274.38 1272.59 Z\" fill=\"#000000\" fill-rule=\"evenodd\" fill-opacity=\"1\" /><path clip-path=\"url(#clip570)\" d=\"M2300.56 1241.96 L2318.92 1241.96 L2318.92 1245.9 L2304.84 1245.9 L2304.84 1254.37 Q2305.86 1254.02 2306.88 1253.86 Q2307.9 1253.67 2308.92 1253.67 Q2314.7 1253.67 2318.08 1256.85 Q2321.46 1260.02 2321.46 1265.43 Q2321.46 1271.01 2317.99 1274.11 Q2314.52 1277.19 2308.2 1277.19 Q2306.02 1277.19 2303.76 1276.82 Q2301.51 1276.45 2299.1 1275.71 L2299.1 1271.01 Q2301.19 1272.15 2303.41 1272.7 Q2305.63 1273.26 2308.11 1273.26 Q2312.11 1273.26 2314.45 1271.15 Q2316.79 1269.04 2316.79 1265.43 Q2316.79 1261.82 2314.45 1259.72 Q2312.11 1257.61 2308.11 1257.61 Q2306.23 1257.61 2304.36 1258.03 Q2302.51 1258.44 2300.56 1259.32 L2300.56 1241.96 Z\" fill=\"#000000\" fill-rule=\"evenodd\" fill-opacity=\"1\" /><path clip-path=\"url(#clip570)\" d=\"M2270.21 1018.38 L2288.57 1018.38 L2288.57 1022.32 L2274.5 1022.32 L2274.5 1030.79 Q2275.52 1030.44 2276.53 1030.28 Q2277.55 1030.1 2278.57 1030.1 Q2284.36 1030.1 2287.74 1033.27 Q2291.12 1036.44 2291.12 1041.85 Q2291.12 1047.43 2287.64 1050.54 Q2284.17 1053.61 2277.85 1053.61 Q2275.68 1053.61 2273.41 1053.24 Q2271.16 1052.87 2268.76 1052.13 L2268.76 1047.43 Q2270.84 1048.57 2273.06 1049.12 Q2275.28 1049.68 2277.76 1049.68 Q2281.77 1049.68 2284.1 1047.57 Q2286.44 1045.47 2286.44 1041.85 Q2286.44 1038.24 2284.1 1036.14 Q2281.77 1034.03 2277.76 1034.03 Q2275.89 1034.03 2274.01 1034.45 Q2272.16 1034.86 2270.21 1035.74 L2270.21 1018.38 Z\" fill=\"#000000\" fill-rule=\"evenodd\" fill-opacity=\"1\" /><path clip-path=\"url(#clip570)\" d=\"M2310.33 1021.46 Q2306.72 1021.46 2304.89 1025.03 Q2303.08 1028.57 2303.08 1035.7 Q2303.08 1042.8 2304.89 1046.37 Q2306.72 1049.91 2310.33 1049.91 Q2313.96 1049.91 2315.77 1046.37 Q2317.6 1042.8 2317.6 1035.7 Q2317.6 1028.57 2315.77 1025.03 Q2313.96 1021.46 2310.33 1021.46 M2310.33 1017.76 Q2316.14 1017.76 2319.2 1022.36 Q2322.27 1026.95 2322.27 1035.7 Q2322.27 1044.42 2319.2 1049.03 Q2316.14 1053.61 2310.33 1053.61 Q2304.52 1053.61 2301.44 1049.03 Q2298.39 1044.42 2298.39 1035.7 Q2298.39 1026.95 2301.44 1022.36 Q2304.52 1017.76 2310.33 1017.76 Z\" fill=\"#000000\" fill-rule=\"evenodd\" fill-opacity=\"1\" /><path clip-path=\"url(#clip570)\" d=\"M2268.76 794.804 L2290.98 794.804 L2290.98 796.795 L2278.43 829.364 L2273.55 829.364 L2285.35 798.74 L2268.76 798.74 L2268.76 794.804 Z\" fill=\"#000000\" fill-rule=\"evenodd\" fill-opacity=\"1\" /><path clip-path=\"url(#clip570)\" d=\"M2300.14 794.804 L2318.5 794.804 L2318.5 798.74 L2304.43 798.74 L2304.43 807.212 Q2305.45 806.865 2306.46 806.703 Q2307.48 806.517 2308.5 806.517 Q2314.29 806.517 2317.67 809.689 Q2321.05 812.86 2321.05 818.277 Q2321.05 823.855 2317.58 826.957 Q2314.1 830.036 2307.78 830.036 Q2305.61 830.036 2303.34 829.665 Q2301.09 829.295 2298.69 828.554 L2298.69 823.855 Q2300.77 824.99 2302.99 825.545 Q2305.21 826.101 2307.69 826.101 Q2311.7 826.101 2314.03 823.994 Q2316.37 821.888 2316.37 818.277 Q2316.37 814.666 2314.03 812.559 Q2311.7 810.453 2307.69 810.453 Q2305.82 810.453 2303.94 810.869 Q2302.09 811.286 2300.14 812.166 L2300.14 794.804 Z\" fill=\"#000000\" fill-rule=\"evenodd\" fill-opacity=\"1\" /><path clip-path=\"url(#clip570)\" d=\"M2269.43 601.851 L2277.07 601.851 L2277.07 575.486 L2268.76 577.152 L2268.76 572.893 L2277.02 571.226 L2281.7 571.226 L2281.7 601.851 L2289.33 601.851 L2289.33 605.786 L2269.43 605.786 L2269.43 601.851 Z\" fill=\"#000000\" fill-rule=\"evenodd\" fill-opacity=\"1\" /><path clip-path=\"url(#clip570)\" d=\"M2308.78 574.305 Q2305.17 574.305 2303.34 577.87 Q2301.53 581.411 2301.53 588.541 Q2301.53 595.647 2303.34 599.212 Q2305.17 602.754 2308.78 602.754 Q2312.41 602.754 2314.22 599.212 Q2316.05 595.647 2316.05 588.541 Q2316.05 581.411 2314.22 577.87 Q2312.41 574.305 2308.78 574.305 M2308.78 570.601 Q2314.59 570.601 2317.64 575.208 Q2320.72 579.791 2320.72 588.541 Q2320.72 597.268 2317.64 601.874 Q2314.59 606.458 2308.78 606.458 Q2302.97 606.458 2299.89 601.874 Q2296.83 597.268 2296.83 588.541 Q2296.83 579.791 2299.89 575.208 Q2302.97 570.601 2308.78 570.601 Z\" fill=\"#000000\" fill-rule=\"evenodd\" fill-opacity=\"1\" /><path clip-path=\"url(#clip570)\" d=\"M2338.94 574.305 Q2335.33 574.305 2333.5 577.87 Q2331.7 581.411 2331.7 588.541 Q2331.7 595.647 2333.5 599.212 Q2335.33 602.754 2338.94 602.754 Q2342.57 602.754 2344.38 599.212 Q2346.21 595.647 2346.21 588.541 Q2346.21 581.411 2344.38 577.87 Q2342.57 574.305 2338.94 574.305 M2338.94 570.601 Q2344.75 570.601 2347.81 575.208 Q2350.89 579.791 2350.89 588.541 Q2350.89 597.268 2347.81 601.874 Q2344.75 606.458 2338.94 606.458 Q2333.13 606.458 2330.05 601.874 Q2327 597.268 2327 588.541 Q2327 579.791 2330.05 575.208 Q2333.13 570.601 2338.94 570.601 Z\" fill=\"#000000\" fill-rule=\"evenodd\" fill-opacity=\"1\" /><path clip-path=\"url(#clip570)\" d=\"M2269.43 378.273 L2277.07 378.273 L2277.07 351.907 L2268.76 353.574 L2268.76 349.315 L2277.02 347.648 L2281.7 347.648 L2281.7 378.273 L2289.33 378.273 L2289.33 382.208 L2269.43 382.208 L2269.43 378.273 Z\" fill=\"#000000\" fill-rule=\"evenodd\" fill-opacity=\"1\" /><path clip-path=\"url(#clip570)\" d=\"M2302.81 378.273 L2319.13 378.273 L2319.13 382.208 L2297.18 382.208 L2297.18 378.273 Q2299.84 375.518 2304.43 370.889 Q2309.03 366.236 2310.21 364.893 Q2312.46 362.37 2313.34 360.634 Q2314.24 358.875 2314.24 357.185 Q2314.24 354.43 2312.3 352.694 Q2310.38 350.958 2307.27 350.958 Q2305.08 350.958 2302.62 351.722 Q2300.19 352.486 2297.41 354.037 L2297.41 349.315 Q2300.24 348.181 2302.69 347.602 Q2305.14 347.023 2307.18 347.023 Q2312.55 347.023 2315.75 349.708 Q2318.94 352.393 2318.94 356.884 Q2318.94 359.014 2318.13 360.935 Q2317.34 362.833 2315.24 365.426 Q2314.66 366.097 2311.56 369.315 Q2308.45 372.509 2302.81 378.273 Z\" fill=\"#000000\" fill-rule=\"evenodd\" fill-opacity=\"1\" /><path clip-path=\"url(#clip570)\" d=\"M2328.99 347.648 L2347.34 347.648 L2347.34 351.583 L2333.27 351.583 L2333.27 360.055 Q2334.29 359.708 2335.31 359.546 Q2336.32 359.361 2337.34 359.361 Q2343.13 359.361 2346.51 362.532 Q2349.89 365.704 2349.89 371.12 Q2349.89 376.699 2346.42 379.801 Q2342.95 382.879 2336.63 382.879 Q2334.45 382.879 2332.18 382.509 Q2329.94 382.139 2327.53 381.398 L2327.53 376.699 Q2329.61 377.833 2331.83 378.389 Q2334.06 378.944 2336.53 378.944 Q2340.54 378.944 2342.88 376.838 Q2345.21 374.731 2345.21 371.12 Q2345.21 367.509 2342.88 365.403 Q2340.54 363.296 2336.53 363.296 Q2334.66 363.296 2332.78 363.713 Q2330.93 364.13 2328.99 365.009 L2328.99 347.648 Z\" fill=\"#000000\" fill-rule=\"evenodd\" fill-opacity=\"1\" /><path clip-path=\"url(#clip570)\" d=\"M2269.43 154.695 L2277.07 154.695 L2277.07 128.329 L2268.76 129.996 L2268.76 125.737 L2277.02 124.07 L2281.7 124.07 L2281.7 154.695 L2289.33 154.695 L2289.33 158.63 L2269.43 158.63 L2269.43 154.695 Z\" fill=\"#000000\" fill-rule=\"evenodd\" fill-opacity=\"1\" /><path clip-path=\"url(#clip570)\" d=\"M2298.83 124.07 L2317.18 124.07 L2317.18 128.005 L2303.11 128.005 L2303.11 136.477 Q2304.13 136.13 2305.14 135.968 Q2306.16 135.783 2307.18 135.783 Q2312.97 135.783 2316.35 138.954 Q2319.73 142.125 2319.73 147.542 Q2319.73 153.121 2316.26 156.223 Q2312.78 159.301 2306.46 159.301 Q2304.29 159.301 2302.02 158.931 Q2299.77 158.56 2297.37 157.82 L2297.37 153.121 Q2299.45 154.255 2301.67 154.811 Q2303.89 155.366 2306.37 155.366 Q2310.38 155.366 2312.71 153.26 Q2315.05 151.153 2315.05 147.542 Q2315.05 143.931 2312.71 141.824 Q2310.38 139.718 2306.37 139.718 Q2304.5 139.718 2302.62 140.135 Q2300.77 140.551 2298.83 141.431 L2298.83 124.07 Z\" fill=\"#000000\" fill-rule=\"evenodd\" fill-opacity=\"1\" /><path clip-path=\"url(#clip570)\" d=\"M2338.94 127.149 Q2335.33 127.149 2333.5 130.713 Q2331.7 134.255 2331.7 141.385 Q2331.7 148.491 2333.5 152.056 Q2335.33 155.598 2338.94 155.598 Q2342.57 155.598 2344.38 152.056 Q2346.21 148.491 2346.21 141.385 Q2346.21 134.255 2344.38 130.713 Q2342.57 127.149 2338.94 127.149 M2338.94 123.445 Q2344.75 123.445 2347.81 128.051 Q2350.89 132.635 2350.89 141.385 Q2350.89 150.111 2347.81 154.718 Q2344.75 159.301 2338.94 159.301 Q2333.13 159.301 2330.05 154.718 Q2327 150.111 2327 141.385 Q2327 132.635 2330.05 128.051 Q2333.13 123.445 2338.94 123.445 Z\" fill=\"#000000\" fill-rule=\"evenodd\" fill-opacity=\"1\" /><polyline clip-path=\"url(#clip570)\" style=\"stroke:#000000; stroke-linecap:butt; stroke-linejoin:round; stroke-width:4; stroke-opacity:1; fill:none\" points=\"\n",
       "  2232.76,1486.45 2232.76,1486.45 2256.76,1486.45 2232.76,1486.45 2232.76,1262.87 2256.76,1262.87 2232.76,1262.87 2232.76,1039.29 2256.76,1039.29 2232.76,1039.29 \n",
       "  2232.76,815.713 2256.76,815.713 2232.76,815.713 2232.76,592.135 2256.76,592.135 2232.76,592.135 2232.76,368.557 2256.76,368.557 2232.76,368.557 2232.76,144.979 \n",
       "  2256.76,144.979 2232.76,144.979 2232.76,47.2441 \n",
       "  \"/>\n",
       "</svg>\n"
      ]
     },
     "execution_count": 112,
     "metadata": {},
     "output_type": "execute_result"
    }
   ],
   "source": [
    "p = (Δx, Δy, Δt, t₁)\n",
    "\n",
    "T₁ = copy(T₀)\n",
    "T₁ = heatflow(T₁, fakeD, p, 1e-2)\n",
    "\n",
    "heatmap(T₁, clim=(0, maximum(T₀)))"
   ]
  },
  {
   "cell_type": "code",
   "execution_count": 113,
   "id": "ec5580a5",
   "metadata": {},
   "outputs": [
    {
     "data": {
      "text/plain": [
       "10.095895612117783"
      ]
     },
     "execution_count": 113,
     "metadata": {},
     "output_type": "execute_result"
    }
   ],
   "source": [
    "sqrt( sum((T₁.-T₀).^2) / (nx * ny) )"
   ]
  },
  {
   "cell_type": "markdown",
   "id": "ea2b0d9b",
   "metadata": {},
   "source": [
    "## Using a neural network to learn D\n",
    "\n",
    "Now, let's try to reproduce `fakeD()` with a NN."
   ]
  },
  {
   "cell_type": "code",
   "execution_count": 114,
   "id": "3ae63593",
   "metadata": {},
   "outputs": [
    {
     "data": {
      "text/plain": [
       "heatflow_NN (generic function with 2 methods)"
      ]
     },
     "execution_count": 114,
     "metadata": {},
     "output_type": "execute_result"
    }
   ],
   "source": [
    "function heatflow_NN(T, uD, p, tol=1e-4)\n",
    "   \n",
    "    Δx, Δy, Δt, t₁ = p\n",
    "    \n",
    "    total_iter = 0\n",
    "    t = 0\n",
    "    \n",
    "    while t < t₁\n",
    "        \n",
    "        iter = 1\n",
    "        err = 2 * tolnl\n",
    "        Hold = copy(T)\n",
    "        dTdt = zeros(nx, ny)\n",
    "        err = Inf \n",
    "        \n",
    "        while iter < itMax+1 && tol <= err\n",
    "            \n",
    "            Err = copy(T)\n",
    "                    \n",
    "            D = uD([t]')[1]  # compute the diffusivity at each time\n",
    "            #println(D)\n",
    "            F, dτ = Heat(T, D, p)\n",
    "            \n",
    "            @tullio ResT[i,j] := -(T[i,j] - Hold[i,j])/Δt + F[pad(i-1,1,1),pad(j-1,1,1)] \n",
    "            \n",
    "            dTdt_ = copy(dTdt)\n",
    "            @tullio dTdt[i,j] := dTdt_[i,j]*damp + ResT[i,j]\n",
    "            \n",
    "            T_ = copy(T)\n",
    "            #@tullio T[i,j] := max(0.0, T_[i,j] + dTdt[i,j]*dτ[pad(i-1,1,1),pad(j-1,1,1)]) \n",
    "            @tullio T[i,j] := max(0.0, T_[i,j] + dτ * dTdt[i,j])\n",
    "            \n",
    "            Zygote.ignore() do\n",
    "                Err .= Err .- T\n",
    "                err = maximum(Err)\n",
    "            end \n",
    "            \n",
    "            iter += 1\n",
    "            total_iter += 1\n",
    "            \n",
    "        end\n",
    "        \n",
    "        t += Δt\n",
    "        \n",
    "    end\n",
    "    \n",
    "    return T\n",
    "    \n",
    "end"
   ]
  },
  {
   "cell_type": "code",
   "execution_count": 115,
   "id": "7ca3add1",
   "metadata": {},
   "outputs": [
    {
     "data": {
      "text/plain": [
       "loss (generic function with 2 methods)"
      ]
     },
     "execution_count": 115,
     "metadata": {},
     "output_type": "execute_result"
    }
   ],
   "source": [
    "sqnorm(x) = sum(abs2, x)\n",
    "\n",
    "function loss(T, UD, p, λ=1)\n",
    "\n",
    "    T = heatflow_NN(T, UD, p)\n",
    "    l_cost = sqrt(Flux.Losses.mse(T, T₁; agg=mean))\n",
    "    #l_reg  = sum(sqnorm, ps)\n",
    "\n",
    "    return l_cost #+ λ * l_reg\n",
    "end"
   ]
  },
  {
   "cell_type": "code",
   "execution_count": 121,
   "id": "6f8105aa",
   "metadata": {},
   "outputs": [
    {
     "data": {
      "text/plain": [
       "hybrid_train! (generic function with 1 method)"
      ]
     },
     "execution_count": 121,
     "metadata": {},
     "output_type": "execute_result"
    }
   ],
   "source": [
    "# Patch suggested by Michael Abbott needed in order to correctly retrieve gradients\n",
    "Flux.Optimise.update!(opt, x::AbstractMatrix, Δ::AbstractVector) = Flux.Optimise.update!(opt, x, reshape(Δ, size(x)))\n",
    "\n",
    "function train(loss, p)\n",
    "    \n",
    "    leakyrelu(x, a=0.01) = max(a*x, x)\n",
    "    relu(x) = max(0, x)\n",
    "    sigmoid_D(x) = .5 + 10 / ( 1 + exp(-x) ) \n",
    "\n",
    "    UD = Chain(\n",
    "        Dense(1,10, initb=Flux.glorot_normal), \n",
    "        #BatchNorm(10, ),\n",
    "        Dense(10, 5, x->tanh.(x), initb =Flux.glorot_normal), \n",
    "        Dense(5, 5, x->tanh.(x), initb=Flux.glorot_normal),\n",
    "        #BatchNorm(5, leakyrelu),\n",
    "        Dense(5,1, relu, initb = Flux.zeros) \n",
    "    )\n",
    "    \n",
    "    #UD = Chain(\n",
    "    #    Dense(1,5,initb = Flux.glorot_normal), \n",
    "    #    Dense(5, 5, x->tanh.(x), initb = Flux.glorot_normal),\n",
    "    #    Dense(5, 1, relu, initb = Flux.glorot_normal)\n",
    "    #)\n",
    "    \n",
    "    \n",
    "    opt = ADAM(1.0e-3)\n",
    "    #opt = Descent(0.1)\n",
    "    \n",
    "    losses = []\n",
    "    @epochs 150 hybrid_train!(loss, UD, p, opt, losses)\n",
    "    \n",
    "    return UD, losses\n",
    "    \n",
    "end\n",
    "\n",
    "function hybrid_train!(loss, UD, p, opt, losses)\n",
    "    \n",
    "    T = T₀\n",
    "    θ = Flux.params(UD)\n",
    "    loss_uD, back_uD = Zygote.pullback(() -> loss(T, UD, p), θ)\n",
    "    push!(losses, loss_uD)\n",
    "    \n",
    "    println(\"Current loss: \", loss_uD)\n",
    "    println(\"Current parameter:\", θ)\n",
    "    ∇_uD = back_uD(one(loss_uD))\n",
    "\n",
    "    #for p in θ\n",
    "    #    println(\"Gradients ∇_uD[p]: \", ∇_uD[p])\n",
    "    #end\n",
    "    \n",
    "    #println(\"Values of NN: \", UD([0., .5, 1.]'))\n",
    "    #all_times = LinRange(0, t₁, 1000)\n",
    "    #plot(all_times, UD(all_times')')\n",
    "    \n",
    "    Flux.Optimise.update!(opt, θ, ∇_uD)\n",
    "    \n",
    "    \n",
    "end"
   ]
  },
  {
   "cell_type": "code",
   "execution_count": 122,
   "id": "1b1cd480",
   "metadata": {
    "scrolled": true
   },
   "outputs": [
    {
     "name": "stderr",
     "output_type": "stream",
     "text": [
      "┌ Info: Epoch 1\n",
      "└ @ Main /Users/facundosapienza/.julia/packages/Flux/goUGu/src/optimise/train.jl:136\n"
     ]
    },
    {
     "name": "stdout",
     "output_type": "stream",
     "text": [
      "Current loss: 6.632239179438567\n",
      "Current parameter:Params([Float32[-0.34185717; -0.13691202; -0.32118985; -0.7050594; -0.17649336; -0.6595102; -0.27306968; 0.5064735; -0.069123454; 0.32869735], Float32[0.09644883, -1.1158551, -1.0322126, 0.22610788, 0.15555185, -0.18428287, -0.6894437, 0.69797105, -0.28847498, 0.42772412], Float32[-0.36183968 -0.09541726 -0.5774012 -0.32581192 -0.30923885 -0.45692745 0.25381055 -0.54785466 -0.5127092 0.44071507; -0.34733993 0.24842498 -0.6101855 -0.42716047 0.19535926 -0.098317236 -0.1300677 -0.50491035 0.59820014 0.23411116; 0.1964674 0.108693644 -0.35733485 -0.00949866 0.11669783 0.58346653 -0.0005969742 0.30557752 -0.2209705 -0.22360583; 0.10958767 0.36113366 0.39915922 0.013010993 -0.5550987 -0.3208466 -0.029497374 0.60364604 -0.39530355 -0.24409491; 0.10691765 0.572028 -0.26744854 0.033914894 -0.594104 0.09162763 -0.42783225 0.011050885 -0.37407804 0.04055791], Float32[0.34448633, -0.4986879, 0.6304558, 0.08281171, 0.078796126], Float32[0.71501577 0.5554525 -0.59818333 0.75524294 0.28894538; 0.26381582 0.38759273 0.5335752 -0.10963073 0.6369637; 0.28818855 0.6798412 -0.17060539 -0.7659375 -0.13654111; 0.68085843 -0.2980127 -0.2488085 0.5552643 -0.5804369; 0.62291527 -0.04745437 -0.18507974 -0.3748996 -0.17296207], Float32[-0.1542372, 1.1627573, 0.013563504, -0.18462124, -0.85463524], Float32[-0.11663604 0.8472812 -0.77461934 0.7898369 0.3781786], Float32[0.0]])\n"
     ]
    },
    {
     "name": "stderr",
     "output_type": "stream",
     "text": [
      "┌ Info: Epoch 2\n",
      "└ @ Main /Users/facundosapienza/.julia/packages/Flux/goUGu/src/optimise/train.jl:136\n"
     ]
    },
    {
     "name": "stdout",
     "output_type": "stream",
     "text": [
      "Current loss: 6.459348963306445\n",
      "Current parameter:Params([Float32[-0.34085718; -0.13791202; -0.32018986; -0.7040594; -0.17749336; -0.6605102; -0.2720697; 0.50747347; -0.07012346; 0.32769737], Float32[0.09744883, -1.1168551, -1.0312126, 0.22710788, 0.15455185, -0.18528287, -0.6884437, 0.69897103, -0.28947496, 0.42672414], Float32[-0.36283967 -0.09641726 -0.5784012 -0.3268119 -0.30823886 -0.45792744 0.25281057 -0.5468547 -0.5137092 0.44171506; -0.34633994 0.24942498 -0.6091855 -0.42616048 0.19635926 -0.09731723 -0.1290677 -0.50591034 0.5992001 0.23311116; 0.1974674 0.10969365 -0.35633487 -0.00849866 0.117697835 0.5844665 0.0004030257 0.30457753 -0.2199705 -0.22460583; 0.10858767 0.36013368 0.39815924 0.0120109925 -0.5560987 -0.32184657 -0.030497374 0.604646 -0.39630353 -0.2430949; 0.10791765 0.57302797 -0.26644856 0.034914892 -0.593104 0.09262763 -0.42683226 0.010050884 -0.37307805 0.03955791], Float32[0.3454863, -0.49968788, 0.6294558, 0.083811715, 0.077796124], Float32[0.7140158 0.55445254 -0.5991833 0.75424296 0.2879454; 0.2648158 0.38859272 0.53457516 -0.108630724 0.6379637; 0.28718856 0.67884123 -0.1716054 -0.7669375 -0.13754112; 0.6818584 -0.29701272 -0.2478085 0.5562643 -0.5794369; 0.62391526 -0.04645437 -0.18407974 -0.3738996 -0.17196207], Float32[-0.1552372, 1.1637573, 0.012563504, -0.18362124, -0.85363525], Float32[-0.115636036 0.8482812 -0.77361935 0.7908369 0.3771786], Float32[0.001]])\n"
     ]
    },
    {
     "name": "stderr",
     "output_type": "stream",
     "text": [
      "┌ Info: Epoch 3\n",
      "└ @ Main /Users/facundosapienza/.julia/packages/Flux/goUGu/src/optimise/train.jl:136\n"
     ]
    },
    {
     "name": "stdout",
     "output_type": "stream",
     "text": [
      "Current loss: 6.289066540141265\n",
      "Current parameter:Params([Float32[-0.33985695; -0.13891317; -0.31919026; -0.70305914; -0.1784927; -0.66150826; -0.2710701; 0.5084733; -0.07112359; 0.32669768], Float32[0.09844872, -1.1178558, -1.030213, 0.22810777, 0.1535522, -0.18628179, -0.6874443, 0.69997084, -0.29047492, 0.42572454], Float32[-0.36383823 -0.09741678 -0.5794006 -0.32781065 -0.30723998 -0.45892683 0.25181118 -0.5458552 -0.5147088 0.4427144; -0.3453396 0.25042513 -0.6081854 -0.42516008 0.1973602 -0.09631683 -0.12806757 -0.5069106 0.6002005 0.23211096; 0.19845958 0.11068481 -0.3553436 -0.007506317 0.118691325 0.5854588 0.0013943441 0.30358565 -0.21897864 -0.22559743; 0.10758905 0.3591344 0.39716014 0.0110122925 -0.5570978 -0.32284558 -0.031496413 0.6056451 -0.39730293 -0.24209595; 0.10891689 0.5740274 -0.26544926 0.035914216 -0.5921042 0.09362708 -0.42583296 0.0090514505 -0.37207845 0.03855862], Float32[0.3464858, -0.5006879, 0.6284655, 0.08481101, 0.07679677], Float32[0.7130162 0.5536369 -0.6001824 0.7532419 0.28694716; 0.26581645 0.38959256 0.5355746 -0.10762949 0.63896376; 0.28618863 0.6778425 -0.17260364 -0.76793814 -0.13854018; 0.6828579 -0.2960151 -0.24681044 0.55726445 -0.5784385; 0.6249152 -0.045455784 -0.18308133 -0.37289894 -0.17096302], Float32[-0.15623674, 1.164758, 0.011563605, -0.18262179, -0.8526354], Float32[-0.11463611 0.849281 -0.7726308 0.79183805 0.37617892], Float32[0.0019998513]])\n"
     ]
    },
    {
     "name": "stderr",
     "output_type": "stream",
     "text": [
      "┌ Info: Epoch 4\n",
      "└ @ Main /Users/facundosapienza/.julia/packages/Flux/goUGu/src/optimise/train.jl:136\n"
     ]
    },
    {
     "name": "stdout",
     "output_type": "stream",
     "text": [
      "Current loss: 6.12176418989711\n",
      "Current parameter:Params([Float32[-0.3388564; -0.13991608; -0.31819135; -0.70205843; -0.17949094; -0.6625029; -0.2700712; 0.5094727; -0.07212395; 0.32569852], Float32[0.099448405, -1.1188574, -1.0292143, 0.22910742, 0.15255316, -0.18727878, -0.686446, 0.70097023, -0.2914748, 0.42472562], Float32[-0.36483434 -0.09841547 -0.580399 -0.32880718 -0.3062429 -0.4599252 0.25081286 -0.54485667 -0.51570773 0.44371256; -0.34433872 0.2514255 -0.6071851 -0.42415902 0.19836266 -0.0953158 -0.12706724 -0.5079114 0.6012013 0.23111048; 0.1994361 0.111657545 -0.35437036 -0.006529354 0.11967163 0.5864354 0.0023678732 0.30261037 -0.21800381 -0.2265719; 0.10659282 0.35813636 0.39616263 0.010015833 -0.5580953 -0.32384285 -0.032493792 0.6066427 -0.39830124 -0.24109879; 0.109914735 0.5750258 -0.2644512 0.03691228 -0.59110475 0.094625495 -0.42483494 0.008053072 -0.37107965 0.037560627], Float32[0.34748444, -0.50168794, 0.6274954, 0.08580907, 0.075798586], Float32[0.7120173 0.55337226 -0.6011799 0.7522391 0.28595194; 0.26681814 0.39059204 0.536573 -0.10662624 0.63996387; 0.28518885 0.676846 -0.17359878 -0.76893973 -0.13953757; 0.68385637 -0.29502183 -0.2458157 0.5582648 -0.577443; 0.625915 -0.04445969 -0.18208568 -0.3718972 -0.16996564], Float32[-0.15723552, 1.1657596, 0.010563905, -0.18162331, -0.8516357], Float32[-0.11363632 0.8502805 -0.7716662 0.7928412 0.37517974], Float32[0.0029994491]])\n"
     ]
    },
    {
     "name": "stderr",
     "output_type": "stream",
     "text": [
      "┌ Info: Epoch 5\n",
      "└ @ Main /Users/facundosapienza/.julia/packages/Flux/goUGu/src/optimise/train.jl:136\n"
     ]
    },
    {
     "name": "stdout",
     "output_type": "stream",
     "text": [
      "Current loss: 5.9577596540488065\n",
      "Current parameter:Params([Float32[-0.33785537; -0.14092125; -0.31719345; -0.7010572; -0.18048769; -0.6634923; -0.26907346; 0.5104717; -0.0731246; 0.32470015], Float32[0.10044776, -1.11986, -1.0282167, 0.23010671, 0.15155497, -0.18827295, -0.6854493, 0.70196897, -0.29247448, 0.42372772], Float32[-0.36582693 -0.099413 -0.581396 -0.32980058 -0.30524838 -0.4609221 0.24981602 -0.5438594 -0.5167057 0.44470912; -0.34333715 0.25242615 -0.6061846 -0.4231571 0.19936715 -0.09431394 -0.1260667 -0.5089127 0.6022027 0.23010968; 0.20038632 0.11259801 -0.3534281 -0.005578275 0.1206295 0.5873852 0.0033108427 0.30166367 -0.21705882 -0.22751716; 0.10560002 0.35714012 0.3951674 0.0090226 -0.5590904 -0.32483765 -0.033488773 0.60763806 -0.39929798 -0.24010423; 0.110910445 0.57602257 -0.26345506 0.03790841 -0.59010607 0.0956223 -0.42383888 0.0070563224 -0.3700821 0.036564603], Float32[0.34848186, -0.50268793, 0.62656116, 0.08680532, 0.07480217], Float32[0.7110194 0.5536557 -0.6021752 0.75123405 0.28496101; 0.2678213 0.3915909 0.5375698 -0.10562021 0.640964; 0.28418934 0.675853 -0.17458938 -0.76994264 -0.14053252; 0.6848535 -0.29403496 -0.24482569 0.5592653 -0.5764517; 0.62691456 -0.043467294 -0.181094 -0.37089404 -0.16897066], Float32[-0.15823324, 1.1667625, 0.009564527, -0.18062623, -0.85063624], Float32[-0.112636745 0.85127956 -0.770744 0.7938469 0.37418133], Float32[0.0039986847]])\n"
     ]
    },
    {
     "name": "stderr",
     "output_type": "stream",
     "text": [
      "┌ Info: Epoch 6\n",
      "└ @ Main /Users/facundosapienza/.julia/packages/Flux/goUGu/src/optimise/train.jl:136\n"
     ]
    },
    {
     "name": "stdout",
     "output_type": "stream",
     "text": [
      "Current loss: 5.797311469701132\n",
      "Current parameter:Params([Float32[-0.33685377; -0.14192905; -0.31619692; -0.70005536; -0.18148257; -0.6644747; -0.26807728; 0.51146996; -0.0741256; 0.32370278], Float32[0.10144665, -1.120864, -1.0272207, 0.23110548, 0.15055792, -0.18926331, -0.68445474, 0.70296687, -0.29347387, 0.42273116], Float32[-0.3668149 -0.10040901 -0.58239114 -0.3307899 -0.30425707 -0.46191707 0.2488211 -0.5428639 -0.5177024 0.4457036; -0.34233478 0.2534271 -0.6051839 -0.4221542 0.20037414 -0.093311094 -0.12506595 -0.5099147 0.6032049 0.22910851; 0.20129606 0.11348661 -0.35253486 -0.0046671485 0.12155232 0.5882931 0.004205673 0.3007621 -0.21616198 -0.22841667; 0.10461174 0.35614634 0.39417523 0.008033617 -0.5600823 -0.32582918 -0.034480594 0.6086305 -0.40029258 -0.23911308; 0.111903176 0.5770171 -0.26246154 0.038901813 -0.58910865 0.09661683 -0.4228455 0.0060618636 -0.36908635 0.035571318], Float32[0.3494777, -0.50368786, 0.62568486, 0.087799184, 0.07380819], Float32[0.7100227 0.5542248 -0.60316765 0.75022626 0.28397575; 0.2688264 0.39258873 0.5385645 -0.104610674 0.64196396; 0.28319022 0.6748647 -0.17557392 -0.7709471 -0.14152417; 0.6858488 -0.29305688 -0.24384183 0.56026584 -0.57546604; 0.6279139 -0.042479943 -0.18010755 -0.36988914 -0.16797888], Float32[-0.1592296, 1.1677672, 0.008565616, -0.17963104, -0.84963715], Float32[-0.11163747 0.852278 -0.7698904 0.7948557 0.37318388], Float32[0.004997446]])\n"
     ]
    },
    {
     "name": "stderr",
     "output_type": "stream",
     "text": [
      "┌ Info: Epoch 7\n",
      "└ @ Main /Users/facundosapienza/.julia/packages/Flux/goUGu/src/optimise/train.jl:136\n"
     ]
    },
    {
     "name": "stdout",
     "output_type": "stream",
     "text": [
      "Current loss: 5.640604853309883\n",
      "Current parameter:Params([Float32[-0.3358515; -0.14293973; -0.31520212; -0.6990528; -0.18247524; -0.6654481; -0.26708323; 0.5124673; -0.075127006; 0.32270667], Float32[0.10244494, -1.1218693, -1.0262268, 0.23210354, 0.14956228, -0.1902488, -0.683463, 0.70396364, -0.29447287, 0.42173633], Float32[-0.36779717 -0.101403154 -0.58338404 -0.33177415 -0.30326965 -0.46290973 0.24782853 -0.5418705 -0.51869756 0.44669548; -0.3413315 0.25442827 -0.6041831 -0.42115012 0.20138405 -0.09230713 -0.12406504 -0.5109174 0.60420793 0.22810699; 0.20214696 0.11429665 -0.35171467 -0.0038143345 0.12242317 0.58913887 0.005028989 0.2999278 -0.21533847 -0.22924858; 0.10362908 0.3551556 0.3931868 0.0070499363 -0.5610703 -0.3268166 -0.035468467 0.60961926 -0.4012845 -0.23812619; 0.11289199 0.5780087 -0.26147145 0.039891616 -0.588113 0.09760831 -0.4218557 0.0050704395 -0.36809298 0.034581613], Float32[0.35047162, -0.50468755, 0.62489665, 0.088790044, 0.0728174], Float32[0.70902747 0.554941 -0.6041567 0.7492153 0.28299752; 0.2698338 0.39358503 0.5395564 -0.10359695 0.64296377; 0.2821916 0.67388254 -0.17655087 -0.7719533 -0.14251156; 0.68684167 -0.29209018 -0.24286544 0.56126624 -0.5744874; 0.62891287 -0.04149913 -0.17912753 -0.3688822 -0.16699116], Float32[-0.16022433, 1.1687741, 0.0075673345, -0.17863823, -0.8486385], Float32[-0.11063862 0.85327566 -0.7691411 0.7958681 0.37218764], Float32[0.005995618]])\n"
     ]
    },
    {
     "name": "stderr",
     "output_type": "stream",
     "text": [
      "┌ Info: Epoch 8\n",
      "└ @ Main /Users/facundosapienza/.julia/packages/Flux/goUGu/src/optimise/train.jl:136\n"
     ]
    },
    {
     "name": "stdout",
     "output_type": "stream",
     "text": [
      "Current loss: 5.487739414732964\n",
      "Current parameter:Params([Float32[-0.33484846; -0.14395346; -0.31420946; -0.6980495; -0.18346542; -0.66641027; -0.26609182; 0.5134636; -0.07612886; 0.3217121], Float32[0.10344246, -1.1228758, -1.0252353, 0.2331007, 0.14856833, -0.19122832, -0.6824746, 0.70495903, -0.29547137, 0.42074358], Float32[-0.36877257 -0.10239508 -0.58437425 -0.33275232 -0.30228677 -0.46389958 0.24683876 -0.5408795 -0.5196909 0.44768432; -0.34032732 0.2554297 -0.60318214 -0.42014483 0.20239727 -0.09130195 -0.12306403 -0.5119209 0.6052119 0.22710514; 0.20291625 0.1149943 -0.35099763 -0.003042745 0.12322021 0.5898971 0.005751587 0.2991889 -0.21462083 -0.22998562; 0.10265318 0.35416853 0.39220294 0.0060726237 -0.5620535 -0.32779902 -0.036451593 0.6106036 -0.40227312 -0.23714441; 0.11387585 0.5789966 -0.26048568 0.040876843 -0.5871198 0.09859592 -0.42087027 0.0040828716 -0.3671027 0.033596415], Float32[0.3514632, -0.5056869, 0.6242342, 0.08977727, 0.07183059], Float32[0.708034 0.5557449 -0.60514176 0.7482007 0.28202772; 0.27084392 0.39457908 0.5405449 -0.102578394 0.64396316; 0.2811937 0.6729081 -0.17751877 -0.7729614 -0.14349371; 0.6878317 -0.29113767 -0.24189772 0.5622663 -0.5735174; 0.6299114 -0.04052653 -0.17815506 -0.36787304 -0.16600838], Float32[-0.16121717, 1.1697836, 0.0065698638, -0.17764832, -0.84764034], Float32[-0.1096403 0.85427237 -0.7685394 0.7968845 0.37119284], Float32[0.0069930837]])\n"
     ]
    },
    {
     "name": "stderr",
     "output_type": "stream",
     "text": [
      "┌ Info: Epoch 9\n",
      "└ @ Main /Users/facundosapienza/.julia/packages/Flux/goUGu/src/optimise/train.jl:136\n"
     ]
    },
    {
     "name": "stdout",
     "output_type": "stream",
     "text": [
      "Current loss: 5.3387217318571\n",
      "Current parameter:Params([Float32[-0.3338446; -0.14497025; -0.31321934; -0.6970453; -0.18445286; -0.6673589; -0.2651037; 0.5144586; -0.077131204; 0.32071933], Float32[0.104439035, -1.1238834, -1.0242468, 0.23409672, 0.14757632, -0.19220072, -0.6814904, 0.70595276, -0.29646918, 0.4197533], Float32[-0.36973998 -0.10338444 -0.58536136 -0.33372343 -0.30130908 -0.4648862 0.24585225 -0.53989136 -0.52068204 0.44866964; -0.33932215 0.25643125 -0.60218126 -0.41913822 0.20341411 -0.09029548 -0.12206302 -0.51292527 0.60621685 0.22610302; 0.2035777 0.11554177 -0.3504175 -0.0023789846 0.12391686 0.59053797 0.006340602 0.29857785 -0.2140466 -0.23059678; 0.101685174 0.3531858 0.39122438 0.0051027494 -0.563031 -0.32877564 -0.03742917 0.6115827 -0.40325785 -0.23616862; 0.11485366 0.57997996 -0.25950518 0.041856445 -0.5861299 0.099578716 -0.41989025 0.0031000467 -0.3661163 0.03261671], Float32[0.35245213, -0.50668573, 0.6237376, 0.090760216, 0.070848614], Float32[0.7070424 0.55660826 -0.60612243 0.7471822 0.2810677; 0.2718571 0.3955699 0.5415296 -0.10155443 0.64496183; 0.2801967 0.6719432 -0.1784764 -0.7739715 -0.14446957; 0.68881834 -0.29020238 -0.24093959 0.5632657 -0.57255757; 0.6309095 -0.039564017 -0.17719108 -0.3668614 -0.16503154], Float32[-0.16220789, 1.1707959, 0.0055733994, -0.17666182, -0.84664285], Float32[-0.108642675 0.855268 -0.76812905 0.7979052 0.3701997], Float32[0.007989724]])\n"
     ]
    },
    {
     "name": "stderr",
     "output_type": "stream",
     "text": [
      "┌ Info: Epoch 10\n",
      "└ @ Main /Users/facundosapienza/.julia/packages/Flux/goUGu/src/optimise/train.jl:136\n"
     ]
    },
    {
     "name": "stdout",
     "output_type": "stream",
     "text": [
      "Current loss: 5.193477410535926\n",
      "Current parameter:Params([Float32[-0.33283985; -0.14599009; -0.31223214; -0.69604033; -0.18543734; -0.66829145; -0.26411945; 0.5154521; -0.07813406; 0.3197286], Float32[0.10543449, -1.1248918, -1.0232618, 0.23509139, 0.14658652, -0.19316484, -0.68051106, 0.7069445, -0.2974662, 0.4187659], Float32[-0.37069827 -0.104370885 -0.58634496 -0.3346865 -0.30033723 -0.46586913 0.2448694 -0.5389065 -0.52167076 0.44965097; -0.33831602 0.25743288 -0.6011805 -0.41813028 0.20443487 -0.08928767 -0.12106211 -0.5139304 0.60722274 0.22510073; 0.20410432 0.11590502 -0.35000598 -0.0018506728 0.12448373 0.59103096 0.0067648287 0.2981267 -0.21365148 -0.23105174; 0.10072617 0.35220805 0.39025193 0.004141374 -0.56400204 -0.32974562 -0.0384004 0.61255586 -0.4042381 -0.23519966; 0.115824245 0.5809579 -0.2585309 0.042829312 -0.5851441 0.10055574 -0.4189166 0.0021229011 -0.36513448 0.031643525], Float32[0.35343802, -0.5076839, 0.62343955, 0.09173825, 0.06987235], Float32[0.7060529 0.55751604 -0.60709834 0.7461594 0.2801188; 0.27287367 0.3965562 0.5425101 -0.10052455 0.6459594; 0.27920076 0.67098963 -0.17942284 -0.77498364 -0.14543805; 0.6898011 -0.28928757 -0.23999164 0.5642641 -0.5716095; 0.6319069 -0.038613684 -0.17623618 -0.36584717 -0.16406162], Float32[-0.1631963, 1.1718115, 0.004578148, -0.17567927, -0.84564614], Float32[-0.10764592 0.85626245 -0.7679401 0.7989305 0.36920846], Float32[0.008985421]])\n"
     ]
    },
    {
     "name": "stderr",
     "output_type": "stream",
     "text": [
      "┌ Info: Epoch 11\n",
      "└ @ Main /Users/facundosapienza/.julia/packages/Flux/goUGu/src/optimise/train.jl:136\n"
     ]
    },
    {
     "name": "stdout",
     "output_type": "stream",
     "text": [
      "Current loss: 5.051879694729101\n",
      "Current parameter:Params([Float32[-0.33183414; -0.14701286; -0.31124827; -0.6950345; -0.1864187; -0.6692055; -0.26313972; 0.51644385; -0.07913745; 0.3187402], Float32[0.10642864, -1.1259006, -1.0222807, 0.23608446, 0.1455992, -0.1941195, -0.67953724, 0.70793396, -0.2984622, 0.41778177], Float32[-0.3716463 -0.10535407 -0.5873246 -0.33564055 -0.29937187 -0.46684796 0.24389061 -0.5379253 -0.52265674 0.45062786; -0.33730894 0.2584345 -0.60018 -0.41712096 0.2054598 -0.08827849 -0.12006143 -0.51493627 0.60822964 0.22409834; 0.20447277 0.11606358 -0.34978488 -0.0014818959 0.124892995 0.5913508 0.007002129 0.2978599 -0.21345939 -0.23132743; 0.099777274 0.35123593 0.3892863 0.003189538 -0.56496567 -0.33070812 -0.039364506 0.6135223 -0.40521327 -0.23423837; 0.116786405 0.5819295 -0.2575639 0.043794297 -0.58416337 0.10152597 -0.4179504 0.0011524025 -0.36415815 0.030677924], Float32[0.35442054, -0.5086812, 0.62335473, 0.092710726, 0.06890271], Float32[0.7050656 0.5584592 -0.6080693 0.74513185 0.2791823; 0.27389383 0.3975363 0.5434864 -0.099488325 0.64695525; 0.2782061 0.67004955 -0.18035768 -0.7759979 -0.14639798; 0.69077945 -0.2883966 -0.23905404 0.56526136 -0.57067484; 0.63290364 -0.037677877 -0.17529057 -0.36483026 -0.16309974], Float32[-0.16418225, 1.1728303, 0.0035843276, -0.17470115, -0.84465027], Float32[-0.10665025 0.8572555 -0.7679784 0.79996055 0.36821926], Float32[0.009980053]])\n"
     ]
    },
    {
     "name": "stderr",
     "output_type": "stream",
     "text": [
      "┌ Info: Epoch 12\n",
      "└ @ Main /Users/facundosapienza/.julia/packages/Flux/goUGu/src/optimise/train.jl:136\n"
     ]
    },
    {
     "name": "stdout",
     "output_type": "stream",
     "text": [
      "Current loss: 4.9137915398753265\n",
      "Current parameter:Params([Float32[-0.33082747; -0.14803842; -0.3102681; -0.6940278; -0.18739678; -0.6700984; -0.2621652; 0.5174337; -0.08014139; 0.3177543], Float32[0.107421264, -1.1269099, -1.0213041, 0.23707569, 0.14461459, -0.19506355, -0.6785696, 0.70892084, -0.29945704, 0.41680127], Float32[-0.37258303 -0.10633367 -0.5883 -0.3365847 -0.2984136 -0.46782228 0.24291632 -0.5369481 -0.5236397 0.45159987; -0.33630097 0.25943598 -0.59917986 -0.41611028 0.20648912 -0.087267935 -0.11906112 -0.5159429 0.6092375 0.22309597; 0.20466812 0.116016395 -0.34976038 -0.0012881745 0.1251242 0.5914835 0.0070451517 0.2977879 -0.21347526 -0.2314137; 0.09883955 0.35027006 0.38832825 0.0022482548 -0.56592107 -0.33166233 -0.040320724 0.6144813 -0.40618274 -0.23328558; 0.117738925 0.5828939 -0.2566051 0.044750232 -0.58318865 0.10248838 -0.4169926 0.00018952822 -0.36318815 0.029720966], Float32[0.35539934, -0.5096774, 0.62347645, 0.093677044, 0.06794059], Float32[0.7040806 0.55943197 -0.60903525 0.74409926 0.2782595; 0.27491778 0.39850798 0.5444589 -0.098445415 0.6479488; 0.27721298 0.6691252 -0.18128107 -0.7770142 -0.14734817; 0.69175285 -0.28753302 -0.23812649 0.566257 -0.56975514; 0.6338995 -0.03675921 -0.17435393 -0.36381057 -0.16214702], Float32[-0.16516563, 1.1738528, 0.0025921685, -0.17372797, -0.8436554], Float32[-0.1056559 0.85824704 -0.76822597 0.80099547 0.3672323], Float32[0.010973502]])\n"
     ]
    },
    {
     "name": "stderr",
     "output_type": "stream",
     "text": [
      "┌ Info: Epoch 13\n",
      "└ @ Main /Users/facundosapienza/.julia/packages/Flux/goUGu/src/optimise/train.jl:136\n"
     ]
    },
    {
     "name": "stdout",
     "output_type": "stream",
     "text": [
      "Current loss: 4.779096039311697\n",
      "Current parameter:Params([Float32[-0.32981983; -0.1490666; -0.309292; -0.6930203; -0.18837148; -0.67096764; -0.26119646; 0.5184215; -0.08114586; 0.31677118], Float32[0.108412154, -1.1279191, -1.0203325, 0.23806481, 0.14363298, -0.19599587, -0.67760897, 0.7099048, -0.30045053, 0.41582483], Float32[-0.37350738 -0.10730937 -0.5892707 -0.337518 -0.2974631 -0.4687917 0.24194689 -0.5359752 -0.52461934 0.45256656; -0.33529216 0.2604372 -0.5981803 -0.41509822 0.20752297 -0.08625602 -0.11806134 -0.51695013 0.6102463 0.22209376; 0.20468675 0.11577936 -0.34992304 -0.0012733849 0.12516904 0.5914292 0.006901724 0.29790547 -0.21368581 -0.23131481; 0.09791404 0.34931108 0.38737848 0.0013185067 -0.5668675 -0.33260745 -0.041268323 0.6154321 -0.40714592 -0.23234205; 0.118680604 0.58385026 -0.25565553 0.045695968 -0.5822209 0.10344196 -0.41604424 -0.00076475076 -0.36222532 0.0287737], Float32[0.35637408, -0.5106724, 0.62378246, 0.09463659, 0.06698689], Float32[0.7030978 0.5604303 -0.60999626 0.74306124 0.2773515; 0.2759456 0.39946848 0.5454284 -0.09739558 0.6489391; 0.2762216 0.6682191 -0.18219376 -0.7780325 -0.14828734; 0.6927209 -0.2867005 -0.23720826 0.5672508 -0.56885195; 0.6348944 -0.035860587 -0.17342547 -0.3627881 -0.16120465], Float32[-0.16614641, 1.1748788, 0.0016019155, -0.17276022, -0.84266174], Float32[-0.104663156 0.85923696 -0.7686516 0.8020352 0.36624768], Float32[0.01196565]])\n"
     ]
    },
    {
     "name": "stderr",
     "output_type": "stream",
     "text": [
      "┌ Info: Epoch 14\n",
      "└ @ Main /Users/facundosapienza/.julia/packages/Flux/goUGu/src/optimise/train.jl:136\n"
     ]
    },
    {
     "name": "stdout",
     "output_type": "stream",
     "text": [
      "Current loss: 4.64771245941972\n",
      "Current parameter:Params([Float32[-0.32881126; -0.1500972; -0.30832028; -0.692012; -0.18934266; -0.6718105; -0.26023415; 0.5194069; -0.08215085; 0.3157911], Float32[0.10940106, -1.128928, -1.0193661, 0.23905154, 0.1426546, -0.19691536, -0.67665595, 0.7108855, -0.30144244, 0.41485283], Float32[-0.37441835 -0.10828087 -0.5902364 -0.33843964 -0.29652098 -0.46975583 0.2409827 -0.535007 -0.5255954 0.45352757; -0.3342826 0.26143798 -0.5971815 -0.41408488 0.2085615 -0.08524279 -0.11706228 -0.517958 0.611256 0.22109185; 0.20453575 0.11537759 -0.35025313 -0.0014302236 0.12503234 0.59120023 0.006590252 0.29819563 -0.21406679 -0.23104608; 0.09700173 0.34835958 0.3864377 0.0004012414 -0.567804 -0.3335427 -0.042206585 0.6163741 -0.40810224 -0.23140855; 0.119610265 0.5847976 -0.25471616 0.04663037 -0.58126116 0.10438569 -0.4151063 -0.0017094814 -0.3612705 0.027837152], Float32[0.35734448, -0.5116658, 0.6242444, 0.09558877, 0.06604245], Float32[0.7021173 0.5614512 -0.61095256 0.74201745 0.2764595; 0.27697736 0.4004144 0.546396 -0.096338645 0.6499251; 0.27523223 0.6673339 -0.18309699 -0.7790527 -0.14921422; 0.6936831 -0.28590277 -0.23629826 0.5682423 -0.5679668; 0.6358881 -0.03498522 -0.17250392 -0.36176288 -0.16027388], Float32[-0.16712458, 1.1759086, 0.00061383133, -0.17179832, -0.8416694], Float32[-0.103672326 0.8602251 -0.769222 0.80307984 0.36526558], Float32[0.012956379]])\n"
     ]
    },
    {
     "name": "stderr",
     "output_type": "stream",
     "text": [
      "┌ Info: Epoch 15\n",
      "└ @ Main /Users/facundosapienza/.julia/packages/Flux/goUGu/src/optimise/train.jl:136\n"
     ]
    },
    {
     "name": "stdout",
     "output_type": "stream",
     "text": [
      "Current loss: 4.51959263592965\n",
      "Current parameter:Params([Float32[-0.3278018; -0.15113004; -0.30735335; -0.6910031; -0.19031022; -0.6726244; -0.25927886; 0.52038985; -0.08315629; 0.3148143], Float32[0.11038772, -1.1299362, -1.0184058, 0.24003558, 0.14167973, -0.19782099, -0.6757113, 0.7118627, -0.30243254, 0.41388565], Float32[-0.375315 -0.10924787 -0.5911968 -0.33934882 -0.29558793 -0.47071436 0.24002409 -0.5340438 -0.5265677 0.4544825; -0.33327243 0.2624382 -0.59618366 -0.41307032 0.20960477 -0.08422833 -0.11606413 -0.51896626 0.6122665 0.22009043; 0.20422982 0.11483802 -0.35072687 -0.0017435397 0.124729 0.5908162 0.006133643 0.29863575 -0.2145909 -0.23062849; 0.096103586 0.34741616 0.38550657 -0.0005026293 -0.5687298 -0.33446738 -0.043134827 0.61730653 -0.40905115 -0.23048583; 0.12052677 0.58573514 -0.2537879 0.047552332 -0.58031034 0.105318576 -0.41417974 -0.0026437344 -0.36032447 0.026912307], Float32[0.35831022, -0.51265746, 0.62483454, 0.096533015, 0.06510813], Float32[0.70113903 0.56249243 -0.6119045 0.74096745 0.27558455; 0.27801302 0.40134162 0.54736334 -0.09527454 0.6509057; 0.27424514 0.66647255 -0.18399246 -0.7800746 -0.15012749; 0.694639 -0.28514364 -0.23539515 0.5692313 -0.5671012; 0.6368805 -0.034136627 -0.17158768 -0.36073497 -0.15935598], Float32[-0.16810018, 1.176942, -0.0003718004, -0.17084269, -0.8406785], Float32[-0.10268375 0.86121124 -0.76990813 0.80412924 0.3642861], Float32[0.013945572]])\n"
     ]
    },
    {
     "name": "stderr",
     "output_type": "stream",
     "text": [
      "┌ Info: Epoch 16\n",
      "└ @ Main /Users/facundosapienza/.julia/packages/Flux/goUGu/src/optimise/train.jl:136\n"
     ]
    },
    {
     "name": "stdout",
     "output_type": "stream",
     "text": [
      "Current loss: 4.394709143712847\n",
      "Current parameter:Params([Float32[-0.32679155; -0.15216485; -0.30639154; -0.68999356; -0.19127405; -0.67340684; -0.2583312; 0.5213701; -0.08416209; 0.31384104], Float32[0.11137184, -1.1309435, -1.0174518, 0.2410166, 0.14070868, -0.19871177, -0.67477554, 0.71283597, -0.30342057, 0.41292372], Float32[-0.37619644 -0.11021012 -0.59215146 -0.34024483 -0.29466456 -0.471667 0.23907137 -0.5330858 -0.5275359 0.455431; -0.33226177 0.26343766 -0.595187 -0.41205466 0.21065283 -0.08321275 -0.11506713 -0.5199749 0.6132777 0.2190897; 0.20378725 0.11418508 -0.3513211 -0.0021944717 0.124279186 0.59029895 0.0055547045 0.2992026 -0.21523286 -0.23008403; 0.09522051 0.34648138 0.3845857 -0.0013922332 -0.5696442 -0.3353807 -0.044052392 0.6182288 -0.40999207 -0.22957458; 0.121429 0.58666205 -0.2528717 0.048460774 -0.5793695 0.10623966 -0.41326547 -0.003566608 -0.35938808 0.026000122], Float32[0.35927102, -0.5136471, 0.6255291, 0.09746876, 0.06418471], Float32[0.7001628 0.5635522 -0.6128525 0.73991096 0.2747277; 0.27905253 0.40224522 0.54833204 -0.09420324 0.65187967; 0.27326065 0.6656382 -0.18488213 -0.781098 -0.15102574; 0.69558835 -0.28442696 -0.23449741 0.5702174 -0.5662564; 0.63787144 -0.033318657 -0.17067489 -0.35970443 -0.15845227], Float32[-0.16907325, 1.177979, -0.0013546749, -0.16989376, -0.8396893], Float32[-0.1016978 0.8621954 -0.7706866 0.80518335 0.36330932], Float32[0.014933116]])\n"
     ]
    },
    {
     "name": "stderr",
     "output_type": "stream",
     "text": [
      "┌ Info: Epoch 17\n",
      "└ @ Main /Users/facundosapienza/.julia/packages/Flux/goUGu/src/optimise/train.jl:136\n"
     ]
    },
    {
     "name": "stdout",
     "output_type": "stream",
     "text": [
      "Current loss: 4.273049305985978\n",
      "Current parameter:Params([Float32[-0.32578066; -0.15320137; -0.30543518; -0.6889837; -0.19223398; -0.67415535; -0.25739178; 0.52234745; -0.08516815; 0.3128716], Float32[0.11235309, -1.1319495, -1.0165045, 0.24199426, 0.13974172, -0.19958675, -0.6738494, 0.713805, -0.3044063, 0.4119675], Float32[-0.37706184 -0.111167364 -0.5931002 -0.34112698 -0.29375154 -0.4726134 0.23812485 -0.5321334 -0.52849984 0.45637283; -0.33125085 0.2644361 -0.5941918 -0.41103807 0.21170564 -0.0821962 -0.11407154 -0.52098364 0.61428946 0.21808991; 0.20322685 0.11343918 -0.35201544 -0.0027637377 0.123704076 0.5896692 0.0048737563 0.29987517 -0.21597134 -0.22943297; 0.09435338 0.3455558 0.38367575 -0.0022667402 -0.5705464 -0.336282 -0.044958647 0.61914027 -0.41092446 -0.22867545; 0.12231589 0.5875775 -0.25196835 0.04935466 -0.5784396 0.10714801 -0.41236436 -0.0044772294 -0.3584621 0.025101509], Float32[0.36022663, -0.5146343, 0.6263089, 0.09839548, 0.06327296], Float32[0.69918853 0.564629 -0.61379707 0.7388476 0.27389002; 0.2800958 0.40311947 0.5493039 -0.093124785 0.65284556; 0.27227905 0.6648342 -0.18576816 -0.7821226 -0.15190761; 0.69653064 -0.28375655 -0.2336035 0.5712002 -0.56543386; 0.63886076 -0.03253547 -0.16976358 -0.3586714 -0.15756406], Float32[-0.1700439, 1.1790195, -0.0023344662, -0.16895187, -0.83870196], Float32[-0.100714855 0.86317736 -0.7715396 0.806242 0.36233532], Float32[0.0159189]])\n"
     ]
    },
    {
     "name": "stderr",
     "output_type": "stream",
     "text": [
      "┌ Info: Epoch 18\n",
      "└ @ Main /Users/facundosapienza/.julia/packages/Flux/goUGu/src/optimise/train.jl:136\n"
     ]
    },
    {
     "name": "stdout",
     "output_type": "stream",
     "text": [
      "Current loss: 4.154604380595026\n",
      "Current parameter:Params([Float32[-0.32476932; -0.1542393; -0.30448467; -0.6879736; -0.1931899; -0.6748675; -0.25646117; 0.5233216; -0.08617431; 0.31190625], Float32[0.113331124, -1.1329539, -1.0155647, 0.24296817, 0.13877915, -0.20044509, -0.6729335, 0.7147695, -0.3053894, 0.41101733], Float32[-0.37791044 -0.11211938 -0.5940427 -0.3419947 -0.2928495 -0.47355333 0.23718478 -0.5311867 -0.52945936 0.45730764; -0.33023992 0.26543325 -0.59319836 -0.41002077 0.21276312 -0.081178874 -0.113077655 -0.5219923 0.6153016 0.21709134; 0.20256604 0.11261669 -0.35279295 -0.0034335621 0.1230233 0.58894527 0.004107882 0.3006357 -0.21678916 -0.22869273; 0.093503 0.34463996 0.38277727 -0.0031253672 -0.57143563 -0.33717066 -0.045853 0.62004036 -0.41184783 -0.2277891; 0.123186424 0.58848083 -0.2510787 0.050232988 -0.5775216 0.10804271 -0.41147727 -0.0053747585 -0.35754728 0.024217341], Float32[0.3611768, -0.51561886, 0.6271589, 0.09931265, 0.06237361], Float32[0.6982161 0.5657217 -0.61473864 0.7377771 0.27307248; 0.28114268 0.40395775 0.5502808 -0.09203925 0.65380186; 0.27130073 0.66406417 -0.18665272 -0.78314817 -0.15277165; 0.69746554 -0.28313616 -0.23271188 0.57217944 -0.5646348; 0.6398483 -0.031791545 -0.16885172 -0.35763597 -0.1566927], Float32[-0.17101222, 1.1800634, -0.0033108273, -0.16801739, -0.8377166], Float32[-0.09973532 0.8641571 -0.7724537 0.807305 0.36136422], Float32[0.016902814]])\n"
     ]
    },
    {
     "name": "stderr",
     "output_type": "stream",
     "text": [
      "┌ Info: Epoch 19\n",
      "└ @ Main /Users/facundosapienza/.julia/packages/Flux/goUGu/src/optimise/train.jl:136\n"
     ]
    },
    {
     "name": "stdout",
     "output_type": "stream",
     "text": [
      "Current loss: 4.039366813704587\n",
      "Current parameter:Params([Float32[-0.32375777; -0.15527828; -0.30354035; -0.6869636; -0.19414166; -0.6755411; -0.25553998; 0.52429235; -0.087180376; 0.3109453], Float32[0.11430558, -1.1339562, -1.0146326, 0.24393794, 0.13782129, -0.20128597, -0.6720284, 0.715729, -0.30636957, 0.4100737], Float32[-0.37874153 -0.11306596 -0.5949788 -0.34284744 -0.29195917 -0.47448656 0.2362514 -0.53024596 -0.5304142 0.45823517; -0.32922927 0.26642886 -0.59220695 -0.409003 0.2138251 -0.08016103 -0.112085804 -0.52300066 0.61631393 0.2160943; 0.20182008 0.11173056 -0.35363984 -0.0041884785 0.12225385 0.5881424 0.0032710435 0.3014696 -0.21767278 -0.22787774; 0.09267013 0.34373432 0.38189083 -0.003967382 -0.57231116 -0.33804598 -0.04673489 0.62092847 -0.41276163 -0.22691612; 0.12403962 0.58937126 -0.25020352 0.0510948 -0.5766166 0.108922884 -0.41060495 -0.006258391 -0.35664436 0.023348443], Float32[0.3621213, -0.5166004, 0.6280672, 0.10021978, 0.06148734], Float32[0.69724524 0.5668292 -0.6156778 0.73669916 0.2722761; 0.28219306 0.40475243 0.5512646 -0.09094675 0.65474707; 0.27032605 0.66333187 -0.18753797 -0.78417426 -0.15361646; 0.6983927 -0.28256938 -0.23182106 0.5731548 -0.56386036; 0.64083385 -0.03109164 -0.16793731 -0.35659835 -0.1558395], Float32[-0.17197837, 1.1811105, -0.0042833923, -0.16709065, -0.8367334], Float32[-0.0987596 0.8651344 -0.7734187 0.8083722 0.36039606], Float32[0.017884756]])\n"
     ]
    },
    {
     "name": "stderr",
     "output_type": "stream",
     "text": [
      "┌ Info: Epoch 20\n",
      "└ @ Main /Users/facundosapienza/.julia/packages/Flux/goUGu/src/optimise/train.jl:136\n"
     ]
    },
    {
     "name": "stdout",
     "output_type": "stream",
     "text": [
      "Current loss: 3.9273258421336874\n",
      "Current parameter:Params([Float32[-0.32274628; -0.15631793; -0.30260262; -0.68595403; -0.19508907; -0.67617404; -0.25462878; 0.5252594; -0.088186115; 0.30998906], Float32[0.11527604, -1.134956, -1.0137087, 0.24490312, 0.13686845, -0.2021087, -0.67113477, 0.71668315, -0.3073465, 0.40913704], Float32[-0.3795545 -0.11400693 -0.5959083 -0.34368473 -0.2910811 -0.4754129 0.23532493 -0.5293114 -0.53136426 0.45915523; -0.32821923 0.26742262 -0.591218 -0.40798506 0.21489139 -0.07914294 -0.11109636 -0.5240084 0.6173262 0.21509914; 0.20100187 0.11079101 -0.35454506 -0.005015446 0.12140986 0.58727306 0.0023745294 0.30236515 -0.21861155 -0.22699982; 0.09185546 0.34283942 0.38101694 -0.004792108 -0.5731724 -0.33890742 -0.0476038 0.6218041 -0.41366538 -0.22605705; 0.12487457 0.5902481 -0.24934353 0.051939186 -0.57572544 0.1097877 -0.40974814 -0.0071273623 -0.35575405 0.022495592], Float32[0.36306, -0.5175784, 0.6290245, 0.10111641, 0.06061479], Float32[0.6962759 0.56795067 -0.61661506 0.7356136 0.27150187; 0.2832468 0.4054949 0.5522569 -0.089847416 0.6556796; 0.2693554 0.66264117 -0.18842599 -0.7852005 -0.15444063; 0.69931185 -0.28205967 -0.23092966 0.57412595 -0.56311166; 0.6418173 -0.030440774 -0.16701846 -0.35555863 -0.15500581], Float32[-0.17294247, 1.1821607, -0.005251778, -0.16617197, -0.83575255], Float32[-0.097788125 0.86610925 -0.7744268 0.8094434 0.3594309], Float32[0.018864624]])\n"
     ]
    },
    {
     "name": "stderr",
     "output_type": "stream",
     "text": [
      "┌ Info: Epoch 21\n",
      "└ @ Main /Users/facundosapienza/.julia/packages/Flux/goUGu/src/optimise/train.jl:136\n"
     ]
    },
    {
     "name": "stdout",
     "output_type": "stream",
     "text": [
      "Current loss: 3.8184680949824013\n",
      "Current parameter:Params([Float32[-0.32173517; -0.15735781; -0.3016719; -0.6849452; -0.19603196; -0.6767644; -0.25372812; 0.52622247; -0.08919125; 0.3090379], Float32[0.11624207, -1.1359528, -1.0127935, 0.24586324, 0.13592094, -0.20291261, -0.6702531, 0.71763164, -0.30831978, 0.40820777], Float32[-0.3803488 -0.114942126 -0.5968309 -0.3445062 -0.290216 -0.4763322 0.23440556 -0.5283832 -0.5323094 0.4600676; -0.3272102 0.26841414 -0.5902319 -0.40696734 0.21596171 -0.07812497 -0.11010972 -0.5250152 0.6183381 0.21410628; 0.2001222 0.10980618 -0.35549968 -0.0059036342 0.12050292 0.5863475 0.0014274633 0.3033129 -0.21959704 -0.22606857; 0.09105963 0.34195566 0.38015604 -0.005598929 -0.5740186 -0.3397544 -0.048459254 0.6226668 -0.41455868 -0.2252124; 0.12569042 0.59111077 -0.2484994 0.052765295 -0.57484907 0.110636376 -0.4089075 -0.007980957 -0.354877 0.021659503], Float32[0.36399266, -0.51855266, 0.6300234, 0.10200212, 0.05975655], Float32[0.6953078 0.56908536 -0.617551 0.73452014 0.2707508; 0.2843037 0.4061756 0.5532593 -0.088741414 0.65659773; 0.26838914 0.6619962 -0.18931867 -0.7862264 -0.15524274; 0.7002227 -0.28161022 -0.23003644 0.5750925 -0.5623897; 0.6427984 -0.029844167 -0.16609338 -0.35451704 -0.15419294], Float32[-0.1739047, 1.1832138, -0.006215585, -0.16526163, -0.83477414], Float32[-0.09682134 0.8670815 -0.775472 0.8105184 0.35846883], Float32[0.019842327]])\n"
     ]
    },
    {
     "name": "stderr",
     "output_type": "stream",
     "text": [
      "┌ Info: Epoch 22\n",
      "└ @ Main /Users/facundosapienza/.julia/packages/Flux/goUGu/src/optimise/train.jl:136\n"
     ]
    },
    {
     "name": "stdout",
     "output_type": "stream",
     "text": [
      "Current loss: 3.7127759760448122\n",
      "Current parameter:Params([Float32[-0.32072484; -0.15839744; -0.3007486; -0.68393755; -0.19697009; -0.67731065; -0.2528386; 0.52718127; -0.09019547; 0.30809215], Float32[0.11720323, -1.1369462, -1.0118877, 0.24681783, 0.1349791, -0.20369719, -0.6693839, 0.71857405, -0.3092891, 0.40728635], Float32[-0.38112393 -0.11587141 -0.59774655 -0.34531152 -0.2893645 -0.47724426 0.23349345 -0.5274614 -0.5332495 0.4609721; -0.3262026 0.26940304 -0.5892491 -0.40595025 0.21703571 -0.077107504 -0.109126315 -0.5260206 0.6193493 0.21311612; 0.19919004 0.1087826 -0.35649648 -0.006844093 0.11954241 0.585374 0.00043726494 0.30430517 -0.22062252 -0.22509183; 0.09028321 0.34108347 0.37930858 -0.0063872896 -0.5748492 -0.34058645 -0.049300823 0.62351596 -0.41544107 -0.22438261; 0.12648638 0.59195864 -0.24767172 0.05357234 -0.57398844 0.111468166 -0.40808368 -0.008818512 -0.35401383 0.020840827], Float32[0.36491916, -0.5195226, 0.631058, 0.10287651, 0.05891316], Float32[0.69434077 0.5702326 -0.6184862 0.73341864 0.27002382; 0.2853636 0.40678415 0.55427325 -0.08762892 0.6574998; 0.26742774 0.66140103 -0.19021776 -0.7872515 -0.15602146; 0.7011249 -0.28122386 -0.22914027 0.57605416 -0.5616953; 0.6437772 -0.029307159 -0.16516045 -0.35347375 -0.15340215], Float32[-0.17486525, 1.1842697, -0.007174402, -0.16435988, -0.83379835], Float32[-0.09585968 0.8680511 -0.7765495 0.81159693 0.35750988], Float32[0.020817773]])\n"
     ]
    },
    {
     "name": "stderr",
     "output_type": "stream",
     "text": [
      "┌ Info: Epoch 23\n",
      "└ @ Main /Users/facundosapienza/.julia/packages/Flux/goUGu/src/optimise/train.jl:136\n"
     ]
    },
    {
     "name": "stdout",
     "output_type": "stream",
     "text": [
      "Current loss: 3.6102280912288762\n",
      "Current parameter:Params([Float32[-0.31971574; -0.1594363; -0.29983315; -0.68293154; -0.19790325; -0.67781126; -0.2519608; 0.5281354; -0.09119841; 0.3071522], Float32[0.11815902, -1.1379356, -1.0109915, 0.24776635, 0.13404325, -0.20446196, -0.6685277, 0.71950996, -0.31025404, 0.4063732], Float32[-0.38187948 -0.116794646 -0.59865505 -0.3461004 -0.2885272 -0.478149 0.23258872 -0.5265462 -0.53418446 0.4618686; -0.32519698 0.2703889 -0.58827 -0.40493423 0.21811298 -0.076091 -0.10814662 -0.5270242 0.6203594 0.21212918; 0.19821282 0.10772559 -0.3575295 -0.007829409 0.118536 0.58435935 -0.0005899708 0.3053357 -0.22168253 -0.22407606; 0.089526676 0.3402232 0.37847492 -0.0071567036 -0.5756637 -0.3414031 -0.050128125 0.6243513 -0.41631216 -0.2235681; 0.12726176 0.5927912 -0.24686106 0.054359622 -0.5731444 0.1122824 -0.40727723 -0.009639426 -0.35316512 0.020040149], Float32[0.36583936, -0.5204878, 0.63212323, 0.10373921, 0.058085095], Float32[0.6933746 0.57139194 -0.61942124 0.732309 0.26932195; 0.2864264 0.40730953 0.5552998 -0.08651014 0.658384; 0.26647162 0.66085976 -0.1911248 -0.78827524 -0.15677549; 0.7020184 -0.28090307 -0.22824016 0.57701063 -0.5610292; 0.6447534 -0.028835109 -0.1642182 -0.35242894 -0.15263471], Float32[-0.17582427, 1.1853281, -0.008127807, -0.16346696, -0.8328253], Float32[-0.0949036 0.86901796 -0.77765554 0.8126788 0.35655412], Float32[0.021790879]])\n"
     ]
    },
    {
     "name": "stderr",
     "output_type": "stream",
     "text": [
      "┌ Info: Epoch 24\n",
      "└ @ Main /Users/facundosapienza/.julia/packages/Flux/goUGu/src/optimise/train.jl:136\n"
     ]
    },
    {
     "name": "stdout",
     "output_type": "stream",
     "text": [
      "Current loss: 3.5107996856204937\n",
      "Current parameter:Params([Float32[-0.31870833; -0.16047382; -0.29892606; -0.68192774; -0.19883114; -0.6782653; -0.2510953; 0.5290846; -0.09219965; 0.30621848], Float32[0.119108945, -1.1389207, -1.0101054, 0.24870825, 0.13311371, -0.20520659, -0.6676851, 0.7204391, -0.31121418, 0.4054688], Float32[-0.38261506 -0.11771175 -0.5995563 -0.3468726 -0.28770474 -0.4790463 0.23169151 -0.5256376 -0.53511417 0.462757; -0.32419387 0.27137125 -0.5872952 -0.40391985 0.21919303 -0.075075954 -0.107171156 -0.52802557 0.62136805 0.21114594; 0.19719678 0.106639564 -0.3585938 -0.008853405 0.117489964 0.5833091 -0.0016491748 0.30639935 -0.2227726 -0.22302662; 0.088790454 0.3393752 0.37765542 -0.007906752 -0.5764615 -0.34220394 -0.050940827 0.6251725 -0.4171716 -0.2227692; 0.12801595 0.59360796 -0.24606785 0.055126514 -0.57231766 0.11307849 -0.4064886 -0.010443168 -0.3523314 0.01925797], Float32[0.36675316, -0.5214477, 0.6332152, 0.10458992, 0.05727277], Float32[0.69240904 0.5725629 -0.6203566 0.731191 0.26864615; 0.28749186 0.40774056 0.5563401 -0.08538528 0.6592486; 0.2655212 0.66037637 -0.1920411 -0.7892971 -0.15750358; 0.7029028 -0.28064987 -0.22733529 0.5779616 -0.56039214; 0.6457269 -0.02843327 -0.16326536 -0.3513828 -0.15189181], Float32[-0.176782, 1.1863891, -0.009075367, -0.16258308, -0.8318551], Float32[-0.09395359 0.86998194 -0.77878696 0.8137638 0.3556016], Float32[0.022761568]])\n"
     ]
    },
    {
     "name": "stderr",
     "output_type": "stream",
     "text": [
      "┌ Info: Epoch 25\n",
      "└ @ Main /Users/facundosapienza/.julia/packages/Flux/goUGu/src/optimise/train.jl:136\n"
     ]
    },
    {
     "name": "stdout",
     "output_type": "stream",
     "text": [
      "Current loss: 3.4144622545988565\n",
      "Current parameter:Params([Float32[-0.31770316; -0.16150941; -0.29802775; -0.68092674; -0.19975346; -0.67867184; -0.2502426; 0.53002846; -0.09319875; 0.30529138], Float32[0.12005248, -1.1399007, -1.0092298, 0.24964297, 0.13219085, -0.20593083, -0.6668564, 0.7213609, -0.3121691, 0.40457353], Float32[-0.3833304 -0.118622646 -0.6004503 -0.347628 -0.28689772 -0.47993606 0.2308019 -0.5247358 -0.5360386 0.46363717; -0.32319388 0.2723496 -0.58632517 -0.40290767 0.22027533 -0.07406293 -0.106200464 -0.5290242 0.6223747 0.21016698; 0.1961472 0.10552824 -0.3596852 -0.009910881 0.11640949 0.58222806 -0.002736072 0.30749178 -0.22388898 -0.22194801; 0.088074885 0.33853975 0.37685034 -0.008637085 -0.5772422 -0.34298867 -0.051738646 0.6259792 -0.41801906 -0.22198622; 0.12874845 0.5944085 -0.24529251 0.05587249 -0.571509 0.11385591 -0.40571818 -0.011229279 -0.35151312 0.018494712], Float32[0.36766046, -0.52240187, 0.63433033, 0.105428346, 0.056476533], Float32[0.6914439 0.573745 -0.62129295 0.73006463 0.2679974; 0.28855982 0.4080665 0.5573949 -0.08425457 0.66009164; 0.26457694 0.65995467 -0.19296777 -0.79031646 -0.15820456; 0.703778 -0.28046578 -0.22642493 0.57890683 -0.5597846; 0.64669764 -0.028106637 -0.16230083 -0.35033554 -0.1511746], Float32[-0.17773862, 1.1874522, -0.010016646, -0.16170844, -0.8308879], Float32[-0.093010105 0.87094307 -0.7799412 0.8148517 0.3546524], Float32[0.02372977]])\n"
     ]
    },
    {
     "name": "stderr",
     "output_type": "stream",
     "text": [
      "┌ Info: Epoch 26\n",
      "└ @ Main /Users/facundosapienza/.julia/packages/Flux/goUGu/src/optimise/train.jl:136\n"
     ]
    },
    {
     "name": "stdout",
     "output_type": "stream",
     "text": [
      "Current loss: 3.321184810173013\n",
      "Current parameter:Params([Float32[-0.31670085; -0.16254242; -0.29713875; -0.67992914; -0.20066987; -0.6790306; -0.24940321; 0.5309665; -0.09419517; 0.3043714], Float32[0.12098907, -1.1408751, -1.0083653, 0.2505699, 0.131275, -0.20663455, -0.66604215, 0.72227514, -0.3131184, 0.40368786], Float32[-0.38402528 -0.11952726 -0.60133684 -0.34836647 -0.28610674 -0.4808183 0.22991994 -0.5238408 -0.5369577 0.46450907; -0.3221977 0.27332345 -0.5853605 -0.40189832 0.22135924 -0.073052526 -0.10523512 -0.5300194 0.6233789 0.2091929; 0.19506857 0.10439479 -0.36080018 -0.010997413 0.115298934 0.5811202 -0.003847004 0.3086093 -0.22502849 -0.22084412; 0.08738024 0.33771712 0.37605992 -0.009347424 -0.57800543 -0.34375694 -0.052521355 0.6267711 -0.41885427 -0.22121939; 0.12945886 0.59519255 -0.24453536 0.056597125 -0.570719 0.11461424 -0.4049663 -0.011997387 -0.35071066 0.017750707], Float32[0.36856118, -0.52334976, 0.6354657, 0.10625426, 0.05569666], Float32[0.690479 0.574938 -0.62223077 0.7289298 0.2673767; 0.28963012 0.40827775 0.5584649 -0.08311827 0.6609114; 0.2636393 0.6595982 -0.19390571 -0.7913327 -0.15887736; 0.70464385 -0.2803518 -0.22550851 0.57984596 -0.559207; 0.6476655 -0.027859777 -0.16132365 -0.34928733 -0.15048417], Float32[-0.17869435, 1.1885175, -0.010951205, -0.1608432, -0.8299238], Float32[-0.09207365 0.8719013 -0.78111607 0.8159422 0.35370654], Float32[0.024695417]])\n"
     ]
    },
    {
     "name": "stderr",
     "output_type": "stream",
     "text": [
      "┌ Info: Epoch 27\n",
      "└ @ Main /Users/facundosapienza/.julia/packages/Flux/goUGu/src/optimise/train.jl:136\n"
     ]
    },
    {
     "name": "stdout",
     "output_type": "stream",
     "text": [
      "Current loss: 3.2309324575755225\n",
      "Current parameter:Params([Float32[-0.31570202; -0.16357216; -0.29625955; -0.67893565; -0.20157997; -0.67934144; -0.24857767; 0.5318983; -0.09518839; 0.303459], Float32[0.12191814, -1.1418432, -1.0075122, 0.25148845, 0.13036649, -0.20731774, -0.6652427, 0.72318137, -0.31406158, 0.4028122], Float32[-0.38469946 -0.120425545 -0.60221595 -0.34908798 -0.28533235 -0.48169294 0.22904569 -0.52295256 -0.5378714 0.46537265; -0.32120603 0.2742922 -0.58440185 -0.40089253 0.22244409 -0.072045416 -0.10427575 -0.5310107 0.62438005 0.20822434; 0.19396476 0.10324198 -0.3619356 -0.012109187 0.11416199 0.5799889 -0.004978792 0.30974874 -0.22618838 -0.21971829; 0.086706705 0.3369075 0.37528437 -0.010037562 -0.57875085 -0.34450856 -0.053288773 0.627548 -0.419677 -0.2204689; 0.13014689 0.59595984 -0.24379659 0.057300102 -0.5699482 0.11535314 -0.40423316 -0.012747201 -0.34992433 0.017026193], Float32[0.36945528, -0.5242908, 0.6366186, 0.10706746, 0.054933354], Float32[0.6895139 0.5761416 -0.6231706 0.7277865 0.26678494; 0.29070252 0.40836653 0.5595504 -0.08197662 0.6617059; 0.26270872 0.65931 -0.19485559 -0.7923453 -0.15952104; 0.7055002 -0.28030837 -0.22458556 0.5807788 -0.5586597; 0.6486304 -0.027696665 -0.1603331 -0.3482384 -0.14982156], Float32[-0.17964941, 1.1895845, -0.011878603, -0.15998746, -0.82896286], Float32[-0.09114472 0.87285644 -0.78230965 0.81703514 0.35276407], Float32[0.025658455]])\n"
     ]
    },
    {
     "name": "stderr",
     "output_type": "stream",
     "text": [
      "┌ Info: Epoch 28\n",
      "└ @ Main /Users/facundosapienza/.julia/packages/Flux/goUGu/src/optimise/train.jl:136\n"
     ]
    },
    {
     "name": "stdout",
     "output_type": "stream",
     "text": [
      "Current loss: 3.1436677171029825\n",
      "Current parameter:Params([Float32[-0.3147074; -0.16459794; -0.2953907; -0.67794704; -0.20248336; -0.6796046; -0.24776645; 0.53282344; -0.09617778; 0.30255467], Float32[0.12283912, -1.1428045, -1.0066711, 0.25239795, 0.12946567, -0.20798047, -0.6644583, 0.7240792, -0.3149982, 0.401947], Float32[-0.38535288 -0.121317476 -0.60308754 -0.3497925 -0.28457513 -0.48255998 0.22817917 -0.5220712 -0.53877974 0.4662279; -0.32021964 0.2752553 -0.5834498 -0.39989102 0.22352912 -0.07104231 -0.10332298 -0.5319974 0.62537766 0.20726196; 0.1928392 0.10207225 -0.3630887 -0.013242871 0.11300186 0.5788372 -0.006128633 0.3109073 -0.22736624 -0.21857348; 0.08605441 0.3361111 0.3745238 -0.010707361 -0.57947814 -0.34524333 -0.05404077 0.6283097 -0.42048702 -0.21973486; 0.13081238 0.5967102 -0.24307635 0.05798122 -0.569197 0.11607237 -0.4035189 -0.013478526 -0.34915435 0.016321314], Float32[0.3703427, -0.5252244, 0.63778687, 0.10786779, 0.054186746], Float32[0.68854856 0.5773555 -0.624113 0.7266346 0.2662231; 0.29177684 0.40832776 0.56065184 -0.08082992 0.66247344; 0.26178566 0.65909266 -0.19581787 -0.79335344 -0.16013475; 0.7063469 -0.28033543 -0.22365575 0.58170503 -0.5581427; 0.6495922 -0.027620517 -0.15932855 -0.34718895 -0.14918773], Float32[-0.18060404, 1.1906533, -0.012798403, -0.15914138, -0.82800514], Float32[-0.09022383 0.87380856 -0.78352034 0.81813025 0.35182503], Float32[0.02661883]])\n"
     ]
    },
    {
     "name": "stderr",
     "output_type": "stream",
     "text": [
      "┌ Info: Epoch 29\n",
      "└ @ Main /Users/facundosapienza/.julia/packages/Flux/goUGu/src/optimise/train.jl:136\n"
     ]
    },
    {
     "name": "stdout",
     "output_type": "stream",
     "text": [
      "Current loss: 3.05934960733626\n",
      "Current parameter:Params([Float32[-0.31371772; -0.16561905; -0.29453272; -0.67696416; -0.20337954; -0.6798207; -0.24697; 0.5337414; -0.0971627; 0.30165896], Float32[0.1237514, -1.1437584, -1.0058422, 0.25329778, 0.1285729, -0.20862293, -0.6636893, 0.72496825, -0.3159278, 0.40109265], Float32[-0.38598543 -0.12220304 -0.6039517 -0.35048008 -0.28383562 -0.48341945 0.22732039 -0.52119666 -0.5396827 0.46707475; -0.31923932 0.27621213 -0.582505 -0.3988946 0.2246135 -0.07004395 -0.10237749 -0.53297883 0.626371 0.20630647; 0.19169492 0.10088778 -0.36425707 -0.01439551 0.11182133 0.57766783 -0.007294019 0.3120825 -0.2285599 -0.21741232; 0.08542339 0.335328 0.37377828 -0.011356751 -0.58018714 -0.34596115 -0.054777272 0.6290562 -0.42128423 -0.21901736; 0.13145526 0.5974436 -0.24237469 0.05864039 -0.5684657 0.11677181 -0.40282354 -0.01419126 -0.3484009 0.015636116], Float32[0.37122345, -0.52615, 0.6389682, 0.10865514, 0.053456888], Float32[0.6875827 0.57857955 -0.6250586 0.72547424 0.2656921; 0.29285285 0.40815938 0.5617693 -0.079678446 0.66321206; 0.26087058 0.65894824 -0.19679286 -0.7943566 -0.16071777; 0.70718396 -0.28043234 -0.22271879 0.58262455 -0.5576563; 0.6505509 -0.027633648 -0.15830958 -0.34613913 -0.14858353], Float32[-0.18155846, 1.1917236, -0.013710173, -0.158305, -0.82705075], Float32[-0.08931149 0.87475765 -0.78474665 0.8192273 0.35088947], Float32[0.027576502]])\n"
     ]
    },
    {
     "name": "stderr",
     "output_type": "stream",
     "text": [
      "┌ Info: Epoch 30\n",
      "└ @ Main /Users/facundosapienza/.julia/packages/Flux/goUGu/src/optimise/train.jl:136\n"
     ]
    },
    {
     "name": "stdout",
     "output_type": "stream",
     "text": [
      "Current loss: 2.977933531235731\n",
      "Current parameter:Params([Float32[-0.3127338; -0.16663471; -0.29368618; -0.6759878; -0.20426802; -0.6799907; -0.24618874; 0.53465176; -0.09814247; 0.30077237], Float32[0.124654375, -1.1447042, -1.005026, 0.25418726, 0.12768851, -0.20924544, -0.66293603, 0.7258482, -0.3168499, 0.40024954], Float32[-0.3865971 -0.12308222 -0.60480833 -0.35115078 -0.2831143 -0.48427135 0.22646934 -0.52032894 -0.5405803 0.46791327; -0.31826591 0.27716205 -0.5815682 -0.39790413 0.22569638 -0.06905115 -0.10143995 -0.53395426 0.6273595 0.20535861; 0.19053462 0.09969058 -0.36543846 -0.015564453 0.1106229 0.57648313 -0.008472676 0.3132721 -0.2297674 -0.21623719; 0.084813625 0.33455834 0.37304792 -0.01198573 -0.58087766 -0.34666193 -0.055498242 0.6297874 -0.42206848 -0.21831642; 0.13207561 0.59815997 -0.24169156 0.05927765 -0.5677545 0.11745143 -0.40214705 -0.014885395 -0.347664 0.0149705475], Float32[0.3720975, -0.527067, 0.64016086, 0.10942943, 0.05274375], Float32[0.686616 0.57981354 -0.6260078 0.72430533 0.26519296; 0.29393035 0.40786248 0.56290287 -0.078522526 0.66392; 0.2599639 0.658878 -0.19778067 -0.795354 -0.16126952; 0.7080112 -0.28059804 -0.22177455 0.5835371 -0.55720025; 0.65150636 -0.02773738 -0.15727587 -0.34508917 -0.14800978], Float32[-0.18251291, 1.192795, -0.01461349, -0.1574784, -0.82609975], Float32[-0.08840825 0.87570363 -0.78598726 0.82032603 0.34995744], Float32[0.028531432]])\n"
     ]
    },
    {
     "name": "stderr",
     "output_type": "stream",
     "text": [
      "┌ Info: Epoch 31\n",
      "└ @ Main /Users/facundosapienza/.julia/packages/Flux/goUGu/src/optimise/train.jl:136\n"
     ]
    },
    {
     "name": "stdout",
     "output_type": "stream",
     "text": [
      "Current loss: 2.8993719462850454\n",
      "Current parameter:Params([Float32[-0.31175646; -0.16764419; -0.29285163; -0.6750188; -0.20514826; -0.6801158; -0.24542305; 0.5355539; -0.09911635; 0.2998955], Float32[0.12554742, -1.1456414, -1.0042229, 0.25506574, 0.12681286, -0.2098484, -0.66219866, 0.7267186, -0.31776398, 0.3994181], Float32[-0.3871879 -0.12395504 -0.6056575 -0.35180473 -0.28241172 -0.4851157 0.225626 -0.519468 -0.54147243 0.46874347; -0.31730035 0.27810442 -0.58064 -0.39692044 0.22677682 -0.06806472 -0.10051108 -0.53492296 0.62834245 0.2044191; 0.18936081 0.098482475 -0.36663085 -0.016747285 0.1094088 0.5752853 -0.0096625155 0.31447402 -0.23098695 -0.21505027; 0.08422503 0.3338021 0.37233266 -0.012594358 -0.58154964 -0.34734562 -0.0562037 0.63050324 -0.42283967 -0.21763201; 0.1326736 0.59885937 -0.24102683 0.059893146 -0.5670634 0.11811131 -0.4014893 -0.015561022 -0.34694365 0.014324461], Float32[0.37296483, -0.52797484, 0.6413629, 0.110190615, 0.05204724], Float32[0.6856483 0.58105737 -0.62696123 0.72312796 0.26472652; 0.29500908 0.4074412 0.5640524 -0.07736248 0.6645954; 0.25906605 0.65888274 -0.19878125 -0.7963451 -0.16178955; 0.7088286 -0.28083095 -0.22082295 0.5844425 -0.5567745; 0.6524586 -0.027931977 -0.15622725 -0.34403923 -0.14746717], Float32[-0.18346763, 1.1938676, -0.015507944, -0.15666163, -0.82515216], Float32[-0.08751465 0.8766465 -0.78724104 0.8214263 0.34902894], Float32[0.02948359]])\n"
     ]
    },
    {
     "name": "stderr",
     "output_type": "stream",
     "text": [
      "┌ Info: Epoch 32\n",
      "└ @ Main /Users/facundosapienza/.julia/packages/Flux/goUGu/src/optimise/train.jl:136\n"
     ]
    },
    {
     "name": "stdout",
     "output_type": "stream",
     "text": [
      "Current loss: 2.8236130203950025\n",
      "Current parameter:Params([Float32[-0.31078658; -0.16864671; -0.2920296; -0.67405814; -0.20601968; -0.68019754; -0.24467325; 0.5364472; -0.10008359; 0.29902887], Float32[0.12642993, -1.1465694, -1.0034331, 0.25593257, 0.12594628, -0.2104323, -0.6614773, 0.7275791, -0.3186696, 0.39859867], Float32[-0.38775787 -0.12482152 -0.60649925 -0.3524421 -0.2817283 -0.48595256 0.22479033 -0.5186138 -0.5423593 0.46956542; -0.3163435 0.27903858 -0.5797212 -0.39594445 0.22785385 -0.06708553 -0.09959159 -0.53588414 0.62931913 0.20348874; 0.18817578 0.09726519 -0.36783233 -0.017941784 0.10818111 0.5740765 -0.010861598 0.3156864 -0.23221688 -0.21385358; 0.08365745 0.3330593 0.37163246 -0.013182755 -0.58220303 -0.3480123 -0.056893703 0.6312038 -0.4235978 -0.21696407; 0.13324955 0.599542 -0.2403803 0.060487144 -0.5663923 0.11875165 -0.40085 -0.016218323 -0.34623972 0.013697618], Float32[0.3738255, -0.52887285, 0.6425727, 0.110938706, 0.05136719], Float32[0.6846793 0.5823109 -0.6279194 0.7219421 0.26429373; 0.2960888 0.406902 0.5652177 -0.07619865 0.66523665; 0.25817743 0.65896225 -0.19979441 -0.79732925 -0.16227756; 0.7096363 -0.2811291 -0.21986398 0.5853406 -0.55637884; 0.6534075 -0.02821667 -0.15516365 -0.34298947 -0.14695632], Float32[-0.18442284, 1.1949408, -0.01639314, -0.15585469, -0.8242081], Float32[-0.086631246 0.87758625 -0.78850687 0.82252777 0.34810403], Float32[0.030432954]])\n"
     ]
    },
    {
     "name": "stderr",
     "output_type": "stream",
     "text": [
      "┌ Info: Epoch 33\n",
      "└ @ Main /Users/facundosapienza/.julia/packages/Flux/goUGu/src/optimise/train.jl:136\n"
     ]
    },
    {
     "name": "stdout",
     "output_type": "stream",
     "text": [
      "Current loss: 2.7506000519516793\n",
      "Current parameter:Params([Float32[-0.30982503; -0.16964151; -0.29122064; -0.67310673; -0.20688169; -0.6802376; -0.24393965; 0.5373313; -0.10104341; 0.2981731], Float32[0.12730129, -1.1474875, -1.002657, 0.25678706, 0.12508912, -0.21099775, -0.66077214, 0.72842944, -0.31956625, 0.39779165], Float32[-0.38830712 -0.1256817 -0.6073336 -0.353063 -0.28106445 -0.48678198 0.22396229 -0.5177663 -0.54324085 0.47037914; -0.31539628 0.27996385 -0.5788124 -0.3949771 0.22892644 -0.066114455 -0.098682195 -0.53683704 0.6302888 0.20256828; 0.18698165 0.096040346 -0.36904112 -0.019145884 0.10694174 0.57285845 -0.012068107 0.31690744 -0.23345558 -0.21264902; 0.083110675 0.33232996 0.37094724 -0.013751099 -0.5828379 -0.34866205 -0.05756835 0.63188905 -0.42434287 -0.21631245; 0.13380384 0.6002081 -0.23975167 0.06106002 -0.56574094 0.119372725 -0.4002289 -0.016857572 -0.34555203 0.013089689], Float32[0.37467948, -0.5297605, 0.6437887, 0.11167373, 0.050703354], Float32[0.68370885 0.58357406 -0.62888277 0.72074795 0.2638955; 0.2971693 0.406253 0.56639844 -0.07503141 0.66584206; 0.25729844 0.65911585 -0.20081984 -0.79830575 -0.16273339; 0.7104341 -0.2814902 -0.21889772 0.5862313 -0.55601287; 0.65435314 -0.028589696 -0.1540851 -0.34194008 -0.14647779], Float32[-0.18537876, 1.1960146, -0.017268704, -0.15505758, -0.82326746], Float32[-0.08575862 0.8785229 -0.7897837 0.82363033 0.34718275], Float32[0.03137951]])\n"
     ]
    },
    {
     "name": "stderr",
     "output_type": "stream",
     "text": [
      "┌ Info: Epoch 34\n",
      "└ @ Main /Users/facundosapienza/.julia/packages/Flux/goUGu/src/optimise/train.jl:136\n"
     ]
    },
    {
     "name": "stdout",
     "output_type": "stream",
     "text": [
      "Current loss: 2.6802723922752194\n",
      "Current parameter:Params([Float32[-0.3088727; -0.17062785; -0.29042527; -0.6721655; -0.20773366; -0.68023795; -0.24322248; 0.5382055; -0.10199501; 0.29732874], Float32[0.1281609, -1.1483953, -1.001895, 0.2576286, 0.124241695, -0.21154536, -0.66008323, 0.7292692, -0.32045346, 0.39699736], Float32[-0.3888358 -0.12653561 -0.6081606 -0.35366765 -0.2804206 -0.48760405 0.2231418 -0.51692545 -0.5441171 0.47118473; -0.31445962 0.2808796 -0.5779144 -0.3940193 0.22999355 -0.065152384 -0.0977836 -0.5377808 0.63125074 0.20165849; 0.18578042 0.09480947 -0.3702555 -0.02035764 0.10569247 0.5716331 -0.013280326 0.31813544 -0.23470157 -0.21143837; 0.08258445 0.33161396 0.3702769 -0.014299622 -0.58345425 -0.34929496 -0.05822778 0.6325591 -0.4250749 -0.21567702; 0.134337 0.600858 -0.23914054 0.06161225 -0.56510895 0.119974926 -0.3996256 -0.01747913 -0.34488028 0.012500267], Float32[0.37552685, -0.53063715, 0.6450094, 0.112395756, 0.050055433], Float32[0.6827367 0.58484674 -0.62985194 0.71954554 0.26353276; 0.29825023 0.40550348 0.5675943 -0.07386112 0.66640997; 0.25642943 0.6593421 -0.20185709 -0.799274 -0.16315702; 0.7112221 -0.28191173 -0.21792427 0.58711445 -0.5556762; 0.65529543 -0.029048411 -0.15299174 -0.34089115 -0.146032], Float32[-0.18633564, 1.1970887, -0.018134283, -0.15427026, -0.82233036], Float32[-0.08489735 0.8794564 -0.79107064 0.8247338 0.34626514], Float32[0.032323245]])\n"
     ]
    },
    {
     "name": "stderr",
     "output_type": "stream",
     "text": [
      "┌ Info: Epoch 35\n",
      "└ @ Main /Users/facundosapienza/.julia/packages/Flux/goUGu/src/optimise/train.jl:136\n"
     ]
    },
    {
     "name": "stdout",
     "output_type": "stream",
     "text": [
      "Current loss: 2.612564594468103\n",
      "Current parameter:Params([Float32[-0.30793053; -0.17160498; -0.289644; -0.67123544; -0.20857495; -0.68020076; -0.24252191; 0.5390693; -0.102937594; 0.29649633], Float32[0.12900814, -1.1492921, -1.0011472, 0.25845656, 0.123404324, -0.2120759, -0.65941054, 0.73009807, -0.32133082, 0.39621612], Float32[-0.38934404 -0.1273833 -0.60898036 -0.3542563 -0.2797971 -0.48841882 0.22232881 -0.51609117 -0.54498816 0.47198227; -0.31353447 0.2817851 -0.57702786 -0.393072 0.23105413 -0.06420021 -0.096896514 -0.53871477 0.63220423 0.20076013; 0.184574 0.09357404 -0.37147388 -0.021575218 0.104435004 0.5704021 -0.014496624 0.31936878 -0.23595342 -0.21022333; 0.08207845 0.33091122 0.36962125 -0.014828603 -0.58405226 -0.3499112 -0.058872174 0.63321424 -0.42579398 -0.21505758; 0.13484961 0.6014919 -0.2385465 0.062144406 -0.56449586 0.12055872 -0.39903963 -0.01808343 -0.34422415 0.011928865], Float32[0.37636766, -0.5315023, 0.6462333, 0.11310489, 0.04942306], Float32[0.6817626 0.58612883 -0.63082737 0.71833503 0.26320636; 0.29933137 0.40466294 0.56880486 -0.07268818 0.66693896; 0.25557077 0.659639 -0.20290565 -0.8002335 -0.16354856; 0.7120004 -0.28239086 -0.21694382 0.58799 -0.5553684; 0.6562344 -0.029589433 -0.15188378 -0.3398429 -0.14561933], Float32[-0.18729366, 1.1981628, -0.01898955, -0.15349269, -0.8213967], Float32[-0.084048025 0.8803868 -0.79236674 0.8258379 0.34535122], Float32[0.03326416]])\n"
     ]
    },
    {
     "name": "stderr",
     "output_type": "stream",
     "text": [
      "┌ Info: Epoch 36\n",
      "└ @ Main /Users/facundosapienza/.julia/packages/Flux/goUGu/src/optimise/train.jl:136\n"
     ]
    },
    {
     "name": "stdout",
     "output_type": "stream",
     "text": [
      "Current loss: 2.5474059835513634\n",
      "Current parameter:Params([Float32[-0.3069994; -0.1725722; -0.28887734; -0.6703174; -0.20940493; -0.6801283; -0.2418381; 0.5399221; -0.103870355; 0.29567644], Float32[0.12984249, -1.1501776, -1.0004138, 0.25927034, 0.12257731, -0.21259016, -0.6587541, 0.7309158, -0.32219782, 0.3954482], Float32[-0.38983205 -0.12822485 -0.6097929 -0.35482916 -0.2791943 -0.4892264 0.22152323 -0.5152634 -0.54585403 0.47277182; -0.3126217 0.28267977 -0.5761534 -0.39213613 0.23210709 -0.063258804 -0.09602161 -0.53963804 0.6331485 0.19987394; 0.18336417 0.09233545 -0.37269473 -0.022796873 0.10317097 0.5691671 -0.015715446 0.32060596 -0.23720974 -0.20900552; 0.08159232 0.3302216 0.3689801 -0.015338368 -0.58463216 -0.35051104 -0.059501734 0.6338545 -0.42650017 -0.21445389; 0.13534234 0.6021105 -0.23796904 0.06265715 -0.56390107 0.121124655 -0.3984705 -0.01867099 -0.3435832 0.011374933], Float32[0.37720194, -0.53235537, 0.6474591, 0.11380125, 0.048805825], Float32[0.6807864 0.5874203 -0.6318095 0.71711653 0.2629172; 0.30041242 0.40374076 0.5700296 -0.07151298 0.66742766; 0.25472274 0.660004 -0.2039649 -0.8011836 -0.16390826; 0.71276903 -0.28292468 -0.21595658 0.5888578 -0.5550889; 0.65717 -0.030208793 -0.1507615 -0.33879536 -0.14524004], Float32[-0.18825305, 1.1992365, -0.019834206, -0.1527248, -0.8204666], Float32[-0.08321126 0.8813142 -0.79367125 0.8269425 0.34444103], Float32[0.034202263]])\n"
     ]
    },
    {
     "name": "stderr",
     "output_type": "stream",
     "text": [
      "┌ Info: Epoch 37\n",
      "└ @ Main /Users/facundosapienza/.julia/packages/Flux/goUGu/src/optimise/train.jl:136\n"
     ]
    },
    {
     "name": "stdout",
     "output_type": "stream",
     "text": [
      "Current loss: 2.4847214724601328\n",
      "Current parameter:Params([Float32[-0.30608016; -0.17352884; -0.28812572; -0.6694124; -0.21022296; -0.6800229; -0.24117112; 0.54076344; -0.104792506; 0.29486957], Float32[0.13066338, -1.1510513, -0.9996951, 0.2600694, 0.121760935, -0.21308896, -0.65811384, 0.7317221, -0.3230541, 0.3946939], Float32[-0.39030004 -0.1290603 -0.61059827 -0.3553865 -0.27861246 -0.49002686 0.22072496 -0.51444197 -0.5467148 0.4735535; -0.31172222 0.28356293 -0.5752917 -0.39121255 0.23315138 -0.062329028 -0.09515954 -0.54054993 0.63408285 0.19900063; 0.18215266 0.09109505 -0.3739166 -0.024020938 0.10190191 0.5679296 -0.016935308 0.3218455 -0.23846918 -0.20778647; 0.08112566 0.32954496 0.36835325 -0.015829282 -0.5851941 -0.35109466 -0.060116697 0.6344802 -0.4271936 -0.21386568; 0.13581596 0.6027141 -0.23740761 0.0631512 -0.56332386 0.12167337 -0.3979176 -0.019242376 -0.3429569 0.010837862], Float32[0.3780298, -0.53319585, 0.6486854, 0.11448499, 0.04820326], Float32[0.67980784 0.588721 -0.6327988 0.71589017 0.26266608; 0.30149308 0.40274584 0.571268 -0.07033595 0.66787475; 0.25388566 0.6604342 -0.20503417 -0.8021238 -0.16423649; 0.7135281 -0.28351015 -0.21496283 0.5897179 -0.55483705; 0.6581023 -0.0309021 -0.14962521 -0.3377487 -0.14489432], Float32[-0.18921396, 1.2003096, -0.020667981, -0.15196653, -0.8195399], Float32[-0.08238766 0.8822386 -0.7949833 0.8280474 0.34353462], Float32[0.03513756]])\n"
     ]
    },
    {
     "name": "stderr",
     "output_type": "stream",
     "text": [
      "┌ Info: Epoch 38\n",
      "└ @ Main /Users/facundosapienza/.julia/packages/Flux/goUGu/src/optimise/train.jl:136\n"
     ]
    },
    {
     "name": "stdout",
     "output_type": "stream",
     "text": [
      "Current loss: 2.4244314340531234\n",
      "Current parameter:Params([Float32[-0.3051737; -0.17447427; -0.28738955; -0.66852117; -0.2110284; -0.679887; -0.24052098; 0.5415928; -0.10570327; 0.29407626], Float32[0.13147032, -1.1519127, -0.99899125, 0.2608532, 0.12095546, -0.21357319, -0.6574896, 0.73251677, -0.32389924, 0.39395344], Float32[-0.39074823 -0.12988973 -0.6113966 -0.35592857 -0.27805188 -0.4908203 0.21993391 -0.5136269 -0.5475705 0.47432742; -0.31083685 0.28443402 -0.57444334 -0.39030215 0.23418595 -0.06141171 -0.09431092 -0.5414497 0.63500655 0.19814087; 0.1809411 0.08985416 -0.37513804 -0.025245825 0.100629315 0.5666912 -0.018154785 0.323086 -0.23973048 -0.20656767; 0.08067804 0.3288811 0.36774042 -0.016301746 -0.5857384 -0.35166237 -0.06071733 0.6350915 -0.42787448 -0.21329267; 0.13627127 0.6033033 -0.2368616 0.06362736 -0.56276345 0.12220553 -0.39738032 -0.019798221 -0.34234476 0.010316995], Float32[0.37885123, -0.5340233, 0.649911, 0.115156285, 0.047614865], Float32[0.67882687 0.59003085 -0.63379574 0.7146562 0.26245388; 0.30257306 0.40168646 0.5725195 -0.06915749 0.6682792; 0.25305974 0.6609262 -0.20611268 -0.8030536 -0.1645337; 0.7142777 -0.28414416 -0.21396284 0.5905703 -0.5546122; 0.6590313 -0.031664707 -0.14847532 -0.33670303 -0.14458227], Float32[-0.19017658, 1.2013819, -0.021490645, -0.15121774, -0.8186167], Float32[-0.08157785 0.88316005 -0.79630226 0.82915246 0.34263203], Float32[0.03607007]])\n"
     ]
    },
    {
     "name": "stderr",
     "output_type": "stream",
     "text": [
      "┌ Info: Epoch 39\n",
      "└ @ Main /Users/facundosapienza/.julia/packages/Flux/goUGu/src/optimise/train.jl:136\n"
     ]
    },
    {
     "name": "stdout",
     "output_type": "stream",
     "text": [
      "Current loss: 2.366453713935213\n",
      "Current parameter:Params([Float32[-0.30428082; -0.17540792; -0.2866692; -0.6676446; -0.21182066; -0.6797231; -0.23988765; 0.54240966; -0.106601916; 0.29329693], Float32[0.13226284, -1.1527616, -0.99830234, 0.26162127, 0.12016113, -0.21404372, -0.6568812, 0.7332995, -0.32473287, 0.39322698], Float32[-0.3911769 -0.1307132 -0.61218804 -0.35645568 -0.2775128 -0.4916068 0.21914999 -0.51281804 -0.54842126 0.47509363; -0.30996642 0.28529248 -0.57360893 -0.38940576 0.23520978 -0.060507633 -0.09347632 -0.5423367 0.635919 0.19729531; 0.17973106 0.08861401 -0.37635776 -0.02647001 0.099354625 0.5654533 -0.019372517 0.32432607 -0.24099238 -0.20535053; 0.08024898 0.32822984 0.36714137 -0.01675619 -0.58626544 -0.35221446 -0.061303914 0.63568866 -0.42854294 -0.21273455; 0.13670911 0.6038787 -0.23633038 0.06408647 -0.56221896 0.12272189 -0.396858 -0.020339197 -0.34174615 0.009811634], Float32[0.37966636, -0.5348372, 0.65113467, 0.11581534, 0.047040105], Float32[0.67784333 0.59134984 -0.6348007 0.7134148 0.26228142; 0.30365202 0.40057006 0.57378334 -0.06797803 0.6686399; 0.25224525 0.6614767 -0.2071997 -0.80397266 -0.1648005; 0.71501786 -0.28482366 -0.21295695 0.59141487 -0.55441374; 0.659957 -0.032491837 -0.14731224 -0.33565843 -0.14430395], Float32[-0.19114105, 1.202453, -0.022301994, -0.15047836, -0.81769687], Float32[-0.08078246 0.88407856 -0.7976273 0.83025753 0.34173328], Float32[0.036999818]])\n"
     ]
    },
    {
     "name": "stderr",
     "output_type": "stream",
     "text": [
      "┌ Info: Epoch 40\n",
      "└ @ Main /Users/facundosapienza/.julia/packages/Flux/goUGu/src/optimise/train.jl:136\n"
     ]
    },
    {
     "name": "stdout",
     "output_type": "stream",
     "text": [
      "Current loss: 2.3107013621034134\n",
      "Current parameter:Params([Float32[-0.3034023; -0.17632927; -0.28596497; -0.6667835; -0.21259917; -0.6795336; -0.23927104; 0.5432136; -0.107487746; 0.29253203], Float32[0.13304052, -1.1535977, -0.9976284, 0.26237318, 0.11937816, -0.21450147, -0.6562885, 0.7340702, -0.32555467, 0.3925147], Float32[-0.39158636 -0.13153078 -0.6129726 -0.35696813 -0.2769954 -0.4923865 0.2183731 -0.51201534 -0.54926705 0.4758523; -0.30911162 0.2861378 -0.57278895 -0.38852414 0.2362219 -0.059617538 -0.09265626 -0.5432102 0.6368195 0.19646451; 0.17852402 0.08737581 -0.37757444 -0.027692039 0.09807923 0.5642172 -0.020587204 0.32556444 -0.24225369 -0.2041364; 0.07983799 0.32759094 0.3665558 -0.017193075 -0.5867755 -0.35275128 -0.06187676 0.636272 -0.42919922 -0.21219097; 0.13713036 0.60444087 -0.23581326 0.0645294 -0.56168944 0.12322321 -0.39635 -0.020866014 -0.34116045 0.0093210535], Float32[0.38047522, -0.5356372, 0.6523552, 0.11646237, 0.046478417], Float32[0.6768571 0.5926778 -0.63581395 0.71216625 0.26214942; 0.3047297 0.3994034 0.575059 -0.066798 0.66895604; 0.2514423 0.6620818 -0.20829438 -0.8048805 -0.16503751; 0.7157488 -0.28554556 -0.21194549 0.5922517 -0.55424094; 0.66087955 -0.03337871 -0.14613643 -0.33461496 -0.14405932], Float32[-0.1921075, 1.2035227, -0.023101868, -0.14974825, -0.8167804], Float32[-0.080002114 0.8849942 -0.7989577 0.8313624 0.34083843], Float32[0.037926827]])\n"
     ]
    },
    {
     "name": "stderr",
     "output_type": "stream",
     "text": [
      "┌ Info: Epoch 41\n",
      "└ @ Main /Users/facundosapienza/.julia/packages/Flux/goUGu/src/optimise/train.jl:136\n"
     ]
    },
    {
     "name": "stdout",
     "output_type": "stream",
     "text": [
      "Current loss: 2.2570858311305497\n",
      "Current parameter:Params([Float32[-0.30253887; -0.17723785; -0.28527713; -0.6659385; -0.21336341; -0.67932093; -0.238671; 0.5440042; -0.1083601; 0.2917819], Float32[0.133803, -1.1544207, -0.99696946, 0.26310858, 0.11860673, -0.21494736, -0.6557112, 0.73482865, -0.32636434, 0.3918167], Float32[-0.3919769 -0.13234255 -0.6137504 -0.3574662 -0.2764998 -0.49315944 0.21760315 -0.51121867 -0.550108 0.47660354; -0.30827317 0.28696945 -0.5719839 -0.38765803 0.23722138 -0.058742106 -0.09185121 -0.54406965 0.6377075 0.19564901; 0.1773214 0.08614072 -0.37878686 -0.028910523 0.09680445 0.56298435 -0.021797605 0.32679987 -0.24351324 -0.20292656; 0.079444565 0.32696417 0.36598343 -0.017612884 -0.58726895 -0.35327318 -0.06243619 0.63684183 -0.42984352 -0.21166156; 0.13753594 0.6049905 -0.23530959 0.06495705 -0.5611739 0.12371029 -0.39585555 -0.021379406 -0.340587 0.008844506], Float32[0.38127792, -0.536423, 0.6535715, 0.11709761, 0.045929223], Float32[0.67586815 0.5940145 -0.63683593 0.7109108 0.26205865; 0.3058058 0.39819244 0.5763458 -0.06561782 0.66922694; 0.25065106 0.66273785 -0.2093959 -0.80577683 -0.16524552; 0.7164706 -0.28630686 -0.21092884 0.5930808 -0.554093; 0.66179895 -0.034320626 -0.14494838 -0.3335727 -0.14384829], Float32[-0.19307603, 1.2045907, -0.023890138, -0.14902727, -0.8158672], Float32[-0.07923746 0.88590705 -0.8002929 0.8324671 0.33994755], Float32[0.03885113]])\n"
     ]
    },
    {
     "name": "stderr",
     "output_type": "stream",
     "text": [
      "┌ Info: Epoch 42\n",
      "└ @ Main /Users/facundosapienza/.julia/packages/Flux/goUGu/src/optimise/train.jl:136\n"
     ]
    },
    {
     "name": "stdout",
     "output_type": "stream",
     "text": [
      "Current loss: 2.205517575995115\n",
      "Current parameter:Params([Float32[-0.30169114; -0.17813326; -0.2846059; -0.6651103; -0.21411286; -0.6790875; -0.23808734; 0.5447811; -0.10921838; 0.29104692], Float32[0.13454993, -1.1552305, -0.99632555, 0.26382715, 0.117847, -0.2153823, -0.655149, 0.7355748, -0.32716164, 0.3911331], Float32[-0.3923488 -0.13314858 -0.6145215 -0.35795018 -0.2760262 -0.49392578 0.21684 -0.51042795 -0.55094415 0.47734743; -0.3074516 0.28778708 -0.57119405 -0.38680804 0.23820734 -0.057881948 -0.09106158 -0.54491454 0.6385824 0.19484925; 0.17612457 0.08490985 -0.37999386 -0.030124143 0.09553157 0.56175596 -0.02300254 0.32803115 -0.24476993 -0.20172225; 0.07906817 0.32634926 0.3654239 -0.018016113 -0.58774626 -0.35378054 -0.062982544 0.6373985 -0.43047607 -0.21114597; 0.13792677 0.6055281 -0.23481865 0.06537036 -0.5606713 0.12418396 -0.39537397 -0.021880126 -0.3400251 0.008381232], Float32[0.3820745, -0.5371943, 0.65478253, 0.117721304, 0.04539193], Float32[0.67487633 0.5953599 -0.6378669 0.7096487 0.2620098; 0.30688 0.39694247 0.57764304 -0.06443792 0.6694521; 0.24987163 0.6634411 -0.21050341 -0.80666137 -0.1654253; 0.7171835 -0.28710464 -0.20990738 0.59390223 -0.5539692; 0.6627153 -0.03531305 -0.1437486 -0.33253166 -0.14367072], Float32[-0.1940467, 1.2056565, -0.024666715, -0.14831528, -0.81495714], Float32[-0.078489125 0.88681716 -0.8016323 0.8335713 0.33906066], Float32[0.03977277]])\n"
     ]
    },
    {
     "name": "stderr",
     "output_type": "stream",
     "text": [
      "┌ Info: Epoch 43\n",
      "└ @ Main /Users/facundosapienza/.julia/packages/Flux/goUGu/src/optimise/train.jl:136\n"
     ]
    },
    {
     "name": "stdout",
     "output_type": "stream",
     "text": [
      "Current loss: 2.1559057497156515\n",
      "Current parameter:Params([Float32[-0.30085975; -0.17901519; -0.28395137; -0.6642994; -0.21484712; -0.6788357; -0.2375198; 0.54554397; -0.11006206; 0.29032734], Float32[0.13528109, -1.156027, -0.9956966, 0.26452866, 0.11709909, -0.21580717, -0.65460163, 0.7363085, -0.32794634, 0.39046392], Float32[-0.39270237 -0.13394895 -0.61528605 -0.3584204 -0.2755746 -0.49468562 0.21608357 -0.50964314 -0.5517756 0.47808412; -0.30664748 0.2885903 -0.57041985 -0.38597474 0.23917902 -0.057037607 -0.0902877 -0.54574436 0.6394438 0.19406565; 0.17493479 0.083684236 -0.38119432 -0.031331643 0.09426182 0.5605332 -0.024200896 0.32925713 -0.24602267 -0.20052461; 0.078708254 0.32574594 0.36487687 -0.018403279 -0.58820784 -0.35427374 -0.06351617 0.63794225 -0.43109712 -0.21064381; 0.13830376 0.6060545 -0.23433974 0.06577024 -0.56018066 0.12464504 -0.39490455 -0.022368936 -0.33947405 0.007930467], Float32[0.38286507, -0.5379508, 0.65598726, 0.11833371, 0.044865932], Float32[0.67388165 0.59671384 -0.63890713 0.7083804 0.26200348; 0.30795202 0.3956582 0.57895 -0.0632587 0.669631; 0.24910404 0.66418785 -0.21161608 -0.80753386 -0.16557771; 0.7178875 -0.28793606 -0.2088815 0.594716 -0.55386883; 0.66362864 -0.03635166 -0.1425376 -0.33149192 -0.14352642], Float32[-0.19501959, 1.2067201, -0.02543155, -0.14761212, -0.81405026], Float32[-0.077757746 0.8877246 -0.8029752 0.834675 0.33817783], Float32[0.040691786]])\n"
     ]
    },
    {
     "name": "stderr",
     "output_type": "stream",
     "text": [
      "┌ Info: Epoch 44\n",
      "└ @ Main /Users/facundosapienza/.julia/packages/Flux/goUGu/src/optimise/train.jl:136\n"
     ]
    },
    {
     "name": "stdout",
     "output_type": "stream",
     "text": [
      "Current loss: 2.10815945164653\n",
      "Current parameter:Params([Float32[-0.30004516; -0.17988336; -0.28331366; -0.6635064; -0.21556577; -0.6785677; -0.23696809; 0.54629254; -0.11089066; 0.28962338], Float32[0.13599622, -1.15681, -0.9950825, 0.26521292, 0.11636309, -0.21622287, -0.65406877, 0.7370298, -0.32871827, 0.38980916], Float32[-0.39303797 -0.13474374 -0.61604416 -0.35887718 -0.27514505 -0.49543902 0.21533374 -0.5088641 -0.5526023 0.47881374; -0.30586123 0.28937885 -0.56966156 -0.3851586 0.24013567 -0.056209553 -0.089529864 -0.54655874 0.6402912 0.1932985; 0.17375326 0.08246488 -0.38238722 -0.03253184 0.092996374 0.5593173 -0.025391618 0.33047676 -0.24727045 -0.19933476; 0.07836427 0.32515392 0.36434203 -0.018774904 -0.5886541 -0.35475317 -0.06403743 0.6384736 -0.43170696 -0.2101547; 0.1386678 0.60657024 -0.23387216 0.06615762 -0.5597009 0.12509437 -0.39444655 -0.022846596 -0.33893317 0.007491451], Float32[0.3836497, -0.53869236, 0.6571848, 0.1189351, 0.04435063], Float32[0.6728841 0.598076 -0.6399568 0.7071061 0.2620403; 0.30902153 0.3943438 0.580266 -0.06208058 0.6697635; 0.24834834 0.6649744 -0.21273308 -0.8083942 -0.16570364; 0.7185829 -0.2887984 -0.2078516 0.5955222 -0.55379105; 0.6645391 -0.03743236 -0.1413159 -0.3304535 -0.14341514], Float32[-0.1959947, 1.2077811, -0.026184624, -0.14691766, -0.8131464], Float32[-0.07704396 0.88862944 -0.80432105 0.8357781 0.3372991], Float32[0.041608218]])\n"
     ]
    },
    {
     "name": "stderr",
     "output_type": "stream",
     "text": [
      "┌ Info: Epoch 45\n",
      "└ @ Main /Users/facundosapienza/.julia/packages/Flux/goUGu/src/optimise/train.jl:136\n"
     ]
    },
    {
     "name": "stdout",
     "output_type": "stream",
     "text": [
      "Current loss: 2.062188990042283\n",
      "Current parameter:Params([Float32[-0.2992478; -0.18073758; -0.28269276; -0.6627315; -0.21626851; -0.6782857; -0.23643188; 0.54702663; -0.11170376; 0.28893518], Float32[0.1366952, -1.1575798, -0.99448305, 0.2658798, 0.11563907, -0.21663022, -0.65355, 0.7377386, -0.32947734, 0.38916883], Float32[-0.39335597 -0.13553302 -0.6167959 -0.35932082 -0.27473757 -0.4961861 0.21459042 -0.50809073 -0.5534244 0.47953638; -0.3050932 0.29015243 -0.56891936 -0.38436002 0.24107666 -0.055398177 -0.08878828 -0.5473573 0.6411243 0.19254808; 0.17258112 0.08125274 -0.38357157 -0.033723615 0.091736354 0.5581092 -0.02657372 0.33168903 -0.2485123 -0.19815369; 0.07803565 0.32457292 0.36381903 -0.019131519 -0.5890856 -0.35521927 -0.064546674 0.6389927 -0.43230587 -0.20967822; 0.13901983 0.60707605 -0.23341522 0.06653339 -0.5592309 0.12553275 -0.39399928 -0.023313863 -0.33840173 0.007063435], Float32[0.38442847, -0.5394188, 0.65837413, 0.11952575, 0.043845426], Float32[0.67188376 0.5994461 -0.641016 0.7058263 0.2621207; 0.3100883 0.39300293 0.5815903 -0.060903955 0.6698495; 0.2476045 0.6657973 -0.21385357 -0.8092422 -0.16580403; 0.7192699 -0.28968906 -0.2068181 0.596321 -0.55373514; 0.6654467 -0.03855133 -0.14008407 -0.32941636 -0.14333661], Float32[-0.19697203, 1.2088392, -0.026925957, -0.14623171, -0.8122455], Float32[-0.07634838 0.8895318 -0.80566937 0.8368805 0.33642456], Float32[0.04252212]])\n"
     ]
    },
    {
     "name": "stderr",
     "output_type": "stream",
     "text": [
      "┌ Info: Epoch 46\n",
      "└ @ Main /Users/facundosapienza/.julia/packages/Flux/goUGu/src/optimise/train.jl:136\n"
     ]
    },
    {
     "name": "stdout",
     "output_type": "stream",
     "text": [
      "Current loss: 2.01790635215091\n",
      "Current parameter:Params([Float32[-0.29846805; -0.18157774; -0.28208864; -0.6619752; -0.21695507; -0.6779918; -0.2359108; 0.5477461; -0.11250104; 0.2882629], Float32[0.13737793, -1.1583362, -0.99389815, 0.26652926, 0.114927046, -0.21703006, -0.653045, 0.738435, -0.3302234, 0.38854283], Float32[-0.39365667 -0.13631687 -0.6175414 -0.35975164 -0.2743521 -0.496927 0.2138535 -0.50732297 -0.55424196 0.48025218; -0.30434367 0.29091087 -0.56819344 -0.3835793 0.24200144 -0.054603796 -0.0880631 -0.54813987 0.6419428 0.19181456; 0.17141941 0.08004869 -0.38474646 -0.03490593 0.09048282 0.55691004 -0.027746277 0.33289295 -0.24974729 -0.19698238; 0.07772185 0.32400265 0.3633075 -0.019473657 -0.5895027 -0.35567245 -0.065044284 0.6395001 -0.4328941 -0.20921397; 0.1393607 0.60757256 -0.23296823 0.06689844 -0.55876976 0.12596099 -0.39356202 -0.02377148 -0.33787906 0.0066456837], Float32[0.38520145, -0.54013014, 0.65955454, 0.120105945, 0.043349728], Float32[0.6708807 0.600824 -0.64208484 0.70454127 0.26224515; 0.31115204 0.3916389 0.58292216 -0.059729207 0.66988903; 0.24687248 0.66665316 -0.21497676 -0.8100777 -0.1658798; 0.7199485 -0.29060557 -0.20578142 0.5971123 -0.55370027; 0.66635156 -0.039705 -0.13884264 -0.32838055 -0.14329052], Float32[-0.19795154, 1.2098941, -0.0276556, -0.14555411, -0.8113474], Float32[-0.07567162 0.8904317 -0.8070196 0.83798206 0.3355542], Float32[0.043433543]])\n"
     ]
    },
    {
     "name": "stderr",
     "output_type": "stream",
     "text": [
      "┌ Info: Epoch 47\n",
      "└ @ Main /Users/facundosapienza/.julia/packages/Flux/goUGu/src/optimise/train.jl:136\n"
     ]
    },
    {
     "name": "stdout",
     "output_type": "stream",
     "text": [
      "Current loss: 1.9752256017258292\n",
      "Current parameter:Params([Float32[-0.29770616; -0.18240377; -0.2815012; -0.6612376; -0.21762525; -0.6776879; -0.23540446; 0.5484508; -0.11328221; 0.28760657], Float32[0.13804436, -1.1590794, -0.9933276, 0.26716128, 0.11422702, -0.21742319, -0.6525533, 0.73911893, -0.3309565, 0.38793108], Float32[-0.39394048 -0.13709533 -0.61828065 -0.36016992 -0.27398857 -0.49766174 0.21312286 -0.50656074 -0.55505496 0.4809612; -0.30361283 0.29165405 -0.56748384 -0.38281673 0.24290955 -0.053826652 -0.08735441 -0.54890615 0.6427464 0.19109805; 0.17026912 0.078853555 -0.38591105 -0.036077805 0.08923679 0.55572075 -0.028908435 0.33408764 -0.25097457 -0.19582172; 0.0774223 0.32344282 0.3628071 -0.019801855 -0.589906 -0.3561131 -0.06553063 0.639996 -0.43347198 -0.20876156; 0.13969125 0.60806036 -0.23253053 0.06725364 -0.5583164 0.12637989 -0.39313412 -0.024220167 -0.3373645 0.0062374845], Float32[0.38596871, -0.54082626, 0.6607252, 0.12067596, 0.042862963], Float32[0.6698749 0.60220927 -0.6431634 0.70325154 0.26241398; 0.3122125 0.39025465 0.5842609 -0.058556706 0.6698823; 0.24615219 0.66753876 -0.21610188 -0.81090087 -0.16593191; 0.7206189 -0.29154557 -0.20474195 0.5978963 -0.5536858; 0.6672538 -0.04089007 -0.13759214 -0.3273461 -0.14327654], Float32[-0.19893317, 1.2109456, -0.028373636, -0.14488469, -0.81045216], Float32[-0.07501429 0.8913293 -0.80837125 0.8390827 0.33468816], Float32[0.044342536]])\n"
     ]
    },
    {
     "name": "stderr",
     "output_type": "stream",
     "text": [
      "┌ Info: Epoch 48\n",
      "└ @ Main /Users/facundosapienza/.julia/packages/Flux/goUGu/src/optimise/train.jl:136\n"
     ]
    },
    {
     "name": "stdout",
     "output_type": "stream",
     "text": [
      "Current loss: 1.9340629768570972\n",
      "Current parameter:Params([Float32[-0.29696235; -0.18321568; -0.2809303; -0.6605189; -0.2182789; -0.6773758; -0.23491243; 0.54914075; -0.11404708; 0.2869662], Float32[0.13869448, -1.1598096, -0.99277115, 0.26777592, 0.11353896, -0.21781032, -0.6520745, 0.73979056, -0.33167654, 0.38733342], Float32[-0.39420775 -0.1378685 -0.61901385 -0.360576 -0.2736469 -0.49839047 0.21239842 -0.50580394 -0.5558635 0.4816636; -0.30290076 0.2923819 -0.56679064 -0.38207245 0.2438006 -0.05306691 -0.086662225 -0.5496561 0.64353496 0.1903986; 0.16913113 0.077668115 -0.38706452 -0.03723834 0.08799919 0.5545421 -0.030059403 0.33527225 -0.2521933 -0.19467252; 0.077136435 0.3228931 0.36231744 -0.020116644 -0.5902959 -0.3565417 -0.06600607 0.6404809 -0.43403977 -0.20832057; 0.1400123 0.6085401 -0.23210149 0.0675998 -0.5578699 0.1267902 -0.3927149 -0.024660626 -0.33685735 0.0058381488], Float32[0.3867303, -0.54150724, 0.6618854, 0.121236086, 0.042384565], Float32[0.6688666 0.60360163 -0.6442516 0.70195746 0.2626274; 0.3132694 0.3888528 0.5856058 -0.0573868 0.6698296; 0.24544352 0.6684511 -0.21722819 -0.81171155 -0.1659613; 0.7212814 -0.29250687 -0.20370013 0.59867305 -0.55369085; 0.6681535 -0.04210349 -0.13633311 -0.32631293 -0.14329432], Float32[-0.19991682, 1.2119935, -0.029080179, -0.14422329, -0.8095595], Float32[-0.07437698 0.8922246 -0.80972385 0.8401825 0.33382648], Float32[0.045249157]])\n"
     ]
    },
    {
     "name": "stderr",
     "output_type": "stream",
     "text": [
      "┌ Info: Epoch 49\n",
      "└ @ Main /Users/facundosapienza/.julia/packages/Flux/goUGu/src/optimise/train.jl:136\n"
     ]
    },
    {
     "name": "stdout",
     "output_type": "stream",
     "text": [
      "Current loss: 1.8943380044551632\n",
      "Current parameter:Params([Float32[-0.29623675; -0.18401352; -0.28037578; -0.6598191; -0.21891595; -0.67705727; -0.23443425; 0.54981583; -0.114795506; 0.28634176], Float32[0.13932835, -1.160527, -0.99222857, 0.26837328, 0.1128628, -0.21819218, -0.6516082, 0.74044997, -0.3323836, 0.3867497], Float32[-0.39445883 -0.13863643 -0.619741 -0.36097017 -0.2733269 -0.49911323 0.21168008 -0.5050525 -0.5566676 0.4823595; -0.30220753 0.29309443 -0.56611377 -0.38134652 0.24467427 -0.05232466 -0.085986525 -0.5503896 0.6443084 0.18971622; 0.16800627 0.076493084 -0.38820618 -0.038386706 0.086770914 0.55337507 -0.031198459 0.33644605 -0.25340274 -0.19353555; 0.07686371 0.3223532 0.3618382 -0.020418549 -0.59067297 -0.35695863 -0.06647098 0.64095503 -0.43459776 -0.20789063; 0.14032461 0.6090124 -0.23168047 0.06793771 -0.5574293 0.12719262 -0.39230374 -0.025093531 -0.33635697 0.0054470156], Float32[0.38748634, -0.54217315, 0.66303444, 0.12178662, 0.04191399], Float32[0.66785586 0.6050007 -0.6453493 0.7006596 0.26288554; 0.31432253 0.38743573 0.58695614 -0.056219827 0.66973144; 0.24474634 0.6693873 -0.21835497 -0.8125099 -0.16596891; 0.7219361 -0.29348737 -0.20265636 0.5994427 -0.5537148; 0.6690508 -0.04334246 -0.13506608 -0.32528105 -0.14334346], Float32[-0.2009024, 1.2130375, -0.029775366, -0.14356972, -0.80866945], Float32[-0.07376024 0.8931177 -0.811077 0.84128124 0.33296922], Float32[0.04615346]])\n"
     ]
    },
    {
     "name": "stderr",
     "output_type": "stream",
     "text": [
      "┌ Info: Epoch 50\n",
      "└ @ Main /Users/facundosapienza/.julia/packages/Flux/goUGu/src/optimise/train.jl:136\n"
     ]
    },
    {
     "name": "stdout",
     "output_type": "stream",
     "text": [
      "Current loss: 1.8559735444001986\n",
      "Current parameter:Params([Float32[-0.29552943; -0.18479739; -0.27983734; -0.6591383; -0.21953638; -0.6767339; -0.23396948; 0.55047613; -0.11552741; 0.28573313], Float32[0.13994607, -1.1612318, -0.9916995, 0.26895353, 0.112198465, -0.21856941, -0.651154, 0.74109733, -0.33307773, 0.38617975], Float32[-0.3946941 -0.13939919 -0.6204623 -0.36135274 -0.27302846 -0.49983016 0.21096775 -0.5043064 -0.55746734 0.48304898; -0.30153307 0.29379162 -0.5654531 -0.380639 0.24553035 -0.05159993 -0.08532722 -0.55110663 0.6450666 0.18905081; 0.1668953 0.07532912 -0.38933536 -0.039522145 0.0855528 0.5522203 -0.032324944 0.3376083 -0.25460216 -0.19241148; 0.07660359 0.32182285 0.361369 -0.020708092 -0.59103763 -0.35736433 -0.06692572 0.6414189 -0.43514627 -0.20747131; 0.14062892 0.6094778 -0.2312669 0.06826811 -0.5569938 0.12758785 -0.39190003 -0.025519524 -0.33586276 0.005063456], Float32[0.38823688, -0.5428241, 0.6641718, 0.122327834, 0.041450717], Float32[0.66684294 0.60640603 -0.64645654 0.6993583 0.26318845; 0.31537166 0.38600558 0.58831125 -0.0550561 0.66958827; 0.24406047 0.67034477 -0.21948156 -0.81329596 -0.16595568; 0.7225832 -0.2944851 -0.20161106 0.60020536 -0.55375695; 0.6699458 -0.044604402 -0.13379158 -0.32425046 -0.14342362], Float32[-0.20188975, 1.2140775, -0.030459361, -0.14292383, -0.8077818], Float32[-0.073164634 0.89400876 -0.81243026 0.8423789 0.33211645], Float32[0.047055505]])\n"
     ]
    },
    {
     "name": "stderr",
     "output_type": "stream",
     "text": [
      "┌ Info: Epoch 51\n",
      "└ @ Main /Users/facundosapienza/.julia/packages/Flux/goUGu/src/optimise/train.jl:136\n"
     ]
    },
    {
     "name": "stdout",
     "output_type": "stream",
     "text": [
      "Current loss: 1.8188957402328392\n",
      "Current parameter:Params([Float32[-0.29484037; -0.18556747; -0.27931473; -0.6584764; -0.2201402; -0.67640716; -0.23351763; 0.5511218; -0.11624277; 0.28514022], Float32[0.1405478, -1.1619242, -0.9911837, 0.2695169, 0.11154583, -0.21894266, -0.65071136, 0.7417328, -0.33375904, 0.3856233], Float32[-0.3949139 -0.14015682 -0.6211778 -0.36172402 -0.27275133 -0.5005413 0.21026132 -0.5035655 -0.5582627 0.48373216; -0.30087727 0.2944736 -0.56480855 -0.37994975 0.2463687 -0.05089268 -0.084684186 -0.5518073 0.6458096 0.18840227; 0.16579887 0.07417681 -0.39045152 -0.04064397 0.084345594 0.55107844 -0.03343827 0.33875838 -0.25579095 -0.19130093; 0.07635554 0.3213017 0.36090955 -0.020985784 -0.59139043 -0.35775918 -0.067370646 0.64187276 -0.43568558 -0.20706224; 0.14092591 0.6099369 -0.23086022 0.068591714 -0.5565625 0.12797657 -0.39150324 -0.025939215 -0.33537415 0.0046868725], Float32[0.38898197, -0.5434602, 0.6652969, 0.12286002, 0.040994246], Float32[0.66582793 0.60781723 -0.647573 0.6980541 0.26353607; 0.31641662 0.38456425 0.5896705 -0.05389591 0.6694008; 0.24338573 0.671321 -0.22060731 -0.81406987 -0.1659225; 0.7232228 -0.2954982 -0.20056464 0.6009611 -0.55381656; 0.67083853 -0.045886964 -0.13251011 -0.3232211 -0.14353436], Float32[-0.20287871, 1.2151132, -0.031132348, -0.14228544, -0.8068965], Float32[-0.07259069 0.89489776 -0.8137832 0.84347546 0.33126825], Float32[0.04795535]])\n"
     ]
    },
    {
     "name": "stderr",
     "output_type": "stream",
     "text": [
      "┌ Info: Epoch 52\n",
      "└ @ Main /Users/facundosapienza/.julia/packages/Flux/goUGu/src/optimise/train.jl:136\n"
     ]
    },
    {
     "name": "stdout",
     "output_type": "stream",
     "text": [
      "Current loss: 1.7830343021055486\n",
      "Current parameter:Params([Float32[-0.2941695; -0.18632394; -0.27880764; -0.6578333; -0.22072752; -0.6760784; -0.23307824; 0.5517528; -0.11694162; 0.28456283], Float32[0.1411337, -1.1626047, -0.9906808, 0.27006358, 0.11090477, -0.21931249, -0.6502799, 0.7423565, -0.33442765, 0.3850802], Float32[-0.39511868 -0.1409094 -0.6218875 -0.36208427 -0.2724953 -0.5012468 0.2095607 -0.50282973 -0.5590538 0.48440912; -0.30024 0.29514048 -0.56417996 -0.37927872 0.24718925 -0.050202817 -0.08405723 -0.5524916 0.6465374 0.18777041; 0.1647176 0.07303669 -0.3915541 -0.041751567 0.083150014 0.5499502 -0.034537904 0.33989567 -0.2569685 -0.19020444; 0.076119035 0.3207895 0.36045945 -0.021252126 -0.5917318 -0.35814363 -0.06780611 0.64231706 -0.43621597 -0.20666304; 0.14121625 0.6103901 -0.23045988 0.068909176 -0.5561346 0.12835936 -0.3911128 -0.026353179 -0.33489054 0.0043167025], Float32[0.3897217, -0.5440816, 0.6664093, 0.12338346, 0.0405441], Float32[0.66481113 0.60923386 -0.64869845 0.6967474 0.26392817; 0.3174572 0.38311353 0.59103316 -0.05273953 0.6691698; 0.24272193 0.67231363 -0.22173165 -0.8148318 -0.16587025; 0.72385514 -0.2965249 -0.19951749 0.60170996 -0.55389297; 0.6717292 -0.04718798 -0.13122219 -0.3221929 -0.14367531], Float32[-0.2038691, 1.2161443, -0.03179453, -0.14165437, -0.8060134], Float32[-0.0720389 0.89578485 -0.8151356 0.8445709 0.33042473], Float32[0.048853047]])\n"
     ]
    },
    {
     "name": "stderr",
     "output_type": "stream",
     "text": [
      "┌ Info: Epoch 53\n",
      "└ @ Main /Users/facundosapienza/.julia/packages/Flux/goUGu/src/optimise/train.jl:136\n"
     ]
    },
    {
     "name": "stdout",
     "output_type": "stream",
     "text": [
      "Current loss: 1.7483223158307997\n",
      "Current parameter:Params([Float32[-0.2935167; -0.18706703; -0.27831572; -0.6572087; -0.22129846; -0.6757489; -0.23265082; 0.5523694; -0.11762407; 0.28400075], Float32[0.14170398, -1.1632735, -0.9901905, 0.27059388, 0.11027512, -0.21967942, -0.64985913, 0.7429686, -0.33508372, 0.38455012], Float32[-0.39530876 -0.14165697 -0.62259156 -0.3624338 -0.2722601 -0.5019467 0.20886584 -0.5020991 -0.55984056 0.48508; -0.29962102 0.29579243 -0.56356704 -0.37862572 0.24799198 -0.049530186 -0.08344613 -0.5531598 0.6472502 0.18715502; 0.163652 0.07190925 -0.39264262 -0.042844385 0.081966706 0.548836 -0.035623387 0.34101966 -0.25813425 -0.1891225; 0.07589357 0.3202859 0.36001837 -0.021507606 -0.59206223 -0.35851806 -0.06823246 0.64275205 -0.43673775 -0.20627333; 0.14150053 0.610838 -0.23006539 0.06922111 -0.5557094 0.12873681 -0.3907282 -0.026761957 -0.33441147 0.0039524166], Float32[0.39045608, -0.54468864, 0.66750854, 0.12389843, 0.040099826], Float32[0.6637927 0.6106555 -0.64983267 0.6954388 0.26436445; 0.31849325 0.381655 0.5923986 -0.051587213 0.668896; 0.24206883 0.67332065 -0.222854 -0.815582 -0.1657998; 0.7244804 -0.29756367 -0.19847 0.60245216 -0.5539856; 0.67261785 -0.048505485 -0.12992829 -0.3211659 -0.14384606], Float32[-0.20486073, 1.217171, -0.032446127, -0.14103048, -0.80513245], Float32[-0.07150974 0.8966701 -0.81648695 0.8456651 0.3295859], Float32[0.049748663]])\n"
     ]
    },
    {
     "name": "stderr",
     "output_type": "stream",
     "text": [
      "┌ Info: Epoch 54\n",
      "└ @ Main /Users/facundosapienza/.julia/packages/Flux/goUGu/src/optimise/train.jl:136\n"
     ]
    },
    {
     "name": "stdout",
     "output_type": "stream",
     "text": [
      "Current loss: 1.714696662732959\n",
      "Current parameter:Params([Float32[-0.29288182; -0.18779701; -0.2778386; -0.65660244; -0.22185318; -0.6754198; -0.23223488; 0.5529718; -0.11829023; 0.28345376], Float32[0.14225891, -1.1639309, -0.9897124, 0.27110812, 0.109656714, -0.22004394, -0.6494487, 0.74356943, -0.33572742, 0.38403285], Float32[-0.39548454 -0.14239956 -0.62329006 -0.36277288 -0.27204543 -0.502641 0.20817663 -0.5013735 -0.56062305 0.48574486; -0.29902005 0.29642963 -0.56296957 -0.3779905 0.24877696 -0.048874587 -0.082850635 -0.553812 0.64794797 0.18655585; 0.16260254 0.0707949 -0.39371672 -0.043921944 0.08079624 0.5477364 -0.036694314 0.3421299 -0.25928771 -0.18805552; 0.075678654 0.31979066 0.359586 -0.0217527 -0.5923822 -0.35888287 -0.06865004 0.6431781 -0.43725118 -0.20589274; 0.1417793 0.611281 -0.22967628 0.06952809 -0.55528635 0.12910944 -0.39034897 -0.027166054 -0.33393642 0.0035935207], Float32[0.39118522, -0.5452815, 0.66859424, 0.124405205, 0.039660994], Float32[0.66277295 0.6120816 -0.6509753 0.69412875 0.2648445; 0.3195246 0.38019013 0.5937662 -0.050439186 0.66858035; 0.24142618 0.67434 -0.22397387 -0.8163206 -0.16571197; 0.72509867 -0.29861295 -0.19742256 0.60318774 -0.5540938; 0.67350465 -0.04983767 -0.1286289 -0.32013997 -0.14404622], Float32[-0.2058534, 1.2181928, -0.033087377, -0.14041358, -0.80425346], Float32[-0.07100367 0.89755356 -0.81783706 0.84675807 0.32875192], Float32[0.050642252]])\n"
     ]
    },
    {
     "name": "stderr",
     "output_type": "stream",
     "text": [
      "┌ Info: Epoch 55\n",
      "└ @ Main /Users/facundosapienza/.julia/packages/Flux/goUGu/src/optimise/train.jl:136\n"
     ]
    },
    {
     "name": "stdout",
     "output_type": "stream",
     "text": [
      "Current loss: 1.682097433992822\n",
      "Current parameter:Params([Float32[-0.2922646; -0.18851416; -0.27737588; -0.6560142; -0.2223919; -0.67509216; -0.23182996; 0.55356014; -0.118940294; 0.28292158], Float32[0.14279875, -1.1645774, -0.98924625, 0.27160662, 0.10904937, -0.2204065, -0.64904815, 0.74415916, -0.33635896, 0.38352805], Float32[-0.3956464 -0.14313726 -0.623983 -0.3631018 -0.271851 -0.5033299 0.207493 -0.5006529 -0.5614013 0.4864038; -0.29843682 0.29705235 -0.5623873 -0.37737283 0.2495443 -0.04823578 -0.08227046 -0.55444854 0.648631 0.18597259; 0.1615696 0.06969402 -0.39477605 -0.04498383 0.079639144 0.54665184 -0.037750345 0.343226 -0.2604285 -0.18700385; 0.07547381 0.31930348 0.35916203 -0.021987868 -0.59269214 -0.35923845 -0.069059156 0.6435956 -0.43775654 -0.20552091; 0.1420531 0.61171955 -0.22929211 0.06983063 -0.55486476 0.12947777 -0.38997468 -0.02756594 -0.33346492 0.0032395548], Float32[0.39190915, -0.5458605, 0.6696662, 0.124904044, 0.039227203], Float32[0.66175205 0.6135116 -0.652126 0.6928177 0.2653678; 0.3205511 0.37872022 0.5951354 -0.049295656 0.66822374; 0.24079375 0.6753699 -0.22509077 -0.8170479 -0.16560754; 0.72571015 -0.29967132 -0.19637555 0.6039168 -0.5542169; 0.67438966 -0.05118289 -0.12732446 -0.31911513 -0.14427538], Float32[-0.20684688, 1.2192098, -0.03371852, -0.13980354, -0.8033764], Float32[-0.070521094 0.8984353 -0.8191856 0.8478498 0.32792282], Float32[0.05153387]])\n"
     ]
    },
    {
     "name": "stderr",
     "output_type": "stream",
     "text": [
      "┌ Info: Epoch 56\n",
      "└ @ Main /Users/facundosapienza/.julia/packages/Flux/goUGu/src/optimise/train.jl:136\n"
     ]
    },
    {
     "name": "stdout",
     "output_type": "stream",
     "text": [
      "Current loss: 1.6504684819285036\n",
      "Current parameter:Params([Float32[-0.29166484; -0.18921879; -0.27692714; -0.65544367; -0.22291487; -0.6747669; -0.23143557; 0.5541347; -0.119574465; 0.28240395], Float32[0.14332381, -1.1652133, -0.9887916, 0.27208975, 0.10845289, -0.22076751, -0.6486571, 0.74473804, -0.33697858, 0.38303545], Float32[-0.3957947 -0.14387009 -0.62467057 -0.36342084 -0.27167648 -0.50401336 0.20681489 -0.49993724 -0.56217533 0.48705688; -0.29787093 0.29766083 -0.56181985 -0.37677237 0.25029415 -0.04761349 -0.08170528 -0.55506957 0.6492994 0.18540493; 0.16055349 0.06860691 -0.39582032 -0.046029694 0.07849588 0.5455826 -0.038791195 0.34430757 -0.2615562 -0.1859678; 0.075278565 0.3188241 0.35874614 -0.02221356 -0.5929925 -0.35958514 -0.069460146 0.64400476 -0.43825412 -0.20515752; 0.14232239 0.61215407 -0.22891247 0.07012923 -0.55444413 0.12984224 -0.3896049 -0.027962046 -0.33299658 0.002890092], Float32[0.39262792, -0.54642594, 0.67072403, 0.12539521, 0.038798075], Float32[0.6607303 0.6149452 -0.65328443 0.69150615 0.26593372; 0.32157266 0.37724653 0.5965056 -0.048156805 0.6678272; 0.24017127 0.67640877 -0.22620428 -0.8177641 -0.16548727; 0.726315 -0.3007375 -0.19532932 0.60463953 -0.5543545; 0.675273 -0.052539635 -0.12601544 -0.3180913 -0.14453316], Float32[-0.20784095, 1.2202216, -0.03433981, -0.1392002, -0.8025011], Float32[-0.07006241 0.8993154 -0.8205323 0.84894025 0.32709873], Float32[0.052423574]])\n"
     ]
    },
    {
     "name": "stderr",
     "output_type": "stream",
     "text": [
      "┌ Info: Epoch 57\n",
      "└ @ Main /Users/facundosapienza/.julia/packages/Flux/goUGu/src/optimise/train.jl:136\n"
     ]
    },
    {
     "name": "stdout",
     "output_type": "stream",
     "text": [
      "Current loss: 1.6197561564185283\n",
      "Current parameter:Params([Float32[-0.29108217; -0.18991122; -0.276492; -0.6548905; -0.22342236; -0.6744448; -0.23105125; 0.5546958; -0.120193; 0.28190053], Float32[0.1438344, -1.1658391, -0.98834807, 0.27255788, 0.10786705, -0.22112732, -0.6482751, 0.7453063, -0.3375865, 0.38255474], Float32[-0.39592978 -0.14459808 -0.62535274 -0.36373025 -0.2715215 -0.5046915 0.2061422 -0.49922645 -0.5629451 0.48770422; -0.29732206 0.29825535 -0.56126696 -0.3761888 0.25102672 -0.0470074 -0.08115477 -0.55567545 0.6499534 0.18485253; 0.15955448 0.06753384 -0.39684933 -0.04705925 0.07736685 0.54452896 -0.039816637 0.34537438 -0.26267052 -0.18494761; 0.07509249 0.31835225 0.35833803 -0.022430204 -0.59328365 -0.3599233 -0.06985331 0.644406 -0.43874416 -0.20480222; 0.1425876 0.6125849 -0.22853698 0.07042432 -0.554024 0.13020326 -0.38923925 -0.028354775 -0.332531 0.0025447384], Float32[0.3933416, -0.54697806, 0.6717676, 0.12587894, 0.038373258], Float32[0.6597079 0.6163817 -0.6544502 0.69019455 0.2665415; 0.3225892 0.37577012 0.59787625 -0.047022797 0.66739166; 0.23955846 0.677455 -0.227314 -0.8184695 -0.16535188; 0.7269134 -0.30181023 -0.19428425 0.6053559 -0.5545059; 0.6761548 -0.053906538 -0.12470225 -0.31706846 -0.14481916], Float32[-0.20883538, 1.2212285, -0.034951515, -0.13860339, -0.80162746], Float32[-0.069627956 0.900194 -0.82187694 0.8500294 0.3262797], Float32[0.053311422]])\n"
     ]
    },
    {
     "name": "stderr",
     "output_type": "stream",
     "text": [
      "┌ Info: Epoch 58\n",
      "└ @ Main /Users/facundosapienza/.julia/packages/Flux/goUGu/src/optimise/train.jl:136\n"
     ]
    },
    {
     "name": "stdout",
     "output_type": "stream",
     "text": [
      "Current loss: 1.589911030243792\n",
      "Current parameter:Params([Float32[-0.29051632; -0.1905918; -0.27607; -0.6543542; -0.22391468; -0.6741267; -0.23067655; 0.5552436; -0.12079617; 0.28141102], Float32[0.14433086, -1.166455, -0.9879153, 0.27301142, 0.10729163, -0.22148626, -0.6479017, 0.7458642, -0.33818293, 0.38208562], Float32[-0.39605206 -0.14532128 -0.62602955 -0.36403027 -0.2713857 -0.50536436 0.2054749 -0.49852052 -0.5637107 0.4883459; -0.29678977 0.29883623 -0.56072825 -0.37562177 0.25174227 -0.046417173 -0.080618575 -0.5562665 0.6505934 0.18431501; 0.15857278 0.06647501 -0.39786288 -0.048072264 0.07625241 0.54349124 -0.040826496 0.34642616 -0.26377115 -0.18394345; 0.07491514 0.31788766 0.35793743 -0.022638218 -0.5935661 -0.36025333 -0.07023895 0.6447996 -0.43922693 -0.20445468; 0.14284915 0.6130124 -0.22816528 0.0707163 -0.5536038 0.13056123 -0.38887736 -0.028744495 -0.33206782 0.0022031304], Float32[0.3940502, -0.5475172, 0.6727967, 0.12635551, 0.03795242], Float32[0.6586852 0.6178207 -0.6556228 0.68888336 0.26719037; 0.32360056 0.37429205 0.59924686 -0.045893773 0.6669183; 0.23895507 0.6785072 -0.22841957 -0.8191644 -0.16520207; 0.72750545 -0.3028884 -0.19324064 0.60606617 -0.5546706; 0.6770351 -0.055282343 -0.12338532 -0.3160465 -0.14513299], Float32[-0.20982993, 1.2222301, -0.035553895, -0.13801298, -0.80075544], Float32[-0.06921808 0.9010711 -0.82321924 0.8511173 0.32546586], Float32[0.054197468]])\n"
     ]
    },
    {
     "name": "stderr",
     "output_type": "stream",
     "text": [
      "┌ Info: Epoch 59\n",
      "└ @ Main /Users/facundosapienza/.julia/packages/Flux/goUGu/src/optimise/train.jl:136\n"
     ]
    },
    {
     "name": "stdout",
     "output_type": "stream",
     "text": [
      "Current loss: 1.560886081164703\n",
      "Current parameter:Params([Float32[-0.2899669; -0.19126086; -0.27566072; -0.6538345; -0.22439215; -0.67381316; -0.23031102; 0.5557785; -0.12138427; 0.28093508], Float32[0.14481354, -1.1670616, -0.9874929, 0.27345076, 0.10672641, -0.22184461, -0.64753664, 0.74641204, -0.33876815, 0.38162777], Float32[-0.39616188 -0.14603972 -0.6267011 -0.36432117 -0.2712687 -0.506032 0.2048129 -0.4978194 -0.5644721 0.48898196; -0.29627362 0.2994038 -0.5602033 -0.37507084 0.25244108 -0.045842443 -0.08009632 -0.556843 0.65121955 0.183792; 0.15760851 0.06543059 -0.39886087 -0.049068566 0.07515284 0.54246956 -0.04182065 0.34746274 -0.2648579 -0.18295544; 0.07474611 0.3174301 0.35754403 -0.022838002 -0.5938402 -0.36057553 -0.07061735 0.6451858 -0.43970266 -0.20411459; 0.14310737 0.6134369 -0.22779708 0.07100553 -0.5531833 0.13091649 -0.38851893 -0.02913154 -0.33160672 0.0018649349], Float32[0.3947538, -0.5480437, 0.6738113, 0.12682514, 0.037535254], Float32[0.6576624 0.6192616 -0.65680176 0.687573 0.26787943; 0.32460675 0.37281322 0.6006169 -0.044769857 0.66640806; 0.2383608 0.6795642 -0.22952068 -0.819849 -0.16503847; 0.7280913 -0.30397093 -0.19219886 0.6067703 -0.55484813; 0.677914 -0.056665905 -0.12206503 -0.31502542 -0.14547427], Float32[-0.21082437, 1.2232264, -0.036147222, -0.13742882, -0.7998849], Float32[-0.06883305 0.9019467 -0.82455903 0.8522039 0.32465726], Float32[0.055081762]])\n"
     ]
    },
    {
     "name": "stderr",
     "output_type": "stream",
     "text": [
      "┌ Info: Epoch 60\n",
      "└ @ Main /Users/facundosapienza/.julia/packages/Flux/goUGu/src/optimise/train.jl:136\n"
     ]
    },
    {
     "name": "stdout",
     "output_type": "stream",
     "text": [
      "Current loss: 1.5326373470512373\n",
      "Current parameter:Params([Float32[-0.28943357; -0.19191876; -0.2752637; -0.6533309; -0.22485511; -0.6735048; -0.22995424; 0.5563008; -0.12195764; 0.28047234], Float32[0.1452828, -1.167659, -0.9870806, 0.27387637, 0.10617115, -0.22220263, -0.6471795, 0.74695003, -0.33934245, 0.38118085], Float32[-0.3962596 -0.14675345 -0.6273675 -0.36460322 -0.27117008 -0.5066945 0.20415615 -0.49712303 -0.5652293 0.48961252; -0.2957732 0.29995835 -0.55969185 -0.37453562 0.25312346 -0.04528283 -0.07958762 -0.55740535 0.65183216 0.18328309; 0.15666175 0.06440068 -0.39984322 -0.050048035 0.07406838 0.5414641 -0.04279902 0.348484 -0.26593056 -0.18198368; 0.074585 0.31697935 0.3571576 -0.023029938 -0.5941063 -0.3608902 -0.07098878 0.645565 -0.4401716 -0.20378166; 0.1433626 0.61385864 -0.22743204 0.07129235 -0.55276215 0.13126935 -0.38816366 -0.029516215 -0.3311474 0.0015298468], Float32[0.39545244, -0.548558, 0.6748113, 0.12728806, 0.037121475], Float32[0.65663975 0.62070405 -0.65798676 0.686264 0.26860768; 0.32560766 0.3713345 0.6019859 -0.043651152 0.6658621; 0.2377754 0.6806247 -0.23061702 -0.8205237 -0.16486168; 0.7286711 -0.30505684 -0.1911592 0.6074684 -0.55503803; 0.6787917 -0.05805618 -0.12074177 -0.31400517 -0.14584264], Float32[-0.21181849, 1.2242174, -0.03673177, -0.13685079, -0.79901576], Float32[-0.068473145 0.902821 -0.8258961 0.8532892 0.32385403], Float32[0.055964362]])\n"
     ]
    },
    {
     "name": "stderr",
     "output_type": "stream",
     "text": [
      "┌ Info: Epoch 61\n",
      "└ @ Main /Users/facundosapienza/.julia/packages/Flux/goUGu/src/optimise/train.jl:136\n"
     ]
    },
    {
     "name": "stdout",
     "output_type": "stream",
     "text": [
      "Current loss: 1.5051233386712348\n",
      "Current parameter:Params([Float32[-0.2889159; -0.19256587; -0.27487853; -0.65284294; -0.22530392; -0.6732022; -0.22960581; 0.5568108; -0.122516595; 0.28002244], Float32[0.14573902, -1.1682479, -0.98667794, 0.27428862, 0.10562562, -0.22256054, -0.6468299, 0.7474785, -0.33990607, 0.38074458], Float32[-0.39634556 -0.14746246 -0.62802875 -0.36487663 -0.27108946 -0.5073519 0.20350458 -0.4964314 -0.5659823 0.49023762; -0.29528806 0.30050024 -0.5591934 -0.37401566 0.25378975 -0.04473794 -0.07909209 -0.5579539 0.6524316 0.1827879; 0.15573254 0.06338536 -0.40080988 -0.051010605 0.07299923 0.5404749 -0.043761577 0.34948984 -0.26698905 -0.18102817; 0.07443143 0.31653512 0.35677782 -0.023214398 -0.5943648 -0.3611977 -0.07135352 0.6459373 -0.44063398 -0.20345561; 0.14361514 0.61427796 -0.22706991 0.07157704 -0.55234 0.13162011 -0.38781127 -0.029898798 -0.33068958 0.0011975873], Float32[0.39614612, -0.54906034, 0.6757967, 0.12774448, 0.036710817], Float32[0.65561754 0.6221475 -0.65917724 0.68495655 0.26937413; 0.32660326 0.36985666 0.6033534 -0.042537745 0.6652814; 0.23719856 0.68168783 -0.23170835 -0.82118875 -0.1646723; 0.72924495 -0.30614522 -0.190122 0.6081607 -0.5552398; 0.6796682 -0.059452213 -0.1194159 -0.31298566 -0.14623773], Float32[-0.21281205, 1.225203, -0.037307803, -0.13627875, -0.7981479], Float32[-0.068138584 0.903694 -0.8272303 0.85437316 0.32305625], Float32[0.056845315]])\n"
     ]
    },
    {
     "name": "stderr",
     "output_type": "stream",
     "text": [
      "┌ Info: Epoch 62\n",
      "└ @ Main /Users/facundosapienza/.julia/packages/Flux/goUGu/src/optimise/train.jl:136\n"
     ]
    },
    {
     "name": "stdout",
     "output_type": "stream",
     "text": [
      "Current loss: 1.4783053619995559\n",
      "Current parameter:Params([Float32[-0.28841352; -0.19320254; -0.27450475; -0.65237015; -0.22573896; -0.6729057; -0.22926532; 0.5573088; -0.1230615; 0.27958503], Float32[0.14618255, -1.1688286, -0.9862846, 0.27468798, 0.10508958, -0.22291853, -0.6464875, 0.74799764, -0.34045932, 0.3803186], Float32[-0.39642012 -0.1481668 -0.6286849 -0.36514163 -0.27102643 -0.5080042 0.20285815 -0.4957445 -0.5667311 0.49085736; -0.29481772 0.30102983 -0.5587076 -0.37351054 0.2544403 -0.044207364 -0.07860934 -0.558489 0.6530182 0.18230599; 0.15482087 0.062384658 -0.40176088 -0.051956255 0.07194552 0.53950197 -0.044708338 0.35048023 -0.26803324 -0.18008892; 0.07428504 0.3160972 0.35640448 -0.023391731 -0.5946161 -0.36149833 -0.071711816 0.6463031 -0.44109002 -0.20313615; 0.14386526 0.6146951 -0.22671044 0.071859874 -0.55191654 0.131969 -0.3874615 -0.030279541 -0.33023304 0.0008679024], Float32[0.39683488, -0.5495511, 0.67676747, 0.12819463, 0.036303036], Float32[0.654596 0.6235915 -0.6603728 0.6836512 0.2701777; 0.32759354 0.36838037 0.60471904 -0.0414297 0.6646672; 0.23663002 0.68275255 -0.23279443 -0.82184446 -0.16447087; 0.72981304 -0.30723524 -0.18908751 0.6088471 -0.555453; 0.6805436 -0.060853135 -0.118087776 -0.31196687 -0.14665917], Float32[-0.21380486, 1.2261833, -0.0378756, -0.13571258, -0.79728127], Float32[-0.067829564 0.90456575 -0.8285614 0.8554558 0.32226405], Float32[0.05772467]])\n"
     ]
    },
    {
     "name": "stderr",
     "output_type": "stream",
     "text": [
      "┌ Info: Epoch 63\n",
      "└ @ Main /Users/facundosapienza/.julia/packages/Flux/goUGu/src/optimise/train.jl:136\n"
     ]
    },
    {
     "name": "stdout",
     "output_type": "stream",
     "text": [
      "Current loss: 1.452146889188748\n",
      "Current parameter:Params([Float32[-0.287926; -0.19382912; -0.27414197; -0.6519121; -0.22616059; -0.67261565; -0.22893238; 0.55779517; -0.12359272; 0.27915975], Float32[0.14661379, -1.1694014, -0.9859003, 0.27507484, 0.10456279, -0.22327675, -0.6461519, 0.7485078, -0.34100243, 0.37990263], Float32[-0.39648363 -0.1488665 -0.62933594 -0.36539847 -0.27098054 -0.5086515 0.2022168 -0.49506226 -0.56747574 0.49147177; -0.2943617 0.3015475 -0.55823404 -0.3730198 0.2550755 -0.043690685 -0.07813896 -0.5590111 0.65359217 0.18183698; 0.15392667 0.061398562 -0.40269628 -0.05288501 0.07090734 0.5385453 -0.04563935 0.35145515 -0.2690631 -0.17916588; 0.07414548 0.3156654 0.35603735 -0.023562275 -0.5948605 -0.36179233 -0.072063915 0.6466626 -0.44153994 -0.20282301; 0.14411318 0.6151102 -0.22635339 0.07214108 -0.5514917 0.13231628 -0.38711414 -0.030658673 -0.32977754 0.00054056064], Float32[0.39751878, -0.5500307, 0.67772365, 0.12863871, 0.035897903], Float32[0.65357524 0.6250356 -0.66157293 0.68234825 0.27101722; 0.32857847 0.36690632 0.6060824 -0.04032707 0.6640205; 0.23606952 0.68381804 -0.2338751 -0.82249117 -0.1642579; 0.73037547 -0.3083261 -0.18805605 0.60952777 -0.55567724; 0.68141806 -0.062258154 -0.11675773 -0.31094873 -0.1471066], Float32[-0.21479669, 1.2271582, -0.038435426, -0.13515215, -0.7964157], Float32[-0.067546256 0.90543634 -0.8298894 0.8565371 0.32147747], Float32[0.058602475]])\n"
     ]
    },
    {
     "name": "stderr",
     "output_type": "stream",
     "text": [
      "┌ Info: Epoch 64\n",
      "└ @ Main /Users/facundosapienza/.julia/packages/Flux/goUGu/src/optimise/train.jl:136\n"
     ]
    },
    {
     "name": "stdout",
     "output_type": "stream",
     "text": [
      "Current loss: 1.4266143048678623\n",
      "Current parameter:Params([Float32[-0.2874529; -0.19444597; -0.27378973; -0.6514683; -0.2265692; -0.6723324; -0.22860663; 0.5582702; -0.12411062; 0.27874625], Float32[0.14703311, -1.1699667, -0.9855246, 0.27544963, 0.104045, -0.22363535, -0.6458229, 0.7490092, -0.34153575, 0.3794963], Float32[-0.39653644 -0.14956158 -0.629982 -0.36564735 -0.27095136 -0.50929385 0.2015805 -0.49438468 -0.56821615 0.49208093; -0.29391956 0.30205357 -0.5577724 -0.37254304 0.25569576 -0.043187484 -0.077680565 -0.55952054 0.654154 0.18138042; 0.15304984 0.060427025 -0.40361616 -0.053796936 0.06988475 0.5376049 -0.046554703 0.35241467 -0.2700786 -0.17825896; 0.07401242 0.3152395 0.35567617 -0.023726352 -0.59509826 -0.36208 -0.07241005 0.64701605 -0.44198397 -0.20251596; 0.14435913 0.61552364 -0.22599855 0.07242087 -0.5510652 0.13266213 -0.38676897 -0.031036397 -0.32932287 0.00021535179], Float32[0.39819786, -0.55049944, 0.6786654, 0.12907693, 0.03549521], Float32[0.6525556 0.6264793 -0.6627772 0.681048 0.2718916; 0.32955804 0.36543506 0.6074431 -0.03922989 0.66334236; 0.23551676 0.6848836 -0.23495014 -0.8231291 -0.16403386; 0.7309323 -0.3094171 -0.18702787 0.6102028 -0.55591214; 0.6822916 -0.063666545 -0.11542607 -0.30993122 -0.1475797], Float32[-0.21578737, 1.2281277, -0.038987543, -0.13459735, -0.7955511], Float32[-0.067288786 0.90630573 -0.83121413 0.8576171 0.32069665], Float32[0.059478775]])\n"
     ]
    },
    {
     "name": "stderr",
     "output_type": "stream",
     "text": [
      "┌ Info: Epoch 65\n",
      "└ @ Main /Users/facundosapienza/.julia/packages/Flux/goUGu/src/optimise/train.jl:136\n"
     ]
    },
    {
     "name": "stdout",
     "output_type": "stream",
     "text": [
      "Current loss: 1.4016751161773366\n",
      "Current parameter:Params([Float32[-0.2869938; -0.19505343; -0.27344763; -0.6510383; -0.22696519; -0.67205614; -0.22828771; 0.5587343; -0.12461557; 0.2783441], Float32[0.14744088, -1.170525, -0.9851572, 0.27581277, 0.10353599, -0.22399442, -0.6455001, 0.7495021, -0.3420595, 0.37909934], Float32[-0.39657888 -0.15025206 -0.6306231 -0.3658885 -0.27093846 -0.5099313 0.20094918 -0.4937117 -0.5689524 0.4926849; -0.2934908 0.3025484 -0.5573222 -0.37207976 0.25630143 -0.04269734 -0.07723375 -0.56001776 0.654704 0.18093592; 0.15219025 0.059469968 -0.40452066 -0.054692138 0.06887774 0.53668064 -0.04745452 0.35335883 -0.2710798 -0.177368; 0.073885545 0.31481928 0.35532072 -0.023884268 -0.59532976 -0.36236164 -0.07275044 0.64736366 -0.44242227 -0.20221475; 0.14460328 0.61593544 -0.22564574 0.072699435 -0.55063695 0.13300677 -0.3864258 -0.0314129 -0.32886887 -0.00010791505], Float32[0.3988721, -0.5509577, 0.6795928, 0.12950946, 0.03509476], Float32[0.65153724 0.6279223 -0.66398513 0.67975074 0.27279964; 0.33053228 0.36396712 0.6088008 -0.03813818 0.66263384; 0.23497148 0.68594843 -0.23601943 -0.82375866 -0.16379921; 0.7314837 -0.31050757 -0.18600324 0.61087227 -0.5561573; 0.68316436 -0.06507765 -0.1140931 -0.30891427 -0.14807811], Float32[-0.21677671, 1.2290918, -0.039532218, -0.13404806, -0.7946875], Float32[-0.06705726 0.90717405 -0.83253545 0.85869575 0.3199217], Float32[0.060353614]])\n"
     ]
    },
    {
     "name": "stderr",
     "output_type": "stream",
     "text": [
      "┌ Info: Epoch 66\n",
      "└ @ Main /Users/facundosapienza/.julia/packages/Flux/goUGu/src/optimise/train.jl:136\n"
     ]
    },
    {
     "name": "stdout",
     "output_type": "stream",
     "text": [
      "Current loss: 1.3772992930075707\n",
      "Current parameter:Params([Float32[-0.2865483; -0.19565186; -0.27311528; -0.6506216; -0.22734892; -0.6717871; -0.2279753; 0.5591877; -0.12510796; 0.27795297], Float32[0.14783749, -1.1710764, -0.9847978, 0.2761647, 0.10303551, -0.22435407, -0.64518327, 0.7499868, -0.34257397, 0.37871143], Float32[-0.39661127 -0.15093796 -0.6312593 -0.36612216 -0.2709414 -0.5105639 0.2003228 -0.49304333 -0.56968445 0.49328372; -0.29307497 0.3030324 -0.5568831 -0.37162954 0.25689295 -0.04221983 -0.07679811 -0.5605031 0.65524244 0.18050306; 0.15134771 0.05852728 -0.4054099 -0.055570755 0.06788629 0.5357724 -0.048338953 0.35428777 -0.27206674 -0.17649287; 0.073764555 0.31440458 0.3549708 -0.024036316 -0.59555525 -0.36263746 -0.07308531 0.6477057 -0.44285503 -0.20191914; 0.14484583 0.6163459 -0.22529477 0.07297693 -0.5502068 0.13335033 -0.38608444 -0.031788345 -0.32841536 -0.00042941308], Float32[0.3995416, -0.5514058, 0.68050593, 0.12993649, 0.034696374], Float32[0.6505203 0.62936413 -0.66519636 0.6784568 0.27374017; 0.3315012 0.362503 0.6101553 -0.037051957 0.66189605; 0.23443343 0.687012 -0.23708285 -0.8243801 -0.16355437; 0.73202974 -0.31159687 -0.18498239 0.61153626 -0.55641234; 0.6840363 -0.066490866 -0.112759106 -0.30789787 -0.14860149], Float32[-0.21776456, 1.2300504, -0.040069703, -0.13350418, -0.7938248], Float32[-0.06685176 0.9080413 -0.83385324 0.8597731 0.3191527], Float32[0.061227035]])\n"
     ]
    },
    {
     "name": "stderr",
     "output_type": "stream",
     "text": [
      "┌ Info: Epoch 67\n",
      "└ @ Main /Users/facundosapienza/.julia/packages/Flux/goUGu/src/optimise/train.jl:136\n"
     ]
    },
    {
     "name": "stdout",
     "output_type": "stream",
     "text": [
      "Current loss: 1.353459276048703\n",
      "Current parameter:Params([Float32[-0.28611588; -0.19624159; -0.27279225; -0.6502178; -0.2277208; -0.6715254; -0.22766905; 0.5596309; -0.12558816; 0.2775725], Float32[0.14822331, -1.1716214, -0.98444605, 0.27650583, 0.10254334, -0.22471435, -0.64487207, 0.7504636, -0.34307945, 0.37833226], Float32[-0.39663395 -0.1516193 -0.63189065 -0.36634848 -0.27095976 -0.51119167 0.19970134 -0.49237952 -0.5704123 0.49387747; -0.2926716 0.30350587 -0.55645466 -0.3711919 0.25747073 -0.04175453 -0.07637328 -0.560977 0.65576977 0.18008141; 0.15052204 0.05759882 -0.4062841 -0.056432955 0.066910334 0.53488 -0.049208183 0.3552016 -0.27303952 -0.17563337; 0.07364916 0.3139952 0.35462624 -0.024182772 -0.59577507 -0.3629077 -0.073414855 0.64804226 -0.44328246 -0.20162891; 0.1450869 0.61675507 -0.22494549 0.073253505 -0.54977465 0.13369296 -0.38574475 -0.032162882 -0.32796222 -0.0007492996], Float32[0.40020633, -0.5518441, 0.68140507, 0.13035819, 0.034299884], Float32[0.6495051 0.6308045 -0.66641045 0.6771664 0.27471197; 0.33246475 0.36104307 0.61150616 -0.035971217 0.66112995; 0.23390234 0.68807375 -0.2381403 -0.82499367 -0.16329972; 0.7325706 -0.31268445 -0.18396555 0.61219484 -0.5566769; 0.6849076 -0.06790564 -0.11142435 -0.30688193 -0.14914949], Float32[-0.21875075, 1.2310038, -0.040600248, -0.13296561, -0.79296285], Float32[-0.066672325 0.9089076 -0.83516747 0.86084914 0.31838977], Float32[0.06209908]])\n"
     ]
    },
    {
     "name": "stderr",
     "output_type": "stream",
     "text": [
      "┌ Info: Epoch 68\n",
      "└ @ Main /Users/facundosapienza/.julia/packages/Flux/goUGu/src/optimise/train.jl:136\n"
     ]
    },
    {
     "name": "stdout",
     "output_type": "stream",
     "text": [
      "Current loss: 1.330128287898836\n",
      "Current parameter:Params([Float32[-0.2856962; -0.19682294; -0.27247816; -0.6498263; -0.2280812; -0.67127115; -0.22736867; 0.560064; -0.12605655; 0.27720234], Float32[0.1485987, -1.1721605, -0.98410165, 0.27683654, 0.102059245, -0.22507533, -0.64456624, 0.75093263, -0.3435762, 0.37796155], Float32[-0.3966472 -0.15229611 -0.63251716 -0.36656767 -0.27099308 -0.51181465 0.19908473 -0.49172026 -0.57113594 0.4944662; -0.29228023 0.30396917 -0.5560366 -0.3707664 0.25803515 -0.041301023 -0.07595886 -0.56143975 0.65628624 0.1796706; 0.14971298 0.05668443 -0.40714344 -0.05727894 0.06594977 0.53400326 -0.050062414 0.35610053 -0.27399826 -0.17478931; 0.073539086 0.313591 0.35428682 -0.024323901 -0.5959894 -0.3631726 -0.073739275 0.64837366 -0.4437047 -0.20134385; 0.14532664 0.6171632 -0.22459774 0.07352929 -0.5493405 0.13403481 -0.38540658 -0.032536644 -0.3275093 -0.0010677174], Float32[0.40086633, -0.552273, 0.6822903, 0.13077474, 0.033905137], Float32[0.6484916 0.632243 -0.667627 0.6758798 0.27571386; 0.33342305 0.35958776 0.6128532 -0.03489594 0.66033655; 0.23337796 0.68913317 -0.23919168 -0.8255997 -0.16303565; 0.7331063 -0.31376976 -0.18295294 0.61284804 -0.55695075; 0.6857783 -0.06932148 -0.11008909 -0.30586645 -0.1497218], Float32[-0.21973515, 1.2319518, -0.041124094, -0.13243224, -0.7921017], Float32[-0.066518985 0.9097729 -0.83647805 0.8619239 0.317633], Float32[0.06296979]])\n"
     ]
    },
    {
     "name": "stderr",
     "output_type": "stream",
     "text": [
      "┌ Info: Epoch 69\n",
      "└ @ Main /Users/facundosapienza/.julia/packages/Flux/goUGu/src/optimise/train.jl:136\n"
     ]
    },
    {
     "name": "stdout",
     "output_type": "stream",
     "text": [
      "Current loss: 1.3072815217093694\n",
      "Current parameter:Params([Float32[-0.2852888; -0.19739625; -0.27217266; -0.6494468; -0.22843048; -0.6710244; -0.22707386; 0.5604875; -0.12651351; 0.2768421], Float32[0.14896403, -1.1726938, -0.98376435, 0.27715725, 0.101583004, -0.22543703, -0.64426553, 0.7513942, -0.3440645, 0.377599], Float32[-0.3966514 -0.15296839 -0.63313884 -0.36677995 -0.2710409 -0.5124329 0.19847295 -0.49106553 -0.57185537 0.49504992; -0.29190043 0.30442268 -0.5556284 -0.37035266 0.25858665 -0.0408589 -0.07555448 -0.5618918 0.6567923 0.17927022; 0.14892028 0.055783916 -0.40798816 -0.058108933 0.06500447 0.533142 -0.050901875 0.3569847 -0.2749431 -0.17396043; 0.07343408 0.31319177 0.35395235 -0.024459954 -0.59619856 -0.36343235 -0.07405875 0.64870006 -0.44412193 -0.20106377; 0.14556518 0.61757034 -0.2242514 0.073804386 -0.5489042 0.13437599 -0.38506982 -0.03290975 -0.32705653 -0.0013847967], Float32[0.40152165, -0.5526927, 0.683162, 0.13118628, 0.033511993], Float32[0.6474801 0.63367933 -0.6688456 0.6745971 0.2767447; 0.3343761 0.3581374 0.6141962 -0.033826113 0.6595169; 0.23286006 0.69018984 -0.24023694 -0.8261984 -0.16276248; 0.733637 -0.31485236 -0.18194477 0.61349595 -0.55723345; 0.6866484 -0.070737936 -0.10875358 -0.30485138 -0.15031809], Float32[-0.22071764, 1.2328945, -0.04164148, -0.13190398, -0.79124117], Float32[-0.066391736 0.91063726 -0.83778495 0.86299735 0.31688252], Float32[0.0638392]])\n"
     ]
    },
    {
     "name": "stderr",
     "output_type": "stream",
     "text": [
      "┌ Info: Epoch 70\n",
      "└ @ Main /Users/facundosapienza/.julia/packages/Flux/goUGu/src/optimise/train.jl:136\n"
     ]
    },
    {
     "name": "stdout",
     "output_type": "stream",
     "text": [
      "Current loss: 1.2848962140840885\n",
      "Current parameter:Params([Float32[-0.28489327; -0.19796184; -0.27187538; -0.6490787; -0.22876903; -0.6707852; -0.22678435; 0.5609017; -0.12695941; 0.27649143], Float32[0.14931965, -1.1732217, -0.98343384, 0.27746832, 0.1011144, -0.22579946, -0.6439697, 0.7518486, -0.34454462, 0.37724432], Float32[-0.39664677 -0.15363617 -0.63375574 -0.3669855 -0.2711028 -0.5130464 0.19786595 -0.49041533 -0.57257056 0.49562874; -0.29153174 0.3048667 -0.55522984 -0.3699502 0.25912562 -0.04042775 -0.07515977 -0.5623335 0.6572882 0.17887989; 0.14814368 0.054897074 -0.40881848 -0.058923185 0.06407427 0.53229594 -0.05172681 0.35785437 -0.27587423 -0.17314649; 0.0733339 0.31279737 0.35362267 -0.02459117 -0.59640276 -0.3636872 -0.07437346 0.6490216 -0.4445343 -0.20078848; 0.14580262 0.61797667 -0.22390634 0.0740789 -0.5484657 0.1347166 -0.3847343 -0.03328231 -0.32660377 -0.0017006558], Float32[0.4021723, -0.5531037, 0.6840202, 0.13159296, 0.033120316], Float32[0.64647055 0.63511324 -0.67006594 0.67331856 0.27780327; 0.33532396 0.3566923 0.61553484 -0.0327617 0.65867186; 0.2323484 0.6912434 -0.24127603 -0.82679015 -0.16248053; 0.7341627 -0.31593177 -0.18094122 0.61413866 -0.55752474; 0.68751806 -0.07215459 -0.10741803 -0.3038367 -0.150938], Float32[-0.22169812, 1.233832, -0.042152643, -0.13138074, -0.79038125], Float32[-0.06629054 0.91150075 -0.8390881 0.8640695 0.31613842], Float32[0.06470734]])\n"
     ]
    },
    {
     "name": "stderr",
     "output_type": "stream",
     "text": [
      "┌ Info: Epoch 71\n",
      "└ @ Main /Users/facundosapienza/.julia/packages/Flux/goUGu/src/optimise/train.jl:136\n"
     ]
    },
    {
     "name": "stdout",
     "output_type": "stream",
     "text": [
      "Current loss: 1.26295028423216\n",
      "Current parameter:Params([Float32[-0.28450918; -0.19852; -0.27158597; -0.64872175; -0.22909722; -0.6705535; -0.22649986; 0.56130683; -0.12739462; 0.27615005], Float32[0.1496659, -1.1737446, -0.98310983, 0.27777013, 0.10065322, -0.22616263, -0.64367855, 0.752296, -0.34501678, 0.37689725], Float32[-0.39663365 -0.15429947 -0.63436794 -0.3671845 -0.2711783 -0.51365525 0.1972637 -0.48976964 -0.5732815 0.49620268; -0.29117376 0.30530158 -0.5548405 -0.3695586 0.25965247 -0.040007185 -0.07477438 -0.56276524 0.65777427 0.17849922; 0.14738287 0.05402368 -0.40963468 -0.05972196 0.063159 0.5314649 -0.052537482 0.35870972 -0.27679178 -0.1723472; 0.0732383 0.31240764 0.35329762 -0.024717772 -0.5966022 -0.36393732 -0.07468358 0.64933854 -0.44494197 -0.2005178; 0.14603905 0.6183823 -0.22356245 0.07435293 -0.54802513 0.13505673 -0.38439995 -0.03365442 -0.32615095 -0.002015403], Float32[0.4028183, -0.5535062, 0.6848653, 0.13199495, 0.03272998], Float32[0.64546317 0.63654447 -0.67128766 0.67204434 0.2788885; 0.33626667 0.35525274 0.616869 -0.031702667 0.6578024; 0.23184274 0.6922935 -0.24230891 -0.8273752 -0.16219011; 0.7346836 -0.3170076 -0.17994249 0.6147762 -0.5578244; 0.6883873 -0.07357106 -0.10608266 -0.30282235 -0.15158123], Float32[-0.2226765, 1.2347643, -0.0426578, -0.13086243, -0.7895219], Float32[-0.066215366 0.91236335 -0.8403874 0.86514044 0.31540078], Float32[0.06557425]])\n"
     ]
    },
    {
     "name": "stderr",
     "output_type": "stream",
     "text": [
      "┌ Info: Epoch 72\n",
      "└ @ Main /Users/facundosapienza/.julia/packages/Flux/goUGu/src/optimise/train.jl:136\n"
     ]
    },
    {
     "name": "stdout",
     "output_type": "stream",
     "text": [
      "Current loss: 1.2414234349787105\n",
      "Current parameter:Params([Float32[-0.28413612; -0.19907106; -0.2713041; -0.6483754; -0.22941539; -0.67032933; -0.22622013; 0.56170326; -0.12781948; 0.27581757], Float32[0.15000314, -1.1742625, -0.9827921, 0.27806306, 0.10019927, -0.22652653, -0.6433918, 0.7527366, -0.34548125, 0.3765575], Float32[-0.39661232 -0.15495828 -0.63497543 -0.3673771 -0.27126703 -0.51425946 0.19666617 -0.4891284 -0.57398826 0.49677178; -0.29082605 0.30572766 -0.55446005 -0.36917746 0.2601676 -0.03959681 -0.074397944 -0.56318736 0.6582509 0.17812787; 0.14663754 0.05316349 -0.41043705 -0.060505547 0.06225845 0.5306485 -0.05333417 0.35955104 -0.277696 -0.17156228; 0.07314707 0.31202245 0.35297704 -0.024839977 -0.59679717 -0.36418292 -0.07498925 0.64965093 -0.44534507 -0.20025155; 0.14627457 0.6187872 -0.22321962 0.074626535 -0.5475823 0.13539647 -0.38406667 -0.034026172 -0.32569796 -0.0023291374], Float32[0.40345964, -0.55390054, 0.6856975, 0.13239236, 0.032340873], Float32[0.644458 0.6379728 -0.67251045 0.67077446 0.2799992; 0.3372043 0.35381892 0.6181984 -0.030648965 0.65690947; 0.23134287 0.6933399 -0.24333557 -0.8279537 -0.16189149; 0.73519963 -0.3180795 -0.17894873 0.61540866 -0.558132; 0.68925613 -0.074987024 -0.104747675 -0.30180833 -0.15224743], Float32[-0.22365272, 1.2356914, -0.043157168, -0.13034897, -0.78866297], Float32[-0.066166125 0.9132251 -0.8416829 0.86621004 0.31466973], Float32[0.066439964]])\n"
     ]
    },
    {
     "name": "stderr",
     "output_type": "stream",
     "text": [
      "┌ Info: Epoch 73\n",
      "└ @ Main /Users/facundosapienza/.julia/packages/Flux/goUGu/src/optimise/train.jl:136\n"
     ]
    },
    {
     "name": "stdout",
     "output_type": "stream",
     "text": [
      "Current loss: 1.220295901501695\n",
      "Current parameter:Params([Float32[-0.2837737; -0.1996153; -0.27102944; -0.6480392; -0.22972387; -0.67011255; -0.22594494; 0.5620913; -0.12823436; 0.2754937], Float32[0.15033166, -1.1747761, -0.98248035, 0.27834746, 0.09975234, -0.22689116, -0.64310926, 0.7531708, -0.3459383, 0.37622482], Float32[-0.39658305 -0.15561263 -0.6355783 -0.36756352 -0.2713685 -0.5148591 0.19607331 -0.48849165 -0.57469076 0.49733612; -0.2904882 0.30614525 -0.5540881 -0.3688064 0.2606714 -0.03919625 -0.07403014 -0.5636002 0.6587184 0.17776546; 0.14590736 0.052316252 -0.41122586 -0.06127424 0.061372403 0.52984655 -0.054117158 0.3603786 -0.27858713 -0.17079145; 0.073060006 0.31164166 0.35266078 -0.024957987 -0.5969878 -0.36442414 -0.07529064 0.64995897 -0.44574374 -0.19998957; 0.14650925 0.61919165 -0.22287776 0.0748998 -0.5471373 0.13573588 -0.38373435 -0.034397643 -0.32524475 -0.0026419503], Float32[0.4040964, -0.554287, 0.68651706, 0.13278534, 0.031952888], Float32[0.6434551 0.6393979 -0.673734 0.6695091 0.28113434; 0.3381369 0.3523911 0.619523 -0.029600544 0.6559939; 0.23084857 0.69438225 -0.244356 -0.828526 -0.16158491; 0.73571104 -0.3191471 -0.1779601 0.61603606 -0.5584474; 0.69012463 -0.07640216 -0.10341326 -0.3007946 -0.15293628], Float32[-0.2246267, 1.2366135, -0.043650955, -0.12984027, -0.78780454], Float32[-0.06614273 0.9140861 -0.84297454 0.8672784 0.31394538], Float32[0.06730451]])\n"
     ]
    },
    {
     "name": "stderr",
     "output_type": "stream",
     "text": [
      "┌ Info: Epoch 74\n",
      "└ @ Main /Users/facundosapienza/.julia/packages/Flux/goUGu/src/optimise/train.jl:136\n"
     ]
    },
    {
     "name": "stdout",
     "output_type": "stream",
     "text": [
      "Current loss: 1.199550749491197\n",
      "Current parameter:Params([Float32[-0.28342152; -0.200153; -0.27076167; -0.6477129; -0.23002301; -0.66990316; -0.22567405; 0.5624712; -0.1286396; 0.27517813], Float32[0.15065181, -1.1752855, -0.9821744, 0.27862367, 0.09931224, -0.22725648, -0.6428307, 0.75359863, -0.34638813, 0.37589896], Float32[-0.39654616 -0.15626256 -0.63617647 -0.36774388 -0.27148232 -0.5154541 0.1954851 -0.48785934 -0.575389 0.4978957; -0.29015985 0.30655465 -0.5537244 -0.368445 0.26116428 -0.03880513 -0.073670626 -0.5640041 0.65917706 0.17741165; 0.145192 0.051481705 -0.4120014 -0.062028352 0.06050062 0.5290587 -0.054886747 0.36119264 -0.27946535 -0.17003438; 0.0729769 0.31126514 0.3523487 -0.025071993 -0.5971743 -0.3646612 -0.07558788 0.65026283 -0.4461381 -0.19973171; 0.14674315 0.61959565 -0.22253677 0.07517278 -0.5466901 0.13607506 -0.38340288 -0.03476891 -0.32479125 -0.0029539256], Float32[0.40472856, -0.554666, 0.6873243, 0.133174, 0.03156592], Float32[0.6424545 0.6408197 -0.6749581 0.6682483 0.28229284; 0.33906454 0.3509694 0.6208426 -0.028557349 0.65505654; 0.23035963 0.6954204 -0.2453702 -0.8290924 -0.16127063; 0.7362178 -0.32021013 -0.17697676 0.6166585 -0.55877036; 0.6909929 -0.07781619 -0.1020796 -0.2997811 -0.15364744], Float32[-0.22559841, 1.2375306, -0.044139363, -0.12933627, -0.7869465], Float32[-0.06614507 0.9149463 -0.8442623 0.8683455 0.31322786], Float32[0.06816792]])\n"
     ]
    },
    {
     "name": "stderr",
     "output_type": "stream",
     "text": [
      "┌ Info: Epoch 75\n",
      "└ @ Main /Users/facundosapienza/.julia/packages/Flux/goUGu/src/optimise/train.jl:136\n"
     ]
    },
    {
     "name": "stdout",
     "output_type": "stream",
     "text": [
      "Current loss: 1.179170287032703\n",
      "Current parameter:Params([Float32[-0.28307924; -0.20068443; -0.2705005; -0.64739597; -0.23031314; -0.66970104; -0.22540723; 0.5628433; -0.12903553; 0.2748705], Float32[0.1509639, -1.1757909, -0.981874, 0.278892, 0.098878786, -0.22762245, -0.64255595, 0.7540204, -0.346831, 0.37557968], Float32[-0.39650187 -0.15690807 -0.63677007 -0.36791837 -0.27160805 -0.5160446 0.1949015 -0.48723146 -0.576083 0.49845058; -0.28984058 0.30695617 -0.5533686 -0.36809292 0.2616466 -0.0384231 -0.073319085 -0.5643994 0.6596272 0.1770661; 0.1444911 0.05065957 -0.41276398 -0.0627682 0.05964285 0.52828467 -0.055643238 0.36199346 -0.28033096 -0.16929075; 0.07289757 0.31089276 0.35204062 -0.025182178 -0.59735686 -0.3648942 -0.07588112 0.65056264 -0.44652832 -0.1994778; 0.14697635 0.6199993 -0.22219658 0.07544553 -0.54624075 0.13641407 -0.38307223 -0.035140034 -0.32433736 -0.003265142], Float32[0.40535617, -0.5550376, 0.6881194, 0.13355848, 0.031179875], Float32[0.6414563 0.6422381 -0.67618245 0.6669921 0.2834737; 0.33998725 0.34955403 0.62215704 -0.02751932 0.6540983; 0.22987585 0.6964541 -0.24637817 -0.82965297 -0.16094887; 0.73672 -0.32126826 -0.17599882 0.617276 -0.55910057; 0.6918609 -0.079228856 -0.100746855 -0.2987679 -0.15438057], Float32[-0.22656782, 1.2384427, -0.044622585, -0.12883689, -0.78608876], Float32[-0.06617301 0.91580576 -0.8455462 0.86941135 0.31251726], Float32[0.06903022]])\n"
     ]
    },
    {
     "name": "stderr",
     "output_type": "stream",
     "text": [
      "┌ Info: Epoch 76\n",
      "└ @ Main /Users/facundosapienza/.julia/packages/Flux/goUGu/src/optimise/train.jl:136\n"
     ]
    },
    {
     "name": "stdout",
     "output_type": "stream",
     "text": [
      "Current loss: 1.159138805194832\n",
      "Current parameter:Params([Float32[-0.28274646; -0.20120987; -0.27024567; -0.6470881; -0.23059456; -0.6695061; -0.22514428; 0.5632079; -0.12942249; 0.27457058], Float32[0.15126821, -1.1762927, -0.9815789, 0.27915278, 0.0984518, -0.22798905, -0.6422848, 0.75443625, -0.3472671, 0.37526676], Float32[-0.39645046 -0.15754916 -0.6373591 -0.36808714 -0.2717453 -0.51663065 0.19432247 -0.48660797 -0.57677275 0.49900082; -0.28953004 0.3073501 -0.5530204 -0.36774978 0.26211873 -0.038049802 -0.07297521 -0.5647865 0.6600691 0.1767285; 0.14380434 0.049849574 -0.41351393 -0.06349411 0.058798827 0.5275241 -0.056386948 0.36278135 -0.28118417 -0.16856025; 0.07282183 0.3105244 0.3517365 -0.025288714 -0.59753567 -0.36512336 -0.07617048 0.6508585 -0.44691446 -0.19922775; 0.14720891 0.62040263 -0.22185709 0.075718105 -0.5457892 0.13675293 -0.3827423 -0.035511084 -0.32388306 -0.003575672], Float32[0.40597925, -0.5554023, 0.68890274, 0.13393888, 0.030794663], Float32[0.64046055 0.6436528 -0.67740685 0.6657406 0.2846759; 0.34090513 0.3481451 0.62346625 -0.026486393 0.65311986; 0.22939704 0.69748324 -0.24737994 -0.830208 -0.16061985; 0.7372178 -0.32232127 -0.17502643 0.6178886 -0.5594378; 0.6927287 -0.08063993 -0.099415176 -0.29775488 -0.15513536], Float32[-0.2275349, 1.2393498, -0.04510081, -0.12834205, -0.7852314], Float32[-0.06622641 0.9166645 -0.84682614 0.87047595 0.31181365], Float32[0.06989143]])\n"
     ]
    },
    {
     "name": "stderr",
     "output_type": "stream",
     "text": [
      "┌ Info: Epoch 77\n",
      "└ @ Main /Users/facundosapienza/.julia/packages/Flux/goUGu/src/optimise/train.jl:136\n"
     ]
    },
    {
     "name": "stdout",
     "output_type": "stream",
     "text": [
      "Current loss: 1.1394408052183873\n",
      "Current parameter:Params([Float32[-0.28242284; -0.2017296; -0.26999685; -0.64678895; -0.23086758; -0.66931814; -0.224885; 0.5635652; -0.12980078; 0.27427804], Float32[0.15156505, -1.176791, -0.98128885, 0.2794063, 0.09803111, -0.22835621, -0.64201707, 0.7548464, -0.34769666, 0.37495995], Float32[-0.39639217 -0.15818585 -0.63794357 -0.36825034 -0.27189365 -0.5172122 0.19374798 -0.4859889 -0.57745826 0.49954644; -0.28922787 0.30773672 -0.55267954 -0.36741522 0.26258105 -0.037684906 -0.072638705 -0.5651656 0.6605031 0.17639853; 0.14313135 0.049051423 -0.41425154 -0.064206414 0.057968277 0.5267768 -0.05711819 0.3635566 -0.28202528 -0.16784255; 0.072749525 0.31015995 0.35143614 -0.025391765 -0.59771085 -0.36534876 -0.07645609 0.65115064 -0.44729668 -0.19898139; 0.1474409 0.6208058 -0.22151823 0.07599055 -0.5453355 0.13709173 -0.38241297 -0.035882115 -0.32342827 -0.0038855842], Float32[0.40659782, -0.5557602, 0.6896746, 0.13431531, 0.030410198], Float32[0.6394672 0.6450638 -0.67863107 0.66449374 0.28589854; 0.34181824 0.34674272 0.62477016 -0.025458504 0.6521221; 0.22892304 0.69850767 -0.24837555 -0.83075774 -0.16028376; 0.73771113 -0.3233689 -0.17405969 0.6184964 -0.55978185; 0.6935963 -0.082049206 -0.09808472 -0.29674208 -0.15591146], Float32[-0.22849967, 1.2402523, -0.04557421, -0.1278517, -0.7843743], Float32[-0.06630509 0.9175225 -0.8481022 0.87153935 0.31111717], Float32[0.070751585]])\n"
     ]
    },
    {
     "name": "stderr",
     "output_type": "stream",
     "text": [
      "┌ Info: Epoch 78\n",
      "└ @ Main /Users/facundosapienza/.julia/packages/Flux/goUGu/src/optimise/train.jl:136\n"
     ]
    },
    {
     "name": "stdout",
     "output_type": "stream",
     "text": [
      "Current loss: 1.1200627247411634\n",
      "Current parameter:Params([Float32[-0.28210804; -0.20224383; -0.2697538; -0.6464981; -0.23113248; -0.66913706; -0.2246292; 0.5639155; -0.13017072; 0.27399263], Float32[0.15185468, -1.1772861, -0.9810037, 0.2796529, 0.09761655, -0.2287239, -0.6417526, 0.75525105, -0.3481199, 0.37465903], Float32[-0.39632726 -0.15881819 -0.6385235 -0.36840814 -0.2720527 -0.5177893 0.19317801 -0.48537418 -0.5781395 0.5000875; -0.28893375 0.30811632 -0.5523457 -0.36708888 0.2630339 -0.037328083 -0.072309285 -0.565537 0.66092944 0.17607589; 0.14247176 0.048264835 -0.41497713 -0.06490546 0.05715092 0.5260423 -0.057837278 0.36431953 -0.28285453 -0.16713732; 0.07268049 0.30979928 0.35113946 -0.025491484 -0.59788257 -0.36557057 -0.07673807 0.6514391 -0.44767505 -0.19873859; 0.14767233 0.62120885 -0.22117995 0.076262906 -0.5448796 0.1374305 -0.38208425 -0.036253188 -0.32297295 -0.0041949432], Float32[0.4072119, -0.55611163, 0.6904353, 0.13468789, 0.030026399], Float32[0.6384762 0.646471 -0.6798549 0.6632515 0.2871407; 0.34272665 0.345347 0.6260686 -0.024435582 0.6511057; 0.22845365 0.6995272 -0.24936503 -0.83130234 -0.15994076; 0.7382001 -0.32441097 -0.1730987 0.61909944 -0.56013244; 0.6944638 -0.0834565 -0.09675561 -0.29572946 -0.15670852], Float32[-0.22946212, 1.2411499, -0.046042964, -0.12736575, -0.7835174], Float32[-0.066408895 0.91837984 -0.8493744 0.8726015 0.31042793], Float32[0.07161071]])\n"
     ]
    },
    {
     "name": "stderr",
     "output_type": "stream",
     "text": [
      "┌ Info: Epoch 79\n",
      "└ @ Main /Users/facundosapienza/.julia/packages/Flux/goUGu/src/optimise/train.jl:136\n"
     ]
    },
    {
     "name": "stdout",
     "output_type": "stream",
     "text": [
      "Current loss: 1.1009907666014187\n",
      "Current parameter:Params([Float32[-0.2818017; -0.20275284; -0.26951632; -0.64621526; -0.23138955; -0.6689628; -0.22437668; 0.564259; -0.13053259; 0.27371407], Float32[0.15213738, -1.1777785, -0.98072326, 0.27989283, 0.09720797, -0.22909206, -0.64149123, 0.7556504, -0.34853706, 0.3743638], Float32[-0.39625597 -0.15944616 -0.639099 -0.36856067 -0.27222207 -0.51836205 0.19261253 -0.48476383 -0.5788165 0.500624; -0.28864732 0.30848914 -0.5520186 -0.36677048 0.2634776 -0.036979023 -0.07198667 -0.56590104 0.6613484 0.17576028; 0.14182524 0.047489513 -0.41569102 -0.065591566 0.056346465 0.5253203 -0.05854453 0.36507043 -0.2836722 -0.16644424; 0.072614565 0.3094423 0.35084635 -0.025588017 -0.59805095 -0.36578894 -0.07701651 0.6517239 -0.44804966 -0.19849925; 0.14790328 0.62161183 -0.22084217 0.07653522 -0.5444216 0.13776931 -0.38175604 -0.03662435 -0.32251707 -0.0045038103], Float32[0.4078215, -0.55645686, 0.69118506, 0.13505669, 0.029643187], Float32[0.6374876 0.6478743 -0.6810783 0.66201395 0.28840148; 0.34363043 0.343958 0.62736154 -0.023417559 0.65007144; 0.22798872 0.70054185 -0.25034842 -0.83184206 -0.15959105; 0.73868483 -0.3254473 -0.17214356 0.61969775 -0.5604894; 0.69533116 -0.084861636 -0.095427975 -0.294717 -0.15752621], Float32[-0.23042227, 1.2420429, -0.046507232, -0.12688415, -0.7826608], Float32[-0.06653762 0.9192365 -0.85064274 0.8736625 0.30974606], Float32[0.072468825]])\n"
     ]
    },
    {
     "name": "stderr",
     "output_type": "stream",
     "text": [
      "┌ Info: Epoch 80\n",
      "└ @ Main /Users/facundosapienza/.julia/packages/Flux/goUGu/src/optimise/train.jl:136\n"
     ]
    },
    {
     "name": "stdout",
     "output_type": "stream",
     "text": [
      "Current loss: 1.082212640037841\n",
      "Current parameter:Params([Float32[-0.28150353; -0.20325686; -0.2692841; -0.64594007; -0.23163906; -0.66879505; -0.22412728; 0.564596; -0.1308867; 0.2734421], Float32[0.15241343, -1.1782681, -0.98044735, 0.28012636, 0.09680521, -0.22946064, -0.6412328, 0.7560446, -0.34894827, 0.37407407], Float32[-0.3961785 -0.1600698 -0.6396701 -0.36870804 -0.27240136 -0.5189304 0.1920515 -0.4841578 -0.57948923 0.50115603; -0.28836828 0.30885544 -0.5516979 -0.36645967 0.26391247 -0.03663742 -0.07167059 -0.566258 0.6617603 0.17545144; 0.14119142 0.04672517 -0.41639352 -0.066265084 0.055554625 0.5246105 -0.05924027 0.36580962 -0.2844786 -0.16576298; 0.072551616 0.30908895 0.3505567 -0.025681503 -0.5982162 -0.36600393 -0.07729153 0.6520054 -0.44842064 -0.19826324; 0.14813378 0.6220148 -0.22050482 0.076807514 -0.54396147 0.1381082 -0.38142827 -0.03699565 -0.32206056 -0.0048122434], Float32[0.40842667, -0.5567961, 0.6919242, 0.13542183, 0.02926049], Float32[0.6365014 0.64927363 -0.68230104 0.66078097 0.2896801; 0.34452966 0.34257576 0.62864894 -0.022404362 0.64902; 0.22752807 0.7015515 -0.25132576 -0.832377 -0.15923476; 0.73916537 -0.32647768 -0.17119437 0.62029135 -0.5608526; 0.69619846 -0.08626447 -0.09410194 -0.29370475 -0.15836416], Float32[-0.23138016, 1.2429312, -0.04696717, -0.12640683, -0.7818043], Float32[-0.066691056 0.92009246 -0.8519072 0.8747222 0.30907163], Float32[0.07332595]])\n"
     ]
    },
    {
     "name": "stderr",
     "output_type": "stream",
     "text": [
      "┌ Info: Epoch 81\n",
      "└ @ Main /Users/facundosapienza/.julia/packages/Flux/goUGu/src/optimise/train.jl:136\n"
     ]
    },
    {
     "name": "stdout",
     "output_type": "stream",
     "text": [
      "Current loss: 1.0637163806815881\n",
      "Current parameter:Params([Float32[-0.28121322; -0.20375611; -0.26905695; -0.64567226; -0.23188125; -0.66863376; -0.22388084; 0.56492674; -0.13123332; 0.27317646], Float32[0.15268305, -1.1787553, -0.9801758, 0.28035378, 0.09640812, -0.22982956, -0.64097714, 0.75643384, -0.34935373, 0.37378964], Float32[-0.39609516 -0.1606891 -0.64023674 -0.36885044 -0.27259022 -0.51949435 0.1914949 -0.4835561 -0.5801577 0.5016836; -0.2880963 0.3092155 -0.5513835 -0.36615616 0.26433885 -0.036302984 -0.0713608 -0.56660813 0.6621653 0.17514908; 0.14056994 0.04597151 -0.41708496 -0.06692635 0.0547751 0.5239126 -0.05992481 0.3665374 -0.28527397 -0.16509318; 0.07249151 0.3087391 0.3502704 -0.025772072 -0.59837836 -0.3662157 -0.07756324 0.65228343 -0.44878808 -0.19803047; 0.14836389 0.62241787 -0.22016785 0.07707984 -0.54349923 0.1384472 -0.3811009 -0.037367135 -0.3216034 -0.0051202984], Float32[0.4090274, -0.5571295, 0.69265306, 0.13578337, 0.028878236], Float32[0.6355175 0.650669 -0.683523 0.6595525 0.29097575; 0.3454244 0.34120035 0.6299307 -0.02139592 0.6479521; 0.22707155 0.7025561 -0.2522971 -0.83290744 -0.15887205; 0.7396417 -0.32750195 -0.17025119 0.6208803 -0.5612217; 0.6970657 -0.08766486 -0.09277762 -0.29269266 -0.15922204], Float32[-0.23233584, 1.2438151, -0.04742293, -0.12593374, -0.78094804], Float32[-0.06686898 0.92094785 -0.8531678 0.8757807 0.30840477], Float32[0.0741821]])\n"
     ]
    },
    {
     "name": "stderr",
     "output_type": "stream",
     "text": [
      "┌ Info: Epoch 82\n",
      "└ @ Main /Users/facundosapienza/.julia/packages/Flux/goUGu/src/optimise/train.jl:136\n"
     ]
    },
    {
     "name": "stdout",
     "output_type": "stream",
     "text": [
      "Current loss: 1.0454907969625813\n",
      "Current parameter:Params([Float32[-0.28093046; -0.20425083; -0.26883465; -0.6454115; -0.23211636; -0.6684788; -0.2236372; 0.5652514; -0.13157271; 0.27291694], Float32[0.15294649, -1.1792402, -0.9799084, 0.2805753, 0.09601658, -0.23019879, -0.6407242, 0.75681823, -0.34975362, 0.3735103], Float32[-0.3960061 -0.1613041 -0.640799 -0.36898798 -0.2727883 -0.52005404 0.19094269 -0.4829587 -0.58082193 0.50220674; -0.28783113 0.30956948 -0.55107504 -0.36585966 0.26475707 -0.035975434 -0.071057044 -0.5669517 0.6625637 0.17485295; 0.13996045 0.045228243 -0.41776565 -0.0675757 0.054007597 0.52322626 -0.060598463 0.36725405 -0.28605857 -0.16443457; 0.07243412 0.30839267 0.34998736 -0.025859848 -0.59853756 -0.36642438 -0.07783172 0.65255827 -0.44915202 -0.19780083; 0.14859363 0.62282103 -0.2198312 0.077352226 -0.5430349 0.13878636 -0.38077387 -0.037738856 -0.3211455 -0.0054280288], Float32[0.40962374, -0.5574574, 0.6933719, 0.13614142, 0.028496357], Float32[0.63453585 0.65206033 -0.68474406 0.65832853 0.29228768; 0.34631476 0.3398318 0.63120675 -0.02039216 0.6468683; 0.22661904 0.7035555 -0.25326252 -0.8334335 -0.15850307; 0.740114 -0.32852003 -0.1693141 0.62146467 -0.56159663; 0.6979329 -0.089062676 -0.0914551 -0.29168072 -0.16009949], Float32[-0.23328935, 1.2446945, -0.04787466, -0.12546481, -0.78009194], Float32[-0.06707118 0.9218026 -0.85442454 0.876838 0.3077456], Float32[0.0750373]])\n"
     ]
    },
    {
     "name": "stderr",
     "output_type": "stream",
     "text": [
      "┌ Info: Epoch 83\n",
      "└ @ Main /Users/facundosapienza/.julia/packages/Flux/goUGu/src/optimise/train.jl:136\n"
     ]
    },
    {
     "name": "stdout",
     "output_type": "stream",
     "text": [
      "Current loss: 1.0275254136927026\n",
      "Current parameter:Params([Float32[-0.28065497; -0.20474121; -0.26861697; -0.6451575; -0.23234464; -0.66832995; -0.22339618; 0.56557024; -0.13190512; 0.2726633], Float32[0.15320396, -1.1797231, -0.979645, 0.2807912, 0.095630445, -0.23056825, -0.6404737, 0.757198, -0.3501481, 0.3732359], Float32[-0.39591154 -0.16191483 -0.6413569 -0.36912078 -0.27299517 -0.5206095 0.19039483 -0.48236558 -0.58148193 0.50272554; -0.28757244 0.30991766 -0.55077237 -0.36556986 0.2651674 -0.0356545 -0.070759095 -0.56728894 0.6629557 0.17456281; 0.13936262 0.04449508 -0.4184359 -0.06821346 0.05325182 0.5225511 -0.06126154 0.36795992 -0.28683272 -0.16378678; 0.07237932 0.3080496 0.3497075 -0.025944948 -0.59869397 -0.36663005 -0.07809707 0.65282995 -0.4495126 -0.19757423; 0.14882307 0.6232244 -0.2194948 0.07762471 -0.5425685 0.13912573 -0.38044712 -0.038110856 -0.32068688 -0.0057354867], Float32[0.4102157, -0.5577799, 0.694081, 0.13649605, 0.028114785], Float32[0.6335564 0.6534477 -0.6859641 0.65710896 0.29361516; 0.34720075 0.33847013 0.63247716 -0.019393012 0.64576924; 0.22617036 0.70454985 -0.25422204 -0.83395535 -0.15812795; 0.74058217 -0.32953176 -0.16838315 0.6220445 -0.56197715; 0.6988001 -0.09045782 -0.090134494 -0.29066893 -0.16099617], Float32[-0.23424074, 1.2455695, -0.04832249, -0.125, -0.77923596], Float32[-0.0672974 0.9226567 -0.8556775 0.87789416 0.30709422], Float32[0.07589157]])\n"
     ]
    },
    {
     "name": "stderr",
     "output_type": "stream",
     "text": [
      "┌ Info: Epoch 84\n",
      "└ @ Main /Users/facundosapienza/.julia/packages/Flux/goUGu/src/optimise/train.jl:136\n"
     ]
    },
    {
     "name": "stdout",
     "output_type": "stream",
     "text": [
      "Current loss: 1.0098099073431257\n",
      "Current parameter:Params([Float32[-0.28038648; -0.20522748; -0.26840374; -0.64491004; -0.23256631; -0.6681871; -0.22315767; 0.56588346; -0.13223082; 0.2724153], Float32[0.1534557, -1.1802042, -0.9793855, 0.28100166, 0.09524959, -0.23093788, -0.64022565, 0.75757325, -0.3505374, 0.37296626], Float32[-0.3958117 -0.16252129 -0.64191043 -0.36924896 -0.2732106 -0.52116066 0.18985131 -0.48177674 -0.5821377 0.50324; -0.28732 0.31026027 -0.55047524 -0.36528653 0.2655701 -0.035339925 -0.07046673 -0.5676201 0.6633416 0.17427842; 0.1387761 0.043771736 -0.419096 -0.06883997 0.052507475 0.5218869 -0.06191434 0.36865526 -0.28759667 -0.16314954; 0.072326995 0.30770975 0.34943074 -0.026027482 -0.5988477 -0.3668328 -0.078359365 0.6530985 -0.44986987 -0.19735058; 0.14905222 0.62362796 -0.21915862 0.077897325 -0.5421001 0.13946535 -0.3801206 -0.038483176 -0.32022744 -0.006042723], Float32[0.41080332, -0.5580973, 0.6947807, 0.13684735, 0.027733456], Float32[0.63257915 0.65483105 -0.68718314 0.65589374 0.29495755; 0.34808248 0.33711535 0.63374186 -0.0183984 0.6446556; 0.22572541 0.705539 -0.25517574 -0.83447313 -0.1577468; 0.74104637 -0.33053705 -0.16745842 0.6226198 -0.5623631; 0.6996673 -0.091850184 -0.088815875 -0.2896573 -0.1619117], Float32[-0.2351901, 1.24644, -0.048766557, -0.124539256, -0.7783801], Float32[-0.067547396 0.92351025 -0.8569266 0.8789491 0.30645072], Float32[0.07674492]])\n"
     ]
    },
    {
     "name": "stderr",
     "output_type": "stream",
     "text": [
      "┌ Info: Epoch 85\n",
      "└ @ Main /Users/facundosapienza/.julia/packages/Flux/goUGu/src/optimise/train.jl:136\n"
     ]
    },
    {
     "name": "stdout",
     "output_type": "stream",
     "text": [
      "Current loss: 0.9923357072815704\n",
      "Current parameter:Params([Float32[-0.28012472; -0.20570984; -0.26819474; -0.6446688; -0.23278159; -0.66805; -0.22292152; 0.56619126; -0.13255003; 0.27217278], Float32[0.15370193, -1.1806836, -0.9791297, 0.28120694, 0.0948739, -0.23130764, -0.6399798, 0.75794417, -0.3509216, 0.3727012], Float32[-0.3957068 -0.1631235 -0.6424597 -0.36937267 -0.27343413 -0.52170765 0.18931209 -0.48119214 -0.58278924 0.50375015; -0.28707352 0.31059748 -0.5501834 -0.3650094 0.26596552 -0.03503146 -0.07017972 -0.5679454 0.66372156 0.17399956; 0.13820054 0.04305793 -0.41974625 -0.069455534 0.051774267 0.52123326 -0.06255717 0.36934042 -0.28835073 -0.1625225; 0.07227705 0.3073731 0.349157 -0.026107555 -0.5989988 -0.36703274 -0.0786187 0.6533641 -0.4502239 -0.19712977; 0.14928113 0.62403184 -0.21882258 0.078170106 -0.54162955 0.13980524 -0.37979427 -0.038855862 -0.31976718 -0.006349786], Float32[0.4113866, -0.55840975, 0.6954712, 0.13719538, 0.027352309], Float32[0.63160396 0.6562105 -0.68840104 0.65468276 0.29631418; 0.34896 0.33576745 0.6350008 -0.017408255 0.6435279; 0.22528404 0.70652294 -0.2561237 -0.83498704 -0.15735975; 0.74150664 -0.33153582 -0.16653992 0.6231907 -0.56275433; 0.70053446 -0.09323969 -0.087499335 -0.2886458 -0.16284573], Float32[-0.23613746, 1.2473065, -0.049206983, -0.12408252, -0.7775243], Float32[-0.06782091 0.9243632 -0.858172 0.88000286 0.30581525], Float32[0.07759737]])\n"
     ]
    },
    {
     "name": "stderr",
     "output_type": "stream",
     "text": [
      "┌ Info: Epoch 86\n",
      "└ @ Main /Users/facundosapienza/.julia/packages/Flux/goUGu/src/optimise/train.jl:136\n"
     ]
    },
    {
     "name": "stdout",
     "output_type": "stream",
     "text": [
      "Current loss: 0.9750931966221319\n",
      "Current parameter:Params([Float32[-0.27986944; -0.20618849; -0.2679898; -0.6444336; -0.23299067; -0.66791856; -0.2226876; 0.5664938; -0.13286299; 0.2719355], Float32[0.15394284, -1.1811616, -0.9788774, 0.2814072, 0.09450325, -0.23167746, -0.63973606, 0.75831085, -0.3513009, 0.37244058], Float32[-0.395597 -0.16372149 -0.64300466 -0.369492 -0.27366552 -0.5222505 0.18877713 -0.48061177 -0.58343655 0.50425607; -0.2868328 0.3109295 -0.54989666 -0.3647382 0.26635388 -0.03472887 -0.069897875 -0.56826514 0.6640958 0.173726; 0.13763563 0.042353388 -0.42038694 -0.070060484 0.051051907 0.52058995 -0.06319032 0.37001565 -0.28909513 -0.16190536; 0.07222936 0.30703956 0.3488862 -0.026185267 -0.5991473 -0.36722994 -0.07887514 0.6536268 -0.45057476 -0.19691175; 0.14950985 0.624436 -0.21848665 0.07844308 -0.541157 0.14014547 -0.37946805 -0.039228957 -0.31930605 -0.0066567245], Float32[0.41196558, -0.5587174, 0.69615287, 0.1375402, 0.026971284], Float32[0.6306308 0.657586 -0.68961775 0.6534759 0.29768443; 0.3498334 0.33442643 0.636254 -0.016422506 0.6423868; 0.22484614 0.7075017 -0.25706595 -0.8354972 -0.1569669; 0.74196297 -0.33252797 -0.16562772 0.6237571 -0.56315064; 0.70140165 -0.09462625 -0.08618494 -0.2876345 -0.1637979], Float32[-0.23708293, 1.2481687, -0.049643885, -0.12362974, -0.7766686], Float32[-0.06811767 0.92521554 -0.8594136 0.8810554 0.3051879], Float32[0.078448944]])\n"
     ]
    },
    {
     "name": "stderr",
     "output_type": "stream",
     "text": [
      "┌ Info: Epoch 87\n",
      "└ @ Main /Users/facundosapienza/.julia/packages/Flux/goUGu/src/optimise/train.jl:136\n"
     ]
    },
    {
     "name": "stdout",
     "output_type": "stream",
     "text": [
      "Current loss: 0.9580743409768702\n",
      "Current parameter:Params([Float32[-0.27962038; -0.20666361; -0.2677888; -0.64420414; -0.23319374; -0.6677926; -0.22245578; 0.56679136; -0.13316989; 0.27170324], Float32[0.1541786, -1.1816384, -0.97862864, 0.2816027, 0.09413754, -0.23204727, -0.63949436, 0.7586735, -0.35167542, 0.37218425], Float32[-0.3954825 -0.16431527 -0.6435454 -0.36960706 -0.2739044 -0.5227891 0.18824641 -0.48003557 -0.5840796 0.50475776; -0.28659758 0.31125656 -0.54961485 -0.36447272 0.26673543 -0.034431923 -0.06962099 -0.56857944 0.6644646 0.17345755; 0.13708104 0.041657835 -0.42101836 -0.07065512 0.05034011 0.5199566 -0.06381408 0.37068126 -0.28983015 -0.16129784; 0.07218385 0.30670905 0.34861824 -0.026260711 -0.5992935 -0.3674245 -0.079128765 0.6538867 -0.45092252 -0.19669642; 0.1497384 0.6248406 -0.21815076 0.078716286 -0.5406824 0.14048606 -0.37914193 -0.039602503 -0.318844 -0.0069635846], Float32[0.4125403, -0.5590205, 0.69682586, 0.1378819, 0.026590321], Float32[0.62965953 0.6589576 -0.6908333 0.65227306 0.29906774; 0.35070273 0.33309227 0.6375014 -0.015441083 0.6412327; 0.22441159 0.70847535 -0.25800258 -0.8360037 -0.15656835; 0.7424155 -0.33351344 -0.16472183 0.6243192 -0.5635519; 0.70226884 -0.0960098 -0.08487277 -0.28662333 -0.16476785], Float32[-0.23802657, 1.2490268, -0.050077382, -0.123180866, -0.775813], Float32[-0.068437405 0.9260673 -0.86065155 0.88210684 0.3045688], Float32[0.07929964]])\n"
     ]
    },
    {
     "name": "stderr",
     "output_type": "stream",
     "text": [
      "┌ Info: Epoch 88\n",
      "└ @ Main /Users/facundosapienza/.julia/packages/Flux/goUGu/src/optimise/train.jl:136\n"
     ]
    },
    {
     "name": "stdout",
     "output_type": "stream",
     "text": [
      "Current loss: 0.9412711860870268\n",
      "Current parameter:Params([Float32[-0.27937734; -0.20713538; -0.2675915; -0.6439802; -0.23339099; -0.667672; -0.22222593; 0.567084; -0.13347097; 0.27147585], Float32[0.15440942, -1.182114, -0.9783831, 0.2817936, 0.093776666, -0.23241703, -0.63925457, 0.75903213, -0.35204533, 0.37193203], Float32[-0.39536348 -0.16490488 -0.64408195 -0.369718 -0.2741505 -0.52332366 0.18771991 -0.47946358 -0.58471847 0.5052553; -0.28636762 0.3115788 -0.54933774 -0.36421272 0.26711044 -0.034140404 -0.06934887 -0.5688885 0.66482806 0.17319399; 0.13653646 0.040971007 -0.4216408 -0.07123976 0.049638588 0.51933295 -0.06442873 0.3713375 -0.29055604 -0.16069965; 0.07214042 0.30638152 0.3483531 -0.026333977 -0.59943724 -0.36761647 -0.07937964 0.6541438 -0.45126724 -0.1964837; 0.14996682 0.6252457 -0.21781488 0.07898975 -0.5402057 0.14082707 -0.37881583 -0.03997654 -0.31838098 -0.007270412], Float32[0.41311073, -0.5593192, 0.6974905, 0.13822055, 0.026209364], Float32[0.6286901 0.6603254 -0.6920476 0.6510741 0.30046356; 0.35156807 0.33176494 0.6387431 -0.014463917 0.64006627; 0.2239803 0.7094438 -0.25893363 -0.8365067 -0.1561642; 0.7428642 -0.33449215 -0.1638223 0.6248769 -0.5639579; 0.7031361 -0.09739028 -0.08356288 -0.28561234 -0.16575521], Float32[-0.23896849, 1.2498808, -0.05050758, -0.12273586, -0.7749575], Float32[-0.06877983 0.9269185 -0.8618858 0.8831571 0.30395803], Float32[0.08014949]])\n"
     ]
    },
    {
     "name": "stderr",
     "output_type": "stream",
     "text": [
      "┌ Info: Epoch 89\n",
      "└ @ Main /Users/facundosapienza/.julia/packages/Flux/goUGu/src/optimise/train.jl:136\n"
     ]
    },
    {
     "name": "stdout",
     "output_type": "stream",
     "text": [
      "Current loss: 0.9246758016705977\n",
      "Current parameter:Params([Float32[-0.27914008; -0.20760399; -0.2673978; -0.6437616; -0.23358259; -0.6675565; -0.22199795; 0.567372; -0.13376643; 0.27125314], Float32[0.15463547, -1.1825887, -0.97814083, 0.28198007, 0.09342052, -0.23278669, -0.63901657, 0.75938696, -0.35241073, 0.37168384], Float32[-0.3952401 -0.16549033 -0.64461434 -0.36982486 -0.27440345 -0.52385414 0.18719758 -0.47889572 -0.58535314 0.5057486; -0.28614274 0.3118964 -0.54906523 -0.363958 0.26747912 -0.033854105 -0.06908135 -0.5691925 0.6651864 0.17293514; 0.13600159 0.040292647 -0.42225453 -0.07181469 0.04894707 0.5187187 -0.065034546 0.37198466 -0.29127306 -0.1601105; 0.07209898 0.30605692 0.34809065 -0.026405146 -0.59957874 -0.367806 -0.079627834 0.6543982 -0.451609 -0.19627355; 0.15019515 0.62565124 -0.21747893 0.07926351 -0.539727 0.14116853 -0.37848973 -0.040351115 -0.31791696 -0.007577252], Float32[0.41367695, -0.5596136, 0.698147, 0.13855618, 0.025828358], Float32[0.6277225 0.6616894 -0.69326067 0.649879 0.30187136; 0.35242948 0.33044443 0.63997906 -0.013490942 0.63888794; 0.22355212 0.71040714 -0.2598592 -0.8370064 -0.15575455; 0.74330914 -0.3354641 -0.16292913 0.6254303 -0.5643686; 0.70400333 -0.09876764 -0.08225534 -0.2846015 -0.16675961], Float32[-0.23990875, 1.2507309, -0.05093458, -0.122294664, -0.77410203], Float32[-0.06914467 0.9277692 -0.8631164 0.8842062 0.30335572], Float32[0.08099848]])\n"
     ]
    },
    {
     "name": "stderr",
     "output_type": "stream",
     "text": [
      "┌ Info: Epoch 90\n",
      "└ @ Main /Users/facundosapienza/.julia/packages/Flux/goUGu/src/optimise/train.jl:136\n"
     ]
    },
    {
     "name": "stdout",
     "output_type": "stream",
     "text": [
      "Current loss: 0.9082812347956706\n",
      "Current parameter:Params([Float32[-0.2789084; -0.20806961; -0.2672075; -0.6435481; -0.23376872; -0.6674461; -0.22177172; 0.5676555; -0.13405645; 0.27103496], Float32[0.15485692, -1.1830627, -0.97790164, 0.28216228, 0.09306902, -0.23315617, -0.6387803, 0.7597381, -0.3527718, 0.37143952], Float32[-0.39511254 -0.16607165 -0.64514256 -0.3699278 -0.27466303 -0.52438056 0.1866794 -0.478332 -0.58598363 0.50623786; -0.28592274 0.31220955 -0.5487971 -0.36370835 0.26784173 -0.033572823 -0.06881825 -0.56949174 0.6655398 0.17268082; 0.13547611 0.0396225 -0.42285982 -0.07238021 0.048265282 0.5181136 -0.065631784 0.372623 -0.29198146 -0.15953012; 0.072059445 0.30573514 0.3478309 -0.0264743 -0.5997181 -0.3679931 -0.07987341 0.65465 -0.45194784 -0.19606587; 0.15042342 0.6260573 -0.2171429 0.07953759 -0.53924614 0.14151047 -0.37816358 -0.040726263 -0.31745192 -0.0078841485], Float32[0.41423896, -0.55990386, 0.6987957, 0.13888887, 0.02544725], Float32[0.62675655 0.6630497 -0.6944725 0.6486875 0.30329064; 0.353287 0.32913068 0.64120924 -0.012522092 0.63769823; 0.223127 0.71136534 -0.26077935 -0.8375028 -0.1553395; 0.7437504 -0.3364292 -0.16204235 0.6259794 -0.56478375; 0.7048706 -0.10014182 -0.08095021 -0.28359088 -0.1677807], Float32[-0.24084745, 1.251577, -0.05135848, -0.12185724, -0.77324665], Float32[-0.06953162 0.92861927 -0.8643434 0.8852541 0.302762], Float32[0.08184664]])\n"
     ]
    },
    {
     "name": "stderr",
     "output_type": "stream",
     "text": [
      "┌ Info: Epoch 91\n",
      "└ @ Main /Users/facundosapienza/.julia/packages/Flux/goUGu/src/optimise/train.jl:136\n"
     ]
    },
    {
     "name": "stdout",
     "output_type": "stream",
     "text": [
      "Current loss: 0.8920808780517799\n",
      "Current parameter:Params([Float32[-0.2786821; -0.2085324; -0.2670205; -0.64333946; -0.23394951; -0.6673405; -0.22154713; 0.5679346; -0.13434121; 0.27082112], Float32[0.15507393, -1.1835359, -0.97766536, 0.2823404, 0.09272206, -0.23352544, -0.63854563, 0.7600856, -0.3531286, 0.37119892], Float32[-0.394981 -0.16664886 -0.64566666 -0.37002692 -0.27492893 -0.524903 0.18616532 -0.4777724 -0.58660996 0.50672305; -0.28570738 0.3125184 -0.54853314 -0.36346358 0.26819846 -0.033296373 -0.0685594 -0.5697863 0.6658884 0.17243087; 0.13495976 0.03896032 -0.4234569 -0.07293658 0.047592964 0.5175173 -0.066220716 0.37325278 -0.2926815 -0.15895823; 0.072021745 0.30541617 0.34757373 -0.026541516 -0.5998553 -0.36817783 -0.080116436 0.6548992 -0.45228383 -0.19586061; 0.15065168 0.626464 -0.21680671 0.07981204 -0.5387632 0.14185295 -0.37783733 -0.041102026 -0.3169858 -0.008191144], Float32[0.41479683, -0.5601902, 0.6994367, 0.13921867, 0.025065985], Float32[0.62579215 0.6644064 -0.69568306 0.64749956 0.30472094; 0.35414076 0.32782367 0.6424337 -0.011557302 0.63649756; 0.22270481 0.7123185 -0.26169413 -0.837996 -0.1549191; 0.74418795 -0.33738747 -0.16116197 0.6265243 -0.56520325; 0.7057379 -0.10151279 -0.079647526 -0.28258044 -0.16881809], Float32[-0.24178469, 1.2524194, -0.051779374, -0.12142354, -0.7723913], Float32[-0.06994038 0.9294688 -0.86556685 0.88630086 0.30217695], Float32[0.08269398]])\n"
     ]
    },
    {
     "name": "stderr",
     "output_type": "stream",
     "text": [
      "┌ Info: Epoch 92\n",
      "└ @ Main /Users/facundosapienza/.julia/packages/Flux/goUGu/src/optimise/train.jl:136\n"
     ]
    },
    {
     "name": "stdout",
     "output_type": "stream",
     "text": [
      "Current loss: 0.8760684850223732\n",
      "Current parameter:Params([Float32[-0.278461; -0.2089925; -0.26683664; -0.64313555; -0.23412514; -0.66723967; -0.22132407; 0.56820947; -0.1346209; 0.2706115], Float32[0.15528664, -1.1840087, -0.97743195, 0.2825146, 0.09237956, -0.23389444, -0.63831246, 0.76042956, -0.3534813, 0.37096196], Float32[-0.3948456 -0.167222 -0.6461867 -0.37012228 -0.27520084 -0.52542144 0.18565533 -0.4772169 -0.5872321 0.5072042; -0.28549653 0.3128231 -0.54827327 -0.3632235 0.2685495 -0.033024568 -0.06830465 -0.5700764 0.6662324 0.17218512; 0.13445224 0.038305867 -0.42404604 -0.07348409 0.046929855 0.5169296 -0.066801585 0.37387425 -0.29337338 -0.15839458; 0.0719858 0.30509993 0.3473191 -0.026606865 -0.5999905 -0.3683603 -0.08035696 0.6551459 -0.45261702 -0.19565772; 0.15087995 0.62687135 -0.21647035 0.08008688 -0.5382783 0.14219598 -0.37751094 -0.041478444 -0.31651855 -0.00849828], Float32[0.41535053, -0.5604727, 0.7000704, 0.13954563, 0.024684515], Float32[0.62482923 0.66575956 -0.6968924 0.64631504 0.30616182; 0.35499075 0.32652333 0.6436525 -0.010596511 0.6352864; 0.22228548 0.71326655 -0.26260364 -0.8384862 -0.15449347; 0.7446219 -0.33833885 -0.160288 0.627065 -0.5656269; 0.7066052 -0.10288051 -0.07834735 -0.2815702 -0.16987142], Float32[-0.24272054, 1.2532579, -0.052197356, -0.120993525, -0.7715361], Float32[-0.07037065 0.9303178 -0.8667868 0.88734645 0.3016007], Float32[0.0835405]])\n"
     ]
    },
    {
     "name": "stderr",
     "output_type": "stream",
     "text": [
      "┌ Info: Epoch 93\n",
      "└ @ Main /Users/facundosapienza/.julia/packages/Flux/goUGu/src/optimise/train.jl:136\n"
     ]
    },
    {
     "name": "stdout",
     "output_type": "stream",
     "text": [
      "Current loss: 0.8602377311987389\n",
      "Current parameter:Params([Float32[-0.27824488; -0.20945008; -0.26665583; -0.64293617; -0.23429573; -0.6671434; -0.22110246; 0.56848025; -0.13489568; 0.27040592], Float32[0.15549521, -1.1844813, -0.97720134, 0.282685, 0.09204145, -0.23426312, -0.6380807, 0.76077014, -0.35382998, 0.3707285], Float32[-0.39470652 -0.16779105 -0.6467027 -0.37021402 -0.27547854 -0.52593595 0.18514939 -0.47666544 -0.5878501 0.5076813; -0.28528997 0.3131238 -0.5480173 -0.3629879 0.2688951 -0.032757238 -0.06805385 -0.57036215 0.666572 0.17194341; 0.13395329 0.03765891 -0.42462748 -0.07402301 0.0462757 0.51635027 -0.06737463 0.37448767 -0.29405737 -0.15783891; 0.071951546 0.30478638 0.34706697 -0.026670415 -0.60012364 -0.36854059 -0.08059505 0.65539014 -0.45294744 -0.19545712; 0.15110828 0.6272794 -0.21613374 0.08036214 -0.5377912 0.14253962 -0.37718436 -0.041855555 -0.31605014 -0.008805599], Float32[0.4159001, -0.56075156, 0.7006968, 0.13986981, 0.02430279], Float32[0.62386775 0.66710925 -0.69810045 0.64513385 0.30761284; 0.35583705 0.32522964 0.6448656 -0.009639658 0.6340652; 0.22186892 0.7142096 -0.2635079 -0.83897346 -0.15406266; 0.7450522 -0.33928332 -0.15942045 0.6276015 -0.56605464; 0.7074725 -0.10424494 -0.07704971 -0.2805602 -0.17094032], Float32[-0.24365512, 1.2540926, -0.052612502, -0.12056715, -0.77068096], Float32[-0.07082212 0.9311663 -0.8680032 0.8883909 0.30103335], Float32[0.084386215]])\n"
     ]
    },
    {
     "name": "stderr",
     "output_type": "stream",
     "text": [
      "┌ Info: Epoch 94\n",
      "└ @ Main /Users/facundosapienza/.julia/packages/Flux/goUGu/src/optimise/train.jl:136\n"
     ]
    },
    {
     "name": "stdout",
     "output_type": "stream",
     "text": [
      "Current loss: 0.8445825717953752\n",
      "Current parameter:Params([Float32[-0.27803358; -0.2099053; -0.26647794; -0.6427412; -0.23446143; -0.66705155; -0.2208822; 0.56874716; -0.13516572; 0.27020425], Float32[0.15569976, -1.1849536, -0.9769734, 0.2828518, 0.09170764, -0.23463145, -0.6378503, 0.76110744, -0.35417476, 0.37049845], Float32[-0.39456388 -0.16835608 -0.64721465 -0.3703022 -0.27576175 -0.5264466 0.18464746 -0.476118 -0.58846396 0.5081545; -0.28508756 0.31342062 -0.54776514 -0.36275667 0.2692354 -0.032494217 -0.067806855 -0.5706437 0.66690725 0.17170559; 0.13346264 0.037019227 -0.42520145 -0.07455358 0.045630258 0.51577896 -0.0679401 0.37509325 -0.29473367 -0.157291; 0.07191891 0.3044755 0.34681728 -0.02673223 -0.6002549 -0.36871868 -0.08083074 0.655632 -0.45327514 -0.19525875; 0.15133668 0.62768817 -0.21579687 0.080637865 -0.537302 0.1428839 -0.37685755 -0.042233396 -0.31558055 -0.0091131395], Float32[0.4164456, -0.5610268, 0.70131636, 0.14019126, 0.023920761], Float32[0.6229076 0.6684556 -0.6993073 0.6439558 0.30907363; 0.3566797 0.32394254 0.646073 -0.008686684 0.6328344; 0.22145504 0.7151477 -0.26440704 -0.83945787 -0.15362675; 0.745479 -0.34022087 -0.1585593 0.6281339 -0.5664863; 0.7083398 -0.10560606 -0.07575466 -0.27955043 -0.17202443], Float32[-0.2445885, 1.2549237, -0.0530249, -0.12014438, -0.7698259], Float32[-0.07129448 0.9320142 -0.86921614 0.8894342 0.30047503], Float32[0.08523114]])\n"
     ]
    },
    {
     "name": "stderr",
     "output_type": "stream",
     "text": [
      "┌ Info: Epoch 95\n",
      "└ @ Main /Users/facundosapienza/.julia/packages/Flux/goUGu/src/optimise/train.jl:136\n"
     ]
    },
    {
     "name": "stdout",
     "output_type": "stream",
     "text": [
      "Current loss: 0.829097789351249\n",
      "Current parameter:Params([Float32[-0.27782696; -0.21035828; -0.26630282; -0.6425504; -0.23462236; -0.66696405; -0.2206632; 0.56901026; -0.13543116; 0.27000636], Float32[0.15590043, -1.1854259, -0.97674805, 0.28301504, 0.091378056, -0.23499937, -0.6376211, 0.7614415, -0.35451573, 0.37027168], Float32[-0.39441785 -0.16891709 -0.6477226 -0.37038696 -0.27605024 -0.5269533 0.18414952 -0.47557458 -0.5890737 0.5086238; -0.28488913 0.31371373 -0.5475166 -0.3625296 0.26957062 -0.032235347 -0.067563534 -0.5709213 0.66723835 0.1714715; 0.13298003 0.036386598 -0.42576817 -0.07507605 0.04499329 0.5152155 -0.06849821 0.37569124 -0.2954025 -0.15675059; 0.071887836 0.30416715 0.34657 -0.026792374 -0.6003843 -0.3688947 -0.08106409 0.6558715 -0.4536002 -0.19506258; 0.15156521 0.6280977 -0.21545969 0.08091407 -0.5368107 0.14322886 -0.37653047 -0.04261201 -0.31510973 -0.009420941], Float32[0.41698706, -0.56129867, 0.70192915, 0.14051001, 0.023538385], Float32[0.6219486 0.6697986 -0.700513 0.6427809 0.31054378; 0.3575188 0.322662 0.6472748 -0.007737532 0.6315943; 0.22104378 0.7160808 -0.26530108 -0.83993953 -0.15318581; 0.74590224 -0.34115154 -0.15770455 0.62866217 -0.5669218; 0.7092071 -0.10696384 -0.07446223 -0.2785409 -0.17312337], Float32[-0.24552077, 1.2557511, -0.053434618, -0.119725175, -0.7689709], Float32[-0.07178741 0.9328616 -0.87042564 0.8904764 0.29992586], Float32[0.086075276]])\n"
     ]
    },
    {
     "name": "stderr",
     "output_type": "stream",
     "text": [
      "┌ Info: Epoch 96\n",
      "└ @ Main /Users/facundosapienza/.julia/packages/Flux/goUGu/src/optimise/train.jl:136\n"
     ]
    },
    {
     "name": "stdout",
     "output_type": "stream",
     "text": [
      "Current loss: 0.8137785367357673\n",
      "Current parameter:Params([Float32[-0.27762485; -0.21080916; -0.2661304; -0.64236367; -0.23477864; -0.6668807; -0.22044538; 0.56926966; -0.13569215; 0.2698121], Float32[0.15609735, -1.1858982, -0.9765252, 0.28317493, 0.09105263, -0.23536685, -0.6373931, 0.7617725, -0.354853, 0.3700481], Float32[-0.39426854 -0.16947412 -0.6482266 -0.37046835 -0.27634373 -0.52745616 0.18365553 -0.47503513 -0.58967936 0.5090892; -0.28469452 0.31400326 -0.54727155 -0.36230654 0.26990092 -0.031980477 -0.06732375 -0.57119495 0.66756546 0.17124104; 0.13250524 0.035760812 -0.42632785 -0.07559067 0.044364564 0.51465964 -0.06904918 0.37628186 -0.29606408 -0.15621746; 0.07185826 0.30386138 0.346325 -0.026850902 -0.60051185 -0.36906865 -0.08129515 0.65610874 -0.45392263 -0.19486855; 0.15179388 0.6285081 -0.21512215 0.0811908 -0.5363173 0.14357454 -0.3762031 -0.042991426 -0.31463763 -0.009729041], Float32[0.41752446, -0.5615672, 0.7025354, 0.14082612, 0.023155615], Float32[0.62099075 0.67113847 -0.7017175 0.6416089 0.31202292; 0.35835436 0.32138795 0.648471 -0.0067921467 0.6303454; 0.22063506 0.717009 -0.26619008 -0.8404185 -0.15273991; 0.74632204 -0.3420753 -0.1568562 0.6291864 -0.56736094; 0.7100744 -0.10831827 -0.07317246 -0.27753168 -0.1742368], Float32[-0.24645203, 1.256575, -0.053841736, -0.11930949, -0.76811606], Float32[-0.07230059 0.9337085 -0.8716318 0.8915174 0.29938596], Float32[0.08691863]])\n"
     ]
    },
    {
     "name": "stderr",
     "output_type": "stream",
     "text": [
      "┌ Info: Epoch 97\n",
      "└ @ Main /Users/facundosapienza/.julia/packages/Flux/goUGu/src/optimise/train.jl:136\n"
     ]
    },
    {
     "name": "stdout",
     "output_type": "stream",
     "text": [
      "Current loss: 0.7986194480207968\n",
      "Current parameter:Params([Float32[-0.27742708; -0.21125807; -0.26596054; -0.64218086; -0.2349304; -0.66680145; -0.22022866; 0.56952554; -0.13594884; 0.26962137], Float32[0.15629064, -1.1863707, -0.9763047, 0.28333154, 0.09073129, -0.23573385, -0.63716626, 0.7621005, -0.35518664, 0.36982763], Float32[-0.3941161 -0.1700272 -0.6487267 -0.37054646 -0.27664202 -0.52795523 0.18316548 -0.47449964 -0.59028095 0.5095507; -0.2845036 0.3142893 -0.5470299 -0.36208734 0.27022645 -0.031729463 -0.06708739 -0.57146484 0.66788864 0.17101406; 0.13203801 0.03514167 -0.42688072 -0.07609767 0.04374386 0.51411116 -0.06959323 0.3768653 -0.2967186 -0.15569139; 0.071830116 0.3035581 0.34608233 -0.026907872 -0.6006377 -0.3692406 -0.081523955 0.6563437 -0.4542425 -0.19467661; 0.15202275 0.62891936 -0.21478422 0.081468076 -0.53582174 0.14392096 -0.37587538 -0.04337169 -0.31416422 -0.010037475], Float32[0.41805786, -0.5618325, 0.7031353, 0.14113964, 0.022772409], Float32[0.6200339 0.67247516 -0.70292085 0.6404397 0.31351072; 0.35918647 0.3201203 0.64966166 -0.0058504753 0.62908804; 0.2202288 0.7179324 -0.26707414 -0.84089494 -0.15228912; 0.7467384 -0.34299213 -0.15601422 0.6297066 -0.5678036; 0.71094173 -0.10966933 -0.07188538 -0.27652273 -0.17536435], Float32[-0.24738237, 1.2573954, -0.054246318, -0.1188973, -0.76726127], Float32[-0.07283371 0.9345548 -0.87283456 0.89255726 0.29885542], Float32[0.08776121]])\n"
     ]
    },
    {
     "name": "stderr",
     "output_type": "stream",
     "text": [
      "┌ Info: Epoch 98\n",
      "└ @ Main /Users/facundosapienza/.julia/packages/Flux/goUGu/src/optimise/train.jl:136\n"
     ]
    },
    {
     "name": "stdout",
     "output_type": "stream",
     "text": [
      "Current loss: 0.7836158222505548\n",
      "Current parameter:Params([Float32[-0.2772335; -0.21170515; -0.26579317; -0.6420018; -0.23507774; -0.6667261; -0.22001295; 0.56977797; -0.13620135; 0.26943406], Float32[0.1564804, -1.1868435, -0.97608656, 0.28348503, 0.09041398, -0.23610032, -0.6369404, 0.76242554, -0.35551676, 0.36961016], Float32[-0.39396068 -0.17057633 -0.6492229 -0.37062138 -0.2769449 -0.52845055 0.18267931 -0.4739681 -0.5908785 0.5100084; -0.28431624 0.31457198 -0.5467915 -0.36187187 0.2705474 -0.031482168 -0.066854335 -0.57173115 0.66820806 0.17079043; 0.13157812 0.03452897 -0.427427 -0.076597266 0.043130964 0.51356983 -0.07013055 0.3774418 -0.29736626 -0.15517217; 0.07180336 0.3032573 0.3458419 -0.026963338 -0.6007618 -0.36941063 -0.08175056 0.65657645 -0.45455983 -0.19448672; 0.15225182 0.6293315 -0.21444586 0.08174593 -0.535324 0.14426817 -0.3755473 -0.043752827 -0.3136895 -0.01034628], Float32[0.4185873, -0.5620947, 0.70372903, 0.1414506, 0.022388726], Float32[0.61907804 0.6738089 -0.7041231 0.63927317 0.31500685; 0.36001515 0.31885904 0.6508468 -0.0049124663 0.62782264; 0.21982495 0.718851 -0.2679533 -0.84136885 -0.1518335; 0.7471513 -0.34390208 -0.15517862 0.63022286 -0.56824976; 0.711809 -0.111016996 -0.07060102 -0.2755141 -0.17650563], Float32[-0.24831188, 1.2582123, -0.05464843, -0.11848855, -0.7664066], Float32[-0.07338643 0.93540066 -0.87403405 0.893596 0.29833436], Float32[0.08860302]])\n"
     ]
    },
    {
     "name": "stderr",
     "output_type": "stream",
     "text": [
      "┌ Info: Epoch 99\n",
      "└ @ Main /Users/facundosapienza/.julia/packages/Flux/goUGu/src/optimise/train.jl:136\n"
     ]
    },
    {
     "name": "stdout",
     "output_type": "stream",
     "text": [
      "Current loss: 0.768763269883299\n",
      "Current parameter:Params([Float32[-0.27704403; -0.2121505; -0.2656282; -0.6418264; -0.23522076; -0.66665465; -0.21979818; 0.57002705; -0.13644981; 0.26925004], Float32[0.15666676, -1.1873167, -0.97587067, 0.28363547, 0.09010063, -0.23646623, -0.63671553, 0.7627477, -0.35584345, 0.3693956], Float32[-0.3938024 -0.17112157 -0.64971524 -0.3706932 -0.27725214 -0.5289421 0.182197 -0.47344044 -0.59147197 0.51046234; -0.28413227 0.3148514 -0.54655623 -0.36166 0.2708639 -0.031238463 -0.06662447 -0.57199395 0.66852385 0.17057006; 0.13112535 0.03392253 -0.42796683 -0.077089675 0.042525664 0.5130355 -0.07066134 0.37801152 -0.29800725 -0.15465961; 0.07177793 0.30295888 0.3456037 -0.02701735 -0.6008842 -0.36957875 -0.081975 0.65680707 -0.4548747 -0.19429883; 0.15248114 0.62974465 -0.21410704 0.08202439 -0.5348241 0.1446162 -0.3752188 -0.044134874 -0.3132134 -0.010655489], Float32[0.41911277, -0.5623539, 0.7043168, 0.14175904, 0.022004528], Float32[0.618123 0.6751396 -0.7053242 0.63810927 0.31651098; 0.36084047 0.3176041 0.65202636 -0.003978071 0.6265495; 0.21942344 0.7197648 -0.26882765 -0.8418403 -0.15137313; 0.7475609 -0.34480515 -0.15434937 0.6307351 -0.56869924; 0.71267617 -0.11236127 -0.069319405 -0.2745058 -0.1776603], Float32[-0.24924062, 1.2590258, -0.055048134, -0.118083216, -0.7655521], Float32[-0.07395844 0.936246 -0.87523025 0.8946336 0.29782292], Float32[0.08944407]])\n"
     ]
    },
    {
     "name": "stderr",
     "output_type": "stream",
     "text": [
      "┌ Info: Epoch 100\n",
      "└ @ Main /Users/facundosapienza/.julia/packages/Flux/goUGu/src/optimise/train.jl:136\n"
     ]
    },
    {
     "name": "stdout",
     "output_type": "stream",
     "text": [
      "Current loss: 0.7540580678629694\n",
      "Current parameter:Params([Float32[-0.27685848; -0.21259424; -0.2654655; -0.6416545; -0.23535958; -0.6665869; -0.21958429; 0.5702729; -0.13669436; 0.2690692], Float32[0.1568498, -1.1877903, -0.975657, 0.28378296, 0.08979118, -0.23683155, -0.63649154, 0.76306707, -0.35616678, 0.36918393], Float32[-0.39364138 -0.17166293 -0.65020376 -0.370762 -0.2775635 -0.52943 0.18171853 -0.47291666 -0.59206146 0.51091254; -0.28395158 0.3151277 -0.5463241 -0.3614516 0.2711761 -0.030998223 -0.06639768 -0.57225335 0.6688361 0.17035282; 0.13067949 0.03332217 -0.42850044 -0.0775751 0.041927762 0.51250786 -0.0711858 0.3785747 -0.29864174 -0.15415351; 0.071753785 0.30266285 0.34536767 -0.027069954 -0.601005 -0.36974502 -0.08219732 0.6570355 -0.45518708 -0.1941129; 0.15271072 0.6301588 -0.2137677 0.08230348 -0.53432196 0.14496508 -0.37488988 -0.044517864 -0.3127359 -0.010965134], Float32[0.41963434, -0.5626102, 0.7048988, 0.14206499, 0.021619776], Float32[0.6171688 0.6764675 -0.7065242 0.6369479 0.3180228; 0.36166245 0.3163554 0.6532005 -0.003047241 0.62526894; 0.21902421 0.720674 -0.26969722 -0.8423094 -0.15090805; 0.7479672 -0.34570137 -0.15352646 0.6312434 -0.5691519; 0.7135433 -0.113702126 -0.06804057 -0.27349785 -0.17882802], Float32[-0.25016868, 1.259836, -0.055445492, -0.117681265, -0.76469773], Float32[-0.07454941 0.93709075 -0.8764232 0.89567 0.2973212], Float32[0.09028436]])\n"
     ]
    },
    {
     "name": "stderr",
     "output_type": "stream",
     "text": [
      "┌ Info: Epoch 101\n",
      "└ @ Main /Users/facundosapienza/.julia/packages/Flux/goUGu/src/optimise/train.jl:136\n"
     ]
    },
    {
     "name": "stdout",
     "output_type": "stream",
     "text": [
      "Current loss: 0.7394957959929762\n",
      "Current parameter:Params([Float32[-0.27667674; -0.21303648; -0.265305; -0.641486; -0.23549427; -0.66652274; -0.2193712; 0.5705157; -0.13693509; 0.26889145], Float32[0.15702963, -1.1882645, -0.97544545, 0.28392762, 0.08948557, -0.23719625, -0.6362684, 0.76338375, -0.35648683, 0.36897498], Float32[-0.39347774 -0.17220044 -0.65068847 -0.37082782 -0.27787882 -0.52991414 0.18124385 -0.47239673 -0.59264696 0.51135904; -0.28377408 0.31540096 -0.54609483 -0.36124656 0.27148414 -0.030761328 -0.06617388 -0.57250947 0.669145 0.1701386; 0.13024034 0.032727715 -0.429028 -0.07805375 0.04133706 0.5119868 -0.07170409 0.3791315 -0.2992699 -0.15365368; 0.071730874 0.30236915 0.34513375 -0.0271212 -0.6011242 -0.3699095 -0.08241756 0.6572619 -0.45549706 -0.19392888; 0.1529406 0.6305739 -0.21342786 0.08258323 -0.53381765 0.14531486 -0.37456048 -0.044901825 -0.31225693 -0.011275247], Float32[0.420152, -0.5628637, 0.7054751, 0.14236851, 0.021234436], Float32[0.6162152 0.6777926 -0.7077232 0.63578886 0.31954202; 0.36248115 0.31511292 0.65436924 -0.002119931 0.6239813; 0.2186272 0.7215784 -0.27056208 -0.8427762 -0.15043832; 0.7483701 -0.34659073 -0.15270984 0.63174784 -0.5696076; 0.7144103 -0.115039565 -0.06676453 -0.2724903 -0.18000841], Float32[-0.25109613, 1.2606428, -0.05584056, -0.11728266, -0.76384354], Float32[-0.075159 0.937935 -0.8776129 0.89670527 0.29682928], Float32[0.0911239]])\n"
     ]
    },
    {
     "name": "stderr",
     "output_type": "stream",
     "text": [
      "┌ Info: Epoch 102\n",
      "└ @ Main /Users/facundosapienza/.julia/packages/Flux/goUGu/src/optimise/train.jl:136\n"
     ]
    },
    {
     "name": "stdout",
     "output_type": "stream",
     "text": [
      "Current loss: 0.7250723637333629\n",
      "Current parameter:Params([Float32[-0.2764987; -0.21347731; -0.26514667; -0.64132077; -0.23562495; -0.6664621; -0.21915886; 0.5707555; -0.13717212; 0.2687167], Float32[0.15720633, -1.1887394, -0.97523594, 0.28406954, 0.08918375, -0.2375603, -0.636046, 0.76369774, -0.3568037, 0.36876872], Float32[-0.39331156 -0.17273414 -0.6511694 -0.3708908 -0.27819785 -0.5303947 0.18077293 -0.4718806 -0.59322846 0.51180184; -0.28359962 0.31567127 -0.54586846 -0.36104473 0.27178815 -0.030527666 -0.065952964 -0.5727624 0.6694505 0.1699273; 0.1298077 0.032138996 -0.4295497 -0.07852581 0.04075338 0.5114721 -0.0722164 0.3796821 -0.29989195 -0.15315993; 0.071709156 0.30207777 0.34490192 -0.027171127 -0.6012419 -0.3700722 -0.08263576 0.65748626 -0.45580465 -0.19374675; 0.15317081 0.63099015 -0.21308744 0.08286367 -0.5333111 0.14566554 -0.3742306 -0.04528679 -0.31177652 -0.011585856], Float32[0.42066583, -0.56311446, 0.706046, 0.14266962, 0.020848472], Float32[0.6152623 0.679115 -0.7089212 0.6346321 0.32106835; 0.3632966 0.31387657 0.65553254 -0.0011960973 0.62268686; 0.21823236 0.7224783 -0.2714223 -0.8432407 -0.149964; 0.74876976 -0.34747326 -0.15189952 0.6322484 -0.5700664; 0.71527725 -0.11637358 -0.06549132 -0.27148312 -0.18120113], Float32[-0.25202304, 1.2614462, -0.056233387, -0.11688736, -0.7629895], Float32[-0.07578689 0.93877876 -0.87879944 0.8977394 0.29634732], Float32[0.091962695]])\n"
     ]
    },
    {
     "name": "stderr",
     "output_type": "stream",
     "text": [
      "┌ Info: Epoch 103\n",
      "└ @ Main /Users/facundosapienza/.julia/packages/Flux/goUGu/src/optimise/train.jl:136\n"
     ]
    },
    {
     "name": "stdout",
     "output_type": "stream",
     "text": [
      "Current loss: 0.7107840616427892\n",
      "Current parameter:Params([Float32[-0.27632424; -0.21391685; -0.2649904; -0.6411587; -0.2357517; -0.66640496; -0.2189472; 0.5709923; -0.13740556; 0.26854482], Float32[0.15738, -1.1892151, -0.97502846, 0.2842088, 0.08888566, -0.23792368, -0.6358243, 0.7640092, -0.3571174, 0.36856508], Float32[-0.393143 -0.17326406 -0.6516466 -0.37095094 -0.27852044 -0.53087157 0.18030575 -0.47136828 -0.593806 0.51224107; -0.2834281 0.31593874 -0.5456449 -0.36084604 0.27208826 -0.03029713 -0.06573484 -0.57301235 0.66975284 0.16971883; 0.12938139 0.031555854 -0.43006566 -0.078991465 0.040176537 0.51096356 -0.07272289 0.38022664 -0.300508 -0.1526721; 0.071688585 0.30178866 0.34467214 -0.02721978 -0.60135806 -0.37023315 -0.082851954 0.6577086 -0.4561099 -0.19356644; 0.15340137 0.63140744 -0.21274643 0.08314482 -0.53280234 0.14601716 -0.37390018 -0.04567278 -0.31129462 -0.011896989], Float32[0.42117584, -0.5633626, 0.7066115, 0.14296836, 0.020461852], Float32[0.61431 0.68043476 -0.7101182 0.6334775 0.32260153; 0.36410886 0.3126463 0.65669054 -0.00027569814 0.621386; 0.21783966 0.72337353 -0.27227792 -0.843703 -0.14948516; 0.7491662 -0.34834903 -0.15109545 0.6327451 -0.57052803; 0.7161441 -0.11770417 -0.06422094 -0.2704764 -0.18240583], Float32[-0.2529495, 1.2622465, -0.05662403, -0.11649533, -0.7621357], Float32[-0.07643274 0.939622 -0.8799829 0.8987724 0.29587543], Float32[0.092800744]])\n"
     ]
    },
    {
     "name": "stderr",
     "output_type": "stream",
     "text": [
      "┌ Info: Epoch 104\n",
      "└ @ Main /Users/facundosapienza/.julia/packages/Flux/goUGu/src/optimise/train.jl:136\n"
     ]
    },
    {
     "name": "stdout",
     "output_type": "stream",
     "text": [
      "Current loss: 0.696628289279407\n",
      "Current parameter:Params([Float32[-0.27615327; -0.21435519; -0.26483607; -0.6409997; -0.2358746; -0.66635114; -0.21873617; 0.5712263; -0.13763551; 0.26837575], Float32[0.15755072, -1.1896915, -0.9748229, 0.2843455, 0.08859125, -0.23828636, -0.63560337, 0.7643181, -0.35742807, 0.368364], Float32[-0.3929721 -0.1737902 -0.6521201 -0.37100837 -0.27884635 -0.5313449 0.17984226 -0.4708597 -0.59437966 0.51267666; -0.28325945 0.31620345 -0.5454239 -0.36065036 0.27238458 -0.03006962 -0.06551942 -0.5732593 0.67005205 0.16951309; 0.12896122 0.030978134 -0.43057606 -0.07945089 0.03960636 0.51046103 -0.07322372 0.38076532 -0.3011182 -0.15219001; 0.071669124 0.30150175 0.3444444 -0.027267199 -0.6014728 -0.37039244 -0.08306617 0.65792894 -0.45641285 -0.19338796; 0.1536323 0.63182586 -0.2124048 0.0834267 -0.53229135 0.14636976 -0.37356922 -0.04605983 -0.31081122 -0.012208673], Float32[0.42168203, -0.56360817, 0.70717186, 0.14326476, 0.020074546], Float32[0.6133582 0.68175197 -0.7113142 0.63232505 0.3241413; 0.36491793 0.31142205 0.6578432 0.00064130663 0.6200789; 0.21744902 0.7242643 -0.27312902 -0.8441631 -0.14900184; 0.7495594 -0.34921804 -0.15029761 0.633238 -0.57099247; 0.71701074 -0.11903132 -0.06295343 -0.26947013 -0.18362218], Float32[-0.25387555, 1.2630435, -0.057012532, -0.116106555, -0.761282], Float32[-0.07709624 0.9404647 -0.88116324 0.8998043 0.29541373], Float32[0.093638055]])\n"
     ]
    },
    {
     "name": "stderr",
     "output_type": "stream",
     "text": [
      "┌ Info: Epoch 105\n",
      "└ @ Main /Users/facundosapienza/.julia/packages/Flux/goUGu/src/optimise/train.jl:136\n"
     ]
    },
    {
     "name": "stdout",
     "output_type": "stream",
     "text": [
      "Current loss: 0.6826009420176733\n",
      "Current parameter:Params([Float32[-0.27598566; -0.2147924; -0.2646837; -0.64084363; -0.23599371; -0.66630054; -0.21852572; 0.57145756; -0.13786207; 0.26820943], Float32[0.15771857, -1.190169, -0.9746192, 0.28447974, 0.08830047, -0.23864833, -0.635383, 0.76462454, -0.35773572, 0.3681654], Float32[-0.39279905 -0.17431262 -0.65259 -0.3710631 -0.27917546 -0.5318147 0.17938244 -0.47035488 -0.5949494 0.5131087; -0.28309354 0.31646547 -0.5452056 -0.3604576 0.27267724 -0.029845035 -0.065306626 -0.5735034 0.6703482 0.16931; 0.12854703 0.03040569 -0.43108106 -0.07990425 0.03904268 0.5099644 -0.07371904 0.38129827 -0.30172274 -0.15171354; 0.07165073 0.30121705 0.34421864 -0.02731342 -0.6015861 -0.37055007 -0.083278455 0.6581474 -0.4567135 -0.19321123; 0.15386362 0.6322454 -0.21206254 0.08370932 -0.5317781 0.14672333 -0.3732377 -0.04644795 -0.31032628 -0.012520932], Float32[0.42218447, -0.56385124, 0.7077272, 0.14355886, 0.019686526], Float32[0.61240685 0.6830667 -0.7125093 0.63117456 0.32568738; 0.3657239 0.31020376 0.65899056 0.0015549551 0.618766; 0.21706042 0.72515064 -0.27397564 -0.8446212 -0.14851409; 0.74994946 -0.35008034 -0.14950596 0.63372713 -0.5714596; 0.71787727 -0.12035503 -0.06168879 -0.26846433 -0.18484983], Float32[-0.25480127, 1.2638375, -0.05739894, -0.11572099, -0.7604286], Float32[-0.077777036 0.9413068 -0.8823405 0.900835 0.29496232], Float32[0.09447463]])\n"
     ]
    },
    {
     "name": "stderr",
     "output_type": "stream",
     "text": [
      "┌ Info: Epoch 106\n",
      "└ @ Main /Users/facundosapienza/.julia/packages/Flux/goUGu/src/optimise/train.jl:136\n"
     ]
    },
    {
     "name": "stdout",
     "output_type": "stream",
     "text": [
      "Current loss: 0.6686990471490643\n",
      "Current parameter:Params([Float32[-0.27582133; -0.21522857; -0.26453316; -0.64069045; -0.23610915; -0.6662531; -0.2183158; 0.57168615; -0.13808534; 0.26804572], Float32[0.15788363, -1.1906474, -0.9744174, 0.28461155, 0.08801326, -0.23900954, -0.63516325, 0.7649286, -0.35804045, 0.36796921], Float32[-0.39262387 -0.17483135 -0.6530562 -0.37111527 -0.27950758 -0.532281 0.17892626 -0.46985376 -0.5955153 0.51353717; -0.28293028 0.3167249 -0.54498976 -0.36026764 0.27296633 -0.029623283 -0.06509637 -0.57374465 0.6706415 0.16910948; 0.12813866 0.029838385 -0.43158078 -0.08035171 0.03848535 0.50947344 -0.074209 0.38182566 -0.30232173 -0.1512425; 0.07163336 0.30093452 0.34399483 -0.027358484 -0.601698 -0.37070608 -0.08348883 0.65836394 -0.4570119 -0.19303624; 0.15409535 0.6326662 -0.2117196 0.08399271 -0.53126264 0.14707792 -0.37290558 -0.046837173 -0.3098398 -0.012833787], Float32[0.42268318, -0.56409186, 0.70827764, 0.14385068, 0.019297766], Float32[0.61145586 0.68437904 -0.71370345 0.63002604 0.3272395; 0.36652678 0.30899137 0.6601327 0.002465284 0.6174475; 0.21667379 0.7260325 -0.27481785 -0.8450772 -0.148022; 0.75033635 -0.35093594 -0.14872047 0.6342125 -0.5719293; 0.7187436 -0.121675305 -0.060427044 -0.26745903 -0.18608844], Float32[-0.2557267, 1.2646282, -0.057783302, -0.11533859, -0.7595754], Float32[-0.07847481 0.9421485 -0.88351476 0.9018645 0.2945213], Float32[0.09531047]])\n"
     ]
    },
    {
     "name": "stderr",
     "output_type": "stream",
     "text": [
      "┌ Info: Epoch 107\n",
      "└ @ Main /Users/facundosapienza/.julia/packages/Flux/goUGu/src/optimise/train.jl:136\n"
     ]
    },
    {
     "name": "stdout",
     "output_type": "stream",
     "text": [
      "Current loss: 0.6549196385624328\n",
      "Current parameter:Params([Float32[-0.2756602; -0.21566379; -0.2643844; -0.64054006; -0.23622099; -0.66620874; -0.21810636; 0.5719121; -0.1383054; 0.2678846], Float32[0.15804596, -1.1911268, -0.9742173, 0.284741, 0.08772959, -0.23937002, -0.63494396, 0.7652303, -0.35834232, 0.36777538], Float32[-0.3924467 -0.1753464 -0.6535188 -0.3711649 -0.27984253 -0.53274375 0.17847367 -0.4693563 -0.5960773 0.5139622; -0.2827696 0.3169818 -0.5447764 -0.36008042 0.27325195 -0.029404275 -0.06488859 -0.5739832 0.6709319 0.16891144; 0.12773594 0.02927608 -0.43207538 -0.080793425 0.037934203 0.508988 -0.07469373 0.3823476 -0.30291533 -0.15077676; 0.071616985 0.30065414 0.34377295 -0.027402421 -0.6018085 -0.37086052 -0.08369733 0.6585786 -0.45730808 -0.19286296; 0.15432751 0.6330881 -0.21137598 0.08427689 -0.5307449 0.14743355 -0.37257284 -0.047227513 -0.3093517 -0.013147259], Float32[0.42317817, -0.56433016, 0.7088233, 0.14414027, 0.018908242], Float32[0.6105052 0.685689 -0.7148967 0.62887937 0.32879746; 0.36732662 0.30778483 0.66126966 0.0033723274 0.6161236; 0.2162891 0.72691 -0.2756557 -0.8455313 -0.14752558; 0.75072014 -0.35178488 -0.14794111 0.63469416 -0.57240146; 0.71960974 -0.12299214 -0.05916821 -0.26645428 -0.18733768], Float32[-0.25665188, 1.2654158, -0.058165655, -0.11495935, -0.75872254], Float32[-0.07918923 0.94298965 -0.884686 0.90289295 0.29409084], Float32[0.09614558]])\n"
     ]
    },
    {
     "name": "stderr",
     "output_type": "stream",
     "text": [
      "┌ Info: Epoch 108\n",
      "└ @ Main /Users/facundosapienza/.julia/packages/Flux/goUGu/src/optimise/train.jl:136\n"
     ]
    },
    {
     "name": "stdout",
     "output_type": "stream",
     "text": [
      "Current loss: 0.6412602323140354\n",
      "Current parameter:Params([Float32[-0.27550215; -0.21609811; -0.26423734; -0.64039236; -0.23632927; -0.66616744; -0.21789736; 0.57213557; -0.13852233; 0.26772597], Float32[0.15820564, -1.1916074, -0.974019, 0.2848682, 0.0874494, -0.23972972, -0.6347252, 0.7655297, -0.35864136, 0.36758384], Float32[-0.3922676 -0.17585783 -0.6539778 -0.37121207 -0.28018016 -0.5332031 0.17802465 -0.46886247 -0.5966355 0.5143838; -0.2826114 0.31723624 -0.5445654 -0.35989583 0.27353424 -0.029187929 -0.0646832 -0.5742191 0.67121947 0.16871582; 0.12733874 0.02871865 -0.432565 -0.081229545 0.037389103 0.508508 -0.07517337 0.3828643 -0.30350366 -0.15031618; 0.07160157 0.30037585 0.34355295 -0.02744527 -0.6019177 -0.3710134 -0.083903976 0.65879136 -0.45760208 -0.19269134; 0.15456012 0.63351125 -0.21103166 0.08456187 -0.5302249 0.14779022 -0.37223947 -0.04761899 -0.30886206 -0.013461367], Float32[0.4236695, -0.5645662, 0.70936435, 0.14442766, 0.018517934], Float32[0.6095549 0.6869966 -0.716089 0.6277345 0.330361; 0.3681234 0.30658406 0.6624015 0.0042761187 0.6147947; 0.21590632 0.72778314 -0.27648923 -0.8459834 -0.1470249; 0.75110084 -0.35262722 -0.14716785 0.6351721 -0.57287604; 0.7204756 -0.12430554 -0.0579123 -0.2654501 -0.18859723], Float32[-0.25757685, 1.2662004, -0.058546036, -0.114583224, -0.75786996], Float32[-0.07991997 0.94383025 -0.8858543 0.90392023 0.293671], Float32[0.09697995]])\n"
     ]
    },
    {
     "name": "stderr",
     "output_type": "stream",
     "text": [
      "┌ Info: Epoch 109\n",
      "└ @ Main /Users/facundosapienza/.julia/packages/Flux/goUGu/src/optimise/train.jl:136\n"
     ]
    },
    {
     "name": "stdout",
     "output_type": "stream",
     "text": [
      "Current loss: 0.6277176501762447\n",
      "Current parameter:Params([Float32[-0.2753471; -0.21653162; -0.26409197; -0.6402473; -0.23643409; -0.66612905; -0.21768874; 0.5723566; -0.13873622; 0.26756978], Float32[0.15836273, -1.1920891, -0.97382236, 0.2849932, 0.08717266, -0.24008863, -0.6345069, 0.7658269, -0.35893765, 0.36739457], Float32[-0.3920867 -0.17636563 -0.6544333 -0.37125683 -0.2805203 -0.53365904 0.17757916 -0.46837226 -0.59718996 0.5148019; -0.2824556 0.3174883 -0.5443567 -0.3597138 0.27381325 -0.028974164 -0.06448014 -0.57445246 0.6715044 0.16852254; 0.12694688 0.02816597 -0.43304977 -0.08166021 0.036849912 0.5080333 -0.07564805 0.38337582 -0.30408683 -0.14986062; 0.071587086 0.30009964 0.34333482 -0.02748706 -0.60202557 -0.37116477 -0.084108815 0.65900236 -0.4578939 -0.19252136; 0.15479319 0.63393563 -0.21068661 0.08484766 -0.5297027 0.14814796 -0.37190545 -0.048011612 -0.3083708 -0.013776127], Float32[0.42415717, -0.56479996, 0.70990086, 0.14471285, 0.018126821], Float32[0.6086048 0.6883019 -0.71728045 0.6265914 0.3319299; 0.36891723 0.30538902 0.6635282 0.0051766885 0.61346084; 0.2155254 0.72865206 -0.2773185 -0.8464336 -0.14652002; 0.7514785 -0.353463 -0.14640065 0.63564646 -0.57335293; 0.72134125 -0.12561549 -0.056659337 -0.2644465 -0.18986675], Float32[-0.25850168, 1.266982, -0.05892449, -0.11421019, -0.7570177], Float32[-0.08066669 0.9446703 -0.88701963 0.9049463 0.29326195], Float32[0.097813606]])\n"
     ]
    },
    {
     "name": "stderr",
     "output_type": "stream",
     "text": [
      "┌ Info: Epoch 110\n",
      "└ @ Main /Users/facundosapienza/.julia/packages/Flux/goUGu/src/optimise/train.jl:136\n"
     ]
    },
    {
     "name": "stdout",
     "output_type": "stream",
     "text": [
      "Current loss: 0.6142892893425183\n",
      "Current parameter:Params([Float32[-0.275195; -0.21696436; -0.2639482; -0.6401048; -0.2365355; -0.6660935; -0.2174805; 0.5725752; -0.13894713; 0.26741594], Float32[0.1585173, -1.192572, -0.9736274, 0.28511605, 0.08689931, -0.24044673, -0.63428897, 0.76612186, -0.35923123, 0.36720747], Float32[-0.3919041 -0.17686985 -0.6548853 -0.37129924 -0.2808628 -0.5341116 0.17713718 -0.4678856 -0.5977406 0.5152167; -0.2823021 0.31773806 -0.54415023 -0.35953426 0.2740891 -0.028762903 -0.06427934 -0.57468337 0.67178667 0.16833152; 0.12656026 0.027617924 -0.4335298 -0.08208556 0.03631649 0.50756365 -0.07611788 0.3838823 -0.30466497 -0.14940996; 0.071573496 0.29982546 0.34311852 -0.027527824 -0.6021322 -0.37131464 -0.084311865 0.6592116 -0.45818362 -0.19235301; 0.15502673 0.63436127 -0.21034081 0.08513427 -0.52917826 0.14850678 -0.37157077 -0.0484054 -0.30787793 -0.014091553], Float32[0.42464125, -0.5650316, 0.7104329, 0.1449959, 0.017734885], Float32[0.6076549 0.689605 -0.718471 0.62544996 0.3335039; 0.36970806 0.30419964 0.66464984 0.0060740663 0.6121224; 0.21514632 0.72951674 -0.27814358 -0.84688187 -0.14601098; 0.7518531 -0.3542922 -0.14563946 0.63611716 -0.57383204; 0.7222066 -0.126922 -0.055409327 -0.26344353 -0.19114594], Float32[-0.2594264, 1.2677605, -0.059301045, -0.11384021, -0.75616574], Float32[-0.08142907 0.94550985 -0.8881821 0.9059713 0.29286373], Float32[0.09864653]])\n"
     ]
    },
    {
     "name": "stderr",
     "output_type": "stream",
     "text": [
      "┌ Info: Epoch 111\n",
      "└ @ Main /Users/facundosapienza/.julia/packages/Flux/goUGu/src/optimise/train.jl:136\n"
     ]
    },
    {
     "name": "stdout",
     "output_type": "stream",
     "text": [
      "Current loss: 0.6009734822426296\n",
      "Current parameter:Params([Float32[-0.27504575; -0.21739642; -0.26380602; -0.63996476; -0.2366336; -0.66606086; -0.21727256; 0.5727915; -0.13915515; 0.2672644], Float32[0.15866941, -1.1930561, -0.973434, 0.2852368, 0.086629316, -0.24080402, -0.6340714, 0.7664147, -0.35952216, 0.3670225], Float32[-0.39171982 -0.17737053 -0.6553338 -0.37133938 -0.28120756 -0.53456086 0.17669867 -0.46740252 -0.59828746 0.5156281; -0.2821509 0.31798553 -0.54394597 -0.35935715 0.27436185 -0.028554074 -0.064080745 -0.57491183 0.6720664 0.1681427; 0.12617871 0.027074402 -0.43400517 -0.08250572 0.035788715 0.50709903 -0.07658299 0.3843839 -0.3052382 -0.14896409; 0.07156077 0.2995533 0.34290403 -0.02756759 -0.6022376 -0.37146306 -0.08451315 0.659419 -0.4584712 -0.19218624; 0.15526076 0.6347882 -0.20999427 0.085421704 -0.5286516 0.14886668 -0.37123543 -0.04880036 -0.30738342 -0.014407657], Float32[0.42512175, -0.5652611, 0.7109606, 0.14527681, 0.017342113], Float32[0.60670525 0.69090587 -0.71966064 0.6243102 0.3350828; 0.37049598 0.3030159 0.6657664 0.00696828 0.61077964; 0.21476904 0.7303772 -0.2789645 -0.8473283 -0.14549784; 0.75222474 -0.35511497 -0.14488426 0.6365843 -0.5743132; 0.72307163 -0.12822506 -0.054162286 -0.26244122 -0.19243447], Float32[-0.260351, 1.2685361, -0.05967574, -0.11347325, -0.7553142], Float32[-0.08220678 0.94634885 -0.8893417 0.9069951 0.2924765], Float32[0.09947872]])\n"
     ]
    },
    {
     "name": "stderr",
     "output_type": "stream",
     "text": [
      "┌ Info: Epoch 112\n",
      "└ @ Main /Users/facundosapienza/.julia/packages/Flux/goUGu/src/optimise/train.jl:136\n"
     ]
    },
    {
     "name": "stdout",
     "output_type": "stream",
     "text": [
      "Current loss: 0.5877674362155199\n",
      "Current parameter:Params([Float32[-0.27489927; -0.21782784; -0.26366535; -0.63982713; -0.23672843; -0.66603094; -0.21706493; 0.57300556; -0.13936035; 0.2671151], Float32[0.15881911, -1.1935415, -0.97324216, 0.28535554, 0.08636263, -0.24116047, -0.6338542, 0.76670545, -0.35981047, 0.36683968], Float32[-0.39153397 -0.1778677 -0.6557789 -0.3713773 -0.2815544 -0.53500676 0.1762636 -0.46692297 -0.59883064 0.5160362; -0.28200188 0.3182308 -0.5437438 -0.35918236 0.27463162 -0.028347608 -0.06388429 -0.575138 0.6723436 0.16795604; 0.12580214 0.026535297 -0.43447605 -0.08292081 0.035266463 0.5066393 -0.07704348 0.38488066 -0.3058066 -0.14852288; 0.07154888 0.29928315 0.34269133 -0.027606389 -0.6023417 -0.37161002 -0.08471271 0.6596247 -0.45875672 -0.19202101; 0.15549527 0.6352164 -0.20964697 0.08570998 -0.5281227 0.1492277 -0.3708994 -0.0491965 -0.3068873 -0.01472445], Float32[0.4255987, -0.5654886, 0.71148413, 0.14555565, 0.016948491], Float32[0.60575575 0.6922046 -0.7208494 0.623172 0.33666635; 0.371281 0.30183768 0.666878 0.007859355 0.60943276; 0.21439353 0.73123354 -0.27978128 -0.84777296 -0.14498065; 0.7525934 -0.35593125 -0.144135 0.6370478 -0.5747965; 0.7239364 -0.12952468 -0.05291823 -0.2614396 -0.19373204], Float32[-0.26127553, 1.2693088, -0.060048603, -0.1131093, -0.75446296], Float32[-0.08299949 0.9471873 -0.89049846 0.90801775 0.29210037], Float32[0.10031019]])\n"
     ]
    },
    {
     "name": "stderr",
     "output_type": "stream",
     "text": [
      "┌ Info: Epoch 113\n",
      "└ @ Main /Users/facundosapienza/.julia/packages/Flux/goUGu/src/optimise/train.jl:136\n"
     ]
    },
    {
     "name": "stdout",
     "output_type": "stream",
     "text": [
      "Current loss: 0.5746684679769465\n",
      "Current parameter:Params([Float32[-0.2747555; -0.21825866; -0.26352614; -0.6396918; -0.23682006; -0.6660037; -0.21685755; 0.5732174; -0.13956282; 0.26696795], Float32[0.15896645, -1.1940283, -0.97305185, 0.2854723, 0.08609921, -0.24151608, -0.6336373, 0.7669941, -0.36009622, 0.3666589], Float32[-0.39134663 -0.17836137 -0.65622056 -0.37141305 -0.2819032 -0.5354494 0.17583193 -0.4664469 -0.5993701 0.51644105; -0.281855 0.31847396 -0.5435437 -0.35900983 0.27489844 -0.028143438 -0.06368992 -0.5753618 0.6726184 0.16777146; 0.12543042 0.026000507 -0.43494248 -0.08333096 0.03474962 0.50618434 -0.077499464 0.38537273 -0.30637032 -0.14808623; 0.07153779 0.29901496 0.34248036 -0.027644247 -0.60244465 -0.37175557 -0.08491055 0.6598287 -0.45904016 -0.19185732; 0.15573029 0.6356459 -0.2092989 0.085999094 -0.52759165 0.1495898 -0.3705627 -0.049593825 -0.30638954 -0.01504194], Float32[0.42607215, -0.56571406, 0.7120035, 0.1458324, 0.016554007], Float32[0.60480636 0.6935012 -0.72203726 0.6220354 0.33825433; 0.37206313 0.300665 0.6679846 0.008747316 0.60808194; 0.21401975 0.73208576 -0.280594 -0.8482159 -0.14445946; 0.7529591 -0.35674116 -0.14339165 0.63750786 -0.5752817; 0.72480077 -0.13082084 -0.05167717 -0.26043868 -0.19503833], Float32[-0.2622, 1.2700785, -0.060419668, -0.11274832, -0.75361216], Float32[-0.08380688 0.9480252 -0.8916524 0.90903926 0.29173547], Float32[0.10114094]])\n"
     ]
    },
    {
     "name": "stderr",
     "output_type": "stream",
     "text": [
      "┌ Info: Epoch 114\n",
      "└ @ Main /Users/facundosapienza/.julia/packages/Flux/goUGu/src/optimise/train.jl:136\n"
     ]
    },
    {
     "name": "stdout",
     "output_type": "stream",
     "text": [
      "Current loss: 0.5616752761354681\n",
      "Current parameter:Params([Float32[-0.2746144; -0.21868894; -0.26338837; -0.6395588; -0.23690854; -0.6659791; -0.21665041; 0.5734271; -0.13976258; 0.26682296], Float32[0.1591115, -1.1945163, -0.972863, 0.28558716, 0.08583902, -0.24187087, -0.6334207, 0.76728076, -0.36037946, 0.3664801], Float32[-0.3911579 -0.17885159 -0.6566588 -0.3714467 -0.28225383 -0.53588873 0.17540364 -0.4659743 -0.59990597 0.5168426; -0.28171015 0.31871504 -0.5433456 -0.3588395 0.27516243 -0.027941503 -0.06349758 -0.5755834 0.6728908 0.1675889; 0.12506342 0.025469936 -0.43540463 -0.08373628 0.03423807 0.5057341 -0.07795104 0.3858602 -0.3069294 -0.14765404; 0.07152749 0.2987487 0.34227112 -0.02768119 -0.60254645 -0.37189975 -0.085106716 0.6600311 -0.4593216 -0.19169514; 0.15596582 0.63607675 -0.20895004 0.08628905 -0.5270584 0.14995302 -0.37022528 -0.049992338 -0.30589017 -0.015360132], Float32[0.4265421, -0.5659376, 0.7125189, 0.1461071, 0.016158655], Float32[0.60385716 0.69479567 -0.7232242 0.62090033 0.33984655; 0.3728424 0.29949778 0.6690863 0.009632186 0.6067274; 0.21364768 0.73293394 -0.28140268 -0.848657 -0.14393431; 0.7533218 -0.3575447 -0.14265417 0.63796437 -0.57576877; 0.72566473 -0.13211356 -0.050439123 -0.25943854 -0.19635305], Float32[-0.26312444, 1.2708454, -0.060788963, -0.11239028, -0.7527618], Float32[-0.08462863 0.9488626 -0.89280355 0.9100596 0.2913819], Float32[0.101970956]])\n"
     ]
    },
    {
     "name": "stderr",
     "output_type": "stream",
     "text": [
      "┌ Info: Epoch 115\n",
      "└ @ Main /Users/facundosapienza/.julia/packages/Flux/goUGu/src/optimise/train.jl:136\n"
     ]
    },
    {
     "name": "stdout",
     "output_type": "stream",
     "text": [
      "Current loss: 0.548785190963941\n",
      "Current parameter:Params([Float32[-0.27447584; -0.2191187; -0.26325196; -0.63942796; -0.23699395; -0.66595703; -0.2164435; 0.5736347; -0.13995972; 0.26668003], Float32[0.1592543, -1.1950057, -0.9726757, 0.28570014, 0.08558201, -0.24222478, -0.6332044, 0.7675654, -0.36066023, 0.3663033], Float32[-0.39096782 -0.17933838 -0.65709376 -0.3714783 -0.28260615 -0.5363249 0.17497869 -0.46550512 -0.6004382 0.51724094; -0.2815673 0.31895405 -0.5431494 -0.35867134 0.27542362 -0.027741741 -0.06330722 -0.57580286 0.67316085 0.16740833; 0.12470104 0.024943493 -0.43586254 -0.08413687 0.03373171 0.50528836 -0.078398295 0.3863432 -0.307484 -0.1472262; 0.07151794 0.29848436 0.34206358 -0.027717248 -0.60264707 -0.3720426 -0.08530122 0.66023177 -0.459601 -0.19153443; 0.15620184 0.6365089 -0.2086004 0.086579844 -0.52652305 0.15031734 -0.36988717 -0.05039204 -0.30538917 -0.01567903], Float32[0.4270086, -0.5661592, 0.7130303, 0.1463798, 0.015762428], Float32[0.6029081 0.696088 -0.72441024 0.6197668 0.34144276; 0.37361884 0.29833597 0.67018306 0.010513986 0.60536945; 0.2132773 0.73377806 -0.2822074 -0.8490965 -0.14340527; 0.7536817 -0.35834193 -0.1419225 0.63841736 -0.57625765; 0.7265283 -0.13340284 -0.049204096 -0.25843918 -0.1976759], Float32[-0.2640488, 1.2716094, -0.061156515, -0.112035155, -0.7519119], Float32[-0.0854644 0.94969946 -0.89395195 0.91107875 0.29103974], Float32[0.10280025]])\n"
     ]
    },
    {
     "name": "stderr",
     "output_type": "stream",
     "text": [
      "┌ Info: Epoch 116\n",
      "└ @ Main /Users/facundosapienza/.julia/packages/Flux/goUGu/src/optimise/train.jl:136\n"
     ]
    },
    {
     "name": "stdout",
     "output_type": "stream",
     "text": [
      "Current loss: 0.5359965690567252\n",
      "Current parameter:Params([Float32[-0.27433982; -0.219548; -0.2631169; -0.6392993; -0.23707634; -0.6659375; -0.21623677; 0.57384026; -0.1401543; 0.26653913], Float32[0.15939489, -1.1954964, -0.9724898, 0.28581128, 0.08532815, -0.24257785, -0.63298833, 0.76784813, -0.36093858, 0.3661284], Float32[-0.39077646 -0.17982177 -0.6575254 -0.37150788 -0.28296006 -0.5367579 0.17455706 -0.46503934 -0.60096675 0.5176361; -0.2814264 0.3191911 -0.54295516 -0.35850525 0.2756821 -0.027544098 -0.06311879 -0.5760202 0.67342865 0.16722968; 0.12434317 0.024421092 -0.4363163 -0.08453285 0.03323044 0.5048471 -0.07884133 0.3868218 -0.30803415 -0.14680262; 0.071509115 0.29822192 0.34185773 -0.027752442 -0.6027466 -0.3721841 -0.08549409 0.66043085 -0.45987847 -0.19137518; 0.15643837 0.6369423 -0.20824999 0.08687148 -0.52598554 0.15068278 -0.36954838 -0.05079293 -0.30488655 -0.015998637], Float32[0.4274717, -0.56637895, 0.7135378, 0.1466505, 0.01536532], Float32[0.6019591 0.6973783 -0.7255953 0.6186347 0.34304276; 0.37439245 0.29717952 0.67127496 0.011392736 0.6040082; 0.21290857 0.7346182 -0.2830082 -0.8495342 -0.1428724; 0.75403875 -0.35913292 -0.14119662 0.6388669 -0.57674825; 0.7273914 -0.13468866 -0.047972105 -0.25744063 -0.19900659], Float32[-0.26497316, 1.2723706, -0.06152235, -0.111682914, -0.75106245], Float32[-0.086313896 0.9505358 -0.8950977 0.91209674 0.29070914], Float32[0.103628814]])\n"
     ]
    },
    {
     "name": "stderr",
     "output_type": "stream",
     "text": [
      "┌ Info: Epoch 117\n",
      "└ @ Main /Users/facundosapienza/.julia/packages/Flux/goUGu/src/optimise/train.jl:136\n"
     ]
    },
    {
     "name": "stdout",
     "output_type": "stream",
     "text": [
      "Current loss: 0.5233078406163874\n",
      "Current parameter:Params([Float32[-0.27420625; -0.21997687; -0.26298314; -0.63917273; -0.23715578; -0.66592044; -0.21603021; 0.5740438; -0.14034638; 0.2664002], Float32[0.15953332, -1.1959887, -0.97230524, 0.28592062, 0.08507739, -0.24293005, -0.63277245, 0.76812893, -0.36121455, 0.36595544], Float32[-0.3905839 -0.18030182 -0.6579538 -0.3715355 -0.28331542 -0.5371877 0.17413871 -0.46457693 -0.60149175 0.51802814; -0.2812874 0.3194262 -0.5427628 -0.35834122 0.2759379 -0.027348518 -0.06293225 -0.5762354 0.67369425 0.16705291; 0.123989716 0.023902649 -0.43676606 -0.0849243 0.03273416 0.5044102 -0.07928023 0.3872961 -0.30857995 -0.1463832; 0.071501 0.29796132 0.34165353 -0.027786797 -0.602845 -0.3723243 -0.08568536 0.6606283 -0.46015397 -0.19121736; 0.1566754 0.6373771 -0.20789878 0.08716395 -0.52544594 0.15104932 -0.36920887 -0.051195 -0.30438232 -0.01631895], Float32[0.4279314, -0.56659687, 0.7140416, 0.1469192, 0.014967332], Float32[0.60101026 0.69866645 -0.7267794 0.6175041 0.34464633; 0.37516326 0.2960284 0.672362 0.012268453 0.60264385; 0.21254146 0.7354544 -0.28380507 -0.8499703 -0.14233571; 0.7543929 -0.35991767 -0.14047648 0.63931304 -0.57724047; 0.7282541 -0.13597104 -0.046743162 -0.25644293 -0.20034482], Float32[-0.26589748, 1.273129, -0.061886493, -0.111333534, -0.75021356], Float32[-0.087176785 0.95137155 -0.89624065 0.91311353 0.2903902], Float32[0.10445665]])\n"
     ]
    },
    {
     "name": "stderr",
     "output_type": "stream",
     "text": [
      "┌ Info: Epoch 118\n",
      "└ @ Main /Users/facundosapienza/.julia/packages/Flux/goUGu/src/optimise/train.jl:136\n"
     ]
    },
    {
     "name": "stdout",
     "output_type": "stream",
     "text": [
      "Current loss: 0.5107169058159556\n",
      "Current parameter:Params([Float32[-0.27407506; -0.22040533; -0.26285067; -0.6390482; -0.23723231; -0.66590583; -0.21582381; 0.57424545; -0.14053601; 0.2662632], Float32[0.15966964, -1.1964823, -0.9721221, 0.28602824, 0.0848297, -0.2432814, -0.6325568, 0.7684079, -0.36148816, 0.36578432], Float32[-0.3903902 -0.18077852 -0.6583789 -0.37156123 -0.28367215 -0.5376144 0.17372361 -0.46411785 -0.60201323 0.51841706; -0.28115022 0.3196594 -0.54257226 -0.35817915 0.27619115 -0.02715495 -0.06274755 -0.5764486 0.67395765 0.16687797; 0.123640575 0.023388086 -0.43721184 -0.08531133 0.03224278 0.5039776 -0.07971507 0.38776618 -0.3091215 -0.14596786; 0.071493566 0.29770258 0.34145096 -0.027820338 -0.60294235 -0.3724632 -0.08587503 0.6608242 -0.46042752 -0.19106096; 0.15691294 0.63781315 -0.2075468 0.08745724 -0.52490425 0.15141694 -0.36886868 -0.051598243 -0.3038765 -0.01663997], Float32[0.42838773, -0.566813, 0.7145417, 0.14718598, 0.014568462], Float32[0.6000616 0.69995254 -0.7279625 0.616375 0.34625328; 0.3759313 0.29488257 0.6734443 0.013141153 0.60127664; 0.21217597 0.7362867 -0.2845981 -0.85040474 -0.14179529; 0.7547443 -0.36069626 -0.13976203 0.6397558 -0.57773423; 0.72911626 -0.13724996 -0.045517277 -0.25544614 -0.20169032], Float32[-0.26682177, 1.2738845, -0.062248968, -0.11098699, -0.7493652], Float32[-0.08805275 0.9522068 -0.897381 0.9141292 0.29008302], Float32[0.10528375]])\n"
     ]
    },
    {
     "name": "stderr",
     "output_type": "stream",
     "text": [
      "┌ Info: Epoch 119\n",
      "└ @ Main /Users/facundosapienza/.julia/packages/Flux/goUGu/src/optimise/train.jl:136\n"
     ]
    },
    {
     "name": "stdout",
     "output_type": "stream",
     "text": [
      "Current loss: 0.49822236214871907\n",
      "Current parameter:Params([Float32[-0.27394623; -0.2208334; -0.26271945; -0.63892573; -0.237306; -0.6658936; -0.21561755; 0.5744452; -0.14072326; 0.26612806], Float32[0.15980388, -1.1969773, -0.9719402, 0.28613415, 0.08458504, -0.24363185, -0.6323413, 0.768685, -0.36175948, 0.365615], Float32[-0.3901954 -0.18125191 -0.6588008 -0.3715851 -0.2840301 -0.538038 0.17331173 -0.4636621 -0.6025312 0.5188029; -0.28101483 0.31989077 -0.5423835 -0.35801902 0.27644187 -0.026963346 -0.062564656 -0.57665986 0.6742189 0.16670482; 0.12329566 0.022877328 -0.43765372 -0.08569402 0.03175621 0.50354916 -0.08014594 0.3882321 -0.30965886 -0.14555651; 0.07148679 0.29744565 0.34125 -0.027853085 -0.6030386 -0.37260085 -0.08606313 0.6610185 -0.46069917 -0.19090594; 0.15715097 0.6382505 -0.20719403 0.087751344 -0.5243606 0.15178566 -0.3685278 -0.052002653 -0.30336908 -0.01696169], Float32[0.42884073, -0.5670274, 0.71503806, 0.14745082, 0.014168713], Float32[0.59911305 0.7012365 -0.7291446 0.6152474 0.34786338; 0.3766966 0.29374197 0.67452174 0.014010853 0.5999067; 0.21181206 0.73711514 -0.2853873 -0.8508376 -0.14125118; 0.75509286 -0.36146873 -0.13905324 0.64019513 -0.5782295; 0.7299779 -0.13852543 -0.044294465 -0.25445026 -0.2030428], Float32[-0.267746, 1.2746373, -0.0626098, -0.11064326, -0.7485174], Float32[-0.088941485 0.95304143 -0.8985187 0.91514367 0.28978774], Float32[0.106110126]])\n"
     ]
    },
    {
     "name": "stderr",
     "output_type": "stream",
     "text": [
      "┌ Info: Epoch 120\n",
      "└ @ Main /Users/facundosapienza/.julia/packages/Flux/goUGu/src/optimise/train.jl:136\n"
     ]
    },
    {
     "name": "stdout",
     "output_type": "stream",
     "text": [
      "Current loss: 0.48582266609383284\n",
      "Current parameter:Params([Float32[-0.27381968; -0.22126113; -0.26258942; -0.63880515; -0.2373769; -0.6658837; -0.21541142; 0.5746431; -0.14090815; 0.2659948], Float32[0.1599361, -1.1974736, -0.9717597, 0.2862384, 0.08434337, -0.24398145, -0.63212603, 0.76896024, -0.36202854, 0.3654475], Float32[-0.3899996 -0.18172204 -0.6592195 -0.37160718 -0.2843892 -0.5384586 0.17290303 -0.4632096 -0.60304564 0.51918566; -0.2808812 0.3201203 -0.54219645 -0.35786077 0.2766901 -0.026773656 -0.062383514 -0.5768692 0.6744781 0.16653341; 0.122954875 0.022370305 -0.4380918 -0.08607247 0.03127437 0.50312483 -0.08057291 0.388694 -0.3101921 -0.14514908; 0.07148066 0.29719052 0.34105062 -0.027885059 -0.60313386 -0.3727373 -0.086249694 0.66121125 -0.46096894 -0.19075228; 0.15738948 0.63868916 -0.2068405 0.08804625 -0.5238149 0.15215544 -0.36818627 -0.052408215 -0.3028601 -0.017284103], Float32[0.42929044, -0.56724006, 0.7155309, 0.14771377, 0.013768091], Float32[0.5981647 0.70251834 -0.7303256 0.6141213 0.34947643; 0.3774591 0.29260656 0.6755945 0.014877564 0.5985342; 0.21144973 0.7379397 -0.28617275 -0.8512688 -0.14070342; 0.7554387 -0.36223513 -0.13835005 0.64063114 -0.5787262; 0.73083895 -0.13979743 -0.04307474 -0.25345534 -0.204402], Float32[-0.26867014, 1.2753874, -0.06296901, -0.11030231, -0.7476702], Float32[-0.08984267 0.95387554 -0.89965373 0.91615695 0.28950444], Float32[0.10693577]])\n"
     ]
    },
    {
     "name": "stderr",
     "output_type": "stream",
     "text": [
      "┌ Info: Epoch 121\n",
      "└ @ Main /Users/facundosapienza/.julia/packages/Flux/goUGu/src/optimise/train.jl:136\n"
     ]
    },
    {
     "name": "stdout",
     "output_type": "stream",
     "text": [
      "Current loss: 0.4735161900664923\n",
      "Current parameter:Params([Float32[-0.27369538; -0.22168851; -0.2624606; -0.6386865; -0.23744507; -0.6658761; -0.21520543; 0.5748391; -0.14109077; 0.26586333], Float32[0.16006632, -1.1979715, -0.97158045, 0.286341, 0.08410464, -0.24433017, -0.63191086, 0.7692337, -0.36229536, 0.36528173], Float32[-0.38980284 -0.18218893 -0.65963507 -0.37162748 -0.28474933 -0.5388761 0.17249748 -0.46276036 -0.60355663 0.5195654; -0.28074926 0.32034808 -0.54201114 -0.35770434 0.2769359 -0.026585838 -0.062204096 -0.5770766 0.67473525 0.16636372; 0.122618146 0.02186695 -0.43852615 -0.08644674 0.030797182 0.50270456 -0.08099605 0.38915187 -0.3107213 -0.1447455; 0.07147514 0.29693717 0.34085283 -0.027916282 -0.6032281 -0.3728725 -0.08643474 0.6614025 -0.46123683 -0.19059996; 0.15762846 0.6391291 -0.20648621 0.088341944 -0.5232673 0.1525263 -0.36784405 -0.052814912 -0.3023496 -0.0176072], Float32[0.42973688, -0.56745106, 0.71602017, 0.14797483, 0.013366601], Float32[0.59721655 0.70379806 -0.73150545 0.6129967 0.35109222; 0.37821892 0.2914763 0.67666256 0.0157413 0.59715945; 0.21108894 0.73876053 -0.28695443 -0.8516985 -0.1401521; 0.75578177 -0.3629955 -0.13765244 0.6410638 -0.57922417; 0.7316994 -0.14106598 -0.04185811 -0.2524614 -0.20576763], Float32[-0.2695942, 1.2761346, -0.06332661, -0.10996411, -0.7468236], Float32[-0.09075601 0.95470905 -0.9007862 0.91716903 0.2892332], Float32[0.107760675]])\n"
     ]
    },
    {
     "name": "stderr",
     "output_type": "stream",
     "text": [
      "┌ Info: Epoch 122\n",
      "└ @ Main /Users/facundosapienza/.julia/packages/Flux/goUGu/src/optimise/train.jl:136\n"
     ]
    },
    {
     "name": "stdout",
     "output_type": "stream",
     "text": [
      "Current loss: 0.46130158001268484\n",
      "Current parameter:Params([Float32[-0.27357328; -0.22211556; -0.2623329; -0.63856965; -0.23751058; -0.6658707; -0.21499954; 0.57503337; -0.14127113; 0.26573363], Float32[0.16019459, -1.1984707, -0.97140247, 0.28644204, 0.08386883, -0.244678, -0.63169587, 0.76950544, -0.36255997, 0.3651177], Float32[-0.3896052 -0.1826526 -0.6600475 -0.37164608 -0.28511038 -0.53929067 0.17209506 -0.46231434 -0.60406417 0.51994216; -0.28061897 0.3205741 -0.5418275 -0.35754973 0.27717936 -0.026399849 -0.062026363 -0.5772822 0.6749904 0.16619568; 0.12228539 0.021367198 -0.43895683 -0.08681693 0.030324565 0.5022882 -0.08141543 0.38960582 -0.3112465 -0.14434569; 0.07147022 0.29668555 0.34065658 -0.027946776 -0.6033213 -0.37300652 -0.086618274 0.6615923 -0.46150288 -0.19044897; 0.15786792 0.6395703 -0.20613116 0.08863841 -0.5227179 0.1528982 -0.36750117 -0.053222727 -0.30183756 -0.017930971], Float32[0.43018007, -0.56766045, 0.716506, 0.14823404, 0.012964254], Float32[0.5962686 0.7050756 -0.7326842 0.6118736 0.35271052; 0.378976 0.29035115 0.6777259 0.01660207 0.5957825; 0.21072967 0.7395776 -0.2877324 -0.85212666 -0.13959724; 0.7561221 -0.3637499 -0.13696034 0.6414932 -0.5797235; 0.73255926 -0.14233108 -0.040644597 -0.2514685 -0.20713943], Float32[-0.27051812, 1.2768791, -0.06368263, -0.10962864, -0.7459777], Float32[-0.09168118 0.955542 -0.90191615 0.9181799 0.28897417], Float32[0.10858484]])\n"
     ]
    },
    {
     "name": "stderr",
     "output_type": "stream",
     "text": [
      "┌ Info: Epoch 123\n",
      "└ @ Main /Users/facundosapienza/.julia/packages/Flux/goUGu/src/optimise/train.jl:136\n"
     ]
    },
    {
     "name": "stdout",
     "output_type": "stream",
     "text": [
      "Current loss: 0.4491776421772233\n",
      "Current parameter:Params([Float32[-0.27345333; -0.2225423; -0.26220632; -0.6384547; -0.23757346; -0.66586757; -0.21479377; 0.5752259; -0.1414493; 0.26560566], Float32[0.16032094, -1.1989714, -0.97122574, 0.28654152, 0.08363589, -0.24502498, -0.631481, 0.76977545, -0.3628224, 0.36495537], Float32[-0.3894067 -0.18311308 -0.66045684 -0.371663 -0.28547227 -0.53970224 0.17169574 -0.4618715 -0.6045683 0.52031595; -0.2804903 0.32079843 -0.54164547 -0.35739684 0.2774205 -0.026215648 -0.06185028 -0.577486 0.6752436 0.16602927; 0.12195653 0.020870991 -0.4393839 -0.0871831 0.029856449 0.50187576 -0.08183111 0.39005592 -0.31176782 -0.14394957; 0.07146588 0.29643565 0.34046185 -0.02797656 -0.6034136 -0.37313935 -0.08680033 0.6617806 -0.4617671 -0.19029927; 0.15810783 0.64001274 -0.20577538 0.08893563 -0.5221666 0.15327114 -0.36715767 -0.05363164 -0.30132404 -0.018255403], Float32[0.43062007, -0.56786823, 0.71698844, 0.14849141, 0.0125610605], Float32[0.59532094 0.706351 -0.7338617 0.6107521 0.35433114; 0.37973034 0.2892311 0.6787846 0.01745988 0.5944036; 0.21037193 0.7403909 -0.2885067 -0.85255325 -0.1390389; 0.7564598 -0.36449838 -0.13627373 0.6419194 -0.580224; 0.73341846 -0.1435927 -0.03943421 -0.25047666 -0.20851713], Float32[-0.2714419, 1.2776209, -0.064037085, -0.10929588, -0.7451325], Float32[-0.09261789 0.9563744 -0.9030435 0.91918963 0.28872743], Float32[0.10940827]])\n"
     ]
    },
    {
     "name": "stderr",
     "output_type": "stream",
     "text": [
      "┌ Info: Epoch 124\n",
      "└ @ Main /Users/facundosapienza/.julia/packages/Flux/goUGu/src/optimise/train.jl:136\n"
     ]
    },
    {
     "name": "stdout",
     "output_type": "stream",
     "text": [
      "Current loss: 0.4371434784464875\n",
      "Current parameter:Params([Float32[-0.27333546; -0.22296873; -0.26208082; -0.6383415; -0.23763378; -0.6658666; -0.2145881; 0.57541674; -0.14162531; 0.2654794], Float32[0.1604454, -1.1994735, -0.9710502, 0.28663945, 0.083405785, -0.24537107, -0.63126624, 0.7700438, -0.36308274, 0.3647947], Float32[-0.38920742 -0.18357041 -0.6608631 -0.3716783 -0.2858349 -0.5401109 0.17129949 -0.46143183 -0.6050691 0.5206868; -0.2803632 0.32102108 -0.54146504 -0.35724568 0.27765933 -0.026033198 -0.061675813 -0.577688 0.67549485 0.16586447; 0.12163149 0.020378273 -0.43980742 -0.087545335 0.029392764 0.5014671 -0.08224316 0.3905022 -0.31228524 -0.1435571; 0.071462095 0.2961875 0.34026864 -0.028005652 -0.6035049 -0.37327105 -0.086980924 0.66196746 -0.46202955 -0.19015087; 0.15834817 0.64045644 -0.20541887 0.08923357 -0.52161354 0.15364507 -0.36681354 -0.05404163 -0.3008091 -0.01858048], Float32[0.4310569, -0.5680744, 0.71746755, 0.14874697, 0.012157033], Float32[0.5943736 0.70762414 -0.7350379 0.6096322 0.35595387; 0.38048202 0.28811607 0.67983866 0.018314742 0.59302294; 0.21001567 0.7412005 -0.28927734 -0.8529783 -0.13847715; 0.75679475 -0.36524096 -0.13559255 0.64234227 -0.5807256; 0.73427695 -0.14485085 -0.038226962 -0.24948592 -0.20990048], Float32[-0.27236548, 1.27836, -0.06438999, -0.1089658, -0.744288], Float32[-0.09356584 0.9572062 -0.9041683 0.92019814 0.2884931], Float32[0.110230945]])\n"
     ]
    },
    {
     "name": "stderr",
     "output_type": "stream",
     "text": [
      "┌ Info: Epoch 125\n",
      "└ @ Main /Users/facundosapienza/.julia/packages/Flux/goUGu/src/optimise/train.jl:136\n"
     ]
    },
    {
     "name": "stdout",
     "output_type": "stream",
     "text": [
      "Current loss: 0.4251974700317712\n",
      "Current parameter:Params([Float32[-0.27321965; -0.22339486; -0.2619564; -0.63823; -0.2376916; -0.6658678; -0.21438254; 0.5756059; -0.14179923; 0.26535478], Float32[0.16056803, -1.1999769, -0.97087586, 0.2867359, 0.083178475, -0.24571629, -0.63105166, 0.7703104, -0.36334094, 0.36463568], Float32[-0.3890074 -0.18402463 -0.6612663 -0.371692 -0.2861982 -0.5405166 0.17090626 -0.4609953 -0.6055665 0.5210548; -0.28023764 0.3212421 -0.5412862 -0.3570962 0.27789593 -0.025852462 -0.061502934 -0.57788825 0.67574424 0.16570123; 0.1213102 0.01988899 -0.44022742 -0.08790369 0.028933445 0.5010622 -0.08265163 0.39094478 -0.3127989 -0.14316821; 0.071458854 0.295941 0.3400769 -0.02803407 -0.60359526 -0.3734016 -0.08716007 0.6621529 -0.4622902 -0.19000372; 0.15858893 0.6409014 -0.20506166 0.08953222 -0.5210588 0.15401998 -0.3664688 -0.054452673 -0.3002927 -0.018906184], Float32[0.43149057, -0.568279, 0.7179434, 0.14900072, 0.011752188], Float32[0.5934265 0.708895 -0.73621285 0.6085139 0.35757852; 0.38123098 0.28700605 0.6808881 0.019166658 0.59164065; 0.2096609 0.7420064 -0.29004437 -0.85340184 -0.13791202; 0.7571271 -0.36597773 -0.13491677 0.64276195 -0.5812283; 0.7351347 -0.14610551 -0.03702287 -0.24849632 -0.21128923], Float32[-0.27328882, 1.2790964, -0.06474136, -0.108638376, -0.74344426], Float32[-0.09452471 0.9580374 -0.9052906 0.9212054 0.28827125], Float32[0.11105287]])\n"
     ]
    },
    {
     "name": "stderr",
     "output_type": "stream",
     "text": [
      "┌ Info: Epoch 126\n",
      "└ @ Main /Users/facundosapienza/.julia/packages/Flux/goUGu/src/optimise/train.jl:136\n"
     ]
    },
    {
     "name": "stdout",
     "output_type": "stream",
     "text": [
      "Current loss: 0.4133385860626293\n",
      "Current parameter:Params([Float32[-0.27310586; -0.22382067; -0.26183304; -0.6381203; -0.23774695; -0.6658711; -0.2141771; 0.57579345; -0.14197107; 0.2652318], Float32[0.16068882, -1.2004818, -0.9707027, 0.28683087, 0.08295392, -0.24606062, -0.6308372, 0.7705754, -0.3635971, 0.3644783], Float32[-0.38880667 -0.18447575 -0.6616666 -0.37170416 -0.28656206 -0.5409195 0.17051604 -0.46056184 -0.6060606 0.52141994; -0.2801136 0.3214615 -0.54110885 -0.35694835 0.27813032 -0.025673404 -0.06133161 -0.57808685 0.6759917 0.16553952; 0.12099259 0.01940309 -0.440644 -0.088258244 0.02847843 0.500661 -0.08305658 0.39138368 -0.31330878 -0.14278284; 0.071456134 0.29569617 0.33988664 -0.028061835 -0.6036847 -0.37353104 -0.0873378 0.6623369 -0.4625491 -0.18985783; 0.15883009 0.6413475 -0.20470375 0.089831546 -0.5205024 0.15439585 -0.36612347 -0.054864738 -0.29977491 -0.019232497], Float32[0.43192112, -0.5684821, 0.7184159, 0.1492527, 0.011346542], Float32[0.5924798 0.7101636 -0.7373864 0.6073972 0.35920483; 0.38197726 0.28590104 0.6819329 0.020015633 0.5902569; 0.2093076 0.7428087 -0.2908078 -0.8538239 -0.13734359; 0.75745684 -0.36670873 -0.13424633 0.64317846 -0.581732; 0.7359918 -0.14735669 -0.03582195 -0.24750791 -0.2126831], Float32[-0.27421188, 1.27983, -0.06509121, -0.10831358, -0.7426013], Float32[-0.095494226 0.95886797 -0.9064104 0.92221147 0.288062], Float32[0.111874044]])\n"
     ]
    },
    {
     "name": "stderr",
     "output_type": "stream",
     "text": [
      "┌ Info: Epoch 127\n",
      "└ @ Main /Users/facundosapienza/.julia/packages/Flux/goUGu/src/optimise/train.jl:136\n"
     ]
    },
    {
     "name": "stdout",
     "output_type": "stream",
     "text": [
      "Current loss: 0.4015660277486189\n",
      "Current parameter:Params([Float32[-0.27299404; -0.22424619; -0.2617107; -0.6380122; -0.23779991; -0.66587645; -0.21397176; 0.57597935; -0.14214088; 0.2651104], Float32[0.16080782, -1.2009879, -0.9705307, 0.28692442, 0.0827321, -0.24640408, -0.63062286, 0.7708388, -0.3638512, 0.36432248], Float32[-0.38860533 -0.1849238 -0.66206384 -0.3717148 -0.28692642 -0.5413195 0.1701288 -0.46013147 -0.6065514 0.5217822; -0.27999103 0.32167932 -0.540933 -0.35680208 0.27836257 -0.025495991 -0.061161816 -0.5782837 0.6762374 0.16537932; 0.12067861 0.018920528 -0.44105718 -0.08860905 0.028027661 0.50026345 -0.08345806 0.39181894 -0.31381494 -0.14240092; 0.07145392 0.295453 0.3396978 -0.028088963 -0.60377324 -0.37365937 -0.08751412 0.6625195 -0.46280622 -0.18971315; 0.15907162 0.6417948 -0.20434518 0.09013153 -0.51994437 0.15477264 -0.36577758 -0.0552778 -0.2992558 -0.019559398], Float32[0.43234858, -0.5686837, 0.7188853, 0.14950292, 0.010940116], Float32[0.5915336 0.71142983 -0.73855853 0.60628223 0.36083263; 0.38272086 0.28480098 0.6829732 0.020861669 0.5888719; 0.20895575 0.74360734 -0.2915677 -0.8542445 -0.1367719; 0.757784 -0.36743397 -0.1335812 0.6435918 -0.5822366; 0.736848 -0.14860436 -0.03462421 -0.24652071 -0.21408185], Float32[-0.27513462, 1.280561, -0.06543955, -0.107991405, -0.7417591], Float32[-0.09647409 0.95969796 -0.90752774 0.9232163 0.28786543], Float32[0.11269445]])\n"
     ]
    },
    {
     "name": "stderr",
     "output_type": "stream",
     "text": [
      "┌ Info: Epoch 128\n",
      "└ @ Main /Users/facundosapienza/.julia/packages/Flux/goUGu/src/optimise/train.jl:136\n"
     ]
    },
    {
     "name": "stdout",
     "output_type": "stream",
     "text": [
      "Current loss: 0.3898786889317541\n",
      "Current parameter:Params([Float32[-0.27288416; -0.2246714; -0.26158938; -0.6379057; -0.23785052; -0.66588384; -0.21376655; 0.5761637; -0.14230871; 0.2649906], Float32[0.16092506, -1.2014954, -0.97035986, 0.28701654, 0.08251295, -0.24674667, -0.63040864, 0.7711006, -0.3641033, 0.36416826], Float32[-0.3884034 -0.1853688 -0.6624581 -0.37172395 -0.28729117 -0.54171664 0.16974452 -0.45970413 -0.6070389 0.5221417; -0.27986988 0.3218956 -0.54075867 -0.3566574 0.2785927 -0.025320191 -0.060993522 -0.578479 0.6764813 0.16522057; 0.12036818 0.018441258 -0.44146702 -0.08895616 0.02758108 0.49986947 -0.08385612 0.39225063 -0.31431744 -0.14202242; 0.0714522 0.2952115 0.3395104 -0.028115468 -0.60386086 -0.37378663 -0.08768905 0.6627008 -0.46306166 -0.18956968; 0.15931351 0.64224327 -0.20398596 0.09043213 -0.51938486 0.15515032 -0.36543116 -0.05569182 -0.29873535 -0.019886864], Float32[0.43277296, -0.56888384, 0.71935153, 0.1497514, 0.01053293], Float32[0.59058785 0.7126937 -0.7397291 0.605169 0.36246172; 0.38346177 0.28370583 0.6840089 0.021704767 0.58748573; 0.20860533 0.7444024 -0.29232407 -0.85466355 -0.13619703; 0.75810856 -0.36815354 -0.13292134 0.644002 -0.58274204; 0.7377034 -0.14984854 -0.03342968 -0.24553478 -0.21548526], Float32[-0.27605698, 1.2812892, -0.06578641, -0.10767181, -0.7409178], Float32[-0.097464 0.96052736 -0.90864265 0.92421985 0.28768164], Float32[0.11351409]])\n"
     ]
    },
    {
     "name": "stderr",
     "output_type": "stream",
     "text": [
      "┌ Info: Epoch 129\n",
      "└ @ Main /Users/facundosapienza/.julia/packages/Flux/goUGu/src/optimise/train.jl:136\n"
     ]
    },
    {
     "name": "stdout",
     "output_type": "stream",
     "text": [
      "Current loss: 0.37827601629682284\n",
      "Current parameter:Params([Float32[-0.2727762; -0.22509627; -0.26146904; -0.6378009; -0.23789883; -0.6658932; -0.21356146; 0.5763465; -0.14247459; 0.2648723], Float32[0.16104057, -1.2020042, -0.9701901, 0.2871073, 0.08229645, -0.24708839, -0.63019454, 0.77136075, -0.3643534, 0.36401558], Float32[-0.3882009 -0.1858108 -0.6628495 -0.37173167 -0.28765625 -0.54211104 0.16936316 -0.45927984 -0.6075232 0.5224984; -0.27975017 0.32211035 -0.54058576 -0.35651425 0.27882075 -0.025145974 -0.060826704 -0.57867265 0.6767234 0.16506328; 0.120061256 0.017965239 -0.44187358 -0.08929965 0.027138634 0.499479 -0.08425081 0.3926788 -0.31481633 -0.14164728; 0.071450956 0.2949716 0.33932444 -0.02814137 -0.60394764 -0.37391284 -0.0878626 0.66288066 -0.46331537 -0.1894274; 0.15955573 0.6426928 -0.20362613 0.09073332 -0.5188239 0.15552886 -0.3650842 -0.05610677 -0.29821363 -0.02021487], Float32[0.43319434, -0.5690825, 0.7198146, 0.14999816, 0.0101250075], Float32[0.58964264 0.7139551 -0.74089813 0.60405755 0.36409187; 0.38420004 0.2826156 0.68504006 0.022544924 0.5860986; 0.20825635 0.7451939 -0.29307693 -0.8550812 -0.13561901; 0.7584306 -0.36886746 -0.13226669 0.6444091 -0.5832483; 0.73855793 -0.15108919 -0.032238368 -0.24455014 -0.21689306], Float32[-0.2769789, 1.2820148, -0.066131786, -0.10735478, -0.7400774], Float32[-0.09846368 0.9613561 -0.9097551 0.92522216 0.28751072], Float32[0.11433295]])\n"
     ]
    },
    {
     "name": "stderr",
     "output_type": "stream",
     "text": [
      "┌ Info: Epoch 130\n",
      "└ @ Main /Users/facundosapienza/.julia/packages/Flux/goUGu/src/optimise/train.jl:136\n"
     ]
    },
    {
     "name": "stdout",
     "output_type": "stream",
     "text": [
      "Current loss: 0.3667569616930951\n",
      "Current parameter:Params([Float32[-0.27267006; -0.22552082; -0.26134965; -0.6376976; -0.2379449; -0.6659045; -0.21335651; 0.5765278; -0.14263856; 0.26475555], Float32[0.16115439, -1.2025142, -0.9700215, 0.28719667, 0.08208257, -0.24742924, -0.62998056, 0.7716194, -0.36460152, 0.36386442], Float32[-0.38799793 -0.18624982 -0.663238 -0.371738 -0.2880216 -0.54250264 0.16898468 -0.45885852 -0.6080043 0.52285236; -0.27963182 0.32232362 -0.5404143 -0.3563726 0.27904674 -0.02497331 -0.060661335 -0.5788647 0.6769638 0.16490741; 0.11975778 0.01749243 -0.4422769 -0.08963955 0.026700271 0.499092 -0.084642164 0.39310348 -0.31531164 -0.14127545; 0.07145017 0.29473326 0.33913988 -0.028166683 -0.6040336 -0.37403798 -0.08803481 0.6630592 -0.4635674 -0.1892863; 0.15979825 0.6431435 -0.2032657 0.09103507 -0.5182616 0.15590823 -0.36473677 -0.056522608 -0.2976907 -0.02054339], Float32[0.4336127, -0.56927973, 0.72027457, 0.15024322, 0.009716375], Float32[0.588698 0.71521395 -0.7420655 0.60294795 0.3657229; 0.38493562 0.28153026 0.6860667 0.02338214 0.5847107; 0.20790878 0.7459819 -0.2938263 -0.85549736 -0.13503793; 0.7587501 -0.3695758 -0.13161722 0.6448131 -0.5837553; 0.7394116 -0.15232632 -0.031050298 -0.24356684 -0.21830504], Float32[-0.27790034, 1.2827377, -0.0664757, -0.10704029, -0.7392379], Float32[-0.09947283 0.96218425 -0.9108651 0.9262232 0.28735277], Float32[0.11515103]])\n"
     ]
    },
    {
     "name": "stderr",
     "output_type": "stream",
     "text": [
      "┌ Info: Epoch 131\n",
      "└ @ Main /Users/facundosapienza/.julia/packages/Flux/goUGu/src/optimise/train.jl:136\n"
     ]
    },
    {
     "name": "stdout",
     "output_type": "stream",
     "text": [
      "Current loss: 0.3553208549216608\n",
      "Current parameter:Params([Float32[-0.27256575; -0.22594503; -0.2612312; -0.63759583; -0.23798878; -0.6659178; -0.2131517; 0.57670754; -0.14280066; 0.26464027], Float32[0.16126654, -1.2030255, -0.96985394, 0.2872847, 0.081871256, -0.2477692, -0.6297667, 0.77187645, -0.36484772, 0.36371475], Float32[-0.38779446 -0.18668589 -0.66362363 -0.37174296 -0.28838712 -0.5428915 0.16860908 -0.45844015 -0.6084821 0.5232036; -0.27951482 0.3225354 -0.5402442 -0.35623243 0.27927074 -0.024802174 -0.060497392 -0.5790552 0.67720246 0.16475295; 0.11945769 0.017022796 -0.442677 -0.08997593 0.026265945 0.49870846 -0.085030235 0.39352474 -0.3158034 -0.1409069; 0.07144982 0.2944965 0.33895668 -0.028191425 -0.60411865 -0.3741621 -0.08820567 0.6632364 -0.46381778 -0.18914637; 0.16004105 0.64359516 -0.2029047 0.09133733 -0.51769805 0.15628837 -0.36438885 -0.0569393 -0.2971666 -0.020872395], Float32[0.4340281, -0.5694756, 0.7207315, 0.1504866, 0.009307059], Float32[0.5877541 0.71647024 -0.7432311 0.60184026 0.36735457; 0.38566852 0.28044978 0.6870888 0.02421641 0.5833222; 0.20756263 0.7467663 -0.29457223 -0.8559121 -0.13445383; 0.75906706 -0.3702786 -0.13097288 0.6452141 -0.58426297; 0.7402643 -0.1535599 -0.029865488 -0.24258493 -0.21972093], Float32[-0.27882123, 1.283458, -0.06681815, -0.10672832, -0.7383994], Float32[-0.10049117 0.96301174 -0.9119727 0.927223 0.28720784], Float32[0.115968324]])\n"
     ]
    },
    {
     "name": "stderr",
     "output_type": "stream",
     "text": [
      "┌ Info: Epoch 132\n",
      "└ @ Main /Users/facundosapienza/.julia/packages/Flux/goUGu/src/optimise/train.jl:136\n"
     ]
    },
    {
     "name": "stdout",
     "output_type": "stream",
     "text": [
      "Current loss: 0.3439668963575143\n",
      "Current parameter:Params([Float32[-0.27246323; -0.22636886; -0.26111373; -0.6374956; -0.23803054; -0.665933; -0.21294704; 0.5768858; -0.14296092; 0.26452646], Float32[0.16137703, -1.203538, -0.96968746, 0.28737143, 0.08166248, -0.2481083, -0.62955296, 0.772132, -0.365092, 0.36356658], Float32[-0.3875906 -0.18711902 -0.6640064 -0.3717466 -0.28875273 -0.5432777 0.16823632 -0.45802474 -0.6089568 0.5235522; -0.27939916 0.3227457 -0.54007554 -0.35609373 0.27949274 -0.02463254 -0.060334854 -0.57924414 0.6774394 0.16459985; 0.11916094 0.016556302 -0.44307393 -0.09030884 0.025835609 0.4983283 -0.08541506 0.3939426 -0.3162917 -0.14054157; 0.071449906 0.2942613 0.33877486 -0.028215608 -0.6042029 -0.37428522 -0.08837522 0.6634123 -0.46406648 -0.18900758; 0.16028409 0.64404786 -0.20254317 0.09164008 -0.5171333 0.15666926 -0.36404052 -0.0573568 -0.29664135 -0.021201855], Float32[0.43444052, -0.56967, 0.7211854, 0.15072832, 0.008897091], Float32[0.5868108 0.7177239 -0.74439496 0.6007345 0.3689867; 0.38639873 0.27937415 0.68810636 0.025047725 0.58193326; 0.20721787 0.74754727 -0.2953147 -0.8563254 -0.13386679; 0.75938153 -0.37097588 -0.13033363 0.645612 -0.5847713; 0.74111605 -0.15478992 -0.02868396 -0.24160443 -0.2211405], Float32[-0.2797415, 1.2841755, -0.06715915, -0.10641885, -0.7375618], Float32[-0.10151843 0.9638386 -0.9130779 0.9282215 0.28707603], Float32[0.11678481]])\n"
     ]
    },
    {
     "name": "stderr",
     "output_type": "stream",
     "text": [
      "┌ Info: Epoch 133\n",
      "└ @ Main /Users/facundosapienza/.julia/packages/Flux/goUGu/src/optimise/train.jl:136\n"
     ]
    },
    {
     "name": "stdout",
     "output_type": "stream",
     "text": [
      "Current loss: 0.33269499671458413\n",
      "Current parameter:Params([Float32[-0.27236247; -0.22679232; -0.26099718; -0.6373968; -0.2380702; -0.66595006; -0.21274255; 0.57706267; -0.14311936; 0.26441407], Float32[0.1614859, -1.2040515, -0.96952206, 0.28745684, 0.081456214, -0.24844652, -0.6293394, 0.772386, -0.36533442, 0.36341986], Float32[-0.38738635 -0.18754925 -0.6643864 -0.37174895 -0.2891184 -0.5436611 0.16786636 -0.45761225 -0.6094284 0.52389807; -0.27928478 0.3229546 -0.53990823 -0.35595647 0.27971277 -0.024464382 -0.060173698 -0.5794316 0.67767465 0.1644481; 0.11886749 0.016092915 -0.44346774 -0.09063832 0.02540922 0.49795148 -0.08579667 0.3943571 -0.31677648 -0.14017943; 0.071450405 0.29402766 0.33859438 -0.028239248 -0.6042864 -0.37440732 -0.08854345 0.66358685 -0.46431354 -0.18886991; 0.16052735 0.6445015 -0.20218115 0.091943264 -0.5165674 0.15705085 -0.3636918 -0.05777507 -0.29611504 -0.021531736], Float32[0.43485, -0.5698631, 0.7216363, 0.15096837, 0.008486502], Float32[0.5858684 0.7189749 -0.7455569 0.5996308 0.37061903; 0.38712627 0.27830335 0.68911946 0.025876077 0.58054394; 0.20687452 0.74832475 -0.29605374 -0.85673726 -0.13327685; 0.75969356 -0.3716677 -0.12969945 0.64600694 -0.5852801; 0.7419668 -0.15601638 -0.027505739 -0.24062541 -0.22256353], Float32[-0.28066105, 1.2848904, -0.06749872, -0.10611185, -0.73672533], Float32[-0.102554314 0.96466476 -0.91418064 0.92921877 0.2869574], Float32[0.11760048]])\n"
     ]
    },
    {
     "name": "stderr",
     "output_type": "stream",
     "text": [
      "┌ Info: Epoch 134\n",
      "└ @ Main /Users/facundosapienza/.julia/packages/Flux/goUGu/src/optimise/train.jl:136\n"
     ]
    },
    {
     "name": "stdout",
     "output_type": "stream",
     "text": [
      "Current loss: 0.32150437326483355\n",
      "Current parameter:Params([Float32[-0.27226344; -0.22721536; -0.2608815; -0.6372995; -0.23810783; -0.66596895; -0.21253826; 0.5772381; -0.14327604; 0.26430312], Float32[0.16159317, -1.2045662, -0.9693577, 0.28754097, 0.08125241, -0.24878387, -0.62912595, 0.77263856, -0.36557496, 0.3632746], Float32[-0.38718176 -0.18797658 -0.66476357 -0.37175003 -0.28948405 -0.54404193 0.16749921 -0.45720264 -0.60989684 0.52424127; -0.27917168 0.32316205 -0.5397423 -0.3558206 0.2799309 -0.024297679 -0.06001391 -0.57961756 0.67790824 0.16429769; 0.11857728 0.015632609 -0.44385844 -0.09096441 0.024986735 0.49757797 -0.08617511 0.39476827 -0.31725785 -0.13982043; 0.0714513 0.29379553 0.3384152 -0.02826236 -0.60436904 -0.37452844 -0.0887104 0.6637602 -0.464559 -0.18873335; 0.16077079 0.6449561 -0.20181866 0.092246845 -0.5160005 0.15743311 -0.36334273 -0.058194056 -0.29558772 -0.021862008], Float32[0.4352566, -0.57005477, 0.7220842, 0.15120679, 0.008075326], Float32[0.58492684 0.72022307 -0.7467168 0.59852916 0.3722514; 0.38785112 0.2772374 0.690128 0.026701456 0.5791545; 0.20653255 0.7490987 -0.29678938 -0.8571477 -0.1326841; 0.76000315 -0.37235412 -0.12907028 0.64639884 -0.58578944; 0.74281645 -0.15723923 -0.026330845 -0.23964791 -0.2239898], Float32[-0.28157985, 1.2856026, -0.06783685, -0.105807304, -0.7358899], Float32[-0.10359855 0.9654903 -0.915281 0.9302147 0.2868521], Float32[0.11841532]])\n"
     ]
    },
    {
     "name": "stderr",
     "output_type": "stream",
     "text": [
      "┌ Info: Epoch 135\n",
      "└ @ Main /Users/facundosapienza/.julia/packages/Flux/goUGu/src/optimise/train.jl:136\n"
     ]
    },
    {
     "name": "stdout",
     "output_type": "stream",
     "text": [
      "Current loss: 0.3103950306651762\n",
      "Current parameter:Params([Float32[-0.2721661; -0.22763798; -0.26076674; -0.6372036; -0.23814349; -0.6659897; -0.21233416; 0.57741207; -0.14343096; 0.26419353], Float32[0.16169886, -1.2050819, -0.9691944, 0.28762385, 0.08105104, -0.24912035, -0.6289127, 0.7728896, -0.36581367, 0.36313078], Float32[-0.38697687 -0.18840106 -0.665138 -0.37174988 -0.28984958 -0.54442006 0.16713484 -0.4567959 -0.6103622 0.52458185; -0.27905983 0.3233681 -0.53957766 -0.3556861 0.2801471 -0.024132408 -0.059855465 -0.57980204 0.6781402 0.16414858; 0.11829027 0.015175355 -0.44424608 -0.09128716 0.024568118 0.4972077 -0.08655041 0.39517617 -0.3177358 -0.13946454; 0.07145258 0.29356492 0.33823738 -0.028284956 -0.60445094 -0.3746486 -0.08887606 0.66393226 -0.46480283 -0.1885979; 0.16101436 0.6454116 -0.20145574 0.092550784 -0.5154327 0.15781598 -0.36299333 -0.058613714 -0.29505944 -0.02219263], Float32[0.4356603, -0.57024515, 0.72252923, 0.1514436, 0.0076635974], Float32[0.5839862 0.7214684 -0.7478746 0.5974297 0.37388358; 0.38857326 0.27617624 0.6911321 0.02752385 0.57776505; 0.20619196 0.7498692 -0.29752165 -0.8575567 -0.1320886; 0.7603103 -0.37303516 -0.1284461 0.6467878 -0.5862992; 0.743665 -0.15845847 -0.025159309 -0.23867197 -0.22541904], Float32[-0.2824978, 1.286312, -0.06817356, -0.1055052, -0.73505557], Float32[-0.104650855 0.9663151 -0.916379 0.93120927 0.28676012], Float32[0.11922932]])\n"
     ]
    },
    {
     "name": "stderr",
     "output_type": "stream",
     "text": [
      "┌ Info: Epoch 136\n",
      "└ @ Main /Users/facundosapienza/.julia/packages/Flux/goUGu/src/optimise/train.jl:136\n"
     ]
    },
    {
     "name": "stdout",
     "output_type": "stream",
     "text": [
      "Current loss: 0.2993662862140398\n",
      "Current parameter:Params([Float32[-0.27207044; -0.22806014; -0.26065287; -0.6371091; -0.23817721; -0.6660122; -0.21213028; 0.5775847; -0.14358418; 0.26408532], Float32[0.161803, -1.2055987, -0.96903217, 0.2877055, 0.08085206, -0.24945596, -0.6286996, 0.7731392, -0.36605057, 0.36298835], Float32[-0.38677174 -0.1888227 -0.6655097 -0.37174854 -0.29021496 -0.5447956 0.1667732 -0.45639202 -0.61082447 0.52491987; -0.27894923 0.32357275 -0.53941435 -0.35555297 0.28036144 -0.023968548 -0.059698347 -0.579985 0.6783706 0.16400076; 0.118006416 0.014721128 -0.44463068 -0.09160661 0.024153333 0.49684066 -0.08692259 0.3955808 -0.31821036 -0.13911174; 0.07145424 0.2933358 0.33806083 -0.02830705 -0.60453206 -0.3747678 -0.089040466 0.6641031 -0.4650451 -0.18846354; 0.16125806 0.64586794 -0.20109244 0.09285503 -0.5148641 0.1581994 -0.36264363 -0.059033994 -0.2945303 -0.022523569], Float32[0.43606114, -0.5704342, 0.7229713, 0.1516788, 0.0072513553], Float32[0.5830467 0.7227108 -0.7490303 0.5963325 0.37551534; 0.3892927 0.27511993 0.6921317 0.02834324 0.5763758; 0.20585275 0.75063634 -0.29825053 -0.8579643 -0.13149042; 0.760615 -0.37371087 -0.12782685 0.6471738 -0.5868093; 0.7445124 -0.15967408 -0.023991156 -0.23769765 -0.22685106], Float32[-0.2834148, 1.2870188, -0.06850884, -0.105205506, -0.7342224], Float32[-0.10571096 0.9671392 -0.91747457 0.9322025 0.28668156], Float32[0.12004246]])\n"
     ]
    },
    {
     "name": "stderr",
     "output_type": "stream",
     "text": [
      "┌ Info: Epoch 137\n",
      "└ @ Main /Users/facundosapienza/.julia/packages/Flux/goUGu/src/optimise/train.jl:136\n"
     ]
    },
    {
     "name": "stdout",
     "output_type": "stream",
     "text": [
      "Current loss: 0.2884186788561767\n",
      "Current parameter:Params([Float32[-0.2719764; -0.22848181; -0.26053986; -0.637016; -0.23820905; -0.6660365; -0.21192664; 0.5777559; -0.1437357; 0.26397848], Float32[0.16190562, -1.2061164, -0.96887094, 0.28778595, 0.08065545, -0.24979068, -0.6284867, 0.7733873, -0.36628565, 0.36284733], Float32[-0.38656637 -0.18924153 -0.66587865 -0.37174603 -0.29058012 -0.5451685 0.16641429 -0.45599094 -0.61128366 0.5252553; -0.27883983 0.32377604 -0.53925234 -0.35542116 0.2805739 -0.02380608 -0.05954254 -0.5801666 0.67859936 0.16385423; 0.117725685 0.014269908 -0.44501227 -0.09192279 0.023742344 0.49647683 -0.087291695 0.3959822 -0.31868157 -0.13876198; 0.07145626 0.29310817 0.3378856 -0.028328657 -0.6046124 -0.37488607 -0.08920362 0.66427267 -0.46528578 -0.18833025; 0.16150182 0.64632505 -0.20072877 0.09315954 -0.5142947 0.15858334 -0.3622937 -0.059454843 -0.29400033 -0.022854783], Float32[0.43645915, -0.57062197, 0.7234105, 0.1519124, 0.0068386397], Float32[0.58210826 0.72395015 -0.7501837 0.5952376 0.3771465; 0.3900094 0.27406842 0.6931268 0.029159611 0.5749869; 0.20551491 0.7514 -0.29897603 -0.8583704 -0.13088964; 0.7609173 -0.3743813 -0.12721251 0.6475569 -0.5873197; 0.7453586 -0.16088602 -0.022826422 -0.23672499 -0.22828561], Float32[-0.28433082, 1.2877228, -0.06884271, -0.10490821, -0.73339045], Float32[-0.106778584 0.96796256 -0.9185678 0.9331944 0.28661647], Float32[0.12085472]])\n"
     ]
    },
    {
     "name": "stderr",
     "output_type": "stream",
     "text": [
      "┌ Info: Epoch 138\n",
      "└ @ Main /Users/facundosapienza/.julia/packages/Flux/goUGu/src/optimise/train.jl:136\n"
     ]
    },
    {
     "name": "stdout",
     "output_type": "stream",
     "text": [
      "Current loss: 0.27755142967570096\n",
      "Current parameter:Params([Float32[-0.27188396; -0.22890295; -0.2604277; -0.63692427; -0.23823908; -0.6660625; -0.21172327; 0.5779258; -0.14388557; 0.26387295], Float32[0.16200672, -1.206635, -0.9687107, 0.2878652, 0.08046116, -0.2501245, -0.628274, 0.773634, -0.36651897, 0.3627077], Float32[-0.38636082 -0.18965755 -0.6662449 -0.3717424 -0.290945 -0.54553884 0.16605808 -0.45559266 -0.6117398 0.5255882; -0.2787316 0.32397798 -0.5390916 -0.35529068 0.28078455 -0.023644986 -0.05938803 -0.5803467 0.6788265 0.16370894; 0.11744804 0.013821675 -0.44539085 -0.092235744 0.023335122 0.49611616 -0.08765774 0.3963804 -0.31914943 -0.13841525; 0.07145863 0.29288203 0.33771163 -0.028349789 -0.60469204 -0.3750034 -0.089365534 0.66444105 -0.46552488 -0.18819802; 0.16174562 0.64678293 -0.2003648 0.09346426 -0.5137247 0.15896773 -0.36194357 -0.059876204 -0.2934696 -0.02318623], Float32[0.43685433, -0.5708084, 0.7238468, 0.15214443, 0.0064254934], Float32[0.58117104 0.7251864 -0.7513347 0.5941452 0.37877685; 0.39072338 0.27302173 0.69411737 0.02997294 0.57359844; 0.20517844 0.75216025 -0.2996982 -0.85877514 -0.13028632; 0.76121724 -0.3750465 -0.12660304 0.64793706 -0.5878303; 0.74620354 -0.16209427 -0.02166514 -0.23575406 -0.22972247], Float32[-0.28524572, 1.2884241, -0.06917516, -0.1046133, -0.73255974], Float32[-0.10785346 0.96878517 -0.91965854 0.93418485 0.28656492], Float32[0.12166609]])\n"
     ]
    },
    {
     "name": "stderr",
     "output_type": "stream",
     "text": [
      "┌ Info: Epoch 139\n",
      "└ @ Main /Users/facundosapienza/.julia/packages/Flux/goUGu/src/optimise/train.jl:136\n"
     ]
    },
    {
     "name": "stdout",
     "output_type": "stream",
     "text": [
      "Current loss: 0.26676554976339933\n",
      "Current parameter:Params([Float32[-0.2717931; -0.22932354; -0.26031643; -0.63683385; -0.23826732; -0.6660902; -0.21152018; 0.5780943; -0.1440338; 0.26376873], Float32[0.16210634, -1.2071544, -0.9685515, 0.28794324, 0.080269165, -0.25045747, -0.62806153, 0.7738793, -0.3667505, 0.36256945], Float32[-0.38615513 -0.19007081 -0.6666085 -0.37173766 -0.2913095 -0.5459066 0.16570455 -0.4551972 -0.612193 0.52591854; -0.2786246 0.32417858 -0.53893214 -0.3551615 0.28099337 -0.023485249 -0.0592348 -0.58052546 0.6790521 0.16356489; 0.11717344 0.013376413 -0.44576648 -0.0925455 0.022931637 0.49575862 -0.08802076 0.39677542 -0.31961396 -0.1380715; 0.071461335 0.29265735 0.33753893 -0.028370457 -0.60477096 -0.3751198 -0.08952622 0.6646082 -0.46576244 -0.18806683; 0.1619894 0.6472415 -0.20000057 0.09376914 -0.51315415 0.15935253 -0.36159328 -0.06029802 -0.2929382 -0.023517866], Float32[0.4372467, -0.57099354, 0.7242802, 0.1523749, 0.006011961], Float32[0.5802351 0.72641945 -0.7524833 0.59305525 0.38040614; 0.39143458 0.27197987 0.6951034 0.030783204 0.5722107; 0.20484336 0.75291705 -0.300417 -0.8591784 -0.12968054; 0.76151484 -0.37570643 -0.12599841 0.64831436 -0.5883411; 0.74704725 -0.16329877 -0.020507345 -0.2347849 -0.23116142], Float32[-0.28615943, 1.2891227, -0.0695062, -0.10432075, -0.73173034], Float32[-0.108935304 0.969607 -0.9207469 0.93517387 0.28652698], Float32[0.12247653]])\n"
     ]
    },
    {
     "name": "stderr",
     "output_type": "stream",
     "text": [
      "┌ Info: Epoch 140\n",
      "└ @ Main /Users/facundosapienza/.julia/packages/Flux/goUGu/src/optimise/train.jl:136\n"
     ]
    },
    {
     "name": "stdout",
     "output_type": "stream",
     "text": [
      "Current loss: 0.25606091616577886\n",
      "Current parameter:Params([Float32[-0.27170378; -0.22974353; -0.26020598; -0.63674474; -0.23829384; -0.6661196; -0.21131739; 0.5782615; -0.14418043; 0.26366583], Float32[0.16220449, -1.2076746, -0.9683933, 0.28802013, 0.08007944, -0.25078952, -0.6278493, 0.77412313, -0.3669803, 0.36243254], Float32[-0.3859493 -0.19048129 -0.6669694 -0.37173185 -0.29167363 -0.54627186 0.16535369 -0.45480448 -0.6126431 0.52624637; -0.27851874 0.32437783 -0.53877395 -0.35503358 0.28120038 -0.023326853 -0.05908284 -0.5807028 0.6792761 0.16342208; 0.11690185 0.012934107 -0.44613916 -0.09285209 0.022531863 0.4954042 -0.08838076 0.3971673 -0.32007518 -0.13773073; 0.07146437 0.2924341 0.33736748 -0.028390672 -0.60484916 -0.37523532 -0.08968569 0.6647741 -0.46599847 -0.18793668; 0.16223314 0.64770067 -0.19963612 0.09407413 -0.5125832 0.15973766 -0.3612429 -0.060720228 -0.2924062 -0.023849646], Float32[0.43763632, -0.5711774, 0.7247107, 0.15260379, 0.005598091], Float32[0.57930064 0.72764915 -0.75362927 0.59196794 0.38203415; 0.392143 0.27094284 0.6960849 0.031590372 0.57082385; 0.20450965 0.75367045 -0.30113244 -0.8595803 -0.1290724; 0.76181006 -0.3763612 -0.12539859 0.6486888 -0.58885205; 0.7478896 -0.1644995 -0.019353084 -0.23381758 -0.23260221], Float32[-0.28707182, 1.2898184, -0.06983582, -0.10403055, -0.73090225], Float32[-0.11002385 0.970428 -0.92183286 0.93616146 0.28650266], Float32[0.12328603]])\n"
     ]
    },
    {
     "name": "stderr",
     "output_type": "stream",
     "text": [
      "┌ Info: Epoch 141\n",
      "└ @ Main /Users/facundosapienza/.julia/packages/Flux/goUGu/src/optimise/train.jl:136\n"
     ]
    },
    {
     "name": "stdout",
     "output_type": "stream",
     "text": [
      "Current loss: 0.24543817013086197\n",
      "Current parameter:Params([Float32[-0.27161598; -0.23016286; -0.26009637; -0.63665694; -0.23831868; -0.66615057; -0.21111494; 0.5784274; -0.14432546; 0.2635642], Float32[0.16230118, -1.2081956, -0.9682361, 0.28809586, 0.079891935, -0.2511207, -0.6276373, 0.77436554, -0.3672084, 0.36229697], Float32[-0.38574344 -0.19088903 -0.66732764 -0.371725 -0.29203728 -0.54663455 0.16500548 -0.45441452 -0.6130903 0.5265717; -0.278414 0.32457575 -0.53861696 -0.35490695 0.2814056 -0.023169786 -0.058932133 -0.58087873 0.67949855 0.16328047; 0.116633244 0.012494748 -0.4465089 -0.09315555 0.022135777 0.49505287 -0.08873778 0.397556 -0.3205331 -0.1373929; 0.07146771 0.2922123 0.33719727 -0.028410448 -0.60492665 -0.37534994 -0.08984396 0.66493887 -0.46623296 -0.18780756; 0.1624768 0.6481604 -0.1992715 0.094379164 -0.51201195 0.16012308 -0.36089244 -0.061142765 -0.29187366 -0.02418152], Float32[0.43802315, -0.57136005, 0.7251384, 0.15283115, 0.0051839342], Float32[0.57836765 0.72887546 -0.75477254 0.5908834 0.38366064; 0.39284864 0.26991066 0.69706184 0.032394413 0.569438; 0.20417732 0.7544204 -0.30184454 -0.8599807 -0.12846196; 0.76210296 -0.3770108 -0.12480356 0.64906037 -0.58936304; 0.7487305 -0.16569644 -0.018202404 -0.23285216 -0.23404461], Float32[-0.28798282, 1.2905114, -0.07016402, -0.10374269, -0.7300756], Float32[-0.11111881 0.97124815 -0.92291635 0.93714756 0.28649205], Float32[0.124094546]])\n"
     ]
    },
    {
     "name": "stderr",
     "output_type": "stream",
     "text": [
      "┌ Info: Epoch 142\n",
      "└ @ Main /Users/facundosapienza/.julia/packages/Flux/goUGu/src/optimise/train.jl:136\n"
     ]
    },
    {
     "name": "stdout",
     "output_type": "stream",
     "text": [
      "Current loss: 0.23489795067561312\n",
      "Current parameter:Params([Float32[-0.27152967; -0.2305815; -0.2599876; -0.6365704; -0.2383419; -0.6661832; -0.21091285; 0.57859194; -0.14446895; 0.26346382], Float32[0.16239645, -1.2087171, -0.96807986, 0.28817046, 0.07970663, -0.25145093, -0.6274256, 0.7746065, -0.36743474, 0.36216274], Float32[-0.3855375 -0.19129403 -0.66768324 -0.3717171 -0.29240042 -0.54699475 0.1646599 -0.4540273 -0.61353445 0.52689457; -0.27831042 0.32477236 -0.5384612 -0.35478157 0.28160906 -0.023014033 -0.058782674 -0.5810533 0.67971945 0.16314007; 0.11636759 0.012058329 -0.44687575 -0.093455896 0.021743357 0.4947046 -0.089091815 0.39794162 -0.32098773 -0.13705799; 0.071471356 0.29199195 0.33702832 -0.028429795 -0.6050034 -0.37546366 -0.090001024 0.6651024 -0.46646592 -0.18767945; 0.1627203 0.6486206 -0.19890678 0.09468419 -0.5114405 0.1605087 -0.36054197 -0.061565563 -0.29134068 -0.024513438], Float32[0.43840724, -0.5715414, 0.7255633, 0.15305696, 0.004769545], Float32[0.57743627 0.73009825 -0.75591296 0.5898016 0.3852854; 0.3935514 0.26888338 0.69803417 0.033195287 0.5680533; 0.20384638 0.75516695 -0.30255327 -0.86037964 -0.12784931; 0.76239353 -0.37765527 -0.124213286 0.6494291 -0.589874; 0.7495699 -0.1668895 -0.017055357 -0.23188873 -0.23548838], Float32[-0.28889233, 1.2912015, -0.07049079, -0.10345715, -0.72925043], Float32[-0.11221991 0.9720674 -0.9239974 0.9381321 0.28649515], Float32[0.12490204]])\n"
     ]
    },
    {
     "name": "stderr",
     "output_type": "stream",
     "text": [
      "┌ Info: Epoch 143\n",
      "└ @ Main /Users/facundosapienza/.julia/packages/Flux/goUGu/src/optimise/train.jl:136\n"
     ]
    },
    {
     "name": "stdout",
     "output_type": "stream",
     "text": [
      "Current loss: 0.22444137833856098\n",
      "Current parameter:Params([Float32[-0.27144486; -0.23099941; -0.25987965; -0.6364851; -0.23836355; -0.6662174; -0.21071117; 0.57875526; -0.14461088; 0.2633647], Float32[0.16249031, -1.2092392, -0.96792465, 0.28824395, 0.079523504, -0.25178024, -0.6272142, 0.77484614, -0.3676594, 0.36202982], Float32[-0.38533157 -0.1916963 -0.6680362 -0.3717082 -0.29276296 -0.54735243 0.16431695 -0.45364282 -0.61397564 0.52721494; -0.27820793 0.32496765 -0.5383067 -0.3546574 0.28181076 -0.022859585 -0.058634453 -0.5812265 0.67993885 0.16300087; 0.11610486 0.011624845 -0.4472397 -0.09375315 0.021354588 0.4943594 -0.089442894 0.3983241 -0.3214391 -0.13672599; 0.07147529 0.29177302 0.3368606 -0.028448725 -0.60507953 -0.37557653 -0.0901569 0.66526484 -0.46669737 -0.18755236; 0.1629636 0.6490813 -0.198542 0.09498915 -0.510869 0.16089448 -0.36019155 -0.06198855 -0.29080734 -0.024845347], Float32[0.4387886, -0.57172155, 0.7259853, 0.15328124, 0.0043549812], Float32[0.5765067 0.73131734 -0.75705045 0.5887228 0.3869082; 0.39425132 0.267861 0.6990019 0.033992954 0.56667006; 0.20351683 0.75591004 -0.30325863 -0.8607771 -0.12723456; 0.7626818 -0.37829465 -0.12362775 0.64979494 -0.5903849; 0.7504078 -0.16807865 -0.015912006 -0.23092733 -0.23693329], Float32[-0.2898002, 1.2918887, -0.07081614, -0.10317393, -0.72842675], Float32[-0.11332686 0.9728858 -0.92507595 0.93911505 0.28651202], Float32[0.12570848]])\n"
     ]
    },
    {
     "name": "stderr",
     "output_type": "stream",
     "text": [
      "┌ Info: Epoch 144\n",
      "└ @ Main /Users/facundosapienza/.julia/packages/Flux/goUGu/src/optimise/train.jl:136\n"
     ]
    },
    {
     "name": "stdout",
     "output_type": "stream",
     "text": [
      "Current loss: 0.21407052892736983\n",
      "Current parameter:Params([Float32[-0.27136147; -0.23141652; -0.2597725; -0.63640106; -0.23838367; -0.66625315; -0.2105099; 0.57891726; -0.1447513; 0.26326683], Float32[0.16258277, -1.2097619, -0.9677704, 0.28831634, 0.079342514, -0.25210863, -0.62700313, 0.7750843, -0.36788234, 0.36189824], Float32[-0.3851257 -0.19209585 -0.6683866 -0.37169838 -0.29312485 -0.5477076 0.16397662 -0.45326108 -0.61441386 0.5275329; -0.27810654 0.32516164 -0.5381534 -0.35453448 0.2820107 -0.02270643 -0.05848746 -0.5813984 0.6801567 0.16286285; 0.11584504 0.011194297 -0.44760075 -0.094047345 0.020969454 0.49401724 -0.089791015 0.3987035 -0.32188717 -0.1363969; 0.07147951 0.2915555 0.3366941 -0.028467247 -0.60515493 -0.3756885 -0.090311594 0.6654261 -0.4669273 -0.18742627; 0.16320667 0.64954233 -0.19817722 0.09529397 -0.5102976 0.16128033 -0.35984126 -0.06241165 -0.29027376 -0.025177186], Float32[0.4391672, -0.5719004, 0.7264045, 0.153504, 0.003940305], Float32[0.5755789 0.7325327 -0.75818485 0.5876471 0.38852876; 0.3949483 0.2668436 0.69996494 0.03478736 0.5652884; 0.20318869 0.7566496 -0.3039606 -0.86117303 -0.12661782; 0.76296777 -0.37892893 -0.123046935 0.650158 -0.5908956; 0.75124407 -0.1692638 -0.014772418 -0.22996807 -0.23837908], Float32[-0.29070634, 1.2925731, -0.07114004, -0.102893, -0.72760475], Float32[-0.114439376 0.97370315 -0.92615193 0.9400963 0.28654265], Float32[0.12651381]])\n"
     ]
    },
    {
     "name": "stderr",
     "output_type": "stream",
     "text": [
      "┌ Info: Epoch 145\n",
      "└ @ Main /Users/facundosapienza/.julia/packages/Flux/goUGu/src/optimise/train.jl:136\n"
     ]
    },
    {
     "name": "stdout",
     "output_type": "stream",
     "text": [
      "Current loss: 0.20378636453170046\n",
      "Current parameter:Params([Float32[-0.2712795; -0.23183277; -0.2596662; -0.6363182; -0.2384023; -0.6662904; -0.21030909; 0.579078; -0.14489022; 0.26317018], Float32[0.16267385, -1.2102848, -0.96761715, 0.28838763, 0.07916364, -0.25243607, -0.62679243, 0.77532107, -0.3681036, 0.36176795], Float32[-0.38491988 -0.19249266 -0.6687343 -0.3716876 -0.29348603 -0.5480603 0.1636389 -0.45288205 -0.6148491 0.52784836; -0.27800623 0.32535434 -0.5380013 -0.35441276 0.28220892 -0.022554565 -0.058341693 -0.58156896 0.680373 0.16272601; 0.1155881 0.0107666915 -0.4479589 -0.094338484 0.020587945 0.4936781 -0.09013619 0.39907977 -0.32233194 -0.1360707; 0.07148399 0.2913394 0.3365288 -0.028485373 -0.6052297 -0.3757996 -0.090465106 0.6655861 -0.4671557 -0.18730117; 0.16344944 0.6500036 -0.19781251 0.095598586 -0.50972635 0.16166618 -0.3594911 -0.062834784 -0.28974 -0.025508897], Float32[0.43954307, -0.57207805, 0.7268208, 0.15372522, 0.0035255845], Float32[0.57465315 0.7337441 -0.75931597 0.58657455 0.39014685; 0.3956423 0.26583117 0.70092326 0.035578452 0.5639086; 0.20286196 0.75738573 -0.30465913 -0.8615675 -0.12599917; 0.7632514 -0.37955815 -0.12247083 0.65051824 -0.59140605; 0.75207865 -0.17044489 -0.013636675 -0.22901104 -0.23982549], Float32[-0.2916106, 1.2932545, -0.07146249, -0.10261438, -0.7267844], Float32[-0.11555716 0.9745195 -0.9272253 0.9410759 0.2865871], Float32[0.12731797]])\n"
     ]
    },
    {
     "name": "stderr",
     "output_type": "stream",
     "text": [
      "┌ Info: Epoch 146\n",
      "└ @ Main /Users/facundosapienza/.julia/packages/Flux/goUGu/src/optimise/train.jl:136\n"
     ]
    },
    {
     "name": "stdout",
     "output_type": "stream",
     "text": [
      "Current loss: 0.19359146249455775\n",
      "Current parameter:Params([Float32[-0.27119896; -0.23224811; -0.2595607; -0.63623655; -0.23841952; -0.66632915; -0.21010879; 0.57923746; -0.14502765; 0.26307473], Float32[0.16276357, -1.2108082, -0.96746486, 0.2884578, 0.07898686, -0.25276253, -0.62658215, 0.7755564, -0.36832318, 0.36163896], Float32[-0.3847142 -0.19288675 -0.6690795 -0.3716759 -0.29384643 -0.5484105 0.1633038 -0.45250577 -0.61528134 0.52816135; -0.27790698 0.32554573 -0.53785044 -0.35429227 0.2824054 -0.022403982 -0.058197144 -0.5817382 0.68058777 0.16259035; 0.11533403 0.010342039 -0.44831413 -0.09462659 0.02021006 0.49334198 -0.09047842 0.39945295 -0.32277343 -0.13574737; 0.07148874 0.29112473 0.33636475 -0.02850311 -0.60530376 -0.37590986 -0.09061744 0.665745 -0.4673826 -0.18717706; 0.16369185 0.6504651 -0.19744794 0.09590293 -0.5091554 0.16205195 -0.3591412 -0.063257866 -0.2892062 -0.025840413], Float32[0.4399162, -0.5722544, 0.7272343, 0.15394492, 0.0031108921], Float32[0.5737295 0.7349514 -0.7604437 0.58550537 0.39176217; 0.3963333 0.26482382 0.7018768 0.036366157 0.56253076; 0.20253669 0.7581183 -0.3053542 -0.8619604 -0.12537874; 0.7635328 -0.38018227 -0.12189944 0.6508756 -0.59191614; 0.75291145 -0.17162183 -0.012504868 -0.22805634 -0.24127224], Float32[-0.29251283, 1.2939329, -0.07178346, -0.10233805, -0.72596586], Float32[-0.11667989 0.97533476 -0.92829597 0.94205374 0.28664532], Float32[0.1281209]])\n"
     ]
    },
    {
     "name": "stderr",
     "output_type": "stream",
     "text": [
      "┌ Info: Epoch 147\n",
      "└ @ Main /Users/facundosapienza/.julia/packages/Flux/goUGu/src/optimise/train.jl:136\n"
     ]
    },
    {
     "name": "stdout",
     "output_type": "stream",
     "text": [
      "Current loss: 0.18348907578466983\n",
      "Current parameter:Params([Float32[-0.2711198; -0.23266245; -0.25945604; -0.6361561; -0.23843536; -0.6663693; -0.20990902; 0.57939565; -0.14516361; 0.2629805], Float32[0.16285193, -1.2113316, -0.9673136, 0.28852692, 0.07881215, -0.25308797, -0.6263723, 0.77579033, -0.36854106, 0.3615113], Float32[-0.38450867 -0.19327812 -0.66942203 -0.37166333 -0.29420596 -0.54875815 0.16297132 -0.4521322 -0.6157106 0.5284719; -0.27780882 0.3257358 -0.5377008 -0.35417297 0.28260016 -0.022254677 -0.058053818 -0.581906 0.68080103 0.16245586; 0.11508281 0.009920357 -0.44866648 -0.094911665 0.019835794 0.4930089 -0.0908177 0.399823 -0.32321158 -0.13542694; 0.07149373 0.29091147 0.3362019 -0.02852047 -0.6053772 -0.37601927 -0.090768605 0.6659028 -0.467608 -0.18705395; 0.16393386 0.65092665 -0.19708358 0.09620692 -0.5085849 0.16243753 -0.35879162 -0.0636808 -0.28867248 -0.02617166], Float32[0.44028658, -0.57242954, 0.72764486, 0.15416309, 0.0026963083], Float32[0.5728082 0.73615444 -0.76156783 0.5844397 0.39337444; 0.3970212 0.26382163 0.7028255 0.037150398 0.5611552; 0.20221287 0.75884724 -0.30604577 -0.8623518 -0.124756664; 0.7638119 -0.38080132 -0.12133276 0.6512302 -0.5924258; 0.75374234 -0.17279449 -0.011377107 -0.22710408 -0.24271904], Float32[-0.2934129, 1.2946082, -0.072102934, -0.10206403, -0.7251492], Float32[-0.11780726 0.97614884 -0.9293639 0.94302964 0.28671736], Float32[0.12892252]])\n"
     ]
    },
    {
     "name": "stderr",
     "output_type": "stream",
     "text": [
      "┌ Info: Epoch 148\n",
      "└ @ Main /Users/facundosapienza/.julia/packages/Flux/goUGu/src/optimise/train.jl:136\n"
     ]
    },
    {
     "name": "stdout",
     "output_type": "stream",
     "text": [
      "Current loss: 0.1734825616293863\n",
      "Current parameter:Params([Float32[-0.27104202; -0.23307572; -0.2593522; -0.6360768; -0.23844986; -0.6664109; -0.20970984; 0.57955253; -0.14529811; 0.26288745], Float32[0.16293895, -1.2118552, -0.9671633, 0.288595, 0.07863949, -0.25341237, -0.6261629, 0.7760228, -0.36875728, 0.3613849], Float32[-0.38430336 -0.19366673 -0.66976196 -0.3716499 -0.29456457 -0.5491033 0.16264145 -0.4517614 -0.61613685 0.52878; -0.27771172 0.32592455 -0.5375523 -0.35405487 0.2827932 -0.022106655 -0.05791171 -0.5820725 0.68101275 0.16232254; 0.114834435 0.00950167 -0.44901592 -0.095193714 0.019465158 0.49267885 -0.09115402 0.40018997 -0.3236464 -0.1351094; 0.07149896 0.29069966 0.3360403 -0.02853746 -0.60545 -0.3761278 -0.090918586 0.6660594 -0.46783188 -0.18693182; 0.16417538 0.6513882 -0.19671951 0.09651047 -0.5080151 0.16282284 -0.35844243 -0.06410348 -0.28813893 -0.026502563], Float32[0.4406542, -0.57260334, 0.72805256, 0.15437973, 0.0022819217], Float32[0.5718894 0.737353 -0.7626882 0.5833777 0.39498335; 0.39770594 0.26282468 0.7037692 0.037931077 0.55978215; 0.20189056 0.75957257 -0.3067338 -0.86274153 -0.12413307; 0.76408863 -0.38141528 -0.1207708 0.65158194 -0.59293497; 0.7545712 -0.17396276 -0.010253519 -0.2261544 -0.24416558], Float32[-0.2943106, 1.2952803, -0.07242088, -0.101792306, -0.72433454], Float32[-0.11893892 0.9769616 -0.930429 0.9440035 0.28680316], Float32[0.12972273]])\n"
     ]
    },
    {
     "name": "stderr",
     "output_type": "stream",
     "text": [
      "┌ Info: Epoch 149\n",
      "└ @ Main /Users/facundosapienza/.julia/packages/Flux/goUGu/src/optimise/train.jl:136\n"
     ]
    },
    {
     "name": "stdout",
     "output_type": "stream",
     "text": [
      "Current loss: 0.1635768754454966\n",
      "Current parameter:Params([Float32[-0.27096558; -0.23348781; -0.25924918; -0.6359987; -0.23846307; -0.6664539; -0.20951128; 0.57970816; -0.14543116; 0.2627956], Float32[0.16302465, -1.2123787, -0.9670141, 0.288662, 0.078468874, -0.2537357, -0.625954, 0.7762538, -0.3689718, 0.36125982], Float32[-0.3840983 -0.19405256 -0.6700992 -0.37163562 -0.29492217 -0.5494459 0.16231424 -0.45139337 -0.61656004 0.5290856; -0.2776157 0.32611197 -0.5374051 -0.35393795 0.28298447 -0.021959918 -0.057770826 -0.58223766 0.6812229 0.1621904; 0.1145889 0.009086013 -0.44936243 -0.09547274 0.019098166 0.49235183 -0.091487356 0.40055376 -0.32407784 -0.13479476; 0.07150442 0.2904893 0.3358799 -0.028554088 -0.6055221 -0.37623549 -0.09106738 0.66621476 -0.4680542 -0.18681069; 0.16441634 0.6518496 -0.19635583 0.0968135 -0.5074461 0.16320777 -0.3580937 -0.06452579 -0.2876057 -0.026833033], Float32[0.44101903, -0.5727759, 0.7284573, 0.1545948, 0.0018678312], Float32[0.5709732 0.73854697 -0.7638046 0.5823197 0.39658853; 0.3983874 0.26183307 0.70470786 0.038708087 0.5584119; 0.20156978 0.76029414 -0.30741817 -0.8631296 -0.123508126; 0.76436305 -0.3820241 -0.12021358 0.65193087 -0.59344345; 0.7553979 -0.17512648 -0.0091342535 -0.22520746 -0.24561153], Float32[-0.29520574, 1.2959492, -0.07273726, -0.1015229, -0.723522], Float32[-0.12007451 0.977773 -0.9314911 0.94497526 0.28690273], Float32[0.13052142]])\n"
     ]
    },
    {
     "name": "stderr",
     "output_type": "stream",
     "text": [
      "┌ Info: Epoch 150\n",
      "└ @ Main /Users/facundosapienza/.julia/packages/Flux/goUGu/src/optimise/train.jl:136\n"
     ]
    },
    {
     "name": "stdout",
     "output_type": "stream",
     "text": [
      "Current loss: 0.15377774099469851\n",
      "Current parameter:Params([Float32[-0.27089047; -0.23389864; -0.25914702; -0.6359218; -0.23847505; -0.66649824; -0.20931342; 0.5798625; -0.14556275; 0.2627049], Float32[0.16310902, -1.2129021, -0.9668659, 0.28872794, 0.07830028, -0.25405785, -0.62574565, 0.77648336, -0.36918458, 0.36113605], Float32[-0.38389355 -0.19443558 -0.67043376 -0.37162054 -0.29527867 -0.549786 0.16198969 -0.45102814 -0.6169802 0.52938867; -0.27752072 0.32629803 -0.53725904 -0.35382226 0.28317398 -0.021814473 -0.05763118 -0.58240145 0.6814315 0.16205943; 0.11434621 0.008673433 -0.44970596 -0.09574872 0.018734844 0.49202788 -0.09181769 0.4009144 -0.32450587 -0.13448305; 0.0715101 0.29028037 0.33572075 -0.028570361 -0.6055936 -0.3763423 -0.091214985 0.666369 -0.46827495 -0.18669055; 0.16465668 0.6523108 -0.19599265 0.097115904 -0.5068781 0.1635922 -0.35774556 -0.06494762 -0.287073 -0.027162975], Float32[0.44138107, -0.57294714, 0.728859, 0.1548083, 0.001454149], Float32[0.57005996 0.739736 -0.7649168 0.58126575 0.39818963; 0.39906546 0.26084697 0.7056413 0.039481297 0.5570448; 0.20125058 0.7610119 -0.30809882 -0.863516 -0.122882; 0.76463515 -0.3826278 -0.11966116 0.6522769 -0.59395117; 0.7562223 -0.17628548 -0.008019494 -0.22426344 -0.24705651], Float32[-0.29609814, 1.2966148, -0.073052034, -0.101255834, -0.7227118], Float32[-0.12121363 0.97858286 -0.93255 0.9459447 0.287016], Float32[0.13131845]])\n"
     ]
    },
    {
     "data": {
      "text/plain": [
       "(Chain(Dense(1, 10), Dense(10, 5, #343), Dense(5, 5, #344), Dense(5, 1, relu)), Any[6.632239179438567, 6.459348963306445, 6.289066540141265, 6.12176418989711, 5.9577596540488065, 5.797311469701132, 5.640604853309883, 5.487739414732964, 5.3387217318571, 5.193477410535926  …  0.24543817013086197, 0.23489795067561312, 0.22444137833856098, 0.21407052892736983, 0.20378636453170046, 0.19359146249455775, 0.18348907578466983, 0.1734825616293863, 0.1635768754454966, 0.15377774099469851])"
      ]
     },
     "execution_count": 122,
     "metadata": {},
     "output_type": "execute_result"
    }
   ],
   "source": [
    "UD_trained, losses = train(loss, p)"
   ]
  },
  {
   "cell_type": "code",
   "execution_count": 123,
   "id": "58baf301",
   "metadata": {},
   "outputs": [
    {
     "data": {
      "image/svg+xml": [
       "<?xml version=\"1.0\" encoding=\"utf-8\"?>\n",
       "<svg xmlns=\"http://www.w3.org/2000/svg\" xmlns:xlink=\"http://www.w3.org/1999/xlink\" width=\"600\" height=\"400\" viewBox=\"0 0 2400 1600\">\n",
       "<defs>\n",
       "  <clipPath id=\"clip690\">\n",
       "    <rect x=\"0\" y=\"0\" width=\"2400\" height=\"1600\"/>\n",
       "  </clipPath>\n",
       "</defs>\n",
       "<path clip-path=\"url(#clip690)\" d=\"\n",
       "M0 1600 L2400 1600 L2400 0 L0 0  Z\n",
       "  \" fill=\"#ffffff\" fill-rule=\"evenodd\" fill-opacity=\"1\"/>\n",
       "<defs>\n",
       "  <clipPath id=\"clip691\">\n",
       "    <rect x=\"480\" y=\"0\" width=\"1681\" height=\"1600\"/>\n",
       "  </clipPath>\n",
       "</defs>\n",
       "<path clip-path=\"url(#clip690)\" d=\"\n",
       "M225.983 1486.45 L2352.76 1486.45 L2352.76 123.472 L225.983 123.472  Z\n",
       "  \" fill=\"#ffffff\" fill-rule=\"evenodd\" fill-opacity=\"1\"/>\n",
       "<defs>\n",
       "  <clipPath id=\"clip692\">\n",
       "    <rect x=\"225\" y=\"123\" width=\"2128\" height=\"1364\"/>\n",
       "  </clipPath>\n",
       "</defs>\n",
       "<polyline clip-path=\"url(#clip692)\" style=\"stroke:#000000; stroke-linecap:butt; stroke-linejoin:round; stroke-width:2; stroke-opacity:0.1; fill:none\" points=\"\n",
       "  272.709,1486.45 272.709,123.472 \n",
       "  \"/>\n",
       "<polyline clip-path=\"url(#clip692)\" style=\"stroke:#000000; stroke-linecap:butt; stroke-linejoin:round; stroke-width:2; stroke-opacity:0.1; fill:none\" points=\"\n",
       "  945.994,1486.45 945.994,123.472 \n",
       "  \"/>\n",
       "<polyline clip-path=\"url(#clip692)\" style=\"stroke:#000000; stroke-linecap:butt; stroke-linejoin:round; stroke-width:2; stroke-opacity:0.1; fill:none\" points=\"\n",
       "  1619.28,1486.45 1619.28,123.472 \n",
       "  \"/>\n",
       "<polyline clip-path=\"url(#clip692)\" style=\"stroke:#000000; stroke-linecap:butt; stroke-linejoin:round; stroke-width:2; stroke-opacity:0.1; fill:none\" points=\"\n",
       "  2292.56,1486.45 2292.56,123.472 \n",
       "  \"/>\n",
       "<polyline clip-path=\"url(#clip690)\" style=\"stroke:#000000; stroke-linecap:butt; stroke-linejoin:round; stroke-width:4; stroke-opacity:1; fill:none\" points=\"\n",
       "  225.983,1486.45 2352.76,1486.45 \n",
       "  \"/>\n",
       "<polyline clip-path=\"url(#clip690)\" style=\"stroke:#000000; stroke-linecap:butt; stroke-linejoin:round; stroke-width:4; stroke-opacity:1; fill:none\" points=\"\n",
       "  272.709,1486.45 272.709,1470.09 \n",
       "  \"/>\n",
       "<polyline clip-path=\"url(#clip690)\" style=\"stroke:#000000; stroke-linecap:butt; stroke-linejoin:round; stroke-width:4; stroke-opacity:1; fill:none\" points=\"\n",
       "  945.994,1486.45 945.994,1470.09 \n",
       "  \"/>\n",
       "<polyline clip-path=\"url(#clip690)\" style=\"stroke:#000000; stroke-linecap:butt; stroke-linejoin:round; stroke-width:4; stroke-opacity:1; fill:none\" points=\"\n",
       "  1619.28,1486.45 1619.28,1470.09 \n",
       "  \"/>\n",
       "<polyline clip-path=\"url(#clip690)\" style=\"stroke:#000000; stroke-linecap:butt; stroke-linejoin:round; stroke-width:4; stroke-opacity:1; fill:none\" points=\"\n",
       "  2292.56,1486.45 2292.56,1470.09 \n",
       "  \"/>\n",
       "<path clip-path=\"url(#clip690)\" d=\"M272.709 1515.64 Q269.098 1515.64 267.269 1519.2 Q265.464 1522.75 265.464 1529.87 Q265.464 1536.98 267.269 1540.55 Q269.098 1544.09 272.709 1544.09 Q276.343 1544.09 278.149 1540.55 Q279.977 1536.98 279.977 1529.87 Q279.977 1522.75 278.149 1519.2 Q276.343 1515.64 272.709 1515.64 M272.709 1511.93 Q278.519 1511.93 281.575 1516.54 Q284.653 1521.12 284.653 1529.87 Q284.653 1538.6 281.575 1543.21 Q278.519 1547.79 272.709 1547.79 Q266.899 1547.79 263.82 1543.21 Q260.765 1538.6 260.765 1529.87 Q260.765 1521.12 263.82 1516.54 Q266.899 1511.93 272.709 1511.93 Z\" fill=\"#000000\" fill-rule=\"evenodd\" fill-opacity=\"1\" /><path clip-path=\"url(#clip690)\" d=\"M920.693 1512.56 L939.05 1512.56 L939.05 1516.5 L924.976 1516.5 L924.976 1524.97 Q925.994 1524.62 927.013 1524.46 Q928.031 1524.27 929.05 1524.27 Q934.837 1524.27 938.216 1527.44 Q941.596 1530.62 941.596 1536.03 Q941.596 1541.61 938.124 1544.71 Q934.652 1547.79 928.332 1547.79 Q926.156 1547.79 923.888 1547.42 Q921.642 1547.05 919.235 1546.31 L919.235 1541.61 Q921.318 1542.74 923.54 1543.3 Q925.763 1543.86 928.24 1543.86 Q932.244 1543.86 934.582 1541.75 Q936.92 1539.64 936.92 1536.03 Q936.92 1532.42 934.582 1530.31 Q932.244 1528.21 928.24 1528.21 Q926.365 1528.21 924.49 1528.62 Q922.638 1529.04 920.693 1529.92 L920.693 1512.56 Z\" fill=\"#000000\" fill-rule=\"evenodd\" fill-opacity=\"1\" /><path clip-path=\"url(#clip690)\" d=\"M960.809 1515.64 Q957.198 1515.64 955.369 1519.2 Q953.563 1522.75 953.563 1529.87 Q953.563 1536.98 955.369 1540.55 Q957.198 1544.09 960.809 1544.09 Q964.443 1544.09 966.249 1540.55 Q968.077 1536.98 968.077 1529.87 Q968.077 1522.75 966.249 1519.2 Q964.443 1515.64 960.809 1515.64 M960.809 1511.93 Q966.619 1511.93 969.674 1516.54 Q972.753 1521.12 972.753 1529.87 Q972.753 1538.6 969.674 1543.21 Q966.619 1547.79 960.809 1547.79 Q954.999 1547.79 951.92 1543.21 Q948.864 1538.6 948.864 1529.87 Q948.864 1521.12 951.92 1516.54 Q954.999 1511.93 960.809 1511.93 Z\" fill=\"#000000\" fill-rule=\"evenodd\" fill-opacity=\"1\" /><path clip-path=\"url(#clip690)\" d=\"M1578.89 1543.18 L1586.52 1543.18 L1586.52 1516.82 L1578.21 1518.49 L1578.21 1514.23 L1586.48 1512.56 L1591.15 1512.56 L1591.15 1543.18 L1598.79 1543.18 L1598.79 1547.12 L1578.89 1547.12 L1578.89 1543.18 Z\" fill=\"#000000\" fill-rule=\"evenodd\" fill-opacity=\"1\" /><path clip-path=\"url(#clip690)\" d=\"M1618.24 1515.64 Q1614.63 1515.64 1612.8 1519.2 Q1610.99 1522.75 1610.99 1529.87 Q1610.99 1536.98 1612.8 1540.55 Q1614.63 1544.09 1618.24 1544.09 Q1621.87 1544.09 1623.68 1540.55 Q1625.51 1536.98 1625.51 1529.87 Q1625.51 1522.75 1623.68 1519.2 Q1621.87 1515.64 1618.24 1515.64 M1618.24 1511.93 Q1624.05 1511.93 1627.1 1516.54 Q1630.18 1521.12 1630.18 1529.87 Q1630.18 1538.6 1627.1 1543.21 Q1624.05 1547.79 1618.24 1547.79 Q1612.43 1547.79 1609.35 1543.21 Q1606.29 1538.6 1606.29 1529.87 Q1606.29 1521.12 1609.35 1516.54 Q1612.43 1511.93 1618.24 1511.93 Z\" fill=\"#000000\" fill-rule=\"evenodd\" fill-opacity=\"1\" /><path clip-path=\"url(#clip690)\" d=\"M1648.4 1515.64 Q1644.79 1515.64 1642.96 1519.2 Q1641.15 1522.75 1641.15 1529.87 Q1641.15 1536.98 1642.96 1540.55 Q1644.79 1544.09 1648.4 1544.09 Q1652.03 1544.09 1653.84 1540.55 Q1655.67 1536.98 1655.67 1529.87 Q1655.67 1522.75 1653.84 1519.2 Q1652.03 1515.64 1648.4 1515.64 M1648.4 1511.93 Q1654.21 1511.93 1657.27 1516.54 Q1660.34 1521.12 1660.34 1529.87 Q1660.34 1538.6 1657.27 1543.21 Q1654.21 1547.79 1648.4 1547.79 Q1642.59 1547.79 1639.51 1543.21 Q1636.45 1538.6 1636.45 1529.87 Q1636.45 1521.12 1639.51 1516.54 Q1642.59 1511.93 1648.4 1511.93 Z\" fill=\"#000000\" fill-rule=\"evenodd\" fill-opacity=\"1\" /><path clip-path=\"url(#clip690)\" d=\"M2252.17 1543.18 L2259.81 1543.18 L2259.81 1516.82 L2251.5 1518.49 L2251.5 1514.23 L2259.76 1512.56 L2264.44 1512.56 L2264.44 1543.18 L2272.08 1543.18 L2272.08 1547.12 L2252.17 1547.12 L2252.17 1543.18 Z\" fill=\"#000000\" fill-rule=\"evenodd\" fill-opacity=\"1\" /><path clip-path=\"url(#clip690)\" d=\"M2281.57 1512.56 L2299.93 1512.56 L2299.93 1516.5 L2285.85 1516.5 L2285.85 1524.97 Q2286.87 1524.62 2287.89 1524.46 Q2288.91 1524.27 2289.93 1524.27 Q2295.71 1524.27 2299.09 1527.44 Q2302.47 1530.62 2302.47 1536.03 Q2302.47 1541.61 2299 1544.71 Q2295.53 1547.79 2289.21 1547.79 Q2287.03 1547.79 2284.76 1547.42 Q2282.52 1547.05 2280.11 1546.31 L2280.11 1541.61 Q2282.19 1542.74 2284.42 1543.3 Q2286.64 1543.86 2289.12 1543.86 Q2293.12 1543.86 2295.46 1541.75 Q2297.8 1539.64 2297.8 1536.03 Q2297.8 1532.42 2295.46 1530.31 Q2293.12 1528.21 2289.12 1528.21 Q2287.24 1528.21 2285.37 1528.62 Q2283.51 1529.04 2281.57 1529.92 L2281.57 1512.56 Z\" fill=\"#000000\" fill-rule=\"evenodd\" fill-opacity=\"1\" /><path clip-path=\"url(#clip690)\" d=\"M2321.68 1515.64 Q2318.07 1515.64 2316.24 1519.2 Q2314.44 1522.75 2314.44 1529.87 Q2314.44 1536.98 2316.24 1540.55 Q2318.07 1544.09 2321.68 1544.09 Q2325.32 1544.09 2327.12 1540.55 Q2328.95 1536.98 2328.95 1529.87 Q2328.95 1522.75 2327.12 1519.2 Q2325.32 1515.64 2321.68 1515.64 M2321.68 1511.93 Q2327.49 1511.93 2330.55 1516.54 Q2333.63 1521.12 2333.63 1529.87 Q2333.63 1538.6 2330.55 1543.21 Q2327.49 1547.79 2321.68 1547.79 Q2315.87 1547.79 2312.8 1543.21 Q2309.74 1538.6 2309.74 1529.87 Q2309.74 1521.12 2312.8 1516.54 Q2315.87 1511.93 2321.68 1511.93 Z\" fill=\"#000000\" fill-rule=\"evenodd\" fill-opacity=\"1\" /><polyline clip-path=\"url(#clip692)\" style=\"stroke:#000000; stroke-linecap:butt; stroke-linejoin:round; stroke-width:2; stroke-opacity:0.1; fill:none\" points=\"\n",
       "  225.983,1280.25 2352.76,1280.25 \n",
       "  \"/>\n",
       "<polyline clip-path=\"url(#clip692)\" style=\"stroke:#000000; stroke-linecap:butt; stroke-linejoin:round; stroke-width:2; stroke-opacity:0.1; fill:none\" points=\"\n",
       "  225.983,1044.29 2352.76,1044.29 \n",
       "  \"/>\n",
       "<polyline clip-path=\"url(#clip692)\" style=\"stroke:#000000; stroke-linecap:butt; stroke-linejoin:round; stroke-width:2; stroke-opacity:0.1; fill:none\" points=\"\n",
       "  225.983,808.324 2352.76,808.324 \n",
       "  \"/>\n",
       "<polyline clip-path=\"url(#clip692)\" style=\"stroke:#000000; stroke-linecap:butt; stroke-linejoin:round; stroke-width:2; stroke-opacity:0.1; fill:none\" points=\"\n",
       "  225.983,572.359 2352.76,572.359 \n",
       "  \"/>\n",
       "<polyline clip-path=\"url(#clip692)\" style=\"stroke:#000000; stroke-linecap:butt; stroke-linejoin:round; stroke-width:2; stroke-opacity:0.1; fill:none\" points=\"\n",
       "  225.983,336.394 2352.76,336.394 \n",
       "  \"/>\n",
       "<polyline clip-path=\"url(#clip690)\" style=\"stroke:#000000; stroke-linecap:butt; stroke-linejoin:round; stroke-width:4; stroke-opacity:1; fill:none\" points=\"\n",
       "  225.983,1486.45 225.983,123.472 \n",
       "  \"/>\n",
       "<polyline clip-path=\"url(#clip690)\" style=\"stroke:#000000; stroke-linecap:butt; stroke-linejoin:round; stroke-width:4; stroke-opacity:1; fill:none\" points=\"\n",
       "  225.983,1280.25 251.504,1280.25 \n",
       "  \"/>\n",
       "<polyline clip-path=\"url(#clip690)\" style=\"stroke:#000000; stroke-linecap:butt; stroke-linejoin:round; stroke-width:4; stroke-opacity:1; fill:none\" points=\"\n",
       "  225.983,1044.29 251.504,1044.29 \n",
       "  \"/>\n",
       "<polyline clip-path=\"url(#clip690)\" style=\"stroke:#000000; stroke-linecap:butt; stroke-linejoin:round; stroke-width:4; stroke-opacity:1; fill:none\" points=\"\n",
       "  225.983,808.324 251.504,808.324 \n",
       "  \"/>\n",
       "<polyline clip-path=\"url(#clip690)\" style=\"stroke:#000000; stroke-linecap:butt; stroke-linejoin:round; stroke-width:4; stroke-opacity:1; fill:none\" points=\"\n",
       "  225.983,572.359 251.504,572.359 \n",
       "  \"/>\n",
       "<polyline clip-path=\"url(#clip690)\" style=\"stroke:#000000; stroke-linecap:butt; stroke-linejoin:round; stroke-width:4; stroke-opacity:1; fill:none\" points=\"\n",
       "  225.983,336.394 251.504,336.394 \n",
       "  \"/>\n",
       "<path clip-path=\"url(#clip690)\" d=\"M51.6634 1300.05 L59.3023 1300.05 L59.3023 1273.68 L50.9921 1275.35 L50.9921 1271.09 L59.256 1269.42 L63.9319 1269.42 L63.9319 1300.05 L71.5707 1300.05 L71.5707 1303.98 L51.6634 1303.98 L51.6634 1300.05 Z\" fill=\"#000000\" fill-rule=\"evenodd\" fill-opacity=\"1\" /><path clip-path=\"url(#clip690)\" d=\"M91.0151 1272.5 Q87.404 1272.5 85.5753 1276.07 Q83.7697 1279.61 83.7697 1286.74 Q83.7697 1293.84 85.5753 1297.41 Q87.404 1300.95 91.0151 1300.95 Q94.6493 1300.95 96.4548 1297.41 Q98.2835 1293.84 98.2835 1286.74 Q98.2835 1279.61 96.4548 1276.07 Q94.6493 1272.5 91.0151 1272.5 M91.0151 1268.8 Q96.8252 1268.8 99.8808 1273.4 Q102.959 1277.99 102.959 1286.74 Q102.959 1295.46 99.8808 1300.07 Q96.8252 1304.65 91.0151 1304.65 Q85.2049 1304.65 82.1262 1300.07 Q79.0707 1295.46 79.0707 1286.74 Q79.0707 1277.99 82.1262 1273.4 Q85.2049 1268.8 91.0151 1268.8 Z\" fill=\"#000000\" fill-rule=\"evenodd\" fill-opacity=\"1\" /><path clip-path=\"url(#clip690)\" d=\"M102.959 1262.9 L127.071 1262.9 L127.071 1266.1 L102.959 1266.1 L102.959 1262.9 Z\" fill=\"#000000\" fill-rule=\"evenodd\" fill-opacity=\"1\" /><path clip-path=\"url(#clip690)\" d=\"M143.396 1250.99 Q140.462 1250.99 138.976 1253.89 Q137.509 1256.77 137.509 1262.56 Q137.509 1268.33 138.976 1271.23 Q140.462 1274.11 143.396 1274.11 Q146.349 1274.11 147.816 1271.23 Q149.302 1268.33 149.302 1262.56 Q149.302 1256.77 147.816 1253.89 Q146.349 1250.99 143.396 1250.99 M143.396 1247.98 Q148.117 1247.98 150.6 1251.73 Q153.101 1255.45 153.101 1262.56 Q153.101 1269.65 150.6 1273.39 Q148.117 1277.12 143.396 1277.12 Q138.675 1277.12 136.174 1273.39 Q133.691 1269.65 133.691 1262.56 Q133.691 1255.45 136.174 1251.73 Q138.675 1247.98 143.396 1247.98 Z\" fill=\"#000000\" fill-rule=\"evenodd\" fill-opacity=\"1\" /><path clip-path=\"url(#clip690)\" d=\"M159.778 1271.79 L163.746 1271.79 L163.746 1276.57 L159.778 1276.57 L159.778 1271.79 Z\" fill=\"#000000\" fill-rule=\"evenodd\" fill-opacity=\"1\" /><path clip-path=\"url(#clip690)\" d=\"M180.617 1261.02 Q178.059 1261.02 176.554 1262.77 Q175.068 1264.52 175.068 1267.56 Q175.068 1270.59 176.554 1272.36 Q178.059 1274.11 180.617 1274.11 Q183.175 1274.11 184.66 1272.36 Q186.165 1270.59 186.165 1267.56 Q186.165 1264.52 184.66 1262.77 Q183.175 1261.02 180.617 1261.02 M188.159 1249.11 L188.159 1252.57 Q186.729 1251.9 185.262 1251.54 Q183.814 1251.18 182.385 1251.18 Q178.623 1251.18 176.629 1253.72 Q174.655 1256.26 174.373 1261.39 Q175.482 1259.76 177.156 1258.89 Q178.83 1258.01 180.842 1258.01 Q185.074 1258.01 187.519 1260.58 Q189.983 1263.14 189.983 1267.56 Q189.983 1271.89 187.425 1274.5 Q184.867 1277.12 180.617 1277.12 Q175.746 1277.12 173.169 1273.39 Q170.592 1269.65 170.592 1262.56 Q170.592 1255.9 173.752 1251.95 Q176.912 1247.98 182.234 1247.98 Q183.664 1247.98 185.112 1248.27 Q186.579 1248.55 188.159 1249.11 Z\" fill=\"#000000\" fill-rule=\"evenodd\" fill-opacity=\"1\" /><path clip-path=\"url(#clip690)\" d=\"M52.3217 1064.08 L59.9605 1064.08 L59.9605 1037.72 L51.6504 1039.38 L51.6504 1035.12 L59.9142 1033.46 L64.5901 1033.46 L64.5901 1064.08 L72.229 1064.08 L72.229 1068.02 L52.3217 1068.02 L52.3217 1064.08 Z\" fill=\"#000000\" fill-rule=\"evenodd\" fill-opacity=\"1\" /><path clip-path=\"url(#clip690)\" d=\"M91.6733 1036.54 Q88.0622 1036.54 86.2335 1040.1 Q84.428 1043.64 84.428 1050.77 Q84.428 1057.88 86.2335 1061.44 Q88.0622 1064.98 91.6733 1064.98 Q95.3076 1064.98 97.1131 1061.44 Q98.9418 1057.88 98.9418 1050.77 Q98.9418 1043.64 97.1131 1040.1 Q95.3076 1036.54 91.6733 1036.54 M91.6733 1032.83 Q97.4835 1032.83 100.539 1037.44 Q103.618 1042.02 103.618 1050.77 Q103.618 1059.5 100.539 1064.1 Q97.4835 1068.69 91.6733 1068.69 Q85.8632 1068.69 82.7845 1064.1 Q79.729 1059.5 79.729 1050.77 Q79.729 1042.02 82.7845 1037.44 Q85.8632 1032.83 91.6733 1032.83 Z\" fill=\"#000000\" fill-rule=\"evenodd\" fill-opacity=\"1\" /><path clip-path=\"url(#clip690)\" d=\"M103.618 1026.93 L127.729 1026.93 L127.729 1030.13 L103.618 1030.13 L103.618 1026.93 Z\" fill=\"#000000\" fill-rule=\"evenodd\" fill-opacity=\"1\" /><path clip-path=\"url(#clip690)\" d=\"M144.054 1015.03 Q141.12 1015.03 139.635 1017.92 Q138.168 1020.8 138.168 1026.59 Q138.168 1032.37 139.635 1035.26 Q141.12 1038.14 144.054 1038.14 Q147.007 1038.14 148.474 1035.26 Q149.96 1032.37 149.96 1026.59 Q149.96 1020.8 148.474 1017.92 Q147.007 1015.03 144.054 1015.03 M144.054 1012.02 Q148.775 1012.02 151.258 1015.76 Q153.759 1019.49 153.759 1026.59 Q153.759 1033.68 151.258 1037.43 Q148.775 1041.15 144.054 1041.15 Q139.334 1041.15 136.832 1037.43 Q134.35 1033.68 134.35 1026.59 Q134.35 1019.49 136.832 1015.76 Q139.334 1012.02 144.054 1012.02 Z\" fill=\"#000000\" fill-rule=\"evenodd\" fill-opacity=\"1\" /><path clip-path=\"url(#clip690)\" d=\"M160.436 1035.83 L164.404 1035.83 L164.404 1040.61 L160.436 1040.61 L160.436 1035.83 Z\" fill=\"#000000\" fill-rule=\"evenodd\" fill-opacity=\"1\" /><path clip-path=\"url(#clip690)\" d=\"M184.19 1025.47 Q186.917 1026.05 188.441 1027.89 Q189.983 1029.74 189.983 1032.44 Q189.983 1036.6 187.124 1038.88 Q184.265 1041.15 178.999 1041.15 Q177.231 1041.15 175.351 1040.79 Q173.489 1040.46 171.495 1039.76 L171.495 1036.09 Q173.075 1037.01 174.956 1037.48 Q176.836 1037.95 178.886 1037.95 Q182.46 1037.95 184.322 1036.54 Q186.203 1035.13 186.203 1032.44 Q186.203 1029.96 184.454 1028.57 Q182.723 1027.16 179.62 1027.16 L176.347 1027.16 L176.347 1024.04 L179.77 1024.04 Q182.573 1024.04 184.059 1022.93 Q185.544 1021.8 185.544 1019.69 Q185.544 1017.53 184.002 1016.38 Q182.479 1015.22 179.62 1015.22 Q178.059 1015.22 176.272 1015.55 Q174.485 1015.89 172.341 1016.61 L172.341 1013.22 Q174.504 1012.62 176.385 1012.32 Q178.285 1012.02 179.958 1012.02 Q184.284 1012.02 186.804 1013.99 Q189.325 1015.95 189.325 1019.3 Q189.325 1021.63 187.989 1023.25 Q186.654 1024.85 184.19 1025.47 Z\" fill=\"#000000\" fill-rule=\"evenodd\" fill-opacity=\"1\" /><path clip-path=\"url(#clip690)\" d=\"M82.527 828.116 L90.1658 828.116 L90.1658 801.751 L81.8557 803.417 L81.8557 799.158 L90.1195 797.492 L94.7954 797.492 L94.7954 828.116 L102.434 828.116 L102.434 832.052 L82.527 832.052 L82.527 828.116 Z\" fill=\"#000000\" fill-rule=\"evenodd\" fill-opacity=\"1\" /><path clip-path=\"url(#clip690)\" d=\"M121.879 800.57 Q118.268 800.57 116.439 804.135 Q114.633 807.677 114.633 814.806 Q114.633 821.913 116.439 825.478 Q118.268 829.019 121.879 829.019 Q125.513 829.019 127.318 825.478 Q129.147 821.913 129.147 814.806 Q129.147 807.677 127.318 804.135 Q125.513 800.57 121.879 800.57 M121.879 796.867 Q127.689 796.867 130.744 801.473 Q133.823 806.056 133.823 814.806 Q133.823 823.533 130.744 828.14 Q127.689 832.723 121.879 832.723 Q116.068 832.723 112.99 828.14 Q109.934 823.533 109.934 814.806 Q109.934 806.056 112.99 801.473 Q116.068 796.867 121.879 796.867 Z\" fill=\"#000000\" fill-rule=\"evenodd\" fill-opacity=\"1\" /><path clip-path=\"url(#clip690)\" d=\"M143.528 779.063 Q140.594 779.063 139.108 781.959 Q137.641 784.837 137.641 790.629 Q137.641 796.403 139.108 799.3 Q140.594 802.177 143.528 802.177 Q146.481 802.177 147.948 799.3 Q149.433 796.403 149.433 790.629 Q149.433 784.837 147.948 781.959 Q146.481 779.063 143.528 779.063 M143.528 776.053 Q148.249 776.053 150.731 779.796 Q153.233 783.52 153.233 790.629 Q153.233 797.72 150.731 801.463 Q148.249 805.187 143.528 805.187 Q138.807 805.187 136.306 801.463 Q133.823 797.72 133.823 790.629 Q133.823 783.52 136.306 779.796 Q138.807 776.053 143.528 776.053 Z\" fill=\"#000000\" fill-rule=\"evenodd\" fill-opacity=\"1\" /><path clip-path=\"url(#clip690)\" d=\"M159.909 799.864 L163.878 799.864 L163.878 804.641 L159.909 804.641 L159.909 799.864 Z\" fill=\"#000000\" fill-rule=\"evenodd\" fill-opacity=\"1\" /><path clip-path=\"url(#clip690)\" d=\"M180.278 779.063 Q177.344 779.063 175.858 781.959 Q174.391 784.837 174.391 790.629 Q174.391 796.403 175.858 799.3 Q177.344 802.177 180.278 802.177 Q183.231 802.177 184.698 799.3 Q186.184 796.403 186.184 790.629 Q186.184 784.837 184.698 781.959 Q183.231 779.063 180.278 779.063 M180.278 776.053 Q184.999 776.053 187.482 779.796 Q189.983 783.52 189.983 790.629 Q189.983 797.72 187.482 801.463 Q184.999 805.187 180.278 805.187 Q175.557 805.187 173.056 801.463 Q170.573 797.72 170.573 790.629 Q170.573 783.52 173.056 779.796 Q175.557 776.053 180.278 776.053 Z\" fill=\"#000000\" fill-rule=\"evenodd\" fill-opacity=\"1\" /><path clip-path=\"url(#clip690)\" d=\"M83.0536 592.151 L90.6924 592.151 L90.6924 565.786 L82.3823 567.452 L82.3823 563.193 L90.6461 561.526 L95.322 561.526 L95.322 592.151 L102.961 592.151 L102.961 596.086 L83.0536 596.086 L83.0536 592.151 Z\" fill=\"#000000\" fill-rule=\"evenodd\" fill-opacity=\"1\" /><path clip-path=\"url(#clip690)\" d=\"M122.405 564.605 Q118.794 564.605 116.965 568.17 Q115.16 571.712 115.16 578.841 Q115.16 585.948 116.965 589.512 Q118.794 593.054 122.405 593.054 Q126.039 593.054 127.845 589.512 Q129.674 585.948 129.674 578.841 Q129.674 571.712 127.845 568.17 Q126.039 564.605 122.405 564.605 M122.405 560.901 Q128.215 560.901 131.271 565.508 Q134.35 570.091 134.35 578.841 Q134.35 587.568 131.271 592.174 Q128.215 596.758 122.405 596.758 Q116.595 596.758 113.516 592.174 Q110.461 587.568 110.461 578.841 Q110.461 570.091 113.516 565.508 Q116.595 560.901 122.405 560.901 Z\" fill=\"#000000\" fill-rule=\"evenodd\" fill-opacity=\"1\" /><path clip-path=\"url(#clip690)\" d=\"M144.054 543.097 Q141.12 543.097 139.635 545.994 Q138.168 548.871 138.168 554.664 Q138.168 560.438 139.635 563.335 Q141.12 566.212 144.054 566.212 Q147.007 566.212 148.474 563.335 Q149.96 560.438 149.96 554.664 Q149.96 548.871 148.474 545.994 Q147.007 543.097 144.054 543.097 M144.054 540.088 Q148.775 540.088 151.258 543.831 Q153.759 547.555 153.759 554.664 Q153.759 561.755 151.258 565.498 Q148.775 569.221 144.054 569.221 Q139.334 569.221 136.832 565.498 Q134.35 561.755 134.35 554.664 Q134.35 547.555 136.832 543.831 Q139.334 540.088 144.054 540.088 Z\" fill=\"#000000\" fill-rule=\"evenodd\" fill-opacity=\"1\" /><path clip-path=\"url(#clip690)\" d=\"M160.436 563.899 L164.404 563.899 L164.404 568.676 L160.436 568.676 L160.436 563.899 Z\" fill=\"#000000\" fill-rule=\"evenodd\" fill-opacity=\"1\" /><path clip-path=\"url(#clip690)\" d=\"M184.19 553.536 Q186.917 554.119 188.441 555.962 Q189.983 557.805 189.983 560.513 Q189.983 564.67 187.124 566.946 Q184.265 569.221 178.999 569.221 Q177.231 569.221 175.351 568.864 Q173.489 568.526 171.495 567.83 L171.495 564.162 Q173.075 565.084 174.956 565.554 Q176.836 566.024 178.886 566.024 Q182.46 566.024 184.322 564.614 Q186.203 563.203 186.203 560.513 Q186.203 558.031 184.454 556.639 Q182.723 555.229 179.62 555.229 L176.347 555.229 L176.347 552.106 L179.77 552.106 Q182.573 552.106 184.059 550.997 Q185.544 549.868 185.544 547.762 Q185.544 545.599 184.002 544.452 Q182.479 543.286 179.62 543.286 Q178.059 543.286 176.272 543.624 Q174.485 543.963 172.341 544.677 L172.341 541.292 Q174.504 540.69 176.385 540.389 Q178.285 540.088 179.958 540.088 Q184.284 540.088 186.804 542.063 Q189.325 544.019 189.325 547.367 Q189.325 549.699 187.989 551.316 Q186.654 552.915 184.19 553.536 Z\" fill=\"#000000\" fill-rule=\"evenodd\" fill-opacity=\"1\" /><path clip-path=\"url(#clip690)\" d=\"M82.3953 356.186 L90.0342 356.186 L90.0342 329.821 L81.724 331.487 L81.724 327.228 L89.9879 325.561 L94.6638 325.561 L94.6638 356.186 L102.303 356.186 L102.303 360.121 L82.3953 360.121 L82.3953 356.186 Z\" fill=\"#000000\" fill-rule=\"evenodd\" fill-opacity=\"1\" /><path clip-path=\"url(#clip690)\" d=\"M121.747 328.64 Q118.136 328.64 116.307 332.205 Q114.502 335.747 114.502 342.876 Q114.502 349.983 116.307 353.547 Q118.136 357.089 121.747 357.089 Q125.381 357.089 127.187 353.547 Q129.015 349.983 129.015 342.876 Q129.015 335.747 127.187 332.205 Q125.381 328.64 121.747 328.64 M121.747 324.936 Q127.557 324.936 130.613 329.543 Q133.691 334.126 133.691 342.876 Q133.691 351.603 130.613 356.209 Q127.557 360.793 121.747 360.793 Q115.937 360.793 112.858 356.209 Q109.803 351.603 109.803 342.876 Q109.803 334.126 112.858 329.543 Q115.937 324.936 121.747 324.936 Z\" fill=\"#000000\" fill-rule=\"evenodd\" fill-opacity=\"1\" /><path clip-path=\"url(#clip690)\" d=\"M143.396 307.132 Q140.462 307.132 138.976 310.029 Q137.509 312.906 137.509 318.699 Q137.509 324.473 138.976 327.37 Q140.462 330.247 143.396 330.247 Q146.349 330.247 147.816 327.37 Q149.302 324.473 149.302 318.699 Q149.302 312.906 147.816 310.029 Q146.349 307.132 143.396 307.132 M143.396 304.123 Q148.117 304.123 150.6 307.866 Q153.101 311.59 153.101 318.699 Q153.101 325.79 150.6 329.532 Q148.117 333.256 143.396 333.256 Q138.675 333.256 136.174 329.532 Q133.691 325.79 133.691 318.699 Q133.691 311.59 136.174 307.866 Q138.675 304.123 143.396 304.123 Z\" fill=\"#000000\" fill-rule=\"evenodd\" fill-opacity=\"1\" /><path clip-path=\"url(#clip690)\" d=\"M159.778 327.934 L163.746 327.934 L163.746 332.711 L159.778 332.711 L159.778 327.934 Z\" fill=\"#000000\" fill-rule=\"evenodd\" fill-opacity=\"1\" /><path clip-path=\"url(#clip690)\" d=\"M180.617 317.157 Q178.059 317.157 176.554 318.906 Q175.068 320.655 175.068 323.702 Q175.068 326.73 176.554 328.498 Q178.059 330.247 180.617 330.247 Q183.175 330.247 184.66 328.498 Q186.165 326.73 186.165 323.702 Q186.165 320.655 184.66 318.906 Q183.175 317.157 180.617 317.157 M188.159 305.252 L188.159 308.712 Q186.729 308.035 185.262 307.678 Q183.814 307.32 182.385 307.32 Q178.623 307.32 176.629 309.86 Q174.655 312.399 174.373 317.533 Q175.482 315.897 177.156 315.032 Q178.83 314.148 180.842 314.148 Q185.074 314.148 187.519 316.724 Q189.983 319.282 189.983 323.702 Q189.983 328.028 187.425 330.642 Q184.867 333.256 180.617 333.256 Q175.746 333.256 173.169 329.532 Q170.592 325.79 170.592 318.699 Q170.592 312.041 173.752 308.092 Q176.912 304.123 182.234 304.123 Q183.664 304.123 185.112 304.405 Q186.579 304.687 188.159 305.252 Z\" fill=\"#000000\" fill-rule=\"evenodd\" fill-opacity=\"1\" /><path clip-path=\"url(#clip690)\" d=\"M1157.35 12.096 L1165.53 12.096 L1165.53 65.6895 L1194.98 65.6895 L1194.98 72.576 L1157.35 72.576 L1157.35 12.096 Z\" fill=\"#000000\" fill-rule=\"evenodd\" fill-opacity=\"1\" /><path clip-path=\"url(#clip690)\" d=\"M1219.37 32.4315 Q1213.37 32.4315 1209.89 37.1306 Q1206.41 41.7891 1206.41 49.9314 Q1206.41 58.0738 1209.85 62.7728 Q1213.33 67.4314 1219.37 67.4314 Q1225.32 67.4314 1228.81 62.7323 Q1232.29 58.0333 1232.29 49.9314 Q1232.29 41.8701 1228.81 37.1711 Q1225.32 32.4315 1219.37 32.4315 M1219.37 26.1121 Q1229.09 26.1121 1234.64 32.4315 Q1240.19 38.7509 1240.19 49.9314 Q1240.19 61.0714 1234.64 67.4314 Q1229.09 73.7508 1219.37 73.7508 Q1209.61 73.7508 1204.06 67.4314 Q1198.55 61.0714 1198.55 49.9314 Q1198.55 38.7509 1204.06 32.4315 Q1209.61 26.1121 1219.37 26.1121 Z\" fill=\"#000000\" fill-rule=\"evenodd\" fill-opacity=\"1\" /><path clip-path=\"url(#clip690)\" d=\"M1281.47 28.5427 L1281.47 35.5912 Q1278.31 33.9709 1274.91 33.1607 Q1271.5 32.3505 1267.86 32.3505 Q1262.31 32.3505 1259.51 34.0519 Q1256.76 35.7533 1256.76 39.156 Q1256.76 41.7486 1258.74 43.2475 Q1260.73 44.7058 1266.72 46.0426 L1269.28 46.6097 Q1277.22 48.3111 1280.54 51.4303 Q1283.9 54.509 1283.9 60.0587 Q1283.9 66.3781 1278.88 70.0644 Q1273.89 73.7508 1265.15 73.7508 Q1261.5 73.7508 1257.53 73.0216 Q1253.6 72.3329 1249.22 70.9151 L1249.22 63.2184 Q1253.36 65.3654 1257.37 66.4591 Q1261.38 67.5124 1265.31 67.5124 Q1270.57 67.5124 1273.41 65.73 Q1276.24 63.9071 1276.24 60.6258 Q1276.24 57.5877 1274.18 55.9673 Q1272.15 54.3469 1265.23 52.8481 L1262.63 52.2405 Q1255.71 50.7821 1252.63 47.7845 Q1249.55 44.7463 1249.55 39.4801 Q1249.55 33.0797 1254.09 29.5959 Q1258.62 26.1121 1266.97 26.1121 Q1271.1 26.1121 1274.75 26.7198 Q1278.39 27.3274 1281.47 28.5427 Z\" fill=\"#000000\" fill-rule=\"evenodd\" fill-opacity=\"1\" /><path clip-path=\"url(#clip690)\" d=\"M1324.69 28.5427 L1324.69 35.5912 Q1321.53 33.9709 1318.13 33.1607 Q1314.73 32.3505 1311.08 32.3505 Q1305.53 32.3505 1302.74 34.0519 Q1299.98 35.7533 1299.98 39.156 Q1299.98 41.7486 1301.97 43.2475 Q1303.95 44.7058 1309.95 46.0426 L1312.5 46.6097 Q1320.44 48.3111 1323.76 51.4303 Q1327.12 54.509 1327.12 60.0587 Q1327.12 66.3781 1322.1 70.0644 Q1317.12 73.7508 1308.37 73.7508 Q1304.72 73.7508 1300.75 73.0216 Q1296.82 72.3329 1292.45 70.9151 L1292.45 63.2184 Q1296.58 65.3654 1300.59 66.4591 Q1304.6 67.5124 1308.53 67.5124 Q1313.8 67.5124 1316.63 65.73 Q1319.47 63.9071 1319.47 60.6258 Q1319.47 57.5877 1317.4 55.9673 Q1315.38 54.3469 1308.45 52.8481 L1305.86 52.2405 Q1298.93 50.7821 1295.85 47.7845 Q1292.77 44.7463 1292.77 39.4801 Q1292.77 33.0797 1297.31 29.5959 Q1301.85 26.1121 1310.19 26.1121 Q1314.32 26.1121 1317.97 26.7198 Q1321.61 27.3274 1324.69 28.5427 Z\" fill=\"#000000\" fill-rule=\"evenodd\" fill-opacity=\"1\" /><path clip-path=\"url(#clip690)\" d=\"M1377.8 48.0275 L1377.8 51.6733 L1343.53 51.6733 Q1344.02 59.3701 1348.15 63.421 Q1352.32 67.4314 1359.73 67.4314 Q1364.03 67.4314 1368.04 66.3781 Q1372.09 65.3249 1376.06 63.2184 L1376.06 70.267 Q1372.05 71.9684 1367.84 72.8596 Q1363.62 73.7508 1359.29 73.7508 Q1348.43 73.7508 1342.07 67.4314 Q1335.75 61.1119 1335.75 50.3365 Q1335.75 39.1965 1341.75 32.6746 Q1347.78 26.1121 1357.99 26.1121 Q1367.15 26.1121 1372.45 32.0264 Q1377.8 37.9003 1377.8 48.0275 M1370.35 45.84 Q1370.27 39.7232 1366.9 36.0774 Q1363.58 32.4315 1358.07 32.4315 Q1351.83 32.4315 1348.07 35.9558 Q1344.34 39.4801 1343.77 45.8805 L1370.35 45.84 Z\" fill=\"#000000\" fill-rule=\"evenodd\" fill-opacity=\"1\" /><path clip-path=\"url(#clip690)\" d=\"M1418.96 28.5427 L1418.96 35.5912 Q1415.8 33.9709 1412.4 33.1607 Q1408.99 32.3505 1405.35 32.3505 Q1399.8 32.3505 1397 34.0519 Q1394.25 35.7533 1394.25 39.156 Q1394.25 41.7486 1396.23 43.2475 Q1398.22 44.7058 1404.21 46.0426 L1406.76 46.6097 Q1414.7 48.3111 1418.03 51.4303 Q1421.39 54.509 1421.39 60.0587 Q1421.39 66.3781 1416.37 70.0644 Q1411.38 73.7508 1402.63 73.7508 Q1398.99 73.7508 1395.02 73.0216 Q1391.09 72.3329 1386.71 70.9151 L1386.71 63.2184 Q1390.84 65.3654 1394.85 66.4591 Q1398.87 67.5124 1402.79 67.5124 Q1408.06 67.5124 1410.9 65.73 Q1413.73 63.9071 1413.73 60.6258 Q1413.73 57.5877 1411.67 55.9673 Q1409.64 54.3469 1402.71 52.8481 L1400.12 52.2405 Q1393.19 50.7821 1390.12 47.7845 Q1387.04 44.7463 1387.04 39.4801 Q1387.04 33.0797 1391.57 29.5959 Q1396.11 26.1121 1404.46 26.1121 Q1408.59 26.1121 1412.23 26.7198 Q1415.88 27.3274 1418.96 28.5427 Z\" fill=\"#000000\" fill-rule=\"evenodd\" fill-opacity=\"1\" /><polyline clip-path=\"url(#clip692)\" style=\"stroke:#009af9; stroke-linecap:butt; stroke-linejoin:round; stroke-width:4; stroke-opacity:1; fill:none\" points=\"\n",
       "  286.175,162.047 299.64,171.07 313.106,180.196 326.572,189.406 340.037,198.682 353.503,208.008 366.969,217.369 380.435,226.754 393.9,236.158 407.366,245.58 \n",
       "  420.832,255.023 434.297,264.49 447.763,273.984 461.229,283.507 474.694,293.055 488.16,302.627 501.626,312.217 515.092,321.819 528.557,331.428 542.023,341.037 \n",
       "  555.489,350.639 568.954,360.227 582.42,369.795 595.886,379.335 609.352,388.839 622.817,398.301 636.283,407.712 649.749,417.065 663.214,426.352 676.68,435.566 \n",
       "  690.146,444.699 703.611,453.743 717.077,462.692 730.543,471.54 744.009,480.28 757.474,488.907 770.94,497.418 784.406,505.809 797.871,514.077 811.337,522.221 \n",
       "  824.803,530.241 838.268,538.136 851.734,545.907 865.2,553.558 878.666,561.089 892.131,568.504 905.597,575.807 919.063,583 932.528,590.09 945.994,597.079 \n",
       "  959.46,603.972 972.925,610.774 986.391,617.49 999.857,624.124 1013.32,630.681 1026.79,637.165 1040.25,643.581 1053.72,649.934 1067.19,656.228 1080.65,662.467 \n",
       "  1094.12,668.655 1107.58,674.796 1121.05,680.895 1134.51,686.954 1147.98,692.978 1161.45,698.971 1174.91,704.936 1188.38,710.875 1201.84,716.794 1215.31,722.694 \n",
       "  1228.77,728.579 1242.24,734.451 1255.71,740.315 1269.17,746.172 1282.64,752.025 1296.1,757.878 1309.57,763.733 1323.03,769.592 1336.5,775.459 1349.97,781.335 \n",
       "  1363.43,787.224 1376.9,793.128 1390.36,799.048 1403.83,804.989 1417.29,810.952 1430.76,816.94 1444.23,822.954 1457.69,828.999 1471.16,835.075 1484.62,841.186 \n",
       "  1498.09,847.334 1511.55,853.521 1525.02,859.75 1538.48,866.024 1551.95,872.345 1565.42,878.715 1578.88,885.139 1592.35,891.617 1605.81,898.154 1619.28,904.751 \n",
       "  1632.74,911.413 1646.21,918.141 1659.68,924.94 1673.14,931.811 1686.61,938.76 1700.07,945.789 1713.54,952.901 1727,960.101 1740.47,967.392 1753.94,974.779 \n",
       "  1767.4,982.265 1780.87,989.855 1794.33,997.554 1807.8,1005.37 1821.26,1013.3 1834.73,1021.35 1848.2,1029.54 1861.66,1037.85 1875.13,1046.32 1888.59,1054.92 \n",
       "  1902.06,1063.69 1915.52,1072.62 1928.99,1081.71 1942.46,1090.99 1955.92,1100.46 1969.39,1110.12 1982.85,1119.99 1996.32,1130.08 2009.78,1140.4 2023.25,1150.96 \n",
       "  2036.72,1161.78 2050.18,1172.88 2063.65,1184.26 2077.11,1195.95 2090.58,1207.96 2104.04,1220.32 2117.51,1233.04 2130.98,1246.16 2144.44,1259.7 2157.91,1273.69 \n",
       "  2171.37,1288.17 2184.84,1303.16 2198.3,1318.71 2211.77,1334.87 2225.24,1351.69 2238.7,1369.22 2252.17,1387.53 2265.63,1406.69 2279.1,1426.77 2292.56,1447.87 \n",
       "  \n",
       "  \"/>\n",
       "<path clip-path=\"url(#clip690)\" d=\"\n",
       "M1993.13 289.865 L2281.86 289.865 L2281.86 168.905 L1993.13 168.905  Z\n",
       "  \" fill=\"#ffffff\" fill-rule=\"evenodd\" fill-opacity=\"1\"/>\n",
       "<polyline clip-path=\"url(#clip690)\" style=\"stroke:#000000; stroke-linecap:butt; stroke-linejoin:round; stroke-width:4; stroke-opacity:1; fill:none\" points=\"\n",
       "  1993.13,289.865 2281.86,289.865 2281.86,168.905 1993.13,168.905 1993.13,289.865 \n",
       "  \"/>\n",
       "<polyline clip-path=\"url(#clip690)\" style=\"stroke:#009af9; stroke-linecap:butt; stroke-linejoin:round; stroke-width:4; stroke-opacity:1; fill:none\" points=\"\n",
       "  2016.76,229.385 2158.54,229.385 \n",
       "  \"/>\n",
       "<path clip-path=\"url(#clip690)\" d=\"M2196.01 249.072 Q2194.21 253.702 2192.5 255.114 Q2190.78 256.526 2187.91 256.526 L2184.51 256.526 L2184.51 252.961 L2187.01 252.961 Q2188.77 252.961 2189.74 252.128 Q2190.71 251.294 2191.89 248.192 L2192.66 246.248 L2182.17 220.739 L2186.69 220.739 L2194.79 241.017 L2202.89 220.739 L2207.4 220.739 L2196.01 249.072 Z\" fill=\"#000000\" fill-rule=\"evenodd\" fill-opacity=\"1\" /><path clip-path=\"url(#clip690)\" d=\"M2214.69 242.729 L2222.33 242.729 L2222.33 216.364 L2214.02 218.031 L2214.02 213.771 L2222.29 212.105 L2226.96 212.105 L2226.96 242.729 L2234.6 242.729 L2234.6 246.665 L2214.69 246.665 L2214.69 242.729 Z\" fill=\"#000000\" fill-rule=\"evenodd\" fill-opacity=\"1\" /></svg>\n"
      ]
     },
     "execution_count": 123,
     "metadata": {},
     "output_type": "execute_result"
    }
   ],
   "source": [
    "plot(losses, yaxis=:log, title=\"Losses\")"
   ]
  },
  {
   "cell_type": "code",
   "execution_count": 125,
   "id": "7f3d536c",
   "metadata": {},
   "outputs": [
    {
     "data": {
      "image/svg+xml": [
       "<?xml version=\"1.0\" encoding=\"utf-8\"?>\n",
       "<svg xmlns=\"http://www.w3.org/2000/svg\" xmlns:xlink=\"http://www.w3.org/1999/xlink\" width=\"600\" height=\"400\" viewBox=\"0 0 2400 1600\">\n",
       "<defs>\n",
       "  <clipPath id=\"clip770\">\n",
       "    <rect x=\"0\" y=\"0\" width=\"2400\" height=\"1600\"/>\n",
       "  </clipPath>\n",
       "</defs>\n",
       "<path clip-path=\"url(#clip770)\" d=\"\n",
       "M0 1600 L2400 1600 L2400 0 L0 0  Z\n",
       "  \" fill=\"#ffffff\" fill-rule=\"evenodd\" fill-opacity=\"1\"/>\n",
       "<defs>\n",
       "  <clipPath id=\"clip771\">\n",
       "    <rect x=\"480\" y=\"0\" width=\"1681\" height=\"1600\"/>\n",
       "  </clipPath>\n",
       "</defs>\n",
       "<path clip-path=\"url(#clip770)\" d=\"\n",
       "M175.445 1423.18 L2352.76 1423.18 L2352.76 123.472 L175.445 123.472  Z\n",
       "  \" fill=\"#ffffff\" fill-rule=\"evenodd\" fill-opacity=\"1\"/>\n",
       "<defs>\n",
       "  <clipPath id=\"clip772\">\n",
       "    <rect x=\"175\" y=\"123\" width=\"2178\" height=\"1301\"/>\n",
       "  </clipPath>\n",
       "</defs>\n",
       "<polyline clip-path=\"url(#clip772)\" style=\"stroke:#000000; stroke-linecap:butt; stroke-linejoin:round; stroke-width:2; stroke-opacity:0.1; fill:none\" points=\"\n",
       "  237.067,1423.18 237.067,123.472 \n",
       "  \"/>\n",
       "<polyline clip-path=\"url(#clip772)\" style=\"stroke:#000000; stroke-linecap:butt; stroke-linejoin:round; stroke-width:2; stroke-opacity:0.1; fill:none\" points=\"\n",
       "  647.881,1423.18 647.881,123.472 \n",
       "  \"/>\n",
       "<polyline clip-path=\"url(#clip772)\" style=\"stroke:#000000; stroke-linecap:butt; stroke-linejoin:round; stroke-width:2; stroke-opacity:0.1; fill:none\" points=\"\n",
       "  1058.69,1423.18 1058.69,123.472 \n",
       "  \"/>\n",
       "<polyline clip-path=\"url(#clip772)\" style=\"stroke:#000000; stroke-linecap:butt; stroke-linejoin:round; stroke-width:2; stroke-opacity:0.1; fill:none\" points=\"\n",
       "  1469.51,1423.18 1469.51,123.472 \n",
       "  \"/>\n",
       "<polyline clip-path=\"url(#clip772)\" style=\"stroke:#000000; stroke-linecap:butt; stroke-linejoin:round; stroke-width:2; stroke-opacity:0.1; fill:none\" points=\"\n",
       "  1880.32,1423.18 1880.32,123.472 \n",
       "  \"/>\n",
       "<polyline clip-path=\"url(#clip772)\" style=\"stroke:#000000; stroke-linecap:butt; stroke-linejoin:round; stroke-width:2; stroke-opacity:0.1; fill:none\" points=\"\n",
       "  2291.13,1423.18 2291.13,123.472 \n",
       "  \"/>\n",
       "<polyline clip-path=\"url(#clip770)\" style=\"stroke:#000000; stroke-linecap:butt; stroke-linejoin:round; stroke-width:4; stroke-opacity:1; fill:none\" points=\"\n",
       "  175.445,1423.18 2352.76,1423.18 \n",
       "  \"/>\n",
       "<polyline clip-path=\"url(#clip770)\" style=\"stroke:#000000; stroke-linecap:butt; stroke-linejoin:round; stroke-width:4; stroke-opacity:1; fill:none\" points=\"\n",
       "  237.067,1423.18 237.067,1407.58 \n",
       "  \"/>\n",
       "<polyline clip-path=\"url(#clip770)\" style=\"stroke:#000000; stroke-linecap:butt; stroke-linejoin:round; stroke-width:4; stroke-opacity:1; fill:none\" points=\"\n",
       "  647.881,1423.18 647.881,1407.58 \n",
       "  \"/>\n",
       "<polyline clip-path=\"url(#clip770)\" style=\"stroke:#000000; stroke-linecap:butt; stroke-linejoin:round; stroke-width:4; stroke-opacity:1; fill:none\" points=\"\n",
       "  1058.69,1423.18 1058.69,1407.58 \n",
       "  \"/>\n",
       "<polyline clip-path=\"url(#clip770)\" style=\"stroke:#000000; stroke-linecap:butt; stroke-linejoin:round; stroke-width:4; stroke-opacity:1; fill:none\" points=\"\n",
       "  1469.51,1423.18 1469.51,1407.58 \n",
       "  \"/>\n",
       "<polyline clip-path=\"url(#clip770)\" style=\"stroke:#000000; stroke-linecap:butt; stroke-linejoin:round; stroke-width:4; stroke-opacity:1; fill:none\" points=\"\n",
       "  1880.32,1423.18 1880.32,1407.58 \n",
       "  \"/>\n",
       "<polyline clip-path=\"url(#clip770)\" style=\"stroke:#000000; stroke-linecap:butt; stroke-linejoin:round; stroke-width:4; stroke-opacity:1; fill:none\" points=\"\n",
       "  2291.13,1423.18 2291.13,1407.58 \n",
       "  \"/>\n",
       "<path clip-path=\"url(#clip770)\" d=\"M237.067 1452.37 Q233.456 1452.37 231.627 1455.94 Q229.822 1459.48 229.822 1466.61 Q229.822 1473.71 231.627 1477.28 Q233.456 1480.82 237.067 1480.82 Q240.701 1480.82 242.507 1477.28 Q244.336 1473.71 244.336 1466.61 Q244.336 1459.48 242.507 1455.94 Q240.701 1452.37 237.067 1452.37 M237.067 1448.67 Q242.877 1448.67 245.933 1453.27 Q249.012 1457.86 249.012 1466.61 Q249.012 1475.33 245.933 1479.94 Q242.877 1484.52 237.067 1484.52 Q231.257 1484.52 228.178 1479.94 Q225.123 1475.33 225.123 1466.61 Q225.123 1457.86 228.178 1453.27 Q231.257 1448.67 237.067 1448.67 Z\" fill=\"#000000\" fill-rule=\"evenodd\" fill-opacity=\"1\" /><path clip-path=\"url(#clip770)\" d=\"M638.263 1479.92 L645.901 1479.92 L645.901 1453.55 L637.591 1455.22 L637.591 1450.96 L645.855 1449.29 L650.531 1449.29 L650.531 1479.92 L658.17 1479.92 L658.17 1483.85 L638.263 1483.85 L638.263 1479.92 Z\" fill=\"#000000\" fill-rule=\"evenodd\" fill-opacity=\"1\" /><path clip-path=\"url(#clip770)\" d=\"M1053.35 1479.92 L1069.67 1479.92 L1069.67 1483.85 L1047.72 1483.85 L1047.72 1479.92 Q1050.38 1477.16 1054.97 1472.53 Q1059.57 1467.88 1060.75 1466.54 Q1063 1464.01 1063.88 1462.28 Q1064.78 1460.52 1064.78 1458.83 Q1064.78 1456.07 1062.84 1454.34 Q1060.92 1452.6 1057.81 1452.6 Q1055.62 1452.6 1053.16 1453.37 Q1050.73 1454.13 1047.95 1455.68 L1047.95 1450.96 Q1050.78 1449.82 1053.23 1449.25 Q1055.68 1448.67 1057.72 1448.67 Q1063.09 1448.67 1066.29 1451.35 Q1069.48 1454.04 1069.48 1458.53 Q1069.48 1460.66 1068.67 1462.58 Q1067.88 1464.48 1065.78 1467.07 Q1065.2 1467.74 1062.1 1470.96 Q1058.99 1474.15 1053.35 1479.92 Z\" fill=\"#000000\" fill-rule=\"evenodd\" fill-opacity=\"1\" /><path clip-path=\"url(#clip770)\" d=\"M1473.75 1465.22 Q1477.11 1465.94 1478.99 1468.2 Q1480.88 1470.47 1480.88 1473.81 Q1480.88 1478.92 1477.37 1481.72 Q1473.85 1484.52 1467.37 1484.52 Q1465.19 1484.52 1462.88 1484.08 Q1460.58 1483.67 1458.13 1482.81 L1458.13 1478.3 Q1460.07 1479.43 1462.39 1480.01 Q1464.7 1480.59 1467.23 1480.59 Q1471.63 1480.59 1473.92 1478.85 Q1476.23 1477.12 1476.23 1473.81 Q1476.23 1470.75 1474.08 1469.04 Q1471.95 1467.3 1468.13 1467.3 L1464.1 1467.3 L1464.1 1463.46 L1468.32 1463.46 Q1471.76 1463.46 1473.59 1462.09 Q1475.42 1460.7 1475.42 1458.11 Q1475.42 1455.45 1473.52 1454.04 Q1471.65 1452.6 1468.13 1452.6 Q1466.21 1452.6 1464.01 1453.02 Q1461.81 1453.44 1459.17 1454.31 L1459.17 1450.15 Q1461.83 1449.41 1464.15 1449.04 Q1466.49 1448.67 1468.55 1448.67 Q1473.87 1448.67 1476.97 1451.1 Q1480.07 1453.5 1480.07 1457.63 Q1480.07 1460.5 1478.43 1462.49 Q1476.79 1464.45 1473.75 1465.22 Z\" fill=\"#000000\" fill-rule=\"evenodd\" fill-opacity=\"1\" /><path clip-path=\"url(#clip770)\" d=\"M1883.33 1453.37 L1871.52 1471.81 L1883.33 1471.81 L1883.33 1453.37 M1882.1 1449.29 L1887.98 1449.29 L1887.98 1471.81 L1892.91 1471.81 L1892.91 1475.7 L1887.98 1475.7 L1887.98 1483.85 L1883.33 1483.85 L1883.33 1475.7 L1867.73 1475.7 L1867.73 1471.19 L1882.1 1449.29 Z\" fill=\"#000000\" fill-rule=\"evenodd\" fill-opacity=\"1\" /><path clip-path=\"url(#clip770)\" d=\"M2281.41 1449.29 L2299.77 1449.29 L2299.77 1453.23 L2285.69 1453.23 L2285.69 1461.7 Q2286.71 1461.35 2287.73 1461.19 Q2288.75 1461 2289.77 1461 Q2295.56 1461 2298.93 1464.18 Q2302.31 1467.35 2302.31 1472.76 Q2302.31 1478.34 2298.84 1481.44 Q2295.37 1484.52 2289.05 1484.52 Q2286.87 1484.52 2284.61 1484.15 Q2282.36 1483.78 2279.95 1483.04 L2279.95 1478.34 Q2282.04 1479.48 2284.26 1480.03 Q2286.48 1480.59 2288.96 1480.59 Q2292.96 1480.59 2295.3 1478.48 Q2297.64 1476.38 2297.64 1472.76 Q2297.64 1469.15 2295.3 1467.05 Q2292.96 1464.94 2288.96 1464.94 Q2287.08 1464.94 2285.21 1465.36 Q2283.36 1465.77 2281.41 1466.65 L2281.41 1449.29 Z\" fill=\"#000000\" fill-rule=\"evenodd\" fill-opacity=\"1\" /><path clip-path=\"url(#clip770)\" d=\"M1185.98 1520.52 L1226.18 1520.52 L1226.18 1525.93 L1209.31 1525.93 L1209.31 1568.04 L1202.85 1568.04 L1202.85 1525.93 L1185.98 1525.93 L1185.98 1520.52 Z\" fill=\"#000000\" fill-rule=\"evenodd\" fill-opacity=\"1\" /><path clip-path=\"url(#clip770)\" d=\"M1230.12 1532.4 L1235.98 1532.4 L1235.98 1568.04 L1230.12 1568.04 L1230.12 1532.4 M1230.12 1518.52 L1235.98 1518.52 L1235.98 1525.93 L1230.12 1525.93 L1230.12 1518.52 Z\" fill=\"#000000\" fill-rule=\"evenodd\" fill-opacity=\"1\" /><path clip-path=\"url(#clip770)\" d=\"M1275.99 1539.24 Q1278.18 1535.29 1281.24 1533.41 Q1284.3 1531.54 1288.43 1531.54 Q1294 1531.54 1297.03 1535.45 Q1300.05 1539.33 1300.05 1546.53 L1300.05 1568.04 L1294.16 1568.04 L1294.16 1546.72 Q1294.16 1541.59 1292.35 1539.11 Q1290.53 1536.63 1286.81 1536.63 Q1282.26 1536.63 1279.62 1539.65 Q1276.98 1542.68 1276.98 1547.9 L1276.98 1568.04 L1271.09 1568.04 L1271.09 1546.72 Q1271.09 1541.56 1269.27 1539.11 Q1267.46 1536.63 1263.67 1536.63 Q1259.18 1536.63 1256.54 1539.68 Q1253.9 1542.71 1253.9 1547.9 L1253.9 1568.04 L1248.01 1568.04 L1248.01 1532.4 L1253.9 1532.4 L1253.9 1537.93 Q1255.9 1534.66 1258.71 1533.1 Q1261.51 1531.54 1265.36 1531.54 Q1269.24 1531.54 1271.95 1533.51 Q1274.68 1535.48 1275.99 1539.24 Z\" fill=\"#000000\" fill-rule=\"evenodd\" fill-opacity=\"1\" /><path clip-path=\"url(#clip770)\" d=\"M1342.22 1548.76 L1342.22 1551.62 L1315.3 1551.62 Q1315.68 1557.67 1318.93 1560.85 Q1322.2 1564 1328.03 1564 Q1331.4 1564 1334.55 1563.17 Q1337.74 1562.35 1340.86 1560.69 L1340.86 1566.23 Q1337.7 1567.57 1334.39 1568.27 Q1331.08 1568.97 1327.68 1568.97 Q1319.15 1568.97 1314.15 1564 Q1309.19 1559.04 1309.19 1550.57 Q1309.19 1541.82 1313.9 1536.69 Q1318.64 1531.54 1326.66 1531.54 Q1333.85 1531.54 1338.02 1536.18 Q1342.22 1540.8 1342.22 1548.76 M1336.37 1547.04 Q1336.3 1542.23 1333.66 1539.37 Q1331.05 1536.5 1326.72 1536.5 Q1321.82 1536.5 1318.86 1539.27 Q1315.93 1542.04 1315.49 1547.07 L1336.37 1547.04 Z\" fill=\"#000000\" fill-rule=\"evenodd\" fill-opacity=\"1\" /><polyline clip-path=\"url(#clip772)\" style=\"stroke:#000000; stroke-linecap:butt; stroke-linejoin:round; stroke-width:2; stroke-opacity:0.1; fill:none\" points=\"\n",
       "  175.445,1386.4 2352.76,1386.4 \n",
       "  \"/>\n",
       "<polyline clip-path=\"url(#clip772)\" style=\"stroke:#000000; stroke-linecap:butt; stroke-linejoin:round; stroke-width:2; stroke-opacity:0.1; fill:none\" points=\"\n",
       "  175.445,1141.17 2352.76,1141.17 \n",
       "  \"/>\n",
       "<polyline clip-path=\"url(#clip772)\" style=\"stroke:#000000; stroke-linecap:butt; stroke-linejoin:round; stroke-width:2; stroke-opacity:0.1; fill:none\" points=\"\n",
       "  175.445,895.94 2352.76,895.94 \n",
       "  \"/>\n",
       "<polyline clip-path=\"url(#clip772)\" style=\"stroke:#000000; stroke-linecap:butt; stroke-linejoin:round; stroke-width:2; stroke-opacity:0.1; fill:none\" points=\"\n",
       "  175.445,650.712 2352.76,650.712 \n",
       "  \"/>\n",
       "<polyline clip-path=\"url(#clip772)\" style=\"stroke:#000000; stroke-linecap:butt; stroke-linejoin:round; stroke-width:2; stroke-opacity:0.1; fill:none\" points=\"\n",
       "  175.445,405.484 2352.76,405.484 \n",
       "  \"/>\n",
       "<polyline clip-path=\"url(#clip772)\" style=\"stroke:#000000; stroke-linecap:butt; stroke-linejoin:round; stroke-width:2; stroke-opacity:0.1; fill:none\" points=\"\n",
       "  175.445,160.256 2352.76,160.256 \n",
       "  \"/>\n",
       "<polyline clip-path=\"url(#clip770)\" style=\"stroke:#000000; stroke-linecap:butt; stroke-linejoin:round; stroke-width:4; stroke-opacity:1; fill:none\" points=\"\n",
       "  175.445,1423.18 175.445,123.472 \n",
       "  \"/>\n",
       "<polyline clip-path=\"url(#clip770)\" style=\"stroke:#000000; stroke-linecap:butt; stroke-linejoin:round; stroke-width:4; stroke-opacity:1; fill:none\" points=\"\n",
       "  175.445,1386.4 201.573,1386.4 \n",
       "  \"/>\n",
       "<polyline clip-path=\"url(#clip770)\" style=\"stroke:#000000; stroke-linecap:butt; stroke-linejoin:round; stroke-width:4; stroke-opacity:1; fill:none\" points=\"\n",
       "  175.445,1141.17 201.573,1141.17 \n",
       "  \"/>\n",
       "<polyline clip-path=\"url(#clip770)\" style=\"stroke:#000000; stroke-linecap:butt; stroke-linejoin:round; stroke-width:4; stroke-opacity:1; fill:none\" points=\"\n",
       "  175.445,895.94 201.573,895.94 \n",
       "  \"/>\n",
       "<polyline clip-path=\"url(#clip770)\" style=\"stroke:#000000; stroke-linecap:butt; stroke-linejoin:round; stroke-width:4; stroke-opacity:1; fill:none\" points=\"\n",
       "  175.445,650.712 201.573,650.712 \n",
       "  \"/>\n",
       "<polyline clip-path=\"url(#clip770)\" style=\"stroke:#000000; stroke-linecap:butt; stroke-linejoin:round; stroke-width:4; stroke-opacity:1; fill:none\" points=\"\n",
       "  175.445,405.484 201.573,405.484 \n",
       "  \"/>\n",
       "<polyline clip-path=\"url(#clip770)\" style=\"stroke:#000000; stroke-linecap:butt; stroke-linejoin:round; stroke-width:4; stroke-opacity:1; fill:none\" points=\"\n",
       "  175.445,160.256 201.573,160.256 \n",
       "  \"/>\n",
       "<path clip-path=\"url(#clip770)\" d=\"M123.126 1399.74 L139.445 1399.74 L139.445 1403.68 L117.501 1403.68 L117.501 1399.74 Q120.163 1396.99 124.746 1392.36 Q129.353 1387.7 130.533 1386.36 Q132.779 1383.84 133.658 1382.1 Q134.561 1380.34 134.561 1378.65 Q134.561 1375.9 132.617 1374.16 Q130.695 1372.43 127.593 1372.43 Q125.394 1372.43 122.941 1373.19 Q120.51 1373.95 117.732 1375.5 L117.732 1370.78 Q120.556 1369.65 123.01 1369.07 Q125.464 1368.49 127.501 1368.49 Q132.871 1368.49 136.066 1371.18 Q139.26 1373.86 139.26 1378.35 Q139.26 1380.48 138.45 1382.4 Q137.663 1384.3 135.556 1386.89 Q134.978 1387.56 131.876 1390.78 Q128.774 1393.98 123.126 1399.74 Z\" fill=\"#000000\" fill-rule=\"evenodd\" fill-opacity=\"1\" /><path clip-path=\"url(#clip770)\" d=\"M132.316 1139.81 Q135.672 1140.53 137.547 1142.8 Q139.445 1145.07 139.445 1148.4 Q139.445 1153.52 135.927 1156.32 Q132.408 1159.12 125.927 1159.12 Q123.751 1159.12 121.436 1158.68 Q119.144 1158.26 116.691 1157.41 L116.691 1152.89 Q118.635 1154.03 120.95 1154.61 Q123.265 1155.18 125.788 1155.18 Q130.186 1155.18 132.478 1153.45 Q134.792 1151.71 134.792 1148.4 Q134.792 1145.35 132.64 1143.63 Q130.51 1141.9 126.691 1141.9 L122.663 1141.9 L122.663 1138.05 L126.876 1138.05 Q130.325 1138.05 132.154 1136.69 Q133.982 1135.3 133.982 1132.71 Q133.982 1130.05 132.084 1128.63 Q130.209 1127.2 126.691 1127.2 Q124.769 1127.2 122.57 1127.61 Q120.371 1128.03 117.732 1128.91 L117.732 1124.74 Q120.394 1124 122.709 1123.63 Q125.047 1123.26 127.107 1123.26 Q132.431 1123.26 135.533 1125.69 Q138.635 1128.1 138.635 1132.22 Q138.635 1135.09 136.992 1137.08 Q135.348 1139.05 132.316 1139.81 Z\" fill=\"#000000\" fill-rule=\"evenodd\" fill-opacity=\"1\" /><path clip-path=\"url(#clip770)\" d=\"M129.862 882.734 L118.056 901.183 L129.862 901.183 L129.862 882.734 M128.635 878.66 L134.515 878.66 L134.515 901.183 L139.445 901.183 L139.445 905.072 L134.515 905.072 L134.515 913.22 L129.862 913.22 L129.862 905.072 L114.26 905.072 L114.26 900.558 L128.635 878.66 Z\" fill=\"#000000\" fill-rule=\"evenodd\" fill-opacity=\"1\" /><path clip-path=\"url(#clip770)\" d=\"M118.543 633.432 L136.899 633.432 L136.899 637.367 L122.825 637.367 L122.825 645.839 Q123.843 645.492 124.862 645.33 Q125.88 645.145 126.899 645.145 Q132.686 645.145 136.066 648.316 Q139.445 651.488 139.445 656.904 Q139.445 662.483 135.973 665.585 Q132.501 668.663 126.181 668.663 Q124.005 668.663 121.737 668.293 Q119.492 667.923 117.084 667.182 L117.084 662.483 Q119.168 663.617 121.39 664.173 Q123.612 664.728 126.089 664.728 Q130.093 664.728 132.431 662.622 Q134.769 660.515 134.769 656.904 Q134.769 653.293 132.431 651.187 Q130.093 649.08 126.089 649.08 Q124.214 649.08 122.339 649.497 Q120.487 649.913 118.543 650.793 L118.543 633.432 Z\" fill=\"#000000\" fill-rule=\"evenodd\" fill-opacity=\"1\" /><path clip-path=\"url(#clip770)\" d=\"M127.917 403.621 Q124.769 403.621 122.918 405.774 Q121.089 407.926 121.089 411.676 Q121.089 415.403 122.918 417.579 Q124.769 419.732 127.917 419.732 Q131.066 419.732 132.894 417.579 Q134.746 415.403 134.746 411.676 Q134.746 407.926 132.894 405.774 Q131.066 403.621 127.917 403.621 M137.2 388.968 L137.2 393.227 Q135.441 392.394 133.635 391.954 Q131.853 391.514 130.093 391.514 Q125.464 391.514 123.01 394.639 Q120.58 397.764 120.232 404.084 Q121.598 402.07 123.658 401.005 Q125.718 399.917 128.195 399.917 Q133.404 399.917 136.413 403.088 Q139.445 406.236 139.445 411.676 Q139.445 417 136.297 420.218 Q133.149 423.435 127.917 423.435 Q121.922 423.435 118.751 418.852 Q115.58 414.246 115.58 405.519 Q115.58 397.324 119.468 392.463 Q123.357 387.579 129.908 387.579 Q131.667 387.579 133.45 387.926 Q135.255 388.274 137.2 388.968 Z\" fill=\"#000000\" fill-rule=\"evenodd\" fill-opacity=\"1\" /><path clip-path=\"url(#clip770)\" d=\"M117.223 142.976 L139.445 142.976 L139.445 144.967 L126.899 177.536 L122.015 177.536 L133.82 146.911 L117.223 146.911 L117.223 142.976 Z\" fill=\"#000000\" fill-rule=\"evenodd\" fill-opacity=\"1\" /><path clip-path=\"url(#clip770)\" d=\"M21.7677 985.988 L58.7206 985.988 L58.7206 978.222 Q58.7206 968.387 54.2646 963.836 Q49.8086 959.252 40.1964 959.252 Q30.6479 959.252 26.2237 963.836 Q21.7677 968.387 21.7677 978.222 L21.7677 985.988 M16.4842 992.418 L16.4842 979.209 Q16.4842 965.395 22.2451 958.934 Q27.9743 952.473 40.1964 952.473 Q52.4822 952.473 58.2432 958.966 Q64.0042 965.459 64.0042 979.209 L64.0042 992.418 L16.4842 992.418 Z\" fill=\"#000000\" fill-rule=\"evenodd\" fill-opacity=\"1\" /><path clip-path=\"url(#clip770)\" d=\"M28.3562 942.479 L28.3562 936.622 L64.0042 936.622 L64.0042 942.479 L28.3562 942.479 M14.479 942.479 L14.479 936.622 L21.895 936.622 L21.895 942.479 L14.479 942.479 Z\" fill=\"#000000\" fill-rule=\"evenodd\" fill-opacity=\"1\" /><path clip-path=\"url(#clip770)\" d=\"M14.479 906.322 L19.3487 906.322 L19.3487 911.923 Q19.3487 915.074 20.6219 916.316 Q21.895 917.525 25.2052 917.525 L28.3562 917.525 L28.3562 907.881 L32.9077 907.881 L32.9077 917.525 L64.0042 917.525 L64.0042 923.413 L32.9077 923.413 L32.9077 929.015 L28.3562 929.015 L28.3562 923.413 L25.8736 923.413 Q19.9216 923.413 17.2162 920.644 Q14.479 917.875 14.479 911.86 L14.479 906.322 Z\" fill=\"#000000\" fill-rule=\"evenodd\" fill-opacity=\"1\" /><path clip-path=\"url(#clip770)\" d=\"M14.479 883.373 L19.3487 883.373 L19.3487 888.975 Q19.3487 892.126 20.6219 893.367 Q21.895 894.577 25.2052 894.577 L28.3562 894.577 L28.3562 884.933 L32.9077 884.933 L32.9077 894.577 L64.0042 894.577 L64.0042 900.465 L32.9077 900.465 L32.9077 906.067 L28.3562 906.067 L28.3562 900.465 L25.8736 900.465 Q19.9216 900.465 17.2162 897.696 Q14.479 894.927 14.479 888.911 L14.479 883.373 Z\" fill=\"#000000\" fill-rule=\"evenodd\" fill-opacity=\"1\" /><path clip-path=\"url(#clip770)\" d=\"M49.9359 879.076 L28.3562 879.076 L28.3562 873.22 L49.7131 873.22 Q54.7739 873.22 57.3202 871.246 Q59.8346 869.273 59.8346 865.326 Q59.8346 860.584 56.8109 857.847 Q53.7872 855.078 48.5673 855.078 L28.3562 855.078 L28.3562 849.221 L64.0042 849.221 L64.0042 855.078 L58.5296 855.078 Q61.7762 857.21 63.3676 860.043 Q64.9272 862.844 64.9272 866.568 Q64.9272 872.711 61.1078 875.893 Q57.2883 879.076 49.9359 879.076 M27.4968 864.34 L27.4968 864.34 Z\" fill=\"#000000\" fill-rule=\"evenodd\" fill-opacity=\"1\" /><path clip-path=\"url(#clip770)\" d=\"M29.4065 814.433 L34.9447 814.433 Q33.6716 816.915 33.035 819.589 Q32.3984 822.262 32.3984 825.127 Q32.3984 829.487 33.7352 831.684 Q35.072 833.848 37.7456 833.848 Q39.7826 833.848 40.9603 832.288 Q42.1061 830.729 43.1565 826.018 L43.6021 824.013 Q44.9389 817.775 47.3897 815.165 Q49.8086 812.523 54.1691 812.523 Q59.1344 812.523 62.0308 816.47 Q64.9272 820.384 64.9272 827.259 Q64.9272 830.124 64.3543 833.243 Q63.8132 836.331 62.6992 839.768 L56.6518 839.768 Q58.3387 836.522 59.198 833.371 Q60.0256 830.219 60.0256 827.132 Q60.0256 822.994 58.6251 820.766 Q57.1929 818.538 54.6147 818.538 Q52.2276 818.538 50.9545 820.162 Q49.6813 821.753 48.5037 827.196 L48.0262 829.233 Q46.8804 834.675 44.5251 837.094 Q42.138 839.513 38.0002 839.513 Q32.9713 839.513 30.2341 835.949 Q27.4968 832.384 27.4968 825.827 Q27.4968 822.581 27.9743 819.716 Q28.4517 816.852 29.4065 814.433 Z\" fill=\"#000000\" fill-rule=\"evenodd\" fill-opacity=\"1\" /><path clip-path=\"url(#clip770)\" d=\"M28.3562 803.197 L28.3562 797.341 L64.0042 797.341 L64.0042 803.197 L28.3562 803.197 M14.479 803.197 L14.479 797.341 L21.895 797.341 L21.895 803.197 L14.479 803.197 Z\" fill=\"#000000\" fill-rule=\"evenodd\" fill-opacity=\"1\" /><path clip-path=\"url(#clip770)\" d=\"M28.3562 789.288 L28.3562 783.081 L58.275 771.941 L28.3562 760.801 L28.3562 754.595 L64.0042 767.963 L64.0042 775.92 L28.3562 789.288 Z\" fill=\"#000000\" fill-rule=\"evenodd\" fill-opacity=\"1\" /><path clip-path=\"url(#clip770)\" d=\"M28.3562 746.51 L28.3562 740.654 L64.0042 740.654 L64.0042 746.51 L28.3562 746.51 M14.479 746.51 L14.479 740.654 L21.895 740.654 L21.895 746.51 L14.479 746.51 Z\" fill=\"#000000\" fill-rule=\"evenodd\" fill-opacity=\"1\" /><path clip-path=\"url(#clip770)\" d=\"M18.2347 722.607 L28.3562 722.607 L28.3562 710.544 L32.9077 710.544 L32.9077 722.607 L52.2594 722.607 Q56.6199 722.607 57.8613 721.43 Q59.1026 720.22 59.1026 716.56 L59.1026 710.544 L64.0042 710.544 L64.0042 716.56 Q64.0042 723.339 61.4897 725.917 Q58.9434 728.495 52.2594 728.495 L32.9077 728.495 L32.9077 732.792 L28.3562 732.792 L28.3562 728.495 L18.2347 728.495 L18.2347 722.607 Z\" fill=\"#000000\" fill-rule=\"evenodd\" fill-opacity=\"1\" /><path clip-path=\"url(#clip770)\" d=\"M67.3143 688.01 Q73.68 690.492 75.6216 692.848 Q77.5631 695.203 77.5631 699.15 L77.5631 703.828 L72.6615 703.828 L72.6615 700.391 Q72.6615 697.972 71.5157 696.635 Q70.3699 695.298 66.1048 693.675 L63.4312 692.625 L28.3562 707.043 L28.3562 700.836 L56.238 689.697 L28.3562 678.557 L28.3562 672.35 L67.3143 688.01 Z\" fill=\"#000000\" fill-rule=\"evenodd\" fill-opacity=\"1\" /><path clip-path=\"url(#clip770)\" d=\"M14.5426 629.477 Q21.8632 633.742 29.0246 635.811 Q36.186 637.88 43.5384 637.88 Q50.8908 637.88 58.1159 635.811 Q65.3091 633.71 72.5979 629.477 L72.5979 634.569 Q65.1182 639.344 57.8931 641.731 Q50.668 644.086 43.5384 644.086 Q36.4406 644.086 29.2474 641.731 Q22.0542 639.376 14.5426 634.569 L14.5426 629.477 Z\" fill=\"#000000\" fill-rule=\"evenodd\" fill-opacity=\"1\" /><path clip-path=\"url(#clip770)\" d=\"M21.7677 611.43 L58.7206 611.43 L58.7206 603.664 Q58.7206 593.829 54.2646 589.277 Q49.8086 584.694 40.1964 584.694 Q30.6479 584.694 26.2237 589.277 Q21.7677 593.829 21.7677 603.664 L21.7677 611.43 M16.4842 617.86 L16.4842 604.651 Q16.4842 590.837 22.2451 584.376 Q27.9743 577.915 40.1964 577.915 Q52.4822 577.915 58.2432 584.408 Q64.0042 590.901 64.0042 604.651 L64.0042 617.86 L16.4842 617.86 Z\" fill=\"#000000\" fill-rule=\"evenodd\" fill-opacity=\"1\" /><path clip-path=\"url(#clip770)\" d=\"M14.5426 568.844 L14.5426 563.751 Q22.0542 558.977 29.2474 556.621 Q36.4406 554.234 43.5384 554.234 Q50.668 554.234 57.8931 556.621 Q65.1182 558.977 72.5979 563.751 L72.5979 568.844 Q65.3091 564.61 58.1159 562.542 Q50.8908 560.441 43.5384 560.441 Q36.186 560.441 29.0246 562.542 Q21.8632 564.61 14.5426 568.844 Z\" fill=\"#000000\" fill-rule=\"evenodd\" fill-opacity=\"1\" /><path clip-path=\"url(#clip770)\" d=\"M686.421 14.0809 L686.421 22.0612 Q681.763 19.8332 677.631 18.7395 Q673.499 17.6457 669.651 17.6457 Q662.967 17.6457 659.321 20.2383 Q655.716 22.8309 655.716 27.611 Q655.716 31.6214 658.106 33.6873 Q660.536 35.7128 667.261 36.9686 L672.203 37.9813 Q681.358 39.7232 685.692 44.1387 Q690.067 48.5136 690.067 55.8863 Q690.067 64.6767 684.153 69.2137 Q678.279 73.7508 666.896 73.7508 Q662.602 73.7508 657.741 72.7785 Q652.92 71.8063 647.735 69.9024 L647.735 61.4765 Q652.718 64.2716 657.498 65.6895 Q662.278 67.1073 666.896 67.1073 Q673.904 67.1073 677.712 64.3527 Q681.52 61.598 681.52 56.4939 Q681.52 52.0379 678.765 49.5264 Q676.051 47.0148 669.813 45.759 L664.83 44.7868 Q655.675 42.9639 651.584 39.075 Q647.492 35.1862 647.492 28.2591 Q647.492 20.2383 653.123 15.6203 Q658.794 11.0023 668.719 11.0023 Q672.972 11.0023 677.388 11.7719 Q681.803 12.5416 686.421 14.0809 Z\" fill=\"#000000\" fill-rule=\"evenodd\" fill-opacity=\"1\" /><path clip-path=\"url(#clip770)\" d=\"M702.503 27.2059 L709.957 27.2059 L709.957 72.576 L702.503 72.576 L702.503 27.2059 M702.503 9.54393 L709.957 9.54393 L709.957 18.9825 L702.503 18.9825 L702.503 9.54393 Z\" fill=\"#000000\" fill-rule=\"evenodd\" fill-opacity=\"1\" /><path clip-path=\"url(#clip770)\" d=\"M760.877 35.9153 Q763.672 30.8922 767.561 28.5022 Q771.45 26.1121 776.716 26.1121 Q783.805 26.1121 787.653 31.0947 Q791.502 36.0368 791.502 45.1919 L791.502 72.576 L784.008 72.576 L784.008 45.4349 Q784.008 38.913 781.699 35.7533 Q779.39 32.5936 774.65 32.5936 Q768.857 32.5936 765.495 36.4419 Q762.133 40.2903 762.133 46.9338 L762.133 72.576 L754.639 72.576 L754.639 45.4349 Q754.639 38.8725 752.33 35.7533 Q750.021 32.5936 745.2 32.5936 Q739.488 32.5936 736.126 36.4824 Q732.764 40.3308 732.764 46.9338 L732.764 72.576 L725.27 72.576 L725.27 27.2059 L732.764 27.2059 L732.764 34.2544 Q735.316 30.082 738.881 28.0971 Q742.445 26.1121 747.347 26.1121 Q752.289 26.1121 755.732 28.6237 Q759.216 31.1352 760.877 35.9153 Z\" fill=\"#000000\" fill-rule=\"evenodd\" fill-opacity=\"1\" /><path clip-path=\"url(#clip770)\" d=\"M805.599 54.671 L805.599 27.2059 L813.053 27.2059 L813.053 54.3874 Q813.053 60.8284 815.564 64.0691 Q818.076 67.2693 823.099 67.2693 Q829.135 67.2693 832.618 63.421 Q836.143 59.5726 836.143 52.9291 L836.143 27.2059 L843.596 27.2059 L843.596 72.576 L836.143 72.576 L836.143 65.6084 Q833.429 69.7404 829.823 71.7658 Q826.259 73.7508 821.519 73.7508 Q813.701 73.7508 809.65 68.8897 Q805.599 64.0286 805.599 54.671 M824.355 26.1121 L824.355 26.1121 Z\" fill=\"#000000\" fill-rule=\"evenodd\" fill-opacity=\"1\" /><path clip-path=\"url(#clip770)\" d=\"M858.949 9.54393 L866.403 9.54393 L866.403 72.576 L858.949 72.576 L858.949 9.54393 Z\" fill=\"#000000\" fill-rule=\"evenodd\" fill-opacity=\"1\" /><path clip-path=\"url(#clip770)\" d=\"M902.618 49.7694 Q893.585 49.7694 890.101 51.8354 Q886.617 53.9013 886.617 58.8839 Q886.617 62.8538 889.21 65.2034 Q891.843 67.5124 896.339 67.5124 Q902.537 67.5124 906.264 63.1374 Q910.031 58.7219 910.031 51.4303 L910.031 49.7694 L902.618 49.7694 M917.485 46.6907 L917.485 72.576 L910.031 72.576 L910.031 65.6895 Q907.479 69.8214 903.671 71.8063 Q899.864 73.7508 894.354 73.7508 Q887.387 73.7508 883.255 69.8619 Q879.163 65.9325 879.163 59.3701 Q879.163 51.7138 884.268 47.825 Q889.412 43.9361 899.58 43.9361 L910.031 43.9361 L910.031 43.2069 Q910.031 38.0623 906.629 35.2672 Q903.266 32.4315 897.149 32.4315 Q893.261 32.4315 889.574 33.3632 Q885.888 34.295 882.485 36.1584 L882.485 29.2718 Q886.577 27.692 890.425 26.9223 Q894.273 26.1121 897.919 26.1121 Q907.763 26.1121 912.624 31.2163 Q917.485 36.3204 917.485 46.6907 Z\" fill=\"#000000\" fill-rule=\"evenodd\" fill-opacity=\"1\" /><path clip-path=\"url(#clip770)\" d=\"M940.211 14.324 L940.211 27.2059 L955.563 27.2059 L955.563 32.9987 L940.211 32.9987 L940.211 57.6282 Q940.211 63.1779 941.709 64.7578 Q943.249 66.3376 947.907 66.3376 L955.563 66.3376 L955.563 72.576 L947.907 72.576 Q939.279 72.576 935.998 69.3758 Q932.716 66.1351 932.716 57.6282 L932.716 32.9987 L927.248 32.9987 L927.248 27.2059 L932.716 27.2059 L932.716 14.324 L940.211 14.324 Z\" fill=\"#000000\" fill-rule=\"evenodd\" fill-opacity=\"1\" /><path clip-path=\"url(#clip770)\" d=\"M1004.17 48.0275 L1004.17 51.6733 L969.904 51.6733 Q970.39 59.3701 974.522 63.421 Q978.694 67.4314 986.107 67.4314 Q990.401 67.4314 994.412 66.3781 Q998.463 65.3249 1002.43 63.2184 L1002.43 70.267 Q998.422 71.9684 994.209 72.8596 Q989.996 73.7508 985.662 73.7508 Q974.805 73.7508 968.445 67.4314 Q962.126 61.1119 962.126 50.3365 Q962.126 39.1965 968.121 32.6746 Q974.157 26.1121 984.365 26.1121 Q993.52 26.1121 998.827 32.0264 Q1004.17 37.9003 1004.17 48.0275 M996.721 45.84 Q996.64 39.7232 993.277 36.0774 Q989.956 32.4315 984.446 32.4315 Q978.208 32.4315 974.441 35.9558 Q970.714 39.4801 970.147 45.8805 L996.721 45.84 Z\" fill=\"#000000\" fill-rule=\"evenodd\" fill-opacity=\"1\" /><path clip-path=\"url(#clip770)\" d=\"M1046.26 34.0924 L1046.26 9.54393 L1053.72 9.54393 L1053.72 72.576 L1046.26 72.576 L1046.26 65.7705 Q1043.91 69.8214 1040.31 71.8063 Q1036.74 73.7508 1031.72 73.7508 Q1023.5 73.7508 1018.31 67.1883 Q1013.17 60.6258 1013.17 49.9314 Q1013.17 39.2371 1018.31 32.6746 Q1023.5 26.1121 1031.72 26.1121 Q1036.74 26.1121 1040.31 28.0971 Q1043.91 30.0415 1046.26 34.0924 M1020.86 49.9314 Q1020.86 58.1548 1024.23 62.8538 Q1027.63 67.5124 1033.54 67.5124 Q1039.46 67.5124 1042.86 62.8538 Q1046.26 58.1548 1046.26 49.9314 Q1046.26 41.7081 1042.86 37.0496 Q1039.46 32.3505 1033.54 32.3505 Q1027.63 32.3505 1024.23 37.0496 Q1020.86 41.7081 1020.86 49.9314 Z\" fill=\"#000000\" fill-rule=\"evenodd\" fill-opacity=\"1\" /><path clip-path=\"url(#clip770)\" d=\"M1103.95 18.8205 L1103.95 65.8515 L1113.83 65.8515 Q1126.35 65.8515 1132.14 60.1802 Q1137.98 54.509 1137.98 42.2752 Q1137.98 30.1225 1132.14 24.4918 Q1126.35 18.8205 1113.83 18.8205 L1103.95 18.8205 M1095.77 12.096 L1112.58 12.096 Q1130.16 12.096 1138.38 19.4281 Q1146.6 26.7198 1146.6 42.2752 Q1146.6 57.9117 1138.34 65.2439 Q1130.08 72.576 1112.58 72.576 L1095.77 72.576 L1095.77 12.096 Z\" fill=\"#000000\" fill-rule=\"evenodd\" fill-opacity=\"1\" /><path clip-path=\"url(#clip770)\" d=\"M1180.35 27.2059 L1188.25 27.2059 L1202.43 65.2844 L1216.6 27.2059 L1224.5 27.2059 L1207.49 72.576 L1197.36 72.576 L1180.35 27.2059 Z\" fill=\"#000000\" fill-rule=\"evenodd\" fill-opacity=\"1\" /><path clip-path=\"url(#clip770)\" d=\"M1255.41 49.7694 Q1246.38 49.7694 1242.89 51.8354 Q1239.41 53.9013 1239.41 58.8839 Q1239.41 62.8538 1242 65.2034 Q1244.64 67.5124 1249.13 67.5124 Q1255.33 67.5124 1259.06 63.1374 Q1262.82 58.7219 1262.82 51.4303 L1262.82 49.7694 L1255.41 49.7694 M1270.28 46.6907 L1270.28 72.576 L1262.82 72.576 L1262.82 65.6895 Q1260.27 69.8214 1256.46 71.8063 Q1252.66 73.7508 1247.15 73.7508 Q1240.18 73.7508 1236.05 69.8619 Q1231.96 65.9325 1231.96 59.3701 Q1231.96 51.7138 1237.06 47.825 Q1242.21 43.9361 1252.37 43.9361 L1262.82 43.9361 L1262.82 43.2069 Q1262.82 38.0623 1259.42 35.2672 Q1256.06 32.4315 1249.94 32.4315 Q1246.05 32.4315 1242.37 33.3632 Q1238.68 34.295 1235.28 36.1584 L1235.28 29.2718 Q1239.37 27.692 1243.22 26.9223 Q1247.07 26.1121 1250.71 26.1121 Q1260.56 26.1121 1265.42 31.2163 Q1270.28 36.3204 1270.28 46.6907 Z\" fill=\"#000000\" fill-rule=\"evenodd\" fill-opacity=\"1\" /><path clip-path=\"url(#clip770)\" d=\"M1285.63 9.54393 L1293.08 9.54393 L1293.08 72.576 L1285.63 72.576 L1285.63 9.54393 Z\" fill=\"#000000\" fill-rule=\"evenodd\" fill-opacity=\"1\" /><path clip-path=\"url(#clip770)\" d=\"M1307.91 54.671 L1307.91 27.2059 L1315.36 27.2059 L1315.36 54.3874 Q1315.36 60.8284 1317.88 64.0691 Q1320.39 67.2693 1325.41 67.2693 Q1331.45 67.2693 1334.93 63.421 Q1338.45 59.5726 1338.45 52.9291 L1338.45 27.2059 L1345.91 27.2059 L1345.91 72.576 L1338.45 72.576 L1338.45 65.6084 Q1335.74 69.7404 1332.14 71.7658 Q1328.57 73.7508 1323.83 73.7508 Q1316.01 73.7508 1311.96 68.8897 Q1307.91 64.0286 1307.91 54.671 M1326.67 26.1121 L1326.67 26.1121 Z\" fill=\"#000000\" fill-rule=\"evenodd\" fill-opacity=\"1\" /><path clip-path=\"url(#clip770)\" d=\"M1400.07 48.0275 L1400.07 51.6733 L1365.8 51.6733 Q1366.28 59.3701 1370.42 63.421 Q1374.59 67.4314 1382 67.4314 Q1386.3 67.4314 1390.31 66.3781 Q1394.36 65.3249 1398.33 63.2184 L1398.33 70.267 Q1394.32 71.9684 1390.1 72.8596 Q1385.89 73.7508 1381.56 73.7508 Q1370.7 73.7508 1364.34 67.4314 Q1358.02 61.1119 1358.02 50.3365 Q1358.02 39.1965 1364.02 32.6746 Q1370.05 26.1121 1380.26 26.1121 Q1389.42 26.1121 1394.72 32.0264 Q1400.07 37.9003 1400.07 48.0275 M1392.62 45.84 Q1392.53 39.7232 1389.17 36.0774 Q1385.85 32.4315 1380.34 32.4315 Q1374.1 32.4315 1370.34 35.9558 Q1366.61 39.4801 1366.04 45.8805 L1392.62 45.84 Z\" fill=\"#000000\" fill-rule=\"evenodd\" fill-opacity=\"1\" /><path clip-path=\"url(#clip770)\" d=\"M1441.23 28.5427 L1441.23 35.5912 Q1438.07 33.9709 1434.66 33.1607 Q1431.26 32.3505 1427.62 32.3505 Q1422.07 32.3505 1419.27 34.0519 Q1416.52 35.7533 1416.52 39.156 Q1416.52 41.7486 1418.5 43.2475 Q1420.49 44.7058 1426.48 46.0426 L1429.03 46.6097 Q1436.97 48.3111 1440.29 51.4303 Q1443.66 54.509 1443.66 60.0587 Q1443.66 66.3781 1438.63 70.0644 Q1433.65 73.7508 1424.9 73.7508 Q1421.26 73.7508 1417.29 73.0216 Q1413.36 72.3329 1408.98 70.9151 L1408.98 63.2184 Q1413.11 65.3654 1417.12 66.4591 Q1421.13 67.5124 1425.06 67.5124 Q1430.33 67.5124 1433.17 65.73 Q1436 63.9071 1436 60.6258 Q1436 57.5877 1433.93 55.9673 Q1431.91 54.3469 1424.98 52.8481 L1422.39 52.2405 Q1415.46 50.7821 1412.38 47.7845 Q1409.31 44.7463 1409.31 39.4801 Q1409.31 33.0797 1413.84 29.5959 Q1418.38 26.1121 1426.72 26.1121 Q1430.86 26.1121 1434.5 26.7198 Q1438.15 27.3274 1441.23 28.5427 Z\" fill=\"#000000\" fill-rule=\"evenodd\" fill-opacity=\"1\" /><path clip-path=\"url(#clip770)\" d=\"M1514.47 49.9314 Q1514.47 41.7081 1511.06 37.0496 Q1507.7 32.3505 1501.79 32.3505 Q1495.87 32.3505 1492.47 37.0496 Q1489.11 41.7081 1489.11 49.9314 Q1489.11 58.1548 1492.47 62.8538 Q1495.87 67.5124 1501.79 67.5124 Q1507.7 67.5124 1511.06 62.8538 Q1514.47 58.1548 1514.47 49.9314 M1489.11 34.0924 Q1491.46 30.0415 1495.02 28.0971 Q1498.63 26.1121 1503.61 26.1121 Q1511.87 26.1121 1517.02 32.6746 Q1522.2 39.2371 1522.2 49.9314 Q1522.2 60.6258 1517.02 67.1883 Q1511.87 73.7508 1503.61 73.7508 Q1498.63 73.7508 1495.02 71.8063 Q1491.46 69.8214 1489.11 65.7705 L1489.11 72.576 L1481.61 72.576 L1481.61 9.54393 L1489.11 9.54393 L1489.11 34.0924 Z\" fill=\"#000000\" fill-rule=\"evenodd\" fill-opacity=\"1\" /><path clip-path=\"url(#clip770)\" d=\"M1553.44 76.7889 Q1550.28 84.8907 1547.28 87.3618 Q1544.28 89.8329 1539.26 89.8329 L1533.3 89.8329 L1533.3 83.5945 L1537.68 83.5945 Q1540.76 83.5945 1542.46 82.1361 Q1544.16 80.6778 1546.23 75.2496 L1547.56 71.8468 L1529.21 27.2059 L1537.11 27.2059 L1551.29 62.6918 L1565.47 27.2059 L1573.37 27.2059 L1553.44 76.7889 Z\" fill=\"#000000\" fill-rule=\"evenodd\" fill-opacity=\"1\" /><path clip-path=\"url(#clip770)\" d=\"M1617.4 14.324 L1617.4 27.2059 L1632.75 27.2059 L1632.75 32.9987 L1617.4 32.9987 L1617.4 57.6282 Q1617.4 63.1779 1618.9 64.7578 Q1620.44 66.3376 1625.1 66.3376 L1632.75 66.3376 L1632.75 72.576 L1625.1 72.576 Q1616.47 72.576 1613.19 69.3758 Q1609.91 66.1351 1609.91 57.6282 L1609.91 32.9987 L1604.44 32.9987 L1604.44 27.2059 L1609.91 27.2059 L1609.91 14.324 L1617.4 14.324 Z\" fill=\"#000000\" fill-rule=\"evenodd\" fill-opacity=\"1\" /><path clip-path=\"url(#clip770)\" d=\"M1680.27 45.1919 L1680.27 72.576 L1672.82 72.576 L1672.82 45.4349 Q1672.82 38.994 1670.3 35.7938 Q1667.79 32.5936 1662.77 32.5936 Q1656.73 32.5936 1653.25 36.4419 Q1649.77 40.2903 1649.77 46.9338 L1649.77 72.576 L1642.27 72.576 L1642.27 9.54393 L1649.77 9.54393 L1649.77 34.2544 Q1652.44 30.163 1656.05 28.1376 Q1659.69 26.1121 1664.43 26.1121 Q1672.25 26.1121 1676.26 30.9732 Q1680.27 35.7938 1680.27 45.1919 Z\" fill=\"#000000\" fill-rule=\"evenodd\" fill-opacity=\"1\" /><path clip-path=\"url(#clip770)\" d=\"M1733.94 48.0275 L1733.94 51.6733 L1699.67 51.6733 Q1700.16 59.3701 1704.29 63.421 Q1708.46 67.4314 1715.88 67.4314 Q1720.17 67.4314 1724.18 66.3781 Q1728.23 65.3249 1732.2 63.2184 L1732.2 70.267 Q1728.19 71.9684 1723.98 72.8596 Q1719.77 73.7508 1715.43 73.7508 Q1704.58 73.7508 1698.22 67.4314 Q1691.9 61.1119 1691.9 50.3365 Q1691.9 39.1965 1697.89 32.6746 Q1703.93 26.1121 1714.14 26.1121 Q1723.29 26.1121 1728.6 32.0264 Q1733.94 37.9003 1733.94 48.0275 M1726.49 45.84 Q1726.41 39.7232 1723.05 36.0774 Q1719.73 32.4315 1714.22 32.4315 Q1707.98 32.4315 1704.21 35.9558 Q1700.48 39.4801 1699.92 45.8805 L1726.49 45.84 Z\" fill=\"#000000\" fill-rule=\"evenodd\" fill-opacity=\"1\" /><path clip-path=\"url(#clip770)\" d=\"M1772.87 12.096 L1783.89 12.096 L1810.71 62.6918 L1810.71 12.096 L1818.65 12.096 L1818.65 72.576 L1807.63 72.576 L1780.81 21.9802 L1780.81 72.576 L1772.87 72.576 L1772.87 12.096 Z\" fill=\"#000000\" fill-rule=\"evenodd\" fill-opacity=\"1\" /><path clip-path=\"url(#clip770)\" d=\"M1834.93 12.096 L1845.95 12.096 L1872.77 62.6918 L1872.77 12.096 L1880.71 12.096 L1880.71 72.576 L1869.69 72.576 L1842.87 21.9802 L1842.87 72.576 L1834.93 72.576 L1834.93 12.096 Z\" fill=\"#000000\" fill-rule=\"evenodd\" fill-opacity=\"1\" /><polyline clip-path=\"url(#clip772)\" style=\"stroke:#009af9; stroke-linecap:butt; stroke-linejoin:round; stroke-width:4; stroke-opacity:1; fill:none\" points=\"\n",
       "  237.067,1229.29 239.123,1228.72 241.179,1228.16 243.236,1227.6 245.292,1227.05 247.348,1226.5 249.404,1225.95 251.46,1225.41 253.516,1224.88 255.572,1224.34 \n",
       "  257.628,1223.81 259.685,1223.29 261.741,1222.77 263.797,1222.25 265.853,1221.74 267.909,1221.23 269.965,1220.72 272.021,1220.22 274.077,1219.72 276.134,1219.23 \n",
       "  278.19,1218.74 280.246,1218.25 282.302,1217.77 284.358,1217.29 286.414,1216.81 288.47,1216.34 290.526,1215.87 292.583,1215.41 294.639,1214.95 296.695,1214.49 \n",
       "  298.751,1214.04 300.807,1213.59 302.863,1213.14 304.919,1212.7 306.975,1212.26 309.032,1211.82 311.088,1211.39 313.144,1210.96 315.2,1210.53 317.256,1210.11 \n",
       "  319.312,1209.69 321.368,1209.28 323.424,1208.86 325.48,1208.45 327.537,1208.05 329.593,1207.64 331.649,1207.24 333.705,1206.85 335.761,1206.45 337.817,1206.06 \n",
       "  339.873,1205.68 341.929,1205.29 343.986,1204.91 346.042,1204.53 348.098,1204.16 350.154,1203.78 352.21,1203.42 354.266,1203.05 356.322,1202.69 358.378,1202.32 \n",
       "  360.435,1201.97 362.491,1201.61 364.547,1201.26 366.603,1200.91 368.659,1200.56 370.715,1200.22 372.771,1199.88 374.827,1199.54 376.884,1199.21 378.94,1198.87 \n",
       "  380.996,1198.54 383.052,1198.22 385.108,1197.89 387.164,1197.57 389.22,1197.25 391.276,1196.93 393.333,1196.62 395.389,1196.31 397.445,1196 399.501,1195.69 \n",
       "  401.557,1195.39 403.613,1195.08 405.669,1194.78 407.725,1194.49 409.782,1194.19 411.838,1193.9 413.894,1193.61 415.95,1193.32 418.006,1193.04 420.062,1192.75 \n",
       "  422.118,1192.47 424.174,1192.2 426.231,1191.92 428.287,1191.65 430.343,1191.37 432.399,1191.1 434.455,1190.84 436.511,1190.57 438.567,1190.31 440.623,1190.05 \n",
       "  442.679,1189.79 444.736,1189.53 446.792,1189.28 448.848,1189.03 450.904,1188.78 452.96,1188.53 455.016,1188.28 457.072,1188.04 459.128,1187.79 461.185,1187.55 \n",
       "  463.241,1187.32 465.297,1187.08 467.353,1186.84 469.409,1186.61 471.465,1186.38 473.521,1186.15 475.577,1185.92 477.634,1185.7 479.69,1185.48 481.746,1185.25 \n",
       "  483.802,1185.03 485.858,1184.82 487.914,1184.6 489.97,1184.39 492.026,1184.17 494.083,1183.96 496.139,1183.75 498.195,1183.55 500.251,1183.34 502.307,1183.14 \n",
       "  504.363,1182.93 506.419,1182.73 508.475,1182.53 510.532,1182.34 512.588,1182.14 514.644,1181.95 516.7,1181.75 518.756,1181.56 520.812,1181.37 522.868,1181.18 \n",
       "  524.924,1181 526.981,1180.81 529.037,1180.63 531.093,1180.45 533.149,1180.26 535.205,1180.09 537.261,1179.91 539.317,1179.73 541.373,1179.56 543.43,1179.38 \n",
       "  545.486,1179.21 547.542,1179.04 549.598,1178.87 551.654,1178.7 553.71,1178.54 555.766,1178.37 557.822,1178.21 559.878,1178.04 561.935,1177.88 563.991,1177.72 \n",
       "  566.047,1177.56 568.103,1177.41 570.159,1177.25 572.215,1177.09 574.271,1176.94 576.327,1176.79 578.384,1176.64 580.44,1176.49 582.496,1176.34 584.552,1176.19 \n",
       "  586.608,1176.04 588.664,1175.9 590.72,1175.75 592.776,1175.61 594.833,1175.47 596.889,1175.33 598.945,1175.19 601.001,1175.05 603.057,1174.91 605.113,1174.77 \n",
       "  607.169,1174.64 609.225,1174.5 611.282,1174.37 613.338,1174.24 615.394,1174.11 617.45,1173.98 619.506,1173.85 621.562,1173.72 623.618,1173.59 625.674,1173.47 \n",
       "  627.731,1173.34 629.787,1173.22 631.843,1173.09 633.899,1172.97 635.955,1172.85 638.011,1172.73 640.067,1172.61 642.123,1172.49 644.18,1172.37 646.236,1172.26 \n",
       "  648.292,1172.14 650.348,1172.03 652.404,1171.91 654.46,1171.8 656.516,1171.69 658.572,1171.57 660.629,1171.46 662.685,1171.35 664.741,1171.25 666.797,1171.14 \n",
       "  668.853,1171.03 670.909,1170.92 672.965,1170.82 675.021,1170.71 677.077,1170.61 679.134,1170.51 681.19,1170.4 683.246,1170.3 685.302,1170.2 687.358,1170.1 \n",
       "  689.414,1170 691.47,1169.9 693.526,1169.8 695.583,1169.71 697.639,1169.61 699.695,1169.51 701.751,1169.42 703.807,1169.32 705.863,1169.23 707.919,1169.14 \n",
       "  709.975,1169.05 712.032,1168.95 714.088,1168.86 716.144,1168.77 718.2,1168.68 720.256,1168.59 722.312,1168.51 724.368,1168.42 726.424,1168.33 728.481,1168.24 \n",
       "  730.537,1168.16 732.593,1168.07 734.649,1167.99 736.705,1167.9 738.761,1167.82 740.817,1167.74 742.873,1167.66 744.93,1167.57 746.986,1167.49 749.042,1167.41 \n",
       "  751.098,1167.33 753.154,1167.25 755.21,1167.18 757.266,1167.1 759.322,1167.02 761.379,1166.94 763.435,1166.87 765.491,1166.79 767.547,1166.71 769.603,1166.64 \n",
       "  771.659,1166.57 773.715,1166.49 775.771,1166.42 777.828,1166.35 779.884,1166.27 781.94,1166.2 783.996,1166.13 786.052,1166.06 788.108,1165.99 790.164,1165.92 \n",
       "  792.22,1165.85 794.276,1165.78 796.333,1165.71 798.389,1165.64 800.445,1165.58 802.501,1165.51 804.557,1165.44 806.613,1165.38 808.669,1165.31 810.725,1165.25 \n",
       "  812.782,1165.18 814.838,1165.12 816.894,1165.05 818.95,1164.99 821.006,1164.93 823.062,1164.86 825.118,1164.8 827.174,1164.74 829.231,1164.68 831.287,1164.62 \n",
       "  833.343,1164.56 835.399,1164.49 837.455,1164.43 839.511,1164.38 841.567,1164.32 843.623,1164.26 845.68,1164.2 847.736,1164.14 849.792,1164.08 851.848,1164.03 \n",
       "  853.904,1163.97 855.96,1163.91 858.016,1163.86 860.072,1163.8 862.129,1163.75 864.185,1163.69 866.241,1163.64 868.297,1163.58 870.353,1163.53 872.409,1163.47 \n",
       "  874.465,1163.42 876.521,1163.37 878.578,1163.31 880.634,1163.26 882.69,1163.21 884.746,1163.16 886.802,1163.11 888.858,1163.05 890.914,1163 892.97,1162.95 \n",
       "  895.027,1162.9 897.083,1162.85 899.139,1162.8 901.195,1162.75 903.251,1162.7 905.307,1162.66 907.363,1162.61 909.419,1162.56 911.475,1162.51 913.532,1162.46 \n",
       "  915.588,1162.42 917.644,1162.37 919.7,1162.32 921.756,1162.28 923.812,1162.23 925.868,1162.18 927.924,1162.14 929.981,1162.09 932.037,1162.05 934.093,1162 \n",
       "  936.149,1161.96 938.205,1161.91 940.261,1161.87 942.317,1161.83 944.373,1161.78 946.43,1161.74 948.486,1161.7 950.542,1161.65 952.598,1161.61 954.654,1161.57 \n",
       "  956.71,1161.53 958.766,1161.48 960.822,1161.44 962.879,1161.4 964.935,1161.36 966.991,1161.32 969.047,1161.28 971.103,1161.24 973.159,1161.2 975.215,1161.16 \n",
       "  977.271,1161.12 979.328,1161.08 981.384,1161.04 983.44,1161 985.496,1160.96 987.552,1160.92 989.608,1160.88 991.664,1160.84 993.72,1160.8 995.777,1160.77 \n",
       "  997.833,1160.73 999.889,1160.69 1001.94,1160.65 1004,1160.62 1006.06,1160.58 1008.11,1160.54 1010.17,1160.51 1012.23,1160.47 1014.28,1160.43 1016.34,1160.4 \n",
       "  1018.39,1160.36 1020.45,1160.32 1022.51,1160.29 1024.56,1160.25 1026.62,1160.22 1028.67,1160.18 1030.73,1160.15 1032.79,1160.11 1034.84,1160.08 1036.9,1160.04 \n",
       "  1038.96,1160.01 1041.01,1159.98 1043.07,1159.94 1045.12,1159.91 1047.18,1159.88 1049.24,1159.84 1051.29,1159.81 1053.35,1159.78 1055.4,1159.74 1057.46,1159.71 \n",
       "  1059.52,1159.68 1061.57,1159.65 1063.63,1159.61 1065.68,1159.58 1067.74,1159.55 1069.8,1159.52 1071.85,1159.49 1073.91,1159.45 1075.97,1159.42 1078.02,1159.39 \n",
       "  1080.08,1159.36 1082.13,1159.33 1084.19,1159.3 1086.25,1159.27 1088.3,1159.24 1090.36,1159.21 1092.41,1159.18 1094.47,1159.15 1096.53,1159.12 1098.58,1159.09 \n",
       "  1100.64,1159.06 1102.69,1159.03 1104.75,1159 1106.81,1158.97 1108.86,1158.94 1110.92,1158.91 1112.98,1158.88 1115.03,1158.85 1117.09,1158.82 1119.14,1158.8 \n",
       "  1121.2,1158.77 1123.26,1158.74 1125.31,1158.71 1127.37,1158.68 1129.42,1158.65 1131.48,1158.63 1133.54,1158.6 1135.59,1158.57 1137.65,1158.54 1139.71,1158.52 \n",
       "  1141.76,1158.49 1143.82,1158.46 1145.87,1158.44 1147.93,1158.41 1149.99,1158.38 1152.04,1158.36 1154.1,1158.33 1156.15,1158.3 1158.21,1158.28 1160.27,1158.25 \n",
       "  1162.32,1158.22 1164.38,1158.2 1166.43,1158.17 1168.49,1158.15 1170.55,1158.12 1172.6,1158.09 1174.66,1158.07 1176.72,1158.04 1178.77,1158.02 1180.83,1157.99 \n",
       "  1182.88,1157.97 1184.94,1157.94 1187,1157.92 1189.05,1157.89 1191.11,1157.87 1193.16,1157.84 1195.22,1157.82 1197.28,1157.79 1199.33,1157.77 1201.39,1157.75 \n",
       "  1203.44,1157.72 1205.5,1157.7 1207.56,1157.67 1209.61,1157.65 1211.67,1157.63 1213.73,1157.6 1215.78,1157.58 1217.84,1157.55 1219.89,1157.53 1221.95,1157.51 \n",
       "  1224.01,1157.48 1226.06,1157.46 1228.12,1157.44 1230.17,1157.42 1232.23,1157.39 1234.29,1157.37 1236.34,1157.35 1238.4,1157.32 1240.46,1157.3 1242.51,1157.28 \n",
       "  1244.57,1157.26 1246.62,1157.23 1248.68,1157.21 1250.74,1157.19 1252.79,1157.17 1254.85,1157.14 1256.9,1157.12 1258.96,1157.1 1261.02,1157.08 1263.07,1157.06 \n",
       "  1265.13,1157.04 1267.18,1157.01 1269.24,1156.99 1271.3,1156.97 1273.35,1156.95 1275.41,1156.93 1277.47,1156.91 1279.52,1156.89 1281.58,1156.86 1283.63,1156.84 \n",
       "  1285.69,1156.82 1287.75,1156.8 1289.8,1156.78 1291.86,1156.76 1293.91,1156.74 1295.97,1156.72 1298.03,1156.7 1300.08,1156.68 1302.14,1156.66 1304.19,1156.64 \n",
       "  1306.25,1156.62 1308.31,1156.6 1310.36,1156.58 1312.42,1156.56 1314.48,1156.54 1316.53,1156.52 1318.59,1156.5 1320.64,1156.48 1322.7,1156.46 1324.76,1156.44 \n",
       "  1326.81,1156.42 1328.87,1156.4 1330.92,1156.38 1332.98,1156.36 1335.04,1156.34 1337.09,1156.32 1339.15,1156.3 1341.21,1156.28 1343.26,1156.26 1345.32,1156.24 \n",
       "  1347.37,1156.22 1349.43,1156.2 1351.49,1156.18 1353.54,1156.17 1355.6,1156.15 1357.65,1156.13 1359.71,1156.11 1361.77,1156.09 1363.82,1156.07 1365.88,1156.05 \n",
       "  1367.93,1156.03 1369.99,1156.02 1372.05,1156 1374.1,1155.98 1376.16,1155.96 1378.22,1155.94 1380.27,1155.92 1382.33,1155.91 1384.38,1155.89 1386.44,1155.87 \n",
       "  1388.5,1155.85 1390.55,1155.83 1392.61,1155.82 1394.66,1155.8 1396.72,1155.78 1398.78,1155.76 1400.83,1155.74 1402.89,1155.73 1404.94,1155.71 1407,1155.69 \n",
       "  1409.06,1155.67 1411.11,1155.66 1413.17,1155.64 1415.23,1155.62 1417.28,1155.6 1419.34,1155.59 1421.39,1155.57 1423.45,1155.55 1425.51,1155.54 1427.56,1155.52 \n",
       "  1429.62,1155.5 1431.67,1155.48 1433.73,1155.47 1435.79,1155.45 1437.84,1155.43 1439.9,1155.42 1441.96,1155.4 1444.01,1155.38 1446.07,1155.37 1448.12,1155.35 \n",
       "  1450.18,1155.33 1452.24,1155.32 1454.29,1155.3 1456.35,1155.28 1458.4,1155.27 1460.46,1155.25 1462.52,1155.23 1464.57,1155.22 1466.63,1155.2 1468.68,1155.19 \n",
       "  1470.74,1155.17 1472.8,1155.15 1474.85,1155.14 1476.91,1155.12 1478.97,1155.1 1481.02,1155.09 1483.08,1155.07 1485.13,1155.06 1487.19,1155.04 1489.25,1155.02 \n",
       "  1491.3,1155.01 1493.36,1154.99 1495.41,1154.98 1497.47,1154.96 1499.53,1154.95 1501.58,1154.93 1503.64,1154.91 1505.69,1154.9 1507.75,1154.88 1509.81,1154.87 \n",
       "  1511.86,1154.85 1513.92,1154.84 1515.98,1154.82 1518.03,1154.81 1520.09,1154.79 1522.14,1154.78 1524.2,1154.76 1526.26,1154.75 1528.31,1154.73 1530.37,1154.72 \n",
       "  1532.42,1154.7 1534.48,1154.69 1536.54,1154.67 1538.59,1154.66 1540.65,1154.64 1542.71,1154.63 1544.76,1154.61 1546.82,1154.6 1548.87,1154.58 1550.93,1154.57 \n",
       "  1552.99,1154.55 1555.04,1154.54 1557.1,1154.52 1559.15,1154.51 1561.21,1154.49 1563.27,1154.48 1565.32,1154.46 1567.38,1154.45 1569.43,1154.43 1571.49,1154.42 \n",
       "  1573.55,1154.41 1575.6,1154.39 1577.66,1154.38 1579.72,1154.36 1581.77,1154.35 1583.83,1154.33 1585.88,1154.32 1587.94,1154.31 1590,1154.29 1592.05,1154.28 \n",
       "  1594.11,1154.26 1596.16,1154.25 1598.22,1154.23 1600.28,1154.22 1602.33,1154.21 1604.39,1154.19 1606.45,1154.18 1608.5,1154.16 1610.56,1154.15 1612.61,1154.14 \n",
       "  1614.67,1154.12 1616.73,1154.11 1618.78,1154.1 1620.84,1154.08 1622.89,1154.07 1624.95,1154.05 1627.01,1154.04 1629.06,1154.03 1631.12,1154.01 1633.17,1154 \n",
       "  1635.23,1153.99 1637.29,1153.97 1639.34,1153.96 1641.4,1153.95 1643.46,1153.93 1645.51,1153.92 1647.57,1153.91 1649.62,1153.89 1651.68,1153.88 1653.74,1153.86 \n",
       "  1655.79,1153.85 1657.85,1153.84 1659.9,1153.83 1661.96,1153.81 1664.02,1153.8 1666.07,1153.79 1668.13,1153.77 1670.18,1153.76 1672.24,1153.75 1674.3,1153.73 \n",
       "  1676.35,1153.72 1678.41,1153.71 1680.47,1153.69 1682.52,1153.68 1684.58,1153.67 1686.63,1153.66 1688.69,1153.64 1690.75,1153.63 1692.8,1153.62 1694.86,1153.6 \n",
       "  1696.91,1153.59 1698.97,1153.58 1701.03,1153.57 1703.08,1153.55 1705.14,1153.54 1707.2,1153.53 1709.25,1153.51 1711.31,1153.5 1713.36,1153.49 1715.42,1153.48 \n",
       "  1717.48,1153.46 1719.53,1153.45 1721.59,1153.44 1723.64,1153.43 1725.7,1153.41 1727.76,1153.4 1729.81,1153.39 1731.87,1153.38 1733.92,1153.36 1735.98,1153.35 \n",
       "  1738.04,1153.34 1740.09,1153.33 1742.15,1153.32 1744.21,1153.3 1746.26,1153.29 1748.32,1153.28 1750.37,1153.27 1752.43,1153.25 1754.49,1153.24 1756.54,1153.23 \n",
       "  1758.6,1153.22 1760.65,1153.21 1762.71,1153.19 1764.77,1153.18 1766.82,1153.17 1768.88,1153.16 1770.93,1153.15 1772.99,1153.13 1775.05,1153.12 1777.1,1153.11 \n",
       "  1779.16,1153.1 1781.22,1153.09 1783.27,1153.07 1785.33,1153.06 1787.38,1153.05 1789.44,1153.04 1791.5,1153.03 1793.55,1153.02 1795.61,1153 1797.66,1152.99 \n",
       "  1799.72,1152.98 1801.78,1152.97 1803.83,1152.96 1805.89,1152.95 1807.95,1152.93 1810,1152.92 1812.06,1152.91 1814.11,1152.9 1816.17,1152.89 1818.23,1152.88 \n",
       "  1820.28,1152.86 1822.34,1152.85 1824.39,1152.84 1826.45,1152.83 1828.51,1152.82 1830.56,1152.81 1832.62,1152.8 1834.67,1152.78 1836.73,1152.77 1838.79,1152.76 \n",
       "  1840.84,1152.75 1842.9,1152.74 1844.96,1152.73 1847.01,1152.72 1849.07,1152.71 1851.12,1152.69 1853.18,1152.68 1855.24,1152.67 1857.29,1152.66 1859.35,1152.65 \n",
       "  1861.4,1152.64 1863.46,1152.63 1865.52,1152.62 1867.57,1152.61 1869.63,1152.59 1871.68,1152.58 1873.74,1152.57 1875.8,1152.56 1877.85,1152.55 1879.91,1152.54 \n",
       "  1881.97,1152.53 1884.02,1152.52 1886.08,1152.51 1888.13,1152.5 1890.19,1152.48 1892.25,1152.47 1894.3,1152.46 1896.36,1152.45 1898.41,1152.44 1900.47,1152.43 \n",
       "  1902.53,1152.42 1904.58,1152.41 1906.64,1152.4 1908.7,1152.39 1910.75,1152.38 1912.81,1152.37 1914.86,1152.36 1916.92,1152.34 1918.98,1152.33 1921.03,1152.32 \n",
       "  1923.09,1152.31 1925.14,1152.3 1927.2,1152.29 1929.26,1152.28 1931.31,1152.27 1933.37,1152.26 1935.42,1152.25 1937.48,1152.24 1939.54,1152.23 1941.59,1152.22 \n",
       "  1943.65,1152.21 1945.71,1152.2 1947.76,1152.19 1949.82,1152.18 1951.87,1152.17 1953.93,1152.16 1955.99,1152.15 1958.04,1152.13 1960.1,1152.12 1962.15,1152.11 \n",
       "  1964.21,1152.1 1966.27,1152.09 1968.32,1152.08 1970.38,1152.07 1972.43,1152.06 1974.49,1152.05 1976.55,1152.04 1978.6,1152.03 1980.66,1152.02 1982.72,1152.01 \n",
       "  1984.77,1152 1986.83,1151.99 1988.88,1151.98 1990.94,1151.97 1993,1151.96 1995.05,1151.95 1997.11,1151.94 1999.16,1151.93 2001.22,1151.92 2003.28,1151.91 \n",
       "  2005.33,1151.9 2007.39,1151.89 2009.45,1151.88 2011.5,1151.87 2013.56,1151.86 2015.61,1151.85 2017.67,1151.84 2019.73,1151.83 2021.78,1151.82 2023.84,1151.81 \n",
       "  2025.89,1151.8 2027.95,1151.79 2030.01,1151.78 2032.06,1151.77 2034.12,1151.76 2036.17,1151.75 2038.23,1151.74 2040.29,1151.73 2042.34,1151.72 2044.4,1151.71 \n",
       "  2046.46,1151.7 2048.51,1151.7 2050.57,1151.69 2052.62,1151.68 2054.68,1151.67 2056.74,1151.66 2058.79,1151.65 2060.85,1151.64 2062.9,1151.63 2064.96,1151.62 \n",
       "  2067.02,1151.61 2069.07,1151.6 2071.13,1151.59 2073.18,1151.58 2075.24,1151.57 2077.3,1151.56 2079.35,1151.55 2081.41,1151.54 2083.47,1151.53 2085.52,1151.52 \n",
       "  2087.58,1151.51 2089.63,1151.5 2091.69,1151.5 2093.75,1151.49 2095.8,1151.48 2097.86,1151.47 2099.91,1151.46 2101.97,1151.45 2104.03,1151.44 2106.08,1151.43 \n",
       "  2108.14,1151.42 2110.2,1151.41 2112.25,1151.4 2114.31,1151.39 2116.36,1151.38 2118.42,1151.37 2120.48,1151.36 2122.53,1151.36 2124.59,1151.35 2126.64,1151.34 \n",
       "  2128.7,1151.33 2130.76,1151.32 2132.81,1151.31 2134.87,1151.3 2136.92,1151.29 2138.98,1151.28 2141.04,1151.27 2143.09,1151.26 2145.15,1151.26 2147.21,1151.25 \n",
       "  2149.26,1151.24 2151.32,1151.23 2153.37,1151.22 2155.43,1151.21 2157.49,1151.2 2159.54,1151.19 2161.6,1151.18 2163.65,1151.17 2165.71,1151.17 2167.77,1151.16 \n",
       "  2169.82,1151.15 2171.88,1151.14 2173.93,1151.13 2175.99,1151.12 2178.05,1151.11 2180.1,1151.1 2182.16,1151.09 2184.22,1151.09 2186.27,1151.08 2188.33,1151.07 \n",
       "  2190.38,1151.06 2192.44,1151.05 2194.5,1151.04 2196.55,1151.03 2198.61,1151.02 2200.66,1151.02 2202.72,1151.01 2204.78,1151 2206.83,1150.99 2208.89,1150.98 \n",
       "  2210.95,1150.97 2213,1150.96 2215.06,1150.95 2217.11,1150.95 2219.17,1150.94 2221.23,1150.93 2223.28,1150.92 2225.34,1150.91 2227.39,1150.9 2229.45,1150.89 \n",
       "  2231.51,1150.89 2233.56,1150.88 2235.62,1150.87 2237.67,1150.86 2239.73,1150.85 2241.79,1150.84 2243.84,1150.83 2245.9,1150.83 2247.96,1150.82 2250.01,1150.81 \n",
       "  2252.07,1150.8 2254.12,1150.79 2256.18,1150.78 2258.24,1150.78 2260.29,1150.77 2262.35,1150.76 2264.4,1150.75 2266.46,1150.74 2268.52,1150.73 2270.57,1150.73 \n",
       "  2272.63,1150.72 2274.68,1150.71 2276.74,1150.7 2278.8,1150.69 2280.85,1150.68 2282.91,1150.68 2284.97,1150.67 2287.02,1150.66 2289.08,1150.65 2291.13,1150.64 \n",
       "  \n",
       "  \"/>\n",
       "<polyline clip-path=\"url(#clip772)\" style=\"stroke:#e26f46; stroke-linecap:butt; stroke-linejoin:round; stroke-width:4; stroke-opacity:1; fill:none\" points=\"\n",
       "  237.067,1386.4 257.127,1386.4 442.607,1386.38 554.073,1386.29 648.316,1386 750.691,1385.2 845.071,1383.61 946.256,1380.38 1063.49,1373.47 1167.67,1362.99 \n",
       "  1259.03,1349.02 1358.64,1326.88 1458.84,1295.11 1514.23,1272.45 1569.62,1245.5 1622.32,1215.35 1675.02,1180.24 1729.82,1137.85 1784.62,1088.75 1830.75,1041.67 \n",
       "  1876.88,988.804 1933.2,915.675 1989.52,832.161 2042.46,743.231 2095.4,643.236 2137.81,554.481 2180.21,457.442 2222.62,351.551 2265.03,236.217 2271.55,217.59 \n",
       "  2278.08,198.722 2284.61,179.612 2291.13,160.256 \n",
       "  \"/>\n",
       "<path clip-path=\"url(#clip770)\" d=\"\n",
       "M1941.2 348.236 L2280.18 348.236 L2280.18 166.796 L1941.2 166.796  Z\n",
       "  \" fill=\"#ffffff\" fill-rule=\"evenodd\" fill-opacity=\"1\"/>\n",
       "<polyline clip-path=\"url(#clip770)\" style=\"stroke:#000000; stroke-linecap:butt; stroke-linejoin:round; stroke-width:4; stroke-opacity:1; fill:none\" points=\"\n",
       "  1941.2,348.236 2280.18,348.236 2280.18,166.796 1941.2,166.796 1941.2,348.236 \n",
       "  \"/>\n",
       "<polyline clip-path=\"url(#clip770)\" style=\"stroke:#009af9; stroke-linecap:butt; stroke-linejoin:round; stroke-width:4; stroke-opacity:1; fill:none\" points=\"\n",
       "  1965.39,227.276 2110.54,227.276 \n",
       "  \"/>\n",
       "<path clip-path=\"url(#clip770)\" d=\"M2134.73 209.996 L2141.03 209.996 L2156.35 238.908 L2156.35 209.996 L2160.89 209.996 L2160.89 244.556 L2154.6 244.556 L2139.27 215.644 L2139.27 244.556 L2134.73 244.556 L2134.73 209.996 Z\" fill=\"#000000\" fill-rule=\"evenodd\" fill-opacity=\"1\" /><path clip-path=\"url(#clip770)\" d=\"M2170.2 209.996 L2176.49 209.996 L2191.82 238.908 L2191.82 209.996 L2196.35 209.996 L2196.35 244.556 L2190.06 244.556 L2174.73 215.644 L2174.73 244.556 L2170.2 244.556 L2170.2 209.996 Z\" fill=\"#000000\" fill-rule=\"evenodd\" fill-opacity=\"1\" /><polyline clip-path=\"url(#clip770)\" style=\"stroke:#e26f46; stroke-linecap:butt; stroke-linejoin:round; stroke-width:4; stroke-opacity:1; fill:none\" points=\"\n",
       "  1965.39,287.756 2110.54,287.756 \n",
       "  \"/>\n",
       "<path clip-path=\"url(#clip770)\" d=\"M2151.24 269.017 L2151.24 272.559 L2147.17 272.559 Q2144.87 272.559 2143.97 273.485 Q2143.09 274.411 2143.09 276.818 L2143.09 279.11 L2150.1 279.11 L2150.1 282.42 L2143.09 282.42 L2143.09 305.036 L2138.81 305.036 L2138.81 282.42 L2134.73 282.42 L2134.73 279.11 L2138.81 279.11 L2138.81 277.304 Q2138.81 272.976 2140.82 271.008 Q2142.84 269.017 2147.21 269.017 L2151.24 269.017 Z\" fill=\"#000000\" fill-rule=\"evenodd\" fill-opacity=\"1\" /><path clip-path=\"url(#clip770)\" d=\"M2166.59 292.003 Q2161.42 292.003 2159.43 293.184 Q2157.44 294.364 2157.44 297.212 Q2157.44 299.48 2158.92 300.823 Q2160.43 302.142 2163 302.142 Q2166.54 302.142 2168.67 299.642 Q2170.82 297.119 2170.82 292.952 L2170.82 292.003 L2166.59 292.003 M2175.08 290.244 L2175.08 305.036 L2170.82 305.036 L2170.82 301.101 Q2169.36 303.462 2167.19 304.596 Q2165.01 305.707 2161.86 305.707 Q2157.88 305.707 2155.52 303.485 Q2153.18 301.239 2153.18 297.489 Q2153.18 293.114 2156.1 290.892 Q2159.04 288.67 2164.85 288.67 L2170.82 288.67 L2170.82 288.253 Q2170.82 285.314 2168.88 283.716 Q2166.96 282.096 2163.46 282.096 Q2161.24 282.096 2159.13 282.628 Q2157.03 283.161 2155.08 284.226 L2155.08 280.29 Q2157.42 279.388 2159.62 278.948 Q2161.82 278.485 2163.9 278.485 Q2169.53 278.485 2172.3 281.402 Q2175.08 284.318 2175.08 290.244 Z\" fill=\"#000000\" fill-rule=\"evenodd\" fill-opacity=\"1\" /><path clip-path=\"url(#clip770)\" d=\"M2183.69 269.017 L2187.97 269.017 L2187.97 290.29 L2200.68 279.11 L2206.12 279.11 L2192.37 291.239 L2206.7 305.036 L2201.15 305.036 L2187.97 292.374 L2187.97 305.036 L2183.69 305.036 L2183.69 269.017 Z\" fill=\"#000000\" fill-rule=\"evenodd\" fill-opacity=\"1\" /><path clip-path=\"url(#clip770)\" d=\"M2231.79 291.008 L2231.79 293.091 L2212.21 293.091 Q2212.49 297.489 2214.85 299.804 Q2217.23 302.096 2221.47 302.096 Q2223.92 302.096 2226.22 301.494 Q2228.53 300.892 2230.8 299.689 L2230.8 303.716 Q2228.51 304.688 2226.1 305.198 Q2223.69 305.707 2221.22 305.707 Q2215.01 305.707 2211.38 302.096 Q2207.77 298.485 2207.77 292.327 Q2207.77 285.962 2211.19 282.235 Q2214.64 278.485 2220.47 278.485 Q2225.71 278.485 2228.74 281.865 Q2231.79 285.221 2231.79 291.008 M2227.53 289.758 Q2227.49 286.263 2225.57 284.179 Q2223.67 282.096 2220.52 282.096 Q2216.96 282.096 2214.8 284.11 Q2212.67 286.124 2212.35 289.781 L2227.53 289.758 Z\" fill=\"#000000\" fill-rule=\"evenodd\" fill-opacity=\"1\" /></svg>\n"
      ]
     },
     "execution_count": 125,
     "metadata": {},
     "output_type": "execute_result"
    }
   ],
   "source": [
    "all_times = LinRange(0, t₁, 1000)\n",
    "plot(all_times, UD_trained(all_times')', title=\"Simulated D values by the NN\", yaxis=\"Diffusivity (D)\", xaxis=\"Time\", label=\"NN\")\n",
    "plot!(fakeD, 0, t₁, label=\"fake\")"
   ]
  },
  {
   "cell_type": "code",
   "execution_count": null,
   "id": "b89ec31e",
   "metadata": {},
   "outputs": [],
   "source": []
  },
  {
   "cell_type": "code",
   "execution_count": null,
   "id": "d7c98e35",
   "metadata": {},
   "outputs": [],
   "source": []
  },
  {
   "cell_type": "code",
   "execution_count": null,
   "id": "3b636376",
   "metadata": {},
   "outputs": [],
   "source": []
  },
  {
   "cell_type": "code",
   "execution_count": null,
   "id": "4c01bdec",
   "metadata": {},
   "outputs": [],
   "source": []
  },
  {
   "cell_type": "code",
   "execution_count": null,
   "id": "3beb20c9",
   "metadata": {},
   "outputs": [],
   "source": []
  },
  {
   "cell_type": "code",
   "execution_count": null,
   "id": "df229af1",
   "metadata": {},
   "outputs": [],
   "source": [
    "sqnorm(x) = sum(abs2, x)\n",
    "sum(sqnorm, Flux.params(UD_trained))"
   ]
  },
  {
   "cell_type": "code",
   "execution_count": null,
   "id": "ed7db1fc",
   "metadata": {},
   "outputs": [],
   "source": [
    "m = Chain(\n",
    "  Dense(1, 2, relu),\n",
    "  Dense(2, 1))\n",
    "\n",
    "sqnorm(x) = sum(abs2, x)\n",
    "\n",
    "ps = Flux.params(m)   # new line\n",
    "\n",
    "loss(x, y) = Flux.Losses.logitcrossentropy(m(x), y) + sum(sqnorm, ps)\n",
    "\n",
    "gradient(()->loss(rand(1), rand(1)), params(m))"
   ]
  }
 ],
 "metadata": {
  "kernelspec": {
   "display_name": "Julia 1.6.0",
   "language": "julia",
   "name": "julia-1.6"
  },
  "language_info": {
   "file_extension": ".jl",
   "mimetype": "application/julia",
   "name": "julia",
   "version": "1.6.0"
  }
 },
 "nbformat": 4,
 "nbformat_minor": 5
}
