{
 "cells": [
  {
   "cell_type": "markdown",
   "id": "acf99bb5",
   "metadata": {},
   "source": [
    "# Universal Differential Equation for a 2D PDE heat equation\n",
    "\n",
    "In this notebook we focus on the optimization of the global diffusivity parameter of the 2D heat equation without boundary conditions, \n",
    "$$\n",
    "\\frac{\\partial T}{\\partial t} = D \\left( \\frac{\\partial^2 T}{\\partial x} + \\frac{\\partial^2 T}{\\partial y^2} \\right), \\qquad T(x,y,0) = g(x,y)\n",
    "$$\n",
    "where $T(x,y,t)$ the temperature field, and $D$ an unknown global constant. "
   ]
  },
  {
   "cell_type": "code",
   "execution_count": 1,
   "id": "3e852c54",
   "metadata": {
    "scrolled": true
   },
   "outputs": [
    {
     "name": "stderr",
     "output_type": "stream",
     "text": [
      "\u001b[32m\u001b[1m  Activating\u001b[22m\u001b[39m environment at `~/Dropbox/Glacier UDE/ODINN_toy/Project.toml`\n"
     ]
    }
   ],
   "source": [
    "using Pkg; Pkg.activate(\"../../.\"); Pkg.instantiate()\n",
    "using Plots; gr()\n",
    "using Statistics\n",
    "using LinearAlgebra\n",
    "using Zygote\n",
    "using PaddedViews\n",
    "using Flux\n",
    "using Flux: @epochs\n",
    "using Tullio"
   ]
  },
  {
   "cell_type": "markdown",
   "id": "29654b59",
   "metadata": {},
   "source": [
    "### Parameter declaration"
   ]
  },
  {
   "cell_type": "code",
   "execution_count": 2,
   "id": "966bbf86",
   "metadata": {},
   "outputs": [
    {
     "data": {
      "text/plain": [
       "0.24390243902439027"
      ]
     },
     "execution_count": 2,
     "metadata": {},
     "output_type": "execute_result"
    }
   ],
   "source": [
    "nx, ny = 100, 100          # size of the grid\n",
    "Δx, Δy = 1, 1              # lenght of each element in the grid (meters)\n",
    "Δt = 0.01                  # temporal stepsize in the numerical method\n",
    "t₁ = 1                     # final time in simulation\n",
    " \n",
    "D₀ = 1                     # real diffusivity parameters\n",
    "tolnl = 1e-4               # tolerance of the numerical method\n",
    "itMax = 100                # maximum number of iterations of numerical method\n",
    "damp = 0.85                # damping factor of numerical method\n",
    "dτsc   = 1.0/3.0           # step in implicit numerical method\n",
    "ϵ     = 1e-4               # small number\n",
    "cfl  = max(Δx^2,Δy^2)/4.1  # stability parameter"
   ]
  },
  {
   "cell_type": "markdown",
   "id": "dabb7ff5",
   "metadata": {},
   "source": [
    "We first define the functions that rule the evolution of the temperature field. We use a semi-implicit method (more ref)"
   ]
  },
  {
   "cell_type": "code",
   "execution_count": 3,
   "id": "6bb164c8",
   "metadata": {},
   "outputs": [
    {
     "data": {
      "text/plain": [
       "heatflow (generic function with 2 methods)"
      ]
     },
     "execution_count": 3,
     "metadata": {},
     "output_type": "execute_result"
    }
   ],
   "source": [
    "function heatflow(T, D::Real, p, tol=Inf)\n",
    "   \n",
    "    Δx, Δy, Δt, t₁ = p\n",
    "    \n",
    "    total_iter = 0\n",
    "    t = 0\n",
    "    \n",
    "    while t < t₁\n",
    "        \n",
    "        iter = 1\n",
    "        err = 2 * tolnl\n",
    "        Hold = copy(T)\n",
    "        dTdt = zeros(nx, ny)\n",
    "        err = Inf \n",
    "        \n",
    "        while iter < itMax+1 && tol <= err\n",
    "            \n",
    "            Err = copy(T)\n",
    "                    \n",
    "            F, dτ = Heat(T, D, p)\n",
    "            \n",
    "            @tullio ResT[i,j] := -(T[i,j] - Hold[i,j])/Δt + F[pad(i-1,1,1),pad(j-1,1,1)] \n",
    "            \n",
    "            dTdt_ = copy(dTdt)\n",
    "            @tullio dTdt[i,j] := dTdt_[i,j]*damp + ResT[i,j]\n",
    "            \n",
    "            T_ = copy(T)\n",
    "            #@tullio T[i,j] := max(0.0, T_[i,j] + dTdt[i,j]*dτ[pad(i-1,1,1),pad(j-1,1,1)]) \n",
    "            @tullio T[i,j] := max(0.0, T_[i,j] + dτ * dTdt[i,j])\n",
    "            \n",
    "            Zygote.ignore() do\n",
    "                Err .= Err .- T\n",
    "                err = maximum(Err)\n",
    "            end \n",
    "            \n",
    "            iter += 1\n",
    "            total_iter += 1\n",
    "            \n",
    "        end\n",
    "        \n",
    "        t += Δt\n",
    "        \n",
    "    end\n",
    "    \n",
    "    return T\n",
    "    \n",
    "end"
   ]
  },
  {
   "cell_type": "code",
   "execution_count": 4,
   "id": "cbb6290b",
   "metadata": {},
   "outputs": [
    {
     "data": {
      "text/plain": [
       "Heat (generic function with 1 method)"
      ]
     },
     "execution_count": 4,
     "metadata": {},
     "output_type": "execute_result"
    }
   ],
   "source": [
    "function Heat(T, D, p)\n",
    "   \n",
    "    Δx, Δy, Δt, t₁ = p\n",
    "\n",
    "    dTdx_edges = diff(T[:,2:end - 1], dims=1) / Δx\n",
    "    dTdy_edges = diff(T[2:end - 1,:], dims=2) / Δy\n",
    "    \n",
    "    Fx = -D * dTdx_edges\n",
    "    Fy = -D * dTdy_edges    \n",
    "    F = .-(diff(Fx, dims=1) / Δx .+ diff(Fy, dims=2) / Δy) \n",
    "\n",
    "    dτ = dτsc * min( 10.0 , 1.0/(1.0/Δt + 1.0/(cfl/(ϵ + D))))\n",
    "    \n",
    "    return F, dτ\n",
    " \n",
    "end"
   ]
  },
  {
   "cell_type": "markdown",
   "id": "33767b1e",
   "metadata": {},
   "source": [
    "## Generate reference dataset"
   ]
  },
  {
   "cell_type": "code",
   "execution_count": 5,
   "id": "3086e2bd",
   "metadata": {},
   "outputs": [
    {
     "data": {
      "image/svg+xml": [
       "<?xml version=\"1.0\" encoding=\"utf-8\"?>\n",
       "<svg xmlns=\"http://www.w3.org/2000/svg\" xmlns:xlink=\"http://www.w3.org/1999/xlink\" width=\"600\" height=\"400\" viewBox=\"0 0 2400 1600\">\n",
       "<defs>\n",
       "  <clipPath id=\"clip540\">\n",
       "    <rect x=\"0\" y=\"0\" width=\"2400\" height=\"1600\"/>\n",
       "  </clipPath>\n",
       "</defs>\n",
       "<path clip-path=\"url(#clip540)\" d=\"\n",
       "M0 1600 L2400 1600 L2400 0 L0 0  Z\n",
       "  \" fill=\"#ffffff\" fill-rule=\"evenodd\" fill-opacity=\"1\"/>\n",
       "<defs>\n",
       "  <clipPath id=\"clip541\">\n",
       "    <rect x=\"480\" y=\"0\" width=\"1681\" height=\"1600\"/>\n",
       "  </clipPath>\n",
       "</defs>\n",
       "<path clip-path=\"url(#clip540)\" d=\"\n",
       "M169.121 1486.45 L2112.76 1486.45 L2112.76 47.2441 L169.121 47.2441  Z\n",
       "  \" fill=\"#ffffff\" fill-rule=\"evenodd\" fill-opacity=\"1\"/>\n",
       "<defs>\n",
       "  <clipPath id=\"clip542\">\n",
       "    <rect x=\"169\" y=\"47\" width=\"1945\" height=\"1440\"/>\n",
       "  </clipPath>\n",
       "</defs>\n",
       "<polyline clip-path=\"url(#clip542)\" style=\"stroke:#000000; stroke-linecap:butt; stroke-linejoin:round; stroke-width:2; stroke-opacity:0.1; fill:none\" points=\"\n",
       "  548.13,1486.45 548.13,47.2441 \n",
       "  \"/>\n",
       "<polyline clip-path=\"url(#clip542)\" style=\"stroke:#000000; stroke-linecap:butt; stroke-linejoin:round; stroke-width:2; stroke-opacity:0.1; fill:none\" points=\"\n",
       "  936.857,1486.45 936.857,47.2441 \n",
       "  \"/>\n",
       "<polyline clip-path=\"url(#clip542)\" style=\"stroke:#000000; stroke-linecap:butt; stroke-linejoin:round; stroke-width:2; stroke-opacity:0.1; fill:none\" points=\"\n",
       "  1325.58,1486.45 1325.58,47.2441 \n",
       "  \"/>\n",
       "<polyline clip-path=\"url(#clip542)\" style=\"stroke:#000000; stroke-linecap:butt; stroke-linejoin:round; stroke-width:2; stroke-opacity:0.1; fill:none\" points=\"\n",
       "  1714.31,1486.45 1714.31,47.2441 \n",
       "  \"/>\n",
       "<polyline clip-path=\"url(#clip542)\" style=\"stroke:#000000; stroke-linecap:butt; stroke-linejoin:round; stroke-width:2; stroke-opacity:0.1; fill:none\" points=\"\n",
       "  2103.04,1486.45 2103.04,47.2441 \n",
       "  \"/>\n",
       "<polyline clip-path=\"url(#clip540)\" style=\"stroke:#000000; stroke-linecap:butt; stroke-linejoin:round; stroke-width:4; stroke-opacity:1; fill:none\" points=\"\n",
       "  169.121,1486.45 2112.76,1486.45 \n",
       "  \"/>\n",
       "<polyline clip-path=\"url(#clip540)\" style=\"stroke:#000000; stroke-linecap:butt; stroke-linejoin:round; stroke-width:4; stroke-opacity:1; fill:none\" points=\"\n",
       "  548.13,1486.45 548.13,1469.18 \n",
       "  \"/>\n",
       "<polyline clip-path=\"url(#clip540)\" style=\"stroke:#000000; stroke-linecap:butt; stroke-linejoin:round; stroke-width:4; stroke-opacity:1; fill:none\" points=\"\n",
       "  936.857,1486.45 936.857,1469.18 \n",
       "  \"/>\n",
       "<polyline clip-path=\"url(#clip540)\" style=\"stroke:#000000; stroke-linecap:butt; stroke-linejoin:round; stroke-width:4; stroke-opacity:1; fill:none\" points=\"\n",
       "  1325.58,1486.45 1325.58,1469.18 \n",
       "  \"/>\n",
       "<polyline clip-path=\"url(#clip540)\" style=\"stroke:#000000; stroke-linecap:butt; stroke-linejoin:round; stroke-width:4; stroke-opacity:1; fill:none\" points=\"\n",
       "  1714.31,1486.45 1714.31,1469.18 \n",
       "  \"/>\n",
       "<polyline clip-path=\"url(#clip540)\" style=\"stroke:#000000; stroke-linecap:butt; stroke-linejoin:round; stroke-width:4; stroke-opacity:1; fill:none\" points=\"\n",
       "  2103.04,1486.45 2103.04,1469.18 \n",
       "  \"/>\n",
       "<path clip-path=\"url(#clip540)\" d=\"M526.903 1543.18 L543.223 1543.18 L543.223 1547.12 L521.278 1547.12 L521.278 1543.18 Q523.94 1540.43 528.524 1535.8 Q533.13 1531.15 534.311 1529.81 Q536.556 1527.28 537.436 1525.55 Q538.338 1523.79 538.338 1522.1 Q538.338 1519.34 536.394 1517.61 Q534.473 1515.87 531.371 1515.87 Q529.172 1515.87 526.718 1516.63 Q524.288 1517.4 521.51 1518.95 L521.51 1514.23 Q524.334 1513.09 526.788 1512.51 Q529.241 1511.93 531.278 1511.93 Q536.649 1511.93 539.843 1514.62 Q543.037 1517.31 543.037 1521.8 Q543.037 1523.93 542.227 1525.85 Q541.44 1527.74 539.334 1530.34 Q538.755 1531.01 535.653 1534.23 Q532.551 1537.42 526.903 1543.18 Z\" fill=\"#000000\" fill-rule=\"evenodd\" fill-opacity=\"1\" /><path clip-path=\"url(#clip540)\" d=\"M563.037 1515.64 Q559.426 1515.64 557.598 1519.2 Q555.792 1522.75 555.792 1529.87 Q555.792 1536.98 557.598 1540.55 Q559.426 1544.09 563.037 1544.09 Q566.672 1544.09 568.477 1540.55 Q570.306 1536.98 570.306 1529.87 Q570.306 1522.75 568.477 1519.2 Q566.672 1515.64 563.037 1515.64 M563.037 1511.93 Q568.848 1511.93 571.903 1516.54 Q574.982 1521.12 574.982 1529.87 Q574.982 1538.6 571.903 1543.21 Q568.848 1547.79 563.037 1547.79 Q557.227 1547.79 554.149 1543.21 Q551.093 1538.6 551.093 1529.87 Q551.093 1521.12 554.149 1516.54 Q557.227 1511.93 563.037 1511.93 Z\" fill=\"#000000\" fill-rule=\"evenodd\" fill-opacity=\"1\" /><path clip-path=\"url(#clip540)\" d=\"M925.028 1516.63 L913.223 1535.08 L925.028 1535.08 L925.028 1516.63 M923.801 1512.56 L929.681 1512.56 L929.681 1535.08 L934.612 1535.08 L934.612 1538.97 L929.681 1538.97 L929.681 1547.12 L925.028 1547.12 L925.028 1538.97 L909.427 1538.97 L909.427 1534.46 L923.801 1512.56 Z\" fill=\"#000000\" fill-rule=\"evenodd\" fill-opacity=\"1\" /><path clip-path=\"url(#clip540)\" d=\"M952.343 1515.64 Q948.732 1515.64 946.903 1519.2 Q945.098 1522.75 945.098 1529.87 Q945.098 1536.98 946.903 1540.55 Q948.732 1544.09 952.343 1544.09 Q955.977 1544.09 957.783 1540.55 Q959.611 1536.98 959.611 1529.87 Q959.611 1522.75 957.783 1519.2 Q955.977 1515.64 952.343 1515.64 M952.343 1511.93 Q958.153 1511.93 961.209 1516.54 Q964.287 1521.12 964.287 1529.87 Q964.287 1538.6 961.209 1543.21 Q958.153 1547.79 952.343 1547.79 Q946.533 1547.79 943.454 1543.21 Q940.399 1538.6 940.399 1529.87 Q940.399 1521.12 943.454 1516.54 Q946.533 1511.93 952.343 1511.93 Z\" fill=\"#000000\" fill-rule=\"evenodd\" fill-opacity=\"1\" /><path clip-path=\"url(#clip540)\" d=\"M1310.99 1527.98 Q1307.84 1527.98 1305.99 1530.13 Q1304.16 1532.28 1304.16 1536.03 Q1304.16 1539.76 1305.99 1541.93 Q1307.84 1544.09 1310.99 1544.09 Q1314.14 1544.09 1315.97 1541.93 Q1317.82 1539.76 1317.82 1536.03 Q1317.82 1532.28 1315.97 1530.13 Q1314.14 1527.98 1310.99 1527.98 M1320.27 1513.32 L1320.27 1517.58 Q1318.51 1516.75 1316.71 1516.31 Q1314.92 1515.87 1313.16 1515.87 Q1308.54 1515.87 1306.08 1519 Q1303.65 1522.12 1303.3 1528.44 Q1304.67 1526.43 1306.73 1525.36 Q1308.79 1524.27 1311.27 1524.27 Q1316.48 1524.27 1319.48 1527.44 Q1322.52 1530.59 1322.52 1536.03 Q1322.52 1541.36 1319.37 1544.57 Q1316.22 1547.79 1310.99 1547.79 Q1304.99 1547.79 1301.82 1543.21 Q1298.65 1538.6 1298.65 1529.87 Q1298.65 1521.68 1302.54 1516.82 Q1306.43 1511.93 1312.98 1511.93 Q1314.74 1511.93 1316.52 1512.28 Q1318.33 1512.63 1320.27 1513.32 Z\" fill=\"#000000\" fill-rule=\"evenodd\" fill-opacity=\"1\" /><path clip-path=\"url(#clip540)\" d=\"M1340.57 1515.64 Q1336.96 1515.64 1335.13 1519.2 Q1333.33 1522.75 1333.33 1529.87 Q1333.33 1536.98 1335.13 1540.55 Q1336.96 1544.09 1340.57 1544.09 Q1344.21 1544.09 1346.01 1540.55 Q1347.84 1536.98 1347.84 1529.87 Q1347.84 1522.75 1346.01 1519.2 Q1344.21 1515.64 1340.57 1515.64 M1340.57 1511.93 Q1346.38 1511.93 1349.44 1516.54 Q1352.52 1521.12 1352.52 1529.87 Q1352.52 1538.6 1349.44 1543.21 Q1346.38 1547.79 1340.57 1547.79 Q1334.76 1547.79 1331.68 1543.21 Q1328.63 1538.6 1328.63 1529.87 Q1328.63 1521.12 1331.68 1516.54 Q1334.76 1511.93 1340.57 1511.93 Z\" fill=\"#000000\" fill-rule=\"evenodd\" fill-opacity=\"1\" /><path clip-path=\"url(#clip540)\" d=\"M1699.18 1530.71 Q1695.85 1530.71 1693.93 1532.49 Q1692.03 1534.27 1692.03 1537.4 Q1692.03 1540.52 1693.93 1542.31 Q1695.85 1544.09 1699.18 1544.09 Q1702.52 1544.09 1704.44 1542.31 Q1706.36 1540.5 1706.36 1537.4 Q1706.36 1534.27 1704.44 1532.49 Q1702.54 1530.71 1699.18 1530.71 M1694.51 1528.72 Q1691.5 1527.98 1689.81 1525.92 Q1688.14 1523.86 1688.14 1520.89 Q1688.14 1516.75 1691.08 1514.34 Q1694.04 1511.93 1699.18 1511.93 Q1704.35 1511.93 1707.29 1514.34 Q1710.23 1516.75 1710.23 1520.89 Q1710.23 1523.86 1708.54 1525.92 Q1706.87 1527.98 1703.88 1528.72 Q1707.26 1529.5 1709.14 1531.8 Q1711.04 1534.09 1711.04 1537.4 Q1711.04 1542.42 1707.96 1545.11 Q1704.9 1547.79 1699.18 1547.79 Q1693.47 1547.79 1690.39 1545.11 Q1687.33 1542.42 1687.33 1537.4 Q1687.33 1534.09 1689.23 1531.8 Q1691.13 1529.5 1694.51 1528.72 M1692.79 1521.33 Q1692.79 1524.02 1694.46 1525.52 Q1696.15 1527.03 1699.18 1527.03 Q1702.19 1527.03 1703.88 1525.52 Q1705.6 1524.02 1705.6 1521.33 Q1705.6 1518.65 1703.88 1517.14 Q1702.19 1515.64 1699.18 1515.64 Q1696.15 1515.64 1694.46 1517.14 Q1692.79 1518.65 1692.79 1521.33 Z\" fill=\"#000000\" fill-rule=\"evenodd\" fill-opacity=\"1\" /><path clip-path=\"url(#clip540)\" d=\"M1729.35 1515.64 Q1725.73 1515.64 1723.91 1519.2 Q1722.1 1522.75 1722.1 1529.87 Q1722.1 1536.98 1723.91 1540.55 Q1725.73 1544.09 1729.35 1544.09 Q1732.98 1544.09 1734.79 1540.55 Q1736.61 1536.98 1736.61 1529.87 Q1736.61 1522.75 1734.79 1519.2 Q1732.98 1515.64 1729.35 1515.64 M1729.35 1511.93 Q1735.16 1511.93 1738.21 1516.54 Q1741.29 1521.12 1741.29 1529.87 Q1741.29 1538.6 1738.21 1543.21 Q1735.16 1547.79 1729.35 1547.79 Q1723.54 1547.79 1720.46 1543.21 Q1717.4 1538.6 1717.4 1529.87 Q1717.4 1521.12 1720.46 1516.54 Q1723.54 1511.93 1729.35 1511.93 Z\" fill=\"#000000\" fill-rule=\"evenodd\" fill-opacity=\"1\" /><path clip-path=\"url(#clip540)\" d=\"M2062.64 1543.18 L2070.28 1543.18 L2070.28 1516.82 L2061.97 1518.49 L2061.97 1514.23 L2070.24 1512.56 L2074.91 1512.56 L2074.91 1543.18 L2082.55 1543.18 L2082.55 1547.12 L2062.64 1547.12 L2062.64 1543.18 Z\" fill=\"#000000\" fill-rule=\"evenodd\" fill-opacity=\"1\" /><path clip-path=\"url(#clip540)\" d=\"M2102 1515.64 Q2098.38 1515.64 2096.56 1519.2 Q2094.75 1522.75 2094.75 1529.87 Q2094.75 1536.98 2096.56 1540.55 Q2098.38 1544.09 2102 1544.09 Q2105.63 1544.09 2107.44 1540.55 Q2109.26 1536.98 2109.26 1529.87 Q2109.26 1522.75 2107.44 1519.2 Q2105.63 1515.64 2102 1515.64 M2102 1511.93 Q2107.81 1511.93 2110.86 1516.54 Q2113.94 1521.12 2113.94 1529.87 Q2113.94 1538.6 2110.86 1543.21 Q2107.81 1547.79 2102 1547.79 Q2096.19 1547.79 2093.11 1543.21 Q2090.05 1538.6 2090.05 1529.87 Q2090.05 1521.12 2093.11 1516.54 Q2096.19 1511.93 2102 1511.93 Z\" fill=\"#000000\" fill-rule=\"evenodd\" fill-opacity=\"1\" /><path clip-path=\"url(#clip540)\" d=\"M2132.16 1515.64 Q2128.55 1515.64 2126.72 1519.2 Q2124.91 1522.75 2124.91 1529.87 Q2124.91 1536.98 2126.72 1540.55 Q2128.55 1544.09 2132.16 1544.09 Q2135.79 1544.09 2137.6 1540.55 Q2139.43 1536.98 2139.43 1529.87 Q2139.43 1522.75 2137.6 1519.2 Q2135.79 1515.64 2132.16 1515.64 M2132.16 1511.93 Q2137.97 1511.93 2141.02 1516.54 Q2144.1 1521.12 2144.1 1529.87 Q2144.1 1538.6 2141.02 1543.21 Q2137.97 1547.79 2132.16 1547.79 Q2126.35 1547.79 2123.27 1543.21 Q2120.21 1538.6 2120.21 1529.87 Q2120.21 1521.12 2123.27 1516.54 Q2126.35 1511.93 2132.16 1511.93 Z\" fill=\"#000000\" fill-rule=\"evenodd\" fill-opacity=\"1\" /><polyline clip-path=\"url(#clip542)\" style=\"stroke:#000000; stroke-linecap:butt; stroke-linejoin:round; stroke-width:2; stroke-opacity:0.1; fill:none\" points=\"\n",
       "  169.121,1205.8 2112.76,1205.8 \n",
       "  \"/>\n",
       "<polyline clip-path=\"url(#clip542)\" style=\"stroke:#000000; stroke-linecap:butt; stroke-linejoin:round; stroke-width:2; stroke-opacity:0.1; fill:none\" points=\"\n",
       "  169.121,917.962 2112.76,917.962 \n",
       "  \"/>\n",
       "<polyline clip-path=\"url(#clip542)\" style=\"stroke:#000000; stroke-linecap:butt; stroke-linejoin:round; stroke-width:2; stroke-opacity:0.1; fill:none\" points=\"\n",
       "  169.121,630.122 2112.76,630.122 \n",
       "  \"/>\n",
       "<polyline clip-path=\"url(#clip542)\" style=\"stroke:#000000; stroke-linecap:butt; stroke-linejoin:round; stroke-width:2; stroke-opacity:0.1; fill:none\" points=\"\n",
       "  169.121,342.281 2112.76,342.281 \n",
       "  \"/>\n",
       "<polyline clip-path=\"url(#clip542)\" style=\"stroke:#000000; stroke-linecap:butt; stroke-linejoin:round; stroke-width:2; stroke-opacity:0.1; fill:none\" points=\"\n",
       "  169.121,54.4401 2112.76,54.4401 \n",
       "  \"/>\n",
       "<polyline clip-path=\"url(#clip540)\" style=\"stroke:#000000; stroke-linecap:butt; stroke-linejoin:round; stroke-width:4; stroke-opacity:1; fill:none\" points=\"\n",
       "  169.121,1486.45 169.121,47.2441 \n",
       "  \"/>\n",
       "<polyline clip-path=\"url(#clip540)\" style=\"stroke:#000000; stroke-linecap:butt; stroke-linejoin:round; stroke-width:4; stroke-opacity:1; fill:none\" points=\"\n",
       "  169.121,1205.8 192.445,1205.8 \n",
       "  \"/>\n",
       "<polyline clip-path=\"url(#clip540)\" style=\"stroke:#000000; stroke-linecap:butt; stroke-linejoin:round; stroke-width:4; stroke-opacity:1; fill:none\" points=\"\n",
       "  169.121,917.962 192.445,917.962 \n",
       "  \"/>\n",
       "<polyline clip-path=\"url(#clip540)\" style=\"stroke:#000000; stroke-linecap:butt; stroke-linejoin:round; stroke-width:4; stroke-opacity:1; fill:none\" points=\"\n",
       "  169.121,630.122 192.445,630.122 \n",
       "  \"/>\n",
       "<polyline clip-path=\"url(#clip540)\" style=\"stroke:#000000; stroke-linecap:butt; stroke-linejoin:round; stroke-width:4; stroke-opacity:1; fill:none\" points=\"\n",
       "  169.121,342.281 192.445,342.281 \n",
       "  \"/>\n",
       "<polyline clip-path=\"url(#clip540)\" style=\"stroke:#000000; stroke-linecap:butt; stroke-linejoin:round; stroke-width:4; stroke-opacity:1; fill:none\" points=\"\n",
       "  169.121,54.4401 192.445,54.4401 \n",
       "  \"/>\n",
       "<path clip-path=\"url(#clip540)\" d=\"M85.0429 1219.15 L101.362 1219.15 L101.362 1223.08 L79.4179 1223.08 L79.4179 1219.15 Q82.0799 1216.39 86.6632 1211.76 Q91.2697 1207.11 92.4502 1205.77 Q94.6956 1203.25 95.5752 1201.51 Q96.478 1199.75 96.478 1198.06 Q96.478 1195.31 94.5336 1193.57 Q92.6123 1191.83 89.5104 1191.83 Q87.3114 1191.83 84.8577 1192.6 Q82.4271 1193.36 79.6494 1194.91 L79.6494 1190.19 Q82.4734 1189.06 84.9271 1188.48 Q87.3808 1187.9 89.4178 1187.9 Q94.7882 1187.9 97.9826 1190.58 Q101.177 1193.27 101.177 1197.76 Q101.177 1199.89 100.367 1201.81 Q99.5798 1203.71 97.4734 1206.3 Q96.8947 1206.97 93.7928 1210.19 Q90.691 1213.38 85.0429 1219.15 Z\" fill=\"#000000\" fill-rule=\"evenodd\" fill-opacity=\"1\" /><path clip-path=\"url(#clip540)\" d=\"M121.177 1191.6 Q117.566 1191.6 115.737 1195.17 Q113.932 1198.71 113.932 1205.84 Q113.932 1212.94 115.737 1216.51 Q117.566 1220.05 121.177 1220.05 Q124.811 1220.05 126.617 1216.51 Q128.445 1212.94 128.445 1205.84 Q128.445 1198.71 126.617 1195.17 Q124.811 1191.6 121.177 1191.6 M121.177 1187.9 Q126.987 1187.9 130.043 1192.5 Q133.121 1197.09 133.121 1205.84 Q133.121 1214.56 130.043 1219.17 Q126.987 1223.75 121.177 1223.75 Q115.367 1223.75 112.288 1219.17 Q109.233 1214.56 109.233 1205.84 Q109.233 1197.09 112.288 1192.5 Q115.367 1187.9 121.177 1187.9 Z\" fill=\"#000000\" fill-rule=\"evenodd\" fill-opacity=\"1\" /><path clip-path=\"url(#clip540)\" d=\"M93.8623 904.756 L82.0568 923.205 L93.8623 923.205 L93.8623 904.756 M92.6354 900.682 L98.515 900.682 L98.515 923.205 L103.446 923.205 L103.446 927.094 L98.515 927.094 L98.515 935.242 L93.8623 935.242 L93.8623 927.094 L78.2605 927.094 L78.2605 922.58 L92.6354 900.682 Z\" fill=\"#000000\" fill-rule=\"evenodd\" fill-opacity=\"1\" /><path clip-path=\"url(#clip540)\" d=\"M121.177 903.761 Q117.566 903.761 115.737 907.326 Q113.932 910.868 113.932 917.997 Q113.932 925.104 115.737 928.668 Q117.566 932.21 121.177 932.21 Q124.811 932.21 126.617 928.668 Q128.445 925.104 128.445 917.997 Q128.445 910.868 126.617 907.326 Q124.811 903.761 121.177 903.761 M121.177 900.057 Q126.987 900.057 130.043 904.664 Q133.121 909.247 133.121 917.997 Q133.121 926.724 130.043 931.33 Q126.987 935.914 121.177 935.914 Q115.367 935.914 112.288 931.33 Q109.233 926.724 109.233 917.997 Q109.233 909.247 112.288 904.664 Q115.367 900.057 121.177 900.057 Z\" fill=\"#000000\" fill-rule=\"evenodd\" fill-opacity=\"1\" /><path clip-path=\"url(#clip540)\" d=\"M91.5938 628.258 Q88.4456 628.258 86.5938 630.411 Q84.7651 632.564 84.7651 636.314 Q84.7651 640.041 86.5938 642.216 Q88.4456 644.369 91.5938 644.369 Q94.7419 644.369 96.5706 642.216 Q98.4224 640.041 98.4224 636.314 Q98.4224 632.564 96.5706 630.411 Q94.7419 628.258 91.5938 628.258 M100.876 613.606 L100.876 617.865 Q99.1169 617.031 97.3113 616.592 Q95.5289 616.152 93.7697 616.152 Q89.1401 616.152 86.6864 619.277 Q84.2558 622.402 83.9086 628.721 Q85.2743 626.707 87.3345 625.642 Q89.3947 624.555 91.8715 624.555 Q97.0798 624.555 100.089 627.726 Q103.121 630.874 103.121 636.314 Q103.121 641.638 99.9733 644.855 Q96.8252 648.073 91.5938 648.073 Q85.5984 648.073 82.4271 643.49 Q79.2559 638.883 79.2559 630.156 Q79.2559 621.962 83.1447 617.101 Q87.0336 612.217 93.5845 612.217 Q95.3437 612.217 97.1261 612.564 Q98.9317 612.911 100.876 613.606 Z\" fill=\"#000000\" fill-rule=\"evenodd\" fill-opacity=\"1\" /><path clip-path=\"url(#clip540)\" d=\"M121.177 615.92 Q117.566 615.92 115.737 619.485 Q113.932 623.027 113.932 630.156 Q113.932 637.263 115.737 640.828 Q117.566 644.369 121.177 644.369 Q124.811 644.369 126.617 640.828 Q128.445 637.263 128.445 630.156 Q128.445 623.027 126.617 619.485 Q124.811 615.92 121.177 615.92 M121.177 612.217 Q126.987 612.217 130.043 616.823 Q133.121 621.406 133.121 630.156 Q133.121 638.883 130.043 643.49 Q126.987 648.073 121.177 648.073 Q115.367 648.073 112.288 643.49 Q109.233 638.883 109.233 630.156 Q109.233 621.406 112.288 616.823 Q115.367 612.217 121.177 612.217 Z\" fill=\"#000000\" fill-rule=\"evenodd\" fill-opacity=\"1\" /><path clip-path=\"url(#clip540)\" d=\"M91.0151 343.149 Q87.6817 343.149 85.7605 344.931 Q83.8623 346.714 83.8623 349.839 Q83.8623 352.964 85.7605 354.746 Q87.6817 356.528 91.0151 356.528 Q94.3484 356.528 96.2697 354.746 Q98.1909 352.941 98.1909 349.839 Q98.1909 346.714 96.2697 344.931 Q94.3715 343.149 91.0151 343.149 M86.3392 341.158 Q83.3299 340.417 81.6401 338.357 Q79.9735 336.297 79.9735 333.334 Q79.9735 329.191 82.9133 326.783 Q85.8762 324.376 91.0151 324.376 Q96.1771 324.376 99.1169 326.783 Q102.057 329.191 102.057 333.334 Q102.057 336.297 100.367 338.357 Q98.7002 340.417 95.7141 341.158 Q99.0937 341.945 100.969 344.237 Q102.867 346.529 102.867 349.839 Q102.867 354.862 99.7882 357.547 Q96.7326 360.232 91.0151 360.232 Q85.2975 360.232 82.2188 357.547 Q79.1633 354.862 79.1633 349.839 Q79.1633 346.529 81.0614 344.237 Q82.9595 341.945 86.3392 341.158 M84.6262 333.774 Q84.6262 336.459 86.2929 337.964 Q87.9827 339.468 91.0151 339.468 Q94.0243 339.468 95.7141 337.964 Q97.4271 336.459 97.4271 333.774 Q97.4271 331.089 95.7141 329.584 Q94.0243 328.08 91.0151 328.08 Q87.9827 328.08 86.2929 329.584 Q84.6262 331.089 84.6262 333.774 Z\" fill=\"#000000\" fill-rule=\"evenodd\" fill-opacity=\"1\" /><path clip-path=\"url(#clip540)\" d=\"M121.177 328.08 Q117.566 328.08 115.737 331.644 Q113.932 335.186 113.932 342.316 Q113.932 349.422 115.737 352.987 Q117.566 356.528 121.177 356.528 Q124.811 356.528 126.617 352.987 Q128.445 349.422 128.445 342.316 Q128.445 335.186 126.617 331.644 Q124.811 328.08 121.177 328.08 M121.177 324.376 Q126.987 324.376 130.043 328.982 Q133.121 333.566 133.121 342.316 Q133.121 351.042 130.043 355.649 Q126.987 360.232 121.177 360.232 Q115.367 360.232 112.288 355.649 Q109.233 351.042 109.233 342.316 Q109.233 333.566 112.288 328.982 Q115.367 324.376 121.177 324.376 Z\" fill=\"#000000\" fill-rule=\"evenodd\" fill-opacity=\"1\" /><path clip-path=\"url(#clip540)\" d=\"M51.6634 67.7849 L59.3023 67.7849 L59.3023 41.4193 L50.9921 43.086 L50.9921 38.8268 L59.256 37.1601 L63.9319 37.1601 L63.9319 67.7849 L71.5707 67.7849 L71.5707 71.7201 L51.6634 71.7201 L51.6634 67.7849 Z\" fill=\"#000000\" fill-rule=\"evenodd\" fill-opacity=\"1\" /><path clip-path=\"url(#clip540)\" d=\"M91.0151 40.2388 Q87.404 40.2388 85.5753 43.8036 Q83.7697 47.3452 83.7697 54.4748 Q83.7697 61.5813 85.5753 65.1461 Q87.404 68.6877 91.0151 68.6877 Q94.6493 68.6877 96.4548 65.1461 Q98.2835 61.5813 98.2835 54.4748 Q98.2835 47.3452 96.4548 43.8036 Q94.6493 40.2388 91.0151 40.2388 M91.0151 36.5351 Q96.8252 36.5351 99.8808 41.1416 Q102.959 45.7249 102.959 54.4748 Q102.959 63.2016 99.8808 67.8081 Q96.8252 72.3914 91.0151 72.3914 Q85.2049 72.3914 82.1262 67.8081 Q79.0707 63.2016 79.0707 54.4748 Q79.0707 45.7249 82.1262 41.1416 Q85.2049 36.5351 91.0151 36.5351 Z\" fill=\"#000000\" fill-rule=\"evenodd\" fill-opacity=\"1\" /><path clip-path=\"url(#clip540)\" d=\"M121.177 40.2388 Q117.566 40.2388 115.737 43.8036 Q113.932 47.3452 113.932 54.4748 Q113.932 61.5813 115.737 65.1461 Q117.566 68.6877 121.177 68.6877 Q124.811 68.6877 126.617 65.1461 Q128.445 61.5813 128.445 54.4748 Q128.445 47.3452 126.617 43.8036 Q124.811 40.2388 121.177 40.2388 M121.177 36.5351 Q126.987 36.5351 130.043 41.1416 Q133.121 45.7249 133.121 54.4748 Q133.121 63.2016 130.043 67.8081 Q126.987 72.3914 121.177 72.3914 Q115.367 72.3914 112.288 67.8081 Q109.233 63.2016 109.233 54.4748 Q109.233 45.7249 112.288 41.1416 Q115.367 36.5351 121.177 36.5351 Z\" fill=\"#000000\" fill-rule=\"evenodd\" fill-opacity=\"1\" /><g clip-path=\"url(#clip542)\">\n",
       "<image width=\"1944\" height=\"1439\" xlink:href=\"data:image/png;base64,\n",
       "iVBORw0KGgoAAAANSUhEUgAAB5gAAAWfCAYAAAB+xCq9AAAgAElEQVR4nOzbUXLbSpYE0FskJbv3\n",
       "v9q2JFZ/eCY6YiLaneOXTyyZ5ywg4xYKBEAmuGZuewAAAAAAAADgv7g8egAAAAAAAAAAvgYFMwAA\n",
       "AAAAAAARBTMAAAAAAAAAEQUzAAAAAAAAABEFMwAAAAAAAAARBTMAAAAAAAAAEQUzAAAAAAAAABEF\n",
       "MwAAAAAAAAARBTMAAAAAAAAAEQUzAAAAAAAAABEFMwAAAAAAAAARBTMAAAAAAAAAEQUzAAAAAAAA\n",
       "ABEFMwAAAAAAAAARBTMAAAAAAAAAEQUzAAAAAAAAABEFMwAAAAAAAAARBTMAAAAAAAAAEQUzAAAA\n",
       "AAAAABEFMwAAAAAAAAARBTMAAAAAAAAAEQUzAAAAAAAAABEFMwAAAAAAAAARBTMAAAAAAAAAEQUz\n",
       "AAAAAAAAABEFMwAAAAAAAAARBTMAAAAAAAAAEQUzAAAAAAAAABEFMwAAAAAAAAARBTMAAAAAAAAA\n",
       "EQUzAAAAAAAAABEFMwAAAAAAAAARBTMAAAAAAAAAEQUzAAAAAAAAABEFMwAAAAAAAAARBTMAAAAA\n",
       "AAAAEQUzAAAAAAAAABEFMwAAAAAAAAARBTMAAAAAAAAAEQUzAAAAAAAAABEFMwAAAAAAAAARBTMA\n",
       "AAAAAAAAEQUzAAAAAAAAABEFMwAAAAAAAAARBTMAAAAAAAAAEQUzAAAAAAAAABEFMwAAAAAAAAAR\n",
       "BTMAAAAAAAAAEQUzAAAAAAAAABEFMwAAAAAAAAARBTMAAAAAAAAAEQUzAAAAAAAAABEFMwAAAAAA\n",
       "AAARBTMAAAAAAAAAEQUzAAAAAAAAABEFMwAAAAAAAAARBTMAAAAAAAAAEQUzAAAAAAAAABEFMwAA\n",
       "AAAAAAARBTMAAAAAAAAAEQUzAAAAAAAAABEFMwAAAAAAAAARBTMAAAAAAAAAEQUzAAAAAAAAABEF\n",
       "MwAAAAAAAAARBTMAAAAAAAAAEQUzAAAAAAAAABEFMwAAAAAAAAARBTMAAAAAAAAAEQUzAAAAAAAA\n",
       "ABEFMwAAAAAAAAARBTMAAAAAAAAAEQUzAAAAAAAAABEFMwAAAAAAAAARBTMAAAAAAAAAEQUzAAAA\n",
       "AAAAABEFMwAAAAAAAAARBTMAAAAAAAAAEQUzAAAAAAAAABEFMwAAAAAAAAARBTMAAAAAAAAAEQUz\n",
       "AAAAAAAAABEFMwAAAAAAAAARBTMAAAAAAAAAEQUzAAAAAAAAABEFMwAAAAAAAAARBTMAAAAAAAAA\n",
       "EQUzAAAAAAAAABEFMwAAAAAAAAARBTMAAAAAAAAAEQUzAAAAAAAAABEFMwAAAAAAAAARBTMAAAAA\n",
       "AAAAEQUzAAAAAAAAABEFMwAAAAAAAAARBTMAAAAAAAAAEQUzAAAAAAAAABEFMwAAAAAAAAARBTMA\n",
       "AAAAAAAAEQUzAAAAAAAAABEFMwAAAAAAAAARBTMAAAAAAAAAEQUzAAAAAAAAABEFMwAAAAAAAAAR\n",
       "BTMAAAAAAAAAEQUzAAAAAAAAABEFMwAAAAAAAAARBTMAAAAAAAAAEQUzAAAAAAAAABEFMwAAAAAA\n",
       "AAARBTMAAAAAAAAAEQUzAAAAAAAAABEFMwAAAAAAAAARBTMAAAAAAAAAEQUzAAAAAAAAAJHbowcA\n",
       "AAB4lPXoAYBPtR89AAAAwB/AP5gBAAAAAAAAiCiYAQAAAAAAAIgomAEAAAAAAACIKJgBAAAAAAAA\n",
       "iCiYAQAAAAAAAIgomAEAAAAAAACIKJgBAAAAAAAAiCiYAQAAAAAAAIgomAEAAAAAAACIKJgBAAAA\n",
       "AAAAiCiYAQAAAAAAAIgomAEAAAAAAACIKJgBAAAAAAAAiNwePQAAADyr9egBGLsAz2XNfvQIT88O\n",
       "AADA1+cfzAAAAAAAAABEFMwAAAAAAAAARBTMAAAAAAAAAEQUzAAAAAAAAABEFMwAAAAAAAAARBTM\n",
       "AAAAAAAAAEQUzAAAAAAAAABEFMwAAAAAAAAARBTMAAAAAAAAAEQUzAAAAAAAAABEFMwAAAAAAAAA\n",
       "RBTMAAAAAAAAAEQUzAAAAAAAAABEbo8eAAAA/q/16AE+zfOsFOAMrruPtmY/eoRP8zwrBQDg2fgH\n",
       "MwAAAAAAAAARBTMAAAAAAAAAEQUzAAAAAAAAABEFMwAAAAAAAAARBTMAAAAAAAAAEQUzAAAAAAAA\n",
       "ABEFMwAAAAAAAAARBTMAAAAAAAAAEQUzAAAAAAAAABEFMwAAAAAAAAARBTMAAAAAAAAAEQUzAAAA\n",
       "AAAAABEFMwAAAAAAAAARBTMAAAAAAAAAkdujBwAA4DHWowf4pbOng6/J54pf2Y8egKfxPNeidfDn\n",
       "6tzJAAD4CvyDGQAAAAAAAICIghkAAAAAAACAiIIZAAAAAAAAgIiCGQAAAAAAAICIghkAAAAAAACA\n",
       "iIIZAAAAAAAAgIiCGQAAAAAAAICIghkAAAAAAACAiIIZAAAAAAAAgIiCGQAAAAAAAICIghkAAAAA\n",
       "AACAiIIZAAAAAAAAgIiCGQAAAAAAAIDI7dEDAACcZj16gE/zPCvldxx8fhw8GnxdPli/ZT96gP/k\n",
       "2MGezLmfq/Uk58hzrBIA4PP5BzMAAAAAAAAAEQUzAAAAAAAAABEFMwAAAAAAAAARBTMAAAAAAAAA\n",
       "EQUzAAAAAAAAABEFMwAAAAAAAAARBTMAAAAAAAAAEQUzAAAAAAAAABEFMwAAAAAAAAARBTMAAAAA\n",
       "AAAAEQUzAAAAAAAAABEFMwAAAAAAAAARBTMAAAAAAAAAEQUzAAAAAAAAAJHbowcAAPir1qMH+KWz\n",
       "p+N3FPfU6fGbHDjgEGs/eoL/4ODrZP2QnboHpzv1HOnuZ3OVzjQAgH/zD2YAAAAAAAAAIgpmAAAA\n",
       "AAAAACIKZgAAAAAAAAAiCmYAAAAAAAAAIgpmAAAAAAAAACIKZgAAAAAAAAAiCmYAAAAAAAAAIgpm\n",
       "AAAAAAAAACIKZgAAAAAAAAAiCmYAAAAAAAAAIgpmAAAAAAAAACIKZgAAAAAAAAAiCmYAAAAAAAAA\n",
       "IrdHDwAAfA3r0QP80tnTPYfyHjzNlj7NQssct8ezB4+3Hz0A/J7VPncPvh5Vl/osn/lz93MdvAfn\n",
       "TgYA/Kn8gxkAAAAAAACAiIIZAAAAAAAAgIiCGQAAAAAAAICIghkAAAAAAACAiIIZAAAAAAAAgIiC\n",
       "GQAAAAAAAICIghkAAAAAAACAiIIZAAAAAAAAgIiCGQAAAAAAAICIghkAAAAAAACAiIIZAAAAAAAA\n",
       "gIiCGQAAAAAAAICIghkAAAAAAACAyJq57UcPAQD8tB49wC+dPd3zKO7D0Vt69HBFz7LOmWdZ63qS\n",
       "dcJn2vMsP1tY55/n4LVWRzt4nU/j3D04dzIA4K/wD2YAAAAAAAAAIgpmAAAAAAAAACIKZgAAAAAA\n",
       "AAAiCmYAAAAAAAAAIgpmAAAAAAAAACIKZgAAAAAAAAAiCmYAAAAAAAAAIgpmAAAAAAAAACIKZgAA\n",
       "AAAAAAAiCmYAAAAAAAAAIgpmAAAAAAAAACIKZgAAAAAAAAAiCmYAAAAAAAAAIgpmAAAAAAAAACJr\n",
       "5rYfPQQAfGXr0QP80tnTnat43I7egpOHM9vv6c3WX+Wpx60816nLrHuahR7sib7KV5d68nHrzdZf\n",
       "5XMctz6z/b/Vxzp0ncc787idORUAPCf/YAYAAAAAAAAgomAGAAAAAAAAIKJgBgAAAAAAACCiYAYA\n",
       "AAAAAAAgomAGAAAAAAAAIKJgBgAAAAAAACCiYAYAAAAAAAAgomAGAAAAAAAAIKJgBgAAAAAAACCi\n",
       "YAYAAAAAAAAgomAGAAAAAAAAIKJgBgAAAAAAACCiYAYAAAAAAAAgsmZu+9FDAMBnWwenPY/icTt6\n",
       "C04e7llmO/kTX96DZU8fbR0829me5bj5+v079tHHrTnbwevc567z5LSj9/TY2U6da/6G0Q5e67HO\n",
       "/sQDwDPxD2YAAAAAAAAAIgpmAAAAAAAAACIKZgAAAAAAAAAiCmYAAAAAAAAAIgpmAAAAAAAAACIK\n",
       "ZgAAAAAAAAAiCmYAAAAAAAAAIgpmAAAAAAAAACIKZgAAAAAAAAAiCmYAAAAAAAAAIgpmAAAAAAAA\n",
       "ACIKZgAAAAAAAAAiCmYAAAAAAAAAIgpmAAAAAAAAACJr5rYfPQQA/DfrCyT++crHrBp38n4+x2yr\n",
       "vs6Dj9tqznbucXuaPa3u50x3D9oO3QMO0ftpoP8jQzFxn/wTSHMP2uts5pVns6e/nXimU+ea6Z+7\n",
       "x4Y9kZPvfQBwNv9gBgAAAAAAACCiYAYAAAAAAAAgomAGAAAAAAAAIKJgBgAAAAAAACCiYAYAAAAA\n",
       "AAAgomAGAAAAAAAAIKJgBgAAAAAAACCiYAYAAAAAAAAgomAGAAAAAAAAIKJgBgAAAAAAACCiYAYA\n",
       "AAAAAAAgomAGAAAAAAAAIKJgBgAAAAAAACCyZm770UMAcIb16AF+6ezpjrVOPm7PMlt3nevU2ern\n",
       "2qHrnIP3YKa6D911/kz887NmlusuX9a5Pw3s3Zytvc4zZ9vtdR68B921Hnx+VPdg5tzz7dx19h08\n",
       "W/18ewbnHrNzJwPgK/MPZgAAAAAAAAAiCmYAAAAAAAAAIgpmAAAAAAAAACIKZgAAAAAAAAAiCmYA\n",
       "AAAAAAAAIgpmAAAAAAAAACIKZgAAAAAAAAAiCmYAAAAAAAAAIgpmAAAAAAAAACIKZgAAAAAAAAAi\n",
       "CmYAAAAAAAAAIgpmAAAAAAAAACIKZgAAAAAAAAAia+a2Hz0EAL9vPXqAXzp7up7iOo8+ZO3hmnnn\n",
       "HrjVnm013w88dw+qx616zGaaa62fH8X3R9c69zPfPT+eZJ3/k/gcmut8pq/LvbXu+nEr5u3ubN21\n",
       "FvegvM6Zey3p7POjt86Zc8+Pel7xuPXPj6aD9+Dk41Yd7eB11p271nMnA+Az+QczAAAAAAAAABEF\n",
       "MwAAAAAAAAARBTMAAAAAAAAAEQUzAAAAAAAAABEFMwAAAAAAAAARBTMAAAAAAAAAEQUzAAAAAAAA\n",
       "ABEFMwAAAAAAAAARBTMAAAAAAAAAEQUzAAAAAAAAABEFMwAAAAAAAAARBTMAAAAAAAAAEQUzAAAA\n",
       "AAAAABEFMwAAAAAAAACR26MHAHg269ED/NLZ03UV11o9bCfvQXu2Xt46eLZZ7dl67wdWj9vqvrfY\n",
       "3dPybNW1ds+P1VzrwXt69h4088qz1a9HTSfP1rQfPcB/tHdztu46dzNvlWfb915WcZ1renPNzOxi\n",
       "3mqfH8U96D+3FdfaXOe0P1fFqOq1aKa5B+dewQ/XvO7ugz+jdc21dtd57mQAfCb/YAYAAAAAAAAg\n",
       "omAGAAAAAAAAIKJgBgAAAAAAACCiYAYAAAAAAAAgomAGAAAAAAAAIKJgBgAAAAAAACCiYAYAAAAA\n",
       "AAAgomAGAAAAAAAAIKJgBgAAAAAAACCiYAYAAAAAAAAgomAGAAAAAAAAIKJgBgAAAAAAACCiYAYA\n",
       "AAAAAAAgcnv0AAD8VevRA3yS8jqrcSfvQXO27jpXM2+135nrzbbq7/MVZ6set+46n2W29vlhtt9L\n",
       "a+qus31/aV4/Tr73PYe9dzdw9fL2dGfb+95MK2bN7NWbrbnO5lwz5dmmO9tU88qzNc/d9nW3+rnq\n",
       "zdY+d5uf+VU9Zu2rUVtzuub3vvJR283P1ck72n5uO3mtAHwW/2AGAAAAAAAAIKJgBgAAAAAAACCi\n",
       "YAYAAAAAAAAgomAGAAAAAAAAIKJgBgAAAAAAACCiYAYAAAAAAAAgomAGAAAAAAAAIKJgBgAAAAAA\n",
       "ACCiYAYAAAAAAAAgomAGAAAAAAAAIKJgBgAAAAAAACCiYAYAAAAAAAAgomAGAAAAAAAAIHJ79AAA\n",
       "X8E6OO1sxbXWD1sz8OQ97b1LttrrXM287jtzq5m3zp1tVWcrr7M425prLWumO9tllWernh8nz1bc\n",
       "g/Y7t9Vzt/0Ecu77xfV7zKH27F5Y+ZDtuReziuucmdm92e7Fdc7M7OJsexWz9kcta6Y72709W/Xc\n",
       "7c421fOte+4285p7sHb34tacrf51aPeulfXrbv18O9QqHrfyuTv1PW3qrXWV13nyUQP405z7CwMA\n",
       "AAAAAAAAR1EwAwAAAAAAABBRMAMAAAAAAAAQUTADAAAAAAAAEFEwAwAAAAAAABBRMAMAAAAAAAAQ\n",
       "UTADAAAAAAAAEFEwAwAAAAAAABBRMAMAAAAAAAAQUTADAAAAAAAAEFEwAwAAAAAAABBRMAMAAAAA\n",
       "AAAQUTADAAAAAAAAEFEwAwAAAAAAABC5PXoAgL/LOjjtXOV1VuPae9DM62Wtk9e5uu+ldddanq26\n",
       "1msxqzvbWr3ZVn0PerNdilkzM6u4p+3ZmnnNPZiZuRSPW/X8aJ+7xbz+56qZd/KTVjNtF7MOT9v3\n",
       "Xtb0smZm9url3duz7Y9a1n16Wc25ZmbuxbxVXOfMzF7FPdjd6+5u7mn53J3mPuzmd45e1My0L5VV\n",
       "e/WGW8Vr+E+9z8I+eROaivs5M93P1dF70H4K7K315KMGcAL/YAYAAAAAAAAgomAGAAAAAAAAIKJg\n",
       "BgAAAAAAACCiYAYAAAAAAAAgomAGAAAAAAAAIKJgBgAAAAAAACCiYAYAAAAAAAAgomAGAAAAAAAA\n",
       "IKJgBgAAAAAAACCiYAYAAAAAAAAgomAGAAAAAAAAIKJgBgAAAAAAACCiYAYAAAAAAAAgcnv0AAD/\n",
       "a32BxDMV11k/ZM3A9nC9vHXyOlfvXbLVfi/t4NnWuvayTp6tmHVZ3cfKNefOdjn4uDXzLsU9mDl3\n",
       "tvo6i3n160f13nfuu8rNde7Ztay2Pfdu3uqttT3bfT6OzJqZua/ibPu9l1Wca6Y8WzHrZ15vrWu6\n",
       "s+1Dz4+ZmV29VvbW2Zzrp3NnW7t3rdztw1acrTnauXflv0Hxvvw3nCDlvKbm827z2Qjgz3PurwIA\n",
       "AAAAAAAAHEXBDAAAAAAAAEBEwQwAAAAAAABARMEMAAAAAAAAQETBDAAAAAAAAEBEwQwAAAAAAABA\n",
       "RMEMAAAAAAAAQETBDAAAAAAAAEBEwQwAAAAAAABARMEMAAAAAAAAQETBDAAAAAAAAEBEwQwAAAAA\n",
       "AABARMEMAAAAAAAAQETBDAAAAAAAAEDk9ugBgK9tPXoAypvwPDu6qmstZq3uu1+r+S5ZfbZrL6s9\n",
       "2yrOVn7cuhRnu6zebM2sdl57tut6qWVdyufH0bMV85pZl+K1qJ132efeE7r30fYTSDNtF7O6abs+\n",
       "272WdV+9rJmZ+3wcmTUz8zHvvazVy7oX55qZ+Zi3Wta9uM6ZmY9dnG137wn33Vtr9bl+uufIvTpb\n",
       "9/yo2t27VTNudW8J3aXu3j2h/YtF+17adfIJ0o17Bv1zF+Dx/IMZAAAAAAAAgIiCGQAAAAAAAICI\n",
       "ghkAAAAAAACAiIIZAAAAAAAAgIiCGQAAAAAAAICIghkAAAAAAACAiIIZAAAAAAAAgIiCGQAAAAAA\n",
       "AICIghkAAAAAAACAiIIZAAAAAAAAgIiCGQAAAAAAAICIghkAAAAAAACAiIIZAAAAAAAAgMjt0QMA\n",
       "/Nt69ACfYz3JOmemu6ftd6KKs63ebKu9zups11rWzMxavbxm1szMZfUekdqzXddLLau5zktxrpnu\n",
       "Oq9z7my3ea1lzXTXei1/Vbg1Z9u9z9W1fG27FGe7lO8Jl+K9b5Wf26p5uxfVfjzdxeGaWTMz92Le\n",
       "fd9rWTMz9/VRy/qYXtbMzEdxtvd5q2V9zHsta2bmY/Vme58ftayZmUvxftVc58zMx+7lrd29J1Tz\n",
       "iuvcu3vhvVcv5N3rR/MyXj5ss06drXx/6f7O0J6te5+vav6utQ9eZ/X6cfI6AX6PfzADAAAAAAAA\n",
       "EFEwAwAAAAAAABBRMAMAAAAAAAAQUTADAAAAAAAAEFEwAwAAAAAAABBRMAMAAAAAAAAQUTADAAAA\n",
       "AAAAEFEwAwAAAAAAABBRMAMAAAAAAAAQUTADAAAAAAAAEFEwAwAAAAAAABBRMAMAAAAAAAAQUTAD\n",
       "AAAAAAAAELk9egDgc60vkHimk9fZnK29zl7eas+2eu9Yreb7WsW5ZmbWXHtZq5fVzrus7iNNM++y\n",
       "XmpZMzPXYl4367WW1c67TXe2Zl59tt3b05fyV4Xb7uVdi9e22+5e267Fe8KlfO9r5q3Vna36NFMM\n",
       "272oet7e3enuxemaWTMzH/tey3pfH7WsmZmP3ct7X++1rLfpZc3MvK+3WtZ1us9G7+tHL2t6WTMz\n",
       "l+L96qP8H5FuXu/Ce5/eudbWuxL9Dco3rF28l67ibM25ZmZW8f6yj/7dqK15wrWPW/vpraX97Nxb\n",
       "56lHDDiffzADAAAAAAAAEFEwAwAAAAAAABBRMAMAAAAAAAAQUTADAAAAAAAAEFEwAwAAAAAAABBR\n",
       "MAMAAAAAAAAQUTADAAAAAAAAEFEwAwAAAAAAABBRMAMAAAAAAAAQUTADAAAAAAAAEFEwAwAAAAAA\n",
       "ABBRMAMAAAAAAAAQUTADAAAAAAAAEFEwAwAAAAAAABC5PXoAgL/POjKqHFbO6862qntw8my997XW\n",
       "XGtZMzNr9fKaWTMzl9V7DLmsl1rWzMy1mNfM+pn3emTWbX2rZc3MvEwv7za9dc7MvOzebC/TPT9e\n",
       "di/vZXc/8y/F69uteD26le8v1+I94VK+L1+rt+X2ffk57GbWbqbNfBTj7tWVznzsey3rvTzb+/6o\n",
       "Zb01s1Yva2bmbd6KWd1731vxmfJa/pnsrfksXv6PSDOv+d3q4+jvy129K9vfoHip3M3nj/K9bxef\n",
       "Z1ZzodN9ZjjaKq+0ug9PswsAv8U/mAEAAAAAAACIKJgBAAAAAAAAiCiYAQAAAAAAAIgomAEAAAAA\n",
       "AACIKJgBAAAAAAAAiCiYAQAAAAAAAIgomAEAAAAAAACIKJgBAAAAAAAAiCiYAQAAAAAAAIgomAEA\n",
       "AAAAAACIKJgBAAAAAAAAiCiYAQAAAAAAAIgomAEAAAAAAACI3B49APDfrYPTjlZd6snHrTfbaq9z\n",
       "Nd9jar8T1ctbzazqMZtZ61rLuqzuY8NlvdSyrsWsn3mvvaxLL2tm5ra+1bJeppn1vZb1M6832+vu\n",
       "7kEz72V3z93X6X3mX4rXj595vevby+rdr27FrJmZ26WXdy3fli/FtbbvyuVtONbevax7L+pnXnG4\n",
       "j+I6Z2be770z7r25CTPztnvXyrfd29W3/VHLmpn5sXvPgW/lZ8ofxXvfj/bzbnG2S/l7wlszbxcv\n",
       "4vcnuSGUte8JM8VrZfG6u5tztbV/TineE/pHrZlYP3C9rINPt+5vgd2FHn3YgCr/YAYAAAAAAAAg\n",
       "omAGAAAAAAAAIKJgBgAAAAAAACCiYAYAAAAAAAAgomAGAAAAAAAAIKJgBgAAAAAAACCiYAYAAAAA\n",
       "AAAgomAGAAAAAAAAIKJgBgAAAAAAACCiYAYAAAAAAAAgomAGAAAAAAAAIKJgBgAAAAAAACCiYAYA\n",
       "AAAAAAAgomAGAAAAAAAAIHJ79ADwJ1qPHuDLepYjd/I627P18lb5nai1enlrXY/Mmpm5rN6tvpk1\n",
       "M3NdL8Ws11rWzMzt0su7re+1rJmZl+nlNbNe97daVjvv23TPj2+791l4LX+uXovXttdL97r7eund\n",
       "E15WL+tWfuW2mXcr35aLW1DNmnmeN5/vzaxdDJuZ++5t6nt5tvd7cbbmJszM2+4t9se990loZs3M\n",
       "vOzeM+qP3Z3tOr3ZLsV1zsxcqt85yt+HilfeVbwvl5fZvfDWlS+WRfdjZyvPVYzb9WPWfNh6ptma\n",
       "nmWdXY4aPI9n+R4PAAAAAAAAwF+kYAYAAAAAAAAgomAGAAAAAAAAIKJgBgAAAAAAACCiYAYAAAAA\n",
       "AAAgomAGAAAAAAAAIKJgBgAAAAAAACCiYAYAAAAAAAAgomAGAAAAAAAAIKJgBgAAAAAAACCiYAYA\n",
       "AAAAAAAgomAGAAAAAAAAIKJgBgAAAAAAACBye/QAQGI9eoDPUV9mM/DUrJnVzFvt2YrvMa32O1HX\n",
       "WlJznat8a16rt87Leqllzcxci3nXy2sta2bmtr7Xsl6mlzUz8zr/6GXt3mzf9rda1szM993b02/l\n",
       "z9W3S+9z1cz6mde7jr8Ws2ZmvhUv4y/Fw/ZSfv54Ka7zVr71XdeuZbXvyuXT7Vj33hbMvRc1MzMf\n",
       "u7cJ7+Xh3op5b8U9mJl5++gdt3/ee1k/ilkzM/+89z71t/Js1+Js1/LV7VL9ntCdbZW/+9WUx9rN\n",
       "w9a8iM/Mnl5eM2tmZu1mXnOd3Wfn6s8p1WM2s4vPbat4j59p7ujhintw9kFr3w+OXixQ5B/MAAAA\n",
       "AAAAAEQUzAAAAAAAAABEFMwAAAAAAAAARBTMAAAAAAAAAEQUzAAAAAAAAABEFMwAAAAAAAAARBTM\n",
       "AAAAAAAAAEQUzAAAAAAAAABEFMwAAAAAAAAARBTMAAAAAAAAAEQUzAAAAAAAAABEFMwAAAAAAAAA\n",
       "RBTMAAAAAAAAAERujx4A+OrWowf4clb7mK3mu0Lt9456a13l2VbxuK11rWVdilkzM9f1cmTWz7zX\n",
       "WtZtfatlzcy8zPda1uv8o5Y1M/Nt92ZrZn3fvf2cmfm+eo+p38ufq3+xb29JciNbdkC3A/HITLKq\n",
       "WzLNf4iSrOqS+YgIQB9sM331lVtp902wuNYAth0ADn/gRDytvfnjaenObdfipTaz2nnX4m27LHsv\n",
       "LMm5mHca3drWYt5a3s4s5Ws9qm3v3bhH+ZY9irXdi1lJctt6eR/FrCR5L85tl0cv6/3Rvc5zMe9U\n",
       "nj/W4pljKY/dUcxrnyOraQf+LLA315fyWrWnmVdeFIrXumWrZY32de69vL14nT8UN7ztz1B771q7\n",
       "78GRtSfKX+W+AUfmH8wAAAAAAAAATNFgBgAAAAAAAGCKBjMAAAAAAAAAUzSYAQAAAAAAAJiiwQwA\n",
       "AAAAAADAFA1mAAAAAAAAAKZoMAMAAAAAAAAwRYMZAAAAAAAAgCkazAAAAAAAAABM0WAGAAAAAAAA\n",
       "YIoGMwAAAAAAAABTNJgBAAAAAAAAmKLBDJAX5Q4AACAASURBVAAAAAAAAMAUDWYAAAAAAAAAppw+\n",
       "uwA4inHgtEOrXmr7vjXzjprVzRvtN2H0fsfUzPqRtx4yaxndpbmZt45zLetH3qWWdc61lvUj76mW\n",
       "ddl7WUlyLeY9771n8FQeH89L7716Xrvzx9Pamyufe5eZJHkq5jWzfuTttazrstWyLsW6kuRSrO08\n",
       "urWdirWt5dqqO61ibfve3Rs179qjXNt9682Vt3JtH8XaPh7d2t6Ltb0tvdreyn8nOBfz1ke3uHX0\n",
       "7ttSHh9jK57VutNuVbO0vXyhe3pr3z56WUm5tmJW0r3WZm2jOtqS7ugtT7x7cT9z4O9Qv8w31PYk\n",
       "fuA1ofudsr0mAE3+wQwAAAAAAADAFA1mAAAAAAAAAKZoMAMAAAAAAAAwRYMZAAAAAAAAgCkazAAA\n",
       "AAAAAABM0WAGAAAAAAAAYIoGMwAAAAAAAABTNJgBAAAAAAAAmKLBDAAAAAAAAMAUDWYAAAAAAAAA\n",
       "pmgwAwAAAAAAADBFgxkAAAAAAACAKRrMAAAAAAAAAEw5fXYBwL/a+OwCfkqjed9G+xk0a2v/7qiZ\n",
       "161tFPOW0VtOm1k/8s61rHVcallJchrXWtY5T7WsJLnsvdquxawkedp7z+GpOD5elrWWlSTPa+8d\n",
       "fT51592X4qU+l3fjL+tey3pat1pWkjwX85q1XddHLStJLkuvtmZWkpyKeevo1raM3tg9sm3vzUeP\n",
       "vbs3um+9vI9iVjvv/dFdr94evdouyzGzkuS09MbuWj4OLcXzVfOM8COvqDvtZi9Ou3t6YXv5Qvfi\n",
       "erWV177mtW4Hvm/N69z39jM47jeLNPdGzRc+qX7XGsW9UdKdj46ted9+lXsGtPkHMwAAAAAAAABT\n",
       "NJgBAAAAAAAAmKLBDAAAAAAAAMAUDWYAAAAAAAAApmgwAwAAAAAAADBFgxkAAAAAAACAKRrMAAAA\n",
       "AAAAAEzRYAYAAAAAAABgigYzAAAAAAAAAFM0mAEAAAAAAACYosEMAAAAAAAAwBQNZgAAAAAAAACm\n",
       "aDADAAAAAAAAMEWDGQAAAAAAAIApp88uAP6q8RMkHlL9MpuB7eKOWlv3Okcxr5mVJGP0fsfUzPqR\n",
       "t/ay0staRndpXse5mHWpZSXJOddDZiXJZe/lPe3d+/ZUHCPPS2/sPq/dd/Tl1JuPXso73i/FvJd1\n",
       "64UleTn18l7WRy0rSV5OvbynYm1P672WlSTXUy/vvHSfwbk43tbRrW1Z9mreUW1bb2577L05PElu\n",
       "j948ftu6tb3fexPv26O7KLw9etd6ufeyzsU1PknW4l68mZUko3iEaZ+Hmv/raM+S+9ZL3Pde1pbu\n",
       "3mgbvbwt3bVvK66l7dr2Zm17L6t5jk+SUR1v5f9x7c3aunPbfuBvZL/O993iqnDobXj7G2px7asl\n",
       "wc/LP5gBAAAAAAAAmKLBDAAAAAAAAMAUDWYAAAAAAAAApmgwAwAAAAAAADBFgxkAAAAAAACAKRrM\n",
       "AAAAAAAAAEzRYAYAAAAAAABgigYzAAAAAAAAAFM0mAEAAAAAAACYosEMAAAAAAAAwBQNZgAAAAAA\n",
       "AACmaDADAAAAAAAAMEWDGQAAAAAAAIApp88uAOC/zvjsAv4T5bpG87dC7d8d9fJG1lpWkiyjl7eM\n",
       "3nLazEqSNeda1imXWlY777J3a7sWa7uWt1tPxbH7vPbe0edTd257Kd62r+Ud75fTVsv6enrUspLk\n",
       "SzHv5XSvZf3Iux0y6+ncvc5rsbZz+Rmc117euvTegyRZynlHtW29efdRzEqS26M3Wd7u3Yn3/d7b\n",
       "z7zdurV9L9Z2XopZ972WlSSn6t65FpUkGQf+78RePPvt5evc9t4z3fbeeHuUzxzb3tsbPUZ3XX6k\n",
       "l7cVs5JkK17rMnrPYE9377zvvf3HnvZepvjOj+6akOI739dcZI58nQCf77i7cAAAAAAAAAAORYMZ\n",
       "AAAAAAAAgCkazAAAAAAAAABM0WAGAAAAAAAAYIoGMwAAAAAAAABTNJgBAAAAAAAAmKLBDAAAAAAA\n",
       "AMAUDWYAAAAAAAAApmgwAwAAAAAAADBFgxkAAAAAAACAKRrMAAAAAAAAAEzRYAYAAAAAAABgigYz\n",
       "AAAAAAAAAFNOn10AMGN8dgH/It3rrKaNXtqoP89ibaP7u6NmXr22rLWsZfSy1nGuZbXzTrnUspLk\n",
       "vF9rWZe9W9t1722RrktvfCTJ09p7F57W3vzx0r3MfCnuUr+ctl5Ykt9Oj1rW1/O9lpUkX0+3WtaX\n",
       "cy8rSb5cPmpZz+f3WtZTsa4kuRbv2+XSfQan4vhY1957kCRj2XtZo5e1791927718h6P7sR7v/f2\n",
       "DB8f3f3M+62Xd/3o7hkut95+5vzRW69Oo7v2LcU95ZFPt3v5fxh7bzrKVp6PHnvvWh/Fs9Vj636q\n",
       "fBTPMPd0177H6O0DH6O7Z9jSq20rXue2d9e+MXrPdNT/x9XL2/fumtD8rrUXv7clyShOvHt1xSou\n",
       "CHXtlfnI1wo0+QczAAAAAAAAAFM0mAEAAAAAAACYosEMAAAAAAAAwBQNZgAAAAAAAACmaDADAAAA\n",
       "AAAAMEWDGQAAAAAAAIApGswAAAAAAAAATNFgBgAAAAAAAGCKBjMAAAAAAAAAUzSYAQAAAAAAAJii\n",
       "wQwAAAAAAADAFA1mAAAAAAAAAKZoMAMAAAAAAAAwRYMZAAAAAAAAgCmnzy6AX8s4cNqhVS+1fd+O\n",
       "/ByatR01KxmHrq33O6ZlrLWsdt4yesvpUl6aT7kcMitJzjn3svZeVpJcis/0unTH7tPSe6+ei6U9\n",
       "l3eVL+tWy/p6etSykuTr+V7L+u18q2UlyW+X91rW12JWkrxce3kv17da1rVYV5Jcn3p550t3fKzF\n",
       "vPXUew+SZBTf+SPbH705/HHvTryPj95aeitmJcn727WWdX3vZSXJ+b23xpyWXta6dN+pceBj317M\n",
       "2pphSR578Z1v17b1arsXa7vv3Qu97b134Ty6a9+9eL56pLtnaOZVz8vlZ7CndyDa9+6ZYy9+n+l+\n",
       "N+rWduzvlM356MAL6SgvMOW4ruZ71b3QQ982+E/4BzMAAAAAAAAAUzSYAQAAAAAAAJiiwQwAAAAA\n",
       "AADAFA1mAAAAAAAAAKZoMAMAAAAAAAAwRYMZAAAAAAAAgCkazAAAAAAAAABM0WAGAAAAAAAAYIoG\n",
       "MwAAAAAAAABTNJgBAAAAAAAAmKLBDAAAAAAAAMAUDWYAAAAAAAAApmgwAwAAAAAAADDl9NkFAPxf\n",
       "oxzXzCtmVetKmr8VGuXfHY1x3NqWsRazesvpOs61rCRZ08s77d3azsW8S3rPM0kuxbF7Xbrv/LV4\n",
       "qU/FrJd174UleTlttawvp0ctK0m+nm61rN8u77WsH3lvtayvT72sJHl5fq1lPb/0sq7P3eu8FPNO\n",
       "Tx+1rCRZrr2xu5zvtawkGWvvPW1utfbu1Jb90Zt4t1v3OL+999bl+9ullpUk59enYlbvPUiStTh2\n",
       "19Fb+0bKg7eo/V5te++lvxezkuTRrG3r1nbrDbfcitd527rnvtvem3dv5fPQrXhWu7fPkcW8R4r7\n",
       "j+I5Pkm2vfjNoniGTJJRrG1v/8esuF6lPO92N4LN2o67LgP8Vf7BDAAAAAAAAMAUDWYAAAAAAAAA\n",
       "pmgwAwAAAAAAADBFgxkAAAAAAACAKRrMAAAAAAAAAEzRYAYAAAAAAABgigYzAAAAAAAAAFM0mAEA\n",
       "AAAAAACYosEMAAAAAAAAwBQNZgAAAAAAAACmaDADAAAAAAAAMEWDGQAAAAAAAIApGswAAAAAAAAA\n",
       "TDl9dgHw9zQ+u4Cf0pHv2ihW18xKkjGKeaP7u6NR/B3TGGstq523pJnVXZrXYt65XNt57923c3l8\n",
       "XJbe2L0s3Xf+WrzUp2rW1gtL8rI+elmney0rSb6cb7Wsr5f3WlaSfH16q2V9efley0qSly+9vKev\n",
       "vazLl9daVpKcinnrc3d8LE8fvaxz7x1NkpyKc0hz2t2LWUly760v26279m1vl1rW+nqtZSXJ+q03\n",
       "767n7pqwLL2xO0Z7wPXsxRfrsXXPHPe9l3fbuvu2Zt7H1n3nP4rT7kfxOpv78CT5aJ45illJch69\n",
       "89WtfFZrnkub5+UjfxcYxbnoR2Dxe0r7i9vezOvW1lxJj7ylPDZ3Dn4V/sEMAAAAAAAAwBQNZgAA\n",
       "AAAAAACmaDADAAAAAAAAMEWDGQAAAAAAAIApGswAAAAAAAAATNFgBgAAAAAAAGCKBjMAAAAAAAAA\n",
       "UzSYAQAAAAAAAJiiwQwAAAAAAADAFA1mAAAAAAAAAKZoMAMAAAAAAAAwRYMZAAAAAAAAgCkazAAA\n",
       "AAAAAABM0WAGAAAAAAAAYMrpswsAfnbjoFntvKNmdfNGubYxer9jGuXfRC1Ze1mjt5yu5aX5lHMv\n",
       "a+/Wdi4+g3NxrCXJZem9C9fyz/muvduWp3WvZT2vWy0rSV5Oj2LWrZaVJF8uH7Wsl+t7LStJXp5f\n",
       "e1lfvteykuT5t2+1rOvvvazzb93rXL/2nsF46Y7d8dx758elOBklyam3XmUU9zN7754lSe69uW18\n",
       "9OaiJFlee+Nt/d6tbb3ca1lLcX1JkjHKY6Rk37v7+sfe29Dct+78cdt6tTWzkuSjmNfMSpL3rTdG\n",
       "Poqv1UdxH54k5+J9O+/dsds8X51GcR1N91zaPC8v5WfQ/M7Q/P6RJKM4j+8H/g515G9kx81KkmPu\n",
       "P4Bfi38wAwAAAAAAADBFgxkAAAAAAACAKRrMAAAAAAAAAEzRYAYAAAAAAABgigYzAAAAAAAAAFM0\n",
       "mAEAAAAAAACYosEMAAAAAAAAwBQNZgAAAAAAAACmaDADAAAAAAAAMEWDGQAAAAAAAIApGswAAAAA\n",
       "AAAATNFgBgAAAAAAAGCKBjMAAAAAAAAAU06fXQD8LY0jB9aLO7CjXmu3rlHMG6P7u6NR/B1Tvbax\n",
       "1rKW9LLW8tK87s3aellJcio+g/PovlfNvHP3tuVafBWuy1bLelp7WT/yHrWsl9OtlpUkz+f3WtbL\n",
       "9a2WlSTPL6+1rKev32tZSXL9/Vst6/xv/6hlnX7vXuf4vTd2x5dLLStJ8vxci9qv11pWkuR07mUt\n",
       "xTVh23tZSXLvzUfjvTcXJcl47c0f+9NHLStJxqn3XqW49rXte2/sblt37/x49DY0t3t3c/RRzHt/\n",
       "dPfiT2uvtrdHd+xel2JtxUd6fhx3X988vyTd81Xz3Jck6+i9C83zcvMc/yOv+M1ib3+zaNbWfa/2\n",
       "w35vS477LbDtwNc5ivvn8lYc6PIPZgAAAAAAAACmaDADAAAAAAAAMEWDGQAAAAAAAIApGswAAAAA\n",
       "AAAATNFgBgAAAAAAAGCKBjMAAAAAAAAAUzSYAQAAAAAAAJiiwQwAAAAAAADAFA1mAAAAAAAAAKZo\n",
       "MAMAAAAAAAAwRYMZAAAAAAAAgCkazAAAAAAAAABM0WAGAAAAAAAAYIoGMwAAAAAAAABTTp9dAMc3\n",
       "DpzG382Bx8do1la+ziPXVsxbyr+JauYtWQ+ZlSRrMe+0d2s7FcduMytJTsXhdi6/Vpdl72Wtvazr\n",
       "+qhlJcnTeu9lnXtZSfJ0+ahlXa/vtawkuT6/1bIuX15rWUly/u17Lev0ey9r+fetlpUk+f1LLWr/\n",
       "7bdaVpLsL8Xars+1rCTZT5de2FJcr7bu3DbuvfljvHff0fH9Wy/r/GctK0nGUpw/0stKkmy9TcN2\n",
       "743dx637uef2ca5lPd16WUnyfu/NH0/37p7huvae6aWYlSSXR28feG7u68t/hameOcrn5eb5ah3d\n",
       "8XHUM+6Rvws8Dvw9pfvdKMl+5NqaYQf+TskBtLsmvcFbfQ3gn/APZgAAAAAAAACmaDADAAAAAAAA\n",
       "MEWDGQAAAAAAAIApGswAAAAAAAAATNFgBgAAAAAAAGCKBjMAAAAAAAAAUzSYAQAAAAAAAJiiwQwA\n",
       "AAAAAADAFA1mAAAAAAAAAKZoMAMAAAAAAAAwRYMZAAAAAAAAgCkazAAAAAAAAABM0WAGAAAAAAAA\n",
       "YMrpswsAfm4joxlWVa2tmDVG+UKbtZUfwhjF3zE1s5KM4m+slqyHzEqSZe/lreXfpa3FZ3paumP3\n",
       "VLzUc/nnfOdlr2Vdlu2QWUlyPd2LWbdaVpJcz72869N7LStJLs9vtazTl9daVpKsX3t54/dHLSu/\n",
       "f+llJdn/7d9rWdtvvawk2b783su6lu/b+akXNopr6V4ca0nGrfeOLu/fallJspz/6GUt3f1MdVe/\n",
       "de/beu/NbaeP3ieay/u5lpUk1/dLMetay0q66/z11L1vl3svr73XOi+9Teq5uBdv7sN/5PVqW7fy\n",
       "eWgvnkmL574kWYprafOM2zzH/wjs5VW/fyQZ+zG/aSXd71p79Tq737WapXWfZ7Kn910A4K/yD2YA\n",
       "AAAAAAAApmgwAwAAAAAAADBFgxkAAAAAAACAKRrMAAAAAAAAAEzRYAYAAAAAAABgigYzAAAAAAAA\n",
       "AFM0mAEAAAAAAACYosEMAAAAAAAAwBQNZgAAAAAAAACmaDADAAAAAAAAMEWDGQAAAAAAAIApGswA\n",
       "AAAAAAAATNFgBgAAAAAAAGDK6bMLAPgZjM8u4J8Y1eq6V9qsrXudySj+xqqZtezd334tzdrKz6CZ\n",
       "t5Zf0lMx71T+Od9p7LWsczHrsmy1rCQ5L49e1uley0qSy+VWyzoXs5Lk9PRRy1qf32tZSTJeetc6\n",
       "vlxqWftvv9WykmT77d9rWY/f/3stK0m2l17edv29lpUk+/mlFzbWXtbem4uSZNy+17L2yx+1rCTZ\n",
       "1+N+Hli23nMYt+68O956eetrb95trgdJd71qrqNJcn7vrfPN/UfS3R81921Jd0/Z3O829+FJ95xw\n",
       "5PNQ89yXdM+lYxzz7P0j77jfLJrfZ9q1NWej9l3rzpQA/DP+wQwAAAAAAADAFA1mAAAAAAAAAKZo\n",
       "MAMAAAAAAAAwRYMZAAAAAAAAgCkazAAAAAAAAABM0WAGAAAAAAAAYIoGMwAAAAAAAABTNJgBAAAA\n",
       "AAAAmKLBDAAAAAAAAMAUDWYAAAAAAAAApmgwAwAAAAAAADBFgxkAAAAAAACAKRrMAAAAAAAAAEzR\n",
       "YAYAAAAAAABgyumzC4DjGJ9dAIfWHB/tsdbLG+PAtZV/EzVGL28c+DqXYm3NrCRZi3FLeewuxbh1\n",
       "7L2wct5p2Q6ZlSTntZd3Xu+1rCQ5nW61rPXSy0qS5drLW54+allJMp6L78Lzcy1qf/lSy0qS7cvv\n",
       "vayX/17L+pH3P3ph1//Wy0oy1pde1tI75u5bd/7I+Xstalsvtay28ejet3F762W9vtaykmQ89+bK\n",
       "5rzbXA+S7nrVXEeT7jrf3H8kx95rNfeUzaz+vr6X1zy/JMc+qzXPpdXzcvEcnyRjb+aVn0HzXdiP\n",
       "+63H91j+ufb46H6fgV+dfzADAAAAAAAAMEWDGQAAAAAAAIApGswAAAAAAAAATNFgBgAAAAAAAGCK\n",
       "BjMAAAAAAAAAUzSYAQAAAAAAAJiiwQwAAAAAAADAFA1mAAAAAAAAAKZoMAMAAAAAAAAwRYMZAAAA\n",
       "AAAAgCkazAAAAAAAAABM0WAGAAAAAAAAYIoGMwAAAAAAAABTTp9dAPCvNj67gH/iyLXxV4xx5Gfa\n",
       "q20Uf681yu9BM6/9PJt57V/MLcVLbde2Fmtbx17M2mpZP/IevaylXNtarO10r2UlyXLu5S3n3nUm\n",
       "ybistaz9ei1mPdeykmS7film/V7LSpJc/1starn0spJkWV9qWWMUx9refQ+2R2/sdme2ZHt81LLG\n",
       "x7daVpIsxfe0OX8k3bmtOe8214Oku14119Gku8439x8/8pq19fZtP/J6Wc39bnMfnnRrO/J56NDn\n",
       "yO5TKGZ11b9/dF95/pLjjrdubQYb8Nf4BzMAAAAAAAAAUzSYAQAAAAAAAJiiwQwAAAAAAADAFA1m\n",
       "AAAAAAAAAKZoMAMAAAAAAAAwRYMZAAAAAAAAgCkazAAAAAAAAABM0WAGAAAAAAAAYIoGMwAAAAAA\n",
       "AABTNJgBAAAAAAAAmKLBDAAAAAAAAMAUDWYAAAAAAAAApmgwAwAAAAAAADBFgxkAAAAAAACAKafP\n",
       "LgDgv8747AJ+Qse9Z6Nc21GvtF1X8771aytmlYtr/gJvadc29lpWs7RmXUmyLL28ZdlqWUkyirWN\n",
       "tVzb+uiFnbq15XQ+ZNZ+utSykmQ/PxWzXmpZSTLWXt5SzEqSdX2uZS1jrWVte/GdKtvW92pec7w1\n",
       "34Ok/J4256IkOfXGW063WlR1PUh3vWquo0l3nW/uP5Lj7tuSbm3N/W77nzDNc8Khz0POy38x76hX\n",
       "mhz3KRyd+wbwr+IfzAAAAAAAAABM0WAGAAAAAAAAYIoGMwAAAAAAAABTNJgBAAAAAAAAmKLBDAAA\n",
       "AAAAAMAUDWYAAAAAAAAApmgwAwAAAAAAADBFgxkAAAAAAACAKRrMAAAAAAAAAEzRYAYAAAAAAABg\n",
       "igYzAAAAAAAAAFM0mAEAAAAAAACYosEMAAAAAAAAwJTTZxcAwP+v8dkF/KR6921Un0H5ee69qGGo\n",
       "/e2MURwgv5Aj37fqe9p+55vFLc2stZeVJKOY18xKMpbe8W+Ua1uKec3a2r/I3prXWXyeSbIfeOxW\n",
       "39Pm/JF057Zm1IH3bUdeR4/Mffv7qb6m7eFRnEQOfV7+ZbhvAPT5BzMAAAAAAAAAUzSYAQAAAAAA\n",
       "AJiiwQwAAAAAAADAFA1mAAAAAAAAAKZoMAMAAAAAAAAwRYMZAAAAAAAAgCkazAAAAAAAAABM0WAG\n",
       "AAAAAAAAYIoGMwAAAAAAAABTNJgBAAAAAAAAmKLBDAAAAAAAAMAUDWYAAAAAAAAApmgwAwAAAAAA\n",
       "ADDl9NkFAPD/a//sAn5Svfu2V59B+XmOXpSR9vez78UB8gs58n3bDzwdVYvbmlmPXlaS7MW8ZlaS\n",
       "fbv3ssq1bcW85q+om3Ul3fvWfJ4/Ao87dqvvaXP+SLpzWzPqwBu3I6+jR+a+/f1UX9P68PhFzsu/\n",
       "DPcNgD7/YAYAAAAAAABgigYzAAAAAAAAAFM0mAEAAAAAAACYosEMAAAAAAAAwBQNZgAAAAAAAACm\n",
       "aDADAAAAAAAAMEWDGQAAAAAAAIApGswAAAAAAAAATNFgBgAAAAAAAGCKBjMAAAAAAAAAUzSYAQAA\n",
       "AAAAAJiiwQwAAAAAAADAFA1mAAAAAAAAAKZoMAMAAAAAAAAw5fTZBQD819k/u4Cf0HHv2V6u7ahX\n",
       "2q6red/6tRWzysVtzax2bfuoZTVLa9aVJNvWy9u27m8q92Jt+6Nc22Pthd3Lv0W9P4pZt1rUuH/U\n",
       "spJk3N6KWd9rWUmScy9ve1xrWW3b6L0H+14ct0m2R/GZNrPSHW/N9yApv6fF+eNHXnNu68271fUg\n",
       "3fWquY4m3XW+uf9IjrtvS7q1Nfe7zX140j0nHPo85Lz8F/OOeqXJcZ/C0blvAP8q/sEMAAAAAAAA\n",
       "wBQNZgAAAAAAAACmaDADAAAAAAAAMEWDGQAAAAAAAIApGswAAAAAAAAATNFgBgAAAAAAAGCKBjMA\n",
       "AAAAAAAAUzSYAQAAAAAAAJiiwQwAAAAAAADAFA1mAAAAAAAAAKZoMAMAAAAAAAAwRYMZAAAAAAAA\n",
       "gCkazAAAAAAAAABMOX12AcC/2l7OG8Wsdm18tn0vPtPmUEvSHG97tmJW9z1o5lWfZzmv9wT+I694\n",
       "qe3aHsXaHnvvxXrs3d8tPva1l7WVa3sUa7t3t+PbrZe33XrXmSTj46OX9f5ezHqtZSXJ8v6tlrVf\n",
       "/qhlJcm2XnpZtaT/yFuLz3TpvQf7dq9lJUke33tZ7/+rl5Vkee+Nt+Z7kHTf0+b8kST7x6OWtd2K\n",
       "72hxPUi661VzHU2663xz//Ejr1lb90DU3FM214TmPjzp1nbk89A+DnyO7D6FYlZXe3xwBEd+pkeu\n",
       "DfhV+AczAAAAAAAAAFM0mAEAAAAAAACYosEMAAAAAAAAwBQNZgAAAAAAAACmaDADAAAAAAAAMEWD\n",
       "GQAAAAAAAIApGswAAAAAAAAATNFgBgAAAAAAAGCKBjMAAAAAAAAAUzSYAQAAAAAAAJiiwQwAAAAA\n",
       "AADAFA1mAAAAAAAAAKZoMAMAAAAAAAAwRYMZAAAAAAAAgCmnzy4AjmMvZo1iFsfQHB/NrG7evpdr\n",
       "G8XastWykmTfe3n7ga9zK46PZlaSPIpxW3nsbntvHn8Us9p59633W8NmVpLcHr2826O75b3fz7Ws\n",
       "x0cvK0m2917e9napZSXJ8nqrZY3X117W92+1rCRZzn/Usvb1uMe17fFRzdvPL72ssdaysj96WUnG\n",
       "7Xsta3nvjbUkWb7/z17Wt25t1fe0OH8kyf7aW5eb825zPUi661VzHU2663xz/5Ece6/V3FM2s7by\n",
       "kbR5TmieX5Jjn9Wa59K9+s2i/F2gev4uP4PqGfe436H6tfH3YnzAkfkHMwAAAAAAAABTNJgBAAAA\n",
       "AAAAmKLBDAAAAAAAAMAUDWYAAAAAAAAApmgwAwAAAAAAADBFgxkAAAAAAACAKRrMAAAAAAAAAEzR\n",
       "YAYAAAAAAABgigYzAAAAAAAAAFM0mAEAAAAAAACYosEMAAAAAAAAwBQNZgAAAAAAAACmaDADAAAA\n",
       "AAAAMOX02QUA/Az2YtYoZiXJXq2umdWtrXudyZ7tkFnb6GUlybYXays/g2beo1ta7sW8e/eR5r73\n",
       "ZpFbMetj6/5u8batvax7d8v78XGuZd2KWUlyf7vUstbXay0rSdbvH7Ws/amXNc5/1rKSZFl6Y7dt\n",
       "PO69rI9vtawk2c9PvbBRfAb7o5eVZNzealnLe/cZLN/+6GX9+b9rWUky/uy9p/u33vyRJPv33rz7\n",
       "KM67zfUg6a5XzXU06a7zzf1H0t0fNfdtSXdP2dzvNvfhSfeccOTz0FY8kybdc+lRz94/8o77zaL5\n",
       "faZfW89xKwPg/8U/mAEAAAAAAACYosEMAAAAAAAAwBQNZgAAAAAAAACmaDADAAAAAAAAMEWDGQAA\n",
       "AAAAAIApGswAAAAAAAAATNFgBgAAds95WwAAIABJREFUAAAAAGCKBjMAAAAAAAAAUzSYAQAAAAAA\n",
       "AJiiwQwAAAAAAADAFA1mAAAAAAAAAKZoMAMAAAAAAAAwRYMZAAAAAAAAgCmnzy4A+Lnt2WtZoxeV\n",
       "JNmLgaN4nfvevdBRvM7m80ySfd+KYcWsJPvo5W15HDIrSbbRy3uUn0Ez7751fzN330Yt69a9bbkV\n",
       "a/so3rdmVpK833vb1Pf7uZaVJO+3Xt7727WWlSTn16da1vrtVstKkvVyr2WNU29uG8v3WlaS9N7Q\n",
       "ZNm6a8K4vdWylutzLStJ9tOlF7asvaz2M7h/9LLeX2tZSTK+f+tl/flnLStJ8kfvPd3/KI6PJI9/\n",
       "9N6F+7de1kdxPUi661VzHU2663xz/5Ece6/V3FM297v38t75vvXOuPXzUIpn0uK5LznuGXcv3rMf\n",
       "gb286vePtL/PtL/1HLi2Zl41qvzRE+AA/IMZAAAAAAAAgCkazAAAAAAAAABM0WAGAAAAAAAAYIoG\n",
       "MwAAAAAAAABTNJgBAAAAAAAAmKLBDAAAAAAAAMAUDWYAAAAAAAAApmgwAwAAAAAAADBFgxkAAAAA\n",
       "AACAKRrMAAAAAAAAAEzRYAYAAAAAAABgigYzAAAAAAAAAFM0mAEAAAAAAACYosEMAAAAAAAAwJTT\n",
       "ZxfA8e3FrFFO4++mOT7K9mJto3ydR66t+Ey3bLWsdt6WxyGzkuRRzLuPbm334vi4N9+DJPficLuV\n",
       "X6uPrbf+fTx6We+PtZaVJG+P3jb17dbd8l4/Lr2s92stK0nOr7da1nq+17KSZDkV55Cl95Ke8r2W\n",
       "lSRj+9bLuvWeZ5KM19da1n7tjt2czr2spXhO2MqT+L33TMf7ey0rSdIcH98+allJsv/RW2Puf7zU\n",
       "spLk9mcv7+Pbcy3r/fWplpUk78X16q24jibddb65/0i6+6Pmvi3p7imb+93mPjzpnhOa55eke75q\n",
       "nvuS455xj/xdoP9Nq5hXPi8fu7amI9fG5+uOD6ONn5F/MAMAAAAAAAAwRYMZAAAAAAAAgCkazAAA\n",
       "AAAAAABM0WAGAAAAAAAAYIoGMwAAAAAAAABTNJgBAAAAAAAAmKLBDAAAAAAAAMAUDWYAAAAAAAAA\n",
       "pmgwAwAAAAAAADBFgxkAAAAAAACAKRrMAAAAAAAAAEzRYAYAAAAAAABgigYzAAAAAAAAAFNOn10A\n",
       "/C3t5bzRDmwan13AP3HU+9atay/m7ftWy0qSffTy6rXtj1rWNnpZj9xrWUnyaNZWvGdJci/m3fa1\n",
       "lvUjr/de3R7defK9eKnvW++3hm+P7u8W3x69C/1+P9eykuRyu9ayzu/d92pde3nL0p13x1H3M8X3\n",
       "IEnW+2sta7zdallJMp4/elmX7rybUzFvFOfd4nqQJLn33tH9ozt/7K+9+7Z/v9SykuTxj+da1u3P\n",
       "l1pWkrz/8aWW9faPXm2v33v3LEm+vz/Vsl6L62jSXeeb+48feb01prlv+5HXy7oVp6PmPryd1zy/\n",
       "JOWzWjEr6Z5LtxTXvvIzaH5n2NP+ZtGsrb0PP+i+Psmxa2tqXmf5nv0qjwDwD2YAAAAAAAAA5mgw\n",
       "AwAAAAAAADBFgxkAAAAAAACAKRrMAAAAAAAAAEzRYAYAAAAAAABgigYzAAAAAAAAAFM0mAEAAAAA\n",
       "AACYosEMAAAAAAAAwBQNZgAAAAAAAACmaDADAAAAAAAAMEWDGQAAAAAAAIApGswAAAAAAAAATNFg\n",
       "BgAAAAAAAGCKBjMAAAAAAAAAU06fXQDws9sPmtXOO2pWN28v17bvWy9r9LKSZMujl7Xfa1mP0ctK\n",
       "kntuvaxybbe99wxuxbGWJB9b7zd479uoZSXJpXfb8rb0arss3d8tXu5rLeu8nGtZSXL+6I2301J8\n",
       "oEnW4lw5Rnu96tn33tjdimMtSU4fvSPW+vpey0qS5emjl3Xujt2ceutVmtNu+zW49+bK7XapZSXJ\n",
       "9tbLe7xea1lJcv/2XMv6KGYlyds/XmpZ378Vs1671/n9vfdMv310x+73e2+d/15eE14fvXf+7dHd\n",
       "U74Xp/H34lb8Y+tOvM1zwq14hky656vmuS9JHunV1jwvN8/xSbKn+M2ifCbtfp857neoX6e2456t\n",
       "AP4q/2AGAAAAAAAAYIoGMwAAAAAAAABTNJgBAAAAAAAAmKLBDAAAAAAAAMAUDWYAAAAAAAAApmgw\n",
       "AwAAAAAAADBFgxkAAAAAAACAKRrMAAAAAAAAAEzRYAYAAAAAAABgigYzAAAAAAAAAFM0mAEAAAAA\n",
       "AACYosEMAAAAAAAAwBQNZgAAAAAAAACmnD67APh72st5o5x3TEe+a3u1uvKV7r28ka2WlST76OXt\n",
       "+6OW1c7bRjEr91pWkjyKebdybbfifbv9H/btLcuN5FgCYCSAbo72v9Q7QzZQj7wfLR39USHKh0gS\n",
       "ZgvwE1nvKgfCx8fjzP0G73Fmr+H3I5f3Efyp4fsl+7vFt8s1l7Vnr7u34LXtesled0f8bpozZ+7Y\n",
       "PYPn6LFlX4ne72+xrNsfj1hWVdXly5bLesveE8Y1dx0fwctu8DHrM+/IXdvO8LF7Bo/d/eM9llVV\n",
       "9fj2RyzrHsyqqvr29R+xrK/fcll/fmTX+efjSyzrry13rFVVfd1z58LX4DlaVfVx5O5XH9nH3boH\n",
       "8x5n7mL5OLPPRsn3hOT7S1X2/Sr53leVfS89K7fdVv4uMMPfU2omv6dkH2iS38iy39uy1p1sdbYc\n",
       "vAr/YAYAAAAAAACgRcEMAAAAAAAAQIuCGQAAAAAAAIAWBTMAAAAAAAAALQpmAAAAAAAAAFoUzAAA\n",
       "AAAAAAC0KJgBAAAAAAAAaFEwAwAAAAAAANCiYAYAAAAAAACgRcEMAAAAAAAAQIuCGQAAAAAAAIAW\n",
       "BTMAAAAAAAAALQpmAAAAAAAAAFpuzx4A4N9mOC6YN4JZybmqqsYZi5qVy6qqmjM4W3CdVVXnPIJZ\n",
       "eyzrqC2WVVV1jFzeHsyqqtqCa33M7CPN27zGsu5n9vd8b8fIZQVHu11yc1VVXUduuNvI7c+qqst4\n",
       "i2WN7GaLmpUd7pi5fXocuX26PXL7s6rqy/09lvX2nr3uXoN511vu3ldVNa7Z+/yq5hE8D/bsve8I\n",
       "ngvp8+r+8SWXdc9lVVV9vf8RzMrN9ucju87/C+b9uWePj7/23D3h6559bvsafG77yL2+VFXVPZh3\n",
       "P3PvuI/gO2RV1aNyC93C70PJ96v4e+TM5SXfl5Pv8VXZbyDJ7x9V6e8z4ees6Hethb8FpmcD+M34\n",
       "BzMAAAAAAAAALQpmAAAAAAAAAFoUzAAAAAAAAAC0KJgBAAAAAAAAaFEwAwAAAAAAANCiYAYAAAAA\n",
       "AACgRcEMAAAAAAAAQIuCGQAAAAAAAIAWBTMAAAAAAAAALQpmAAAAAAAAAFoUzAAAAAAAAAC0KJgB\n",
       "AAAAAAAAaFEwAwAAAAAAANCiYAYAAAAAAACg5fbsAXgtM5g1ommficuKbrj0dktK74PkWlfNqprB\n",
       "vPR5NeuMZZ3ziGVVVY3K5Z1zz2WNXFZV1V6PWNa13mJZVVVbMG8b2Ueax8z9Bu92Zq9tt2Dc9cit\n",
       "8xq+hF9HbrZLeLaFnxhqBi/jx5n9Lep+XmNZ257L+mPLXtu+3L/Est7ft1hWVdXtlsu7XsP35Uvw\n",
       "eSb4vDtn9oyfwXvCceTOg6qqfc+dC49H9ry6B8/Tj8d7LKuq6tuWO+f/Cs72V/ja9mfw+Phzyz63\n",
       "/Rm8J3wNPhtVVX0LPtp/y1526+PMvavdz9xwj+C7VVXVNnL3vq2y9+Xku1oyq6rqrOA7bvJ9Ofxd\n",
       "IJmX/P7xr8RcUvpb4LrfyPJ5KQuvc9VN9rdInleAfzADAAAAAAAA0KJgBgAAAAAAAKBFwQwAAAAA\n",
       "AABAi4IZAAAAAAAAgBYFMwAAAAAAAAAtCmYAAAAAAAAAWhTMAAAAAAAAALQomAEAAAAAAABoUTAD\n",
       "AAAAAAAA0KJgBgAAAAAAAKBFwQwAAAAAAABAi4IZAAAAAAAAgBYFMwAAAAAAAAAtt2cPAHTMYNYI\n",
       "ZqUl11k1g2sdMzfbHNl1juB2m/OMZX3K5c1gVlXVHEcs65y5rGNusayqqkvwVr+PRyyrqmobudke\n",
       "dY1lVVVdg3nXM/t7vmvw2nYduaxLMKuqKhk3Fv5NZfaOUHXO3IbbZ3a7bcFz4bHnztH7/h7Lqqr6\n",
       "cstdx9/ueyyrqurtmsu7XrL35Us4b1Vn8Dw4wveX7cjdl7c9+6nhvr/Fsj627Gxfg7Nls7Lr/Ct4\n",
       "3f0zmFVV9deeOxf+yl5262vuNaE+juxTw8eRu+7ez9xC7yO7Ex7Bd5ht3GNZVVV75WZLv0cm85Lv\n",
       "y7OCJ1Vlv4Gkv6dk89Lf24J5we9tVfmVvoZXWSeQtu7XNgAAAAAAAACWomAGAAAAAAAAoEXBDAAA\n",
       "AAAAAECLghkAAAAAAACAFgUzAAAAAAAAAC0KZgAAAAAAAABaFMwAAAAAAAAAtCiYAQAAAAAAAGhR\n",
       "MAMAAAAAAADQomAGAAAAAAAAoEXBDAAAAAAAAECLghkAAAAAAACAFgUzAAAAAAAAAC23Zw8A8PeZ\n",
       "wawRzErOVVXzzGWN5DqrqnKzzTpiWVVV58z9xmrUHss65zWWVVV1jC2WtdcjllVVdQ0+hjxG9pHm\n",
       "EtwP1/Dv+S4zd55ejlzWCK9zRK+7WTO41jN8S9iDx8d2ZvfBdua22/3InfN/7LlreFXVl9tbLOvt\n",
       "kr33vV1z9+XryM52uYRPhkWdwfPqCD8zbEfuHN3O7Gz3PXfOfwSvH595ubV+3YNZwbmqqr7uuePj\n",
       "a/BYq6r6K3gZ/5q9JdS3PXdt+3YE3/uq6mPmruP34PvQPfzO8Ri5vPT7UDLvqNx7X1XVOZPvuMms\n",
       "7PNH9jtD9hyN5iW/G30GhvOSVp4N4PfiH8wAAAAAAAAAtCiYAQAAAAAAAGhRMAMAAAAAAADQomAG\n",
       "AAAAAAAAoEXBDAAAAAAAAECLghkAAAAAAACAFgUzAAAAAAAAAC0KZgAAAAAAAABaFMwAAAAAAAAA\n",
       "tCiYAQAAAAAAAGhRMAMAAAAAAADQomAGAAAAAAAAoEXBDAAAAAAAAECLghkAAAAAAACAltuzB4Af\n",
       "NcN5I5o4gllh8Q2XDlxVcp3ZbTYXnq3mGQxLZlXNOnJZI5d1zj2WVVV1zC2WdalrLKuqahu5vPRs\n",
       "l5H7Dd4l/Hu+MXP3mHEGs2JJ/5LbbjM83QxeKo+ZPT6O4PGxBY+PqqrHmVvrH9fcOf8lmFVV9b6/\n",
       "5bIu2XvfLZh3HdnZLi/yTHkGz9H09WMPnqPJ8z2ddz+y5/zHkZvtWzArOVdV1dcjd+x+yz7u1tfc\n",
       "o3h927PXom9H7lr57QwutKo+gu8dH+MRy3qMeyyrqmqrXF4yq6rqmLntlnzvq8q+l0bfvWf2PJjB\n",
       "bxbJrKrst57sd6PPxDWz0nmrZuXj1pX+hgok+QczAAAAAAAAAC0KZgAAAAAAAABaFMwAAAAAAAAA\n",
       "tCiYAQAAAAAAAGhRMAMAAAAAAADQomAGAAAAAAAAoEXBDAAAAAAAAECLghkAAAAAAACAFgUzAAAA\n",
       "AAAAAC0KZgAAAAAAAABaFMwAAAAAAAAAtCiYAQAAAAAAAGhRMAMAAAAAAADQcnv2AMDPNsN5I5y3\n",
       "phncbmOG98EI5s0zl1VVNZLHR3a2Gcw75x7LGuHffo2ZyzvSswXzLiM8WzAvvk+D193k5SN8ikbv\n",
       "VjO8D86Z2wdH+Jawn7nZHuc1lvWZl9sPH0fugHu/Ztf5fsnN9hY9Satuwdmu4dmSTwwjONsMnu9V\n",
       "2WvbEZ5tD56jW3i25PXjcWRnu0evbbnZPo5YVDzvW3y23Jn1LXh/qar6duYW+zG3WFZV1cd4xLLu\n",
       "4x7LegSzqqq2+ohl7TM72zFz++AMHx/Jd9xkVvI9/lMyL/1ClMwLv3QEv2slv7e9FtsNeD7/YAYA\n",
       "AAAAAACgRcEMAAAAAAAAQIuCGQAAAAAAAIAWBTMAAAAAAAAALQpmAAAAAAAAAFoUzAAAAAAAAAC0\n",
       "KJgBAAAAAAAAaFEwAwAAAAAAANCiYAYAAAAAAACgRcEMAAAAAAAAQIuCGQAAAAAAAIAWBTMAAAAA\n",
       "AAAALQpmAAAAAAAAAFoUzAAAAAAAAAC03J49AKxiBrNGNO0zcVnRDZfebqtKrzOXN9OzzTMYlsyq\n",
       "qjpiSTN4jp61x7KqqsbM/ZbsCP8ubQTztrHubGNkr+Gr3hFm/PKRCzznNZZVVXUkz6sze+xuwUvl\n",
       "I3zZvZ+5o/fLJbdP34/swft2ye3TW/jZ6BrMu4YvRpcXeQ48Z27DhQ/dOoKz7cGsqqoteP14BLOq\n",
       "qu7Ba+U993gazUrnfZzZG8zHkcv7mNkN9zFzz/Yf4xHLqqq6j49Y1iOYtVUu6zPvHss6ZnYfHHOL\n",
       "ZZ3BYy2dN4PnVTLrMy93/UhmVaW/z6z7HeplZnuNR91/Sn6nBFbmH8wAAAAAAAAAtCiYAQAAAAAA\n",
       "AGhRMAMAAAAAAADQomAGAAAAAAAAoEXBDAAAAAAAAECLghkAAAAAAACAFgUzAAAAAAAAAC0KZgAA\n",
       "AAAAAABaFMwAAAAAAAAAtCiYAQAAAAAAAGhRMAMAAAAAAADQomAGAAAAAAAAoEXBDAAAAAAAAEDL\n",
       "7dkDAL+6Gcwawax1zeg2qxrzDIblotKBs4LrrKqaydmOWNaZ/u3X3IJh2QNkJPOC+7OqaoyFr0fJ\n",
       "zZaLil/b5szlncGsqqqjrrGsPTtabcFz4XFmz4NH7lJZH7ldUG/h8/3tksu7hW8J15E74NK/VA5u\n",
       "tqWdwXM+/GRUR/D6sYeH24J5W/q6G7y23YPrfCQPtqq6B/PuZ3CjhfPutceyqqo+xiOWdR/3WFZV\n",
       "1WN85LLqWyxrq9xcVVX7zG23Y+b252de7l0tmVVVdc7ceTWjWdkbTPY7Q/gGk5wtvt3Sa30Fthnw\n",
       "+/EPZgAAAAAAAABaFMwAAAAAAAAAtCiYAQAAAAAAAGhRMAMAAAAAAADQomAGAAAAAAAAoEXBDAAA\n",
       "AAAAAECLghkAAAAAAACAFgUzAAAAAAAAAC0KZgAAAAAAAABaFMwAAAAAAAAAtCiYAQAAAAAAAGhR\n",
       "MAMAAAAAAADQomAGAAAAAAAAoOX27AGAjhnMGsGssOQyq6pGOnBN0aNjZrfZHGcsa8zwsRuMm9Hz\n",
       "ag9mVc3gdjtri2VVVR3J7XZmj4+R/Aneypfd4HVyVu58r6o6g3lHvceyqqqOM/cIvYevu9uZO3jf\n",
       "L9nfoj4uuZPh7chl3cI/uU3m3cLXj8vIBQZ352deNm5ZySvlGX7UTebt4dn24IZLZlVVbcHr+CO4\n",
       "Ex5ndqGPmct7zOzz7n3k8u71iGVVVT3GfcmsqqqtPpbM2mcuq6rqOHP79JjZ96EzmDfnEcuqqprB\n",
       "99Lse0J2nRW8tqXfhyp4f5nxD27JvIVne43PivVCCwXCXuU9HgAAAAAAAID/kYIZAAAAAAAAgBYF\n",
       "MwAAAAAAAAAtCmYAAAAAAAAAWhTMAAAAAAAAALQomAEAAAAAAABoUTADAAAAAAAA0KJgBgAAAAAA\n",
       "AKBFwQwAAAAAAABAi4IZAAAAAAAAgBYFMwAAAAAAAAAtCmYAAAAAAAAAWhTMAAAAAAAAALQomAEA\n",
       "AAAAAABouT17APgdzXDeCOet61W23MrrTM+Wy5t1xrL+GRh0JMOizmXPg6p1z9Gq5OE2wz/nm2PN\n",
       "82qO7Dl6BvPOmT1Hj3qPZW0zu922eY1lPYJZVVVvZ+5keBu568ctmFVVdbvk8q7hy+QluNb0L5XD\n",
       "u2FZM/j8EX4yqjM43BF+pNzPXOCe3AlVtQXzkveELXzvewSfd7exxbKqqh7jsWRWVdVW92DWRyzr\n",
       "My832z5zWceZ3QfHzOUdM3vsnnNfMquqagavIdms7N0v+51h3e8peSvPlvQq68yy1eB1+AczAAAA\n",
       "AAAAAC0KZgAAAAAAAABaFMwAAAAAAAAAtCiYAQAAAAAAAGhRMAMAAAAAAADQomAGAAAAAAAAoEXB\n",
       "DAAAAAAAAECLghkAAAAAAACAFgUzAAAAAAAAAC0KZgAAAAAAAABaFMwAAAAAAAAAtCiYAQAAAAAA\n",
       "AGhRMAMAAAAAAADQcnv2AMB/NoNZI5r2mbis6IbL7oWs3Gzxo2OewbBcVNpMDjfTCz1iScG9+VrO\n",
       "8JkVvB7NkdurZzCrquoMHrvH2GNZVVV7cLa38GzbfItlvc1rLCuddxvBrPAN5nrmfsN7Sc8WjBsj\n",
       "O9vCt/mo5B1hzuz95QjGneGnyiP4TLmHZ9tn7p6wBe8v28hlfeZtuazKZVVVbeMey9rrEcuqqtoq\n",
       "ONvMZVVVHTO31mxW9vhI5p3h2c6Zew6cwWvRZ17uujujb5Lpt9JgXvL7R1XN7FNDMCstPNvKS41a\n",
       "91sg8Dr8gxkAAAAAAACAFgUzAAAAAAAAAC0KZgAAAAAAAABaFMwAAAAAAAAAtCiYAQAAAAAAAGhR\n",
       "MAMAAAAAAADQomAGAAAAAAAAoEXBDAAAAAAAAECLghkAAAAAAACAFgUzAAAAAAAAAC0KZgAAAAAA\n",
       "AABaFMwAAAAAAAAAtCiYAQAAAAAAAGhRMAMAAAAAAADQcnv2AAB/nxmMGrmsEZxrccmVjpndbjO4\n",
       "H8Y8Y1nJQ+0zMJwXlNtqf4fchpvhnZDMm8G9kMyqqjrHEcs6ao9lVVUdI5e313ssq6pqq7dY1tvI\n",
       "vircZi7vWtdY1m3msqqqrjP3G95LZW8KybwxsrMl05JZ6dtoMm+Gn43O4HTJrKqqI3iP2YP3l6qq\n",
       "I5i3B+8vW/jet48tl1WPWFY6Lz3bMXN5yazPvNw+TWadwazPvNy5kMyqqpozd/1IZlVVzQrmJd+X\n",
       "03fm4L00Plv2qSGYFc6Lf7NY+CMIwG/GP5gBAAAAAAAAaFEwAwAAAAAAANCiYAYAAAAAAACgRcEM\n",
       "AAAAAAAAQIuCGQAAAAAAAIAWBTMAAAAAAAAALQpmAAAAAAAAAFoUzAAAAAAAAAC0KJgBAAAAAAAA\n",
       "aFEwAwAAAAAAANCiYAYAAAAAAACgRcEMAAAAAAAAQIuCGQAAAAAAAICW27MHAH6uGc4b0cQRzEpb\n",
       "eZ3pvbqmGV7nmGcsawZ36QjvzuRsKx9qub2Zlz52kztiBrfcGd4LZx3BrD2WVVV1jC2XVbmsqqp9\n",
       "vMWytvCrwi0423Vec1kjl1VVdQnOdgn/HvgSfAYZ4eeZaN7Cj23Je8IMPzScwdni94SRuyccwftL\n",
       "VdURnG0P3hOO9L0vONtej1hWVdUx170vJ2c7g1mfebljJLnOObPnaHKd6dmSeTN8bavk+3LynhCc\n",
       "qyr9rrbue9/SL/NLz5aUXeerbDVgbf7BDAAAAAAAAECLghkAAAAAAACAFgUzAAAAAAAAAC0KZgAA\n",
       "AAAAAABaFMwAAAAAAAAAtCiYAQAAAAAAAGhRMAMAAAAAAADQomAGAAAAAAAAoEXBDAAAAAAAAECL\n",
       "ghkAAAAAAACAFgUzAAAAAAAAAC0KZgAAAAAAAABaFMwAAAAAAAAAtNyePQDAv81w3gjnhczwOsei\n",
       "66yq7D49g1lV0d9YzdxsM7w7R3AXpGfLnvLZ8+oM5o34OZ/LmyN57GbP0TmOWNY59lhWVdVZubyj\n",
       "tlhWVdV1vMWyLuFXhWsw7zpyWZe6xrKqqi4jl3eZ2d8Dj+C9b4Sfs6Jp0Wej7DU8mTbjs+Wu42f4\n",
       "nnBW8J4QzKqqOqL3hFxW8l5VVXXM3P1q6dlm+JkhmLf2bLnzaoaPj5mcLfjeV1U1k9ej+GzBvOhs\n",
       "6e9GK8+2sPQ77rJeZZ0AP8Y/mAEAAAAAAABoUTADAAAAAAAA0KJgBgAAAAAAAKBFwQwAAAAAAABA\n",
       "i4IZAAAAAAAAgBYFMwAAAAAAAAAtCmYAAAAAAAAAWhTMAAAAAAAAALQomAEAAAAAAABoUTADAAAA\n",
       "AAAA0KJgBgAAAAAAAKBFwQwAAAAAAABAi4IZAAAAAAAAgBYFMwAAAAAAAAAtt2cPAPzaZjBrBLNe\n",
       "SnQnJMOqVt6rM7jhoqucZzKtZnC49OGRnK1m+thNys52Vu4YmYtmVVWd84hlXUYuq6rqHHss6zKy\n",
       "j+NHbbGsS11jWVXZtSZni68zmDdG9vfAI3jHGgv/Vjm5zuTzQlr6uptca/yeULnreDIrnXfO3P0l\n",
       "vs7kbMGsz7w190FV1Vz0+KiqmsHtFs1KX9sWni357rfybMn3oZXvy3nBtb7SZluUXQD8jtb9KgAA\n",
       "AAAAAADAUhTMAAAAAAAAALQomAEAAAAAAABoUTADAAAAAAAA0KJgBgAAAAAAAKBFwQwAAAAAAABA\n",
       "i4IZAAAAAAAAgBYFMwAAAAAAAAAtCmYAAAAAAAAAWhTMAAAAAAAAALQomAEAAAAAAABoUTADAAAA\n",
       "AAAA0KJgBgAAAAAAAKDl9uwBAP5lhvNGNHEEs9KC65zhdY70Xl3T0kfaPHNR8cMjt+Vm/AqSnO0a\n",
       "y6rKXtuSWTN4rFVVjZHbbrOOWFZV1Tlzs13GHsv6zMvNltwHVVWX4HZLznYJ/+Z2BPOSWVVVYyTz\n",
       "sjeFddOy95el05LPDJW9JyTzzvRsM3ePOYP3q+RcVVVncp3h2ZL3+fhswbz4eZWcLfocmN4HydnS\n",
       "17bku3x2tuz7UPJ+te57X3y2aNxrfJv5lDx2Afge/2AGAAAAAAAAoEXBDAAAAAAAAECLghkAAAAA\n",
       "AACAFgUzAAAAAAAAAC0KZgAAAAAAAABaFMwAAAAAAAAAtCiYAQAAAAAAAGhRMAMAAAAAAADQomAG\n",
       "AAAAAAAAoEXBDAAAAAAAAECLghkAAAAAAACAFgUzAAAAAAAAAC0KZgAAAAAAAABaFMwAAAAAAAAA\n",
       "tNyePQDA32UGs0Y4bV3JdVbVDK51hGdb1Ezvg+BvycY8Y1lVVXMsfC6sfMrP5HC5rBn+3eKo3PE2\n",
       "w8fuGEcsa9Y1llVVdc7gOT+ys43k9Wjksi7p39wGZxvhC8gIHh9p6bWuKn+fz5nJ6278mTI32xlc\n",
       "Z1X2HhPdBzN3r6rKznamZ4sSUETcAAAQ5klEQVTug3Vnqxc5dpPne1V4tvA+SD7X5+8v4bXGpNcZ\n",
       "zIvf4td9ZsjKrvNVthrACtb9wgAAAAAAAADAUhTMAAAAAAAAALQomAEAAAAAAABoUTADAAAAAAAA\n",
       "0KJgBgAAAAAAAKBFwQwAAAAAAABAi4IZAAAAAAAAgBYFMwAAAAAAAAAtCmYAAAAAAAAAWhTMAAAA\n",
       "AAAAALQomAEAAAAAAABoUTADAAAAAAAA0KJgBgAAAAAAAKBlVN3ms4cAeCXjF0hcU3id0biV90Fy\n",
       "tuw6RzJvpH8zl5ttxH/PF5wtut2y63yV2dLHh9l+LC0pu870/SV5/Vj53vca5ky/yufyZjCrqmrO\n",
       "M5kWzKqalZstuc7kXFWvM1uZ7UfTgknZdUbP+eg2S18r170nZIXnisatus3+DslzHoBflX8wAwAA\n",
       "AAAAANCiYAYAAAAAAACgRcEMAAAAAAAAQIuCGQAAAAAAAIAWBTMAAAAAAAAALQpmAAAAAAAAAFoU\n",
       "zAAAAAAAAAC0KJgBAAAAAAAAaFEwAwAAAAAAANCiYAYAAAAAAACgRcEMAAAAAAAAQIuCGQAAAAAA\n",
       "AIAWBTMAAAAAAAAALaPqNp89BMArGc8e4LvWni4ruNboZlt5H6Rny+WNhWerkZ4t9/vA6HYb2d8t\n",
       "ZvdpeLboWrPHx0iudeF9uvY+SOaFZ4tfj5JWni1p3dfvOZOzZdc5o3nh2eaZy0rOFpyrqmpWMm/d\n",
       "fVDRda6+T5P7IThb9FpUlTzestvsM3HNrLTkeZCL+psCF7XuOtedDID/xD+YAQAAAAAAAGhRMAMA\n",
       "AAAAAADQomAGAAAAAAAAoEXBDAAAAAAAAECLghkAAAAAAACAFgUzAAAAAAAAAC0KZgAAAAAAAABa\n",
       "FMwAAAAAAAAAtCiYAQAAAAAAAGhRMAMAAAAAAADQomAGAAAAAAAAoEXBDAAAAAAAAECLghkAAAAA\n",
       "AACAFgUzAAAAAAAAAC2j6jafPQQAP248e4DvWnu6nOA6l95k6eGSeetuuJGebSR/H7juPohut+g2\n",
       "q0quNX58BH8/Osa653z2+HiRdf4z8TUk1/lKr8u5tc74dgvmzexs2bUG90F4nVVnLGnt4yO3zqp1\n",
       "j494XnC75Y+PpIX3wcrbLTrawuuMW3et604GwM/kH8wAAAAAAAAAtCiYAQAAAAAAAGhRMAMAAAAA\n",
       "AADQomAGAAAAAAAAoEXBDAAAAAAAAECLghkAAAAAAACAFgUzAAAAAAAAAC0KZgAAAAAAAABaFMwA\n",
       "AAAAAAAAtCiYAQAAAAAAAGhRMAMAAAAAAADQomAGAAAAAAAAoEXBDAAAAAAAAEDLqLrNZw8BwBrG\n",
       "swf4rrWnW9ZYebu9ymzZdY5VZ4sfa4uusxbeB1XR/ZBd52fi759VNVx3+WWt+2lgzuRs6XWuOdtM\n",
       "r3PhfZBd68LHR3QfVK17vK27zryFZ4sfb69g3W227mQA/Mr8gxkAAAAAAACAFgUzAAAAAAAAAC0K\n",
       "ZgAAAAAAAABaFMwAAAAAAAAAtCiYAQAAAAAAAGhRMAMAAAAAAADQomAGAAAAAAAAoEXBDAAAAAAA\n",
       "AECLghkAAAAAAACAFgUzAAAAAAAAAC0KZgAAAAAAAABaFMwAAAAAAAAAtCiYAQAAAAAAAGgZVbf5\n",
       "7CEA4D8Zv0Di7y+8zaJxK+/P15htxNe58HYbydnW3W4vs0+j+7Mquw/SFt0HLCL3aSD/kSGYOFf+\n",
       "BJLcB+l1JvPCs9mnP5y4plXnqsofu8uGvZCV730AsDb/YAYAAAAAAACgRcEMAAAAAAAAQIuCGQAA\n",
       "AAAAAIAWBTMAAAAAAAAALQpmAAAAAAAAAFoUzAAAAAAAAAC0KJgBAAAAAAAAaFEwAwAAAAAAANCi\n",
       "YAYAAAAAAACgRcEMAAAAAAAAQIuCGQAAAAAAAIAWBTMAAAAAAAAALQpmAAAAAAAAAFoUzAAAAAAA\n",
       "AAC0jKrbfPYQAPCzjYXTXkdwuy29C1Ye7lVmW/mMD++DYZ8+21h4trW9ynbz+v0j5tLbLTnbwuuc\n",
       "665z5bSl9+mys606V/0Noy281mWtfcYDwCvxD2YAAAAAAAAAWhTMAAAAAAAAALQomAEAAAAAAABo\n",
       "UTADAAAAAAAA0KJgBgAAAAAAAKBFwQwAAAAAAABAi4IZAAAAAAAAgBYFMwAAAAAAAAAtCmYAAAAA\n",
       "AAAAWhTMAAAAAAAAALQomAEAAAAAAABoUTADAAAAAAAA0KJgBgAAAAAAAKBlVN3ms4cAgF/ZePYA\n",
       "37X2dOsKbreld8HKw5ntx+Rmy69y1e0WnmvVZca9zEIX9kKv8tGlrrzdcrPlV/ka2y3PbP+1+FiL\n",
       "rnN5a263NacCgNfkH8wAAAAAAAAAtCiYAQAAAAAAAGhRMAMAAAAAAADQomAGAAAAAAAAoEXBDAAA\n",
       "AAAAAECLghkAAAAAAACAFgUzAAAAAAAAAC0KZgAAAAAAAABaFMwAAAAAAAAAtCiYAQAAAAAAAGhR\n",
       "MAMAAAAAAADQomAGAAAAAAAAoEXBDAAAAAAAAECLghkAAAAAAACAllF1m88eAgD4NJ49wHetPd3r\n",
       "CO6HpXfp0sMFvco6q15lreNF1gk/06xX+Wxhnb+fhdcaHW3hdb6MdffBupMBAP8L/2AGAAAAAAAA\n",
       "oEXBDAAAAAAAAECLghkAAAAAAACAFgUzAAAAAAAAAC0KZgAAAAAAAABaFMwAAAAAAAAAtCiYAQAA\n",
       "AAAAAGhRMAMAAAAAAADQomAGAAAAAAAAoEXBDAAAAAAAAECLghkAAAAAAACAFgUzAAAAAAAAAC0K\n",
       "ZgAAAAAAAABaRtVtPnsIAGB949kDfNfa072G8D54mV36MgsNs92ezz54Pq/ya7Af/nsvtM2iS32h\n",
       "7basdffBupMBAL8r/2AGAAAAAAAAoEXBDAAAAAAAAECLghkAAAAAAACAFgUzAAAAAAAAAC0KZgAA\n",
       "AAAAAABaFMwAAAAAAAAAtCiYAQAAAAAAAGhRMAMAAAAAAADQomAGAAAAAAAAoEXBDAAAAAAAAECL\n",
       "ghkAAAAAAACAFgUzAAAAAAAAAC0KZgAAAAAAAABaRtVtPnsIAID/xXj2AN+19nT8iOA+dXj8IBsO\n",
       "WIVPKv+1+CazD34v6+7PdScDAPj5/IMZAAAAAAAAgBYFMwAAAAAAAAAtCmYAAAAAAAAAWhTMAAAA\n",
       "AAAAALQomAEAAAAAAABoUTADAAAAAAAA0KJgBgAAAAAAAKBFwQwAAAAAAABAi4IZAAAAAAAAgBYF\n",
       "MwAAAAAAAAAtCmYAAAAAAAAAWhTMAAAAAAAAALQomAEAAAAAAABoUTADAAAAAAAA0DKqbvPZQwAA\n",
       "rGQ8e4Cf5nVWyo9Y+PhYeDTgxSz7RWXZwVjGaxwjr7FKAICfzz+YAQAAAAAAAGhRMAMAAAAAAADQ\n",
       "omAGAAAAAAAAoEXBDAAAAAAAAECLghkAAAAAAACAFgUzAAAAAAAAAC0KZgAAAAAAAABaFMwAAAAA\n",
       "AAAAtCiYAQAAAAAAAGhRMAMAAAAAAADQomAGAAAAAAAAoEXBDAAAAAAAAECLghkAAAAAAACAltuz\n",
       "BwAAWM189gA/yVh6pePZA7Dy8bHwaGtzXvE9TizIW/e8WncyAAB+Bf7BDAAAAAAAAECLghkAAAAA\n",
       "AACAFgUzAAAAAAAAAC0KZgAAAAAAAABaFMwAAAAAAAAAtCiYAQAAAAAAAGhRMAMAAAAAAADQomAG\n",
       "AAAAAAAAoEXBDAAAAAAAAECLghkAAAAAAACAFgUzAAAAAAAAAC0KZgAAAAAAAABaFMwAAAAAAAAA\n",
       "tCiYAQAAAAAAAGi5PXsAAACeYz57gO8YS0+XNJ49AC/lVc4rYG2vcy16nZUCAPBq/IMZAAAAAAAA\n",
       "gBYFMwAAAAAAwP+3b8coDMNQFAQj8P2vrPSpFgz+MZo5wTNCbhYBkAjMAAAAAAAAACQCMwAAAAAA\n",
       "AACJwAwAAAAAAABAIjADAAAAAAAAkAjMAAAAAAAAACQCMwAAAAAAAACJwAwAAAAAAABAIjADAAAA\n",
       "AAAAkAjMAAAAAAAAACQCMwAAAAAAAACJwAwAAAAAAABAck0PAACAX3t6wEPWMV/6z9b0AOBR/rvT\n",
       "nAAAALyfF8wAAAAAAAAAJAIzAAAAAAAAAInADAAAAAAAAEAiMAMAAAAAAACQCMwAAAAAAAAAJAIz\n",
       "AAAAAAAAAInADAAAAAAAAEAiMAMAAAAAAACQCMwAAAAAAAAAJAIzAAAAAAAAAInADAAAAAAAAEAi\n",
       "MAMAAAAAAACQCMwAAAAAAAAAJNf0AAAAONWeHsBnOQU4ihsPAABwnxfMAAAAAAAAACQCMwAAAAAA\n",
       "AACJwAwAAAAAAABAIjADAAAAAAAAkAjMAAAAAAAAACQCMwAAAAAAAACJwAwAAAAAAABAIjADAAAA\n",
       "AAAAkAjMAAAAAAAAACQCMwAAAAAAAACJwAwAAAAAAABAIjADAAAAAAAAkAjMAAAAAAAAACQCMwAA\n",
       "AAAAAADJNT0AAABgyp4eAAAAAPAyXjADAAAAAAAAkAjMAAAAAAAAACQCMwAAAAAAAACJwAwAAAAA\n",
       "AABAIjADAAAAAAAAkAjMAAAAAAAAACQCMwAAAAAAAACJwAwAAAAAAABAIjADAAAAAAAAkAjMAAAA\n",
       "AAAAACQCMwAAAAAAAACJwAwAAAAAAABAIjADAAAAAAAAkAjMAAAAAAAAACQCMwAAAAAAAACJwAwA\n",
       "AAAAAABAIjADAAAAAAAAkAjMAAAAAAAAACQCMwAAAAAAAACJwAwAAAAAAABAIjADAAAAAAAAkAjM\n",
       "AAAAAAAAACQCMwAAAAAAAACJwAwAAAAAAABAIjADAAAAAAAAkAjMAAAAAAAAACQCMwAAAAAAAACJ\n",
       "wAwAAAAAAABAIjADAAAAAAAAkAjMAAAAAAAAACQCMwAAAAAAAACJwAwAAAAAAABAIjADAAAAAAAA\n",
       "kAjMAAAAAAAAACQCMwAAAAAAAACJwAwAAAAAAABAIjADAAAAAAAAkAjMAAAAAAAAACQCMwAAAAAA\n",
       "AACJwAwAAAAAAABAIjADAAAAAAAAkAjMAAAAAAAAACQCMwAAAAAAAACJwAwAAAAAAABAIjADAAAA\n",
       "AAAAkAjMAAAAAAAAACQCMwAAAAAAAACJwAwAAAAAAABAIjADAAAAAAAAkAjMAAAAAAAAACQCMwAA\n",
       "AAAAAACJwAwAAAAAAABAIjADAAAAAAAAkAjMAAAAAAAAACQCMwAAAAAAAACJwAwAAAAAAABAIjAD\n",
       "AAAAAAAAkAjMAAAAAAAAACQCMwAAAAAAAACJwAwAAAAAAABAIjADAAAAAAAAkAjMAAAAAAAAACQC\n",
       "MwAAAAAAAACJwAwAAAAAAABAIjADAAAAAAAAkAjMAAAAAAAAACQCMwAAAAAAAACJwAwAAAAAAABA\n",
       "IjADAAAAAAAAkAjMAAAAAAAAACQCMwAAAAAAAACJwAwAAAAAAABAIjADAAAAAAAAkAjMAAAAAAAA\n",
       "ACQCMwAAAAAAAACJwAwAAAAAAABAIjADAAAAAAAAkAjMAAAAAAAAACQCMwAAAAAAAACJwAwAAAAA\n",
       "AABAIjADAAAAAAAAkAjMAAAAAAAAACQCMwAAAAAAAACJwAwAAAAAAABAIjADAAAAAAAAkAjMAAAA\n",
       "AAAAACQCMwAAAAAAAACJwAwAAAAAAABAIjADAAAAAAAAkAjMAAAAAAAAACQCMwAAAAAAAACJwAwA\n",
       "AAAAAABAIjADAAAAAAAAkAjMAAAAAAAAACQCMwAAAAAAAACJwAwAAAAAAABAIjADAAAAAAAAkAjM\n",
       "AAAAAAAAACQCMwAAAAAAAADJF5oWZDIN3y+1AAAAAElFTkSuQmCC\n",
       "\" transform=\"translate(169, 47)\"/>\n",
       "</g>\n",
       "<defs>\n",
       "  <clipPath id=\"clip543\">\n",
       "    <rect x=\"2160\" y=\"47\" width=\"73\" height=\"1440\"/>\n",
       "  </clipPath>\n",
       "</defs>\n",
       "<g clip-path=\"url(#clip543)\">\n",
       "<image width=\"72\" height=\"1439\" xlink:href=\"data:image/png;base64,\n",
       "iVBORw0KGgoAAAANSUhEUgAAAEgAAAWfCAYAAAAI7rB3AAAMWUlEQVR4nO3dwY0rRxAFwaZQ/lsh\n",
       "L6XfLQtUeSQPERYsEg8c9MyQ+/n3/v0O/+uvb/8Bv06gIFAQKAgU5r5/v/03/DQLCgIFgYJAQaAw\n",
       "7/359t/w0ywoCBQECgIFR41gQUGgIFAQKAgU5rmKrSwoCBQECgIFgcK86yq2saAgUBAoCBQcNYIF\n",
       "BYGCQEGgIFBwFQsWFAQKAgWBgvtBwYKCQEGgIFAQKMxx1FhZUBAoCBQECgIFN8yCBQWBgkBBoDDH\n",
       "DbOVBQWBgkBBoCBQmHP/+fbf8NMsKAgUBAoCBYGCxz7BgoJAQaAgUHDDLFhQECgIFAQKAgVXsWBB\n",
       "QaAgUBAouB8ULCgIFAQKAgWBwnwcNVYWFAQKAgWBgkBhzvWfWTYWFAQKAgWBgqNGsKAgUBAoCBQE\n",
       "Co4awYKCQEGgIFAQKHjDLFhQECgIFAQK83HUWFlQECgIFAQKAgXvSQcLCgIFgYJAwVEjWFAQKAgU\n",
       "BAoCBc/mgwUFgYJAQaAgUHAWCxYUBAoCBYGCo0awoCBQECgIFAQKjhrBgoJAQaAgUBAozLn323/D\n",
       "T7OgIFAQKAgUHDWCBQWBgkBBoCBQ8NgnWFAQKAgUBAo+pIMFBYGCQEGgIFCYj6caKwsKAgWBgkBB\n",
       "oOAsFiwoCBQECgIFL1AFCwoCBYGCQEGg4IZZsKAgUBAoCBTcDwoWFAQKAgWBgkDBDbNgQUGgIFAQ\n",
       "KAgUXMWCBQWBgkBBoOB788GCgkBBoCBQECg4agQLCgIFgYJAQaDgKhYsKAgUBAoCBR/SwYKCQEGg\n",
       "IFAQKLiKBQsKAgWBgkBhzvMhvbGgIFAQKAgUBAqOGsGCgkBBoCBQECi4igULCgIFgYJAwYd0sKAg\n",
       "UBAoCBQECnPu+/bf8NMsKAgUBAoCBYGCs1iwoCBQECgIFBw1ggUFgYJAQaAgUHDUCBYUBAoCBYGC\n",
       "o0awoCBQECgIFAQKc5w0VhYUBAoCBYGCQGHOcxbbWFAQKAgUBAqOGsGCgkBBoCBQECi4igULCgIF\n",
       "gYJAQaAwfohzZ0FBoCBQECg4agQLCgIFgYJAQaDgKhYsKAgUBAoChTn38+2/4adZUBAoCBQECgKF\n",
       "ec9VbGNBQaAgUBAoCBTcMAsWFAQKAgWBghtmwYKCQEGgIFAQKMy7Gm3UCQIFgYJAwVEjWFAQKAgU\n",
       "BAoChTmeza8sKAgUBAoCBYHCPGexlQUFgYJAQaAwx1ONlTpBoCBQECgIFBw1ggUFgYJAQaAgUPDY\n",
       "J1hQECgIFAQKXgMO6gSBgkBBoCBQ8J50sKAgUBAoCBQ81QgWFAQKAgWBgkBh3tNoo04QKAgUBAoC\n",
       "BTfMggUFgYJAQaDghlmwoCBQECgIFAQKc9wwW6kTBAoCBYGCQMFZLFhQECgIFAQKPqSDBQWBgkBB\n",
       "oCBQ8L35YEFBoCBQECj43nxQJwgUBAoCBYHCPEeNlQUFgYJAQaAgUPDYJ1hQECgIFAQK/jNLUCcI\n",
       "FAQKAgWBghtmwYKCQEGgIFAQKLhhFiwoCBQECgIFR41gQUGgIFAQKAgUvCcd1AkCBYGCQMFRI1hQ\n",
       "ECgIFAQKAgVPNYIFBYGCQEGgIFBwFgsWFAQKAgWBgn+fFSwoCBQECgIFgYJ/ZRzUCQIFgYJAQaDg\n",
       "hlmwoCBQECgIFDybDxYUBAoCBYGCQMFRI1hQECgIFAQKc31IrywoCBQECgIFgYLvzQd1gkBBoCBQ\n",
       "ECi4YRYsKAgUBAoCBR/SwYKCQEGgIFAQKHjDLFhQECgIFAQKjhrBgoJAQaAgUBAouIoFCwoCBYGC\n",
       "QEGg4NdfgjpBoCBQECjM9VRjZUFBoCBQECgIFNwwCxYUBAoCBYGCQMFVLFhQECgIFAQKPqSDBQWB\n",
       "gkBBoCBQ8BtmwYKCQEGgIFBw1AgWFAQKAgWBgkDBVSxYUBAoCBQECgIFX2YJ6gSBgkBBoODLLMGC\n",
       "gkBBoCBQECi4YRYsKAgUBAoCBYGCq1iwoCBQECgIFLwGHCwoCBQECgIFgYKjRrCgIFAQKAgU5h0f\n",
       "0hsLCgIFgYJAQaDghlmwoCBQECgIFAQKbpgFCwoCBYGCQMFRI1hQECgIFAQKAgVHjWBBQaAgUBAo\n",
       "CBScxYIFBYGCQEGg4KgRLCgIFAQKAgWBgqtYsKAgUBAoCBTm+jLLyoKCQEGgIFAQKDhqBAsKAgWB\n",
       "gkBBoODZfLCgIFAQKAgU5r1v/wm/zYKCQEGgIFAQKDhqBAsKAgWBgkDBD00GCwoCBYGCQEGg4KgR\n",
       "LCgIFAQKAgWBgjfMggUFgYJAQaDgyyzBgoJAQaAgUBAoeMMsWFAQKAgUBAoCBY99ggUFgYJAQaDg\n",
       "qUawoCBQECgIFAQKHvsECwoCBYGCQMH9oGBBQaAgUBAoCBQ8mw8WFAQKAgWBgkDBDbNgQUGgIFAQ\n",
       "KHg2HywoCBQECgIFgcLcb/8FP86CgkBBoCBQECg4iwULCgIFgYJAwRtmwYKCQEGgIFAQKLhhFiwo\n",
       "CBQECgIF94OCBQWBgkBBoCBQcNQIFhQECgIFgYJAwVksWFAQKAgUBAqezQcLCgIFgYJAQaAwfvxl\n",
       "Z0FBoCBQECgIFJzFggUFgYJAQaDg2XywoCBQECgIFAQKns0HCwoCBYGCQMFRI1hQECgIFAQKAgVH\n",
       "jWBBQaAgUBAoCBTmesVsZUFBoCBQECi4YRYsKAgUBAoCBYGCG2bBgoJAQaAgUHDUCBYUBAoCBYGC\n",
       "QGGepxorCwoCBYGCQEGgMPe4YbaxoCBQECgIFLxAFSwoCBQECgIFgYIfmgwWFAQKAgWBgkDBD00G\n",
       "CwoCBYGCQMGz+WBBQaAgUBAoCBS8Jx0sKAgUBAoCBd84DBYUBAoCBYGCQMFRI1hQECgIFAQKAgXv\n",
       "SQcLCgIFgYJAwWvAwYKCQEGgIFAQKDhqBAsKAgWBgkBBoOA96WBBQaAgUBAo+ImuYEFBoCBQECgI\n",
       "FNwwCxYUBAoCBYGCZ/PBgoJAQaAgUBAoOGoECwoCBYGCQEGg4CwWLCgIFAQKAgVHjWBBQaAgUBAo\n",
       "CBRcxYIFBYGCQEGgIFBwwyxYUBAoCBQECo4awYKCQEGgIFAQKDhqBAsKAgWBgkDBUSNYUBAoCBQE\n",
       "CgIFP9EVLCgIFAQKAgWBgv8vFiwoCBQECgIFN8yCBQWBgkBBoCBQmHdcxjYWFAQKAgWBgkDBWSxY\n",
       "UBAoCBQECp7NBwsKAgWBgkBBoODZfLCgIFAQKAgU3A8KFhQECgIFgYJAwbP5YEFBoCBQECgIFJzF\n",
       "ggUFgYJAQaDgJ7qCBQWBgkBBoCBQmOsVs5UFBYGCQEGg4AWqYEFBoCBQECgIFOY5aqwsKAgUBAoC\n",
       "BYGCs1iwoCBQECgIFDzVCBYUBAoCBYGCQMEbZsGCgkBBoCBQECjM9ZXMlQUFgYJAQaDghlmwoCBQ\n",
       "ECgIFAQKfv0lWFAQKAgUBApeoAoWFAQKAgWBgkDBU41gQUGgIFAQKAgU3DALFhQECgIFgcLc45bZ\n",
       "xoKCQEGgIFAQKLhhFiwoCBQECgIFgYKrWLCgIFAQKAgUPNUIFhQECgIFgYJAwWOfYEFBoCBQECjM\n",
       "/ThqbCwoCBQECgIFgYKjRrCgIFAQKAgUBArzXMVWFhQECgIFgYKjRrCgIFAQKAgUBApzP65iGwsK\n",
       "AgWBgkBBoOAsFiwoCBQECgIFTzWCBQWBgkBBoCBQcNQIFhQECgIFgYIP6WBBQaAgUBAoCBQ8mw8W\n",
       "FAQKAgWBgkBh3vnz7b/hp1lQECgIFAQKbpgFCwoCBYGCQEGg4A2zYEFBoCBQECjMfe4HbSwoCBQE\n",
       "CgIFgYKjRrCgIFAQKAgUBApzPZtfWVAQKAgUBAqOGsGCgkBBoCBQECg4agQLCgIFgYJAQaAw7zmL\n",
       "bSwoCBQECgIFN8yCBQWBgkBBoCBQ8J50sKAgUBAoCBQcNYIFBYGCQEGgIFCY56ixsqAgUBAoCBQE\n",
       "Cs5iwYKCQEGgIFCY6wWqlQUFgYJAQaAgUPCb9sGCgkBBoCBQECj4MkuwoCBQECgIFDzVCBYUBAoC\n",
       "BYGCQMFRI1hQECgIFAQKPqSDBQWBgkBBoCBQ8Gw+WFAQKAgUBAoCBWexYEFBoCBQECjM8Wx+ZUFB\n",
       "oCBQECgIFBw1ggUFgYJAQaAgUPCedLCgIFAQKAgU5jhqrCwoCBQECgIFgYI3zIIFBYGCQEGg4Nl8\n",
       "sKAgUBAoCBQECm6YBQsKAgWBgkBBoDDvvG//DT/NgoJAQaAgUHDDLFhQECgIFAQKAoU5jhorCwoC\n",
       "BYGCQOE/LrLuTX/wFc8AAAAASUVORK5CYII=\n",
       "\" transform=\"translate(2161, 47)\"/>\n",
       "</g>\n",
       "<path clip-path=\"url(#clip540)\" d=\"M2280.7 1468.62 Q2277.09 1468.62 2275.26 1472.18 Q2273.45 1475.72 2273.45 1482.85 Q2273.45 1489.96 2275.26 1493.53 Q2277.09 1497.07 2280.7 1497.07 Q2284.33 1497.07 2286.14 1493.53 Q2287.97 1489.96 2287.97 1482.85 Q2287.97 1475.72 2286.14 1472.18 Q2284.33 1468.62 2280.7 1468.62 M2280.7 1464.91 Q2286.51 1464.91 2289.57 1469.52 Q2292.64 1474.1 2292.64 1482.85 Q2292.64 1491.58 2289.57 1496.19 Q2286.51 1500.77 2280.7 1500.77 Q2274.89 1500.77 2271.81 1496.19 Q2268.76 1491.58 2268.76 1482.85 Q2268.76 1474.1 2271.81 1469.52 Q2274.89 1464.91 2280.7 1464.91 Z\" fill=\"#000000\" fill-rule=\"evenodd\" fill-opacity=\"1\" /><path clip-path=\"url(#clip540)\" d=\"M2274.38 1352.24 L2290.7 1352.24 L2290.7 1356.18 L2268.76 1356.18 L2268.76 1352.24 Q2271.42 1349.49 2276 1344.86 Q2280.61 1340.21 2281.79 1338.86 Q2284.03 1336.34 2284.91 1334.6 Q2285.82 1332.85 2285.82 1331.16 Q2285.82 1328.4 2283.87 1326.66 Q2281.95 1324.93 2278.85 1324.93 Q2276.65 1324.93 2274.2 1325.69 Q2271.77 1326.46 2268.99 1328.01 L2268.99 1323.29 Q2271.81 1322.15 2274.27 1321.57 Q2276.72 1320.99 2278.76 1320.99 Q2284.13 1320.99 2287.32 1323.68 Q2290.52 1326.36 2290.52 1330.85 Q2290.52 1332.98 2289.7 1334.91 Q2288.92 1336.8 2286.81 1339.4 Q2286.23 1340.07 2283.13 1343.29 Q2280.03 1346.48 2274.38 1352.24 Z\" fill=\"#000000\" fill-rule=\"evenodd\" fill-opacity=\"1\" /><path clip-path=\"url(#clip540)\" d=\"M2300.56 1321.62 L2318.92 1321.62 L2318.92 1325.55 L2304.84 1325.55 L2304.84 1334.03 Q2305.86 1333.68 2306.88 1333.52 Q2307.9 1333.33 2308.92 1333.33 Q2314.7 1333.33 2318.08 1336.5 Q2321.46 1339.67 2321.46 1345.09 Q2321.46 1350.67 2317.99 1353.77 Q2314.52 1356.85 2308.2 1356.85 Q2306.02 1356.85 2303.76 1356.48 Q2301.51 1356.11 2299.1 1355.37 L2299.1 1350.67 Q2301.19 1351.8 2303.41 1352.36 Q2305.63 1352.91 2308.11 1352.91 Q2312.11 1352.91 2314.45 1350.81 Q2316.79 1348.7 2316.79 1345.09 Q2316.79 1341.48 2314.45 1339.37 Q2312.11 1337.27 2308.11 1337.27 Q2306.23 1337.27 2304.36 1337.68 Q2302.51 1338.1 2300.56 1338.98 L2300.56 1321.62 Z\" fill=\"#000000\" fill-rule=\"evenodd\" fill-opacity=\"1\" /><path clip-path=\"url(#clip540)\" d=\"M2270.21 1177.7 L2288.57 1177.7 L2288.57 1181.63 L2274.5 1181.63 L2274.5 1190.11 Q2275.52 1189.76 2276.53 1189.6 Q2277.55 1189.41 2278.57 1189.41 Q2284.36 1189.41 2287.74 1192.58 Q2291.12 1195.75 2291.12 1201.17 Q2291.12 1206.75 2287.64 1209.85 Q2284.17 1212.93 2277.85 1212.93 Q2275.68 1212.93 2273.41 1212.56 Q2271.16 1212.19 2268.76 1211.45 L2268.76 1206.75 Q2270.84 1207.88 2273.06 1208.44 Q2275.28 1208.99 2277.76 1208.99 Q2281.77 1208.99 2284.1 1206.89 Q2286.44 1204.78 2286.44 1201.17 Q2286.44 1197.56 2284.1 1195.45 Q2281.77 1193.35 2277.76 1193.35 Q2275.89 1193.35 2274.01 1193.76 Q2272.16 1194.18 2270.21 1195.06 L2270.21 1177.7 Z\" fill=\"#000000\" fill-rule=\"evenodd\" fill-opacity=\"1\" /><path clip-path=\"url(#clip540)\" d=\"M2310.33 1180.78 Q2306.72 1180.78 2304.89 1184.34 Q2303.08 1187.88 2303.08 1195.01 Q2303.08 1202.12 2304.89 1205.68 Q2306.72 1209.23 2310.33 1209.23 Q2313.96 1209.23 2315.77 1205.68 Q2317.6 1202.12 2317.6 1195.01 Q2317.6 1187.88 2315.77 1184.34 Q2313.96 1180.78 2310.33 1180.78 M2310.33 1177.07 Q2316.14 1177.07 2319.2 1181.68 Q2322.27 1186.26 2322.27 1195.01 Q2322.27 1203.74 2319.2 1208.35 Q2316.14 1212.93 2310.33 1212.93 Q2304.52 1212.93 2301.44 1208.35 Q2298.39 1203.74 2298.39 1195.01 Q2298.39 1186.26 2301.44 1181.68 Q2304.52 1177.07 2310.33 1177.07 Z\" fill=\"#000000\" fill-rule=\"evenodd\" fill-opacity=\"1\" /><path clip-path=\"url(#clip540)\" d=\"M2268.76 1033.78 L2290.98 1033.78 L2290.98 1035.77 L2278.43 1068.34 L2273.55 1068.34 L2285.35 1037.71 L2268.76 1037.71 L2268.76 1033.78 Z\" fill=\"#000000\" fill-rule=\"evenodd\" fill-opacity=\"1\" /><path clip-path=\"url(#clip540)\" d=\"M2300.14 1033.78 L2318.5 1033.78 L2318.5 1037.71 L2304.43 1037.71 L2304.43 1046.19 Q2305.45 1045.84 2306.46 1045.68 Q2307.48 1045.49 2308.5 1045.49 Q2314.29 1045.49 2317.67 1048.66 Q2321.05 1051.83 2321.05 1057.25 Q2321.05 1062.83 2317.58 1065.93 Q2314.1 1069.01 2307.78 1069.01 Q2305.61 1069.01 2303.34 1068.64 Q2301.09 1068.27 2298.69 1067.53 L2298.69 1062.83 Q2300.77 1063.96 2302.99 1064.52 Q2305.21 1065.07 2307.69 1065.07 Q2311.7 1065.07 2314.03 1062.97 Q2316.37 1060.86 2316.37 1057.25 Q2316.37 1053.64 2314.03 1051.53 Q2311.7 1049.43 2307.69 1049.43 Q2305.82 1049.43 2303.94 1049.84 Q2302.09 1050.26 2300.14 1051.14 L2300.14 1033.78 Z\" fill=\"#000000\" fill-rule=\"evenodd\" fill-opacity=\"1\" /><path clip-path=\"url(#clip540)\" d=\"M2269.43 920.482 L2277.07 920.482 L2277.07 894.117 L2268.76 895.783 L2268.76 891.524 L2277.02 889.858 L2281.7 889.858 L2281.7 920.482 L2289.33 920.482 L2289.33 924.418 L2269.43 924.418 L2269.43 920.482 Z\" fill=\"#000000\" fill-rule=\"evenodd\" fill-opacity=\"1\" /><path clip-path=\"url(#clip540)\" d=\"M2308.78 892.936 Q2305.17 892.936 2303.34 896.501 Q2301.53 900.043 2301.53 907.172 Q2301.53 914.279 2303.34 917.844 Q2305.17 921.385 2308.78 921.385 Q2312.41 921.385 2314.22 917.844 Q2316.05 914.279 2316.05 907.172 Q2316.05 900.043 2314.22 896.501 Q2312.41 892.936 2308.78 892.936 M2308.78 889.233 Q2314.59 889.233 2317.64 893.839 Q2320.72 898.422 2320.72 907.172 Q2320.72 915.899 2317.64 920.506 Q2314.59 925.089 2308.78 925.089 Q2302.97 925.089 2299.89 920.506 Q2296.83 915.899 2296.83 907.172 Q2296.83 898.422 2299.89 893.839 Q2302.97 889.233 2308.78 889.233 Z\" fill=\"#000000\" fill-rule=\"evenodd\" fill-opacity=\"1\" /><path clip-path=\"url(#clip540)\" d=\"M2338.94 892.936 Q2335.33 892.936 2333.5 896.501 Q2331.7 900.043 2331.7 907.172 Q2331.7 914.279 2333.5 917.844 Q2335.33 921.385 2338.94 921.385 Q2342.57 921.385 2344.38 917.844 Q2346.21 914.279 2346.21 907.172 Q2346.21 900.043 2344.38 896.501 Q2342.57 892.936 2338.94 892.936 M2338.94 889.233 Q2344.75 889.233 2347.81 893.839 Q2350.89 898.422 2350.89 907.172 Q2350.89 915.899 2347.81 920.506 Q2344.75 925.089 2338.94 925.089 Q2333.13 925.089 2330.05 920.506 Q2327 915.899 2327 907.172 Q2327 898.422 2330.05 893.839 Q2333.13 889.233 2338.94 889.233 Z\" fill=\"#000000\" fill-rule=\"evenodd\" fill-opacity=\"1\" /><path clip-path=\"url(#clip540)\" d=\"M2269.43 776.562 L2277.07 776.562 L2277.07 750.196 L2268.76 751.863 L2268.76 747.604 L2277.02 745.937 L2281.7 745.937 L2281.7 776.562 L2289.33 776.562 L2289.33 780.497 L2269.43 780.497 L2269.43 776.562 Z\" fill=\"#000000\" fill-rule=\"evenodd\" fill-opacity=\"1\" /><path clip-path=\"url(#clip540)\" d=\"M2302.81 776.562 L2319.13 776.562 L2319.13 780.497 L2297.18 780.497 L2297.18 776.562 Q2299.84 773.807 2304.43 769.178 Q2309.03 764.525 2310.21 763.182 Q2312.46 760.659 2313.34 758.923 Q2314.24 757.164 2314.24 755.474 Q2314.24 752.72 2312.3 750.983 Q2310.38 749.247 2307.27 749.247 Q2305.08 749.247 2302.62 750.011 Q2300.19 750.775 2297.41 752.326 L2297.41 747.604 Q2300.24 746.47 2302.69 745.891 Q2305.14 745.312 2307.18 745.312 Q2312.55 745.312 2315.75 747.997 Q2318.94 750.683 2318.94 755.173 Q2318.94 757.303 2318.13 759.224 Q2317.34 761.122 2315.24 763.715 Q2314.66 764.386 2311.56 767.604 Q2308.45 770.798 2302.81 776.562 Z\" fill=\"#000000\" fill-rule=\"evenodd\" fill-opacity=\"1\" /><path clip-path=\"url(#clip540)\" d=\"M2328.99 745.937 L2347.34 745.937 L2347.34 749.872 L2333.27 749.872 L2333.27 758.345 Q2334.29 757.997 2335.31 757.835 Q2336.32 757.65 2337.34 757.65 Q2343.13 757.65 2346.51 760.821 Q2349.89 763.993 2349.89 769.409 Q2349.89 774.988 2346.42 778.09 Q2342.95 781.168 2336.63 781.168 Q2334.45 781.168 2332.18 780.798 Q2329.94 780.428 2327.53 779.687 L2327.53 774.988 Q2329.61 776.122 2331.83 776.678 Q2334.06 777.233 2336.53 777.233 Q2340.54 777.233 2342.88 775.127 Q2345.21 773.02 2345.21 769.409 Q2345.21 765.798 2342.88 763.692 Q2340.54 761.585 2336.53 761.585 Q2334.66 761.585 2332.78 762.002 Q2330.93 762.419 2328.99 763.298 L2328.99 745.937 Z\" fill=\"#000000\" fill-rule=\"evenodd\" fill-opacity=\"1\" /><path clip-path=\"url(#clip540)\" d=\"M2269.43 632.642 L2277.07 632.642 L2277.07 606.276 L2268.76 607.943 L2268.76 603.683 L2277.02 602.017 L2281.7 602.017 L2281.7 632.642 L2289.33 632.642 L2289.33 636.577 L2269.43 636.577 L2269.43 632.642 Z\" fill=\"#000000\" fill-rule=\"evenodd\" fill-opacity=\"1\" /><path clip-path=\"url(#clip540)\" d=\"M2298.83 602.017 L2317.18 602.017 L2317.18 605.952 L2303.11 605.952 L2303.11 614.424 Q2304.13 614.077 2305.14 613.915 Q2306.16 613.73 2307.18 613.73 Q2312.97 613.73 2316.35 616.901 Q2319.73 620.072 2319.73 625.489 Q2319.73 631.068 2316.26 634.169 Q2312.78 637.248 2306.46 637.248 Q2304.29 637.248 2302.02 636.878 Q2299.77 636.507 2297.37 635.767 L2297.37 631.068 Q2299.45 632.202 2301.67 632.757 Q2303.89 633.313 2306.37 633.313 Q2310.38 633.313 2312.71 631.206 Q2315.05 629.1 2315.05 625.489 Q2315.05 621.878 2312.71 619.771 Q2310.38 617.665 2306.37 617.665 Q2304.5 617.665 2302.62 618.082 Q2300.77 618.498 2298.83 619.378 L2298.83 602.017 Z\" fill=\"#000000\" fill-rule=\"evenodd\" fill-opacity=\"1\" /><path clip-path=\"url(#clip540)\" d=\"M2338.94 605.095 Q2335.33 605.095 2333.5 608.66 Q2331.7 612.202 2331.7 619.332 Q2331.7 626.438 2333.5 630.003 Q2335.33 633.544 2338.94 633.544 Q2342.57 633.544 2344.38 630.003 Q2346.21 626.438 2346.21 619.332 Q2346.21 612.202 2344.38 608.66 Q2342.57 605.095 2338.94 605.095 M2338.94 601.392 Q2344.75 601.392 2347.81 605.998 Q2350.89 610.582 2350.89 619.332 Q2350.89 628.058 2347.81 632.665 Q2344.75 637.248 2338.94 637.248 Q2333.13 637.248 2330.05 632.665 Q2327 628.058 2327 619.332 Q2327 610.582 2330.05 605.998 Q2333.13 601.392 2338.94 601.392 Z\" fill=\"#000000\" fill-rule=\"evenodd\" fill-opacity=\"1\" /><path clip-path=\"url(#clip540)\" d=\"M2269.43 488.721 L2277.07 488.721 L2277.07 462.356 L2268.76 464.022 L2268.76 459.763 L2277.02 458.096 L2281.7 458.096 L2281.7 488.721 L2289.33 488.721 L2289.33 492.656 L2269.43 492.656 L2269.43 488.721 Z\" fill=\"#000000\" fill-rule=\"evenodd\" fill-opacity=\"1\" /><path clip-path=\"url(#clip540)\" d=\"M2297.6 458.096 L2319.82 458.096 L2319.82 460.087 L2307.27 492.656 L2302.39 492.656 L2314.2 462.032 L2297.6 462.032 L2297.6 458.096 Z\" fill=\"#000000\" fill-rule=\"evenodd\" fill-opacity=\"1\" /><path clip-path=\"url(#clip540)\" d=\"M2328.99 458.096 L2347.34 458.096 L2347.34 462.032 L2333.27 462.032 L2333.27 470.504 Q2334.29 470.157 2335.31 469.995 Q2336.32 469.809 2337.34 469.809 Q2343.13 469.809 2346.51 472.981 Q2349.89 476.152 2349.89 481.569 Q2349.89 487.147 2346.42 490.249 Q2342.95 493.328 2336.63 493.328 Q2334.45 493.328 2332.18 492.957 Q2329.94 492.587 2327.53 491.846 L2327.53 487.147 Q2329.61 488.281 2331.83 488.837 Q2334.06 489.393 2336.53 489.393 Q2340.54 489.393 2342.88 487.286 Q2345.21 485.18 2345.21 481.569 Q2345.21 477.957 2342.88 475.851 Q2340.54 473.744 2336.53 473.744 Q2334.66 473.744 2332.78 474.161 Q2330.93 474.578 2328.99 475.457 L2328.99 458.096 Z\" fill=\"#000000\" fill-rule=\"evenodd\" fill-opacity=\"1\" /><path clip-path=\"url(#clip540)\" d=\"M2274.38 344.801 L2290.7 344.801 L2290.7 348.736 L2268.76 348.736 L2268.76 344.801 Q2271.42 342.046 2276 337.417 Q2280.61 332.764 2281.79 331.421 Q2284.03 328.898 2284.91 327.162 Q2285.82 325.403 2285.82 323.713 Q2285.82 320.958 2283.87 319.222 Q2281.95 317.486 2278.85 317.486 Q2276.65 317.486 2274.2 318.25 Q2271.77 319.014 2268.99 320.565 L2268.99 315.843 Q2271.81 314.708 2274.27 314.13 Q2276.72 313.551 2278.76 313.551 Q2284.13 313.551 2287.32 316.236 Q2290.52 318.921 2290.52 323.412 Q2290.52 325.542 2289.7 327.463 Q2288.92 329.361 2286.81 331.954 Q2286.23 332.625 2283.13 335.843 Q2280.03 339.037 2274.38 344.801 Z\" fill=\"#000000\" fill-rule=\"evenodd\" fill-opacity=\"1\" /><path clip-path=\"url(#clip540)\" d=\"M2310.51 317.255 Q2306.9 317.255 2305.08 320.82 Q2303.27 324.361 2303.27 331.491 Q2303.27 338.597 2305.08 342.162 Q2306.9 345.704 2310.51 345.704 Q2314.15 345.704 2315.95 342.162 Q2317.78 338.597 2317.78 331.491 Q2317.78 324.361 2315.95 320.82 Q2314.15 317.255 2310.51 317.255 M2310.51 313.551 Q2316.33 313.551 2319.38 318.158 Q2322.46 322.741 2322.46 331.491 Q2322.46 340.218 2319.38 344.824 Q2316.33 349.407 2310.51 349.407 Q2304.7 349.407 2301.63 344.824 Q2298.57 340.218 2298.57 331.491 Q2298.57 322.741 2301.63 318.158 Q2304.7 313.551 2310.51 313.551 Z\" fill=\"#000000\" fill-rule=\"evenodd\" fill-opacity=\"1\" /><path clip-path=\"url(#clip540)\" d=\"M2340.68 317.255 Q2337.07 317.255 2335.24 320.82 Q2333.43 324.361 2333.43 331.491 Q2333.43 338.597 2335.24 342.162 Q2337.07 345.704 2340.68 345.704 Q2344.31 345.704 2346.12 342.162 Q2347.95 338.597 2347.95 331.491 Q2347.95 324.361 2346.12 320.82 Q2344.31 317.255 2340.68 317.255 M2340.68 313.551 Q2346.49 313.551 2349.54 318.158 Q2352.62 322.741 2352.62 331.491 Q2352.62 340.218 2349.54 344.824 Q2346.49 349.407 2340.68 349.407 Q2334.87 349.407 2331.79 344.824 Q2328.73 340.218 2328.73 331.491 Q2328.73 322.741 2331.79 318.158 Q2334.87 313.551 2340.68 313.551 Z\" fill=\"#000000\" fill-rule=\"evenodd\" fill-opacity=\"1\" /><path clip-path=\"url(#clip540)\" d=\"M2274.38 200.881 L2290.7 200.881 L2290.7 204.816 L2268.76 204.816 L2268.76 200.881 Q2271.42 198.126 2276 193.496 Q2280.61 188.844 2281.79 187.501 Q2284.03 184.978 2284.91 183.242 Q2285.82 181.482 2285.82 179.793 Q2285.82 177.038 2283.87 175.302 Q2281.95 173.566 2278.85 173.566 Q2276.65 173.566 2274.2 174.33 Q2271.77 175.094 2268.99 176.645 L2268.99 171.922 Q2271.81 170.788 2274.27 170.209 Q2276.72 169.631 2278.76 169.631 Q2284.13 169.631 2287.32 172.316 Q2290.52 175.001 2290.52 179.492 Q2290.52 181.621 2289.7 183.543 Q2288.92 185.441 2286.81 188.033 Q2286.23 188.705 2283.13 191.922 Q2280.03 195.117 2274.38 200.881 Z\" fill=\"#000000\" fill-rule=\"evenodd\" fill-opacity=\"1\" /><path clip-path=\"url(#clip540)\" d=\"M2304.54 200.881 L2320.86 200.881 L2320.86 204.816 L2298.92 204.816 L2298.92 200.881 Q2301.58 198.126 2306.16 193.496 Q2310.77 188.844 2311.95 187.501 Q2314.2 184.978 2315.08 183.242 Q2315.98 181.482 2315.98 179.793 Q2315.98 177.038 2314.03 175.302 Q2312.11 173.566 2309.01 173.566 Q2306.81 173.566 2304.36 174.33 Q2301.93 175.094 2299.15 176.645 L2299.15 171.922 Q2301.97 170.788 2304.43 170.209 Q2306.88 169.631 2308.92 169.631 Q2314.29 169.631 2317.48 172.316 Q2320.68 175.001 2320.68 179.492 Q2320.68 181.621 2319.87 183.543 Q2319.08 185.441 2316.97 188.033 Q2316.39 188.705 2313.29 191.922 Q2310.19 195.117 2304.54 200.881 Z\" fill=\"#000000\" fill-rule=\"evenodd\" fill-opacity=\"1\" /><path clip-path=\"url(#clip540)\" d=\"M2330.72 170.256 L2349.08 170.256 L2349.08 174.191 L2335.01 174.191 L2335.01 182.663 Q2336.02 182.316 2337.04 182.154 Q2338.06 181.969 2339.08 181.969 Q2344.87 181.969 2348.25 185.14 Q2351.63 188.311 2351.63 193.728 Q2351.63 199.306 2348.15 202.408 Q2344.68 205.487 2338.36 205.487 Q2336.19 205.487 2333.92 205.117 Q2331.67 204.746 2329.26 204.005 L2329.26 199.306 Q2331.35 200.441 2333.57 200.996 Q2335.79 201.552 2338.27 201.552 Q2342.27 201.552 2344.61 199.445 Q2346.95 197.339 2346.95 193.728 Q2346.95 190.117 2344.61 188.01 Q2342.27 185.904 2338.27 185.904 Q2336.39 185.904 2334.52 186.32 Q2332.67 186.737 2330.72 187.617 L2330.72 170.256 Z\" fill=\"#000000\" fill-rule=\"evenodd\" fill-opacity=\"1\" /><path clip-path=\"url(#clip540)\" d=\"M2274.38 56.9601 L2290.7 56.9601 L2290.7 60.8953 L2268.76 60.8953 L2268.76 56.9601 Q2271.42 54.2055 2276 49.5759 Q2280.61 44.9232 2281.79 43.5806 Q2284.03 41.0574 2284.91 39.3213 Q2285.82 37.5621 2285.82 35.8723 Q2285.82 33.1177 2283.87 31.3816 Q2281.95 29.6455 2278.85 29.6455 Q2276.65 29.6455 2274.2 30.4093 Q2271.77 31.1732 2268.99 32.7241 L2268.99 28.002 Q2271.81 26.8677 2274.27 26.289 Q2276.72 25.7103 2278.76 25.7103 Q2284.13 25.7103 2287.32 28.3955 Q2290.52 31.0806 2290.52 35.5714 Q2290.52 37.701 2289.7 39.6223 Q2288.92 41.5204 2286.81 44.113 Q2286.23 44.7843 2283.13 48.0018 Q2280.03 51.1963 2274.38 56.9601 Z\" fill=\"#000000\" fill-rule=\"evenodd\" fill-opacity=\"1\" /><path clip-path=\"url(#clip540)\" d=\"M2300.56 26.3353 L2318.92 26.3353 L2318.92 30.2705 L2304.84 30.2705 L2304.84 38.7426 Q2305.86 38.3954 2306.88 38.2334 Q2307.9 38.0482 2308.92 38.0482 Q2314.7 38.0482 2318.08 41.2195 Q2321.46 44.3908 2321.46 49.8074 Q2321.46 55.3861 2317.99 58.4879 Q2314.52 61.5666 2308.2 61.5666 Q2306.02 61.5666 2303.76 61.1962 Q2301.51 60.8259 2299.1 60.0851 L2299.1 55.3861 Q2301.19 56.5203 2303.41 57.0759 Q2305.63 57.6314 2308.11 57.6314 Q2312.11 57.6314 2314.45 55.525 Q2316.79 53.4185 2316.79 49.8074 Q2316.79 46.1963 2314.45 44.0898 Q2312.11 41.9834 2308.11 41.9834 Q2306.23 41.9834 2304.36 42.4 Q2302.51 42.8167 2300.56 43.6963 L2300.56 26.3353 Z\" fill=\"#000000\" fill-rule=\"evenodd\" fill-opacity=\"1\" /><path clip-path=\"url(#clip540)\" d=\"M2340.68 29.414 Q2337.07 29.414 2335.24 32.9788 Q2333.43 36.5204 2333.43 43.65 Q2333.43 50.7565 2335.24 54.3213 Q2337.07 57.8629 2340.68 57.8629 Q2344.31 57.8629 2346.12 54.3213 Q2347.95 50.7565 2347.95 43.65 Q2347.95 36.5204 2346.12 32.9788 Q2344.31 29.414 2340.68 29.414 M2340.68 25.7103 Q2346.49 25.7103 2349.54 30.3168 Q2352.62 34.9001 2352.62 43.65 Q2352.62 52.3768 2349.54 56.9833 Q2346.49 61.5666 2340.68 61.5666 Q2334.87 61.5666 2331.79 56.9833 Q2328.73 52.3768 2328.73 43.65 Q2328.73 34.9001 2331.79 30.3168 Q2334.87 25.7103 2340.68 25.7103 Z\" fill=\"#000000\" fill-rule=\"evenodd\" fill-opacity=\"1\" /><polyline clip-path=\"url(#clip540)\" style=\"stroke:#000000; stroke-linecap:butt; stroke-linejoin:round; stroke-width:4; stroke-opacity:1; fill:none\" points=\"\n",
       "  2232.76,1486.45 2232.76,1486.45 2256.76,1486.45 2232.76,1486.45 2232.76,1342.53 2256.76,1342.53 2232.76,1342.53 2232.76,1198.61 2256.76,1198.61 2232.76,1198.61 \n",
       "  2232.76,1054.69 2256.76,1054.69 2232.76,1054.69 2232.76,910.766 2256.76,910.766 2232.76,910.766 2232.76,766.846 2256.76,766.846 2232.76,766.846 2232.76,622.926 \n",
       "  2256.76,622.926 2232.76,622.926 2232.76,479.005 2256.76,479.005 2232.76,479.005 2232.76,335.085 2256.76,335.085 2232.76,335.085 2232.76,191.164 2256.76,191.164 \n",
       "  2232.76,191.164 2232.76,47.2441 2256.76,47.2441 2232.76,47.2441 \n",
       "  \"/>\n",
       "</svg>\n"
      ]
     },
     "execution_count": 5,
     "metadata": {},
     "output_type": "execute_result"
    }
   ],
   "source": [
    "p = (Δx, Δy, Δt, t₁)\n",
    "\n",
    "# initial condition\n",
    "T₀ = [ 250 * exp( - ( (i - nx/2)^2 + (j - ny/2)^2 ) / 300 ) for i in 1:nx, j in 1:ny ]\n",
    "\n",
    "# simulated evolution\n",
    "T₁ = copy(T₀)\n",
    "T₁ = heatflow(T₁, D₀, p, 1e-4)\n",
    "\n",
    "heatmap(T₀, clim=(0, maximum(T₀)))"
   ]
  },
  {
   "cell_type": "code",
   "execution_count": 6,
   "id": "98a38ca2",
   "metadata": {},
   "outputs": [
    {
     "data": {
      "image/svg+xml": [
       "<?xml version=\"1.0\" encoding=\"utf-8\"?>\n",
       "<svg xmlns=\"http://www.w3.org/2000/svg\" xmlns:xlink=\"http://www.w3.org/1999/xlink\" width=\"600\" height=\"400\" viewBox=\"0 0 2400 1600\">\n",
       "<defs>\n",
       "  <clipPath id=\"clip580\">\n",
       "    <rect x=\"0\" y=\"0\" width=\"2400\" height=\"1600\"/>\n",
       "  </clipPath>\n",
       "</defs>\n",
       "<path clip-path=\"url(#clip580)\" d=\"\n",
       "M0 1600 L2400 1600 L2400 0 L0 0  Z\n",
       "  \" fill=\"#ffffff\" fill-rule=\"evenodd\" fill-opacity=\"1\"/>\n",
       "<defs>\n",
       "  <clipPath id=\"clip581\">\n",
       "    <rect x=\"480\" y=\"0\" width=\"1681\" height=\"1600\"/>\n",
       "  </clipPath>\n",
       "</defs>\n",
       "<path clip-path=\"url(#clip580)\" d=\"\n",
       "M169.121 1486.45 L2112.76 1486.45 L2112.76 47.2441 L169.121 47.2441  Z\n",
       "  \" fill=\"#ffffff\" fill-rule=\"evenodd\" fill-opacity=\"1\"/>\n",
       "<defs>\n",
       "  <clipPath id=\"clip582\">\n",
       "    <rect x=\"169\" y=\"47\" width=\"1945\" height=\"1440\"/>\n",
       "  </clipPath>\n",
       "</defs>\n",
       "<polyline clip-path=\"url(#clip582)\" style=\"stroke:#000000; stroke-linecap:butt; stroke-linejoin:round; stroke-width:2; stroke-opacity:0.1; fill:none\" points=\"\n",
       "  548.13,1486.45 548.13,47.2441 \n",
       "  \"/>\n",
       "<polyline clip-path=\"url(#clip582)\" style=\"stroke:#000000; stroke-linecap:butt; stroke-linejoin:round; stroke-width:2; stroke-opacity:0.1; fill:none\" points=\"\n",
       "  936.857,1486.45 936.857,47.2441 \n",
       "  \"/>\n",
       "<polyline clip-path=\"url(#clip582)\" style=\"stroke:#000000; stroke-linecap:butt; stroke-linejoin:round; stroke-width:2; stroke-opacity:0.1; fill:none\" points=\"\n",
       "  1325.58,1486.45 1325.58,47.2441 \n",
       "  \"/>\n",
       "<polyline clip-path=\"url(#clip582)\" style=\"stroke:#000000; stroke-linecap:butt; stroke-linejoin:round; stroke-width:2; stroke-opacity:0.1; fill:none\" points=\"\n",
       "  1714.31,1486.45 1714.31,47.2441 \n",
       "  \"/>\n",
       "<polyline clip-path=\"url(#clip582)\" style=\"stroke:#000000; stroke-linecap:butt; stroke-linejoin:round; stroke-width:2; stroke-opacity:0.1; fill:none\" points=\"\n",
       "  2103.04,1486.45 2103.04,47.2441 \n",
       "  \"/>\n",
       "<polyline clip-path=\"url(#clip580)\" style=\"stroke:#000000; stroke-linecap:butt; stroke-linejoin:round; stroke-width:4; stroke-opacity:1; fill:none\" points=\"\n",
       "  169.121,1486.45 2112.76,1486.45 \n",
       "  \"/>\n",
       "<polyline clip-path=\"url(#clip580)\" style=\"stroke:#000000; stroke-linecap:butt; stroke-linejoin:round; stroke-width:4; stroke-opacity:1; fill:none\" points=\"\n",
       "  548.13,1486.45 548.13,1469.18 \n",
       "  \"/>\n",
       "<polyline clip-path=\"url(#clip580)\" style=\"stroke:#000000; stroke-linecap:butt; stroke-linejoin:round; stroke-width:4; stroke-opacity:1; fill:none\" points=\"\n",
       "  936.857,1486.45 936.857,1469.18 \n",
       "  \"/>\n",
       "<polyline clip-path=\"url(#clip580)\" style=\"stroke:#000000; stroke-linecap:butt; stroke-linejoin:round; stroke-width:4; stroke-opacity:1; fill:none\" points=\"\n",
       "  1325.58,1486.45 1325.58,1469.18 \n",
       "  \"/>\n",
       "<polyline clip-path=\"url(#clip580)\" style=\"stroke:#000000; stroke-linecap:butt; stroke-linejoin:round; stroke-width:4; stroke-opacity:1; fill:none\" points=\"\n",
       "  1714.31,1486.45 1714.31,1469.18 \n",
       "  \"/>\n",
       "<polyline clip-path=\"url(#clip580)\" style=\"stroke:#000000; stroke-linecap:butt; stroke-linejoin:round; stroke-width:4; stroke-opacity:1; fill:none\" points=\"\n",
       "  2103.04,1486.45 2103.04,1469.18 \n",
       "  \"/>\n",
       "<path clip-path=\"url(#clip580)\" d=\"M526.903 1543.18 L543.223 1543.18 L543.223 1547.12 L521.278 1547.12 L521.278 1543.18 Q523.94 1540.43 528.524 1535.8 Q533.13 1531.15 534.311 1529.81 Q536.556 1527.28 537.436 1525.55 Q538.338 1523.79 538.338 1522.1 Q538.338 1519.34 536.394 1517.61 Q534.473 1515.87 531.371 1515.87 Q529.172 1515.87 526.718 1516.63 Q524.288 1517.4 521.51 1518.95 L521.51 1514.23 Q524.334 1513.09 526.788 1512.51 Q529.241 1511.93 531.278 1511.93 Q536.649 1511.93 539.843 1514.62 Q543.037 1517.31 543.037 1521.8 Q543.037 1523.93 542.227 1525.85 Q541.44 1527.74 539.334 1530.34 Q538.755 1531.01 535.653 1534.23 Q532.551 1537.42 526.903 1543.18 Z\" fill=\"#000000\" fill-rule=\"evenodd\" fill-opacity=\"1\" /><path clip-path=\"url(#clip580)\" d=\"M563.037 1515.64 Q559.426 1515.64 557.598 1519.2 Q555.792 1522.75 555.792 1529.87 Q555.792 1536.98 557.598 1540.55 Q559.426 1544.09 563.037 1544.09 Q566.672 1544.09 568.477 1540.55 Q570.306 1536.98 570.306 1529.87 Q570.306 1522.75 568.477 1519.2 Q566.672 1515.64 563.037 1515.64 M563.037 1511.93 Q568.848 1511.93 571.903 1516.54 Q574.982 1521.12 574.982 1529.87 Q574.982 1538.6 571.903 1543.21 Q568.848 1547.79 563.037 1547.79 Q557.227 1547.79 554.149 1543.21 Q551.093 1538.6 551.093 1529.87 Q551.093 1521.12 554.149 1516.54 Q557.227 1511.93 563.037 1511.93 Z\" fill=\"#000000\" fill-rule=\"evenodd\" fill-opacity=\"1\" /><path clip-path=\"url(#clip580)\" d=\"M925.028 1516.63 L913.223 1535.08 L925.028 1535.08 L925.028 1516.63 M923.801 1512.56 L929.681 1512.56 L929.681 1535.08 L934.612 1535.08 L934.612 1538.97 L929.681 1538.97 L929.681 1547.12 L925.028 1547.12 L925.028 1538.97 L909.427 1538.97 L909.427 1534.46 L923.801 1512.56 Z\" fill=\"#000000\" fill-rule=\"evenodd\" fill-opacity=\"1\" /><path clip-path=\"url(#clip580)\" d=\"M952.343 1515.64 Q948.732 1515.64 946.903 1519.2 Q945.098 1522.75 945.098 1529.87 Q945.098 1536.98 946.903 1540.55 Q948.732 1544.09 952.343 1544.09 Q955.977 1544.09 957.783 1540.55 Q959.611 1536.98 959.611 1529.87 Q959.611 1522.75 957.783 1519.2 Q955.977 1515.64 952.343 1515.64 M952.343 1511.93 Q958.153 1511.93 961.209 1516.54 Q964.287 1521.12 964.287 1529.87 Q964.287 1538.6 961.209 1543.21 Q958.153 1547.79 952.343 1547.79 Q946.533 1547.79 943.454 1543.21 Q940.399 1538.6 940.399 1529.87 Q940.399 1521.12 943.454 1516.54 Q946.533 1511.93 952.343 1511.93 Z\" fill=\"#000000\" fill-rule=\"evenodd\" fill-opacity=\"1\" /><path clip-path=\"url(#clip580)\" d=\"M1310.99 1527.98 Q1307.84 1527.98 1305.99 1530.13 Q1304.16 1532.28 1304.16 1536.03 Q1304.16 1539.76 1305.99 1541.93 Q1307.84 1544.09 1310.99 1544.09 Q1314.14 1544.09 1315.97 1541.93 Q1317.82 1539.76 1317.82 1536.03 Q1317.82 1532.28 1315.97 1530.13 Q1314.14 1527.98 1310.99 1527.98 M1320.27 1513.32 L1320.27 1517.58 Q1318.51 1516.75 1316.71 1516.31 Q1314.92 1515.87 1313.16 1515.87 Q1308.54 1515.87 1306.08 1519 Q1303.65 1522.12 1303.3 1528.44 Q1304.67 1526.43 1306.73 1525.36 Q1308.79 1524.27 1311.27 1524.27 Q1316.48 1524.27 1319.48 1527.44 Q1322.52 1530.59 1322.52 1536.03 Q1322.52 1541.36 1319.37 1544.57 Q1316.22 1547.79 1310.99 1547.79 Q1304.99 1547.79 1301.82 1543.21 Q1298.65 1538.6 1298.65 1529.87 Q1298.65 1521.68 1302.54 1516.82 Q1306.43 1511.93 1312.98 1511.93 Q1314.74 1511.93 1316.52 1512.28 Q1318.33 1512.63 1320.27 1513.32 Z\" fill=\"#000000\" fill-rule=\"evenodd\" fill-opacity=\"1\" /><path clip-path=\"url(#clip580)\" d=\"M1340.57 1515.64 Q1336.96 1515.64 1335.13 1519.2 Q1333.33 1522.75 1333.33 1529.87 Q1333.33 1536.98 1335.13 1540.55 Q1336.96 1544.09 1340.57 1544.09 Q1344.21 1544.09 1346.01 1540.55 Q1347.84 1536.98 1347.84 1529.87 Q1347.84 1522.75 1346.01 1519.2 Q1344.21 1515.64 1340.57 1515.64 M1340.57 1511.93 Q1346.38 1511.93 1349.44 1516.54 Q1352.52 1521.12 1352.52 1529.87 Q1352.52 1538.6 1349.44 1543.21 Q1346.38 1547.79 1340.57 1547.79 Q1334.76 1547.79 1331.68 1543.21 Q1328.63 1538.6 1328.63 1529.87 Q1328.63 1521.12 1331.68 1516.54 Q1334.76 1511.93 1340.57 1511.93 Z\" fill=\"#000000\" fill-rule=\"evenodd\" fill-opacity=\"1\" /><path clip-path=\"url(#clip580)\" d=\"M1699.18 1530.71 Q1695.85 1530.71 1693.93 1532.49 Q1692.03 1534.27 1692.03 1537.4 Q1692.03 1540.52 1693.93 1542.31 Q1695.85 1544.09 1699.18 1544.09 Q1702.52 1544.09 1704.44 1542.31 Q1706.36 1540.5 1706.36 1537.4 Q1706.36 1534.27 1704.44 1532.49 Q1702.54 1530.71 1699.18 1530.71 M1694.51 1528.72 Q1691.5 1527.98 1689.81 1525.92 Q1688.14 1523.86 1688.14 1520.89 Q1688.14 1516.75 1691.08 1514.34 Q1694.04 1511.93 1699.18 1511.93 Q1704.35 1511.93 1707.29 1514.34 Q1710.23 1516.75 1710.23 1520.89 Q1710.23 1523.86 1708.54 1525.92 Q1706.87 1527.98 1703.88 1528.72 Q1707.26 1529.5 1709.14 1531.8 Q1711.04 1534.09 1711.04 1537.4 Q1711.04 1542.42 1707.96 1545.11 Q1704.9 1547.79 1699.18 1547.79 Q1693.47 1547.79 1690.39 1545.11 Q1687.33 1542.42 1687.33 1537.4 Q1687.33 1534.09 1689.23 1531.8 Q1691.13 1529.5 1694.51 1528.72 M1692.79 1521.33 Q1692.79 1524.02 1694.46 1525.52 Q1696.15 1527.03 1699.18 1527.03 Q1702.19 1527.03 1703.88 1525.52 Q1705.6 1524.02 1705.6 1521.33 Q1705.6 1518.65 1703.88 1517.14 Q1702.19 1515.64 1699.18 1515.64 Q1696.15 1515.64 1694.46 1517.14 Q1692.79 1518.65 1692.79 1521.33 Z\" fill=\"#000000\" fill-rule=\"evenodd\" fill-opacity=\"1\" /><path clip-path=\"url(#clip580)\" d=\"M1729.35 1515.64 Q1725.73 1515.64 1723.91 1519.2 Q1722.1 1522.75 1722.1 1529.87 Q1722.1 1536.98 1723.91 1540.55 Q1725.73 1544.09 1729.35 1544.09 Q1732.98 1544.09 1734.79 1540.55 Q1736.61 1536.98 1736.61 1529.87 Q1736.61 1522.75 1734.79 1519.2 Q1732.98 1515.64 1729.35 1515.64 M1729.35 1511.93 Q1735.16 1511.93 1738.21 1516.54 Q1741.29 1521.12 1741.29 1529.87 Q1741.29 1538.6 1738.21 1543.21 Q1735.16 1547.79 1729.35 1547.79 Q1723.54 1547.79 1720.46 1543.21 Q1717.4 1538.6 1717.4 1529.87 Q1717.4 1521.12 1720.46 1516.54 Q1723.54 1511.93 1729.35 1511.93 Z\" fill=\"#000000\" fill-rule=\"evenodd\" fill-opacity=\"1\" /><path clip-path=\"url(#clip580)\" d=\"M2062.64 1543.18 L2070.28 1543.18 L2070.28 1516.82 L2061.97 1518.49 L2061.97 1514.23 L2070.24 1512.56 L2074.91 1512.56 L2074.91 1543.18 L2082.55 1543.18 L2082.55 1547.12 L2062.64 1547.12 L2062.64 1543.18 Z\" fill=\"#000000\" fill-rule=\"evenodd\" fill-opacity=\"1\" /><path clip-path=\"url(#clip580)\" d=\"M2102 1515.64 Q2098.38 1515.64 2096.56 1519.2 Q2094.75 1522.75 2094.75 1529.87 Q2094.75 1536.98 2096.56 1540.55 Q2098.38 1544.09 2102 1544.09 Q2105.63 1544.09 2107.44 1540.55 Q2109.26 1536.98 2109.26 1529.87 Q2109.26 1522.75 2107.44 1519.2 Q2105.63 1515.64 2102 1515.64 M2102 1511.93 Q2107.81 1511.93 2110.86 1516.54 Q2113.94 1521.12 2113.94 1529.87 Q2113.94 1538.6 2110.86 1543.21 Q2107.81 1547.79 2102 1547.79 Q2096.19 1547.79 2093.11 1543.21 Q2090.05 1538.6 2090.05 1529.87 Q2090.05 1521.12 2093.11 1516.54 Q2096.19 1511.93 2102 1511.93 Z\" fill=\"#000000\" fill-rule=\"evenodd\" fill-opacity=\"1\" /><path clip-path=\"url(#clip580)\" d=\"M2132.16 1515.64 Q2128.55 1515.64 2126.72 1519.2 Q2124.91 1522.75 2124.91 1529.87 Q2124.91 1536.98 2126.72 1540.55 Q2128.55 1544.09 2132.16 1544.09 Q2135.79 1544.09 2137.6 1540.55 Q2139.43 1536.98 2139.43 1529.87 Q2139.43 1522.75 2137.6 1519.2 Q2135.79 1515.64 2132.16 1515.64 M2132.16 1511.93 Q2137.97 1511.93 2141.02 1516.54 Q2144.1 1521.12 2144.1 1529.87 Q2144.1 1538.6 2141.02 1543.21 Q2137.97 1547.79 2132.16 1547.79 Q2126.35 1547.79 2123.27 1543.21 Q2120.21 1538.6 2120.21 1529.87 Q2120.21 1521.12 2123.27 1516.54 Q2126.35 1511.93 2132.16 1511.93 Z\" fill=\"#000000\" fill-rule=\"evenodd\" fill-opacity=\"1\" /><polyline clip-path=\"url(#clip582)\" style=\"stroke:#000000; stroke-linecap:butt; stroke-linejoin:round; stroke-width:2; stroke-opacity:0.1; fill:none\" points=\"\n",
       "  169.121,1205.8 2112.76,1205.8 \n",
       "  \"/>\n",
       "<polyline clip-path=\"url(#clip582)\" style=\"stroke:#000000; stroke-linecap:butt; stroke-linejoin:round; stroke-width:2; stroke-opacity:0.1; fill:none\" points=\"\n",
       "  169.121,917.962 2112.76,917.962 \n",
       "  \"/>\n",
       "<polyline clip-path=\"url(#clip582)\" style=\"stroke:#000000; stroke-linecap:butt; stroke-linejoin:round; stroke-width:2; stroke-opacity:0.1; fill:none\" points=\"\n",
       "  169.121,630.122 2112.76,630.122 \n",
       "  \"/>\n",
       "<polyline clip-path=\"url(#clip582)\" style=\"stroke:#000000; stroke-linecap:butt; stroke-linejoin:round; stroke-width:2; stroke-opacity:0.1; fill:none\" points=\"\n",
       "  169.121,342.281 2112.76,342.281 \n",
       "  \"/>\n",
       "<polyline clip-path=\"url(#clip582)\" style=\"stroke:#000000; stroke-linecap:butt; stroke-linejoin:round; stroke-width:2; stroke-opacity:0.1; fill:none\" points=\"\n",
       "  169.121,54.4401 2112.76,54.4401 \n",
       "  \"/>\n",
       "<polyline clip-path=\"url(#clip580)\" style=\"stroke:#000000; stroke-linecap:butt; stroke-linejoin:round; stroke-width:4; stroke-opacity:1; fill:none\" points=\"\n",
       "  169.121,1486.45 169.121,47.2441 \n",
       "  \"/>\n",
       "<polyline clip-path=\"url(#clip580)\" style=\"stroke:#000000; stroke-linecap:butt; stroke-linejoin:round; stroke-width:4; stroke-opacity:1; fill:none\" points=\"\n",
       "  169.121,1205.8 192.445,1205.8 \n",
       "  \"/>\n",
       "<polyline clip-path=\"url(#clip580)\" style=\"stroke:#000000; stroke-linecap:butt; stroke-linejoin:round; stroke-width:4; stroke-opacity:1; fill:none\" points=\"\n",
       "  169.121,917.962 192.445,917.962 \n",
       "  \"/>\n",
       "<polyline clip-path=\"url(#clip580)\" style=\"stroke:#000000; stroke-linecap:butt; stroke-linejoin:round; stroke-width:4; stroke-opacity:1; fill:none\" points=\"\n",
       "  169.121,630.122 192.445,630.122 \n",
       "  \"/>\n",
       "<polyline clip-path=\"url(#clip580)\" style=\"stroke:#000000; stroke-linecap:butt; stroke-linejoin:round; stroke-width:4; stroke-opacity:1; fill:none\" points=\"\n",
       "  169.121,342.281 192.445,342.281 \n",
       "  \"/>\n",
       "<polyline clip-path=\"url(#clip580)\" style=\"stroke:#000000; stroke-linecap:butt; stroke-linejoin:round; stroke-width:4; stroke-opacity:1; fill:none\" points=\"\n",
       "  169.121,54.4401 192.445,54.4401 \n",
       "  \"/>\n",
       "<path clip-path=\"url(#clip580)\" d=\"M85.0429 1219.15 L101.362 1219.15 L101.362 1223.08 L79.4179 1223.08 L79.4179 1219.15 Q82.0799 1216.39 86.6632 1211.76 Q91.2697 1207.11 92.4502 1205.77 Q94.6956 1203.25 95.5752 1201.51 Q96.478 1199.75 96.478 1198.06 Q96.478 1195.31 94.5336 1193.57 Q92.6123 1191.83 89.5104 1191.83 Q87.3114 1191.83 84.8577 1192.6 Q82.4271 1193.36 79.6494 1194.91 L79.6494 1190.19 Q82.4734 1189.06 84.9271 1188.48 Q87.3808 1187.9 89.4178 1187.9 Q94.7882 1187.9 97.9826 1190.58 Q101.177 1193.27 101.177 1197.76 Q101.177 1199.89 100.367 1201.81 Q99.5798 1203.71 97.4734 1206.3 Q96.8947 1206.97 93.7928 1210.19 Q90.691 1213.38 85.0429 1219.15 Z\" fill=\"#000000\" fill-rule=\"evenodd\" fill-opacity=\"1\" /><path clip-path=\"url(#clip580)\" d=\"M121.177 1191.6 Q117.566 1191.6 115.737 1195.17 Q113.932 1198.71 113.932 1205.84 Q113.932 1212.94 115.737 1216.51 Q117.566 1220.05 121.177 1220.05 Q124.811 1220.05 126.617 1216.51 Q128.445 1212.94 128.445 1205.84 Q128.445 1198.71 126.617 1195.17 Q124.811 1191.6 121.177 1191.6 M121.177 1187.9 Q126.987 1187.9 130.043 1192.5 Q133.121 1197.09 133.121 1205.84 Q133.121 1214.56 130.043 1219.17 Q126.987 1223.75 121.177 1223.75 Q115.367 1223.75 112.288 1219.17 Q109.233 1214.56 109.233 1205.84 Q109.233 1197.09 112.288 1192.5 Q115.367 1187.9 121.177 1187.9 Z\" fill=\"#000000\" fill-rule=\"evenodd\" fill-opacity=\"1\" /><path clip-path=\"url(#clip580)\" d=\"M93.8623 904.756 L82.0568 923.205 L93.8623 923.205 L93.8623 904.756 M92.6354 900.682 L98.515 900.682 L98.515 923.205 L103.446 923.205 L103.446 927.094 L98.515 927.094 L98.515 935.242 L93.8623 935.242 L93.8623 927.094 L78.2605 927.094 L78.2605 922.58 L92.6354 900.682 Z\" fill=\"#000000\" fill-rule=\"evenodd\" fill-opacity=\"1\" /><path clip-path=\"url(#clip580)\" d=\"M121.177 903.761 Q117.566 903.761 115.737 907.326 Q113.932 910.868 113.932 917.997 Q113.932 925.104 115.737 928.668 Q117.566 932.21 121.177 932.21 Q124.811 932.21 126.617 928.668 Q128.445 925.104 128.445 917.997 Q128.445 910.868 126.617 907.326 Q124.811 903.761 121.177 903.761 M121.177 900.057 Q126.987 900.057 130.043 904.664 Q133.121 909.247 133.121 917.997 Q133.121 926.724 130.043 931.33 Q126.987 935.914 121.177 935.914 Q115.367 935.914 112.288 931.33 Q109.233 926.724 109.233 917.997 Q109.233 909.247 112.288 904.664 Q115.367 900.057 121.177 900.057 Z\" fill=\"#000000\" fill-rule=\"evenodd\" fill-opacity=\"1\" /><path clip-path=\"url(#clip580)\" d=\"M91.5938 628.258 Q88.4456 628.258 86.5938 630.411 Q84.7651 632.564 84.7651 636.314 Q84.7651 640.041 86.5938 642.216 Q88.4456 644.369 91.5938 644.369 Q94.7419 644.369 96.5706 642.216 Q98.4224 640.041 98.4224 636.314 Q98.4224 632.564 96.5706 630.411 Q94.7419 628.258 91.5938 628.258 M100.876 613.606 L100.876 617.865 Q99.1169 617.031 97.3113 616.592 Q95.5289 616.152 93.7697 616.152 Q89.1401 616.152 86.6864 619.277 Q84.2558 622.402 83.9086 628.721 Q85.2743 626.707 87.3345 625.642 Q89.3947 624.555 91.8715 624.555 Q97.0798 624.555 100.089 627.726 Q103.121 630.874 103.121 636.314 Q103.121 641.638 99.9733 644.855 Q96.8252 648.073 91.5938 648.073 Q85.5984 648.073 82.4271 643.49 Q79.2559 638.883 79.2559 630.156 Q79.2559 621.962 83.1447 617.101 Q87.0336 612.217 93.5845 612.217 Q95.3437 612.217 97.1261 612.564 Q98.9317 612.911 100.876 613.606 Z\" fill=\"#000000\" fill-rule=\"evenodd\" fill-opacity=\"1\" /><path clip-path=\"url(#clip580)\" d=\"M121.177 615.92 Q117.566 615.92 115.737 619.485 Q113.932 623.027 113.932 630.156 Q113.932 637.263 115.737 640.828 Q117.566 644.369 121.177 644.369 Q124.811 644.369 126.617 640.828 Q128.445 637.263 128.445 630.156 Q128.445 623.027 126.617 619.485 Q124.811 615.92 121.177 615.92 M121.177 612.217 Q126.987 612.217 130.043 616.823 Q133.121 621.406 133.121 630.156 Q133.121 638.883 130.043 643.49 Q126.987 648.073 121.177 648.073 Q115.367 648.073 112.288 643.49 Q109.233 638.883 109.233 630.156 Q109.233 621.406 112.288 616.823 Q115.367 612.217 121.177 612.217 Z\" fill=\"#000000\" fill-rule=\"evenodd\" fill-opacity=\"1\" /><path clip-path=\"url(#clip580)\" d=\"M91.0151 343.149 Q87.6817 343.149 85.7605 344.931 Q83.8623 346.714 83.8623 349.839 Q83.8623 352.964 85.7605 354.746 Q87.6817 356.528 91.0151 356.528 Q94.3484 356.528 96.2697 354.746 Q98.1909 352.941 98.1909 349.839 Q98.1909 346.714 96.2697 344.931 Q94.3715 343.149 91.0151 343.149 M86.3392 341.158 Q83.3299 340.417 81.6401 338.357 Q79.9735 336.297 79.9735 333.334 Q79.9735 329.191 82.9133 326.783 Q85.8762 324.376 91.0151 324.376 Q96.1771 324.376 99.1169 326.783 Q102.057 329.191 102.057 333.334 Q102.057 336.297 100.367 338.357 Q98.7002 340.417 95.7141 341.158 Q99.0937 341.945 100.969 344.237 Q102.867 346.529 102.867 349.839 Q102.867 354.862 99.7882 357.547 Q96.7326 360.232 91.0151 360.232 Q85.2975 360.232 82.2188 357.547 Q79.1633 354.862 79.1633 349.839 Q79.1633 346.529 81.0614 344.237 Q82.9595 341.945 86.3392 341.158 M84.6262 333.774 Q84.6262 336.459 86.2929 337.964 Q87.9827 339.468 91.0151 339.468 Q94.0243 339.468 95.7141 337.964 Q97.4271 336.459 97.4271 333.774 Q97.4271 331.089 95.7141 329.584 Q94.0243 328.08 91.0151 328.08 Q87.9827 328.08 86.2929 329.584 Q84.6262 331.089 84.6262 333.774 Z\" fill=\"#000000\" fill-rule=\"evenodd\" fill-opacity=\"1\" /><path clip-path=\"url(#clip580)\" d=\"M121.177 328.08 Q117.566 328.08 115.737 331.644 Q113.932 335.186 113.932 342.316 Q113.932 349.422 115.737 352.987 Q117.566 356.528 121.177 356.528 Q124.811 356.528 126.617 352.987 Q128.445 349.422 128.445 342.316 Q128.445 335.186 126.617 331.644 Q124.811 328.08 121.177 328.08 M121.177 324.376 Q126.987 324.376 130.043 328.982 Q133.121 333.566 133.121 342.316 Q133.121 351.042 130.043 355.649 Q126.987 360.232 121.177 360.232 Q115.367 360.232 112.288 355.649 Q109.233 351.042 109.233 342.316 Q109.233 333.566 112.288 328.982 Q115.367 324.376 121.177 324.376 Z\" fill=\"#000000\" fill-rule=\"evenodd\" fill-opacity=\"1\" /><path clip-path=\"url(#clip580)\" d=\"M51.6634 67.7849 L59.3023 67.7849 L59.3023 41.4193 L50.9921 43.086 L50.9921 38.8268 L59.256 37.1601 L63.9319 37.1601 L63.9319 67.7849 L71.5707 67.7849 L71.5707 71.7201 L51.6634 71.7201 L51.6634 67.7849 Z\" fill=\"#000000\" fill-rule=\"evenodd\" fill-opacity=\"1\" /><path clip-path=\"url(#clip580)\" d=\"M91.0151 40.2388 Q87.404 40.2388 85.5753 43.8036 Q83.7697 47.3452 83.7697 54.4748 Q83.7697 61.5813 85.5753 65.1461 Q87.404 68.6877 91.0151 68.6877 Q94.6493 68.6877 96.4548 65.1461 Q98.2835 61.5813 98.2835 54.4748 Q98.2835 47.3452 96.4548 43.8036 Q94.6493 40.2388 91.0151 40.2388 M91.0151 36.5351 Q96.8252 36.5351 99.8808 41.1416 Q102.959 45.7249 102.959 54.4748 Q102.959 63.2016 99.8808 67.8081 Q96.8252 72.3914 91.0151 72.3914 Q85.2049 72.3914 82.1262 67.8081 Q79.0707 63.2016 79.0707 54.4748 Q79.0707 45.7249 82.1262 41.1416 Q85.2049 36.5351 91.0151 36.5351 Z\" fill=\"#000000\" fill-rule=\"evenodd\" fill-opacity=\"1\" /><path clip-path=\"url(#clip580)\" d=\"M121.177 40.2388 Q117.566 40.2388 115.737 43.8036 Q113.932 47.3452 113.932 54.4748 Q113.932 61.5813 115.737 65.1461 Q117.566 68.6877 121.177 68.6877 Q124.811 68.6877 126.617 65.1461 Q128.445 61.5813 128.445 54.4748 Q128.445 47.3452 126.617 43.8036 Q124.811 40.2388 121.177 40.2388 M121.177 36.5351 Q126.987 36.5351 130.043 41.1416 Q133.121 45.7249 133.121 54.4748 Q133.121 63.2016 130.043 67.8081 Q126.987 72.3914 121.177 72.3914 Q115.367 72.3914 112.288 67.8081 Q109.233 63.2016 109.233 54.4748 Q109.233 45.7249 112.288 41.1416 Q115.367 36.5351 121.177 36.5351 Z\" fill=\"#000000\" fill-rule=\"evenodd\" fill-opacity=\"1\" /><g clip-path=\"url(#clip582)\">\n",
       "<image width=\"1944\" height=\"1439\" xlink:href=\"data:image/png;base64,\n",
       "iVBORw0KGgoAAAANSUhEUgAAB5gAAAWfCAYAAAB+xCq9AAAgAElEQVR4nOzbUXIbO5YE0AuSktz7\n",
       "X+3YEjEf6p6YmIjnzvbkMyHznAVkXADFKpJJrpnbHgAAAAAAAAD4Ny6PHgAAAAAAAACAr0HBDAAA\n",
       "AAAAAEBEwQwAAAAAAABARMEMAAAAAAAAQETBDAAAAAAAAEBEwQwAAAAAAABARMEMAAAAAAAAQETB\n",
       "DAAAAAAAAEBEwQwAAAAAAABARMEMAAAAAAAAQETBDAAAAAAAAEBEwQwAAAAAAABARMEMAAAAAAAA\n",
       "QETBDAAAAAAAAEBEwQwAAAAAAABARMEMAAAAAAAAQETBDAAAAAAAAEBEwQwAAAAAAABARMEMAAAA\n",
       "AAAAQETBDAAAAAAAAEBEwQwAAAAAAABARMEMAAAAAAAAQETBDAAAAAAAAEBEwQwAAAAAAABARMEM\n",
       "AAAAAAAAQETBDAAAAAAAAEBEwQwAAAAAAABARMEMAAAAAAAAQETBDAAAAAAAAEBEwQwAAAAAAABA\n",
       "RMEMAAAAAAAAQETBDAAAAAAAAEBEwQwAAAAAAABARMEMAAAAAAAAQETBDAAAAAAAAEBEwQwAAAAA\n",
       "AABARMEMAAAAAAAAQETBDAAAAAAAAEBEwQwAAAAAAABARMEMAAAAAAAAQETBDAAAAAAAAEBEwQwA\n",
       "AAAAAABARMEMAAAAAAAAQETBDAAAAAAAAEBEwQwAAAAAAABARMEMAAAAAAAAQETBDAAAAAAAAEBE\n",
       "wQwAAAAAAABARMEMAAAAAAAAQETBDAAAAAAAAEBEwQwAAAAAAABARMEMAAAAAAAAQETBDAAAAAAA\n",
       "AEBEwQwAAAAAAABARMEMAAAAAAAAQETBDAAAAAAAAEBEwQwAAAAAAABARMEMAAAAAAAAQETBDAAA\n",
       "AAAAAEBEwQwAAAAAAABARMEMAAAAAAAAQETBDAAAAAAAAEBEwQwAAAAAAABARMEMAAAAAAAAQETB\n",
       "DAAAAAAAAEBEwQwAAAAAAABARMEMAAAAAAAAQETBDAAAAAAAAEBEwQwAAAAAAABARMEMAAAAAAAA\n",
       "QETBDAAAAAAAAEBEwQwAAAAAAABARMEMAAAAAAAAQETBDAAAAAAAAEBEwQwAAAAAAABARMEMAAAA\n",
       "AAAAQETBDAAAAAAAAEBEwQwAAAAAAABARMEMAAAAAAAAQETBDAAAAAAAAEBEwQwAAAAAAABARMEM\n",
       "AAAAAAAAQETBDAAAAAAAAEBEwQwAAAAAAABARMEMAAAAAAAAQETBDAAAAAAAAEBEwQwAAAAAAABA\n",
       "RMEMAAAAAAAAQETBDAAAAAAAAEBEwQwAAAAAAABARMEMAAAAAAAAQETBDAAAAAAAAEBEwQwAAAAA\n",
       "AABARMEMAAAAAAAAQETBDAAAAAAAAEBEwQwAAAAAAABARMEMAAAAAAAAQETBDAAAAAAAAEBEwQwA\n",
       "AAAAAABARMEMAAAAAAAAQETBDAAAAAAAAEBEwQwAAAAAAABARMEMAAAAAAAAQETBDAAAAAAAAEBE\n",
       "wQwAAAAAAABARMEMAAAAAAAAQETBDAAAAAAAAEBEwQwAAAAAAABARMEMAAAAAAAAQETBDAAAAAAA\n",
       "AEBEwQwAAAAAAABARMEMAAAAAAAAQETBDAAAAAAAAEBEwQwAAAAAAABARMEMAAAAAAAAQOT26AEA\n",
       "AAAeZT16AOC32o8eAAAA4A/gH8wAAAAAAAAARBTMAAAAAAAAAEQUzAAAAAAAAABEFMwAAAAAAAAA\n",
       "RBTMAAAAAAAAAEQUzAAAAAAAAABEFMwAAAAAAAAARBTMAAAAAAAAAEQUzAAAAAAAAABEFMwAAAAA\n",
       "AAAARBTMAAAAAAAAAEQUzAAAAAAAAABEFMwAAAAAAAAARG6PHgAAAJ7VevQAX5adA35N/+6x64l/\n",
       "OjsGAABfn38wAwAAAAAAABBRMAMAAAAAAAAQUTADAAAAAAAAEFEwAwAAAAAAABBRMAMAAAAAAAAQ\n",
       "UTADAAAAAAAAEFEwAwAAAAAAABBRMAMAAAAAAAAQUTADAAAAAAAAEFEwAwAAAAAAABBRMAMAAAAA\n",
       "AAAQUTADAAAAAAAAEFEwAwAAAAAAABC5PXoAAAD4v9ajB/htnmelAH8m9/H/1Jr96BF+m+dZKQAA\n",
       "z8Y/mAEAAAAAAACIKJgBAAAAAAAAiCiYAQAAAAAAAIgomAEAAAAAAACIKJgBAAAAAAAAiCiYAQAA\n",
       "AAAAAIgomAEAAAAAAACIKJgBAAAAAAAAiCiYAQAAAAAAAIgomAEAAAAAAACIKJgBAAAAAAAAiCiY\n",
       "AQAAAAAAAIgomAEAAAAAAACIKJgBAAAAAAAAiNwePQAAALn16AF+m+dZKfw1rwO+qv3oATja89zb\n",
       "1pO8Fp5jlQAA/G/+wQwAAAAAAABARMEMAAAAAAAAQETBDAAAAAAAAEBEwQwAAAAAAABARMEMAAAA\n",
       "AAAAQETBDAAAAAAAAEBEwQwAAAAAAABARMEMAAAAAAAAQETBDAAAAAAAAEBEwQwAAAAAAABARMEM\n",
       "AAAAAAAAQETBDAAAAAAAAEBEwQwAAAAAAABA5PboAQAATrMePcBPnT0df5KDr7WDRwNmnupFuh89\n",
       "wF85drAn8xyvhXXw9XbuZAAAX5t/MAMAAAAAAAAQUTADAAAAAAAAEFEwAwAAAAAAABBRMAMAAAAA\n",
       "AAAQUTADAAAAAAAAEFEwAwAAAAAAABBRMAMAAAAAAAAQUTADAAAAAAAAEFEwAwAAAAAAABBRMAMA\n",
       "AAAAAAAQUTADAAAAAAAAEFEwAwAAAAAAABBRMAMAAAAAAAAQUTADAAAAAAAAELk9egAA4DmtRw/w\n",
       "U2dPx3/q4PM8eLSz2TjgEGs/eoK/cPB98tQtm5nDhzvYudfbOvhMz50MAODf8w9mAAAAAAAAACIK\n",
       "ZgAAAAAAAAAiCmYAAAAAAAAAIgpmAAAAAAAAACIKZgAAAAAAAAAiCmYAAAAAAAAAIgpmAAAAAAAA\n",
       "ACIKZgAAAAAAAAAiCmYAAAAAAAAAIgpmAAAAAAAAACIKZgAAAAAAAAAiCmYAAAAAAAAAIgpmAAAA\n",
       "AAAAACJr5rYfPQQAcL716AF+6uzpnkP5DJ7mSJ9mofNcaz2VM+BnfDXweM9yBs+yzikv9Yn27Vjn\n",
       "nsG5kwEAfyr/YAYAAAAAAAAgomAGAAAAAAAAIKJgBgAAAAAAACCiYAYAAAAAAAAgomAGAAAAAAAA\n",
       "IKJgBgAAAAAAACCiYAYAAAAAAAAgomAGAAAAAAAAIKJgBgAAAAAAACCiYAYAAAAAAAAgomAGAAAA\n",
       "AAAAIKJgBgAAAAAAACCiYAYAAAAAAAAgsmZu+9FDAACf1qMH+Kmzp3sexXM4+kiPHq7o5HWePFtT\n",
       "d53Psmt9z7JzPn7/iu6uPcsZnLzOk2drO3it1dEOXufTOPcMzp0MAPj/8A9mAAAAAAAAACIKZgAA\n",
       "AAAAAAAiCmYAAAAAAAAAIgpmAAAAAAAAACIKZgAAAAAAAAAiCmYAAAAAAAAAIgpmAAAAAAAAACIK\n",
       "ZgAAAAAAAAAiCmYAAAAAAAAAIgpmAAAAAAAAACIKZgAAAAAAAAAiCmYAAAAAAAAAIgpmAAAAAAAA\n",
       "ACIKZgAAAAAAAAAia+a2Hz0EAHxl6+A0flXxHI4+0pOHM9uvWAfPduy+rUPn+ls801r5zz3JVwP7\n",
       "5HWeO9s+eLaT981sv6A+1qHrfCq9M3CaAHAO/2AGAAAAAAAAIKJgBgAAAAAAACCiYAYAAAAAAAAg\n",
       "omAGAAAAAAAAIKJgBgAAAAAAACCiYAYAAAAAAAAgomAGAAAAAAAAIKJgBgAAAAAAACCiYAYAAAAA\n",
       "AAAgomAGAAAAAAAAIKJgBgAAAAAAACCiYAYAAAAAAAAgomAGAAAAAAAAILJmbvvRQwDA77YOTnse\n",
       "xX07+ghOHu5ZZjv5FV8+g+VMH20dPFvXs6zzZM/zUX4fvdbmbAevc5+7zpPTjj7TY2c7da75G0Y7\n",
       "eK3HOvsVDwDPxD+YAQAAAAAAAIgomAEAAAAAAACIKJgBAAAAAAAAiCiYAQAAAAAAAIgomAEAAAAA\n",
       "AACIKJgBAAAAAAAAiCiYAQAAAAAAAIgomAEAAAAAAACIKJgBAAAAAAAAiCiYAQAAAAAAAIgomAEA\n",
       "AAAAAACIKJgBAAAAAAAAiCiYAQAAAAAAAIgomAEAAAAAAACIrJnbfvQQAPyZ1qMH+KmzpztTec+q\n",
       "cSef53PMturrLOat5ziDdt7RZ1q9PnpR7cD+lXvya4HH63010P+SoZhYH64Z2DyD9kLPXGfdPnff\n",
       "zj7TplPnmqnPVo07ed9Odu6+nTsZAHzyD2YAAAAAAAAAIgpmAAAAAAAAACIKZgAAAAAAAAAiCmYA\n",
       "AAAAAAAAIgpmAAAAAAAAACIKZgAAAAAAAAAiCmYAAAAAAAAAIgpmAAAAAAAAACIKZgAAAAAAAAAi\n",
       "CmYAAAAAAAAAIgpmAAAAAAAAACIKZgAAAAAAAAAiCmYAAAAAAAAAImvmth89BABnWI8e4KfOnq6n\n",
       "vM6jt+3k4Zqzdde5Tp1ttc/z0HXOwWcwUz2H7jo/E//8rJlVfy00me3xTv74fe5sezdna6/zzNl2\n",
       "e50Hn0F3rQdfH9UzmDn3ejt3nX0Hz1Yd7eB1Vp27znMnA+Ar8w9mAAAAAAAAACIKZgAAAAAAAAAi\n",
       "CmYAAAAAAAAAIgpmAAAAAAAAACIKZgAAAAAAAAAiCmYAAAAAAAAAIgpmAAAAAAAAACIKZgAAAAAA\n",
       "AAAiCmYAAAAAAAAAIgpmAAAAAAAAACIKZgAAAAAAAAAiCmYAAAAAAAAAIgpmAAAAAAAAACJr5rYf\n",
       "PQQAv249eoCfOnu6nuI661t28hk0Z2uvs5e32rOtU/etu87V/B1kdc/aZ9r+vWfx2i3vW/d1de71\n",
       "0V1n27M8E0528sfv3mz9VRYTd3e6PfdqWi2pvM7uqTb3bGa7Ph6fV9y36nn+M/HMrL8jr6l5ffSi\n",
       "zt6ztnPXeu5kAPxO/sEMAAAAAAAAQETBDAAAAAAAAEBEwQwAAAAAAABARMEMAAAAAAAAQETBDAAA\n",
       "AAAAAEBEwQwAAAAAAABARMEMAAAAAAAAQETBDAAAAAAAAEBEwQwAAAAAAABARMEMAAAAAAAAQETB\n",
       "DAAAAAAAAEBEwQwAAAAAAABARMEMAAAAAAAAQETBDAAAAAAAAEDk9ugBAJ7NevQAP3X2dF3FtVa3\n",
       "7eQzaM/Wy1sHzzar/Xu+Q/etvM5V/R1k9/pY1bW29+3kMy1eu9XZytdHNa997Z47G79id9N2M688\n",
       "WzNvtfft3ssqrnNNb66Z8hmUZ5viGbSvj+q9srnOOfd1tcrrbGpfHV0HX7vN19Vuv/84+VSba+2u\n",
       "89zJAPid/IMZAAAAAAAAgIiCGQAAAAAAAICIghkAAAAAAACAiIIZAAAAAAAAgIiCGQAAAAAAAICI\n",
       "ghkAAAAAAACAiIIZAAAAAAAAgIiCGQAAAAAAAICIghkAAAAAAACAiIIZAAAAAAAAgIiCGQAAAAAA\n",
       "AICIghkAAAAAAACAiIIZAAAAAAAAgMjt0QMAfAXr0QP81NnT9ZTXWY1rhp18nt3ZVvN3bqu9b728\n",
       "6jpnpvn7wFXdt+461yqus30GB8928r6dOltzrn8mFpMOvrfV77tNzdl2Matr7/Jsq5e36/tWnG3f\n",
       "a1kzM3v18pqzNeeaKc823dlWMa892+zi/ah9363eQ5rXbi3qX4m1pFW+79avt2dQfFbNTPmCO/c9\n",
       "Q/97huLrqpb06eRTAPjT+AczAAAAAAAAABEFMwAAAAAAAAARBTMAAAAAAAAAEQUzAAAAAAAAABEF\n",
       "MwAAAAAAAAARBTMAAAAAAAAAEQUzAAAAAAAAABEFMwAAAAAAAAARBTMAAAAAAAAAEQUzAAAAAAAA\n",
       "ABEFMwAAAAAAAAARBTMAAAAAAAAAEQUzAAAAAAAAAJHbowcAeD7r0QP8RsW11retGXhqVjdvtWdb\n",
       "zbzub+ZWM2+dO9uqzlZe57r2ssqzXYr71lznTPv6OHe26hnUr92DX1cnPxOamqPtYlbZXt3hdnWx\n",
       "92LWzN69vL26s90PnW3vj1rWzNmz3avXW/f6mGmutT1b8Uybz5fdfb7s5r6V7x9r957z3Xv4Z+JT\n",
       "aD5Ly9fu2WfwJG+2APgp/2AGAAAAAAAAIKJgBgAAAAAAACCiYAYAAAAAAAAgomAGAAAAAAAAIKJg\n",
       "BgAAAAAAACCiYAYAAAAAAAAgomAGAAAAAAAAIKJgBgAAAAAAACCiYAYAAAAAAAAgomAGAAAAAAAA\n",
       "IKJgBgAAAAAAACCiYAYAAAAAAAAgomAGAAAAAAAAIKJgBgAAAAAAACBye/QAAH+XdXDaucrrrMa1\n",
       "z6CZ18taJ69zdX+Xtqq/cyu/4te1mFbet+I5NNe5prlnM5fmbNXzLM/2TPtWXGvzddCca6Z7b2uu\n",
       "c6b7jDn6edVUH2sXk3pZ7by977WsmZm9enn3+ahlzXTX2pxt7+4678W8vbqzreZs7X0rPhN2+dqd\n",
       "Zt5ufuYo33irt8rubM172yrfd5u6T6uDrfJKm6+ro0+h/e1d870WAD/jH8wAAAAAAAAARBTMAAAA\n",
       "AAAAAEQUzAAAAAAAAABEFMwAAAAAAAAARBTMAAAAAAAAAEQUzAAAAAAAAABEFMwAAAAAAAAARBTM\n",
       "AAAAAAAAAEQUzAAAAAAAAABEFMwAAAAAAAAARBTMAAAAAAAAAEQUzAAAAAAAAABEFMwAAAAAAAAA\n",
       "RG6PHgDgX9YXSDxTcZ31LWsGtofr5a2T17l6vyVb7d+lHTzbWtde1vSyZsqzFbMuxax23iq/5b2s\n",
       "Xl4z6zOveKb1fWvOdmZWO69+byvmdZ99/bxT7dlHZn3m3XtZq5c1M3OfjyOzZmbuqzjbLmat91rW\n",
       "THm23Z1tTS9vl/dt7d59917MmpnZxWfCLr6umlltzfvkzMwq3sZ3+zG6e2ttjtZ98h3u7AuknNfU\n",
       "/K6n+b4N4M/jH8wAAAAAAAAARBTMAAAAAAAAAEQUzAAAAAAAAABEFMwAAAAAAAAARBTMAAAAAAAA\n",
       "AEQUzAAAAAAAAABEFMwAAAAAAAAARBTMAAAAAAAAAEQUzAAAAAAAAABEFMwAAAAAAAAARBTMAAAA\n",
       "AAAAAEQUzAAAAAAAAABEFMwAAAAAAAAARBTMAAAAAAAAAERujx4A+NrWwWnnKq+zGtc+g2Ze+2o7\n",
       "dLbV/e3Xav6WrD7btZe1elntvOY6Z2Yuxdkuq/dWsJnVzrusl1rWzMy1OducO9u1/FHhUsxrznZp\n",
       "v0aLeZd97jPhcvR7hpPtWtK9mDUzs+dey7qvXtbMzH0+jsyamfmY91rWffWymnO18+7rRy1rZuZj\n",
       "F2fb3dlWcd+aWTMz9+J9t5l19GfS3b1/7ObHyO4joTrb7N4zoX11lLftXGdfIMWstt46V/19G8Dj\n",
       "+QczAAAAAAAAABEFMwAAAAAAAAARBTMAAAAAAAAAEQUzAAAAAAAAABEFMwAAAAAAAAARBTMAAAAA\n",
       "AAAAEQUzAAAAAAAAABEFMwAAAAAAAAARBTMAAAAAAAAAEQUzAAAAAAAAABEFMwAAAAAAAAARBTMA\n",
       "AAAAAAAAEQUzAAAAAAAAAJHbowcAeDrr+MBDtddZzFu932ut9m+/qrNda1kzM2v18ppZMzOX1XuL\n",
       "1Mxq5zWzruulljUzcynmXac723W91rJu7dmKefXZdvF6K36MuZbvbZfdu+9ey8+E5jPm0n4u715U\n",
       "c7LiWJ+Kw93L0+2517I+di9rZua+irPNRy3rM++9l7V6We/zo5Y1M/Oxennt2S7zvZb1UX5Ped+9\n",
       "tX4Uny8zM6uYt3bv2r3v7vOlezcqK97Gy9s269TZys+Xrvq7hqKTL5BeFAC/l38wAwAAAAAAABBR\n",
       "MAMAAAAAAAAQUTADAAAAAAAAEFEwAwAAAAAAABBRMAMAAAAAAAAQUTADAAAAAAAAEFEwAwAAAAAA\n",
       "ABBRMAMAAAAAAAAQUTADAAAAAAAAEFEwAwAAAAAAABBRMAMAAAAAAAAQUTADAAAAAAAAEFEwAwAA\n",
       "AAAAABC5PXoA4PdaXyDxTNb56LzVnm31fmO1mr/XKs41M7Pm2stavazPvN7bkEt5tst6KWZ1325d\n",
       "i7Nd12sxqzfXzMytOdv0smZmbsW8ZtbMzMvuncNtyme6e6/TW/FjzHV377vX4jPhUn72XVYvrz1b\n",
       "M675nmHPrmW13cuz3Xcvrz3bx773slYva2bmfd6LWR/FrB+1rJmZH6uXd53vtayZmffie62P9mzN\n",
       "9+LFrJn2WpvPhHM/e98Pnq39uNrN53JxtuZcMzOr+HzZJ18fB7+f6b/mT11rd52ruM5Tdww4n38w\n",
       "AwAAAAAAABBRMAMAAAAAAAAQUTADAAAAAAAAEFEwAwAAAAAAABBRMAMAAAAAAAAQUTADAAAAAAAA\n",
       "EFEwAwAAAAAAABBRMAMAAAAAAAAQUTADAAAAAAAAEFEwAwAAAAAAABBRMAMAAAAAAAAQUTADAAAA\n",
       "AAAAEFEwAwAAAAAAABBRMAMAAAAAAAAQuT16AODfW48e4Msq7lz1ENon2szrzraav2NaJ8/Wy1pz\n",
       "rWXNzKzVy1ur+7bhUsxrZs3MXNfLkVmfea/FrLda1q0418zMy/Rma2bNzNx2b62vu3t9vEwv77a7\n",
       "r6uX4v3tVrzv3srPl2txtmt5tuavi1f9uXxm1i5mtfP27k53L2Z9lGf72L3p3sun+l68j//YH7Ws\n",
       "9/L7jx/7Ry3re3m25lp/lL8mq74Xb39OKN4tm1kfR38D0p2ted+tK94qd/OrmfKDeRcD1+7+j2uf\n",
       "fYX09A+1GVbMOlf7rvscuwbM+AczAAAAAAAAACEFMwAAAAAAAAARBTMAAAAAAAAAEQUzAAAAAAAA\n",
       "ABEFMwAAAAAAAAARBTMAAAAAAAAAEQUzAAAAAAAAABEFMwAAAAAAAAARBTMAAAAAAAAAEQUzAAAA\n",
       "AAAAABEFMwAAAAAAAAARBTMAAAAAAAAAEQUzAAAAAAAAAJHbowcAfrf16AF+n+pST9633myrvc7V\n",
       "zGv/Jqq5b73Z1rrWstp5l/Jsl9V7G3JdL7Wsz7zXXtallzUzc1tvtayX+VbM6s3Vznvd3dled+96\n",
       "a2bNzLxM73X6Wn7Nv6zevfJWfL40s2Zmbpde3rX8WL4U11p/Kp/8Vqto717WvRf1mVcc7qO4zpmZ\n",
       "93vvintvHkI578fu3Xe/F7NmZn4Uvz66lb+K+l7Mq7/fLT6X27P9aN54dzHr/iQPhJmZ6d0/7sWs\n",
       "uuJ9ctfXWXxHs7pP5lV8XfWvjmZi+3uo4mwHv6y6+3b0QoGD+QczAAAAAAAAABEFMwAAAAAAAAAR\n",
       "BTMAAAAAAAAAEQUzAAAAAAAAABEFMwAAAAAAAAARBTMAAAAAAAAAEQUzAAAAAAAAABEFMwAAAAAA\n",
       "AAARBTMAAAAAAAAAEQUzAAAAAAAAABEFMwAAAAAAAAARBTMAAAAAAAAAEQUzAAAAAAAAABEFMwAA\n",
       "AAAAAACR26MHgD/R+gKJZ7LOx+edO9sq/yZqresfnzUzc1m9R/1lvdSyZmauxbzreq1lzczcLm+9\n",
       "rNXLmpl5mW9HZr3uXtbMzNvunelrMWtm5m161+5r+TX/unr3ytdL9777euk9E16KWbfyo+9W3Lb2\n",
       "bNdiXvEIZuZ53gXuYta9GTYzH7t3Cu/l2d7v5872o3gQ3++9G8hLMWtm5vvuPa9uxayZmWsx71p8\n",
       "js7MXKqfE8qfh5qf1VYxq/2AuXfjnkV328o33qbiaLu+zpPfHTVnO/j6sM5fTOut9eRdA/yDGQAA\n",
       "AAAAAICQghkAAAAAAACAiIIZAAAAAAAAgIiCGQAAAAAAAICIghkAAAAAAACAiIIZAAAAAAAAgIiC\n",
       "GQAAAAAAAICIghkAAAAAAACAiIIZAAAAAAAAgIiCGQAAAAAAAICIghkAAAAAAACAiIIZAAAAAAAA\n",
       "gIiCGQAAAAAAAIDI7dEDAPyPdXLgqVkzq5m3ur87Ws3fMZVna/7Gas31yKyZmcvqPeqbWTMz1/XS\n",
       "y7q81rJmZm7rrZb1Mt9qWTMzr/OPWtbb7s32tnt79pnXO9O38rX7tnqv07dL9zX/duk9E5pZMzOv\n",
       "xdv4S3HbmnPNzNyK23Yrz3Zdu5ZVfyrX3wee6d47grn3omZm5mP3DuG9PNx7cd++l2f78dHbt+/3\n",
       "XtZ/FbM+83qv+lt5tmvx2r3u7t3tUrxbXtqfI9ehN97yWPvSvPEWs2ZmTzOvPNs+c7buns1M8b3R\n",
       "qu7ZTPHWNmt3H367/wXemYrXR/vSBTiBfzADAAAAAAAAEFEwAwAAAAAAABBRMAMAAAAAAAAQUTAD\n",
       "AAAAAAAAEFEwAwAAAAAAABBRMAMAAAAAAAAQUTADAAAAAAAAEFEwAwAAAAAAABBRMAMAAAAAAAAQ\n",
       "UTADAAAAAAAAEFEwAwAAAAAAABBRMAMAAAAAAAAQUTADAAAAAAAAELk9egA4xTo47WzPtNaO1d6z\n",
       "1cxrn2fvd0yr/JuotYqzrWst61LM+szrPeqv66WW9Zn3Wsu6rbda1szMy3yrZb3OP2pZMzNvu5f3\n",
       "bff27W33znNm5lvx2m1mzcx8u/buH9+u3fvuW/FW+a17O5rXYl5zna+X3QubmZdi3u2/2bezJdmN\n",
       "LDug24EYMvOSrG6T/v8XJRXJm0NEAHrIkulF3eaitpgg71ofsO0AcPiAEzG6ta3FvPLQzSjW1iyt\n",
       "+wSSfe9V9ygX9yjWdi9mJclt6+V9FLOS5L04t308elnnR/c6z8X7dirXtj56i8LS/jJQfBfq58hm\n",
       "3oE/C+zNtbS8Lu/VVaZc29hqWVuxtpFeXUmSvVdb93l+JtZUvxt157b+fTuq9kR55PvWXPva8y7Q\n",
       "5B/MAAAAAAAAAEzRYAYAAAAAAABgigYzAAAAAAAAAFM0mAEAAAAAAACYosEMAAAAAAAAwBQNZgAA\n",
       "AAAAAACmaDADAAAAAAAAMEWDGQAAAAAAAIApGswAAAAAAAAATNFgBgAAAAAAAGCKBjMAAAAAAAAA\n",
       "UzSYAQAAAAAAAJiiwQwAAAAAAADAFA1mAPa6J24AACAASURBVAAAAAAAAKacvroA4C9uHDasnHfU\n",
       "rG7eKNc2RrG20f1N1BjrIbOW0V2am3nruNSyPvOutaxznmpZ7bzr3q3tae/dt6e990yfx7mWlSRP\n",
       "S++9el6788fT2pvbnnuXmSR5KuY1sz7z9lrWddlqWZdiXUlyKdZ2Ht3aTsXa1nJt1Z1WsbZ97+6N\n",
       "mnftUa7tvvXmylu5to9ibR+Pbm3vxdrell5t5/LfCc6PXtZaPCN85vUudnmU9+Jb8TzUnXbLivNu\n",
       "+UL3H6W29Nb4JNlHL695naN8nd2VuVxbcS3dD/wdqv+N7KDak/ih1wTgR+EfzAAAAAAAAABM0WAG\n",
       "AAAAAAAAYIoGMwAAAAAAAABTNJgBAAAAAAAAmKLBDAAAAAAAAMAUDWYAAAAAAAAApmgwAwAAAAAA\n",
       "ADBFgxkAAAAAAACAKRrMAAAAAAAAAEzRYAYAAAAAAABgigYzAAAAAAAAAFM0mAEAAAAAAACYosEM\n",
       "AAAAAAAAwJTTVxcA/NnGVxfwlzSa9220n0Gztvbvjpp53dpG1lrWMppZ3aV5HedDZiXJaVxqWedc\n",
       "a1lJctmfalnXvVvbde/dt+fiM31eeu9BkjyvvXf+5dSdd5+Ll/pc3o2/rHst63ndallJ8lTMa2Zd\n",
       "10ctK0kuS6+2ZlaSnIp56+jWNkZv7Dbf+F5V/8rbe9U99u7e6L718j6KWe2890d3vXp79Gq7Lr2s\n",
       "SzErSU5Lb+yu5ePQWjxfjfqZo6g77WYvTnB7cbbcyjPvXlyvttHdM+zp5TWzku5924uDd9+7L0Kz\n",
       "tvr/uIp7o+oLn1S/a43i3ijpzkfHduQdL/Cj8A9mAAAAAAAAAKZoMAMAAAAAAAAwRYMZAAAAAAAA\n",
       "gCkazAAAAAAAAABM0WAGAAAAAAAAYIoGMwAAAAAAAABTNJgBAAAAAAAAmKLBDAAAAAAAAMAUDWYA\n",
       "AAAAAAAApmgwAwAAAAAAADBFgxkAAAAAAACAKRrMAAAAAAAAAEzRYAYAAAAAAABgigYzAAAAAAAA\n",
       "AFNOX10A/FHjL5B4SPXLbAa2iztqbd3rHMXfCjWzkmSMYm1jrWUlyVLM62Z1l+ZlnGtZp3GpZSXJ\n",
       "OddDZiXJde9dazMrSZ6KY+Rp6Y3d57U7f7ycenPlt/KO96WY97JuvbAkL6de3sv6qGUlycupl/dU\n",
       "rO1pvdeykuRarO1cru1UHG+n0R27o5g3ilutfe9lfeb15sp7MStJ7o9e3u3RnXjfH7316q1c21ux\n",
       "tu/3XtapuMYnyVrc1zezkmSpHq/aZ9LetZano2xbL3EvTpZbuuvLNnrr8pbu3mg/cG1Lsba9WNte\n",
       "3n/s1fHWra27CenOIHs178jfAg9sFJ9Be4Gpan9DLa59tST46/IPZgAAAAAAAACmaDADAAAAAAAA\n",
       "MEWDGQAAAAAAAIApGswAAAAAAAAATNFgBgAAAAAAAGCKBjMAAAAAAAAAUzSYAQAAAAAAAJiiwQwA\n",
       "AAAAAADAFA1mAAAAAAAAAKZoMAMAAAAAAAAwRYMZAAAAAAAAgCkazAAAAAAAAABM0WAGAAAAAAAA\n",
       "YMrpqwsAZoyvLuAvqnjfRvMZlJ/ngWsbxd8xNbOSZIy1l1VcTpdxrmUlyZpe3ppLLStJzrnWsi57\n",
       "L+szr3et19Hdbj0V857X3nv1curOH9+Kt62Z9Zm3FbMetawk+amY93K617I+8261rOdibU/nXl1J\n",
       "ci1e52XtPoNTcXysS3fsLkvvvWrORnsxK0m2rTfvPrbeXiZJ7vde3sejO/G+33v7mbdbd6/1eu9d\n",
       "63np1Xa+d0fvWtw7L+3j0KH/O9G72L18ndveG7tbcbZ8FPfhn3m99WUb3bXvkd46vxazku61bnsv\n",
       "a4ze80ySUayt/T+uPcVrrX43SrIf9XtburXVd4JH1f7u/KPcN+DIu3AAAAAAAAAADkSDGQAAAAAA\n",
       "AIApGswAAAAAAAAATNFgBgAAAAAAAGCKBjMAAAAAAAAAUzSYAQAAAAAAAJiiwQwAAAAAAADAFA1m\n",
       "AAAAAAAAAKZoMAMAAAAAAAAwRYMZAAAAAAAAgCkazAAAAAAAAABM0WAGAAAAAAAAYIoGMwAAAAAA\n",
       "AABTTl9dAMD/Ng6c1jPq19nLG6P8u6Ni3lKubRlrMau3nK7FrM+8Sy3rlF5Wkpz2Xt5lP9eykuSa\n",
       "Xt61ONaS5GntvQtPa2/+eO5eZl6Kr8K309YLS/Lz6VHL+ul8r2UlyU+nXt6380ctK0m+XXp5z8Xa\n",
       "nop1Jcm1WNv5fKtlJcmpON7WtfceJMmyFN/Tsfey9u6+bdt6c/jj0Z1477fexHu7ddfl91tvz/D2\n",
       "0d3PXIu1nT9678Gp+R4kWYp5R/6nw16ubis+hkd5Pnrsx5yPHuV9/WPvrVf39nlo9Nb5x+juKbf0\n",
       "8rbiGXdPd/+xF78zPMrzx2jm7d3zUPOLW3e16n4L3MtpAH83R97XAwAAAAAAAHAgGswAAAAAAAAA\n",
       "TNFgBgAAAAAAAGCKBjMAAAAAAAAAUzSYAQAAAAAAAJiiwQwAAAAAAADAFA1mAAAAAAAAAKZoMAMA\n",
       "AAAAAAAwRYMZAAAAAAAAgCkazAAAAAAAAABM0WAGAAAAAAAAYIoGMwAAAAAAAABTNJgBAAAAAAAA\n",
       "mKLBDAAAAAAAAMCU01cXwI9lHDjt0KqX2r5vR34OzdqOmpV0fyvU/d3RKOaNsdaykmSkl7eM3nK6\n",
       "5FzLSpJTMe+USy0rSS57r7ZmVpJciuPtunTH7tPam0Oei6U9l3eVL+tWy/p2etSykuSn872W9fP5\n",
       "Vsv6zPuoZX27vtWykuTb5b2W9fzUq+3p2qsrSS7X3jM4F7OS5FQcb0v5vVqK73zG3svau/u27dHb\n",
       "G2337vpyv/XW0tt7d89wLeZd3q+1rCQ5vz3Vstal916tzfcgySjnNRVnj2zly3zsvXf+Ua+tN7/d\n",
       "9958dN+7F3ovnhPu6e0Bk+Q+enPbI9095aN4jlxG775te/cZNL8zjL27N9oP/K2nO/Me+Ttlcz46\n",
       "8PfT9hp/3C1Dms9hlC/00LcN/gP+wQwAAAAAAADAFA1mAAAAAAAAAKZoMAMAAAAAAAAwRYMZAAAA\n",
       "AAAAgCkazAAAAAAAAABM0WAGAAAAAAAAYIoGMwAAAAAAAABTNJgBAAAAAAAAmKLBDAAAAAAAAMAU\n",
       "DWYAAAAAAAAApmgwAwAAAAAAADBFgxkAAAAAAACAKRrMAAAAAAAAAEw5fXUBAP/LyCgHNvOKWdW6\n",
       "kmZt7WcwRu93TKP8m6hlrIfMWkd3aV5zrmWd915WkpybtaX3DJLkUhy716X7Xl2Lr8JT8ba9rHsv\n",
       "LMnLaatl/XR61LI+8+61rJ/PH7WsJPn5+lbL+vb0WstKkm/PvbznYtb1uXfPkuT8/F7LOj11x8d6\n",
       "7eUt5957kCRj7b3zGcX5aO/O4fujN4lvt+6e4fF+qWXd33pZSXJ5vdayzq+3WlaSnNbeGrMsvffg\n",
       "yP8m2Mvv1VbMe5Rra+bdt25tt+K0eyvud29bd/Te9t6Gt3l+Sbrnq/vo1tY8lz6KZ7Xm2TtJtr34\n",
       "zaJ4hkySUZw/9iN/byvPu83aus+ge14GOIIjnzkAAAAAAAAAOBANZgAAAAAAAACmaDADAAAAAAAA\n",
       "MEWDGQAAAAAAAIApGswAAAAAAAAATNFgBgAAAAAAAGCKBjMAAAAAAAAAUzSYAQAAAAAAAJiiwQwA\n",
       "AAAAAADAFA1mAAAAAAAAAKZoMAMAAAAAAAAwRYMZAAAAAAAAgCkazAAAAAAAAABMOX11AfD3NL66\n",
       "gD/Rj3Gto3idzawkGaOYN7q/OxrF3zGNsday2nlLcTldy0vzKedDZiXJae9d66U8Pi5Lb+xel+47\n",
       "/1S81GbW87r1wpK8rI9e1uley0qSb+ePXtb1rZaVJN+eXmtZP718r2Ulycu3Xt5TMevyrXfPkuT0\n",
       "rfdM1+f3WlaSLE+9sTvO3fdqnPZiWDFr787h+72Xt9+6e4bt7VLLOr1ea1lJcvr9qZa1lsfuUlz/\n",
       "RnPsljVX+Uf5vboX825bubZi3sfW3e/eig+1ed8+ivvwJLntvfv2UTy/JMlpHPesdi+eS5vn5SN/\n",
       "Fxh7+X9cxe8z7e9Q3f1Rea9VTWtqfz897pV2r/XI1wn4BzMAAAAAAAAAUzSYAQAAAAAAAJiiwQwA\n",
       "AAAAAADAFA1mAAAAAAAAAKZoMAMAAAAAAAAwRYMZAAAAAAAAgCkazAAAAAAAAABM0WAGAAAAAAAA\n",
       "YIoGMwAAAAAAAABTNJgBAAAAAAAAmKLBDAAAAAAAAMAUDWYAAAAAAAAApmgwAwAAAAAAADBFgxkA\n",
       "AAAAAACAKaevLgD4s42vLuA/0a6tmXfUrG7eKNc2Ru93TKP8m6glay9rFLPKS/O69/JOe+86k+Rc\n",
       "fAbn4lhLksvSexcu5Z/zXYqP4Wndi1lbLStJXk6PYtatlpUk3y4fxaz3WlaSfHt+rWW9fPtey0qS\n",
       "559/r2Vdilnnn7vXuf7UewbLS3fsjufeOz+ak1GSnIp5o7if2Xv3LEly782V+0d3/lhee3Pb8r1c\n",
       "26X3Lozi+pIkYymPkZJ97+7rt623oXls3fnjVqytmZUkH8W893Jt71txv1t8rZr78KT7DM7l81Dz\n",
       "fLWWz5HL6OVVz8vlZ9D8ztD8/pEkoziP7wf+DnXkb2TdrPZ+4ci1AT8K/2AGAAAAAAAAYIoGMwAA\n",
       "AAAAAABTNJgBAAAAAAAAmKLBDAAAAAAAAMAUDWYAAAAAAAAApmgwAwAAAAAAADBFgxkAAAAAAACA\n",
       "KRrMAAAAAAAAAEzRYAYAAAAAAABgigYzAAAAAAAAAFM0mAEAAAAAAACYosEMAAAAAAAAwBQNZgAA\n",
       "AAAAAACmnL66AH4046sL+HPUL/MHuW91zft21KxkFH8rNEb3d0fN2pZ2bcW8JWstay0vzc28U7m2\n",
       "U/EZnEb3vTovvbxzb3gkSa7FV+G6bLWsp7WX9Zn3qGU9n+61rCR5Pn/0sp7eallJ8vz8Wst6+va9\n",
       "lpUkl59/72X9o5e1/tLLSpLl597YHT+da1lJkuenWtR+vdaykiSn4rU29wx7d27L/VaLGu/vtawk\n",
       "Ga+9+Whce/NkkoxT8b1a9lpW27719h/bo7t3vj96G5rbo7unfL/38t7LtT2tvfv29ujOR9elWFtx\n",
       "v3suvgdJ95zQPL8k3fPVkc+RzfNy+5tF8zvDth/3m8Uo17Yf+BuZb6h/RPmejeJe67jbtvTH2qEv\n",
       "Fv6P/IMZAAAAAAAAgCkazAAAAAAAAABM0WAGAAAAAAAAYIoGMwAAAAAAAABTNJgBAAAAAAAAmKLB\n",
       "DAAAAAAAAMAUDWYAAAAAAAAApmgwAwAAAAAAADBFgxkAAAAAAACAKRrMAAAAAAAAAEzRYAYAAAAA\n",
       "AABgigYzAAAAAAAAAFM0mAEAAAAAAACYosEMAAAAAAAAwJTTVxfA8Y2vLoCDK46QceDRVi2tfJ3V\n",
       "+9atbYze75hG+TdRS9a/fVaSrMW8de8+g1Nx7DazPvN6WZfyz/kuy97LWntZ1/VRy0qSp/Xeyzrf\n",
       "allJ8nT56GVd32tZSXJ9fqtlXb691rKS5Pzz91rW+svvtazl37ZaVpKMX15qWftPP9WykmR/+dbL\n",
       "uj7XspJkP196YcX9R/by+Lj15o/x3n1Hx/feezXOv9WykmRZm9fau84kOW+9TcN+7+3bHrfu557b\n",
       "7VzL+rgV3/ckT/debU/37n27rr1neilmJcnlUdxTLs19fS3qX3nF2srn5eb5ah3d8XHUM277vNz8\n",
       "ztD8/pEk2Q/8va1aWy8qSdKb2rr3rXnPPgPLeXy15ggxOviz+AczAAAAAAAAAFM0mAEAAAAAAACY\n",
       "osEMAAAAAAAAwBQNZgAAAAAAAACmaDADAAAAAAAAMEWDGQAAAAAAAIApGswAAAAAAAAATNFgBgAA\n",
       "AAAAAGCKBjMAAAAAAAAAUzSYAQAAAAAAAJiiwQwAAAAAAADAFA1mAAAAAAAAAKZoMAMAAAAAAAAw\n",
       "5fTVBQB/beOrC/hPjGp1vawx2netWFv9iTbvW/c3UaP4G6sl6yGzkmTZe9e5ln+Xthaf6Wnpjt1T\n",
       "8VJP5dfqvOy1rMuyHTIrSa7ro5d1utWykuR6/qhlXa69rCQ5P7/Xsk7f3mpZSbL+9FrLWn7ujY/x\n",
       "y0stK0n2f/yjlrX93MtKku3ll1rWfv2plpUk+/nayxq9tXTsvbGWJOPWe0fH+2+1rCRZLr1nsKzd\n",
       "/UxzKV0e34tpyXrvzW2nj3Mt6/x+qWUlyeW9Nz6u792173rqXet1Ld+3A++1zktxL1484zb34Z95\n",
       "vdrWrXweKp7Vmue+JFmKa2nzjNs8xyfl7wx79+B31G9aSfe71n7g+9Y7efe/nzZrA/ij/IMZAAAA\n",
       "AAAAgCkazAAAAAAAAABM0WAGAAAAAAAAYIoGMwAAAAAAAABTNJgBAAAAAAAAmKLBDAAAAAAAAMAU\n",
       "DWYAAAAAAAAApmgwAwAAAAAAADBFgxkAAAAAAACAKRrMAAAAAAAAAEzRYAYAAAAAAABgigYzAAAA\n",
       "AAAAAFM0mAEAAAAAAACYcvrqAuA4xlcXwIEdeXR0a2unNfO6v4kao5c3irUte/c612Zt5fGxjl7e\n",
       "Wn5JT8W8U/nnfKex17LOxazLstWykuS83mtZl2JWkpzPt17W9aOWlSSnp17e+vxey0qS5aV338ZP\n",
       "51rW/tNPtawk2X7+RzHrv9SykuTx8u+1rO3pl1pWkuT0XIvax1rLGvujlpUkub/Wopa3f9aykiRr\n",
       "771qWx695zBuvbkoSZb3Xt762pt3m+tB0l2vmuto0l3nm/uPpLs/au7bku6esrnfbe7Dk+45oXl+\n",
       "Sbrnq+a5L+meS6tn72JWkqR5nfUvR728dmXN2ejItXEERggcmX8wAwAAAAAAADBFgxkAAAAAAACA\n",
       "KRrMAAAAAAAAAEzRYAYAAAAAAABgigYzAAAAAAAAAFM0mAEAAAAAAACYosEMAAAAAAAAwBQNZgAA\n",
       "AAAAAACmaDADAAAAAAAAMEWDGQAAAAAAAIApGswAAAAAAAAATNFgBgAAAAAAAGCKBjMAAAAAAAAA\n",
       "UzSYAQAAAAAAAJhy+uoCgD/b+OoC/hM/Sm3t6+zljXHg2sr3rZk3ir/Xama185by+Gheabu2tRi3\n",
       "jr0XVs47Ldshs5LktBZrOz1qWUlyOt+LWbdaVpKs149a1vLUy0qS8Vx8F56falH7y7daVpJsL7/U\n",
       "sh4v/17LSpLt23+tZe2Xf6tlJck4vfSyxlrLyt6dP/b791rWtl5qWXWP7tw2Pt57WW+vtawkGc+/\n",
       "1rKa825zPUi661VzHU2663xz/5Ece6/V3FN2s8pnjmJe+186zdqOfI7sZh33u0D7W0/1+8x+3G89\n",
       "P863wLZmbd1vFsCPwz+YAQAAAAAAAJiiwQwAAAAAAADAFA1mAAAAAAAAAKZoMAMAAAAAAAAwRYMZ\n",
       "AAAAAAAAgCkazAAAAAAAAABM0WAGAAAAAAAAYIoGMwAAAAAAAABTNJgBAAAAAAAAmKLBDAAAAAAA\n",
       "AMAUDWYAAAAAAAAApmgwAwAAAAAAADBFgxkAAAAAAACAKaevLgDg/5/x1QX8BXXv2Ri9vNGurZjX\n",
       "zFrK19nMa9fWHB/tX8wtxUtt17YWa1vHXszaallJcirmrcujlpUk69rLW07d2pbzvZY1illJMi5r\n",
       "LWu/XotZz7Wsz7yfalnb0y+1rCTZL/9Wy1ou/17LSpLl9FLLGqM41vbuO7otvbHbnXWT7fFRy1o+\n",
       "vteykmS//lbM6j2DJBmX3rU2593mepB016vmOpp01/nm/iPp7o+a+7bPvF5Wc7/b3Icn3dqa55fk\n",
       "2Ge1Zt5Rz97tvPb4yO6b1h/jvgH8WfyDGQAAAAAAAIApGswAAAAAAAAATNFgBgAAAAAAAGCKBjMA\n",
       "AAAAAAAAUzSYAQAAAAAAAJiiwQwAAAAAAADAFA1mAAAAAAAAAKZoMAMAAAAAAAAwRYMZAAAAAAAA\n",
       "gCkazAAAAAAAAABM0WAGAAAAAAAAYIoGMwAAAAAAAABTNJgBAAAAAAAAmKLBDAAAAAAAAMCU01cX\n",
       "APzVja8u4C+ofc88gz+md99G9RmUn+dezCqXVr1rB65tadc2eg+1+wyagy0ZY6tlLUsvq523rN3a\n",
       "RjFvnLrPNKe1mHWuRe3nSy3rM+/aCzs997KSjNNLLWspZiXJuvaudRSPuXvutay2fXvvBhbHW/U9\n",
       "SPk9Lc4fn3m93+2P06OXVV5fmuvVkdfl5v7jM++Y+7akW1tzv9u/zmJWL6qvvG1r3rhDn5d/GL5D\n",
       "fb32PWu/9AD/9/yDGQAAAAAAAIApGswAAAAAAAAATNFgBgAAAAAAAGCKBjMAAAAAAAAAUzSYAQAA\n",
       "AAAAAJiiwQwAAAAAAADAFA1mAAAAAAAAAKZoMAMAAAAAAAAwRYMZAAAAAAAAgCkazAAAAAAAAABM\n",
       "0WAGAAAAAAAAYIoGMwAAAAAAAABTNJgBAAAAAAAAmHL66gIA+Dsbh4z6kTRv2yg/BI/0j6k+07H3\n",
       "smpJ/8o78vRRvG/VrHZevbbmQy3+TraZlWQf6yGzkmQU85pZSTKKR9NqbfXXoFhb+Rkceewe+Z3v\n",
       "zm1HnsOPW1t3b1QMy3H3bYm9+B9R3+8WEz3PP6h543ZPAYAfi38wAwAAAAAAADBFgxkAAAAAAACA\n",
       "KRrMAAAAAAAAAEzRYAYAAAAAAABgigYzAAAAAAAAAFM0mAEAAAAAAACYosEMAAAAAAAAwBQNZgAA\n",
       "AAAAAACmaDADAAAAAAAAMEWDGQAAAAAAAIApGswAAAAAAAAATNFgBgAAAAAAAGCKBjMAAAAAAAAA\n",
       "U05fXQAAf2f7IaOSJKOcd1DN27aXH0L7kf4oqs90770I7ee5H3j6SPG+VbPaefXamg91O2ZWkrE/\n",
       "DpmVJCnm7eXa9tybYcWoYl0p37fyMzj22D3uO9+d2448hx+3tu7eqBiW4+7bEnvxP6K+3y0mep5/\n",
       "UPXGeQoA/Fj8gxkAAAAAAACAKRrMAAAAAAAAAEzRYAYAAAAAAABgigYzAAAAAAAAAFM0mAEAAAAA\n",
       "AACYosEMAAAAAAAAwBQNZgAAAAAAAACmaDADAAAAAAAAMEWDGQAAAAAAAIApGswAAAAAAAAATNFg\n",
       "BgAAAAAAAGCKBjMAAAAAAAAAUzSYAQAAAAAAAJiiwQwAAAAAAADAlNNXFwD81e1fXcBfUPueeQZ/\n",
       "TO++7dVnUH6eoxvXVL1r5dvWjNvate29h9p9Bt3Btu+930FuW/c3lc287dGtbS/m7ffyBHLfilm3\n",
       "WtS4fdSyPvPee2H3115Wkv3+vZa1LddaVtsYay1r3x+1rCTZis+g+TyTZBTHW/U9SPk9Lc4fn3m9\n",
       "ua057zbXg6S7Xh15XW7uPz7zjrlvS7q1Nfe7/essZvWi+urnvh/kvPzD8B3q67lnwN+PfzADAAAA\n",
       "AAAAMEWDGQAAAAAAAIApGswAAAAAAAAATNFgBgAAAAAAAGCKBjMAAAAAAAAAUzSYAQAAAAAAAJii\n",
       "wQwAAAAAAADAFA1mAAAAAAAAAKZoMAMAAAAAAAAwRYMZAAAAAAAAgCkazAAAAAAAAABM0WAGAAAA\n",
       "AAAAYIoGMwAAAAAAAABTTl9dAMD/P/tXF/AX1L1n+97L20e5tuK1NrO28jNo5rVra46PrZb0r7zi\n",
       "pbZrexRre+yjmNX93eK9mPfY1lpWkjwevbzt3q1tu/W293sxK0n2j/da1nhvZr3Wsj7zfqtlLW//\n",
       "rGUlybZeelm1pE/71numGcX3an/0spLs9++1rPHx32tZSXe8Nd+Dz7zee9qcP5Jk/+iNkf12rWU1\n",
       "14Oku14119Gku8439x9Jd3/U3Ld95vWymmtCcx+edGtrnl+SY5/VmnlHPXu389rjwzetP8p9A/iz\n",
       "+AczAAAAAAAAAFM0mAEAAAAAAACYosEMAAAAAAAAwBQNZgAAAAAAAACmaDADAAAAAAAAMEWDGQAA\n",
       "AAAAAIApGswAAAAAAAAATNFgBgAAAAAAAGCKBjMAAAAAAAAAUzSYAQAAAAAAAJiiwQwAAAAAAADA\n",
       "FA1mAAAAAAAAAKZoMAMAAAAAAAAwRYMZAAAAAAAAgCmnry4A+LPt5bxRzGrX1tSsrX2dvbx9L9c2\n",
       "irWV71szb892yKx23lYeH80rbdf22HtzWzOrnXffer81bGYlyf1RrO2+1rKS5H7rbaHvt3MtK0ke\n",
       "75da1vbWy0qS5fWjljVe33pZ33+vZSXJcrn2wtbu+GjaHr3nmSQ5Pdei9tF758f+qGUlybi/1rKW\n",
       "t3/WspJk/f7falnL925t1fe0OH8kyf7aW5eb825zPUi661VzHU2663xz/5Ece6911P3uo3wkbZ4T\n",
       "uie1bm37OO45spt13O8C7W893e8zx/0O9eN8C2w7cm3Aj8I/mAEAAAAAAACYosEMAAAAAAAAwBQN\n",
       "ZgAAAAAAAACmaDADAAAAAAAAMEWDGQAAAAAAAIApGswAAAAAAAAATNFgBgAAAAAAAGCKBjMAAAAA\n",
       "AAAAUzSYAQAAAAAAAJiiwQwAAAAAAADAFA1mAAAAAAAAAKZoMAMAAAAAAAAwRYMZAAAAAAAAgCmn\n",
       "ry4AjmMvZo1iFkdw5NHRrK2f1szbilnJvvfy9tHL2opZSfIoXudWHh+PvZf36JaWezHv3n2kue+9\n",
       "WeRWzPrYur9bvD1629SPYlaS3G7nXtb7pZaVJPe3Xt7p9VrLSpLl+3sta1w/elnn32pZSbKsazWv\n",
       "6nGrRS0f32tZSbKfe+NtH71nMPZHLStJxq34HryXx+73f/ayfv0ftawkGb/1rnX/rfceJMn2vTfv\n",
       "PorzbnM9SLrrVXMdTbrrfHP/kXT3R819W9LdUzb3u819eNI9JzTPL0n3fPUon5eb59K9WFvzHP+p\n",
       "eZ3lwVvMa1fWdOTaOAIjBI7MP5gBAAAAAAAAmKLBDAAAAAAAAMAUDWYAAAAAAAAApmgwAwAAAAAA\n",
       "ADBFgxkAAAAAAACAKRrMAAAAAAAA1hUuYQAAIABJREFUAEzRYAYAAAAAAABgigYzAAAAAAAAAFM0\n",
       "mAEAAAAAAACYosEMAAAAAAAAwBQNZgAAAAAAAACmaDADAAAAAAAAMEWDGQAAAAAAAIApp68uAPhr\n",
       "24tZo5iVJHuxulHM2vfmXUvGKNZWfaKfibWkfatlJck+enlbHofMSpKteJ2P8jNo5t237m/m7ltv\n",
       "RrqXX6tbsbaP4n1rZiXJ+2PtZd3Ptawkeb9dalnX915Wklxer7Ws0+9PtawkWS63WtY49ebKZX2t\n",
       "ZSXd/czy6K4J4+O9lrVff6tlJcl+Lr4Lozgflde+cfvoZb2Xx+7333tZv5XHxz9717r92ltfkuTx\n",
       "23Mt616cd2/F9SBJPorrVXMdTbrrfHP/kRx7r9XcUzb3u/futJv71iuufh5K8UxaPPclxz3j7sV7\n",
       "lrS/M3QPft3vM+Xaqt+1jnzfeo5ZFcD/G/9gBgAAAAAAAGCKBjMAAAAAAAAAUzSYAQAAAAAAAJii\n",
       "wQwAAAAAAADAFA1mAAAAAAAAAKZoMAMAAAAAAAAwRYMZAAAAAAAAgCkazAAAAAAAAABM0WAGAAAA\n",
       "AAAAYIoGMwAAAAAAAABTNJgBAAAAAAAAmKLBDAAAAAAAAMAUDWYAAAAAAAAApmgwAwAAAAAAADDl\n",
       "9NUFcHx7MWsUsziK4gjZm6Mt3QFXfRHK19m8b+Xa9n3rZY1eVpJsefzts5LkUcx7lJ/Bvfhi3cvz\n",
       "x70Y99G9bfnYepPbx6OX9f5Ya1lJ8vbobVPfbudaVpK8fVxqWZf3ay0rSc6vt1rWer7XspJknHrz\n",
       "0Via7/zvxaxkeXyvZY1b73kmyXh7rWXt1+7Yzan4no7i76iLe5kkyb33TMf7ey0rSfL6Vovaf+uO\n",
       "3e3X3hrz+Oe3WlaS3H59qWV9/P5cy3p/faplJclbcb1qrqNJd51v7j+S7v6ouW9LynvK4lTZ3Id/\n",
       "5hXPHNUPA93zVfPclxz3jNs+L+8pfrNo7xmO/L2tWlsvqq563458oRyBEcJfkX8wAwAAAAAAADBF\n",
       "gxkAAAAAAACAKRrMAAAAAAAAAEzRYAYAAAAAAABgigYzAAAAAAAAAFM0mAEAAAAAAACYosEMAAAA\n",
       "AAAAwBQNZgAAAAAAAACmaDADAAAAAAAAMEWDGQAAAAAAAIApGswAAAAAAAAATNFgBgAAAAAAAGCK\n",
       "BjMAAAAAAAAAU05fXQA/mr2YNYpZZc3LTJLxg9y3uuZ9O2pWsmfrZe29rCTZRy9va9dWzNvGo5b1\n",
       "yL2W1c67l2u77+diVve9um29vNujO+++r8Wsrfdbw7dH93eLb4/ehb7eu1ve6+1Syzq/PdWykuS0\n",
       "9uajZe3Ou2Npb5A6zlv3HV3vr7Ws5f1Wy0qS8fxrL+vyvZaVJDkV55BRfKbl9SX34r7to/e+J8n+\n",
       "2rtv2/fePJkkj9+ea1m3X19qWUny8eu3Wtbb773aXl979yxJXovr1WtxHU2663xz//GZ15vbmvu2\n",
       "z7xe1q04HTX34Un3nHAvn0nvo3e+OvI5cktvgLS/WTS/MzS/zSTda23XduRvZP28H0H5nv0wj+CH\n",
       "uVD4D/kHMwAAAAAAAABTNJgBAAAAAAAAmKLBDAAAAAAAAMAUDWYAAAAAAAAApmgwAwAAAAAAADBF\n",
       "gxkAAAAAAACAKRrMAAAAAAAAAEzRYAYAAAAAAABgigYzAAAAAAAAAFM0mAEAAAAAAACYosEMAAAA\n",
       "AAAAwBQNZgAAAAAAAACmaDADAAAAAAAAMEWDGQAAAAAAAIApp68uAPiz7eW8Ucxq19bMO2pWN28v\n",
       "17bvWy9r9LKSZMujl7UXs8a9lpUkj2LevXjPkuRWvG+3fa1lJcnH1vsN3sfWnCeTj+JjeFt6tV2X\n",
       "7u8Wv997z/S8nGtZSXL+6M1H69J9r5alV9sY7fWqZy++V3txrCXJ6aM33tbX91pWkixPH7Wsce6u\n",
       "V+NUfBeaY3fvzuH7vTh2b9daVpJsb5da1uO1W9v996da1sfvz7WsJHn7/aWW9b2Y9ftr9zp//+g9\n",
       "098/emMtSb7fe/Nuc/+RJG+P3v7o7XHcPWVxa5SPrbv/uBXPpLfyeeg+ennNc1+SbOnlVc/L5Wew\n",
       "p/jNojjWkvb3meN+h/qxams6cm3Aj8I/mAEAAAAAAACYosEMAAAAAAAAwBQNZgAAAAAAAACmaDAD\n",
       "AAAAAAAAMEWDGQAAAAAAAIApGswAAAAAAAAATNFgBgAAAAAAAGCKBjMAAAAAAAAAUzSYAQAAAAAA\n",
       "AJiiwQwAAAAAAADAFA1mAAAAAAAAAKZoMAMAAAAAAAAwRYMZAAAAAAAAgCmnry4A/p72ct4o5zU1\n",
       "r/W417lXr7M8PvZe3shWy0qSffTy9v1Ry2rnbeNey3qkl5Uk99wOmZUk93GuZX3say0rSc5b7zd4\n",
       "71t3bjs/ennn4k8NL0v3d4unpfdMz/fuvHsavby1mJUc+9ej+94bu9ujd6WPW/dIdH6/1LJOTx+1\n",
       "rCT/k317y3LcSLIFak4yItXzH2orI/gA4P0Rqr73p1JW2UeiK7n3AM4yxxs4ZJ2/5fJOb9n71TgH\n",
       "n0GS51XwuK2qmsFj9wgfu3vw2N2uuayqqsfnt1jW7fO3WFZV1efnf8Wyviezrrmsqqrvt9x2+/7I\n",
       "Hh8fW+5c+Nizz5SfwXP+mn0diubdjtx1935k30nvwfe+LfjeV7X2u1ryvfQIZq38XWCGv6fUTH5P\n",
       "yb5zJL+RZb+3rexV1ln1WmuF17byNygAAAAAAAAAFqJgBgAAAAAAAKBFwQwAAAAAAABAi4IZAAAA\n",
       "AAAAgBYFMwAAAAAAAAAtCmYAAAAAAAAAWhTMAAAAAAAAALQomAEAAAAAAABoUTADAAAAAAAA0KJg\n",
       "BgAAAAAAAKBFwQwAAAAAAABAi4IZAAAAAAAAgBYFMwAAAAAAAAAtl2cPAPAvs2Y0b8xg3ghmJeeq\n",
       "is6W3gdzHrmskcuqqjrmvmTWXlssq6pqH49Y1iOYVVX1mMHZwo8093mOZd2O7O/53o6Ry8odunU5\n",
       "5eaqqjqP3HY7j9z+rKo6Ba+7I3l/CctedauO4Lmw7bl9+ni8xbKqqt5v32JZb9/usayqqstb7rp7\n",
       "ugQvIFV1OgePuOhzW/baduy58+DYste2LXguPG7vsayqqnsw7xo8R6uqPq+/xbK+33Ozfb/l5qqq\n",
       "+u9Hbh/8vmWf234PngsfW/a57WPPXUOu2ctu3YKX3duRu+7eg++QVVWPym24R4Xfh4LvV3t4tn3m\n",
       "3ktXffeuqprBJ97k94+q9PeZ8DtH9LvWurOlv5EB/Gr8gxkAAAAAAACAFgUzAAAAAAAAAC0KZgAA\n",
       "AAAAAABaFMwAAAAAAAAAtCiYAQAAAAAAAGhRMAMAAAAAAADQomAGAAAAAAAAoEXBDAAAAAAAAECL\n",
       "ghkAAAAAAACAFgUzAAAAAAAAAC0KZgAAAAAAAABaFMwAAAAAAAAAtCiYAQAAAAAAAGhRMAMAAAAA\n",
       "AADQcnn2ALyWGcwa0bSvxGVFN1x6uyWl90FyratmVVUdi2ZVzWDenHssq6pqjlzeMbdc1njEsqqq\n",
       "tsrlnesey6qquo+3WNYl/Ehzmedc1pG9tl32XN55JLNiUX/k5X4HeQrPtvIvNOfMLXYPZlVV7Ufu\n",
       "vHrsuXP+/niPZVVVfbvlrpVvb9l7wuUtd786n7P35dMp+AySfN4NnwfHkbuC7HvunKqq2h658+rx\n",
       "yN3jq6puwfP0es+e85/B2b4HZ/sevrb9vuWOj9+Dx1pV1fctdy587Nm7/Gfusluf2ctuXffctfJ2\n",
       "5Ia7h9/77sH3q2RWVdUWfL9KvvdVVR3BvOT78qzwd4Hg8Zb8/vFl3W89a38jW/W758LrXHWT/SVy\n",
       "i32pzQb/xsrfxwAAAAAAAABYiIIZAAAAAAAAgBYFMwAAAAAAAAAtCmYAAAAAAAAAWhTMAAAAAAAA\n",
       "ALQomAEAAAAAAABoUTADAAAAAAAA0KJgBgAAAAAAAKBFwQwAAAAAAABAi4IZAAAAAAAAgBYFMwAA\n",
       "AAAAAAAtCmYAAAAAAAAAWhTMAAAAAAAAALRcnj0AwP8zw2kjlpVLqprhdUa32zxyWVU1Kpd3BLOq\n",
       "qsbcc1m1xbL2mcuqqjrVPZa1jexjwzbeYln38CPNeZ6DWckrSNV5z/0+8DySWdl1noJxY+HfVGav\n",
       "bFVH8Hjbwsfu48jth9uWO+d/23LXoqqqb5f3WNb7OXtPuFxy977zKZdVVXU65c6G7HNb1hE8D/Yj\n",
       "d6+qqtq2XN59z96Xb8Hz9PrInvOfwevRR3CdH8G5qqp+Dx4f34NZX3m58+oje9mtz+Cl8rpnr0jX\n",
       "PXfdvQXfrW71iGVVVd1HLm8buXerqqot+K62z+xsyffSI5qVff44kt9Awt9TZjAv/R0q/10rJ71S\n",
       "AP69db+2AQAAAAAAALAUBTMAAAAAAAAALQpmAAAAAAAAAFoUzAAAAAAAAAC0KJgBAAAAAAAAaFEw\n",
       "AwAAAAAAANCiYAYAAAAAAACgRcEMAAAAAAAAQIuCGQAAAAAAAIAWBTMAAAAAAAAALQpmAAAAAAAA\n",
       "AFoUzAAAAAAAAAC0KJgBAAAAAAAAaLk8ewCgYwazRjBrdcHtNoNZI7k/a+nZZh3BtGRW1Zx7Lmts\n",
       "saxjPmJZVVX7OOey6h7Lqqp6BB9DTsF1VlWdR+43eOeZ/T3fKXgdP+25fTDiv1tc9341g2s9wreE\n",
       "fea22+PI7oPHkdtut+Cx+9uWfSX6dn6PZb2dc/eXqqrLOXcvvYzsfXkE80bw0E0+Zn3l5c6DLXx/\n",
       "2fZc3iN4jlZV3fbcff4anu0anO1jC2YF56qq+thyx8dH8FirqvoIXiq/Zy+79bHlLiKfe/a6e525\n",
       "xd6CWfeRfee4j1ss61G5rKrs+9Ve2ffI5HvprNzxkXyPr8p+s8h+//hKzEWFH2heZbaXYZsBP8c/\n",
       "mAEAAAAAAABoUTADAAAAAAAA0KJgBgAAAAAAAKBFwQwAAAAAAABAi4IZAAAAAAAAgBYFMwAAAAAA\n",
       "AAAtCmYAAAAAAAAAWhTMAAAAAAAAALQomAEAAAAAAABoUTADAAAAAAAA0KJgBgAAAAAAAKBFwQwA\n",
       "AAAAAABAi4IZAAAAAAAAgBYFMwAAAAAAAAAtl2cPAD9rhvNGNHEEs8LiGy4duKrkOrPbbNYRTAsf\n",
       "uzOZtwezqo7gb6zGDGbVFsuqqjrmI5a11TmWVVU1Ri7vFJ7tFJ0t+3u+ETyvTkcuK3/nS2637HRH\n",
       "8DK+B68fX3m5tW7B46Oq6n7k1vrbOXeOfgtmVVW9n3L35WRWVdUlmHce2dlG8JkyeeSmn3Rn8BxN\n",
       "Xz+24DmaPN/Tebc9e85f99xsyazPYFZV1ceeO3Y/s4+79Rl8TfjYsmf95567Vl6P7PvQdeZ2xG3c\n",
       "l8yqqnrUbcmsqqpt5taafO/7yssdH8fMHbvJrKqqGcybM/tslPzWk/1u9JW4ZlY6b9WsfNy60t9Q\n",
       "gST/YAYAAAAAAACgRcEMAAAAAAAAQIuCGQAAAAAAAIAWBTMAAAAAAAAALQpmAAAAAAAAAFoUzAAA\n",
       "AAAAAAC0KJgBAAAAAAAAaFEwAwAAAAAAANCiYAYAAAAAAACgRcEMAAAAAAAAQIuCGQAAAAAAAIAW\n",
       "BTMAAAAAAAAALQpmAAAAAAAAAFouzx4A+LvNcN4I561pBrfbmOF9MIJ588hlVVWN5PGRnW3WHss6\n",
       "Zu73WqO2WFZV1R6d7RzLSuedRni2kdtup/B1cgTzkpeP8CkavVvN8G8q95nbB3v4lrAdudnuR/a8\n",
       "uh25/XDdcwfc+zm7zvdTbra36EladQnOdg7PlrxSjuBsM3i+V2WvbclrUVXVFjxHH+HZ7sHZ7nt2\n",
       "tuy1LTfbNfeoG8/7jM+WO7M+g/eXqqrrkVvs53zEsqqqbuMezLrFsu7jGsuqqnpUbrZt5rZZVdUe\n",
       "3KfJrKqqY+beS4+ZOw+S7/Ffkud8+oUomRd+6Qh+10p+b3stthvwfP7BDAAAAAAAAECLghkAAAAA\n",
       "AACAFgUzAAAAAAAAAC0KZgAAAAAAAABaFMwAAAAAAAAAtCiYAQAAAAAAAGhRMAMAAAAAAADQomAG\n",
       "AAAAAAAAoEXBDAAAAAAAAECLghkAAAAAAACAFgUzAAAAAAAAAC0KZgAAAAAAAABaFMwAAAAAAAAA\n",
       "tCiYAQAAAAAAAGi5PHsA4B9uBrNGMmxl6XXm8mZ6tpnMO4JZVVV7LGkGf6911IhlVVWNmZttr3ss\n",
       "q6pqBNf6GOHtFpxthGer8DGSEj3dq+o4coHHzD7y7snzamb35yN4qUxmVVXdjtxav53Osaz3PXvw\n",
       "vp1yx8cl/Gx0Duadw5eiEZwtOVr8qS14zocP3ej1aItf23J592BWVdUteK285x5P6xrMqsqu8xo+\n",
       "eK97brjr3GJZ6bzbyD6LX8ctlnUb11jWo3JZ6bx95rbZV15unx7hYzeZN2fw3TuY9ZWXu37M8AtR\n",
       "9vvMut+hXma2V/nkCbwU/2AGAAAAAAAAoEXBDAAAAAAAAECLghkAAAAAAACAFgUzAAAAAAAAAC0K\n",
       "ZgAAAAAAAABaFMwAAAAAAAAAtCiYAQAAAAAAAGhRMAMAAAAAAADQomAGAAAAAAAAoEXBDAAAAAAA\n",
       "AECLghkAAAAAAACAFgUzAAAAAAAAAC0KZgAAAAAAAABaLs8eAFYxg1kjmvaVuK7slnsFM3x8jBnM\n",
       "G+lj94glzfTxMXN5s/ZY1hFe55hbMi2YVTWSecH9WVU1xsLXo+houXM+fW2bwWvbEZ5t38+xrG3m\n",
       "sqqqHqfcAfI4sufBe+5SWdfgZnsPbrOqqkvw+nEJ/xz4HLzPp3+pHN4NyzqCl6PcU9aXPXgv3cLD\n",
       "bcHtdg/P9ghe25Kz3ZIHWzjvdgQ3WlXdZi7vFn12rrqNezDrFsv6yrvGsu71Gct6VG6uqqpt5rbb\n",
       "PnP78yvvEcs6wsfuETyvZjQrexGf0btp+s4cvI4nvxtV/t3vNbzSNkt+ZwBW5h/MAAAAAAAAALQo\n",
       "mAEAAAAAAABoUTADAAAAAAAA0KJgBgAAAAAAAKBFwQwAAAAAAABAi4IZAAAAAAAAgBYFMwAAAAAA\n",
       "AAAtCmYAAAAAAAAAWhTMAAAAAAAAALQomAEAAAAAAABoUTADAAAAAAAA0KJgBgAAAAAAAKBFwQwA\n",
       "AAAAAABAy+XZAwD8rxnOG+nANc3ghhvziGVVVc2RyxrJsKqqkcubtceyqrLrPKLbLTvbnsw7srON\n",
       "U/LgzUWlzeB18ghfxI/KXY/2+R7L+sp7i2VtM7vdHkfu96P3U/a3qO/B8+oteM5fwufoJbjZ0rOd\n",
       "g/e+5GWyaulLZVTyjD/Cj7p7MG8Lz7YFH1HTsz2CO+Iezco+19+D7wn3mXx2rrrVI5Z1H/dYVlXV\n",
       "LZh3H9dYVlXVo3J5yaxt3mJZVVX7kdsH+8wda1VVx9yWzKrKvuNm35ez17YKXtvm0rOlv48l8xae\n",
       "7TU+KwL8NP9gBgAAAAAAAKBFwQwAAAAAAABAi4IZAAAAAAAAgBYFMwAAAAAAAAAtCmYAAAAAAAAA\n",
       "WhTMAAAAAAAAALQomAEAAAAAAABoUTADAAAAAAAA0KJgBgAAAAAAAKBFwQwAAAAAAABAi4IZAAAA\n",
       "AAAAgBYFMwAAAAAAAAAtCmYAAAAAAAAAWhTMAAAAAAAAALRcnj0A/IpmOG9EE0cwKy2/5daUXmc6\n",
       "Lyk326wjlvVH4KKyx214q72O4Iabp+zBNkfyvApmjezRdow9lrXP7Gz7zM22zbdYVlXVY56XzKqq\n",
       "uh+537ZeRu5amcyqqrqccnnn8KPMKbjW9C+Vw7thWTN4S0jf44/gcHv4OWs7coFbcieE8x7B+9U9\n",
       "eK+qqnpULu8+HrGsdN593GJZVVWPyuUls77yrrGsbeZm2497LKuqap+5vH1mj90jmHfMLZZVVTWD\n",
       "15BVs6rS3xlW/taz8mwrs87npwEr8w9mAAAAAAAAAFoUzAAAAAAAAAC0KJgBAAAAAAAAaFEwAwAA\n",
       "AAAAANCiYAYAAAAAAACgRcEMAAAAAAAAQIuCGQAAAAAAAIAWBTMAAAAAAAAALQpmAAAAAAAAAFoU\n",
       "zAAAAAAAAAC0KJgBAAAAAAAAaFEwAwAAAAAAANCiYAYAAAAAAACg5fLsAYC/2wznjXBeUHKpIxoW\n",
       "zKpKLjR+dMxg4jhyWV+BsaRZwdnmnssKO+LH7sLXj6QjfGYFr0czmHWM7LF7VC4vPdtW78GsLZZV\n",
       "VfVWb7Gs+8y+KrzNcyzrMnK/k72Er0XnIzfbeWRnS/66eIRnS6Yls9LPRsm8mXzOqko+zdQenm2f\n",
       "uem28F7dgrM9gve+bWTvL496xLLuI5dVVbWNeyzrUbdYVjpvm7l1VlXtMzfbHpxtn9njI5l3zOx5\n",
       "dQTf/Wb4PTKZF31fjt+Zk+/y2dlm9qkhmJUWnm3lpUa9zEKBhfkHMwAAAAAAAAAtCmYAAAAAAAAA\n",
       "WhTMAAAAAAAAALQomAEAAAAAAABoUTADAAAAAAAA0KJgBgAAAAAAAKBFwQwAAAAAAABAi4IZAAAA\n",
       "AAAAgBYFMwAAAAAAAAAtCmYAAAAAAAAAWhTMAAAAAAAAALQomAEAAAAAAABoUTADAAAAAAAA0KJg\n",
       "BgAAAAAAAKDl8uwBgD83g1kjmLW+4JabwS03knt0bbOOWNaY2d9EzZGcLRYVPdS+AsN5Qbk9ULXy\n",
       "Qmd4tmReNmuPZVVVzZHL22uLZVVVXcYjlrWN91hWVdXbfItlXUYuq6rqMs+5rOBrzDl8f0nmncJP\n",
       "bqeRy0vPljSCs6Wv4UlHeLZj5vLSs+3Bp4Y9+AxYVbWN3D1mC977tsrdq6qqHsl7X91jWem8PT3b\n",
       "DM42s/t0X3S2Y2af247obOHn3eBaZ3q25LP9zF13k98YvgKT70Ph2aL30vTzTPIjSC7qLwr85dli\n",
       "wM/yD2YAAAAAAAAAWhTMAAAAAAAAALQomAEAAAAAAABoUTADAAAAAAAA0KJgBgAAAAAAAKBFwQwA\n",
       "AAAAAABAi4IZAAAAAAAAgBYFMwAAAAAAAAAtCmYAAAAAAAAAWhTMAAAAAAAAALQomAEAAAAAAABo\n",
       "UTADAAAAAAAA0KJgBgAAAAAAAKDl8uwBgL/XDOeNaOIIZqVZ57PN8GxjHrGsGdylI7wLkrMtfHjU\n",
       "sfJw8dlyebOC50HtsayqqiOYd64tllVVtY9c3l6PWFZV1TbeYlmXymVVVZ2Drx7RrHGOZVVVnWbu\n",
       "N7zn8O+BRzDvlH6eCV4ql771BYdL3/vmyN0T9uD9parqiM6WvV/twXtM8v6yhe8vyftVfLZ5z2WF\n",
       "ZztmLm8PZlVVHTN3vK2alc6bM3v9SOaln8Ur+b6cvCcE56pKf2dY971vbdb5/DSAn+MfzAAAAAAA\n",
       "AAC0KJgBAAAAAAAAaFEwAwAAAAAAANCiYAYAAAAAAACgRcEMAAAAAAAAQIuCGQAAAAAAAIAWBTMA\n",
       "AAAAAAAALQpmAAAAAAAAAFoUzAAAAAAAAAC0KJgBAAAAAAAAaFEwAwAAAAAAANCiYAYAAAAAAACg\n",
       "RcEMAAAAAAAAQMvl2QMAvJwZzhvJwBHMSktvuKB55KLCuyB5eKRnW3mX5vZo1ZzZhc6RPN7WzKqq\n",
       "Oo09lnUEs6qqjtpiWXu9xbKqqs4j93i/hV8VTsHZzsHZTnWOZVVVnUYu7zSzvwcewd8Xn9LPDGPl\n",
       "Z5Ck3D3hCN9IZ/Dud4TvCUcF7wnBrKqqPXhPyN5fcllVVftMrvMRy6oKzzazsx3R2bL7NDtb7rya\n",
       "4XN0JmcLZlWF1xp8J63K3hOys6VfIhd+KY0Kr/NVNhsAP+QfzAAAAAAAAAC0KJgBAAAAAAAAaFEw\n",
       "AwAAAAAAANCiYAYAAAAAAACgRcEMAAAAAAAAQIuCGQAAAAAAAIAWBTMAAAAAAAAALQpmAAAAAAAA\n",
       "AFoUzAAAAAAAAAC0KJgBAAAAAAAAaFEwAwAAAAAAANCiYAYAAAAAAACgRcEMAAAAAAAAQIuCGQAA\n",
       "AAAAAICWy7MHAP7ZZjBrRNO+EtcUXucMrnOk98G6ssdu0DySaUsfHsnZaqaP3WRedrYjmDejWeFj\n",
       "t/ZY1jFzWVVVx8g9Qp/GFsuqqtrrHMs6hV8VTiM525pZ6bwxsr8HHsHfF4/wc1Y6b1XZ6272/pK8\n",
       "jqfvCUfynhDMSucl71dHZe8v0dlmerZc3lx6u2WP3RnMi2aFz9HsbNlrW/Ldb+XZku9D6Xvfyu99\n",
       "0bz4p55X+XaUPHYBfj3+wQwAAAAAAABAi4IZAAAAAAAAgBYFMwAAAAAAAAAtCmYAAAAAAAAAWhTM\n",
       "AAAAAAAAALQomAEAAAAAAABoUTADAAAAAAAA0KJgBgAAAAAAAKBFwQwAAAAAAABAi4IZAAAAAAAA\n",
       "gBYFMwAAAAAAAAAtCmYAAAAAAAAAWhTMAAAAAAAAALRcnj0AwL/McN6IJo5gVlpwnTO8zpHeq2ta\n",
       "+kibRy5q4cNjxq8gOenZRuX2aTJrBo+1qqo5gusMZlVVzdpjWcfcYllVVadxjmWNYFZV1WkmZ8v9\n",
       "TvZU2XWO4G94k+usqhrBu0wy61+JryF3T0jfX5J58XtC8H51BK/hVdm1JmebM7vOI5iXvI9WhWd7\n",
       "oe2WXGv2nA9fP6L7NH3dDa41fN1d936Vfu9beLZo3Lrvy3nJYxeAH/EPZgAAAAAAAABaFMwAAAAA\n",
       "AAAAtCiYAQAAAAAAAGhRMAMAAAAAAADQomAGAAAAAAAAoEXBDAAAAAAAAECLghkAAAAAAACAFgUz\n",
       "AAAAAAAAAC0KZgAAAAAAAABaFMwAAAAAAAAAtCiYAQAAAAAAAGhRMAMAAAAAAADQomAGAAAAAAAA\n",
       "oEXBDAAAAAAAAEDL5dkDAPxVZjBrhNPWlVxnVc3gWkd4tkWtvMoxj2jejO7T8G/moqd8+rxK5uWy\n",
       "ZoWPj2DemHssq6pqjtzxNsY5llVVdcx1ZxvB8/SU3Afh68cIzlbB/VlVNYLPIMmsuORoC9+YZ3i4\n",
       "bF74nhB8Bknfr45FZ5vpe9+lmwNcAAAREklEQVTCs626D6rSa32R8yr9zhHdbtnZks/16XtC9ga4\n",
       "alY4L/7MsPBDSFT6eQaAv4t/MAMAAAAAAADQomAGAAAAAAAAoEXBDAAAAAAAAECLghkAAAAAAACA\n",
       "FgUzAAAAAAAAAC0KZgAAAAAAAABaFMwAAAAAAAAAtCiYAQAAAAAAAGhRMAMAAAAAAADQomAGAAAA\n",
       "AAAAoEXBDAAAAAAAAECLghkAAAAAAACAFgUzAAAAAAAAAC2j6jKfPQTA6sazB/ihtafLCa8zGpcM\n",
       "W3l/Zmcbyd+5jfR2y+VF11lVyd8Hjuh2y65zjOA60/tg4dlW3m6rzpac64/EYNLC17b4dTcpOdu6\n",
       "r8tzpmfL5c34dgvONo9YVlXVrFxecrbkXFVrz1YLz5Y93tKzJc/TdfdB9Doevu5m17ru/So7W3id\n",
       "0biV90HaumtddzKAX49/MAMAAAAAAADQomAGAAAAAAAAoEXBDAAAAAAAAECLghkAAAAAAACAFgUz\n",
       "AAAAAAAAAC0KZgAAAAAAAABaFMwAAAAAAAAAtCiYAQAAAAAAAGhRMAMAAAAAAADQomAGAAAAAAAA\n",
       "oEXBDAAAAAAAAECLghkAAAAAAACAFgUzAAAAAAAAAC2j6jKfPQTAKxnPHuCH1p4uK7jW6GZbeR+k\n",
       "Z8vljYVnq5H+Pd+i2y28zhH9HWT2+BjRtaa328r7NHjsRmcLHx/RvPSxu+5s/Izsq/ycybzwbNG8\n",
       "9HY7clnJ2YJzVaX3QXi26FrTx25wtqX36brHbnK27Db7SlwzKy15fOSi/qLARa27znUnA+DP+Acz\n",
       "AAAAAAAAAC0KZgAAAAAAAABaFMwAAAAAAAAAtCiYAQAAAAAAAGhRMAMAAAAAAADQomAGAAAAAAAA\n",
       "oEXBDAAAAAAAAECLghkAAAAAAACAFgUzAAAAAAAAAC0KZgAAAAAAAABaFMwAAAAAAAAAtCiYAQAA\n",
       "AAAAAGhRMAMAAAAAAADQomAGAAAAAAAAoGVUXeazhwDg541nD/BDa0+XE1xnfJOtvA+Ss6XXmcsb\n",
       "6dnGqtstu86R/B1kdJul92n6957BYze83bLn1brHR3adaa9yT1jZyq/fudnyqwwmzux0s45oWiwp\n",
       "vM7sXk1us6rp+Hh+XnC7RffnH4lrZv0VeUnJ4yMXtfY2S1t3retOBsDfyT+YAQAAAAAAAGhRMAMA\n",
       "AAAAAADQomAGAAAAAAAAoEXBDAAAAAAAAECLghkAAAAAAACAFgUzAAAAAAAAAC0KZgAAAAAAAABa\n",
       "FMwAAAAAAAAAtCiYAQAAAAAAAGhRMAMAAAAAAADQomAGAAAAAAAAoEXBDAAAAAAAAECLghkAAAAA\n",
       "AACAllF1mc8eAoA1jGcP8ENrT5cTXufSm23l4ZKzZdc5Vp1tpPfnouushfdBVXQ/ZNf5lfjrZ1WN\n",
       "+LmQZLbnW/n1e93Z5kzOll7nmrPN9DoX3gfZtS58fET3QdW6x9u668xbeLboaAuvM2rdda47GQD/\n",
       "ZP7BDAAAAAAAAECLghkAAAAAAACAFgUzAAAAAAAAAC0KZgAAAAAAAABaFMwAAAAAAAAAtCiYAQAA\n",
       "AAAAAGhRMAMAAAAAAADQomAGAAAAAAAAoEXBDAAAAAAAAECLghkAAAAAAACAFgUzAAAAAAAAAC0K\n",
       "ZgAAAAAAAABaFMwAAAAAAAAAtIyqy3z2EAD8msazB/ihtadbU3ibReNW3p+vMduIrzOYN15jH6Tz\n",
       "lt6n0eMjF5UOzB+5K58LPF/u00D+I0MwMT5cMjC5D9ILXXOdcXPd7bb2Pk1ada6q+GzRuJW328rW\n",
       "3W7rTgYAX/yDGQAAAAAAAIAWBTMAAAAAAAAALQpmAAAAAAAAAFoUzAAAAAAAAAC0KJgBAAAAAAAA\n",
       "aFEwAwAAAAAAANCiYAYAAAAAAACgRcEMAAAAAAAAQIuCGQAAAAAAAIAWBTMAAAAAAAAALQpmAAAA\n",
       "AAAAAFoUzAAAAAAAAAC0KJgBAAAAAAAAaFEwAwAAAAAAANAyqi7z2UMAwN9tLJz2OoLbbeldsPJw\n",
       "rzLbymd8eB8M+/TZxsKzZb3KOlf2Oq/yc+m1JmdbeJ1z3XWunLb0Pl12tlXnqr9gtIXXuqy1z3gA\n",
       "eCX+wQwAAAAAAABAi4IZAAAAAAAAgBYFMwAAAAAAAAAtCmYAAAAAAAAAWhTMAAAAAAAAALQomAEA\n",
       "AAAAAABoUTADAAAAAAAA0KJgBgAAAAAAAKBFwQwAAAAAAABAi4IZAAAAAAAAgBYFMwAAAAAAAAAt\n",
       "CmYAAAAAAAAAWhTMAAAAAAAAALSMqst89hAA8E82Fk7jZwX3w9K7dOXhzPYzxsKzLbvdxqJz/SVe\n",
       "aa38517k08BceZ3rzjYXnm3l7Wa2nxAfa9F1vpTcPrA3AWAd/sEMAAAAAAAAQIuCGQAAAAAAAIAW\n",
       "BTMAAAAAAAAALQpmAAAAAAAAAFoUzAAAAAAAAAC0KJgBAAAAAAAAaFEwAwAAAAAAANCiYAYAAAAA\n",
       "AACgRcEMAAAAAAAAQIuCGQAAAAAAAIAWBTMAAAAAAAAALQpmAAAAAAAAAFoUzAAAAAAAAAC0KJgB\n",
       "AAAAAAAAaBlVl/nsIQCAL+PZA/zQ2tO9juB+WHqXLj1c0MrrXHm2pOw6X2Wr5b3KlvP6/TOyW+1V\n",
       "9sHK61x5trSF1xodbeF1vox198G6kwEA/xf+wQwAAAAAAABAi4IZAAAAAAAAgBYFMwAAAAAAAAAt\n",
       "CmYAAAAAAAAAWhTMAAAAAAAAALQomAEAAAAAAABoUTADAAAAAAAA0KJgBgAAAAAAAKBFwQwAAAAA\n",
       "AABAi4IZAAAAAAAAgBYFMwAAAAAAAAAtCmYAAAAAAAAAWhTMAAAAAAAAALSMqst89hAAwPrGswf4\n",
       "obWnew3hffAyu/RlFlqvtdZV2Qf8iE8Dz/cq++BV1lnhpb7QdlvWuvtg3ckAgF+VfzADAAAAAAAA\n",
       "0KJgBgAAAAAAAKBFwQwAAAAAAABAi4IZAAAAAAAAgBYFMwAAAAAAAAAtCmYAAAAAAAAAWhTMAAAA\n",
       "AAAAALQomAEAAAAAAABoUTADAAAAAAAA0KJgBgAAAAAAAKBFwQwAAAAAAABAi4IZAAAAAAAAgBYF\n",
       "MwAAAAAAAAAto+oynz0EAPB6xrMH+KG1p+M/tfD+XHi0tdlwwCp8UvmPLb3Jlh6On7LuPl13MgCA\n",
       "P+cfzAAAAAAAAAC0KJgBAAAAAAAAaFEwAwAAAAAAANCiYAYAAAAAAACgRcEMAAAAAAAAQIuCGQAA\n",
       "AAAAAIAWBTMAAAAAAAAALQpmAAAAAAAAAFoUzAAAAAAAAAC0KJgBAAAAAAAAaFEwAwAAAAAAANCi\n",
       "YAYAAAAAAACgRcEMAAAAAAAAQIuCGQAAAAAAAICWUXWZzx4CAGAl49kD/NDa0/ErWfhYW3g04MUs\n",
       "+0Vl2cH4Ja17vK07GQDAP5t/MAMAAAAAAADQomAGAAAAAAAAoEXBDAAAAAAAAECLghkAAAAAAACA\n",
       "FgUzAAAAAAAAAC0KZgAAAAAAAABaFMwAAAAAAAAAtCiYAQAAAAAAAGhRMAMAAAAAAADQomAGAAAA\n",
       "AAAAoEXBDAAAAAAAAECLghkAAAAAAACAFgUzAAAAAAAAAC2XZw8AALCa+ewBfmAsPV3SePYArHys\n",
       "LTxalvOAf6qXOUnhT7zGufAaqwQA4P/nH8wAAAAAAAAAtCiYAQAAAAAAAGhRMAMAAAAAAADQomAG\n",
       "AAAAAAAAoEXBDAAAAAAAAECLghkAAAAAAACAFgUzAAAAAAAAAC0KZgAAAAAAAABaFMwAAAAAAAAA\n",
       "tCiYAQAAAAAAAGhRMAMAAAAAAADQomAGAAAAAAAAoEXBDAAAAAAAAECLghkAAAAAAACAlsuzBwAA\n",
       "oG8+e4C/yXihlcK/9yrnAfBaXufa9jorBQDg1fgHMwAAAAAAAAAtCmYAAAAAAAAAWhTMAAAAAAAA\n",
       "ALQomAEAAAAAAABo+Z/27RiFYRiKgiAG3f/KTpMq1YaIfIRnDmCeVahZJDADAAAAAAAAkAjMAAAA\n",
       "AAAAACQCMwAAAAAAAACJwAwAAAAAAABAIjADAAAAAAAAkAjMAAAAAAAAACQCMwAAAAAAAACJwAwA\n",
       "AAAAAABAIjADAAAAAAAAkKzpAQAA8OmeHvAn12P+dLdregDAm3v8W04MAADO5wUzAAAAAAAAAInA\n",
       "DAAAAAAAAEAiMAMAAAAAAACQCMwAAAAAAAAAJAIzAAAAAAAAAInADAAAAAAAAEAiMAMAAAAAAACQ\n",
       "CMwAAAAAAAAAJAIzAAAAAAAAAInADAAAAAAAAEAiMAMAAAAAAACQCMwAAAAAAAAAJAIzAAAAAAAA\n",
       "AMmaHgAAAE91Tw841r6Tu7Z9CTiBexcAAOB3XjADAAAAAAAAkAjMAAAAAAAAACQCMwAAAAAAAACJ\n",
       "wAwAAAAAAABAIjADAAAAAAAAkAjMAAAAAAAAACQCMwAAAAAAAACJwAwAAAAAAABAIjADAAAAAAAA\n",
       "kAjMAAAAAAAAACQCMwAAAAAAAACJwAwAAAAAAABAIjADAAAAAAAAkAjMAAAAAAAAACRregAAAMCU\n",
       "e3oAAAAAwGG8YAYAAAAAAAAgEZgBAAAAAAAASARmAAAAAAAAABKBGQAAAAAAAIBEYAYAAAAAAAAg\n",
       "EZgBAAAAAAAASARmAAAAAAAAABKBGQAAAAAAAIBEYAYAAAAAAAAgEZgBAAAAAAAASARmAAAAAAAA\n",
       "ABKBGQAAAAAAAIBEYAYAAAAAAAAgEZgBAAAAAAAASARmAAAAAAAAABKBGQAAAAAAAIBEYAYAAAAA\n",
       "AAAgEZgBAAAAAAAASARmAAAAAAAAABKBGQAAAAAAAIBEYAYAAAAAAAAgEZgBAAAAAAAASARmAAAA\n",
       "AAAAABKBGQAAAAAAAIBEYAYAAAAAAAAgEZgBAAAAAAAASARmAAAAAAAAABKBGQAAAAAAAIBEYAYA\n",
       "AAAAAAAgEZgBAAAAAAAASARmAAAAAAAAABKBGQAAAAAAAIBEYAYAAAAAAAAgEZgBAAAAAAAASARm\n",
       "AAAAAAAAABKBGQAAAAAAAIBEYAYAAAAAAAAgEZgBAAAAAAAASARmAAAAAAAAABKBGQAAAAAAAIBE\n",
       "YAYAAAAAAAAgEZgBAAAAAAAASARmAAAAAAAAABKBGQAAAAAAAIBEYAYAAAAAAAAgEZgBAAAAAAAA\n",
       "SARmAAAAAAAAABKBGQAAAAAAAIBEYAYAAAAAAAAgEZgBAAAAAAAASARmAAAAAAAAABKBGQAAAAAA\n",
       "AIBEYAYAAAAAAAAgEZgBAAAAAAAASARmAAAAAAAAABKBGQAAAAAAAIBEYAYAAAAAAAAgEZgBAAAA\n",
       "AAAASARmAAAAAAAAABKBGQAAAAAAAIBEYAYAAAAAAAAgEZgBAAAAAAAASARmAAAAAAAAABKBGQAA\n",
       "AAAAAIBEYAYAAAAAAAAgEZgBAAAAAAAASARmAAAAAAAAABKBGQAAAAAAAIBEYAYAAAAAAAAgEZgB\n",
       "AAAAAAAASARmAAAAAAAAABKBGQAAAAAAAIBEYAYAAAAAAAAgEZgBAAAAAAAASARmAAAAAAAAABKB\n",
       "GQAAAAAAAIBEYAYAAAAAAAAgEZgBAAAAAAAASARmAAAAAAAAABKBGQAAAAAAAIBEYAYAAAAAAAAg\n",
       "EZgBAAAAAAAASARmAAAAAAAAABKBGQAAAAAAAIBEYAYAAAAAAAAgEZgBAAAAAAAASARmAAAAAAAA\n",
       "ABKBGQAAAAAAAIBEYAYAAAAAAAAgEZgBAAAAAAAASARmAAAAAAAAABKBGQAAAAAAAIBEYAYAAAAA\n",
       "AAAgEZgBAAAAAAAASARmAAAAAAAAABKBGQAAAAAAAIBEYAYAAAAAAAAgEZgBAAAAAAAASARmAAAA\n",
       "AAAAAJIXuROA4LLO8MMAAAAASUVORK5CYII=\n",
       "\" transform=\"translate(169, 47)\"/>\n",
       "</g>\n",
       "<defs>\n",
       "  <clipPath id=\"clip583\">\n",
       "    <rect x=\"2160\" y=\"47\" width=\"73\" height=\"1440\"/>\n",
       "  </clipPath>\n",
       "</defs>\n",
       "<g clip-path=\"url(#clip583)\">\n",
       "<image width=\"72\" height=\"1439\" xlink:href=\"data:image/png;base64,\n",
       "iVBORw0KGgoAAAANSUhEUgAAAEgAAAWfCAYAAAAI7rB3AAAMWUlEQVR4nO3dwY0rRxAFwaZQ/lsh\n",
       "L6XfLQtUeSQPERYsEg8c9MyQ+/n3/v0O/+uvb/8Bv06gIFAQKAgU5r5/v/03/DQLCgIFgYJAQaAw\n",
       "7/359t/w0ywoCBQECgIFR41gQUGgIFAQKAgU5rmKrSwoCBQECgIFgcK86yq2saAgUBAoCBQcNYIF\n",
       "BYGCQEGgIFBwFQsWFAQKAgWBgvtBwYKCQEGgIFAQKMxx1FhZUBAoCBQECgIFN8yCBQWBgkBBoDDH\n",
       "DbOVBQWBgkBBoCBQmHP/+fbf8NMsKAgUBAoCBYGCxz7BgoJAQaAgUHDDLFhQECgIFAQKAgVXsWBB\n",
       "QaAgUBAouB8ULCgIFAQKAgWBwnwcNVYWFAQKAgWBgkBhzvWfWTYWFAQKAgWBgqNGsKAgUBAoCBQE\n",
       "Co4awYKCQEGgIFAQKHjDLFhQECgIFAQK83HUWFlQECgIFAQKAgXvSQcLCgIFgYJAwVEjWFAQKAgU\n",
       "BAoCBc/mgwUFgYJAQaAgUHAWCxYUBAoCBYGCo0awoCBQECgIFAQKjhrBgoJAQaAgUBAozLn323/D\n",
       "T7OgIFAQKAgUHDWCBQWBgkBBoCBQ8NgnWFAQKAgUBAo+pIMFBYGCQEGgIFCYj6caKwsKAgWBgkBB\n",
       "oOAsFiwoCBQECgIFL1AFCwoCBYGCQEGg4IZZsKAgUBAoCBTcDwoWFAQKAgWBgkDBDbNgQUGgIFAQ\n",
       "KAgUXMWCBQWBgkBBoOB788GCgkBBoCBQECg4agQLCgIFgYJAQaDgKhYsKAgUBAoCBR/SwYKCQEGg\n",
       "IFAQKLiKBQsKAgWBgkBhzvMhvbGgIFAQKAgUBAqOGsGCgkBBoCBQECi4igULCgIFgYJAwYd0sKAg\n",
       "UBAoCBQECnPu+/bf8NMsKAgUBAoCBYGCs1iwoCBQECgIFBw1ggUFgYJAQaAgUHDUCBYUBAoCBYGC\n",
       "o0awoCBQECgIFAQKc5w0VhYUBAoCBYGCQGHOcxbbWFAQKAgUBAqOGsGCgkBBoCBQECi4igULCgIF\n",
       "gYJAQaAwfohzZ0FBoCBQECg4agQLCgIFgYJAQaDgKhYsKAgUBAoChTn38+2/4adZUBAoCBQECgKF\n",
       "ec9VbGNBQaAgUBAoCBTcMAsWFAQKAgWBghtmwYKCQEGgIFAQKMy7Gm3UCQIFgYJAwVEjWFAQKAgU\n",
       "BAoChTmeza8sKAgUBAoCBYHCPGexlQUFgYJAQaAwx1ONlTpBoCBQECgIFBw1ggUFgYJAQaAgUPDY\n",
       "J1hQECgIFAQKXgMO6gSBgkBBoCBQ8J50sKAgUBAoCBQ81QgWFAQKAgWBgkBh3tNoo04QKAgUBAoC\n",
       "BTfMggUFgYJAQaDghlmwoCBQECgIFAQKc9wwW6kTBAoCBYGCQMFZLFhQECgIFAQKPqSDBQWBgkBB\n",
       "oCBQ8L35YEFBoCBQECj43nxQJwgUBAoCBYHCPEeNlQUFgYJAQaAgUPDYJ1hQECgIFAQK/jNLUCcI\n",
       "FAQKAgWBghtmwYKCQEGgIFAQKLhhFiwoCBQECgIFR41gQUGgIFAQKAgUvCcd1AkCBYGCQMFRI1hQ\n",
       "ECgIFAQKAgVPNYIFBYGCQEGgIFBwFgsWFAQKAgWBgn+fFSwoCBQECgIFgYJ/ZRzUCQIFgYJAQaDg\n",
       "hlmwoCBQECgIFDybDxYUBAoCBYGCQMFRI1hQECgIFAQKc31IrywoCBQECgIFgYLvzQd1gkBBoCBQ\n",
       "ECi4YRYsKAgUBAoCBR/SwYKCQEGgIFAQKHjDLFhQECgIFAQKjhrBgoJAQaAgUBAouIoFCwoCBYGC\n",
       "QEGg4NdfgjpBoCBQECjM9VRjZUFBoCBQECgIFNwwCxYUBAoCBYGCQMFVLFhQECgIFAQKPqSDBQWB\n",
       "gkBBoCBQ8BtmwYKCQEGgIFBw1AgWFAQKAgWBgkDBVSxYUBAoCBQECgIFX2YJ6gSBgkBBoODLLMGC\n",
       "gkBBoCBQECi4YRYsKAgUBAoCBYGCq1iwoCBQECgIFLwGHCwoCBQECgIFgYKjRrCgIFAQKAgU5h0f\n",
       "0hsLCgIFgYJAQaDghlmwoCBQECgIFAQKbpgFCwoCBYGCQMFRI1hQECgIFAQKAgVHjWBBQaAgUBAo\n",
       "CBScxYIFBYGCQEGg4KgRLCgIFAQKAgWBgqtYsKAgUBAoCBTm+jLLyoKCQEGgIFAQKDhqBAsKAgWB\n",
       "gkBBoODZfLCgIFAQKAgU5r1v/wm/zYKCQEGgIFAQKDhqBAsKAgWBgkDBD00GCwoCBYGCQEGg4KgR\n",
       "LCgIFAQKAgWBgjfMggUFgYJAQaDgyyzBgoJAQaAgUBAoeMMsWFAQKAgUBAoCBY99ggUFgYJAQaDg\n",
       "qUawoCBQECgIFAQKHvsECwoCBYGCQMH9oGBBQaAgUBAoCBQ8mw8WFAQKAgWBgkDBDbNgQUGgIFAQ\n",
       "KHg2HywoCBQECgIFgcLcb/8FP86CgkBBoCBQECg4iwULCgIFgYJAwRtmwYKCQEGgIFAQKLhhFiwo\n",
       "CBQECgIF94OCBQWBgkBBoCBQcNQIFhQECgIFgYJAwVksWFAQKAgUBAqezQcLCgIFgYJAQaAwfvxl\n",
       "Z0FBoCBQECgIFJzFggUFgYJAQaDg2XywoCBQECgIFAQKns0HCwoCBYGCQMFRI1hQECgIFAQKAgVH\n",
       "jWBBQaAgUBAoCBTmesVsZUFBoCBQECi4YRYsKAgUBAoCBYGCG2bBgoJAQaAgUHDUCBYUBAoCBYGC\n",
       "QGGepxorCwoCBYGCQEGgMPe4YbaxoCBQECgIFLxAFSwoCBQECgIFgYIfmgwWFAQKAgWBgkDBD00G\n",
       "CwoCBYGCQMGz+WBBQaAgUBAoCBS8Jx0sKAgUBAoCBd84DBYUBAoCBYGCQMFRI1hQECgIFAQKAgXv\n",
       "SQcLCgIFgYJAwWvAwYKCQEGgIFAQKDhqBAsKAgWBgkBBoOA96WBBQaAgUBAo+ImuYEFBoCBQECgI\n",
       "FNwwCxYUBAoCBYGCZ/PBgoJAQaAgUBAoOGoECwoCBYGCQEGg4CwWLCgIFAQKAgVHjWBBQaAgUBAo\n",
       "CBRcxYIFBYGCQEGgIFBwwyxYUBAoCBQECo4awYKCQEGgIFAQKDhqBAsKAgWBgkDBUSNYUBAoCBQE\n",
       "CgIFP9EVLCgIFAQKAgWBgv8vFiwoCBQECgIFN8yCBQWBgkBBoCBQmHdcxjYWFAQKAgWBgkDBWSxY\n",
       "UBAoCBQECp7NBwsKAgWBgkBBoODZfLCgIFAQKAgU3A8KFhQECgIFgYJAwbP5YEFBoCBQECgIFJzF\n",
       "ggUFgYJAQaDgJ7qCBQWBgkBBoCBQmOsVs5UFBYGCQEGg4AWqYEFBoCBQECgIFOY5aqwsKAgUBAoC\n",
       "BYGCs1iwoCBQECgIFDzVCBYUBAoCBYGCQMEbZsGCgkBBoCBQECjM9ZXMlQUFgYJAQaDghlmwoCBQ\n",
       "ECgIFAQKfv0lWFAQKAgUBApeoAoWFAQKAgWBgkDBU41gQUGgIFAQKAgU3DALFhQECgIFgcLc45bZ\n",
       "xoKCQEGgIFAQKLhhFiwoCBQECgIFgYKrWLCgIFAQKAgUPNUIFhQECgIFgYJAwWOfYEFBoCBQECjM\n",
       "/ThqbCwoCBQECgIFgYKjRrCgIFAQKAgUBArzXMVWFhQECgIFgYKjRrCgIFAQKAgUBApzP65iGwsK\n",
       "AgWBgkBBoOAsFiwoCBQECgIFTzWCBQWBgkBBoCBQcNQIFhQECgIFgYIP6WBBQaAgUBAoCBQ8mw8W\n",
       "FAQKAgWBgkBh3vnz7b/hp1lQECgIFAQKbpgFCwoCBYGCQEGg4A2zYEFBoCBQECjMfe4HbSwoCBQE\n",
       "CgIFgYKjRrCgIFAQKAgUBApzPZtfWVAQKAgUBAqOGsGCgkBBoCBQECg4agQLCgIFgYJAQaAw7zmL\n",
       "bSwoCBQECgIFN8yCBQWBgkBBoCBQ8J50sKAgUBAoCBQcNYIFBYGCQEGgIFCY56ixsqAgUBAoCBQE\n",
       "Cs5iwYKCQEGgIFCY6wWqlQUFgYJAQaAgUPCb9sGCgkBBoCBQECj4MkuwoCBQECgIFDzVCBYUBAoC\n",
       "BYGCQMFRI1hQECgIFAQKPqSDBQWBgkBBoCBQ8Gw+WFAQKAgUBAoCBWexYEFBoCBQECjM8Wx+ZUFB\n",
       "oCBQECgIFBw1ggUFgYJAQaAgUPCedLCgIFAQKAgU5jhqrCwoCBQECgIFgYI3zIIFBYGCQEGg4Nl8\n",
       "sKAgUBAoCBQECm6YBQsKAgWBgkBBoDDvvG//DT/NgoJAQaAgUHDDLFhQECgIFAQKAoU5jhorCwoC\n",
       "BYGCQOE/LrLuTX/wFc8AAAAASUVORK5CYII=\n",
       "\" transform=\"translate(2161, 47)\"/>\n",
       "</g>\n",
       "<path clip-path=\"url(#clip580)\" d=\"M2280.7 1468.62 Q2277.09 1468.62 2275.26 1472.18 Q2273.45 1475.72 2273.45 1482.85 Q2273.45 1489.96 2275.26 1493.53 Q2277.09 1497.07 2280.7 1497.07 Q2284.33 1497.07 2286.14 1493.53 Q2287.97 1489.96 2287.97 1482.85 Q2287.97 1475.72 2286.14 1472.18 Q2284.33 1468.62 2280.7 1468.62 M2280.7 1464.91 Q2286.51 1464.91 2289.57 1469.52 Q2292.64 1474.1 2292.64 1482.85 Q2292.64 1491.58 2289.57 1496.19 Q2286.51 1500.77 2280.7 1500.77 Q2274.89 1500.77 2271.81 1496.19 Q2268.76 1491.58 2268.76 1482.85 Q2268.76 1474.1 2271.81 1469.52 Q2274.89 1464.91 2280.7 1464.91 Z\" fill=\"#000000\" fill-rule=\"evenodd\" fill-opacity=\"1\" /><path clip-path=\"url(#clip580)\" d=\"M2274.38 1352.24 L2290.7 1352.24 L2290.7 1356.18 L2268.76 1356.18 L2268.76 1352.24 Q2271.42 1349.49 2276 1344.86 Q2280.61 1340.21 2281.79 1338.86 Q2284.03 1336.34 2284.91 1334.6 Q2285.82 1332.85 2285.82 1331.16 Q2285.82 1328.4 2283.87 1326.66 Q2281.95 1324.93 2278.85 1324.93 Q2276.65 1324.93 2274.2 1325.69 Q2271.77 1326.46 2268.99 1328.01 L2268.99 1323.29 Q2271.81 1322.15 2274.27 1321.57 Q2276.72 1320.99 2278.76 1320.99 Q2284.13 1320.99 2287.32 1323.68 Q2290.52 1326.36 2290.52 1330.85 Q2290.52 1332.98 2289.7 1334.91 Q2288.92 1336.8 2286.81 1339.4 Q2286.23 1340.07 2283.13 1343.29 Q2280.03 1346.48 2274.38 1352.24 Z\" fill=\"#000000\" fill-rule=\"evenodd\" fill-opacity=\"1\" /><path clip-path=\"url(#clip580)\" d=\"M2300.56 1321.62 L2318.92 1321.62 L2318.92 1325.55 L2304.84 1325.55 L2304.84 1334.03 Q2305.86 1333.68 2306.88 1333.52 Q2307.9 1333.33 2308.92 1333.33 Q2314.7 1333.33 2318.08 1336.5 Q2321.46 1339.67 2321.46 1345.09 Q2321.46 1350.67 2317.99 1353.77 Q2314.52 1356.85 2308.2 1356.85 Q2306.02 1356.85 2303.76 1356.48 Q2301.51 1356.11 2299.1 1355.37 L2299.1 1350.67 Q2301.19 1351.8 2303.41 1352.36 Q2305.63 1352.91 2308.11 1352.91 Q2312.11 1352.91 2314.45 1350.81 Q2316.79 1348.7 2316.79 1345.09 Q2316.79 1341.48 2314.45 1339.37 Q2312.11 1337.27 2308.11 1337.27 Q2306.23 1337.27 2304.36 1337.68 Q2302.51 1338.1 2300.56 1338.98 L2300.56 1321.62 Z\" fill=\"#000000\" fill-rule=\"evenodd\" fill-opacity=\"1\" /><path clip-path=\"url(#clip580)\" d=\"M2270.21 1177.7 L2288.57 1177.7 L2288.57 1181.63 L2274.5 1181.63 L2274.5 1190.11 Q2275.52 1189.76 2276.53 1189.6 Q2277.55 1189.41 2278.57 1189.41 Q2284.36 1189.41 2287.74 1192.58 Q2291.12 1195.75 2291.12 1201.17 Q2291.12 1206.75 2287.64 1209.85 Q2284.17 1212.93 2277.85 1212.93 Q2275.68 1212.93 2273.41 1212.56 Q2271.16 1212.19 2268.76 1211.45 L2268.76 1206.75 Q2270.84 1207.88 2273.06 1208.44 Q2275.28 1208.99 2277.76 1208.99 Q2281.77 1208.99 2284.1 1206.89 Q2286.44 1204.78 2286.44 1201.17 Q2286.44 1197.56 2284.1 1195.45 Q2281.77 1193.35 2277.76 1193.35 Q2275.89 1193.35 2274.01 1193.76 Q2272.16 1194.18 2270.21 1195.06 L2270.21 1177.7 Z\" fill=\"#000000\" fill-rule=\"evenodd\" fill-opacity=\"1\" /><path clip-path=\"url(#clip580)\" d=\"M2310.33 1180.78 Q2306.72 1180.78 2304.89 1184.34 Q2303.08 1187.88 2303.08 1195.01 Q2303.08 1202.12 2304.89 1205.68 Q2306.72 1209.23 2310.33 1209.23 Q2313.96 1209.23 2315.77 1205.68 Q2317.6 1202.12 2317.6 1195.01 Q2317.6 1187.88 2315.77 1184.34 Q2313.96 1180.78 2310.33 1180.78 M2310.33 1177.07 Q2316.14 1177.07 2319.2 1181.68 Q2322.27 1186.26 2322.27 1195.01 Q2322.27 1203.74 2319.2 1208.35 Q2316.14 1212.93 2310.33 1212.93 Q2304.52 1212.93 2301.44 1208.35 Q2298.39 1203.74 2298.39 1195.01 Q2298.39 1186.26 2301.44 1181.68 Q2304.52 1177.07 2310.33 1177.07 Z\" fill=\"#000000\" fill-rule=\"evenodd\" fill-opacity=\"1\" /><path clip-path=\"url(#clip580)\" d=\"M2268.76 1033.78 L2290.98 1033.78 L2290.98 1035.77 L2278.43 1068.34 L2273.55 1068.34 L2285.35 1037.71 L2268.76 1037.71 L2268.76 1033.78 Z\" fill=\"#000000\" fill-rule=\"evenodd\" fill-opacity=\"1\" /><path clip-path=\"url(#clip580)\" d=\"M2300.14 1033.78 L2318.5 1033.78 L2318.5 1037.71 L2304.43 1037.71 L2304.43 1046.19 Q2305.45 1045.84 2306.46 1045.68 Q2307.48 1045.49 2308.5 1045.49 Q2314.29 1045.49 2317.67 1048.66 Q2321.05 1051.83 2321.05 1057.25 Q2321.05 1062.83 2317.58 1065.93 Q2314.1 1069.01 2307.78 1069.01 Q2305.61 1069.01 2303.34 1068.64 Q2301.09 1068.27 2298.69 1067.53 L2298.69 1062.83 Q2300.77 1063.96 2302.99 1064.52 Q2305.21 1065.07 2307.69 1065.07 Q2311.7 1065.07 2314.03 1062.97 Q2316.37 1060.86 2316.37 1057.25 Q2316.37 1053.64 2314.03 1051.53 Q2311.7 1049.43 2307.69 1049.43 Q2305.82 1049.43 2303.94 1049.84 Q2302.09 1050.26 2300.14 1051.14 L2300.14 1033.78 Z\" fill=\"#000000\" fill-rule=\"evenodd\" fill-opacity=\"1\" /><path clip-path=\"url(#clip580)\" d=\"M2269.43 920.482 L2277.07 920.482 L2277.07 894.117 L2268.76 895.783 L2268.76 891.524 L2277.02 889.858 L2281.7 889.858 L2281.7 920.482 L2289.33 920.482 L2289.33 924.418 L2269.43 924.418 L2269.43 920.482 Z\" fill=\"#000000\" fill-rule=\"evenodd\" fill-opacity=\"1\" /><path clip-path=\"url(#clip580)\" d=\"M2308.78 892.936 Q2305.17 892.936 2303.34 896.501 Q2301.53 900.043 2301.53 907.172 Q2301.53 914.279 2303.34 917.844 Q2305.17 921.385 2308.78 921.385 Q2312.41 921.385 2314.22 917.844 Q2316.05 914.279 2316.05 907.172 Q2316.05 900.043 2314.22 896.501 Q2312.41 892.936 2308.78 892.936 M2308.78 889.233 Q2314.59 889.233 2317.64 893.839 Q2320.72 898.422 2320.72 907.172 Q2320.72 915.899 2317.64 920.506 Q2314.59 925.089 2308.78 925.089 Q2302.97 925.089 2299.89 920.506 Q2296.83 915.899 2296.83 907.172 Q2296.83 898.422 2299.89 893.839 Q2302.97 889.233 2308.78 889.233 Z\" fill=\"#000000\" fill-rule=\"evenodd\" fill-opacity=\"1\" /><path clip-path=\"url(#clip580)\" d=\"M2338.94 892.936 Q2335.33 892.936 2333.5 896.501 Q2331.7 900.043 2331.7 907.172 Q2331.7 914.279 2333.5 917.844 Q2335.33 921.385 2338.94 921.385 Q2342.57 921.385 2344.38 917.844 Q2346.21 914.279 2346.21 907.172 Q2346.21 900.043 2344.38 896.501 Q2342.57 892.936 2338.94 892.936 M2338.94 889.233 Q2344.75 889.233 2347.81 893.839 Q2350.89 898.422 2350.89 907.172 Q2350.89 915.899 2347.81 920.506 Q2344.75 925.089 2338.94 925.089 Q2333.13 925.089 2330.05 920.506 Q2327 915.899 2327 907.172 Q2327 898.422 2330.05 893.839 Q2333.13 889.233 2338.94 889.233 Z\" fill=\"#000000\" fill-rule=\"evenodd\" fill-opacity=\"1\" /><path clip-path=\"url(#clip580)\" d=\"M2269.43 776.562 L2277.07 776.562 L2277.07 750.196 L2268.76 751.863 L2268.76 747.604 L2277.02 745.937 L2281.7 745.937 L2281.7 776.562 L2289.33 776.562 L2289.33 780.497 L2269.43 780.497 L2269.43 776.562 Z\" fill=\"#000000\" fill-rule=\"evenodd\" fill-opacity=\"1\" /><path clip-path=\"url(#clip580)\" d=\"M2302.81 776.562 L2319.13 776.562 L2319.13 780.497 L2297.18 780.497 L2297.18 776.562 Q2299.84 773.807 2304.43 769.178 Q2309.03 764.525 2310.21 763.182 Q2312.46 760.659 2313.34 758.923 Q2314.24 757.164 2314.24 755.474 Q2314.24 752.72 2312.3 750.983 Q2310.38 749.247 2307.27 749.247 Q2305.08 749.247 2302.62 750.011 Q2300.19 750.775 2297.41 752.326 L2297.41 747.604 Q2300.24 746.47 2302.69 745.891 Q2305.14 745.312 2307.18 745.312 Q2312.55 745.312 2315.75 747.997 Q2318.94 750.683 2318.94 755.173 Q2318.94 757.303 2318.13 759.224 Q2317.34 761.122 2315.24 763.715 Q2314.66 764.386 2311.56 767.604 Q2308.45 770.798 2302.81 776.562 Z\" fill=\"#000000\" fill-rule=\"evenodd\" fill-opacity=\"1\" /><path clip-path=\"url(#clip580)\" d=\"M2328.99 745.937 L2347.34 745.937 L2347.34 749.872 L2333.27 749.872 L2333.27 758.345 Q2334.29 757.997 2335.31 757.835 Q2336.32 757.65 2337.34 757.65 Q2343.13 757.65 2346.51 760.821 Q2349.89 763.993 2349.89 769.409 Q2349.89 774.988 2346.42 778.09 Q2342.95 781.168 2336.63 781.168 Q2334.45 781.168 2332.18 780.798 Q2329.94 780.428 2327.53 779.687 L2327.53 774.988 Q2329.61 776.122 2331.83 776.678 Q2334.06 777.233 2336.53 777.233 Q2340.54 777.233 2342.88 775.127 Q2345.21 773.02 2345.21 769.409 Q2345.21 765.798 2342.88 763.692 Q2340.54 761.585 2336.53 761.585 Q2334.66 761.585 2332.78 762.002 Q2330.93 762.419 2328.99 763.298 L2328.99 745.937 Z\" fill=\"#000000\" fill-rule=\"evenodd\" fill-opacity=\"1\" /><path clip-path=\"url(#clip580)\" d=\"M2269.43 632.642 L2277.07 632.642 L2277.07 606.276 L2268.76 607.943 L2268.76 603.683 L2277.02 602.017 L2281.7 602.017 L2281.7 632.642 L2289.33 632.642 L2289.33 636.577 L2269.43 636.577 L2269.43 632.642 Z\" fill=\"#000000\" fill-rule=\"evenodd\" fill-opacity=\"1\" /><path clip-path=\"url(#clip580)\" d=\"M2298.83 602.017 L2317.18 602.017 L2317.18 605.952 L2303.11 605.952 L2303.11 614.424 Q2304.13 614.077 2305.14 613.915 Q2306.16 613.73 2307.18 613.73 Q2312.97 613.73 2316.35 616.901 Q2319.73 620.072 2319.73 625.489 Q2319.73 631.068 2316.26 634.169 Q2312.78 637.248 2306.46 637.248 Q2304.29 637.248 2302.02 636.878 Q2299.77 636.507 2297.37 635.767 L2297.37 631.068 Q2299.45 632.202 2301.67 632.757 Q2303.89 633.313 2306.37 633.313 Q2310.38 633.313 2312.71 631.206 Q2315.05 629.1 2315.05 625.489 Q2315.05 621.878 2312.71 619.771 Q2310.38 617.665 2306.37 617.665 Q2304.5 617.665 2302.62 618.082 Q2300.77 618.498 2298.83 619.378 L2298.83 602.017 Z\" fill=\"#000000\" fill-rule=\"evenodd\" fill-opacity=\"1\" /><path clip-path=\"url(#clip580)\" d=\"M2338.94 605.095 Q2335.33 605.095 2333.5 608.66 Q2331.7 612.202 2331.7 619.332 Q2331.7 626.438 2333.5 630.003 Q2335.33 633.544 2338.94 633.544 Q2342.57 633.544 2344.38 630.003 Q2346.21 626.438 2346.21 619.332 Q2346.21 612.202 2344.38 608.66 Q2342.57 605.095 2338.94 605.095 M2338.94 601.392 Q2344.75 601.392 2347.81 605.998 Q2350.89 610.582 2350.89 619.332 Q2350.89 628.058 2347.81 632.665 Q2344.75 637.248 2338.94 637.248 Q2333.13 637.248 2330.05 632.665 Q2327 628.058 2327 619.332 Q2327 610.582 2330.05 605.998 Q2333.13 601.392 2338.94 601.392 Z\" fill=\"#000000\" fill-rule=\"evenodd\" fill-opacity=\"1\" /><path clip-path=\"url(#clip580)\" d=\"M2269.43 488.721 L2277.07 488.721 L2277.07 462.356 L2268.76 464.022 L2268.76 459.763 L2277.02 458.096 L2281.7 458.096 L2281.7 488.721 L2289.33 488.721 L2289.33 492.656 L2269.43 492.656 L2269.43 488.721 Z\" fill=\"#000000\" fill-rule=\"evenodd\" fill-opacity=\"1\" /><path clip-path=\"url(#clip580)\" d=\"M2297.6 458.096 L2319.82 458.096 L2319.82 460.087 L2307.27 492.656 L2302.39 492.656 L2314.2 462.032 L2297.6 462.032 L2297.6 458.096 Z\" fill=\"#000000\" fill-rule=\"evenodd\" fill-opacity=\"1\" /><path clip-path=\"url(#clip580)\" d=\"M2328.99 458.096 L2347.34 458.096 L2347.34 462.032 L2333.27 462.032 L2333.27 470.504 Q2334.29 470.157 2335.31 469.995 Q2336.32 469.809 2337.34 469.809 Q2343.13 469.809 2346.51 472.981 Q2349.89 476.152 2349.89 481.569 Q2349.89 487.147 2346.42 490.249 Q2342.95 493.328 2336.63 493.328 Q2334.45 493.328 2332.18 492.957 Q2329.94 492.587 2327.53 491.846 L2327.53 487.147 Q2329.61 488.281 2331.83 488.837 Q2334.06 489.393 2336.53 489.393 Q2340.54 489.393 2342.88 487.286 Q2345.21 485.18 2345.21 481.569 Q2345.21 477.957 2342.88 475.851 Q2340.54 473.744 2336.53 473.744 Q2334.66 473.744 2332.78 474.161 Q2330.93 474.578 2328.99 475.457 L2328.99 458.096 Z\" fill=\"#000000\" fill-rule=\"evenodd\" fill-opacity=\"1\" /><path clip-path=\"url(#clip580)\" d=\"M2274.38 344.801 L2290.7 344.801 L2290.7 348.736 L2268.76 348.736 L2268.76 344.801 Q2271.42 342.046 2276 337.417 Q2280.61 332.764 2281.79 331.421 Q2284.03 328.898 2284.91 327.162 Q2285.82 325.403 2285.82 323.713 Q2285.82 320.958 2283.87 319.222 Q2281.95 317.486 2278.85 317.486 Q2276.65 317.486 2274.2 318.25 Q2271.77 319.014 2268.99 320.565 L2268.99 315.843 Q2271.81 314.708 2274.27 314.13 Q2276.72 313.551 2278.76 313.551 Q2284.13 313.551 2287.32 316.236 Q2290.52 318.921 2290.52 323.412 Q2290.52 325.542 2289.7 327.463 Q2288.92 329.361 2286.81 331.954 Q2286.23 332.625 2283.13 335.843 Q2280.03 339.037 2274.38 344.801 Z\" fill=\"#000000\" fill-rule=\"evenodd\" fill-opacity=\"1\" /><path clip-path=\"url(#clip580)\" d=\"M2310.51 317.255 Q2306.9 317.255 2305.08 320.82 Q2303.27 324.361 2303.27 331.491 Q2303.27 338.597 2305.08 342.162 Q2306.9 345.704 2310.51 345.704 Q2314.15 345.704 2315.95 342.162 Q2317.78 338.597 2317.78 331.491 Q2317.78 324.361 2315.95 320.82 Q2314.15 317.255 2310.51 317.255 M2310.51 313.551 Q2316.33 313.551 2319.38 318.158 Q2322.46 322.741 2322.46 331.491 Q2322.46 340.218 2319.38 344.824 Q2316.33 349.407 2310.51 349.407 Q2304.7 349.407 2301.63 344.824 Q2298.57 340.218 2298.57 331.491 Q2298.57 322.741 2301.63 318.158 Q2304.7 313.551 2310.51 313.551 Z\" fill=\"#000000\" fill-rule=\"evenodd\" fill-opacity=\"1\" /><path clip-path=\"url(#clip580)\" d=\"M2340.68 317.255 Q2337.07 317.255 2335.24 320.82 Q2333.43 324.361 2333.43 331.491 Q2333.43 338.597 2335.24 342.162 Q2337.07 345.704 2340.68 345.704 Q2344.31 345.704 2346.12 342.162 Q2347.95 338.597 2347.95 331.491 Q2347.95 324.361 2346.12 320.82 Q2344.31 317.255 2340.68 317.255 M2340.68 313.551 Q2346.49 313.551 2349.54 318.158 Q2352.62 322.741 2352.62 331.491 Q2352.62 340.218 2349.54 344.824 Q2346.49 349.407 2340.68 349.407 Q2334.87 349.407 2331.79 344.824 Q2328.73 340.218 2328.73 331.491 Q2328.73 322.741 2331.79 318.158 Q2334.87 313.551 2340.68 313.551 Z\" fill=\"#000000\" fill-rule=\"evenodd\" fill-opacity=\"1\" /><path clip-path=\"url(#clip580)\" d=\"M2274.38 200.881 L2290.7 200.881 L2290.7 204.816 L2268.76 204.816 L2268.76 200.881 Q2271.42 198.126 2276 193.496 Q2280.61 188.844 2281.79 187.501 Q2284.03 184.978 2284.91 183.242 Q2285.82 181.482 2285.82 179.793 Q2285.82 177.038 2283.87 175.302 Q2281.95 173.566 2278.85 173.566 Q2276.65 173.566 2274.2 174.33 Q2271.77 175.094 2268.99 176.645 L2268.99 171.922 Q2271.81 170.788 2274.27 170.209 Q2276.72 169.631 2278.76 169.631 Q2284.13 169.631 2287.32 172.316 Q2290.52 175.001 2290.52 179.492 Q2290.52 181.621 2289.7 183.543 Q2288.92 185.441 2286.81 188.033 Q2286.23 188.705 2283.13 191.922 Q2280.03 195.117 2274.38 200.881 Z\" fill=\"#000000\" fill-rule=\"evenodd\" fill-opacity=\"1\" /><path clip-path=\"url(#clip580)\" d=\"M2304.54 200.881 L2320.86 200.881 L2320.86 204.816 L2298.92 204.816 L2298.92 200.881 Q2301.58 198.126 2306.16 193.496 Q2310.77 188.844 2311.95 187.501 Q2314.2 184.978 2315.08 183.242 Q2315.98 181.482 2315.98 179.793 Q2315.98 177.038 2314.03 175.302 Q2312.11 173.566 2309.01 173.566 Q2306.81 173.566 2304.36 174.33 Q2301.93 175.094 2299.15 176.645 L2299.15 171.922 Q2301.97 170.788 2304.43 170.209 Q2306.88 169.631 2308.92 169.631 Q2314.29 169.631 2317.48 172.316 Q2320.68 175.001 2320.68 179.492 Q2320.68 181.621 2319.87 183.543 Q2319.08 185.441 2316.97 188.033 Q2316.39 188.705 2313.29 191.922 Q2310.19 195.117 2304.54 200.881 Z\" fill=\"#000000\" fill-rule=\"evenodd\" fill-opacity=\"1\" /><path clip-path=\"url(#clip580)\" d=\"M2330.72 170.256 L2349.08 170.256 L2349.08 174.191 L2335.01 174.191 L2335.01 182.663 Q2336.02 182.316 2337.04 182.154 Q2338.06 181.969 2339.08 181.969 Q2344.87 181.969 2348.25 185.14 Q2351.63 188.311 2351.63 193.728 Q2351.63 199.306 2348.15 202.408 Q2344.68 205.487 2338.36 205.487 Q2336.19 205.487 2333.92 205.117 Q2331.67 204.746 2329.26 204.005 L2329.26 199.306 Q2331.35 200.441 2333.57 200.996 Q2335.79 201.552 2338.27 201.552 Q2342.27 201.552 2344.61 199.445 Q2346.95 197.339 2346.95 193.728 Q2346.95 190.117 2344.61 188.01 Q2342.27 185.904 2338.27 185.904 Q2336.39 185.904 2334.52 186.32 Q2332.67 186.737 2330.72 187.617 L2330.72 170.256 Z\" fill=\"#000000\" fill-rule=\"evenodd\" fill-opacity=\"1\" /><path clip-path=\"url(#clip580)\" d=\"M2274.38 56.9601 L2290.7 56.9601 L2290.7 60.8953 L2268.76 60.8953 L2268.76 56.9601 Q2271.42 54.2055 2276 49.5759 Q2280.61 44.9232 2281.79 43.5806 Q2284.03 41.0574 2284.91 39.3213 Q2285.82 37.5621 2285.82 35.8723 Q2285.82 33.1177 2283.87 31.3816 Q2281.95 29.6455 2278.85 29.6455 Q2276.65 29.6455 2274.2 30.4093 Q2271.77 31.1732 2268.99 32.7241 L2268.99 28.002 Q2271.81 26.8677 2274.27 26.289 Q2276.72 25.7103 2278.76 25.7103 Q2284.13 25.7103 2287.32 28.3955 Q2290.52 31.0806 2290.52 35.5714 Q2290.52 37.701 2289.7 39.6223 Q2288.92 41.5204 2286.81 44.113 Q2286.23 44.7843 2283.13 48.0018 Q2280.03 51.1963 2274.38 56.9601 Z\" fill=\"#000000\" fill-rule=\"evenodd\" fill-opacity=\"1\" /><path clip-path=\"url(#clip580)\" d=\"M2300.56 26.3353 L2318.92 26.3353 L2318.92 30.2705 L2304.84 30.2705 L2304.84 38.7426 Q2305.86 38.3954 2306.88 38.2334 Q2307.9 38.0482 2308.92 38.0482 Q2314.7 38.0482 2318.08 41.2195 Q2321.46 44.3908 2321.46 49.8074 Q2321.46 55.3861 2317.99 58.4879 Q2314.52 61.5666 2308.2 61.5666 Q2306.02 61.5666 2303.76 61.1962 Q2301.51 60.8259 2299.1 60.0851 L2299.1 55.3861 Q2301.19 56.5203 2303.41 57.0759 Q2305.63 57.6314 2308.11 57.6314 Q2312.11 57.6314 2314.45 55.525 Q2316.79 53.4185 2316.79 49.8074 Q2316.79 46.1963 2314.45 44.0898 Q2312.11 41.9834 2308.11 41.9834 Q2306.23 41.9834 2304.36 42.4 Q2302.51 42.8167 2300.56 43.6963 L2300.56 26.3353 Z\" fill=\"#000000\" fill-rule=\"evenodd\" fill-opacity=\"1\" /><path clip-path=\"url(#clip580)\" d=\"M2340.68 29.414 Q2337.07 29.414 2335.24 32.9788 Q2333.43 36.5204 2333.43 43.65 Q2333.43 50.7565 2335.24 54.3213 Q2337.07 57.8629 2340.68 57.8629 Q2344.31 57.8629 2346.12 54.3213 Q2347.95 50.7565 2347.95 43.65 Q2347.95 36.5204 2346.12 32.9788 Q2344.31 29.414 2340.68 29.414 M2340.68 25.7103 Q2346.49 25.7103 2349.54 30.3168 Q2352.62 34.9001 2352.62 43.65 Q2352.62 52.3768 2349.54 56.9833 Q2346.49 61.5666 2340.68 61.5666 Q2334.87 61.5666 2331.79 56.9833 Q2328.73 52.3768 2328.73 43.65 Q2328.73 34.9001 2331.79 30.3168 Q2334.87 25.7103 2340.68 25.7103 Z\" fill=\"#000000\" fill-rule=\"evenodd\" fill-opacity=\"1\" /><polyline clip-path=\"url(#clip580)\" style=\"stroke:#000000; stroke-linecap:butt; stroke-linejoin:round; stroke-width:4; stroke-opacity:1; fill:none\" points=\"\n",
       "  2232.76,1486.45 2232.76,1486.45 2256.76,1486.45 2232.76,1486.45 2232.76,1342.53 2256.76,1342.53 2232.76,1342.53 2232.76,1198.61 2256.76,1198.61 2232.76,1198.61 \n",
       "  2232.76,1054.69 2256.76,1054.69 2232.76,1054.69 2232.76,910.766 2256.76,910.766 2232.76,910.766 2232.76,766.846 2256.76,766.846 2232.76,766.846 2232.76,622.926 \n",
       "  2256.76,622.926 2232.76,622.926 2232.76,479.005 2256.76,479.005 2232.76,479.005 2232.76,335.085 2256.76,335.085 2232.76,335.085 2232.76,191.164 2256.76,191.164 \n",
       "  2232.76,191.164 2232.76,47.2441 2256.76,47.2441 2232.76,47.2441 \n",
       "  \"/>\n",
       "</svg>\n"
      ]
     },
     "execution_count": 6,
     "metadata": {},
     "output_type": "execute_result"
    }
   ],
   "source": [
    "heatmap(T₁, clim=(0, maximum(T₀)))"
   ]
  },
  {
   "cell_type": "code",
   "execution_count": 7,
   "id": "01f20923",
   "metadata": {},
   "outputs": [
    {
     "data": {
      "text/plain": [
       "0.16311579618178718"
      ]
     },
     "execution_count": 7,
     "metadata": {},
     "output_type": "execute_result"
    }
   ],
   "source": [
    "sqrt( sum((T₁.-T₀).^2) / (nx * ny) )"
   ]
  },
  {
   "cell_type": "markdown",
   "id": "33522c00",
   "metadata": {},
   "source": [
    "## Automatic differentiation on the heat equation with respect to D\n",
    "\n",
    "We perform automatic differentiation on the 2D PDE with respect to the diffusivity (D) in order to optimize it."
   ]
  },
  {
   "cell_type": "code",
   "execution_count": 8,
   "id": "c7419188",
   "metadata": {},
   "outputs": [
    {
     "data": {
      "text/plain": [
       "loss (generic function with 1 method)"
      ]
     },
     "execution_count": 8,
     "metadata": {},
     "output_type": "execute_result"
    }
   ],
   "source": [
    "function loss(T, θ, p)\n",
    "    uD = θ[1] \n",
    "    T = heatflow(T, uD, p)\n",
    "    l_H = sqrt(Flux.Losses.mse(T, T₁; agg=mean))\n",
    "    return l_H\n",
    "end"
   ]
  },
  {
   "cell_type": "markdown",
   "id": "0151a12a",
   "metadata": {},
   "source": [
    "We can easily evaluate the loss function and its gradient with respect to $D$ using `Zygote`"
   ]
  },
  {
   "cell_type": "code",
   "execution_count": 9,
   "id": "6efe9e89",
   "metadata": {},
   "outputs": [
    {
     "data": {
      "text/plain": [
       "(2.9749888654073713, Zygote.var\"#41#42\"{typeof(∂(#20))}(∂(#20)))"
      ]
     },
     "execution_count": 9,
     "metadata": {},
     "output_type": "execute_result"
    }
   ],
   "source": [
    "T = copy(T₀)\n",
    "\n",
    "loss_uD, back_uD = Zygote.pullback(D -> loss(T, [D], p), 100)"
   ]
  },
  {
   "cell_type": "markdown",
   "id": "f71db88e",
   "metadata": {},
   "source": [
    "We test different D values in order to observe how the loss and the backpropagated gradients change."
   ]
  },
  {
   "cell_type": "code",
   "execution_count": 10,
   "id": "1898463d",
   "metadata": {},
   "outputs": [],
   "source": [
    "all_D = LinRange(D₀/2, 2D₀, 100)\n",
    "all_loss = zeros(0)\n",
    "all_grad = zeros(0)\n",
    "\n",
    "for d in all_D\n",
    "    \n",
    "    T = T₀\n",
    "    loss_uD, back_uD = Zygote.pullback(D -> loss(T, D, p), d)\n",
    "    \n",
    "    # println(d)\n",
    "    # println(loss_uD, back_uD(1))\n",
    "    \n",
    "    append!(all_loss, loss_uD)\n",
    "    append!(all_grad, back_uD(1)[1])\n",
    "end"
   ]
  },
  {
   "cell_type": "code",
   "execution_count": 11,
   "id": "ce860e66",
   "metadata": {},
   "outputs": [
    {
     "data": {
      "image/svg+xml": [
       "<?xml version=\"1.0\" encoding=\"utf-8\"?>\n",
       "<svg xmlns=\"http://www.w3.org/2000/svg\" xmlns:xlink=\"http://www.w3.org/1999/xlink\" width=\"600\" height=\"400\" viewBox=\"0 0 2400 1600\">\n",
       "<defs>\n",
       "  <clipPath id=\"clip620\">\n",
       "    <rect x=\"0\" y=\"0\" width=\"2400\" height=\"1600\"/>\n",
       "  </clipPath>\n",
       "</defs>\n",
       "<path clip-path=\"url(#clip620)\" d=\"\n",
       "M0 1600 L2400 1600 L2400 0 L0 0  Z\n",
       "  \" fill=\"#ffffff\" fill-rule=\"evenodd\" fill-opacity=\"1\"/>\n",
       "<defs>\n",
       "  <clipPath id=\"clip621\">\n",
       "    <rect x=\"480\" y=\"0\" width=\"1681\" height=\"1600\"/>\n",
       "  </clipPath>\n",
       "</defs>\n",
       "<path clip-path=\"url(#clip620)\" d=\"\n",
       "M186.274 1486.45 L2352.76 1486.45 L2352.76 47.2441 L186.274 47.2441  Z\n",
       "  \" fill=\"#ffffff\" fill-rule=\"evenodd\" fill-opacity=\"1\"/>\n",
       "<defs>\n",
       "  <clipPath id=\"clip622\">\n",
       "    <rect x=\"186\" y=\"47\" width=\"2167\" height=\"1440\"/>\n",
       "  </clipPath>\n",
       "</defs>\n",
       "<polyline clip-path=\"url(#clip622)\" style=\"stroke:#000000; stroke-linecap:butt; stroke-linejoin:round; stroke-width:2; stroke-opacity:0.1; fill:none\" points=\"\n",
       "  383.846,1486.45 383.846,47.2441 \n",
       "  \"/>\n",
       "<polyline clip-path=\"url(#clip622)\" style=\"stroke:#000000; stroke-linecap:butt; stroke-linejoin:round; stroke-width:2; stroke-opacity:0.1; fill:none\" points=\"\n",
       "  792.616,1486.45 792.616,47.2441 \n",
       "  \"/>\n",
       "<polyline clip-path=\"url(#clip622)\" style=\"stroke:#000000; stroke-linecap:butt; stroke-linejoin:round; stroke-width:2; stroke-opacity:0.1; fill:none\" points=\"\n",
       "  1201.39,1486.45 1201.39,47.2441 \n",
       "  \"/>\n",
       "<polyline clip-path=\"url(#clip622)\" style=\"stroke:#000000; stroke-linecap:butt; stroke-linejoin:round; stroke-width:2; stroke-opacity:0.1; fill:none\" points=\"\n",
       "  1610.16,1486.45 1610.16,47.2441 \n",
       "  \"/>\n",
       "<polyline clip-path=\"url(#clip622)\" style=\"stroke:#000000; stroke-linecap:butt; stroke-linejoin:round; stroke-width:2; stroke-opacity:0.1; fill:none\" points=\"\n",
       "  2018.93,1486.45 2018.93,47.2441 \n",
       "  \"/>\n",
       "<polyline clip-path=\"url(#clip620)\" style=\"stroke:#000000; stroke-linecap:butt; stroke-linejoin:round; stroke-width:4; stroke-opacity:1; fill:none\" points=\"\n",
       "  186.274,1486.45 2352.76,1486.45 \n",
       "  \"/>\n",
       "<polyline clip-path=\"url(#clip620)\" style=\"stroke:#000000; stroke-linecap:butt; stroke-linejoin:round; stroke-width:4; stroke-opacity:1; fill:none\" points=\"\n",
       "  383.846,1486.45 383.846,1469.18 \n",
       "  \"/>\n",
       "<polyline clip-path=\"url(#clip620)\" style=\"stroke:#000000; stroke-linecap:butt; stroke-linejoin:round; stroke-width:4; stroke-opacity:1; fill:none\" points=\"\n",
       "  792.616,1486.45 792.616,1469.18 \n",
       "  \"/>\n",
       "<polyline clip-path=\"url(#clip620)\" style=\"stroke:#000000; stroke-linecap:butt; stroke-linejoin:round; stroke-width:4; stroke-opacity:1; fill:none\" points=\"\n",
       "  1201.39,1486.45 1201.39,1469.18 \n",
       "  \"/>\n",
       "<polyline clip-path=\"url(#clip620)\" style=\"stroke:#000000; stroke-linecap:butt; stroke-linejoin:round; stroke-width:4; stroke-opacity:1; fill:none\" points=\"\n",
       "  1610.16,1486.45 1610.16,1469.18 \n",
       "  \"/>\n",
       "<polyline clip-path=\"url(#clip620)\" style=\"stroke:#000000; stroke-linecap:butt; stroke-linejoin:round; stroke-width:4; stroke-opacity:1; fill:none\" points=\"\n",
       "  2018.93,1486.45 2018.93,1469.18 \n",
       "  \"/>\n",
       "<path clip-path=\"url(#clip620)\" d=\"M361.15 1515.64 Q357.539 1515.64 355.71 1519.2 Q353.904 1522.75 353.904 1529.87 Q353.904 1536.98 355.71 1540.55 Q357.539 1544.09 361.15 1544.09 Q364.784 1544.09 366.589 1540.55 Q368.418 1536.98 368.418 1529.87 Q368.418 1522.75 366.589 1519.2 Q364.784 1515.64 361.15 1515.64 M361.15 1511.93 Q366.96 1511.93 370.015 1516.54 Q373.094 1521.12 373.094 1529.87 Q373.094 1538.6 370.015 1543.21 Q366.96 1547.79 361.15 1547.79 Q355.339 1547.79 352.261 1543.21 Q349.205 1538.6 349.205 1529.87 Q349.205 1521.12 352.261 1516.54 Q355.339 1511.93 361.15 1511.93 Z\" fill=\"#000000\" fill-rule=\"evenodd\" fill-opacity=\"1\" /><path clip-path=\"url(#clip620)\" d=\"M381.312 1541.24 L386.196 1541.24 L386.196 1547.12 L381.312 1547.12 L381.312 1541.24 Z\" fill=\"#000000\" fill-rule=\"evenodd\" fill-opacity=\"1\" /><path clip-path=\"url(#clip620)\" d=\"M406.96 1527.98 Q403.811 1527.98 401.96 1530.13 Q400.131 1532.28 400.131 1536.03 Q400.131 1539.76 401.96 1541.93 Q403.811 1544.09 406.96 1544.09 Q410.108 1544.09 411.936 1541.93 Q413.788 1539.76 413.788 1536.03 Q413.788 1532.28 411.936 1530.13 Q410.108 1527.98 406.96 1527.98 M416.242 1513.32 L416.242 1517.58 Q414.483 1516.75 412.677 1516.31 Q410.895 1515.87 409.135 1515.87 Q404.506 1515.87 402.052 1519 Q399.622 1522.12 399.274 1528.44 Q400.64 1526.43 402.7 1525.36 Q404.76 1524.27 407.237 1524.27 Q412.446 1524.27 415.455 1527.44 Q418.487 1530.59 418.487 1536.03 Q418.487 1541.36 415.339 1544.57 Q412.191 1547.79 406.96 1547.79 Q400.964 1547.79 397.793 1543.21 Q394.622 1538.6 394.622 1529.87 Q394.622 1521.68 398.511 1516.82 Q402.399 1511.93 408.95 1511.93 Q410.71 1511.93 412.492 1512.28 Q414.297 1512.63 416.242 1513.32 Z\" fill=\"#000000\" fill-rule=\"evenodd\" fill-opacity=\"1\" /><path clip-path=\"url(#clip620)\" d=\"M770.093 1515.64 Q766.482 1515.64 764.654 1519.2 Q762.848 1522.75 762.848 1529.87 Q762.848 1536.98 764.654 1540.55 Q766.482 1544.09 770.093 1544.09 Q773.728 1544.09 775.533 1540.55 Q777.362 1536.98 777.362 1529.87 Q777.362 1522.75 775.533 1519.2 Q773.728 1515.64 770.093 1515.64 M770.093 1511.93 Q775.904 1511.93 778.959 1516.54 Q782.038 1521.12 782.038 1529.87 Q782.038 1538.6 778.959 1543.21 Q775.904 1547.79 770.093 1547.79 Q764.283 1547.79 761.205 1543.21 Q758.149 1538.6 758.149 1529.87 Q758.149 1521.12 761.205 1516.54 Q764.283 1511.93 770.093 1511.93 Z\" fill=\"#000000\" fill-rule=\"evenodd\" fill-opacity=\"1\" /><path clip-path=\"url(#clip620)\" d=\"M790.255 1541.24 L795.14 1541.24 L795.14 1547.12 L790.255 1547.12 L790.255 1541.24 Z\" fill=\"#000000\" fill-rule=\"evenodd\" fill-opacity=\"1\" /><path clip-path=\"url(#clip620)\" d=\"M805.464 1546.4 L805.464 1542.14 Q807.223 1542.98 809.028 1543.42 Q810.834 1543.86 812.57 1543.86 Q817.2 1543.86 819.63 1540.75 Q822.084 1537.63 822.431 1531.29 Q821.088 1533.28 819.028 1534.34 Q816.968 1535.41 814.468 1535.41 Q809.283 1535.41 806.251 1532.28 Q803.241 1529.13 803.241 1523.69 Q803.241 1518.37 806.389 1515.15 Q809.538 1511.93 814.769 1511.93 Q820.764 1511.93 823.913 1516.54 Q827.084 1521.12 827.084 1529.87 Q827.084 1538.05 823.195 1542.93 Q819.329 1547.79 812.778 1547.79 Q811.019 1547.79 809.214 1547.44 Q807.408 1547.1 805.464 1546.4 M814.769 1531.75 Q817.917 1531.75 819.746 1529.6 Q821.598 1527.44 821.598 1523.69 Q821.598 1519.97 819.746 1517.81 Q817.917 1515.64 814.769 1515.64 Q811.621 1515.64 809.769 1517.81 Q807.94 1519.97 807.94 1523.69 Q807.94 1527.44 809.769 1529.6 Q811.621 1531.75 814.769 1531.75 Z\" fill=\"#000000\" fill-rule=\"evenodd\" fill-opacity=\"1\" /><path clip-path=\"url(#clip620)\" d=\"M1169.34 1543.18 L1176.98 1543.18 L1176.98 1516.82 L1168.67 1518.49 L1168.67 1514.23 L1176.93 1512.56 L1181.61 1512.56 L1181.61 1543.18 L1189.25 1543.18 L1189.25 1547.12 L1169.34 1547.12 L1169.34 1543.18 Z\" fill=\"#000000\" fill-rule=\"evenodd\" fill-opacity=\"1\" /><path clip-path=\"url(#clip620)\" d=\"M1198.69 1541.24 L1203.57 1541.24 L1203.57 1547.12 L1198.69 1547.12 L1198.69 1541.24 Z\" fill=\"#000000\" fill-rule=\"evenodd\" fill-opacity=\"1\" /><path clip-path=\"url(#clip620)\" d=\"M1217.79 1543.18 L1234.11 1543.18 L1234.11 1547.12 L1212.16 1547.12 L1212.16 1543.18 Q1214.82 1540.43 1219.41 1535.8 Q1224.01 1531.15 1225.19 1529.81 Q1227.44 1527.28 1228.32 1525.55 Q1229.22 1523.79 1229.22 1522.1 Q1229.22 1519.34 1227.28 1517.61 Q1225.36 1515.87 1222.25 1515.87 Q1220.06 1515.87 1217.6 1516.63 Q1215.17 1517.4 1212.39 1518.95 L1212.39 1514.23 Q1215.22 1513.09 1217.67 1512.51 Q1220.12 1511.93 1222.16 1511.93 Q1227.53 1511.93 1230.73 1514.62 Q1233.92 1517.31 1233.92 1521.8 Q1233.92 1523.93 1233.11 1525.85 Q1232.32 1527.74 1230.22 1530.34 Q1229.64 1531.01 1226.54 1534.23 Q1223.44 1537.42 1217.79 1543.18 Z\" fill=\"#000000\" fill-rule=\"evenodd\" fill-opacity=\"1\" /><path clip-path=\"url(#clip620)\" d=\"M1577.81 1543.18 L1585.45 1543.18 L1585.45 1516.82 L1577.14 1518.49 L1577.14 1514.23 L1585.4 1512.56 L1590.08 1512.56 L1590.08 1543.18 L1597.71 1543.18 L1597.71 1547.12 L1577.81 1547.12 L1577.81 1543.18 Z\" fill=\"#000000\" fill-rule=\"evenodd\" fill-opacity=\"1\" /><path clip-path=\"url(#clip620)\" d=\"M1607.16 1541.24 L1612.04 1541.24 L1612.04 1547.12 L1607.16 1547.12 L1607.16 1541.24 Z\" fill=\"#000000\" fill-rule=\"evenodd\" fill-opacity=\"1\" /><path clip-path=\"url(#clip620)\" d=\"M1622.27 1512.56 L1640.63 1512.56 L1640.63 1516.5 L1626.56 1516.5 L1626.56 1524.97 Q1627.58 1524.62 1628.59 1524.46 Q1629.61 1524.27 1630.63 1524.27 Q1636.42 1524.27 1639.8 1527.44 Q1643.18 1530.62 1643.18 1536.03 Q1643.18 1541.61 1639.71 1544.71 Q1636.23 1547.79 1629.91 1547.79 Q1627.74 1547.79 1625.47 1547.42 Q1623.22 1547.05 1620.82 1546.31 L1620.82 1541.61 Q1622.9 1542.74 1625.12 1543.3 Q1627.34 1543.86 1629.82 1543.86 Q1633.83 1543.86 1636.16 1541.75 Q1638.5 1539.64 1638.5 1536.03 Q1638.5 1532.42 1636.16 1530.31 Q1633.83 1528.21 1629.82 1528.21 Q1627.95 1528.21 1626.07 1528.62 Q1624.22 1529.04 1622.27 1529.92 L1622.27 1512.56 Z\" fill=\"#000000\" fill-rule=\"evenodd\" fill-opacity=\"1\" /><path clip-path=\"url(#clip620)\" d=\"M1986.13 1543.18 L1993.77 1543.18 L1993.77 1516.82 L1985.45 1518.49 L1985.45 1514.23 L1993.72 1512.56 L1998.39 1512.56 L1998.39 1543.18 L2006.03 1543.18 L2006.03 1547.12 L1986.13 1547.12 L1986.13 1543.18 Z\" fill=\"#000000\" fill-rule=\"evenodd\" fill-opacity=\"1\" /><path clip-path=\"url(#clip620)\" d=\"M2015.48 1541.24 L2020.36 1541.24 L2020.36 1547.12 L2015.48 1547.12 L2015.48 1541.24 Z\" fill=\"#000000\" fill-rule=\"evenodd\" fill-opacity=\"1\" /><path clip-path=\"url(#clip620)\" d=\"M2040.55 1530.71 Q2037.21 1530.71 2035.29 1532.49 Q2033.39 1534.27 2033.39 1537.4 Q2033.39 1540.52 2035.29 1542.31 Q2037.21 1544.09 2040.55 1544.09 Q2043.88 1544.09 2045.8 1542.31 Q2047.72 1540.5 2047.72 1537.4 Q2047.72 1534.27 2045.8 1532.49 Q2043.9 1530.71 2040.55 1530.71 M2035.87 1528.72 Q2032.86 1527.98 2031.17 1525.92 Q2029.51 1523.86 2029.51 1520.89 Q2029.51 1516.75 2032.45 1514.34 Q2035.41 1511.93 2040.55 1511.93 Q2045.71 1511.93 2048.65 1514.34 Q2051.59 1516.75 2051.59 1520.89 Q2051.59 1523.86 2049.9 1525.92 Q2048.23 1527.98 2045.25 1528.72 Q2048.63 1529.5 2050.5 1531.8 Q2052.4 1534.09 2052.4 1537.4 Q2052.4 1542.42 2049.32 1545.11 Q2046.26 1547.79 2040.55 1547.79 Q2034.83 1547.79 2031.75 1545.11 Q2028.7 1542.42 2028.7 1537.4 Q2028.7 1534.09 2030.59 1531.8 Q2032.49 1529.5 2035.87 1528.72 M2034.16 1521.33 Q2034.16 1524.02 2035.82 1525.52 Q2037.51 1527.03 2040.55 1527.03 Q2043.56 1527.03 2045.25 1525.52 Q2046.96 1524.02 2046.96 1521.33 Q2046.96 1518.65 2045.25 1517.14 Q2043.56 1515.64 2040.55 1515.64 Q2037.51 1515.64 2035.82 1517.14 Q2034.16 1518.65 2034.16 1521.33 Z\" fill=\"#000000\" fill-rule=\"evenodd\" fill-opacity=\"1\" /><polyline clip-path=\"url(#clip622)\" style=\"stroke:#000000; stroke-linecap:butt; stroke-linejoin:round; stroke-width:2; stroke-opacity:0.1; fill:none\" points=\"\n",
       "  186.274,1445.72 2352.76,1445.72 \n",
       "  \"/>\n",
       "<polyline clip-path=\"url(#clip622)\" style=\"stroke:#000000; stroke-linecap:butt; stroke-linejoin:round; stroke-width:2; stroke-opacity:0.1; fill:none\" points=\"\n",
       "  186.274,992.662 2352.76,992.662 \n",
       "  \"/>\n",
       "<polyline clip-path=\"url(#clip622)\" style=\"stroke:#000000; stroke-linecap:butt; stroke-linejoin:round; stroke-width:2; stroke-opacity:0.1; fill:none\" points=\"\n",
       "  186.274,539.608 2352.76,539.608 \n",
       "  \"/>\n",
       "<polyline clip-path=\"url(#clip622)\" style=\"stroke:#000000; stroke-linecap:butt; stroke-linejoin:round; stroke-width:2; stroke-opacity:0.1; fill:none\" points=\"\n",
       "  186.274,86.5541 2352.76,86.5541 \n",
       "  \"/>\n",
       "<polyline clip-path=\"url(#clip620)\" style=\"stroke:#000000; stroke-linecap:butt; stroke-linejoin:round; stroke-width:4; stroke-opacity:1; fill:none\" points=\"\n",
       "  186.274,1486.45 186.274,47.2441 \n",
       "  \"/>\n",
       "<polyline clip-path=\"url(#clip620)\" style=\"stroke:#000000; stroke-linecap:butt; stroke-linejoin:round; stroke-width:4; stroke-opacity:1; fill:none\" points=\"\n",
       "  186.274,1445.72 212.272,1445.72 \n",
       "  \"/>\n",
       "<polyline clip-path=\"url(#clip620)\" style=\"stroke:#000000; stroke-linecap:butt; stroke-linejoin:round; stroke-width:4; stroke-opacity:1; fill:none\" points=\"\n",
       "  186.274,992.662 212.272,992.662 \n",
       "  \"/>\n",
       "<polyline clip-path=\"url(#clip620)\" style=\"stroke:#000000; stroke-linecap:butt; stroke-linejoin:round; stroke-width:4; stroke-opacity:1; fill:none\" points=\"\n",
       "  186.274,539.608 212.272,539.608 \n",
       "  \"/>\n",
       "<polyline clip-path=\"url(#clip620)\" style=\"stroke:#000000; stroke-linecap:butt; stroke-linejoin:round; stroke-width:4; stroke-opacity:1; fill:none\" points=\"\n",
       "  186.274,86.5541 212.272,86.5541 \n",
       "  \"/>\n",
       "<path clip-path=\"url(#clip620)\" d=\"M62.9365 1431.51 Q59.3254 1431.51 57.4967 1435.08 Q55.6912 1438.62 55.6912 1445.75 Q55.6912 1452.86 57.4967 1456.42 Q59.3254 1459.96 62.9365 1459.96 Q66.5707 1459.96 68.3763 1456.42 Q70.205 1452.86 70.205 1445.75 Q70.205 1438.62 68.3763 1435.08 Q66.5707 1431.51 62.9365 1431.51 M62.9365 1427.81 Q68.7467 1427.81 71.8022 1432.42 Q74.8809 1437 74.8809 1445.75 Q74.8809 1454.48 71.8022 1459.08 Q68.7467 1463.67 62.9365 1463.67 Q57.1264 1463.67 54.0477 1459.08 Q50.9921 1454.48 50.9921 1445.75 Q50.9921 1437 54.0477 1432.42 Q57.1264 1427.81 62.9365 1427.81 Z\" fill=\"#000000\" fill-rule=\"evenodd\" fill-opacity=\"1\" /><path clip-path=\"url(#clip620)\" d=\"M83.0984 1457.12 L87.9827 1457.12 L87.9827 1463 L83.0984 1463 L83.0984 1457.12 Z\" fill=\"#000000\" fill-rule=\"evenodd\" fill-opacity=\"1\" /><path clip-path=\"url(#clip620)\" d=\"M108.168 1431.51 Q104.557 1431.51 102.728 1435.08 Q100.922 1438.62 100.922 1445.75 Q100.922 1452.86 102.728 1456.42 Q104.557 1459.96 108.168 1459.96 Q111.802 1459.96 113.608 1456.42 Q115.436 1452.86 115.436 1445.75 Q115.436 1438.62 113.608 1435.08 Q111.802 1431.51 108.168 1431.51 M108.168 1427.81 Q113.978 1427.81 117.033 1432.42 Q120.112 1437 120.112 1445.75 Q120.112 1454.48 117.033 1459.08 Q113.978 1463.67 108.168 1463.67 Q102.358 1463.67 99.2789 1459.08 Q96.2234 1454.48 96.2234 1445.75 Q96.2234 1437 99.2789 1432.42 Q102.358 1427.81 108.168 1427.81 Z\" fill=\"#000000\" fill-rule=\"evenodd\" fill-opacity=\"1\" /><path clip-path=\"url(#clip620)\" d=\"M138.33 1431.51 Q134.719 1431.51 132.89 1435.08 Q131.084 1438.62 131.084 1445.75 Q131.084 1452.86 132.89 1456.42 Q134.719 1459.96 138.33 1459.96 Q141.964 1459.96 143.769 1456.42 Q145.598 1452.86 145.598 1445.75 Q145.598 1438.62 143.769 1435.08 Q141.964 1431.51 138.33 1431.51 M138.33 1427.81 Q144.14 1427.81 147.195 1432.42 Q150.274 1437 150.274 1445.75 Q150.274 1454.48 147.195 1459.08 Q144.14 1463.67 138.33 1463.67 Q132.519 1463.67 129.441 1459.08 Q126.385 1454.48 126.385 1445.75 Q126.385 1437 129.441 1432.42 Q132.519 1427.81 138.33 1427.81 Z\" fill=\"#000000\" fill-rule=\"evenodd\" fill-opacity=\"1\" /><path clip-path=\"url(#clip620)\" d=\"M63.9319 978.461 Q60.3208 978.461 58.4921 982.025 Q56.6865 985.567 56.6865 992.697 Q56.6865 999.803 58.4921 1003.37 Q60.3208 1006.91 63.9319 1006.91 Q67.5661 1006.91 69.3717 1003.37 Q71.2004 999.803 71.2004 992.697 Q71.2004 985.567 69.3717 982.025 Q67.5661 978.461 63.9319 978.461 M63.9319 974.757 Q69.742 974.757 72.7976 979.363 Q75.8763 983.947 75.8763 992.697 Q75.8763 1001.42 72.7976 1006.03 Q69.742 1010.61 63.9319 1010.61 Q58.1217 1010.61 55.043 1006.03 Q51.9875 1001.42 51.9875 992.697 Q51.9875 983.947 55.043 979.363 Q58.1217 974.757 63.9319 974.757 Z\" fill=\"#000000\" fill-rule=\"evenodd\" fill-opacity=\"1\" /><path clip-path=\"url(#clip620)\" d=\"M84.0938 1004.06 L88.978 1004.06 L88.978 1009.94 L84.0938 1009.94 L84.0938 1004.06 Z\" fill=\"#000000\" fill-rule=\"evenodd\" fill-opacity=\"1\" /><path clip-path=\"url(#clip620)\" d=\"M109.163 978.461 Q105.552 978.461 103.723 982.025 Q101.918 985.567 101.918 992.697 Q101.918 999.803 103.723 1003.37 Q105.552 1006.91 109.163 1006.91 Q112.797 1006.91 114.603 1003.37 Q116.432 999.803 116.432 992.697 Q116.432 985.567 114.603 982.025 Q112.797 978.461 109.163 978.461 M109.163 974.757 Q114.973 974.757 118.029 979.363 Q121.107 983.947 121.107 992.697 Q121.107 1001.42 118.029 1006.03 Q114.973 1010.61 109.163 1010.61 Q103.353 1010.61 100.274 1006.03 Q97.2187 1001.42 97.2187 992.697 Q97.2187 983.947 100.274 979.363 Q103.353 974.757 109.163 974.757 Z\" fill=\"#000000\" fill-rule=\"evenodd\" fill-opacity=\"1\" /><path clip-path=\"url(#clip620)\" d=\"M129.371 975.382 L147.728 975.382 L147.728 979.317 L133.654 979.317 L133.654 987.789 Q134.672 987.442 135.691 987.28 Q136.709 987.095 137.728 987.095 Q143.515 987.095 146.894 990.266 Q150.274 993.437 150.274 998.854 Q150.274 1004.43 146.802 1007.53 Q143.33 1010.61 137.01 1010.61 Q134.834 1010.61 132.566 1010.24 Q130.32 1009.87 127.913 1009.13 L127.913 1004.43 Q129.996 1005.57 132.219 1006.12 Q134.441 1006.68 136.918 1006.68 Q140.922 1006.68 143.26 1004.57 Q145.598 1002.47 145.598 998.854 Q145.598 995.243 143.26 993.136 Q140.922 991.03 136.918 991.03 Q135.043 991.03 133.168 991.447 Q131.316 991.863 129.371 992.743 L129.371 975.382 Z\" fill=\"#000000\" fill-rule=\"evenodd\" fill-opacity=\"1\" /><path clip-path=\"url(#clip620)\" d=\"M62.9365 525.407 Q59.3254 525.407 57.4967 528.971 Q55.6912 532.513 55.6912 539.643 Q55.6912 546.749 57.4967 550.314 Q59.3254 553.856 62.9365 553.856 Q66.5707 553.856 68.3763 550.314 Q70.205 546.749 70.205 539.643 Q70.205 532.513 68.3763 528.971 Q66.5707 525.407 62.9365 525.407 M62.9365 521.703 Q68.7467 521.703 71.8022 526.309 Q74.8809 530.893 74.8809 539.643 Q74.8809 548.369 71.8022 552.976 Q68.7467 557.559 62.9365 557.559 Q57.1264 557.559 54.0477 552.976 Q50.9921 548.369 50.9921 539.643 Q50.9921 530.893 54.0477 526.309 Q57.1264 521.703 62.9365 521.703 Z\" fill=\"#000000\" fill-rule=\"evenodd\" fill-opacity=\"1\" /><path clip-path=\"url(#clip620)\" d=\"M83.0984 551.008 L87.9827 551.008 L87.9827 556.888 L83.0984 556.888 L83.0984 551.008 Z\" fill=\"#000000\" fill-rule=\"evenodd\" fill-opacity=\"1\" /><path clip-path=\"url(#clip620)\" d=\"M98.978 552.953 L106.617 552.953 L106.617 526.587 L98.3067 528.254 L98.3067 523.995 L106.571 522.328 L111.246 522.328 L111.246 552.953 L118.885 552.953 L118.885 556.888 L98.978 556.888 L98.978 552.953 Z\" fill=\"#000000\" fill-rule=\"evenodd\" fill-opacity=\"1\" /><path clip-path=\"url(#clip620)\" d=\"M138.33 525.407 Q134.719 525.407 132.89 528.971 Q131.084 532.513 131.084 539.643 Q131.084 546.749 132.89 550.314 Q134.719 553.856 138.33 553.856 Q141.964 553.856 143.769 550.314 Q145.598 546.749 145.598 539.643 Q145.598 532.513 143.769 528.971 Q141.964 525.407 138.33 525.407 M138.33 521.703 Q144.14 521.703 147.195 526.309 Q150.274 530.893 150.274 539.643 Q150.274 548.369 147.195 552.976 Q144.14 557.559 138.33 557.559 Q132.519 557.559 129.441 552.976 Q126.385 548.369 126.385 539.643 Q126.385 530.893 129.441 526.309 Q132.519 521.703 138.33 521.703 Z\" fill=\"#000000\" fill-rule=\"evenodd\" fill-opacity=\"1\" /><path clip-path=\"url(#clip620)\" d=\"M63.9319 72.3528 Q60.3208 72.3528 58.4921 75.9176 Q56.6865 79.4592 56.6865 86.5888 Q56.6865 93.6952 58.4921 97.26 Q60.3208 100.802 63.9319 100.802 Q67.5661 100.802 69.3717 97.26 Q71.2004 93.6952 71.2004 86.5888 Q71.2004 79.4592 69.3717 75.9176 Q67.5661 72.3528 63.9319 72.3528 M63.9319 68.6491 Q69.742 68.6491 72.7976 73.2555 Q75.8763 77.8388 75.8763 86.5888 Q75.8763 95.3156 72.7976 99.9221 Q69.742 104.505 63.9319 104.505 Q58.1217 104.505 55.043 99.9221 Q51.9875 95.3156 51.9875 86.5888 Q51.9875 77.8388 55.043 73.2555 Q58.1217 68.6491 63.9319 68.6491 Z\" fill=\"#000000\" fill-rule=\"evenodd\" fill-opacity=\"1\" /><path clip-path=\"url(#clip620)\" d=\"M84.0938 97.9545 L88.978 97.9545 L88.978 103.834 L84.0938 103.834 L84.0938 97.9545 Z\" fill=\"#000000\" fill-rule=\"evenodd\" fill-opacity=\"1\" /><path clip-path=\"url(#clip620)\" d=\"M99.9733 99.8989 L107.612 99.8989 L107.612 73.5333 L99.3021 75.2 L99.3021 70.9407 L107.566 69.2741 L112.242 69.2741 L112.242 99.8989 L119.881 99.8989 L119.881 103.834 L99.9733 103.834 L99.9733 99.8989 Z\" fill=\"#000000\" fill-rule=\"evenodd\" fill-opacity=\"1\" /><path clip-path=\"url(#clip620)\" d=\"M129.371 69.2741 L147.728 69.2741 L147.728 73.2092 L133.654 73.2092 L133.654 81.6814 Q134.672 81.3342 135.691 81.1722 Q136.709 80.987 137.728 80.987 Q143.515 80.987 146.894 84.1582 Q150.274 87.3295 150.274 92.7462 Q150.274 98.3248 146.802 101.427 Q143.33 104.505 137.01 104.505 Q134.834 104.505 132.566 104.135 Q130.32 103.765 127.913 103.024 L127.913 98.3248 Q129.996 99.4591 132.219 100.015 Q134.441 100.57 136.918 100.57 Q140.922 100.57 143.26 98.4637 Q145.598 96.3573 145.598 92.7462 Q145.598 89.1351 143.26 87.0286 Q140.922 84.9221 136.918 84.9221 Q135.043 84.9221 133.168 85.3388 Q131.316 85.7555 129.371 86.6351 L129.371 69.2741 Z\" fill=\"#000000\" fill-rule=\"evenodd\" fill-opacity=\"1\" /><polyline clip-path=\"url(#clip622)\" style=\"stroke:#009af9; stroke-linecap:butt; stroke-linejoin:round; stroke-width:4; stroke-opacity:1; fill:none\" points=\"\n",
       "  247.59,722.724 268.234,745.093 288.879,767.432 309.524,789.742 330.169,812.023 350.814,834.275 371.459,856.498 392.104,878.691 412.749,900.856 433.394,922.992 \n",
       "  454.039,945.099 474.684,967.177 495.329,989.226 515.974,1011.25 536.619,1033.24 557.264,1055.2 577.909,1077.14 598.554,1099.04 619.199,1120.92 639.844,1142.77 \n",
       "  660.489,1164.59 681.134,1186.38 701.779,1208.15 722.424,1229.89 743.069,1251.59 763.713,1273.28 784.358,1294.93 805.003,1316.55 825.648,1338.15 846.293,1359.72 \n",
       "  866.938,1381.26 887.583,1402.77 908.228,1424.26 928.873,1445.72 949.518,1424.29 970.163,1402.88 990.808,1381.51 1011.45,1360.16 1032.1,1338.84 1052.74,1317.54 \n",
       "  1073.39,1296.28 1094.03,1275.04 1114.68,1253.83 1135.32,1232.64 1155.97,1211.48 1176.61,1190.35 1197.26,1169.25 1217.9,1148.17 1238.55,1127.12 1259.19,1106.1 \n",
       "  1279.84,1085.1 1300.48,1064.13 1321.13,1043.19 1341.77,1022.27 1362.42,1001.38 1383.06,980.518 1403.71,959.681 1424.35,938.87 1445,918.085 1465.64,897.327 \n",
       "  1486.29,876.595 1506.93,855.889 1527.58,835.209 1548.22,814.555 1568.87,793.927 1589.51,773.325 1610.16,752.75 1630.8,732.199 1651.45,711.675 1672.09,691.177 \n",
       "  1692.74,670.704 1713.38,650.257 1734.03,629.836 1754.67,609.44 1775.32,589.07 1795.96,568.725 1816.61,548.406 1837.25,528.112 1857.9,507.843 1878.54,487.6 \n",
       "  1899.19,467.382 1919.83,447.189 1940.48,427.022 1961.12,406.879 1981.77,386.762 2002.41,366.669 2023.06,346.602 2043.7,326.559 2064.35,306.542 2084.99,286.549 \n",
       "  2105.64,266.581 2126.28,246.638 2146.93,226.719 2167.57,206.825 2188.22,186.956 2208.86,167.111 2229.51,147.291 2250.15,127.495 2270.8,107.723 2291.44,87.9763 \n",
       "  \n",
       "  \"/>\n",
       "<polyline clip-path=\"url(#clip622)\" style=\"stroke:#e26f46; stroke-linecap:butt; stroke-linejoin:round; stroke-width:4; stroke-opacity:1; fill:none\" points=\"\n",
       "  928.873,2925.65 928.873,-1391.96 \n",
       "  \"/>\n",
       "<path clip-path=\"url(#clip620)\" d=\"\n",
       "M1987.39 276.658 L2280.54 276.658 L2280.54 95.2176 L1987.39 95.2176  Z\n",
       "  \" fill=\"#ffffff\" fill-rule=\"evenodd\" fill-opacity=\"1\"/>\n",
       "<polyline clip-path=\"url(#clip620)\" style=\"stroke:#000000; stroke-linecap:butt; stroke-linejoin:round; stroke-width:4; stroke-opacity:1; fill:none\" points=\"\n",
       "  1987.39,276.658 2280.54,276.658 2280.54,95.2176 1987.39,95.2176 1987.39,276.658 \n",
       "  \"/>\n",
       "<polyline clip-path=\"url(#clip620)\" style=\"stroke:#009af9; stroke-linecap:butt; stroke-linejoin:round; stroke-width:4; stroke-opacity:1; fill:none\" points=\"\n",
       "  2011.46,155.698 2155.89,155.698 \n",
       "  \"/>\n",
       "<path clip-path=\"url(#clip620)\" d=\"M2193.81 175.385 Q2192 180.015 2190.29 181.427 Q2188.58 182.839 2185.71 182.839 L2182.3 182.839 L2182.3 179.274 L2184.8 179.274 Q2186.56 179.274 2187.53 178.44 Q2188.51 177.607 2189.69 174.505 L2190.45 172.561 L2179.97 147.052 L2184.48 147.052 L2192.58 167.329 L2200.68 147.052 L2205.2 147.052 L2193.81 175.385 Z\" fill=\"#000000\" fill-rule=\"evenodd\" fill-opacity=\"1\" /><path clip-path=\"url(#clip620)\" d=\"M2212.49 169.042 L2220.13 169.042 L2220.13 142.677 L2211.82 144.343 L2211.82 140.084 L2220.08 138.418 L2224.76 138.418 L2224.76 169.042 L2232.4 169.042 L2232.4 172.978 L2212.49 172.978 L2212.49 169.042 Z\" fill=\"#000000\" fill-rule=\"evenodd\" fill-opacity=\"1\" /><polyline clip-path=\"url(#clip620)\" style=\"stroke:#e26f46; stroke-linecap:butt; stroke-linejoin:round; stroke-width:4; stroke-opacity:1; fill:none\" points=\"\n",
       "  2011.46,216.178 2155.89,216.178 \n",
       "  \"/>\n",
       "<path clip-path=\"url(#clip620)\" d=\"M2193.81 235.865 Q2192 240.495 2190.29 241.907 Q2188.58 243.319 2185.71 243.319 L2182.3 243.319 L2182.3 239.754 L2184.8 239.754 Q2186.56 239.754 2187.53 238.92 Q2188.51 238.087 2189.69 234.985 L2190.45 233.041 L2179.97 207.532 L2184.48 207.532 L2192.58 227.809 L2200.68 207.532 L2205.2 207.532 L2193.81 235.865 Z\" fill=\"#000000\" fill-rule=\"evenodd\" fill-opacity=\"1\" /><path clip-path=\"url(#clip620)\" d=\"M2215.71 229.522 L2232.03 229.522 L2232.03 233.458 L2210.08 233.458 L2210.08 229.522 Q2212.74 226.768 2217.33 222.138 Q2221.93 217.485 2223.11 216.143 Q2225.36 213.62 2226.24 211.884 Q2227.14 210.124 2227.14 208.435 Q2227.14 205.68 2225.2 203.944 Q2223.28 202.208 2220.17 202.208 Q2217.97 202.208 2215.52 202.972 Q2213.09 203.735 2210.31 205.286 L2210.31 200.564 Q2213.14 199.43 2215.59 198.851 Q2218.04 198.273 2220.08 198.273 Q2225.45 198.273 2228.65 200.958 Q2231.84 203.643 2231.84 208.134 Q2231.84 210.263 2231.03 212.185 Q2230.24 214.083 2228.14 216.675 Q2227.56 217.347 2224.46 220.564 Q2221.35 223.759 2215.71 229.522 Z\" fill=\"#000000\" fill-rule=\"evenodd\" fill-opacity=\"1\" /></svg>\n"
      ]
     },
     "execution_count": 11,
     "metadata": {},
     "output_type": "execute_result"
    }
   ],
   "source": [
    "plot(all_D, all_loss)\n",
    "vline!([D₀])"
   ]
  },
  {
   "cell_type": "code",
   "execution_count": 12,
   "id": "15a14869",
   "metadata": {},
   "outputs": [
    {
     "data": {
      "image/svg+xml": [
       "<?xml version=\"1.0\" encoding=\"utf-8\"?>\n",
       "<svg xmlns=\"http://www.w3.org/2000/svg\" xmlns:xlink=\"http://www.w3.org/1999/xlink\" width=\"600\" height=\"400\" viewBox=\"0 0 2400 1600\">\n",
       "<defs>\n",
       "  <clipPath id=\"clip660\">\n",
       "    <rect x=\"0\" y=\"0\" width=\"2400\" height=\"1600\"/>\n",
       "  </clipPath>\n",
       "</defs>\n",
       "<path clip-path=\"url(#clip660)\" d=\"\n",
       "M0 1600 L2400 1600 L2400 0 L0 0  Z\n",
       "  \" fill=\"#ffffff\" fill-rule=\"evenodd\" fill-opacity=\"1\"/>\n",
       "<defs>\n",
       "  <clipPath id=\"clip661\">\n",
       "    <rect x=\"480\" y=\"0\" width=\"1681\" height=\"1600\"/>\n",
       "  </clipPath>\n",
       "</defs>\n",
       "<path clip-path=\"url(#clip660)\" d=\"\n",
       "M224.098 1486.45 L2352.76 1486.45 L2352.76 47.2441 L224.098 47.2441  Z\n",
       "  \" fill=\"#ffffff\" fill-rule=\"evenodd\" fill-opacity=\"1\"/>\n",
       "<defs>\n",
       "  <clipPath id=\"clip662\">\n",
       "    <rect x=\"224\" y=\"47\" width=\"2130\" height=\"1440\"/>\n",
       "  </clipPath>\n",
       "</defs>\n",
       "<polyline clip-path=\"url(#clip662)\" style=\"stroke:#000000; stroke-linecap:butt; stroke-linejoin:round; stroke-width:2; stroke-opacity:0.1; fill:none\" points=\"\n",
       "  418.221,1486.45 418.221,47.2441 \n",
       "  \"/>\n",
       "<polyline clip-path=\"url(#clip662)\" style=\"stroke:#000000; stroke-linecap:butt; stroke-linejoin:round; stroke-width:2; stroke-opacity:0.1; fill:none\" points=\"\n",
       "  819.854,1486.45 819.854,47.2441 \n",
       "  \"/>\n",
       "<polyline clip-path=\"url(#clip662)\" style=\"stroke:#000000; stroke-linecap:butt; stroke-linejoin:round; stroke-width:2; stroke-opacity:0.1; fill:none\" points=\"\n",
       "  1221.49,1486.45 1221.49,47.2441 \n",
       "  \"/>\n",
       "<polyline clip-path=\"url(#clip662)\" style=\"stroke:#000000; stroke-linecap:butt; stroke-linejoin:round; stroke-width:2; stroke-opacity:0.1; fill:none\" points=\"\n",
       "  1623.12,1486.45 1623.12,47.2441 \n",
       "  \"/>\n",
       "<polyline clip-path=\"url(#clip662)\" style=\"stroke:#000000; stroke-linecap:butt; stroke-linejoin:round; stroke-width:2; stroke-opacity:0.1; fill:none\" points=\"\n",
       "  2024.76,1486.45 2024.76,47.2441 \n",
       "  \"/>\n",
       "<polyline clip-path=\"url(#clip660)\" style=\"stroke:#000000; stroke-linecap:butt; stroke-linejoin:round; stroke-width:4; stroke-opacity:1; fill:none\" points=\"\n",
       "  224.098,1486.45 2352.76,1486.45 \n",
       "  \"/>\n",
       "<polyline clip-path=\"url(#clip660)\" style=\"stroke:#000000; stroke-linecap:butt; stroke-linejoin:round; stroke-width:4; stroke-opacity:1; fill:none\" points=\"\n",
       "  418.221,1486.45 418.221,1469.18 \n",
       "  \"/>\n",
       "<polyline clip-path=\"url(#clip660)\" style=\"stroke:#000000; stroke-linecap:butt; stroke-linejoin:round; stroke-width:4; stroke-opacity:1; fill:none\" points=\"\n",
       "  819.854,1486.45 819.854,1469.18 \n",
       "  \"/>\n",
       "<polyline clip-path=\"url(#clip660)\" style=\"stroke:#000000; stroke-linecap:butt; stroke-linejoin:round; stroke-width:4; stroke-opacity:1; fill:none\" points=\"\n",
       "  1221.49,1486.45 1221.49,1469.18 \n",
       "  \"/>\n",
       "<polyline clip-path=\"url(#clip660)\" style=\"stroke:#000000; stroke-linecap:butt; stroke-linejoin:round; stroke-width:4; stroke-opacity:1; fill:none\" points=\"\n",
       "  1623.12,1486.45 1623.12,1469.18 \n",
       "  \"/>\n",
       "<polyline clip-path=\"url(#clip660)\" style=\"stroke:#000000; stroke-linecap:butt; stroke-linejoin:round; stroke-width:4; stroke-opacity:1; fill:none\" points=\"\n",
       "  2024.76,1486.45 2024.76,1469.18 \n",
       "  \"/>\n",
       "<path clip-path=\"url(#clip660)\" d=\"M395.524 1515.64 Q391.913 1515.64 390.084 1519.2 Q388.279 1522.75 388.279 1529.87 Q388.279 1536.98 390.084 1540.55 Q391.913 1544.09 395.524 1544.09 Q399.158 1544.09 400.964 1540.55 Q402.793 1536.98 402.793 1529.87 Q402.793 1522.75 400.964 1519.2 Q399.158 1515.64 395.524 1515.64 M395.524 1511.93 Q401.334 1511.93 404.39 1516.54 Q407.469 1521.12 407.469 1529.87 Q407.469 1538.6 404.39 1543.21 Q401.334 1547.79 395.524 1547.79 Q389.714 1547.79 386.635 1543.21 Q383.58 1538.6 383.58 1529.87 Q383.58 1521.12 386.635 1516.54 Q389.714 1511.93 395.524 1511.93 Z\" fill=\"#000000\" fill-rule=\"evenodd\" fill-opacity=\"1\" /><path clip-path=\"url(#clip660)\" d=\"M415.686 1541.24 L420.57 1541.24 L420.57 1547.12 L415.686 1547.12 L415.686 1541.24 Z\" fill=\"#000000\" fill-rule=\"evenodd\" fill-opacity=\"1\" /><path clip-path=\"url(#clip660)\" d=\"M441.334 1527.98 Q438.186 1527.98 436.334 1530.13 Q434.505 1532.28 434.505 1536.03 Q434.505 1539.76 436.334 1541.93 Q438.186 1544.09 441.334 1544.09 Q444.482 1544.09 446.311 1541.93 Q448.163 1539.76 448.163 1536.03 Q448.163 1532.28 446.311 1530.13 Q444.482 1527.98 441.334 1527.98 M450.616 1513.32 L450.616 1517.58 Q448.857 1516.75 447.052 1516.31 Q445.269 1515.87 443.51 1515.87 Q438.88 1515.87 436.427 1519 Q433.996 1522.12 433.649 1528.44 Q435.015 1526.43 437.075 1525.36 Q439.135 1524.27 441.612 1524.27 Q446.82 1524.27 449.829 1527.44 Q452.862 1530.59 452.862 1536.03 Q452.862 1541.36 449.714 1544.57 Q446.566 1547.79 441.334 1547.79 Q435.339 1547.79 432.167 1543.21 Q428.996 1538.6 428.996 1529.87 Q428.996 1521.68 432.885 1516.82 Q436.774 1511.93 443.325 1511.93 Q445.084 1511.93 446.866 1512.28 Q448.672 1512.63 450.616 1513.32 Z\" fill=\"#000000\" fill-rule=\"evenodd\" fill-opacity=\"1\" /><path clip-path=\"url(#clip660)\" d=\"M797.331 1515.64 Q793.72 1515.64 791.892 1519.2 Q790.086 1522.75 790.086 1529.87 Q790.086 1536.98 791.892 1540.55 Q793.72 1544.09 797.331 1544.09 Q800.966 1544.09 802.771 1540.55 Q804.6 1536.98 804.6 1529.87 Q804.6 1522.75 802.771 1519.2 Q800.966 1515.64 797.331 1515.64 M797.331 1511.93 Q803.141 1511.93 806.197 1516.54 Q809.276 1521.12 809.276 1529.87 Q809.276 1538.6 806.197 1543.21 Q803.141 1547.79 797.331 1547.79 Q791.521 1547.79 788.442 1543.21 Q785.387 1538.6 785.387 1529.87 Q785.387 1521.12 788.442 1516.54 Q791.521 1511.93 797.331 1511.93 Z\" fill=\"#000000\" fill-rule=\"evenodd\" fill-opacity=\"1\" /><path clip-path=\"url(#clip660)\" d=\"M817.493 1541.24 L822.378 1541.24 L822.378 1547.12 L817.493 1547.12 L817.493 1541.24 Z\" fill=\"#000000\" fill-rule=\"evenodd\" fill-opacity=\"1\" /><path clip-path=\"url(#clip660)\" d=\"M832.702 1546.4 L832.702 1542.14 Q834.461 1542.98 836.266 1543.42 Q838.072 1543.86 839.808 1543.86 Q844.438 1543.86 846.868 1540.75 Q849.322 1537.63 849.669 1531.29 Q848.326 1533.28 846.266 1534.34 Q844.206 1535.41 841.706 1535.41 Q836.521 1535.41 833.489 1532.28 Q830.479 1529.13 830.479 1523.69 Q830.479 1518.37 833.627 1515.15 Q836.776 1511.93 842.007 1511.93 Q848.002 1511.93 851.15 1516.54 Q854.322 1521.12 854.322 1529.87 Q854.322 1538.05 850.433 1542.93 Q846.567 1547.79 840.016 1547.79 Q838.257 1547.79 836.451 1547.44 Q834.646 1547.1 832.702 1546.4 M842.007 1531.75 Q845.155 1531.75 846.984 1529.6 Q848.836 1527.44 848.836 1523.69 Q848.836 1519.97 846.984 1517.81 Q845.155 1515.64 842.007 1515.64 Q838.859 1515.64 837.007 1517.81 Q835.178 1519.97 835.178 1523.69 Q835.178 1527.44 837.007 1529.6 Q838.859 1531.75 842.007 1531.75 Z\" fill=\"#000000\" fill-rule=\"evenodd\" fill-opacity=\"1\" /><path clip-path=\"url(#clip660)\" d=\"M1189.44 1543.18 L1197.08 1543.18 L1197.08 1516.82 L1188.77 1518.49 L1188.77 1514.23 L1197.03 1512.56 L1201.71 1512.56 L1201.71 1543.18 L1209.35 1543.18 L1209.35 1547.12 L1189.44 1547.12 L1189.44 1543.18 Z\" fill=\"#000000\" fill-rule=\"evenodd\" fill-opacity=\"1\" /><path clip-path=\"url(#clip660)\" d=\"M1218.79 1541.24 L1223.68 1541.24 L1223.68 1547.12 L1218.79 1547.12 L1218.79 1541.24 Z\" fill=\"#000000\" fill-rule=\"evenodd\" fill-opacity=\"1\" /><path clip-path=\"url(#clip660)\" d=\"M1237.89 1543.18 L1254.21 1543.18 L1254.21 1547.12 L1232.26 1547.12 L1232.26 1543.18 Q1234.93 1540.43 1239.51 1535.8 Q1244.12 1531.15 1245.3 1529.81 Q1247.54 1527.28 1248.42 1525.55 Q1249.32 1523.79 1249.32 1522.1 Q1249.32 1519.34 1247.38 1517.61 Q1245.46 1515.87 1242.36 1515.87 Q1240.16 1515.87 1237.7 1516.63 Q1235.27 1517.4 1232.49 1518.95 L1232.49 1514.23 Q1235.32 1513.09 1237.77 1512.51 Q1240.23 1511.93 1242.26 1511.93 Q1247.63 1511.93 1250.83 1514.62 Q1254.02 1517.31 1254.02 1521.8 Q1254.02 1523.93 1253.21 1525.85 Q1252.43 1527.74 1250.32 1530.34 Q1249.74 1531.01 1246.64 1534.23 Q1243.54 1537.42 1237.89 1543.18 Z\" fill=\"#000000\" fill-rule=\"evenodd\" fill-opacity=\"1\" /><path clip-path=\"url(#clip660)\" d=\"M1590.77 1543.18 L1598.41 1543.18 L1598.41 1516.82 L1590.1 1518.49 L1590.1 1514.23 L1598.36 1512.56 L1603.04 1512.56 L1603.04 1543.18 L1610.68 1543.18 L1610.68 1547.12 L1590.77 1547.12 L1590.77 1543.18 Z\" fill=\"#000000\" fill-rule=\"evenodd\" fill-opacity=\"1\" /><path clip-path=\"url(#clip660)\" d=\"M1620.12 1541.24 L1625.01 1541.24 L1625.01 1547.12 L1620.12 1547.12 L1620.12 1541.24 Z\" fill=\"#000000\" fill-rule=\"evenodd\" fill-opacity=\"1\" /><path clip-path=\"url(#clip660)\" d=\"M1635.24 1512.56 L1653.6 1512.56 L1653.6 1516.5 L1639.52 1516.5 L1639.52 1524.97 Q1640.54 1524.62 1641.56 1524.46 Q1642.58 1524.27 1643.6 1524.27 Q1649.38 1524.27 1652.76 1527.44 Q1656.14 1530.62 1656.14 1536.03 Q1656.14 1541.61 1652.67 1544.71 Q1649.2 1547.79 1642.88 1547.79 Q1640.7 1547.79 1638.43 1547.42 Q1636.19 1547.05 1633.78 1546.31 L1633.78 1541.61 Q1635.86 1542.74 1638.09 1543.3 Q1640.31 1543.86 1642.79 1543.86 Q1646.79 1543.86 1649.13 1541.75 Q1651.47 1539.64 1651.47 1536.03 Q1651.47 1532.42 1649.13 1530.31 Q1646.79 1528.21 1642.79 1528.21 Q1640.91 1528.21 1639.04 1528.62 Q1637.18 1529.04 1635.24 1529.92 L1635.24 1512.56 Z\" fill=\"#000000\" fill-rule=\"evenodd\" fill-opacity=\"1\" /><path clip-path=\"url(#clip660)\" d=\"M1991.95 1543.18 L1999.59 1543.18 L1999.59 1516.82 L1991.28 1518.49 L1991.28 1514.23 L1999.55 1512.56 L2004.22 1512.56 L2004.22 1543.18 L2011.86 1543.18 L2011.86 1547.12 L1991.95 1547.12 L1991.95 1543.18 Z\" fill=\"#000000\" fill-rule=\"evenodd\" fill-opacity=\"1\" /><path clip-path=\"url(#clip660)\" d=\"M2021.31 1541.24 L2026.19 1541.24 L2026.19 1547.12 L2021.31 1547.12 L2021.31 1541.24 Z\" fill=\"#000000\" fill-rule=\"evenodd\" fill-opacity=\"1\" /><path clip-path=\"url(#clip660)\" d=\"M2046.38 1530.71 Q2043.04 1530.71 2041.12 1532.49 Q2039.22 1534.27 2039.22 1537.4 Q2039.22 1540.52 2041.12 1542.31 Q2043.04 1544.09 2046.38 1544.09 Q2049.71 1544.09 2051.63 1542.31 Q2053.55 1540.5 2053.55 1537.4 Q2053.55 1534.27 2051.63 1532.49 Q2049.73 1530.71 2046.38 1530.71 M2041.7 1528.72 Q2038.69 1527.98 2037 1525.92 Q2035.33 1523.86 2035.33 1520.89 Q2035.33 1516.75 2038.27 1514.34 Q2041.24 1511.93 2046.38 1511.93 Q2051.54 1511.93 2054.48 1514.34 Q2057.42 1516.75 2057.42 1520.89 Q2057.42 1523.86 2055.73 1525.92 Q2054.06 1527.98 2051.07 1528.72 Q2054.45 1529.5 2056.33 1531.8 Q2058.23 1534.09 2058.23 1537.4 Q2058.23 1542.42 2055.15 1545.11 Q2052.09 1547.79 2046.38 1547.79 Q2040.66 1547.79 2037.58 1545.11 Q2034.52 1542.42 2034.52 1537.4 Q2034.52 1534.09 2036.42 1531.8 Q2038.32 1529.5 2041.7 1528.72 M2039.99 1521.33 Q2039.99 1524.02 2041.65 1525.52 Q2043.34 1527.03 2046.38 1527.03 Q2049.38 1527.03 2051.07 1525.52 Q2052.79 1524.02 2052.79 1521.33 Q2052.79 1518.65 2051.07 1517.14 Q2049.38 1515.64 2046.38 1515.64 Q2043.34 1515.64 2041.65 1517.14 Q2039.99 1518.65 2039.99 1521.33 Z\" fill=\"#000000\" fill-rule=\"evenodd\" fill-opacity=\"1\" /><polyline clip-path=\"url(#clip662)\" style=\"stroke:#000000; stroke-linecap:butt; stroke-linejoin:round; stroke-width:2; stroke-opacity:0.1; fill:none\" points=\"\n",
       "  224.098,1378.09 2352.76,1378.09 \n",
       "  \"/>\n",
       "<polyline clip-path=\"url(#clip662)\" style=\"stroke:#000000; stroke-linecap:butt; stroke-linejoin:round; stroke-width:2; stroke-opacity:0.1; fill:none\" points=\"\n",
       "  224.098,1171.66 2352.76,1171.66 \n",
       "  \"/>\n",
       "<polyline clip-path=\"url(#clip662)\" style=\"stroke:#000000; stroke-linecap:butt; stroke-linejoin:round; stroke-width:2; stroke-opacity:0.1; fill:none\" points=\"\n",
       "  224.098,965.237 2352.76,965.237 \n",
       "  \"/>\n",
       "<polyline clip-path=\"url(#clip662)\" style=\"stroke:#000000; stroke-linecap:butt; stroke-linejoin:round; stroke-width:2; stroke-opacity:0.1; fill:none\" points=\"\n",
       "  224.098,758.813 2352.76,758.813 \n",
       "  \"/>\n",
       "<polyline clip-path=\"url(#clip662)\" style=\"stroke:#000000; stroke-linecap:butt; stroke-linejoin:round; stroke-width:2; stroke-opacity:0.1; fill:none\" points=\"\n",
       "  224.098,552.389 2352.76,552.389 \n",
       "  \"/>\n",
       "<polyline clip-path=\"url(#clip662)\" style=\"stroke:#000000; stroke-linecap:butt; stroke-linejoin:round; stroke-width:2; stroke-opacity:0.1; fill:none\" points=\"\n",
       "  224.098,345.965 2352.76,345.965 \n",
       "  \"/>\n",
       "<polyline clip-path=\"url(#clip662)\" style=\"stroke:#000000; stroke-linecap:butt; stroke-linejoin:round; stroke-width:2; stroke-opacity:0.1; fill:none\" points=\"\n",
       "  224.098,139.541 2352.76,139.541 \n",
       "  \"/>\n",
       "<polyline clip-path=\"url(#clip660)\" style=\"stroke:#000000; stroke-linecap:butt; stroke-linejoin:round; stroke-width:4; stroke-opacity:1; fill:none\" points=\"\n",
       "  224.098,1486.45 224.098,47.2441 \n",
       "  \"/>\n",
       "<polyline clip-path=\"url(#clip660)\" style=\"stroke:#000000; stroke-linecap:butt; stroke-linejoin:round; stroke-width:4; stroke-opacity:1; fill:none\" points=\"\n",
       "  224.098,1378.09 249.642,1378.09 \n",
       "  \"/>\n",
       "<polyline clip-path=\"url(#clip660)\" style=\"stroke:#000000; stroke-linecap:butt; stroke-linejoin:round; stroke-width:4; stroke-opacity:1; fill:none\" points=\"\n",
       "  224.098,1171.66 249.642,1171.66 \n",
       "  \"/>\n",
       "<polyline clip-path=\"url(#clip660)\" style=\"stroke:#000000; stroke-linecap:butt; stroke-linejoin:round; stroke-width:4; stroke-opacity:1; fill:none\" points=\"\n",
       "  224.098,965.237 249.642,965.237 \n",
       "  \"/>\n",
       "<polyline clip-path=\"url(#clip660)\" style=\"stroke:#000000; stroke-linecap:butt; stroke-linejoin:round; stroke-width:4; stroke-opacity:1; fill:none\" points=\"\n",
       "  224.098,758.813 249.642,758.813 \n",
       "  \"/>\n",
       "<polyline clip-path=\"url(#clip660)\" style=\"stroke:#000000; stroke-linecap:butt; stroke-linejoin:round; stroke-width:4; stroke-opacity:1; fill:none\" points=\"\n",
       "  224.098,552.389 249.642,552.389 \n",
       "  \"/>\n",
       "<polyline clip-path=\"url(#clip660)\" style=\"stroke:#000000; stroke-linecap:butt; stroke-linejoin:round; stroke-width:4; stroke-opacity:1; fill:none\" points=\"\n",
       "  224.098,345.965 249.642,345.965 \n",
       "  \"/>\n",
       "<polyline clip-path=\"url(#clip660)\" style=\"stroke:#000000; stroke-linecap:butt; stroke-linejoin:round; stroke-width:4; stroke-opacity:1; fill:none\" points=\"\n",
       "  224.098,139.541 249.642,139.541 \n",
       "  \"/>\n",
       "<path clip-path=\"url(#clip660)\" d=\"M51.9875 1378.54 L81.6633 1378.54 L81.6633 1382.47 L51.9875 1382.47 L51.9875 1378.54 Z\" fill=\"#000000\" fill-rule=\"evenodd\" fill-opacity=\"1\" /><path clip-path=\"url(#clip660)\" d=\"M101.756 1363.88 Q98.1447 1363.88 96.316 1367.45 Q94.5104 1370.99 94.5104 1378.12 Q94.5104 1385.23 96.316 1388.79 Q98.1447 1392.33 101.756 1392.33 Q105.39 1392.33 107.196 1388.79 Q109.024 1385.23 109.024 1378.12 Q109.024 1370.99 107.196 1367.45 Q105.39 1363.88 101.756 1363.88 M101.756 1360.18 Q107.566 1360.18 110.621 1364.79 Q113.7 1369.37 113.7 1378.12 Q113.7 1386.85 110.621 1391.45 Q107.566 1396.04 101.756 1396.04 Q95.9456 1396.04 92.8669 1391.45 Q89.8114 1386.85 89.8114 1378.12 Q89.8114 1369.37 92.8669 1364.79 Q95.9456 1360.18 101.756 1360.18 Z\" fill=\"#000000\" fill-rule=\"evenodd\" fill-opacity=\"1\" /><path clip-path=\"url(#clip660)\" d=\"M121.918 1389.49 L126.802 1389.49 L126.802 1395.37 L121.918 1395.37 L121.918 1389.49 Z\" fill=\"#000000\" fill-rule=\"evenodd\" fill-opacity=\"1\" /><path clip-path=\"url(#clip660)\" d=\"M137.797 1391.43 L145.436 1391.43 L145.436 1365.06 L137.126 1366.73 L137.126 1362.47 L145.39 1360.81 L150.066 1360.81 L150.066 1391.43 L157.705 1391.43 L157.705 1395.37 L137.797 1395.37 L137.797 1391.43 Z\" fill=\"#000000\" fill-rule=\"evenodd\" fill-opacity=\"1\" /><path clip-path=\"url(#clip660)\" d=\"M167.195 1360.81 L185.552 1360.81 L185.552 1364.74 L171.478 1364.74 L171.478 1373.21 Q172.496 1372.87 173.515 1372.7 Q174.533 1372.52 175.552 1372.52 Q181.339 1372.52 184.718 1375.69 Q188.098 1378.86 188.098 1384.28 Q188.098 1389.86 184.626 1392.96 Q181.153 1396.04 174.834 1396.04 Q172.658 1396.04 170.39 1395.67 Q168.144 1395.3 165.737 1394.55 L165.737 1389.86 Q167.82 1390.99 170.042 1391.55 Q172.265 1392.1 174.741 1392.1 Q178.746 1392.1 181.084 1389.99 Q183.422 1387.89 183.422 1384.28 Q183.422 1380.67 181.084 1378.56 Q178.746 1376.45 174.741 1376.45 Q172.866 1376.45 170.991 1376.87 Q169.14 1377.29 167.195 1378.17 L167.195 1360.81 Z\" fill=\"#000000\" fill-rule=\"evenodd\" fill-opacity=\"1\" /><path clip-path=\"url(#clip660)\" d=\"M50.9921 1172.11 L80.6679 1172.11 L80.6679 1176.05 L50.9921 1176.05 L50.9921 1172.11 Z\" fill=\"#000000\" fill-rule=\"evenodd\" fill-opacity=\"1\" /><path clip-path=\"url(#clip660)\" d=\"M100.76 1157.46 Q97.1493 1157.46 95.3206 1161.02 Q93.515 1164.57 93.515 1171.7 Q93.515 1178.8 95.3206 1182.37 Q97.1493 1185.91 100.76 1185.91 Q104.395 1185.91 106.2 1182.37 Q108.029 1178.8 108.029 1171.7 Q108.029 1164.57 106.2 1161.02 Q104.395 1157.46 100.76 1157.46 M100.76 1153.76 Q106.571 1153.76 109.626 1158.36 Q112.705 1162.95 112.705 1171.7 Q112.705 1180.42 109.626 1185.03 Q106.571 1189.61 100.76 1189.61 Q94.9502 1189.61 91.8715 1185.03 Q88.816 1180.42 88.816 1171.7 Q88.816 1162.95 91.8715 1158.36 Q94.9502 1153.76 100.76 1153.76 Z\" fill=\"#000000\" fill-rule=\"evenodd\" fill-opacity=\"1\" /><path clip-path=\"url(#clip660)\" d=\"M120.922 1183.06 L125.807 1183.06 L125.807 1188.94 L120.922 1188.94 L120.922 1183.06 Z\" fill=\"#000000\" fill-rule=\"evenodd\" fill-opacity=\"1\" /><path clip-path=\"url(#clip660)\" d=\"M136.802 1185.01 L144.441 1185.01 L144.441 1158.64 L136.131 1160.31 L136.131 1156.05 L144.394 1154.38 L149.07 1154.38 L149.07 1185.01 L156.709 1185.01 L156.709 1188.94 L136.802 1188.94 L136.802 1185.01 Z\" fill=\"#000000\" fill-rule=\"evenodd\" fill-opacity=\"1\" /><path clip-path=\"url(#clip660)\" d=\"M176.153 1157.46 Q172.542 1157.46 170.714 1161.02 Q168.908 1164.57 168.908 1171.7 Q168.908 1178.8 170.714 1182.37 Q172.542 1185.91 176.153 1185.91 Q179.788 1185.91 181.593 1182.37 Q183.422 1178.8 183.422 1171.7 Q183.422 1164.57 181.593 1161.02 Q179.788 1157.46 176.153 1157.46 M176.153 1153.76 Q181.964 1153.76 185.019 1158.36 Q188.098 1162.95 188.098 1171.7 Q188.098 1180.42 185.019 1185.03 Q181.964 1189.61 176.153 1189.61 Q170.343 1189.61 167.265 1185.03 Q164.209 1180.42 164.209 1171.7 Q164.209 1162.95 167.265 1158.36 Q170.343 1153.76 176.153 1153.76 Z\" fill=\"#000000\" fill-rule=\"evenodd\" fill-opacity=\"1\" /><path clip-path=\"url(#clip660)\" d=\"M51.9875 965.689 L81.6633 965.689 L81.6633 969.624 L51.9875 969.624 L51.9875 965.689 Z\" fill=\"#000000\" fill-rule=\"evenodd\" fill-opacity=\"1\" /><path clip-path=\"url(#clip660)\" d=\"M101.756 951.036 Q98.1447 951.036 96.316 954.601 Q94.5104 958.142 94.5104 965.272 Q94.5104 972.378 96.316 975.943 Q98.1447 979.485 101.756 979.485 Q105.39 979.485 107.196 975.943 Q109.024 972.378 109.024 965.272 Q109.024 958.142 107.196 954.601 Q105.39 951.036 101.756 951.036 M101.756 947.332 Q107.566 947.332 110.621 951.939 Q113.7 956.522 113.7 965.272 Q113.7 973.999 110.621 978.605 Q107.566 983.188 101.756 983.188 Q95.9456 983.188 92.8669 978.605 Q89.8114 973.999 89.8114 965.272 Q89.8114 956.522 92.8669 951.939 Q95.9456 947.332 101.756 947.332 Z\" fill=\"#000000\" fill-rule=\"evenodd\" fill-opacity=\"1\" /><path clip-path=\"url(#clip660)\" d=\"M121.918 976.638 L126.802 976.638 L126.802 982.517 L121.918 982.517 L121.918 976.638 Z\" fill=\"#000000\" fill-rule=\"evenodd\" fill-opacity=\"1\" /><path clip-path=\"url(#clip660)\" d=\"M146.987 951.036 Q143.376 951.036 141.547 954.601 Q139.742 958.142 139.742 965.272 Q139.742 972.378 141.547 975.943 Q143.376 979.485 146.987 979.485 Q150.621 979.485 152.427 975.943 Q154.255 972.378 154.255 965.272 Q154.255 958.142 152.427 954.601 Q150.621 951.036 146.987 951.036 M146.987 947.332 Q152.797 947.332 155.853 951.939 Q158.931 956.522 158.931 965.272 Q158.931 973.999 155.853 978.605 Q152.797 983.188 146.987 983.188 Q141.177 983.188 138.098 978.605 Q135.043 973.999 135.043 965.272 Q135.043 956.522 138.098 951.939 Q141.177 947.332 146.987 947.332 Z\" fill=\"#000000\" fill-rule=\"evenodd\" fill-opacity=\"1\" /><path clip-path=\"url(#clip660)\" d=\"M167.195 947.957 L185.552 947.957 L185.552 951.892 L171.478 951.892 L171.478 960.365 Q172.496 960.017 173.515 959.855 Q174.533 959.67 175.552 959.67 Q181.339 959.67 184.718 962.841 Q188.098 966.013 188.098 971.429 Q188.098 977.008 184.626 980.11 Q181.153 983.188 174.834 983.188 Q172.658 983.188 170.39 982.818 Q168.144 982.448 165.737 981.707 L165.737 977.008 Q167.82 978.142 170.042 978.698 Q172.265 979.253 174.741 979.253 Q178.746 979.253 181.084 977.147 Q183.422 975.04 183.422 971.429 Q183.422 967.818 181.084 965.712 Q178.746 963.605 174.741 963.605 Q172.866 963.605 170.991 964.022 Q169.14 964.439 167.195 965.318 L167.195 947.957 Z\" fill=\"#000000\" fill-rule=\"evenodd\" fill-opacity=\"1\" /><path clip-path=\"url(#clip660)\" d=\"M100.76 744.612 Q97.1493 744.612 95.3206 748.177 Q93.515 751.718 93.515 758.848 Q93.515 765.954 95.3206 769.519 Q97.1493 773.061 100.76 773.061 Q104.395 773.061 106.2 769.519 Q108.029 765.954 108.029 758.848 Q108.029 751.718 106.2 748.177 Q104.395 744.612 100.76 744.612 M100.76 740.908 Q106.571 740.908 109.626 745.515 Q112.705 750.098 112.705 758.848 Q112.705 767.575 109.626 772.181 Q106.571 776.765 100.76 776.765 Q94.9502 776.765 91.8715 772.181 Q88.816 767.575 88.816 758.848 Q88.816 750.098 91.8715 745.515 Q94.9502 740.908 100.76 740.908 Z\" fill=\"#000000\" fill-rule=\"evenodd\" fill-opacity=\"1\" /><path clip-path=\"url(#clip660)\" d=\"M120.922 770.214 L125.807 770.214 L125.807 776.093 L120.922 776.093 L120.922 770.214 Z\" fill=\"#000000\" fill-rule=\"evenodd\" fill-opacity=\"1\" /><path clip-path=\"url(#clip660)\" d=\"M145.992 744.612 Q142.381 744.612 140.552 748.177 Q138.746 751.718 138.746 758.848 Q138.746 765.954 140.552 769.519 Q142.381 773.061 145.992 773.061 Q149.626 773.061 151.431 769.519 Q153.26 765.954 153.26 758.848 Q153.26 751.718 151.431 748.177 Q149.626 744.612 145.992 744.612 M145.992 740.908 Q151.802 740.908 154.857 745.515 Q157.936 750.098 157.936 758.848 Q157.936 767.575 154.857 772.181 Q151.802 776.765 145.992 776.765 Q140.181 776.765 137.103 772.181 Q134.047 767.575 134.047 758.848 Q134.047 750.098 137.103 745.515 Q140.181 740.908 145.992 740.908 Z\" fill=\"#000000\" fill-rule=\"evenodd\" fill-opacity=\"1\" /><path clip-path=\"url(#clip660)\" d=\"M176.153 744.612 Q172.542 744.612 170.714 748.177 Q168.908 751.718 168.908 758.848 Q168.908 765.954 170.714 769.519 Q172.542 773.061 176.153 773.061 Q179.788 773.061 181.593 769.519 Q183.422 765.954 183.422 758.848 Q183.422 751.718 181.593 748.177 Q179.788 744.612 176.153 744.612 M176.153 740.908 Q181.964 740.908 185.019 745.515 Q188.098 750.098 188.098 758.848 Q188.098 767.575 185.019 772.181 Q181.964 776.765 176.153 776.765 Q170.343 776.765 167.265 772.181 Q164.209 767.575 164.209 758.848 Q164.209 750.098 167.265 745.515 Q170.343 740.908 176.153 740.908 Z\" fill=\"#000000\" fill-rule=\"evenodd\" fill-opacity=\"1\" /><path clip-path=\"url(#clip660)\" d=\"M101.756 538.188 Q98.1447 538.188 96.316 541.753 Q94.5104 545.294 94.5104 552.424 Q94.5104 559.53 96.316 563.095 Q98.1447 566.637 101.756 566.637 Q105.39 566.637 107.196 563.095 Q109.024 559.53 109.024 552.424 Q109.024 545.294 107.196 541.753 Q105.39 538.188 101.756 538.188 M101.756 534.484 Q107.566 534.484 110.621 539.091 Q113.7 543.674 113.7 552.424 Q113.7 561.151 110.621 565.757 Q107.566 570.341 101.756 570.341 Q95.9456 570.341 92.8669 565.757 Q89.8114 561.151 89.8114 552.424 Q89.8114 543.674 92.8669 539.091 Q95.9456 534.484 101.756 534.484 Z\" fill=\"#000000\" fill-rule=\"evenodd\" fill-opacity=\"1\" /><path clip-path=\"url(#clip660)\" d=\"M121.918 563.79 L126.802 563.79 L126.802 569.669 L121.918 569.669 L121.918 563.79 Z\" fill=\"#000000\" fill-rule=\"evenodd\" fill-opacity=\"1\" /><path clip-path=\"url(#clip660)\" d=\"M146.987 538.188 Q143.376 538.188 141.547 541.753 Q139.742 545.294 139.742 552.424 Q139.742 559.53 141.547 563.095 Q143.376 566.637 146.987 566.637 Q150.621 566.637 152.427 563.095 Q154.255 559.53 154.255 552.424 Q154.255 545.294 152.427 541.753 Q150.621 538.188 146.987 538.188 M146.987 534.484 Q152.797 534.484 155.853 539.091 Q158.931 543.674 158.931 552.424 Q158.931 561.151 155.853 565.757 Q152.797 570.341 146.987 570.341 Q141.177 570.341 138.098 565.757 Q135.043 561.151 135.043 552.424 Q135.043 543.674 138.098 539.091 Q141.177 534.484 146.987 534.484 Z\" fill=\"#000000\" fill-rule=\"evenodd\" fill-opacity=\"1\" /><path clip-path=\"url(#clip660)\" d=\"M167.195 535.109 L185.552 535.109 L185.552 539.044 L171.478 539.044 L171.478 547.517 Q172.496 547.169 173.515 547.007 Q174.533 546.822 175.552 546.822 Q181.339 546.822 184.718 549.994 Q188.098 553.165 188.098 558.581 Q188.098 564.16 184.626 567.262 Q181.153 570.341 174.834 570.341 Q172.658 570.341 170.39 569.97 Q168.144 569.6 165.737 568.859 L165.737 564.16 Q167.82 565.294 170.042 565.85 Q172.265 566.405 174.741 566.405 Q178.746 566.405 181.084 564.299 Q183.422 562.193 183.422 558.581 Q183.422 554.97 181.084 552.864 Q178.746 550.757 174.741 550.757 Q172.866 550.757 170.991 551.174 Q169.14 551.591 167.195 552.47 L167.195 535.109 Z\" fill=\"#000000\" fill-rule=\"evenodd\" fill-opacity=\"1\" /><path clip-path=\"url(#clip660)\" d=\"M100.76 331.764 Q97.1493 331.764 95.3206 335.329 Q93.515 338.871 93.515 346 Q93.515 353.107 95.3206 356.671 Q97.1493 360.213 100.76 360.213 Q104.395 360.213 106.2 356.671 Q108.029 353.107 108.029 346 Q108.029 338.871 106.2 335.329 Q104.395 331.764 100.76 331.764 M100.76 328.06 Q106.571 328.06 109.626 332.667 Q112.705 337.25 112.705 346 Q112.705 354.727 109.626 359.333 Q106.571 363.917 100.76 363.917 Q94.9502 363.917 91.8715 359.333 Q88.816 354.727 88.816 346 Q88.816 337.25 91.8715 332.667 Q94.9502 328.06 100.76 328.06 Z\" fill=\"#000000\" fill-rule=\"evenodd\" fill-opacity=\"1\" /><path clip-path=\"url(#clip660)\" d=\"M120.922 357.366 L125.807 357.366 L125.807 363.245 L120.922 363.245 L120.922 357.366 Z\" fill=\"#000000\" fill-rule=\"evenodd\" fill-opacity=\"1\" /><path clip-path=\"url(#clip660)\" d=\"M136.802 359.31 L144.441 359.31 L144.441 332.945 L136.131 334.611 L136.131 330.352 L144.394 328.685 L149.07 328.685 L149.07 359.31 L156.709 359.31 L156.709 363.245 L136.802 363.245 L136.802 359.31 Z\" fill=\"#000000\" fill-rule=\"evenodd\" fill-opacity=\"1\" /><path clip-path=\"url(#clip660)\" d=\"M176.153 331.764 Q172.542 331.764 170.714 335.329 Q168.908 338.871 168.908 346 Q168.908 353.107 170.714 356.671 Q172.542 360.213 176.153 360.213 Q179.788 360.213 181.593 356.671 Q183.422 353.107 183.422 346 Q183.422 338.871 181.593 335.329 Q179.788 331.764 176.153 331.764 M176.153 328.06 Q181.964 328.06 185.019 332.667 Q188.098 337.25 188.098 346 Q188.098 354.727 185.019 359.333 Q181.964 363.917 176.153 363.917 Q170.343 363.917 167.265 359.333 Q164.209 354.727 164.209 346 Q164.209 337.25 167.265 332.667 Q170.343 328.06 176.153 328.06 Z\" fill=\"#000000\" fill-rule=\"evenodd\" fill-opacity=\"1\" /><path clip-path=\"url(#clip660)\" d=\"M101.756 125.34 Q98.1447 125.34 96.316 128.905 Q94.5104 132.447 94.5104 139.576 Q94.5104 146.683 96.316 150.247 Q98.1447 153.789 101.756 153.789 Q105.39 153.789 107.196 150.247 Q109.024 146.683 109.024 139.576 Q109.024 132.447 107.196 128.905 Q105.39 125.34 101.756 125.34 M101.756 121.636 Q107.566 121.636 110.621 126.243 Q113.7 130.826 113.7 139.576 Q113.7 148.303 110.621 152.909 Q107.566 157.493 101.756 157.493 Q95.9456 157.493 92.8669 152.909 Q89.8114 148.303 89.8114 139.576 Q89.8114 130.826 92.8669 126.243 Q95.9456 121.636 101.756 121.636 Z\" fill=\"#000000\" fill-rule=\"evenodd\" fill-opacity=\"1\" /><path clip-path=\"url(#clip660)\" d=\"M121.918 150.942 L126.802 150.942 L126.802 156.821 L121.918 156.821 L121.918 150.942 Z\" fill=\"#000000\" fill-rule=\"evenodd\" fill-opacity=\"1\" /><path clip-path=\"url(#clip660)\" d=\"M137.797 152.886 L145.436 152.886 L145.436 126.521 L137.126 128.187 L137.126 123.928 L145.39 122.261 L150.066 122.261 L150.066 152.886 L157.705 152.886 L157.705 156.821 L137.797 156.821 L137.797 152.886 Z\" fill=\"#000000\" fill-rule=\"evenodd\" fill-opacity=\"1\" /><path clip-path=\"url(#clip660)\" d=\"M167.195 122.261 L185.552 122.261 L185.552 126.197 L171.478 126.197 L171.478 134.669 Q172.496 134.322 173.515 134.16 Q174.533 133.974 175.552 133.974 Q181.339 133.974 184.718 137.146 Q188.098 140.317 188.098 145.734 Q188.098 151.312 184.626 154.414 Q181.153 157.493 174.834 157.493 Q172.658 157.493 170.39 157.122 Q168.144 156.752 165.737 156.011 L165.737 151.312 Q167.82 152.447 170.042 153.002 Q172.265 153.558 174.741 153.558 Q178.746 153.558 181.084 151.451 Q183.422 149.345 183.422 145.734 Q183.422 142.122 181.084 140.016 Q178.746 137.91 174.741 137.91 Q172.866 137.91 170.991 138.326 Q169.14 138.743 167.195 139.623 L167.195 122.261 Z\" fill=\"#000000\" fill-rule=\"evenodd\" fill-opacity=\"1\" /><polyline clip-path=\"url(#clip662)\" style=\"stroke:#009af9; stroke-linecap:butt; stroke-linejoin:round; stroke-width:4; stroke-opacity:1; fill:none\" points=\"\n",
       "  284.343,1445.72 304.627,1445.23 324.912,1444.75 345.196,1444.27 365.481,1443.79 385.766,1443.31 406.05,1442.83 426.335,1442.35 446.619,1441.87 466.904,1441.39 \n",
       "  487.188,1440.91 507.473,1440.43 527.757,1439.96 548.042,1439.48 568.326,1439.01 588.611,1438.53 608.895,1438.06 629.18,1437.59 649.464,1437.12 669.749,1436.64 \n",
       "  690.033,1436.17 710.318,1435.7 730.602,1435.23 750.887,1434.77 771.172,1434.3 791.456,1433.83 811.741,1433.36 832.025,1432.9 852.31,1432.43 872.594,1431.97 \n",
       "  892.879,1431.5 913.163,1431.04 933.448,1430.57 \n",
       "  \"/>\n",
       "<polyline clip-path=\"url(#clip662)\" style=\"stroke:#009af9; stroke-linecap:butt; stroke-linejoin:round; stroke-width:4; stroke-opacity:1; fill:none\" points=\"\n",
       "  974.017,87.9763 994.301,88.4375 1014.59,88.898 1034.87,89.358 1055.15,89.8172 1075.44,90.2759 1095.72,90.734 1116.01,91.1914 1136.29,91.6482 1156.58,92.1044 \n",
       "  1176.86,92.5599 1197.15,93.0148 1217.43,93.4692 1237.72,93.9229 1258,94.3759 1278.28,94.8284 1298.57,95.2803 1318.85,95.7315 1339.14,96.1821 1359.42,96.6322 \n",
       "  1379.71,97.0816 1399.99,97.5304 1420.28,97.9786 1440.56,98.4262 1460.85,98.8732 1481.13,99.3195 1501.41,99.7653 1521.7,100.211 1541.98,100.655 1562.27,101.099 \n",
       "  1582.55,101.542 1602.84,101.985 1623.12,102.427 1643.41,102.869 1663.69,103.31 1683.98,103.751 1704.26,104.19 1724.54,104.63 1744.83,105.068 1765.11,105.506 \n",
       "  1785.4,105.944 1805.68,106.381 1825.97,106.817 1846.25,107.253 1866.54,107.688 1886.82,108.123 1907.1,108.557 1927.39,108.99 1947.67,109.423 1967.96,109.855 \n",
       "  1988.24,110.287 2008.53,110.718 2028.81,111.149 2049.1,111.579 2069.38,112.008 2089.67,112.437 2109.95,112.865 2130.23,113.293 2150.52,113.72 2170.8,114.147 \n",
       "  2191.09,114.573 2211.37,114.998 2231.66,115.423 2251.94,115.848 2272.23,116.271 2292.51,116.695 \n",
       "  \"/>\n",
       "<polyline clip-path=\"url(#clip662)\" style=\"stroke:#e26f46; stroke-linecap:butt; stroke-linejoin:round; stroke-width:4; stroke-opacity:1; fill:none\" points=\"\n",
       "  -1904.56,758.813 4481.41,758.813 \n",
       "  \"/>\n",
       "<path clip-path=\"url(#clip660)\" d=\"\n",
       "M1992.85 276.658 L2281.8 276.658 L2281.8 95.2176 L1992.85 95.2176  Z\n",
       "  \" fill=\"#ffffff\" fill-rule=\"evenodd\" fill-opacity=\"1\"/>\n",
       "<polyline clip-path=\"url(#clip660)\" style=\"stroke:#000000; stroke-linecap:butt; stroke-linejoin:round; stroke-width:4; stroke-opacity:1; fill:none\" points=\"\n",
       "  1992.85,276.658 2281.8,276.658 2281.8,95.2176 1992.85,95.2176 1992.85,276.658 \n",
       "  \"/>\n",
       "<polyline clip-path=\"url(#clip660)\" style=\"stroke:#009af9; stroke-linecap:butt; stroke-linejoin:round; stroke-width:4; stroke-opacity:1; fill:none\" points=\"\n",
       "  2016.5,155.698 2158.42,155.698 \n",
       "  \"/>\n",
       "<path clip-path=\"url(#clip660)\" d=\"M2195.91 175.385 Q2194.1 180.015 2192.39 181.427 Q2190.68 182.839 2187.81 182.839 L2184.4 182.839 L2184.4 179.274 L2186.9 179.274 Q2188.66 179.274 2189.64 178.44 Q2190.61 177.607 2191.79 174.505 L2192.55 172.561 L2182.07 147.052 L2186.58 147.052 L2194.68 167.329 L2202.78 147.052 L2207.3 147.052 L2195.91 175.385 Z\" fill=\"#000000\" fill-rule=\"evenodd\" fill-opacity=\"1\" /><path clip-path=\"url(#clip660)\" d=\"M2214.59 169.042 L2222.23 169.042 L2222.23 142.677 L2213.92 144.343 L2213.92 140.084 L2222.18 138.418 L2226.86 138.418 L2226.86 169.042 L2234.5 169.042 L2234.5 172.978 L2214.59 172.978 L2214.59 169.042 Z\" fill=\"#000000\" fill-rule=\"evenodd\" fill-opacity=\"1\" /><polyline clip-path=\"url(#clip660)\" style=\"stroke:#e26f46; stroke-linecap:butt; stroke-linejoin:round; stroke-width:4; stroke-opacity:1; fill:none\" points=\"\n",
       "  2016.5,216.178 2158.42,216.178 \n",
       "  \"/>\n",
       "<path clip-path=\"url(#clip660)\" d=\"M2195.91 235.865 Q2194.1 240.495 2192.39 241.907 Q2190.68 243.319 2187.81 243.319 L2184.4 243.319 L2184.4 239.754 L2186.9 239.754 Q2188.66 239.754 2189.64 238.92 Q2190.61 238.087 2191.79 234.985 L2192.55 233.041 L2182.07 207.532 L2186.58 207.532 L2194.68 227.809 L2202.78 207.532 L2207.3 207.532 L2195.91 235.865 Z\" fill=\"#000000\" fill-rule=\"evenodd\" fill-opacity=\"1\" /><path clip-path=\"url(#clip660)\" d=\"M2217.81 229.522 L2234.13 229.522 L2234.13 233.458 L2212.18 233.458 L2212.18 229.522 Q2214.84 226.768 2219.43 222.138 Q2224.03 217.485 2225.21 216.143 Q2227.46 213.62 2228.34 211.884 Q2229.24 210.124 2229.24 208.435 Q2229.24 205.68 2227.3 203.944 Q2225.38 202.208 2222.27 202.208 Q2220.08 202.208 2217.62 202.972 Q2215.19 203.735 2212.41 205.286 L2212.41 200.564 Q2215.24 199.43 2217.69 198.851 Q2220.15 198.273 2222.18 198.273 Q2227.55 198.273 2230.75 200.958 Q2233.94 203.643 2233.94 208.134 Q2233.94 210.263 2233.13 212.185 Q2232.34 214.083 2230.24 216.675 Q2229.66 217.347 2226.56 220.564 Q2223.46 223.759 2217.81 229.522 Z\" fill=\"#000000\" fill-rule=\"evenodd\" fill-opacity=\"1\" /></svg>\n"
      ]
     },
     "execution_count": 12,
     "metadata": {},
     "output_type": "execute_result"
    }
   ],
   "source": [
    "plot(all_D, all_grad)\n",
    "hline!([0])"
   ]
  },
  {
   "cell_type": "markdown",
   "id": "ccef10e4",
   "metadata": {},
   "source": [
    "## AD with respect to D in order to optimize it\n",
    "\n",
    "We now use Zygote in order to perform AD on the 2D heat equation and we optimize D using an ADAM gradient descent. "
   ]
  },
  {
   "cell_type": "code",
   "execution_count": 13,
   "id": "e96bd6f9",
   "metadata": {},
   "outputs": [
    {
     "data": {
      "text/plain": [
       "hybrid_train! (generic function with 1 method)"
      ]
     },
     "execution_count": 13,
     "metadata": {},
     "output_type": "execute_result"
    }
   ],
   "source": [
    "function train(loss, p)\n",
    "    \n",
    "    θ = [10.]\n",
    "\n",
    "    opt = ADAM(0.1)\n",
    "    @epochs 100 hybrid_train!(loss, θ, p, opt)\n",
    "    \n",
    "    return θ\n",
    "    \n",
    "end\n",
    "\n",
    "function hybrid_train!(loss, θ, p, opt)\n",
    "        \n",
    "    T = T₀\n",
    "    loss_uD, back_uD = Zygote.pullback(θ -> loss(T, θ, p), θ)\n",
    "    \n",
    "    ∇_uD = back_uD(one(loss_uD))[1]\n",
    "    \n",
    "    println(\"Loss: \", loss_uD)\n",
    "    println(\"Current parameter: \", θ)\n",
    "    println(\"Gradient: \", ∇_uD)\n",
    "    println(\"opt: \", opt)\n",
    "    \n",
    "    Flux.Optimise.update!(opt, θ, ∇_uD)\n",
    "    \n",
    "end"
   ]
  },
  {
   "cell_type": "code",
   "execution_count": 14,
   "id": "9b065bc7",
   "metadata": {},
   "outputs": [
    {
     "name": "stderr",
     "output_type": "stream",
     "text": [
      "┌ Info: Epoch 1\n",
      "└ @ Main /Users/facundosapienza/.julia/packages/Flux/goUGu/src/optimise/train.jl:136\n"
     ]
    },
    {
     "name": "stdout",
     "output_type": "stream",
     "text": [
      "Loss: 1.0174505165728547\n",
      "Current parameter: [10.0]\n",
      "Gradient: [0.11536990922261617]\n",
      "opt: ADAM(0.1, (0.9, 0.999), IdDict{Any, Any}())\n"
     ]
    },
    {
     "name": "stderr",
     "output_type": "stream",
     "text": [
      "┌ Info: Epoch 2\n",
      "└ @ Main /Users/facundosapienza/.julia/packages/Flux/goUGu/src/optimise/train.jl:136\n"
     ]
    },
    {
     "name": "stdout",
     "output_type": "stream",
     "text": [
      "Loss: 1.0092430554727407\n",
      "Current parameter: [9.90000000866777]\n",
      "Gradient: [0.11574379097738677]\n",
      "opt: ADAM(0.1, (0.9, 0.999), IdDict{Any, Any}([9.90000000866777] => ([0.011536990922261615], [1.3310215954034707e-5], (0.81, 0.998001))))\n"
     ]
    },
    {
     "name": "stderr",
     "output_type": "stream",
     "text": [
      "┌ Info: Epoch 3\n",
      "└ @ Main /Users/facundosapienza/.julia/packages/Flux/goUGu/src/optimise/train.jl:136\n"
     ]
    },
    {
     "name": "stdout",
     "output_type": "stream",
     "text": [
      "Loss: 1.000984217462333\n",
      "Current parameter: [9.799991714702806]\n",
      "Gradient: [0.11612012991088633]\n",
      "opt: ADAM(0.1, (0.9, 0.999), IdDict{Any, Any}([9.799991714702806] => ([0.021957670927774127], [2.6693530887897682e-5], (0.7290000000000001, 0.997002999))))\n"
     ]
    },
    {
     "name": "stderr",
     "output_type": "stream",
     "text": [
      "┌ Info: Epoch 4\n",
      "└ @ Main /Users/facundosapienza/.julia/packages/Flux/goUGu/src/optimise/train.jl:136\n"
     ]
    },
    {
     "name": "stdout",
     "output_type": "stream",
     "text": [
      "Loss: 0.9926730559255894\n",
      "Current parameter: [9.699969566640052]\n",
      "Gradient: [0.11649897136986294]\n",
      "opt: ADAM(0.1, (0.9, 0.999), IdDict{Any, Any}([9.699969566640052] => ([0.03137391682608535], [4.015072192753091e-5], (0.6561000000000001, 0.996005996001))))\n"
     ]
    },
    {
     "name": "stderr",
     "output_type": "stream",
     "text": [
      "┌ Info: Epoch 5\n",
      "└ @ Main /Users/facundosapienza/.julia/packages/Flux/goUGu/src/optimise/train.jl:136\n"
     ]
    },
    {
     "name": "stdout",
     "output_type": "stream",
     "text": [
      "Loss: 0.9843086067528766\n",
      "Current parameter: [9.59992801452714]\n",
      "Gradient: [0.11688036156701767]\n",
      "opt: ADAM(0.1, (0.9, 0.999), IdDict{Any, Any}([9.59992801452714] => ([0.0398864222804631], [5.3682581535839535e-5], (0.5904900000000002, 0.995009990004999))))\n"
     ]
    },
    {
     "name": "stderr",
     "output_type": "stream",
     "text": [
      "┌ Info: Epoch 6\n",
      "└ @ Main /Users/facundosapienza/.julia/packages/Flux/goUGu/src/optimise/train.jl:136\n"
     ]
    },
    {
     "name": "stdout",
     "output_type": "stream",
     "text": [
      "Loss: 0.975889888890651\n",
      "Current parameter: [9.499861520788754]\n",
      "Gradient: [0.1172643475580603]\n",
      "opt: ADAM(0.1, (0.9, 0.999), IdDict{Any, Any}([9.499861520788754] => ([0.04758581620911856], [6.72899178743405e-5], (0.5314410000000002, 0.994014980014994))))\n"
     ]
    },
    {
     "name": "stderr",
     "output_type": "stream",
     "text": [
      "┌ Info: Epoch 7\n",
      "└ @ Main /Users/facundosapienza/.julia/packages/Flux/goUGu/src/optimise/train.jl:136\n"
     ]
    },
    {
     "name": "stdout",
     "output_type": "stream",
     "text": [
      "Loss: 0.9674159048943285\n",
      "Current parameter: [9.399764570843653]\n",
      "Gradient: [0.11765097721861406]\n",
      "opt: ADAM(0.1, (0.9, 0.999), IdDict{Any, Any}([9.399764570843653] => ([0.054553669344012734], [8.097355516468373e-5], (0.47829690000000014, 0.993020965034979))))\n"
     ]
    },
    {
     "name": "stderr",
     "output_type": "stream",
     "text": [
      "┌ Info: Epoch 8\n",
      "└ @ Main /Users/facundosapienza/.julia/packages/Flux/goUGu/src/optimise/train.jl:136\n"
     ]
    },
    {
     "name": "stdout",
     "output_type": "stream",
     "text": [
      "Loss: 0.9588856414771495\n",
      "Current parameter: [9.29963168339345]\n",
      "Gradient: [0.11804029922129446]\n",
      "opt: ADAM(0.1, (0.9, 0.999), IdDict{Any, Any}([9.29963168339345] => ([0.06086340013147286], [9.47343340500139e-5], (0.43046721000000016, 0.9920279440699441))))\n"
     ]
    },
    {
     "name": "stderr",
     "output_type": "stream",
     "text": [
      "┌ Info: Epoch 9\n",
      "└ @ Main /Users/facundosapienza/.julia/packages/Flux/goUGu/src/optimise/train.jl:136\n"
     ]
    },
    {
     "name": "stdout",
     "output_type": "stream",
     "text": [
      "Loss: 0.9502980700483148\n",
      "Current parameter: [9.199457420307438]\n",
      "Gradient: [0.11843236301326979]\n",
      "opt: ADAM(0.1, (0.9, 0.999), IdDict{Any, Any}([9.199457420307438] => ([0.06658109004045501], [0.00010857311195621663], (0.38742048900000015, 0.9910359161258742))))\n"
     ]
    },
    {
     "name": "stderr",
     "output_type": "stream",
     "text": [
      "┌ Info: Epoch 10\n",
      "└ @ Main /Users/facundosapienza/.julia/packages/Flux/goUGu/src/optimise/train.jl:136\n"
     ]
    },
    {
     "name": "stdout",
     "output_type": "stream",
     "text": [
      "Loss: 0.9416521472335998\n",
      "Current parameter: [9.099236396034003]\n",
      "Gradient: [0.11882721879462015]\n",
      "opt: ADAM(0.1, (0.9, 0.999), IdDict{Any, Any}([9.099236396034003] => ([0.07176621733773648], [0.00012249076345316733], (0.34867844010000015, 0.9900448802097482))))\n"
     ]
    },
    {
     "name": "stderr",
     "output_type": "stream",
     "text": [
      "┌ Info: Epoch 11\n",
      "└ @ Main /Users/facundosapienza/.julia/packages/Flux/goUGu/src/optimise/train.jl:136\n"
     ]
    },
    {
     "name": "stdout",
     "output_type": "stream",
     "text": [
      "Loss: 0.9329468153721474\n",
      "Current parameter: [8.998963286476314]\n",
      "Gradient: [0.11922491749777182]\n",
      "opt: ADAM(0.1, (0.9, 0.999), IdDict{Any, Any}([8.998963286476314] => ([0.07647231748342485], [0.0001364881806161787], (0.31381059609000017, 0.9890548353295385))))\n"
     ]
    },
    {
     "name": "stderr",
     "output_type": "stream",
     "text": [
      "┌ Info: Epoch 12\n",
      "└ @ Main /Users/facundosapienza/.julia/packages/Flux/goUGu/src/optimise/train.jl:136\n"
     ]
    },
    {
     "name": "stdout",
     "output_type": "stream",
     "text": [
      "Loss: 0.9241810029833616\n",
      "Current parameter: [8.898632837277768]\n",
      "Gradient: [0.11962551076830223]\n",
      "opt: ADAM(0.1, (0.9, 0.999), IdDict{Any, Any}([8.898632837277768] => ([0.08074757748485954], [0.00015056627338791304], (0.28242953648100017, 0.988065780494209))))\n"
     ]
    },
    {
     "name": "stderr",
     "output_type": "stream",
     "text": [
      "┌ Info: Epoch 13\n",
      "└ @ Main /Users/facundosapienza/.julia/packages/Flux/goUGu/src/optimise/train.jl:136\n"
     ]
    },
    {
     "name": "stdout",
     "output_type": "stream",
     "text": [
      "Loss: 0.9153536251984622\n",
      "Current parameter: [8.798239871471065]\n",
      "Gradient: [0.12002905094735705]\n",
      "opt: ADAM(0.1, (0.9, 0.999), IdDict{Any, Any}([8.798239871471065] => ([0.08463537081320381], [0.00016472596994110232], (0.25418658283290013, 0.9870777147137147))))\n"
     ]
    },
    {
     "name": "stderr",
     "output_type": "stream",
     "text": [
      "┌ Info: Epoch 14\n",
      "└ @ Main /Users/facundosapienza/.julia/packages/Flux/goUGu/src/optimise/train.jl:136\n"
     ]
    },
    {
     "name": "stdout",
     "output_type": "stream",
     "text": [
      "Loss: 0.9064635841515675\n",
      "Current parameter: [8.697779296453495]\n",
      "Gradient: [0.12043559105592026]\n",
      "opt: ADAM(0.1, (0.9, 0.999), IdDict{Any, Any}([8.697779296453495] => ([0.08817473882661914], [0.00017896821704248446], (0.22876792454961012, 0.986090636999001))))\n"
     ]
    },
    {
     "name": "stderr",
     "output_type": "stream",
     "text": [
      "┌ Info: Epoch 15\n",
      "└ @ Main /Users/facundosapienza/.julia/packages/Flux/goUGu/src/optimise/train.jl:136\n"
     ]
    },
    {
     "name": "stdout",
     "output_type": "stream",
     "text": [
      "Loss: 0.8975097693259523\n",
      "Current parameter: [8.597246110259919]\n",
      "Gradient: [0.12084518478114278]\n",
      "opt: ADAM(0.1, (0.9, 0.999), IdDict{Any, Any}([8.597246110259919] => ([0.09140082404954925], [0.00019329398041843083], (0.2058911320946491, 0.9851045463620021))))\n"
     ]
    },
    {
     "name": "stderr",
     "output_type": "stream",
     "text": [
      "┌ Info: Epoch 16\n",
      "└ @ Main /Users/facundosapienza/.julia/packages/Flux/goUGu/src/optimise/train.jl:136\n"
     ]
    },
    {
     "name": "stdout",
     "output_type": "stream",
     "text": [
      "Loss: 0.8884910578515329\n",
      "Current parameter: [8.496635407113752]\n",
      "Gradient: [0.12125788646491092]\n",
      "opt: ADAM(0.1, (0.9, 0.999), IdDict{Any, Any}([8.496635407113752] => ([0.0943452601227086], [0.00020770424512280095], (0.1853020188851842, 0.98411944181564))))\n"
     ]
    },
    {
     "name": "stderr",
     "output_type": "stream",
     "text": [
      "┌ Info: Epoch 17\n",
      "└ @ Main /Users/facundosapienza/.julia/packages/Flux/goUGu/src/optimise/train.jl:136\n"
     ]
    },
    {
     "name": "stdout",
     "output_type": "stream",
     "text": [
      "Loss: 0.8794063147503198\n",
      "Current parameter: [8.395942382245028]\n",
      "Gradient: [0.12167375109481715]\n",
      "opt: ADAM(0.1, (0.9, 0.999), IdDict{Any, Any}([8.395942382245028] => ([0.09703652275692883], [0.00022220001590761537], (0.16677181699666577, 0.9831353223738244))))\n"
     ]
    },
    {
     "name": "stderr",
     "output_type": "stream",
     "text": [
      "┌ Info: Epoch 18\n",
      "└ @ Main /Users/facundosapienza/.julia/packages/Flux/goUGu/src/optimise/train.jl:136\n"
     ]
    },
    {
     "name": "stdout",
     "output_type": "stream",
     "text": [
      "Loss: 0.8702543931273489\n",
      "Current parameter: [8.295162335972911]\n",
      "Gradient: [0.12209283429764241]\n",
      "opt: ADAM(0.1, (0.9, 0.999), IdDict{Any, Any}([8.295162335972911] => ([0.09950024559071766], [0.0002367823175971913], (0.1500946352969992, 0.9821521870514506))))\n"
     ]
    },
    {
     "name": "stderr",
     "output_type": "stream",
     "text": [
      "┌ Info: Epoch 19\n",
      "└ @ Main /Users/facundosapienza/.julia/packages/Flux/goUGu/src/optimise/train.jl:136\n"
     ]
    },
    {
     "name": "stdout",
     "output_type": "stream",
     "text": [
      "Loss: 0.8610341343048719\n",
      "Current parameter: [8.194290677057994]\n",
      "Gradient: [0.1225151923354665]\n",
      "opt: ADAM(0.1, (0.9, 0.999), IdDict{Any, Any}([8.194290677057994] => ([0.10175950446141013], [0.0002514521954664257], (0.13508517176729928, 0.9811700348643991))))\n"
     ]
    },
    {
     "name": "stderr",
     "output_type": "stream",
     "text": [
      "┌ Info: Epoch 20\n",
      "└ @ Main /Users/facundosapienza/.julia/packages/Flux/goUGu/src/optimise/train.jl:136\n"
     ]
    },
    {
     "name": "stdout",
     "output_type": "stream",
     "text": [
      "Loss: 0.8517443678985414\n",
      "Current parameter: [8.093322925337013]\n",
      "Gradient: [0.12294088210446674]\n",
      "opt: ADAM(0.1, (0.9, 0.999), IdDict{Any, Any}([8.093322925337013] => ([0.10383507324881576], [0.0002662107156239556], (0.12157665459056936, 0.9801888648295347))))\n"
     ]
    },
    {
     "name": "stderr",
     "output_type": "stream",
     "text": [
      "┌ Info: Epoch 21\n",
      "└ @ Main /Users/facundosapienza/.julia/packages/Flux/goUGu/src/optimise/train.jl:136\n"
     ]
    },
    {
     "name": "stdout",
     "output_type": "stream",
     "text": [
      "Loss: 0.8423839118347282\n",
      "Current parameter: [7.992254713659276]\n",
      "Gradient: [0.12336996113645501]\n",
      "opt: ADAM(0.1, (0.9, 0.999), IdDict{Any, Any}([7.992254713659276] => ([0.10574565413438085], [0.00028105896540095605], (0.10941898913151243, 0.9792086759647052))))\n"
     ]
    },
    {
     "name": "stderr",
     "output_type": "stream",
     "text": [
      "┌ Info: Epoch 22\n",
      "└ @ Main /Users/facundosapienza/.julia/packages/Flux/goUGu/src/optimise/train.jl:136\n"
     ]
    },
    {
     "name": "stdout",
     "output_type": "stream",
     "text": [
      "Loss: 0.8329515723086112\n",
      "Current parameter: [7.8910817891500455]\n",
      "Gradient: [0.1238024876031723]\n",
      "opt: ADAM(0.1, (0.9, 0.999), IdDict{Any, Any}([7.8910817891500455] => ([0.10750808483458826], [0.00029599805374636555], (0.0984770902183612, 0.9782294672887405))))\n"
     ]
    },
    {
     "name": "stderr",
     "output_type": "stream",
     "text": [
      "┌ Info: Epoch 23\n",
      "└ @ Main /Users/facundosapienza/.julia/packages/Flux/goUGu/src/optimise/train.jl:136\n"
     ]
    },
    {
     "name": "stdout",
     "output_type": "stream",
     "text": [
      "Loss: 0.8234461436832983\n",
      "Current parameter: [7.789800013831234]\n",
      "Gradient: [0.12423852032333978]\n",
      "opt: ADAM(0.1, (0.9, 0.999), IdDict{Any, Any}([7.789800013831234] => ([0.10913752511144666], [0.00031102911162935284], (0.08862938119652508, 0.9772512378214517))))\n"
     ]
    },
    {
     "name": "stderr",
     "output_type": "stream",
     "text": [
      "┌ Info: Epoch 24\n",
      "└ @ Main /Users/facundosapienza/.julia/packages/Flux/goUGu/src/optimise/train.jl:136\n"
     ]
    },
    {
     "name": "stdout",
     "output_type": "stream",
     "text": [
      "Loss: 0.8138664083305948\n",
      "Current parameter: [7.688405364634118]\n",
      "Gradient: [0.12467811877244642]\n",
      "opt: ADAM(0.1, (0.9, 0.999), IdDict{Any, Any}([7.688405364634118] => ([0.11064762463263597], [0.0003261532924498564], (0.07976644307687257, 0.9762739865836303))))\n"
     ]
    },
    {
     "name": "stderr",
     "output_type": "stream",
     "text": [
      "┌ Info: Epoch 25\n",
      "└ @ Main /Users/facundosapienza/.julia/packages/Flux/goUGu/src/optimise/train.jl:136\n"
     ]
    },
    {
     "name": "stdout",
     "output_type": "stream",
     "text": [
      "Loss: 0.8042111364144593\n",
      "Current parameter: [7.586893932842286]\n",
      "Gradient: [0.12512134309523296]\n",
      "opt: ADAM(0.1, (0.9, 0.999), IdDict{Any, Any}([7.586893932842286] => ([0.112050674046617], [0.0003413717724580428], (0.07178979876918531, 0.9752977125970467))))\n"
     ]
    },
    {
     "name": "stderr",
     "output_type": "stream",
     "text": [
      "┌ Info: Epoch 26\n",
      "└ @ Main /Users/facundosapienza/.julia/packages/Flux/goUGu/src/optimise/train.jl:136\n"
     ]
    },
    {
     "name": "stdout",
     "output_type": "stream",
     "text": [
      "Loss: 0.7944790856185391\n",
      "Current parameter: [7.485261923005754]\n",
      "Gradient: [0.12556825412081]\n",
      "opt: ADAM(0.1, (0.9, 0.999), IdDict{Any, Any}([7.485261923005754] => ([0.1133577409514786], [0.0003566857511835398], (0.06461081889226679, 0.9743224148844496))))\n"
     ]
    },
    {
     "name": "stderr",
     "output_type": "stream",
     "text": [
      "┌ Info: Epoch 27\n",
      "└ @ Main /Users/facundosapienza/.julia/packages/Flux/goUGu/src/optimise/train.jl:136\n"
     ]
    },
    {
     "name": "stdout",
     "output_type": "stream",
     "text": [
      "Loss: 0.7846690008194193\n",
      "Current parameter: [7.383505651369119]\n",
      "Gradient: [0.1260189133803563]\n",
      "opt: ADAM(0.1, (0.9, 0.999), IdDict{Any, Any}([7.383505651369119] => ([0.11457879226841175], [0.0003720964518753045], (0.05814973700304011, 0.9733480924695651))))\n"
     ]
    },
    {
     "name": "stderr",
     "output_type": "stream",
     "text": [
      "┌ Info: Epoch 28\n",
      "└ @ Main /Users/facundosapienza/.julia/packages/Flux/goUGu/src/optimise/train.jl:136\n"
     ]
    },
    {
     "name": "stdout",
     "output_type": "stream",
     "text": [
      "Loss: 0.7747796137075073\n",
      "Current parameter: [7.281621543857833]\n",
      "Gradient: [0.12647338312730386]\n",
      "opt: ADAM(0.1, (0.9, 0.999), IdDict{Any, Any}([7.281621543857833] => ([0.1157228043796062], [0.00038760512195299497], (0.0523347633027361, 0.9723747443770956))))\n"
     ]
    },
    {
     "name": "stderr",
     "output_type": "stream",
     "text": [
      "┌ Info: Epoch 29\n",
      "└ @ Main /Users/facundosapienza/.julia/packages/Flux/goUGu/src/optimise/train.jl:136\n"
     ]
    },
    {
     "name": "stdout",
     "output_type": "stream",
     "text": [
      "Loss: 0.7648096423576767\n",
      "Current parameter: [7.179606133667205]\n",
      "Gradient: [0.12693172635992758]\n",
      "opt: ADAM(0.1, (0.9, 0.999), IdDict{Any, Any}([7.179606133667205] => ([0.11679786225437597], [0.0004032130334707078], (0.04710128697246249, 0.9714023696327185))))\n"
     ]
    },
    {
     "name": "stderr",
     "output_type": "stream",
     "text": [
      "┌ Info: Epoch 30\n",
      "└ @ Main /Users/facundosapienza/.julia/packages/Flux/goUGu/src/optimise/train.jl:136\n"
     ]
    },
    {
     "name": "stdout",
     "output_type": "stream",
     "text": [
      "Loss: 0.7547577907517536\n",
      "Current parameter: [7.077456058498651]\n",
      "Gradient: [0.1273940068462542]\n",
      "opt: ADAM(0.1, (0.9, 0.999), IdDict{Any, Any}([7.077456058498651] => ([0.11781124866493113], [0.00041892148359394863], (0.042391158275216244, 0.9704309672630859))))\n"
     ]
    },
    {
     "name": "stderr",
     "output_type": "stream",
     "text": [
      "┌ Info: Epoch 31\n",
      "└ @ Main /Users/facundosapienza/.julia/packages/Flux/goUGu/src/optimise/train.jl:136\n"
     ]
    },
    {
     "name": "stdout",
     "output_type": "stream",
     "text": [
      "Loss: 0.7446227482552302\n",
      "Current parameter: [6.9751680574870685]\n",
      "Gradient: [0.1278602891511771]\n",
      "opt: ADAM(0.1, (0.9, 0.999), IdDict{Any, Any}([6.9751680574870685] => ([0.11876952448306344], [0.0004347317950906982], (0.03815204244769462, 0.9694605362958227))))\n"
     ]
    },
    {
     "name": "stderr",
     "output_type": "stream",
     "text": [
      "┌ Info: Epoch 32\n",
      "└ @ Main /Users/facundosapienza/.julia/packages/Flux/goUGu/src/optimise/train.jl:136\n"
     ]
    },
    {
     "name": "stdout",
     "output_type": "stream",
     "text": [
      "Loss: 0.7344031890504755\n",
      "Current parameter: [6.872738967862082]\n",
      "Gradient: [0.12833063866569716]\n",
      "opt: ADAM(0.1, (0.9, 0.999), IdDict{Any, Any}([6.872738967862082] => ([0.1196786009498748], [0.00045064531683743016], (0.03433683820292516, 0.9684910757595269))))\n"
     ]
    },
    {
     "name": "stderr",
     "output_type": "stream",
     "text": [
      "┌ Info: Epoch 33\n",
      "└ @ Main /Users/facundosapienza/.julia/packages/Flux/goUGu/src/optimise/train.jl:136\n"
     ]
    },
    {
     "name": "stdout",
     "output_type": "stream",
     "text": [
      "Loss: 0.7240977715287297\n",
      "Current parameter: [6.770165721384373]\n",
      "Gradient: [0.1288051216381799]\n",
      "opt: ADAM(0.1, (0.9, 0.999), IdDict{Any, Any}([6.770165721384373] => ([0.12054380472145704], [0.00046666342434093845], (0.030903154382632643, 0.9675225846837673))))\n"
     ]
    },
    {
     "name": "stderr",
     "output_type": "stream",
     "text": [
      "┌ Info: Epoch 34\n",
      "└ @ Main /Users/facundosapienza/.julia/packages/Flux/goUGu/src/optimise/train.jl:136\n"
     ]
    },
    {
     "name": "stdout",
     "output_type": "stream",
     "text": [
      "Loss: 0.7137051376431949\n",
      "Current parameter: [6.667445340596422]\n",
      "Gradient: [0.12928380520753321]\n",
      "opt: ADAM(0.1, (0.9, 0.999), IdDict{Any, Any}([6.667445340596422] => ([0.12136993641312932], [0.00048278752027682383], (0.02781283894436938, 0.9665550620990835))))\n"
     ]
    },
    {
     "name": "stderr",
     "output_type": "stream",
     "text": [
      "┌ Info: Epoch 35\n",
      "└ @ Main /Users/facundosapienza/.julia/packages/Flux/goUGu/src/optimise/train.jl:136\n"
     ]
    },
    {
     "name": "stdout",
     "output_type": "stream",
     "text": [
      "Loss: 0.7032239122253339\n",
      "Current parameter: [6.564574934924836]\n",
      "Gradient: [0.12976675743822283]\n",
      "opt: ADAM(0.1, (0.9, 0.999), IdDict{Any, Any}([6.564574934924836] => ([0.1221613232925697], [0.0004990190350454864], (0.025031555049932444, 0.9655885070369844))))\n"
     ]
    },
    {
     "name": "stderr",
     "output_type": "stream",
     "text": [
      "┌ Info: Epoch 36\n",
      "└ @ Main /Users/facundosapienza/.julia/packages/Flux/goUGu/src/optimise/train.jl:136\n"
     ]
    },
    {
     "name": "stdout",
     "output_type": "stream",
     "text": [
      "Loss: 0.6926527022664732\n",
      "Current parameter: [6.461551696669071]\n",
      "Gradient: [0.1302540473570288]\n",
      "opt: ADAM(0.1, (0.9, 0.999), IdDict{Any, Any}([6.461551696669071] => ([0.12292186670713501], [0.0005153594273464715], (0.0225283995449392, 0.9646229185299474))))\n"
     ]
    },
    {
     "name": "stderr",
     "output_type": "stream",
     "text": [
      "┌ Info: Epoch 37\n",
      "└ @ Main /Users/facundosapienza/.julia/packages/Flux/goUGu/src/optimise/train.jl:136\n"
     ]
    },
    {
     "name": "stdout",
     "output_type": "stream",
     "text": [
      "Loss: 0.6819900961667207\n",
      "Current parameter: [6.358372896908847]\n",
      "Gradient: [0.13074574499146185]\n",
      "opt: ADAM(0.1, (0.9, 0.999), IdDict{Any, Any}([6.358372896908847] => ([0.12365508477212439], [0.0005318101847720122], (0.020275559590445278, 0.9636582956114175))))\n"
     ]
    },
    {
     "name": "stderr",
     "output_type": "stream",
     "text": [
      "┌ Info: Epoch 38\n",
      "└ @ Main /Users/facundosapienza/.julia/packages/Flux/goUGu/src/optimise/train.jl:136\n"
     ]
    },
    {
     "name": "stdout",
     "output_type": "stream",
     "text": [
      "Loss: 0.6712346629529031\n",
      "Current parameter: [6.255035881359938]\n",
      "Gradient: [0.13124192140977076]\n",
      "opt: ADAM(0.1, (0.9, 0.999), IdDict{Any, Any}([6.255035881359938] => ([0.12436415079405815], [0.0005483728244206126], (0.01824800363140075, 0.9626946373158061))))\n"
     ]
    },
    {
     "name": "stderr",
     "output_type": "stream",
     "text": [
      "┌ Info: Epoch 39\n",
      "└ @ Main /Users/facundosapienza/.julia/packages/Flux/goUGu/src/optimise/train.jl:136\n"
     ]
    },
    {
     "name": "stdout",
     "output_type": "stream",
     "text": [
      "Loss: 0.6603849514672276\n",
      "Current parameter: [6.151538066205377]\n",
      "Gradient: [0.1317426487624663]\n",
      "opt: ADAM(0.1, (0.9, 0.999), IdDict{Any, Any}([6.151538066205377] => ([0.1250519278556294], [0.0005650488935315204], (0.016423203268260675, 0.9617319426784903))))\n"
     ]
    },
    {
     "name": "stderr",
     "output_type": "stream",
     "text": [
      "┌ Info: Epoch 40\n",
      "└ @ Main /Users/facundosapienza/.julia/packages/Flux/goUGu/src/optimise/train.jl:136\n"
     ]
    },
    {
     "name": "stdout",
     "output_type": "stream",
     "text": [
      "Loss: 0.6494394895281255\n",
      "Current parameter: [6.047876933926437]\n",
      "Gradient: [0.132248000325309]\n",
      "opt: ADAM(0.1, (0.9, 0.999), IdDict{Any, Any}([6.047876933926437] => ([0.1257209999463131], [0.0005818399701409395], (0.014780882941434608, 0.9607702107358118))))\n"
     ]
    },
    {
     "name": "stderr",
     "output_type": "stream",
     "text": [
      "┌ Info: Epoch 41\n",
      "└ @ Main /Users/facundosapienza/.julia/packages/Flux/goUGu/src/optimise/train.jl:136\n"
     ]
    },
    {
     "name": "stdout",
     "output_type": "stream",
     "text": [
      "Loss: 0.638396783064519\n",
      "Current parameter: [5.944050029155176]\n",
      "Gradient: [0.13275805054370077]\n",
      "opt: ADAM(0.1, (0.9, 0.999), IdDict{Any, Any}([5.944050029155176] => ([0.1263736999842127], [0.0005987476637608415], (0.013302794647291147, 0.959809440525076))))\n"
     ]
    },
    {
     "name": "stderr",
     "output_type": "stream",
     "text": [
      "┌ Info: Epoch 42\n",
      "└ @ Main /Users/facundosapienza/.julia/packages/Flux/goUGu/src/optimise/train.jl:136\n"
     ]
    },
    {
     "name": "stdout",
     "output_type": "stream",
     "text": [
      "Loss: 0.6272553152247229\n",
      "Current parameter: [5.840054954567716]\n",
      "Gradient: [0.13327287507844832]\n",
      "opt: ADAM(0.1, (0.9, 0.999), IdDict{Any, Any}([5.840054954567716] => ([0.12701213504016148], [0.0006157736160812444], (0.011972515182562033, 0.9588496310845509))))\n"
     ]
    },
    {
     "name": "stderr",
     "output_type": "stream",
     "text": [
      "┌ Info: Epoch 43\n",
      "└ @ Main /Users/facundosapienza/.julia/packages/Flux/goUGu/src/optimise/train.jl:136\n"
     ]
    },
    {
     "name": "stdout",
     "output_type": "stream",
     "text": [
      "Loss: 0.616013545460735\n",
      "Current parameter: [5.735889366835034]\n",
      "Gradient: [0.13379255085285563]\n",
      "opt: ADAM(0.1, (0.9, 0.999), IdDict{Any, Any}([5.735889366835034] => ([0.12763820904399015], [0.0006329195016968388], (0.01077526366430583, 0.9578907814534664))))\n"
     ]
    },
    {
     "name": "stderr",
     "output_type": "stream",
     "text": [
      "┌ Info: Epoch 44\n",
      "└ @ Main /Users/facundosapienza/.julia/packages/Flux/goUGu/src/optimise/train.jl:136\n"
     ]
    },
    {
     "name": "stdout",
     "output_type": "stream",
     "text": [
      "Loss: 0.6046699085887706\n",
      "Current parameter: [5.631550972645652]\n",
      "Gradient: [0.13431715610112585]\n",
      "opt: ADAM(0.1, (0.9, 0.999), IdDict{Any, Any}([5.631550972645652] => ([0.1282536432248767], [0.0006501870288588559], (0.009697737297875247, 0.9569328906720129))))\n"
     ]
    },
    {
     "name": "stderr",
     "output_type": "stream",
     "text": [
      "┌ Info: Epoch 45\n",
      "└ @ Main /Users/facundosapienza/.julia/packages/Flux/goUGu/src/optimise/train.jl:136\n"
     ]
    },
    {
     "name": "stdout",
     "output_type": "stream",
     "text": [
      "Loss: 0.5932228138265676\n",
      "Current parameter: [5.527037524812427]\n",
      "Gradient: [0.1348467704180567]\n",
      "opt: ADAM(0.1, (0.9, 0.999), IdDict{Any, Any}([5.527037524812427] => ([0.12885999451250163], [0.0006675779402530914], (0.008727963568087723, 0.9559759577813409))))\n"
     ]
    },
    {
     "name": "stderr",
     "output_type": "stream",
     "text": [
      "┌ Info: Epoch 46\n",
      "└ @ Main /Users/facundosapienza/.julia/packages/Flux/goUGu/src/optimise/train.jl:136\n"
     ]
    },
    {
     "name": "stdout",
     "output_type": "stream",
     "text": [
      "Loss: 0.5816706438076745\n",
      "Current parameter: [5.422346818473553]\n",
      "Gradient: [0.13538147481001767]\n",
      "opt: ADAM(0.1, (0.9, 0.999), IdDict{Any, Any}([5.422346818473553] => ([0.12945867210305714], [0.0006850940138050185], (0.00785516721127895, 0.9550199818235596))))\n"
     ]
    },
    {
     "name": "stderr",
     "output_type": "stream",
     "text": [
      "┌ Info: Epoch 47\n",
      "└ @ Main /Users/facundosapienza/.julia/packages/Flux/goUGu/src/optimise/train.jl:136\n"
     ]
    },
    {
     "name": "stdout",
     "output_type": "stream",
     "text": [
      "Loss: 0.5700117535731217\n",
      "Current parameter: [5.317476687395971]\n",
      "Gradient: [0.13592135174721742]\n",
      "opt: ADAM(0.1, (0.9, 0.999), IdDict{Any, Any}([5.317476687395971] => ([0.1300509523737532], [0.0007027370635129489], (0.007069650490151055, 0.9540649618417361))))\n"
     ]
    },
    {
     "name": "stderr",
     "output_type": "stream",
     "text": [
      "┌ Info: Epoch 48\n",
      "└ @ Main /Users/facundosapienza/.julia/packages/Flux/goUGu/src/optimise/train.jl:136\n"
     ]
    },
    {
     "name": "stdout",
     "output_type": "stream",
     "text": [
      "Loss: 0.5582444695403038\n",
      "Current parameter: [5.212425000387627]\n",
      "Gradient: [0.13646648521726257]\n",
      "opt: ADAM(0.1, (0.9, 0.999), IdDict{Any, Any}([5.212425000387627] => ([0.1306379923110996], [0.0007205089403102267], (0.00636268544113595, 0.9531108968798944))))\n"
     ]
    },
    {
     "name": "stderr",
     "output_type": "stream",
     "text": [
      "┌ Info: Epoch 49\n",
      "└ @ Main /Users/facundosapienza/.julia/packages/Flux/goUGu/src/optimise/train.jl:136\n"
     ]
    },
    {
     "name": "stdout",
     "output_type": "stream",
     "text": [
      "Loss: 0.5463670884489249\n",
      "Current parameter: [5.107189657823373]\n",
      "Gradient: [0.1370169607800342]\n",
      "opt: ADAM(0.1, (0.9, 0.999), IdDict{Any, Any}([5.107189657823373] => ([0.1312208416017159], [0.0007384115329574698], (0.005726416897022355, 0.9521577859830145))))\n"
     ]
    },
    {
     "name": "stderr",
     "output_type": "stream",
     "text": [
      "┌ Info: Epoch 50\n",
      "└ @ Main /Users/facundosapienza/.julia/packages/Flux/goUGu/src/optimise/train.jl:136\n"
     ]
    },
    {
     "name": "stdout",
     "output_type": "stream",
     "text": [
      "Loss: 0.5343778762837998\n",
      "Current parameter: [5.00176858828787]\n",
      "Gradient: [0.13757286562390098]\n",
      "opt: ADAM(0.1, (0.9, 0.999), IdDict{Any, Any}([5.00176858828787] => ([0.13180045351954772], [0.0007564467689659099], (0.00515377520732012, 0.9512056281970315))))\n"
     ]
    },
    {
     "name": "stderr",
     "output_type": "stream",
     "text": [
      "┌ Info: Epoch 51\n",
      "└ @ Main /Users/facundosapienza/.julia/packages/Flux/goUGu/src/optimise/train.jl:136\n"
     ]
    },
    {
     "name": "stdout",
     "output_type": "stream",
     "text": [
      "Loss: 0.5222750671738511\n",
      "Current parameter: [4.8961597453375445]\n",
      "Gradient: [0.13813428862330554]\n",
      "opt: ADAM(0.1, (0.9, 0.999), IdDict{Any, Any}([4.8961597453375445] => ([0.13237769472998304], [0.0007746166155529159], (0.004638397686588107, 0.9502544225688344))))\n"
     ]
    },
    {
     "name": "stderr",
     "output_type": "stream",
     "text": [
      "┌ Info: Epoch 52\n",
      "└ @ Main /Users/facundosapienza/.julia/packages/Flux/goUGu/src/optimise/train.jl:136\n"
     ]
    },
    {
     "name": "stdout",
     "output_type": "stream",
     "text": [
      "Loss: 0.5100568622668403\n",
      "Current parameter: [4.790361104382433]\n",
      "Gradient: [0.13870132039776575]\n",
      "opt: ADAM(0.1, (0.9, 0.999), IdDict{Any, Any}([4.790361104382433] => ([0.13295335411931528], [0.0007929230806308297], (0.0041745579179292966, 0.9493041681462656))))\n"
     ]
    },
    {
     "name": "stderr",
     "output_type": "stream",
     "text": [
      "┌ Info: Epoch 53\n",
      "└ @ Main /Users/facundosapienza/.julia/packages/Flux/goUGu/src/optimise/train.jl:136\n"
     ]
    },
    {
     "name": "stdout",
     "output_type": "stream",
     "text": [
      "Loss: 0.49772142857890944\n",
      "Current parameter: [4.6843706596877945]\n",
      "Gradient: [0.13927405337233165]\n",
      "opt: ADAM(0.1, (0.9, 0.999), IdDict{Any, Any}([4.6843706596877945] => ([0.13352815074716032], [0.0008113682138302825], (0.003757102126136367, 0.9483548639781193))))\n"
     ]
    },
    {
     "name": "stderr",
     "output_type": "stream",
     "text": [
      "┌ Info: Epoch 54\n",
      "└ @ Main /Users/facundosapienza/.julia/packages/Flux/goUGu/src/optimise/train.jl:136\n"
     ]
    },
    {
     "name": "stdout",
     "output_type": "stream",
     "text": [
      "Loss: 0.48526689781813936\n",
      "Current parameter: [4.578186421494392]\n",
      "Gradient: [0.13985258183956428]\n",
      "opt: ADAM(0.1, (0.9, 0.999), IdDict{Any, Any}([4.578186421494392] => ([0.13410274100967745], [0.0008299541075592114], (0.00338139191352273, 0.9474065091141411))))\n"
     ]
    },
    {
     "name": "stderr",
     "output_type": "stream",
     "text": [
      "┌ Info: Epoch 55\n",
      "└ @ Main /Users/facundosapienza/.julia/packages/Flux/goUGu/src/optimise/train.jl:136\n"
     ]
    },
    {
     "name": "stdout",
     "output_type": "stream",
     "text": [
      "Loss: 0.4726913651810336\n",
      "Current parameter: [4.471806413255624]\n",
      "Gradient: [0.14043700202308693]\n",
      "opt: ADAM(0.1, (0.9, 0.999), IdDict{Any, Any}([4.471806413255624] => ([0.13467772509266612], [0.0008486828980988442], (0.0030432527221704573, 0.946459102605027))))\n"
     ]
    },
    {
     "name": "stderr",
     "output_type": "stream",
     "text": [
      "┌ Info: Epoch 56\n",
      "└ @ Main /Users/facundosapienza/.julia/packages/Flux/goUGu/src/optimise/train.jl:136\n"
     ]
    },
    {
     "name": "stdout",
     "output_type": "stream",
     "text": [
      "Loss: 0.4599928881207269\n",
      "Current parameter: [4.365228668988988]\n",
      "Gradient: [0.1410274121427785]\n",
      "opt: ADAM(0.1, (0.9, 0.999), IdDict{Any, Any}([4.365228668988988] => ([0.13525365278570822], [0.0008675567667379779], (0.0027389274499534117, 0.9455126435024219))))\n"
     ]
    },
    {
     "name": "stderr",
     "output_type": "stream",
     "text": [
      "┌ Info: Epoch 57\n",
      "└ @ Main /Users/facundosapienza/.julia/packages/Flux/goUGu/src/optimise/train.jl:136\n"
     ]
    },
    {
     "name": "stdout",
     "output_type": "stream",
     "text": [
      "Loss: 0.44716948508574406\n",
      "Current parameter: [4.258451230738797]\n",
      "Gradient: [0.14162391248169046]\n",
      "opt: ADAM(0.1, (0.9, 0.999), IdDict{Any, Any}([4.258451230738797] => ([0.13583102872141525], [0.000886577940946929], (0.0024650347049580707, 0.9445671308589195))))\n"
     ]
    },
    {
     "name": "stderr",
     "output_type": "stream",
     "text": [
      "┌ Info: Epoch 58\n",
      "└ @ Main /Users/facundosapienza/.julia/packages/Flux/goUGu/src/optimise/train.jl:136\n"
     ]
    },
    {
     "name": "stdout",
     "output_type": "stream",
     "text": [
      "Loss: 0.4342191342277734\n",
      "Current parameter: [4.151472146146626]\n",
      "Gradient: [0.14222660545475663]\n",
      "opt: ADAM(0.1, (0.9, 0.999), IdDict{Any, Any}([4.151472146146626] => ([0.13641031709744278], [0.0009057486955926036], (0.0022185312344622636, 0.9436225637280606))))\n"
     ]
    },
    {
     "name": "stderr",
     "output_type": "stream",
     "text": [
      "┌ Info: Epoch 59\n",
      "└ @ Main /Users/facundosapienza/.julia/packages/Flux/goUGu/src/optimise/train.jl:136\n"
     ]
    },
    {
     "name": "stdout",
     "output_type": "stream",
     "text": [
      "Loss: 0.42113977207705067\n",
      "Current parameter: [4.044289466125555]\n",
      "Gradient: [0.14283559567938764]\n",
      "opt: ADAM(0.1, (0.9, 0.999), IdDict{Any, Any}([4.044289466125555] => ([0.13699194593317415], [0.000925071354196194], (0.001996678111016037, 0.9426789411643326))))\n"
     ]
    },
    {
     "name": "stderr",
     "output_type": "stream",
     "text": [
      "┌ Info: Epoch 60\n",
      "└ @ Main /Users/facundosapienza/.julia/packages/Flux/goUGu/src/optimise/train.jl:136\n"
     ]
    },
    {
     "name": "stdout",
     "output_type": "stream",
     "text": [
      "Loss: 0.4079292921836818\n",
      "Current parameter: [3.936901242633988]\n",
      "Gradient: [0.14345099004804288]\n",
      "opt: ADAM(0.1, (0.9, 0.999), IdDict{Any, Any}([3.936901242633988] => ([0.1375763109077955], [0.0009445482902350833], (0.0017970102999144335, 0.9417362622231683))))\n"
     ]
    },
    {
     "name": "stderr",
     "output_type": "stream",
     "text": [
      "┌ Info: Epoch 61\n",
      "└ @ Main /Users/facundosapienza/.julia/packages/Flux/goUGu/src/optimise/train.jl:136\n"
     ]
    },
    {
     "name": "stdout",
     "output_type": "stream",
     "text": [
      "Loss: 0.3945855437231879\n",
      "Current parameter: [3.8293055265446014]\n",
      "Gradient: [0.14407289780287275]\n",
      "opt: ADAM(0.1, (0.9, 0.999), IdDict{Any, Any}([3.8293055265446014] => ([0.13816377882182027], [0.0009641819284906119], (0.0016173092699229901, 0.9407945259609451))))\n"
     ]
    },
    {
     "name": "stderr",
     "output_type": "stream",
     "text": [
      "┌ Info: Epoch 62\n",
      "└ @ Main /Users/facundosapienza/.julia/packages/Flux/goUGu/src/optimise/train.jl:136\n"
     ]
    },
    {
     "name": "stdout",
     "output_type": "stream",
     "text": [
      "Loss: 0.3811063300643942\n",
      "Current parameter: [3.721500365603781]\n",
      "Gradient: [0.14470143061254093]\n",
      "opt: ADAM(0.1, (0.9, 0.999), IdDict{Any, Any}([3.721500365603781] => ([0.13875469071992552], [0.0009839747464434384], (0.0014555783429306911, 0.9398537314349842))))\n"
     ]
    },
    {
     "name": "stderr",
     "output_type": "stream",
     "text": [
      "┌ Info: Epoch 63\n",
      "└ @ Main /Users/facundosapienza/.julia/packages/Flux/goUGu/src/optimise/train.jl:136\n"
     ]
    },
    {
     "name": "stdout",
     "output_type": "stream",
     "text": [
      "Loss: 0.3674894072978621\n",
      "Current parameter: [3.6134838024768117]\n",
      "Gradient: [0.14533670265132995]\n",
      "opt: ADAM(0.1, (0.9, 0.999), IdDict{Any, Any}([3.6134838024768117] => ([0.13934936470918707], [0.001003929275718311], (0.001310020508637622, 0.9389138777035492))))\n"
     ]
    },
    {
     "name": "stderr",
     "output_type": "stream",
     "text": [
      "┌ Info: Epoch 64\n",
      "└ @ Main /Users/facundosapienza/.julia/packages/Flux/goUGu/src/optimise/train.jl:136\n"
     ]
    },
    {
     "name": "stdout",
     "output_type": "stream",
     "text": [
      "Loss: 0.35373248272260605\n",
      "Current parameter: [3.505253872874]\n",
      "Gradient: [0.14597883068064982]\n",
      "opt: ADAM(0.1, (0.9, 0.999), IdDict{Any, Any}([3.505253872874] => ([0.13994809850340137], [0.0010240481035801538], (0.0011790184577738598, 0.9379749638258457))))\n"
     ]
    },
    {
     "name": "stderr",
     "output_type": "stream",
     "text": [
      "┌ Info: Epoch 65\n",
      "└ @ Main /Users/facundosapienza/.julia/packages/Flux/goUGu/src/optimise/train.jl:136\n"
     ]
    },
    {
     "name": "stdout",
     "output_type": "stream",
     "text": [
      "Loss: 0.3398332132891609\n",
      "Current parameter: [3.396808603752889]\n",
      "Gradient: [0.14662793413307287]\n",
      "opt: ADAM(0.1, (0.9, 0.999), IdDict{Any, Any}([3.396808603752889] => ([0.14055117172112622], [0.0010443338744834634], (0.0010611166119964739, 0.9370369888620198))))\n"
     ]
    },
    {
     "name": "stderr",
     "output_type": "stream",
     "text": [
      "┌ Info: Epoch 66\n",
      "└ @ Main /Users/facundosapienza/.julia/packages/Flux/goUGu/src/optimise/train.jl:136\n"
     ]
    },
    {
     "name": "stdout",
     "output_type": "stream",
     "text": [
      "Loss: 0.3257892039966169\n",
      "Current parameter: [3.2881460115917256]\n",
      "Gradient: [0.14728413519901434]\n",
      "opt: ADAM(0.1, (0.9, 0.999), IdDict{Any, Any}([3.2881460115917256] => ([0.1411588479623209], [0.0010647892916771128], (0.0009550049507968265, 0.9360999518731578))))\n"
     ]
    },
    {
     "name": "stderr",
     "output_type": "stream",
     "text": [
      "┌ Info: Epoch 67\n",
      "└ @ Main /Users/facundosapienza/.julia/packages/Flux/goUGu/src/optimise/train.jl:136\n"
     ]
    },
    {
     "name": "stdout",
     "output_type": "stream",
     "text": [
      "Loss: 0.3115980062412614\n",
      "Current parameter: [3.1792641007293794]\n",
      "Gradient: [0.1479475589162014]\n",
      "opt: ADAM(0.1, (0.9, 0.999), IdDict{Any, Any}([3.1792641007293794] => ([0.14177137668599024], [0.0010854171188667571], (0.0008595044557171439, 0.9351638519212846))))\n"
     ]
    },
    {
     "name": "stderr",
     "output_type": "stream",
     "text": [
      "┌ Info: Epoch 68\n",
      "└ @ Main /Users/facundosapienza/.julia/packages/Flux/goUGu/src/optimise/train.jl:136\n"
     ]
    },
    {
     "name": "stdout",
     "output_type": "stream",
     "text": [
      "Loss: 0.29725711611444083\n",
      "Current parameter: [3.070160861766972]\n",
      "Gradient: [0.14861833326206844]\n",
      "opt: ADAM(0.1, (0.9, 0.999), IdDict{Any, Any}([3.070160861766972] => ([0.14238899490901136], [0.0011062201819371533], (0.0007735540101454295, 0.9342286880693633))))\n"
     ]
    },
    {
     "name": "stderr",
     "output_type": "stream",
     "text": [
      "┌ Info: Epoch 69\n",
      "└ @ Main /Users/facundosapienza/.julia/packages/Flux/goUGu/src/optimise/train.jl:136\n"
     ]
    },
    {
     "name": "stdout",
     "output_type": "stream",
     "text": [
      "Loss: 0.2827639726469727\n",
      "Current parameter: [2.9608342700265595]\n",
      "Gradient: [0.14929658924922484]\n",
      "opt: ADAM(0.1, (0.9, 0.999), IdDict{Any, Any}([2.9608342700265595] => ([0.14301192874431706], [0.0011272013707368112], (0.0006961986091308866, 0.933294459381294))))\n"
     ]
    },
    {
     "name": "stderr",
     "output_type": "stream",
     "text": [
      "┌ Info: Epoch 70\n",
      "└ @ Main /Users/facundosapienza/.julia/packages/Flux/goUGu/src/optimise/train.jl:136\n"
     ]
    },
    {
     "name": "stdout",
     "output_type": "stream",
     "text": [
      "Loss: 0.268115955997393\n",
      "Current parameter: [2.851282284062298]\n",
      "Gradient: [0.1499824610241482]\n",
      "opt: ADAM(0.1, (0.9, 0.999), IdDict{Any, Any}([2.851282284062298] => ([0.14364039479480784], [0.0011483636409275262], (0.0006265787482177979, 0.9323611649219127))))\n"
     ]
    },
    {
     "name": "stderr",
     "output_type": "stream",
     "text": [
      "┌ Info: Epoch 71\n",
      "└ @ Main /Users/facundosapienza/.julia/packages/Flux/goUGu/src/optimise/train.jl:136\n"
     ]
    },
    {
     "name": "stdout",
     "output_type": "stream",
     "text": [
      "Loss: 0.2533103855813192\n",
      "Current parameter: [2.741502844219649]\n",
      "Gradient: [0.15067608596927404]\n",
      "opt: ADAM(0.1, (0.9, 0.999), IdDict{Any, Any}([2.741502844219649] => ([0.14427460141774187], [0.0011697100159014588], (0.0005639208733960181, 0.9314288037569908))))\n"
     ]
    },
    {
     "name": "stderr",
     "output_type": "stream",
     "text": [
      "┌ Info: Epoch 72\n",
      "└ @ Main /Users/facundosapienza/.julia/packages/Flux/goUGu/src/optimise/train.jl:136\n"
     ]
    },
    {
     "name": "stdout",
     "output_type": "stream",
     "text": [
      "Loss: 0.23834451813882773\n",
      "Current parameter: [2.6314938712382823]\n",
      "Gradient: [0.15137760480863627]\n",
      "opt: ADAM(0.1, (0.9, 0.999), IdDict{Any, Any}([2.6314938712382823] => ([0.1449147498728951], [0.0011912435887685775], (0.0005075287860564164, 0.9304973749532338))))\n"
     ]
    },
    {
     "name": "stderr",
     "output_type": "stream",
     "text": [
      "┌ Info: Epoch 73\n",
      "└ @ Main /Users/facundosapienza/.julia/packages/Flux/goUGu/src/optimise/train.jl:136\n"
     ]
    },
    {
     "name": "stdout",
     "output_type": "stream",
     "text": [
      "Loss: 0.22321554573685287\n",
      "Current parameter: [2.521253264894477]\n",
      "Gradient: [0.15208716171725337]\n",
      "opt: ADAM(0.1, (0.9, 0.999), IdDict{Any, Any}([2.521253264894477] => ([0.14556103536646922], [0.0012129675244174087], (0.00045677590745077476, 0.9295668775782806))))\n"
     ]
    },
    {
     "name": "stderr",
     "output_type": "stream",
     "text": [
      "┌ Info: Epoch 74\n",
      "└ @ Main /Users/facundosapienza/.julia/packages/Flux/goUGu/src/optimise/train.jl:136\n"
     ]
    },
    {
     "name": "stdout",
     "output_type": "stream",
     "text": [
      "Loss: 0.20792059370333796\n",
      "Current parameter: [2.410778902678942]\n",
      "Gradient: [0.15280490443443484]\n",
      "opt: ADAM(0.1, (0.9, 0.999), IdDict{Any, Any}([2.410778902678942] => ([0.14621364800154765], [0.0012348850616522014], (0.0004110983167056973, 0.9286373107007023))))\n"
     ]
    },
    {
     "name": "stderr",
     "output_type": "stream",
     "text": [
      "┌ Info: Epoch 75\n",
      "└ @ Main /Users/facundosapienza/.julia/packages/Flux/goUGu/src/optimise/train.jl:136\n"
     ]
    },
    {
     "name": "stdout",
     "output_type": "stream",
     "text": [
      "Loss: 0.1924567184897718\n",
      "Current parameter: [2.3000686385061084]\n",
      "Gradient: [0.15353098438120905]\n",
      "opt: ADAM(0.1, (0.9, 0.999), IdDict{Any, Any}([2.3000686385061084] => ([0.14687277364483636], [0.001256999515409766], (0.0003699884850351276, 0.9277086733900016))))\n"
     ]
    },
    {
     "name": "stderr",
     "output_type": "stream",
     "text": [
      "┌ Info: Epoch 76\n",
      "└ @ Main /Users/facundosapienza/.julia/packages/Flux/goUGu/src/optimise/train.jl:136\n"
     ]
    },
    {
     "name": "stdout",
     "output_type": "stream",
     "text": [
      "Loss: 0.1768209054585514\n",
      "Current parameter: [2.189120301451096]\n",
      "Gradient: [0.1542655567820767]\n",
      "opt: ADAM(0.1, (0.9, 0.999), IdDict{Any, Any}([2.189120301451096] => ([0.14753859471847364], [0.0012793142790594194], (0.00033298963653161486, 0.9267809647166116))))\n"
     ]
    },
    {
     "name": "stderr",
     "output_type": "stream",
     "text": [
      "┌ Info: Epoch 77\n",
      "└ @ Main /Users/facundosapienza/.julia/packages/Flux/goUGu/src/optimise/train.jl:136\n"
     ]
    },
    {
     "name": "stdout",
     "output_type": "stream",
     "text": [
      "Loss: 0.16101006659147352\n",
      "Current parameter: [2.077931694510663]\n",
      "Gradient: [0.15500878079130648]\n",
      "opt: ADAM(0.1, (0.9, 0.999), IdDict{Any, Any}([2.077931694510663] => ([0.14821129092483395], [0.001301832826789644], (0.0002996906728784534, 0.925854183751895))))\n"
     ]
    },
    {
     "name": "stderr",
     "output_type": "stream",
     "text": [
      "┌ Info: Epoch 78\n",
      "└ @ Main /Users/facundosapienza/.julia/packages/Flux/goUGu/src/optimise/train.jl:136\n"
     ]
    },
    {
     "name": "stdout",
     "output_type": "stream",
     "text": [
      "Loss: 0.14502103811552544\n",
      "Current parameter: [1.966500593384604]\n",
      "Gradient: [0.1557608196239984]\n",
      "opt: ADAM(0.1, (0.9, 0.999), IdDict{Any, Any}([1.966500593384604] => ([0.1488910399114812], [0.0013245587160852616], (0.00026972160559060804, 0.9249283295681431))))\n"
     ]
    },
    {
     "name": "stderr",
     "output_type": "stream",
     "text": [
      "┌ Info: Epoch 79\n",
      "└ @ Main /Users/facundosapienza/.julia/packages/Flux/goUGu/src/optimise/train.jl:136\n"
     ]
    },
    {
     "name": "stdout",
     "output_type": "stream",
     "text": [
      "Loss: 0.1288505780418366\n",
      "Current parameter: [1.8548247452741649]\n",
      "Gradient: [0.1565218406921561]\n",
      "opt: ADAM(0.1, (0.9, 0.999), IdDict{Any, Any}([1.8548247452741649] => ([0.14957801788273292], [0.001347495590299116], (0.00024274944503154723, 0.9240034012385749))))\n"
     ]
    },
    {
     "name": "stderr",
     "output_type": "stream",
     "text": [
      "┌ Info: Epoch 80\n",
      "└ @ Main /Users/facundosapienza/.julia/packages/Flux/goUGu/src/optimise/train.jl:136\n"
     ]
    },
    {
     "name": "stdout",
     "output_type": "stream",
     "text": [
      "Loss: 0.11249536361357258\n",
      "Current parameter: [1.742901867694183]\n",
      "Gradient: [0.15729201574601717]\n",
      "opt: ADAM(0.1, (0.9, 0.999), IdDict{Any, Any}([1.742901867694183] => ([0.15027240016367524], [0.0013706471813224777], (0.00021847450052839252, 0.9230793978373364))))\n"
     ]
    },
    {
     "name": "stderr",
     "output_type": "stream",
     "text": [
      "┌ Info: Epoch 81\n",
      "└ @ Main /Users/facundosapienza/.julia/packages/Flux/goUGu/src/optimise/train.jl:136\n"
     ]
    },
    {
     "name": "stdout",
     "output_type": "stream",
     "text": [
      "Loss: 0.09595198865832111\n",
      "Current parameter: [1.6307296472957638]\n",
      "Gradient: [0.15807152102090297]\n",
      "opt: ADAM(0.1, (0.9, 0.999), IdDict{Any, Any}([1.6307296472957638] => ([0.15097436172190945], [0.0013940173123586006], (0.00019662705047555326, 0.9221563184394991))))\n"
     ]
    },
    {
     "name": "stderr",
     "output_type": "stream",
     "text": [
      "┌ Info: Epoch 82\n",
      "└ @ Main /Users/facundosapienza/.julia/packages/Flux/goUGu/src/optimise/train.jl:136\n"
     ]
    },
    {
     "name": "stdout",
     "output_type": "stream",
     "text": [
      "Loss: 0.07921696084023219\n",
      "Current parameter: [1.518305738696422]\n",
      "Gradient: [0.1588605373898766]\n",
      "opt: ADAM(0.1, (0.9, 0.999), IdDict{Any, Any}([1.518305738696422] => ([0.1516840776518088], [0.0014176099008041036], (0.00017696434542799794, 0.9212341621210596))))\n"
     ]
    },
    {
     "name": "stderr",
     "output_type": "stream",
     "text": [
      "┌ Info: Epoch 83\n",
      "└ @ Main /Users/facundosapienza/.julia/packages/Flux/goUGu/src/optimise/train.jl:136\n"
     ]
    },
    {
     "name": "stdout",
     "output_type": "stream",
     "text": [
      "Loss: 0.06228669880704282\n",
      "Current parameter: [1.4056277633147167]\n",
      "Gradient: [0.1596592505224897]\n",
      "opt: ADAM(0.1, (0.9, 0.999), IdDict{Any, Any}([1.4056277633147167] => ([0.15240172362561558], [0.0014414289612431], (0.00015926791088519815, 0.9203129279589385))))\n"
     ]
    },
    {
     "name": "stderr",
     "output_type": "stream",
     "text": [
      "┌ Info: Epoch 84\n",
      "└ @ Main /Users/facundosapienza/.julia/packages/Flux/goUGu/src/optimise/train.jl:136\n"
     ]
    },
    {
     "name": "stdout",
     "output_type": "stream",
     "text": [
      "Loss: 0.045157529226803536\n",
      "Current parameter: [1.2926933082065044]\n",
      "Gradient: [0.16046785104994202]\n",
      "opt: ADAM(0.1, (0.9, 0.999), IdDict{Any, Any}([1.2926933082065044] => ([0.153127476315303], [0.00146547860855926], (0.00014334111979667834, 0.9193926150309796))))\n"
     ]
    },
    {
     "name": "stderr",
     "output_type": "stream",
     "text": [
      "┌ Info: Epoch 85\n",
      "└ @ Main /Users/facundosapienza/.julia/packages/Flux/goUGu/src/optimise/train.jl:136\n"
     ]
    },
    {
     "name": "stdout",
     "output_type": "stream",
     "text": [
      "Loss: 0.027825683708781468\n",
      "Current parameter: [1.1794999249000269]\n",
      "Gradient: [0.16128653473697627]\n",
      "opt: ADAM(0.1, (0.9, 0.999), IdDict{Any, Any}([1.1794999249000269] => ([0.1538615137887669], [0.001489763061171287], (0.00012900700781701051, 0.9184732224159486))))\n"
     ]
    },
    {
     "name": "stderr",
     "output_type": "stream",
     "text": [
      "┌ Info: Epoch 86\n",
      "└ @ Main /Users/facundosapienza/.julia/packages/Flux/goUGu/src/optimise/train.jl:136\n"
     ]
    },
    {
     "name": "stdout",
     "output_type": "stream",
     "text": [
      "Loss: 0.010287295602973368\n",
      "Current parameter: [1.066045128227126]\n",
      "Gradient: [0.16211550266085345]\n",
      "opt: ADAM(0.1, (0.9, 0.999), IdDict{Any, Any}([1.066045128227126] => ([0.15460401588358783], [0.0015142866443975777], (0.00011610630703530947, 0.9175547491935327))))\n"
     ]
    },
    {
     "name": "stderr",
     "output_type": "stream",
     "text": [
      "┌ Info: Epoch 87\n",
      "└ @ Main /Users/facundosapienza/.julia/packages/Flux/goUGu/src/optimise/train.jl:136\n"
     ]
    },
    {
     "name": "stdout",
     "output_type": "stream",
     "text": [
      "Loss: 0.007461603327948948\n",
      "Current parameter: [0.9523263951479545]\n",
      "Gradient: [-0.16295496139779042]\n",
      "opt: ADAM(0.1, (0.9, 0.999), IdDict{Any, Any}([0.9523263951479545] => ([0.15535516456131437], [0.0015390537939561613], (0.00010449567633177853, 0.9166371944443392))))\n"
     ]
    },
    {
     "name": "stderr",
     "output_type": "stream",
     "text": [
      "┌ Info: Epoch 88\n",
      "└ @ Main /Users/facundosapienza/.julia/packages/Flux/goUGu/src/optimise/train.jl:136\n"
     ]
    },
    {
     "name": "stdout",
     "output_type": "stream",
     "text": [
      "Loss: 0.021660555759516968\n",
      "Current parameter: [0.8621370087449787]\n",
      "Gradient: [-0.1636269122604098]\n",
      "opt: ADAM(0.1, (0.9, 0.999), IdDict{Any, Any}([0.8621370087449787] => ([0.1235241519654039], [0.0015640690596063606], (9.404610869860067e-5, 0.9157205572498949))))\n"
     ]
    },
    {
     "name": "stderr",
     "output_type": "stream",
     "text": [
      "┌ Info: Epoch 89\n",
      "└ @ Main /Users/facundosapienza/.julia/packages/Flux/goUGu/src/optimise/train.jl:136\n"
     ]
    },
    {
     "name": "stdout",
     "output_type": "stream",
     "text": [
      "Loss: 0.03260518690581062\n",
      "Current parameter: [0.793088965281603]\n",
      "Gradient: [-0.16414509338626418]\n",
      "opt: ADAM(0.1, (0.9, 0.999), IdDict{Any, Any}([0.793088965281603] => ([0.09480904554282253], [0.0015892787569626301], (8.464149782874061e-5, 0.914804836692645))))\n"
     ]
    },
    {
     "name": "stderr",
     "output_type": "stream",
     "text": [
      "┌ Info: Epoch 90\n",
      "└ @ Main /Users/facundosapienza/.julia/packages/Flux/goUGu/src/optimise/train.jl:136\n"
     ]
    },
    {
     "name": "stdout",
     "output_type": "stream",
     "text": [
      "Loss: 0.04058099253042153\n",
      "Current parameter: [0.7430264792619184]\n",
      "Gradient: [-0.164522843764864]\n",
      "opt: ADAM(0.1, (0.9, 0.999), IdDict{Any, Any}([0.7430264792619184] => ([0.06891363164991386], [0.0016146330898884529], (7.617734804586655e-5, 0.9138900318559524))))\n"
     ]
    },
    {
     "name": "stderr",
     "output_type": "stream",
     "text": [
      "┌ Info: Epoch 91\n",
      "└ @ Main /Users/facundosapienza/.julia/packages/Flux/goUGu/src/optimise/train.jl:136\n"
     ]
    },
    {
     "name": "stdout",
     "output_type": "stream",
     "text": [
      "Loss: 0.04586075118028191\n",
      "Current parameter: [0.7100043324123243]\n",
      "Gradient: [-0.16477296433071162]\n",
      "opt: ADAM(0.1, (0.9, 0.999), IdDict{Any, Any}([0.7100043324123243] => ([0.045569984108436073], [0.0016400862229190422], (6.85596132412799e-5, 0.9129761418240965))))\n"
     ]
    },
    {
     "name": "stderr",
     "output_type": "stream",
     "text": [
      "┌ Info: Epoch 92\n",
      "└ @ Main /Users/facundosapienza/.julia/packages/Flux/goUGu/src/optimise/train.jl:136\n"
     ]
    },
    {
     "name": "stdout",
     "output_type": "stream",
     "text": [
      "Loss: 0.048702706932865714\n",
      "Current parameter: [0.692268061857258]\n",
      "Gradient: [-0.16490761761758535]\n",
      "opt: ADAM(0.1, (0.9, 0.999), IdDict{Any, Any}([0.692268061857258] => ([0.024535689264521307], [0.0016655962664704532], (6.170365191715192e-5, 0.9120631656822724))))\n"
     ]
    },
    {
     "name": "stderr",
     "output_type": "stream",
     "text": [
      "┌ Info: Epoch 93\n",
      "└ @ Main /Users/facundosapienza/.julia/packages/Flux/goUGu/src/optimise/train.jl:136\n"
     ]
    },
    {
     "name": "stdout",
     "output_type": "stream",
     "text": [
      "Loss: 0.04934940681908385\n",
      "Current parameter: [0.688235865753041]\n",
      "Gradient: [-0.1649382605311029]\n",
      "opt: ADAM(0.1, (0.9, 0.999), IdDict{Any, Any}([0.688235865753041] => ([0.005591358576310646], [0.0016911251925522904], (5.5533286725436733e-5, 0.9111511025165902))))\n"
     ]
    },
    {
     "name": "stderr",
     "output_type": "stream",
     "text": [
      "┌ Info: Epoch 94\n",
      "└ @ Main /Users/facundosapienza/.julia/packages/Flux/goUGu/src/optimise/train.jl:136\n"
     ]
    },
    {
     "name": "stdout",
     "output_type": "stream",
     "text": [
      "Loss: 0.04802708082398557\n",
      "Current parameter: [0.6964821069565424]\n",
      "Gradient: [-0.1648756048497732]\n",
      "opt: ADAM(0.1, (0.9, 0.999), IdDict{Any, Any}([0.6964821069565424] => ([-0.011461603334430706], [0.001716638697146764], (4.997995805289306e-5, 0.9102399514140735))))\n"
     ]
    },
    {
     "name": "stderr",
     "output_type": "stream",
     "text": [
      "┌ Info: Epoch 95\n",
      "└ @ Main /Users/facundosapienza/.julia/packages/Flux/goUGu/src/optimise/train.jl:136\n"
     ]
    },
    {
     "name": "stdout",
     "output_type": "stream",
     "text": [
      "Loss: 0.044945460427180825\n",
      "Current parameter: [0.715722298289577]\n",
      "Gradient: [-0.16472960036727963]\n",
      "opt: ADAM(0.1, (0.9, 0.999), IdDict{Any, Any}([0.715722298289577] => ([-0.026803003485964955], [0.0017421060235241958], (4.4981962247603756e-5, 0.9093297114626595))))\n"
     ]
    },
    {
     "name": "stderr",
     "output_type": "stream",
     "text": [
      "┌ Info: Epoch 96\n",
      "└ @ Main /Users/facundosapienza/.julia/packages/Flux/goUGu/src/optimise/train.jl:136\n"
     ]
    },
    {
     "name": "stdout",
     "output_type": "stream",
     "text": [
      "Loss: 0.04029794224619823\n",
      "Current parameter: [0.7447994567030063]\n",
      "Gradient: [-0.16450943604671878]\n",
      "opt: ADAM(0.1, (0.9, 0.999), IdDict{Any, Any}([0.7447994567030063] => ([-0.04059566317409642], [0.0017674997587378352], (4.048376602284338e-5, 0.9084203817511969))))\n"
     ]
    },
    {
     "name": "stderr",
     "output_type": "stream",
     "text": [
      "┌ Info: Epoch 97\n",
      "└ @ Main /Users/facundosapienza/.julia/packages/Flux/goUGu/src/optimise/train.jl:136\n"
     ]
    },
    {
     "name": "stdout",
     "output_type": "stream",
     "text": [
      "Loss: 0.03426201512257562\n",
      "Current parameter: [0.7826717181105034]\n",
      "Gradient: [-0.16422355509732414]\n",
      "opt: ADAM(0.1, (0.9, 0.999), IdDict{Any, Any}([0.7826717181105034] => ([-0.05298704046135866], [0.0017927956135275068], (3.6435389420559045e-5, 0.9075119613694457))))\n"
     ]
    },
    {
     "name": "stderr",
     "output_type": "stream",
     "text": [
      "┌ Info: Epoch 98\n",
      "└ @ Main /Users/facundosapienza/.julia/packages/Flux/goUGu/src/optimise/train.jl:136\n"
     ]
    },
    {
     "name": "stdout",
     "output_type": "stream",
     "text": [
      "Loss: 0.026999880951237783\n",
      "Current parameter: [0.8284011097415822]\n",
      "Gradient: [-0.16387968045110202]\n",
      "opt: ADAM(0.1, (0.9, 0.999), IdDict{Any, Any}([0.8284011097415822] => ([-0.06411069192495521], [0.001817972193962783], (3.279185047850314e-5, 0.9066044494080763))))\n"
     ]
    },
    {
     "name": "stderr",
     "output_type": "stream",
     "text": [
      "┌ Info: Epoch 99\n",
      "└ @ Main /Users/facundosapienza/.julia/packages/Flux/goUGu/src/optimise/train.jl:136\n"
     ]
    },
    {
     "name": "stdout",
     "output_type": "stream",
     "text": [
      "Loss: 0.01865921102440945\n",
      "Current parameter: [0.8811433824114044]\n",
      "Gradient: [-0.1634848476724358]\n",
      "opt: ADAM(0.1, (0.9, 0.999), IdDict{Any, Any}([0.8811433824114044] => ([-0.07408759077756989], [0.0018430107714335756], (2.9512665430652825e-5, 0.9056978449586682))))\n"
     ]
    },
    {
     "name": "stderr",
     "output_type": "stream",
     "text": [
      "┌ Info: Epoch 100\n",
      "└ @ Main /Users/facundosapienza/.julia/packages/Flux/goUGu/src/optimise/train.jl:136\n"
     ]
    },
    {
     "name": "stdout",
     "output_type": "stream",
     "text": [
      "Loss: 0.009373990222165078\n",
      "Current parameter: [0.9401388109656372]\n",
      "Gradient: [-0.16304544285335154]\n",
      "opt: ADAM(0.1, (0.9, 0.999), IdDict{Any, Any}([0.9401388109656372] => ([-0.08302731646705648], [0.0018678950560806218], (2.6561398887587544e-5, 0.9047921471137096))))\n"
     ]
    },
    {
     "data": {
      "text/plain": [
       "1.00470387718364"
      ]
     },
     "execution_count": 14,
     "metadata": {},
     "output_type": "execute_result"
    }
   ],
   "source": [
    "θ₁ = train(loss, p)  #  I STILL GET AN ERROR HERE\n",
    "D = θ₁[1]"
   ]
  },
  {
   "cell_type": "markdown",
   "id": "320378c8",
   "metadata": {},
   "source": [
    "Finally, this is the value for $D$ that we find after performing optimization with respect of the numerical methods:"
   ]
  },
  {
   "cell_type": "code",
   "execution_count": 15,
   "id": "932f318b",
   "metadata": {},
   "outputs": [
    {
     "data": {
      "text/plain": [
       "1.00470387718364"
      ]
     },
     "execution_count": 15,
     "metadata": {},
     "output_type": "execute_result"
    }
   ],
   "source": [
    "D"
   ]
  }
 ],
 "metadata": {
  "kernelspec": {
   "display_name": "Julia 1.6.0",
   "language": "julia",
   "name": "julia-1.6"
  },
  "language_info": {
   "file_extension": ".jl",
   "mimetype": "application/julia",
   "name": "julia",
   "version": "1.6.0"
  }
 },
 "nbformat": 4,
 "nbformat_minor": 5
}
