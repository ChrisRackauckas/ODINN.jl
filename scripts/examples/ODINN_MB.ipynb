{
 "cells": [
  {
   "cell_type": "markdown",
   "metadata": {},
   "source": [
    "# Combining OGGM's climate data with ODINN's MB model"
   ]
  },
  {
   "cell_type": "code",
   "execution_count": 1,
   "metadata": {},
   "outputs": [
    {
     "name": "stderr",
     "output_type": "stream",
     "text": [
      "\u001b[32m\u001b[1m  Activating\u001b[22m\u001b[39m environment at `~/Desktop/Jordi/Julia/odinn_toy_model/Project.toml`\n"
     ]
    }
   ],
   "source": [
    "## Environment and packages\n",
    "using Pkg; Pkg.activate(\"../../.\"); Pkg.instantiate()"
   ]
  },
  {
   "cell_type": "code",
   "execution_count": 2,
   "metadata": {},
   "outputs": [
    {
     "name": "stderr",
     "output_type": "stream",
     "text": [
      "\u001b[32m\u001b[1m    Building\u001b[22m\u001b[39m Conda ─→ `~/.julia/scratchspaces/44cfe95a-1eb2-52ea-b672-e2afdf69b78f/299304989a5e6473d985212c28928899c74e9421/build.log`\n",
      "\u001b[32m\u001b[1m    Building\u001b[22m\u001b[39m PyCall → `~/.julia/scratchspaces/44cfe95a-1eb2-52ea-b672-e2afdf69b78f/169bb8ea6b1b143c5cf57df6d34d022a7b60c6db/build.log`\n"
     ]
    }
   ],
   "source": [
    "ENV[\"PYTHON\"] = \"/Users/Bolib001/miniconda3/envs/oggm_env/bin/python3.9\" # Choose own Python environment with OGGM's installation\n",
    "using PyCall\n",
    "Pkg.build(\"PyCall\")"
   ]
  },
  {
   "cell_type": "markdown",
   "metadata": {},
   "source": [
    "## Import Python OGGM libraries and configure Glacier directories\n",
    "\n",
    "A call to [cfg.initialize()](https://docs.oggm.org/en/stable/generated/oggm.cfg.initialize.html) will read the default parameter file (or any user-provided file) and make them available to all other OGGM tools via the `cfg.PARAMS` dictionary. Here are some examples of these parameters:"
   ]
  },
  {
   "cell_type": "markdown",
   "metadata": {},
   "source": [
    "In this notebook we'll constantly switch between Julia and Python. The strategy so far is to do as much as possible in Julia (like storing the results and the main variables). However, there are some functions from `xarray` and `pandas` that can get messy when called from Julia, so for those cases they will be called from Python using py\" code here\". "
   ]
  },
  {
   "cell_type": "code",
   "execution_count": 3,
   "metadata": {},
   "outputs": [
    {
     "name": "stderr",
     "output_type": "stream",
     "text": [
      "2021-10-08 15:06:28: oggm.cfg: Reading default parameters from the OGGM `params.cfg` configuration file.\n",
      "2021-10-08 15:06:28: oggm.cfg: Multiprocessing switched OFF according to the parameter file.\n",
      "2021-10-08 15:06:28: oggm.cfg: Multiprocessing: using all available processors (N=8)\n"
     ]
    }
   ],
   "source": [
    "# Import in Julia\n",
    "cfg = pyimport(\"oggm.cfg\")\n",
    "utils = pyimport(\"oggm.utils\")\n",
    "workflow = pyimport(\"oggm.workflow\")\n",
    "\n",
    "cfg.initialize()"
   ]
  },
  {
   "cell_type": "markdown",
   "metadata": {},
   "source": [
    "### Whenever we want to modify a field from a class we need to create a Julian instance:"
   ]
  },
  {
   "cell_type": "code",
   "execution_count": 4,
   "metadata": {},
   "outputs": [
    {
     "data": {
      "text/plain": [
       "PyDict{PyAny, PyAny, true} with 107 entries:\n",
       "  \"has_internet\"            => true\n",
       "  \"dl_cache_readonly\"       => false\n",
       "  \"use_multiprocessing\"     => false\n",
       "  \"use_mp_spawn\"            => false\n",
       "  \"mp_processes\"            => 8\n",
       "  \"lru_maxsize\"             => 100\n",
       "  \"continue_on_error\"       => false\n",
       "  \"grid_dx_method\"          => \"square\"\n",
       "  \"topo_interp\"             => \"cubic\"\n",
       "  \"use_intersects\"          => true\n",
       "  \"use_compression\"         => true\n",
       "  \"border\"                  => 40\n",
       "  \"mpi_recv_buf_size\"       => 131072\n",
       "  \"use_multiple_flowlines\"  => true\n",
       "  \"filter_min_slope\"        => true\n",
       "  \"auto_skip_task\"          => false\n",
       "  \"correct_for_neg_flux\"    => true\n",
       "  \"filter_for_neg_flux\"     => false\n",
       "  \"run_mb_calibration\"      => false\n",
       "  \"rgi_version\"             => \"62\"\n",
       "  \"use_rgi_area\"            => true\n",
       "  \"compress_climate_netcdf\" => true\n",
       "  \"use_tar_shapefiles\"      => true\n",
       "  \"clip_mu_star\"            => false\n",
       "  \"clip_tidewater_border\"   => true\n",
       "  ⋮                         => ⋮"
      ]
     },
     "execution_count": 4,
     "metadata": {},
     "output_type": "execute_result"
    }
   ],
   "source": [
    "PARAMS = PyDict(cfg.\"PARAMS\")"
   ]
  },
  {
   "cell_type": "code",
   "execution_count": 5,
   "metadata": {},
   "outputs": [
    {
     "name": "stderr",
     "output_type": "stream",
     "text": [
      "2021-10-08 15:06:30: oggm.cfg: Multiprocessing switched ON after user settings.\n"
     ]
    },
    {
     "data": {
      "text/plain": [
       "true"
      ]
     },
     "execution_count": 5,
     "metadata": {},
     "output_type": "execute_result"
    }
   ],
   "source": [
    "PARAMS[\"prcp_scaling_factor\"], PARAMS[\"ice_density\"], PARAMS[\"continue_on_error\"]\n",
    "PARAMS[\"use_multiprocessing\"] = true # Let's use multiprocessing"
   ]
  },
  {
   "cell_type": "markdown",
   "metadata": {},
   "source": [
    "Each OGGM run needs a **single folder** where to store the results of the computations for all glaciers. This is called a \"working directory\" and needs to be specified before each run."
   ]
  },
  {
   "cell_type": "code",
   "execution_count": 6,
   "metadata": {},
   "outputs": [
    {
     "data": {
      "text/plain": [
       "PyDict{PyAny, PyAny, true} with 7 entries:\n",
       "  \"dl_cache_dir\" => \"/Users/Bolib001/OGGM/download_cache\"\n",
       "  \"tmp_dir\"      => \"/Users/Bolib001/OGGM/tmp\"\n",
       "  \"rgi_dir\"      => \"/Users/Bolib001/OGGM/rgi\"\n",
       "  \"test_dir\"     => \"/Users/Bolib001/OGGM/tests\"\n",
       "  \"working_dir\"  => \"\"\n",
       "  \"dem_file\"     => \"\"\n",
       "  \"climate_file\" => \"\""
      ]
     },
     "execution_count": 6,
     "metadata": {},
     "output_type": "execute_result"
    }
   ],
   "source": [
    "PATHS = PyDict(cfg.\"PATHS\")"
   ]
  },
  {
   "cell_type": "code",
   "execution_count": 7,
   "metadata": {},
   "outputs": [
    {
     "data": {
      "text/plain": [
       "\"/Users/Bolib001/Jordi/Python/OGGM_data\""
      ]
     },
     "execution_count": 7,
     "metadata": {},
     "output_type": "execute_result"
    }
   ],
   "source": [
    "PATHS[\"working_dir\"] = \"/Users/Bolib001/Jordi/Python/OGGM_data\""
   ]
  },
  {
   "cell_type": "markdown",
   "metadata": {},
   "source": [
    "**This working directory is meant to be persistent**, i.e. you can stop your processing workflow after any task, and restart from an existing working directory at a later stage."
   ]
  },
  {
   "cell_type": "markdown",
   "metadata": {},
   "source": [
    "### Define the glaciers for the run "
   ]
  },
  {
   "cell_type": "code",
   "execution_count": 8,
   "metadata": {},
   "outputs": [
    {
     "data": {
      "text/plain": [
       "1-element Vector{String}:\n",
       " \"RGI60-11.01450\""
      ]
     },
     "execution_count": 8,
     "metadata": {},
     "output_type": "execute_result"
    }
   ],
   "source": [
    "rgi_ids = [\"RGI60-11.01450\"]"
   ]
  },
  {
   "cell_type": "markdown",
   "metadata": {},
   "source": [
    "### Glacier directories \n",
    "\n",
    "The OGGM workflow is organized as a list of **tasks** that have to be applied to a list of glaciers. The vast majority of tasks are called **entity tasks**: they are standalone operations to be realized on one single glacier entity. These tasks are executed sequentially (one after another): they often need input generated by the previous task(s): for example, the climate calibration needs the glacier flowlines, which can be only computed after the topography data has been processed, and so on.\n",
    "\n",
    "To handle this situation, OGGM uses a workflow based on data persistence on disk: instead of passing data as python variables from one task to another, each task will read the data from disk and then write the computation results back to the disk, making these new data available for the next task in the queue.\n",
    "\n",
    "These glacier specific data are located in [glacier directories](https://docs.oggm.org/en/stable/glacierdir.html#glacier-directories). In the model, these directories are initialized with the following command (this can take a little while on the first call, as OGGM needs to download some data):"
   ]
  },
  {
   "cell_type": "code",
   "execution_count": 9,
   "metadata": {},
   "outputs": [
    {
     "name": "stdout",
     "output_type": "stream",
     "text": [
      "Path to the DEM:/Users/Bolib001/Jordi/Python/OGGM_data/per_glacier/RGI60-11/RGI60-11.01/RGI60-11.01450/dem.tif\n"
     ]
    },
    {
     "name": "stderr",
     "output_type": "stream",
     "text": [
      "2021-10-08 15:06:32: oggm.workflow: init_glacier_directories from prepro level 2 on 1 glaciers.\n",
      "2021-10-08 15:06:32: oggm.workflow: Execute entity task gdir_from_prepro on 1 glaciers\n",
      "2021-10-08 15:06:33: oggm.utils: /Users/Bolib001/OGGM/download_cache/cluster.klima.uni-bremen.de/~oggm/gdirs/oggm_v1.4/L1-L2_files/elev_bands/RGI62/b_010/L2/RGI60-11/RGI60-11.01.tar verified successfully.\n"
     ]
    }
   ],
   "source": [
    "# use elevation band  flowlines\n",
    "base_url = (\"https://cluster.klima.uni-bremen.de/~oggm/gdirs/oggm_v1.4/L1-L2_files/elev_bands\")\n",
    "\n",
    "# Where to fetch the pre-processed directories\n",
    "gdirs = workflow.init_glacier_directories(rgi_ids, from_prepro_level=2,\n",
    "                                          prepro_border=10,\n",
    "                                          prepro_base_url=base_url,\n",
    "                                          prepro_rgi_version=\"62\")\n",
    "# gdirs = workflow.init_glacier_directories(rgi_ids, from_prepro_level=3, prepro_border=80)\n",
    "gdir = gdirs[1]\n",
    "println(\"Path to the DEM:\", gdir.get_filepath(\"dem\"))"
   ]
  },
  {
   "cell_type": "code",
   "execution_count": 10,
   "metadata": {},
   "outputs": [
    {
     "data": {
      "text/plain": [
       "PyObject <module 'oggm.graphics' from '/Users/Bolib001/Python/oggm/oggm/graphics.py'>"
      ]
     },
     "execution_count": 10,
     "metadata": {},
     "output_type": "execute_result"
    }
   ],
   "source": [
    "using PyPlot\n",
    "graphics = pyimport(\"oggm.graphics\")"
   ]
  },
  {
   "cell_type": "code",
   "execution_count": 11,
   "metadata": {},
   "outputs": [
    {
     "data": {
      "image/png": "[encoded data removed]",
      "text/plain": [
       "Figure(PyObject <Figure size 640x480 with 2 Axes>)"
      ]
     },
     "metadata": {},
     "output_type": "display_data"
    }
   ],
   "source": [
    "graphics.plot_domain(gdirs)"
   ]
  },
  {
   "cell_type": "markdown",
   "metadata": {},
   "source": [
    "Another advantage of glacier directories is their persistence on disk: once created, **they can be recovered from the same location** by using `init_glacier_directories` again, but without keyword arguments:"
   ]
  },
  {
   "cell_type": "code",
   "execution_count": 12,
   "metadata": {},
   "outputs": [],
   "source": [
    "# Fetch the LOCAL pre-processed directories - note that no arguments are used!\n",
    "# gdirs = workflow.init_glacier_directories(rgi_ids)"
   ]
  },
  {
   "cell_type": "markdown",
   "metadata": {},
   "source": [
    "## Train simple temperature-index MB model from ODINN using OGGM glacier directories"
   ]
  },
  {
   "cell_type": "markdown",
   "metadata": {},
   "source": [
    "We import the simple ODINN MB model"
   ]
  },
  {
   "cell_type": "markdown",
   "metadata": {},
   "source": [
    "### Climate tasks \n",
    "\n",
    "The glacier directories we downloaded already contains the climate timeseries for each glacier (`from_prepro_level=3`). Let's have a look at them:"
   ]
  },
  {
   "cell_type": "code",
   "execution_count": 13,
   "metadata": {},
   "outputs": [
    {
     "data": {
      "text/plain": [
       "PyObject <module 'numpy' from '/Users/Bolib001/miniconda3/envs/oggm_env/lib/python3.9/site-packages/numpy/__init__.py'>"
      ]
     },
     "execution_count": 13,
     "metadata": {},
     "output_type": "execute_result"
    }
   ],
   "source": [
    "using Dates # to provide correct Julian time slices \n",
    "\n",
    "xr = pyimport(\"xarray\")\n",
    "np = pyimport(\"numpy\")"
   ]
  },
  {
   "cell_type": "markdown",
   "metadata": {},
   "source": [
    "This climate data is called the \"baseline climate\" for this glacier. It will be used for the mass-balance model calibration, and at the end of this tutorial also to generate the random climate to drive a simulation. When running OGGM with GCM data, the GCM timeseries will be computed as anomalies to this baseline timeseries, hence the name.\n",
    "\n",
    "Here we are using CRU, but OGGM-Shop also allows to use ERA5 and CERA as baseline."
   ]
  },
  {
   "cell_type": "code",
   "execution_count": 15,
   "metadata": {},
   "outputs": [
    {
     "data": {
      "text/plain": [
       "PyObject <oggm.GlacierDirectory>\n",
       "  RGI id: RGI60-11.01450\n",
       "  Region: 11: Central Europe\n",
       "  Subregion: 11-01: Alps                            \n",
       "  Glacier type: Glacier\n",
       "  Terminus type: Land-terminating\n",
       "  Status: Glacier or ice cap\n",
       "  Area: 82.206 km2\n",
       "  Lon, Lat: (8.01919, 46.5028)\n",
       "  Grid (nx, ny): (107, 154)\n",
       "  Grid (dx, dy): (137.0, -137.0)\n"
      ]
     },
     "execution_count": 15,
     "metadata": {},
     "output_type": "execute_result"
    }
   ],
   "source": [
    "gdir = gdirs[1]"
   ]
  },
  {
   "cell_type": "markdown",
   "metadata": {},
   "source": [
    "We extract the climate data for the period with MB observations. The raw OGGM climate data has a monthly resolution."
   ]
  },
  {
   "cell_type": "markdown",
   "metadata": {},
   "source": [
    "We use the W5E5 climate with daily temperature and precipitation and a changing lapse rate (data from ERA5)"
   ]
  },
  {
   "cell_type": "code",
   "execution_count": 16,
   "metadata": {},
   "outputs": [
    {
     "data": {
      "text/plain": [
       "PyObject <module 'MBsandbox.mbmod_daily_oneflowline' from '/Users/Bolib001/Python/massbalance-sandbox/MBsandbox/mbmod_daily_oneflowline.py'>"
      ]
     },
     "execution_count": 16,
     "metadata": {},
     "output_type": "execute_result"
    }
   ],
   "source": [
    "MBsandbox = pyimport(\"MBsandbox.mbmod_daily_oneflowline\")"
   ]
  },
  {
   "cell_type": "code",
   "execution_count": 17,
   "metadata": {},
   "outputs": [
    {
     "data": {
      "text/plain": [
       "\"_daily_W5E5\""
      ]
     },
     "execution_count": 17,
     "metadata": {},
     "output_type": "execute_result"
    }
   ],
   "source": [
    "mb_type = \"mb_real_daily\"\n",
    "grad_type = \"var_an_cycle\" # could use here as well 'cte'\n",
    "# mb_mod = MBsandbox.TIModel(gdir, nothing, mb_type=mb_type, grad_type=grad_type, baseline_climate=climate, residual=0)\n",
    "# fs = \"_daily_\".*climate\n",
    "fs = \"_daily_W5E5\""
   ]
  },
  {
   "cell_type": "markdown",
   "metadata": {},
   "source": [
    "## Mass balance UDE model"
   ]
  },
  {
   "cell_type": "markdown",
   "metadata": {},
   "source": [
    "We build a UDE MB model, using the OGGM glacier directory data for training."
   ]
  },
  {
   "cell_type": "code",
   "execution_count": 18,
   "metadata": {},
   "outputs": [
    {
     "data": {
      "text/plain": [
       "Hyperparameters"
      ]
     },
     "execution_count": 18,
     "metadata": {},
     "output_type": "execute_result"
    }
   ],
   "source": [
    "using Base: @kwdef\n",
    "@kwdef mutable struct Hyperparameters\n",
    "    batchsize::Int = 500    # batch size\n",
    "    η::Float64 = 0.1   # learning rate\n",
    "    epochs::Int = 500        # number of epochs\n",
    "    use_cuda::Bool = true   # use gpu (if cuda available)\n",
    "end"
   ]
  },
  {
   "cell_type": "code",
   "execution_count": 19,
   "metadata": {},
   "outputs": [
    {
     "data": {
      "text/plain": [
       "Chain(\n",
       "  Dense(1, 10),                         \u001b[90m# 20 parameters\u001b[39m\n",
       "  BatchNorm(10, leakyrelu),             \u001b[90m# 20 parameters\u001b[39m\u001b[90m, plus 20\u001b[39m\n",
       "  Dense(10, 10),                        \u001b[90m# 110 parameters\u001b[39m\n",
       "  BatchNorm(10, leakyrelu),             \u001b[90m# 20 parameters\u001b[39m\u001b[90m, plus 20\u001b[39m\n",
       "  Dense(10, 5),                         \u001b[90m# 55 parameters\u001b[39m\n",
       "  BatchNorm(5, leakyrelu),              \u001b[90m# 10 parameters\u001b[39m\u001b[90m, plus 10\u001b[39m\n",
       "  Dense(5, 1, relu_abl),                \u001b[90m# 6 parameters\u001b[39m\n",
       ")\u001b[90m         # Total: 14 trainable arrays, \u001b[39m241 parameters,\n",
       "\u001b[90m          # plus 6 non-trainable, 50 parameters, summarysize \u001b[39m2.316 KiB."
      ]
     },
     "execution_count": 19,
     "metadata": {},
     "output_type": "execute_result"
    }
   ],
   "source": [
    "using Flux\n",
    "\n",
    "hyparams = Hyperparameters()\n",
    "\n",
    "# Leaky ReLu as activation function\n",
    "leakyrelu(x, a=0.01) = max(a*x, x)\n",
    "relu_acc(x) = min(max(1, x), 2)\n",
    "relu_abl(x) = min(max(3, x), 12)\n",
    "\n",
    "# Define the networks 1->5->5->5->1\n",
    "global Up = Chain(\n",
    "    Dense(1,10,initb = Flux.glorot_normal), \n",
    "    BatchNorm(10, leakyrelu),\n",
    "    Dense(10,10,initb = Flux.glorot_normal), \n",
    "    BatchNorm(10, leakyrelu),\n",
    "    Dense(10,5,initb = Flux.glorot_normal), \n",
    "    BatchNorm(5, leakyrelu),\n",
    "    Dense(5,1, relu_acc, initb = Flux.glorot_normal)\n",
    ")\n",
    "\n",
    "global Ut = Chain(\n",
    "    Dense(1,10,initb = Flux.glorot_normal), \n",
    "    BatchNorm(10, leakyrelu),\n",
    "    Dense(10,10,initb = Flux.glorot_normal), \n",
    "    BatchNorm(10, leakyrelu),\n",
    "    Dense(10,5,initb = Flux.glorot_normal), \n",
    "    BatchNorm(5, leakyrelu),\n",
    "    Dense(5,1, relu_abl, initb = Flux.glorot_normal)\n",
    ")"
   ]
  },
  {
   "cell_type": "code",
   "execution_count": 20,
   "metadata": {},
   "outputs": [
    {
     "data": {
      "text/plain": [
       "MB (generic function with 1 method)"
      ]
     },
     "execution_count": 20,
     "metadata": {},
     "output_type": "execute_result"
    }
   ],
   "source": [
    "# Temperature-index equation for point glacier mass balance\n",
    "function MB(P, T, Up, Ut)\n",
    "    T_melt = 0\n",
    "    MB = P.*Up - max.(T.-T_melt, 0).*Ut\n",
    "    return MB\n",
    "end"
   ]
  },
  {
   "cell_type": "code",
   "execution_count": 21,
   "metadata": {},
   "outputs": [
    {
     "data": {
      "text/plain": [
       "loss (generic function with 1 method)"
      ]
     },
     "execution_count": 21,
     "metadata": {},
     "output_type": "execute_result"
    }
   ],
   "source": [
    "# We determine the loss function\n",
    "function loss(batch)\n",
    "    l, l_acc, l_abl = 0.0f0, 0.0f0, 0.0f0\n",
    "    num = 0\n",
    "    for (x, y) in batch\n",
    "\n",
    "        # Make NN predictions\n",
    "        p_batch = x[1,:]'\n",
    "        t_batch = x[2,:]'\n",
    "        pdd_batch = max.(t_batch.-0, 0)\n",
    "        Ŷp = Up(p_batch)\n",
    "        Ŷt = Ut(pdd_batch)\n",
    "        \n",
    "        # We evaluate the MB as the combination of Accumulation - Ablation         \n",
    "        w_pc=1000\n",
    "        l_MB = sqrt(Flux.Losses.mse(MB(p_batch, t_batch, Up, Ut), y; agg=mean))\n",
    "        l_range_acc = sum((max.((Ŷp/p_batch).-110, 0)).*w_pc)\n",
    "        l_range_abl = sum((max.((Ŷt/pdd_batch).-110, 0)).*w_pc)\n",
    "\n",
    "        #l += l_MB \n",
    "        l += l_MB + l_range_acc + l_range_abl\n",
    "        l_acc += l_range_acc\n",
    "        l_abl += l_range_abl\n",
    "        num +=  size(x, 2)\n",
    "\n",
    "        # println(\"Accumulation loss: \", l_range_acc)\n",
    "        # println(\"Ablation loss: \", l_range_abl)\n",
    "\n",
    "    end\n",
    "\n",
    "    return l/num\n",
    "end"
   ]
  },
  {
   "cell_type": "markdown",
   "metadata": {},
   "source": [
    "### Seasonal climate data to match MB observations"
   ]
  },
  {
   "cell_type": "markdown",
   "metadata": {},
   "source": [
    "TODO: improve separation of rain/snow."
   ]
  },
  {
   "cell_type": "code",
   "execution_count": 22,
   "metadata": {},
   "outputs": [
    {
     "data": {
      "text/plain": [
       "create_2D_climate_data (generic function with 1 method)"
      ]
     },
     "execution_count": 22,
     "metadata": {},
     "output_type": "execute_result"
    }
   ],
   "source": [
    "# Function to convert the baseline OGGM climate dataset to 2D\n",
    "function create_2D_climate_data(climate, g_dem)\n",
    "    # Create dummy 2D arrays to have a base to apply gradients afterwards\n",
    "    temp_2D = climate.temp.data .* ones(size(permutedims(g_dem.data, (1,2,3))))\n",
    "    snow_2D = climate.prcp.data .* ones(size(permutedims(g_dem.data, (1,2,3))))\n",
    "    rain_2D = climate.prcp.data .* ones(size(permutedims(g_dem.data, (1,2,3))))\n",
    "\n",
    "    # We generate a new dataset with the scaled data\n",
    "    climate_2D = xr.Dataset(\n",
    "        data_vars=Dict([\n",
    "            (\"temp\", ([\"time\",\"y\",\"x\"], temp_2D)),\n",
    "            (\"snow\", ([\"time\",\"y\",\"x\"], snow_2D)),\n",
    "            (\"rain\", ([\"time\",\"y\",\"x\"], rain_2D)),\n",
    "            (\"gradient\", ([\"time\"], climate.gradient.data))\n",
    "            ]),\n",
    "        coords=Dict([\n",
    "            (\"time\", climate.time),\n",
    "            (\"x\", g_dem.x),\n",
    "            (\"y\", g_dem.y)\n",
    "        ]),\n",
    "        attrs=climate.attrs\n",
    "    )\n",
    "\n",
    "    return climate_2D\n",
    "\n",
    "end"
   ]
  },
  {
   "cell_type": "code",
   "execution_count": 28,
   "metadata": {},
   "outputs": [
    {
     "data": {
      "text/plain": [
       "apply_t_grad! (generic function with 3 methods)"
      ]
     },
     "execution_count": 28,
     "metadata": {},
     "output_type": "execute_result"
    }
   ],
   "source": [
    "# Function to apply temperature lapse rates to the full matrix of a glacier\n",
    "function apply_t_grad!(climate, g_dem, gradient_bounds=[-0.009, -0.003], default_grad=-0.0065)\n",
    "    gradients = utils.clip_array(climate.gradient, gradient_bounds[1], gradient_bounds[2]) # Clip gradients within plausible values\n",
    "\n",
    "    # We apply the gradients to the temperature\n",
    "    climate.temp.data = climate.temp.data .+ gradients.data .* (g_dem.data .- climate.ref_hgt)\n",
    "    # We adjust the rain/snow fractions with the updated temperature\n",
    "    climate.snow.data = climate.snow.where(climate.temp < 0, 0).data\n",
    "    climate.rain.data = climate.rain.where(climate.temp > 0, 0).data\n",
    "end"
   ]
  },
  {
   "cell_type": "code",
   "execution_count": 32,
   "metadata": {},
   "outputs": [
    {
     "data": {
      "text/plain": [
       "plot_monthly_temps_map (generic function with 1 method)"
      ]
     },
     "execution_count": 32,
     "metadata": {},
     "output_type": "execute_result"
    }
   ],
   "source": [
    "# TODO: correctly retrieve the glacier coordinates to plot them in `imshow` as an extent\n",
    "function plot_monthly_temps_map(climate, year)\n",
    "    climate = climate.where(climate.time.dt.year == year, drop=true)\n",
    "    fig_clim, ax_clim = pplt.subplots([1:6, 7:12], axheight=2)\n",
    "    fig_clim.format(\n",
    "        abc=true, abcloc=\"ul\", suptitle= (\"$year - monthly temperature\")\n",
    "    )\n",
    "    for mon in 1:12\n",
    "        # m_temp = climate.temp[mon].plot(ax=ax_clim[mon])\n",
    "        m_temp = ax_clim[mon].imshow(climate.temp[mon], cmap=\"Thermal\", \n",
    "                vmin=minimum(climate.temp.data), vmax=maximum(climate.temp.data)) # set common min max temp\n",
    "        ax_clim[mon].set_title(Dates.monthname(mon))\n",
    "        if(mon == 12)\n",
    "            fig_clim.colorbar(m_temp, label=\"Air temperature (2m)\")\n",
    "        end\n",
    "    end\n",
    "end"
   ]
  },
  {
   "cell_type": "markdown",
   "metadata": {},
   "source": [
    "We classify the climate dataset into ablation and accumulation seasons"
   ]
  },
  {
   "cell_type": "code",
   "execution_count": 33,
   "metadata": {},
   "outputs": [
    {
     "data": {
      "text/plain": [
       "is_acc (generic function with 1 method)"
      ]
     },
     "execution_count": 33,
     "metadata": {},
     "output_type": "execute_result"
    }
   ],
   "source": [
    "function is_abl(month)\n",
    "    return (month >= 4) & (month <= 10)\n",
    "end\n",
    "\n",
    "function is_acc(month)\n",
    "    return (month <= 4) | (month >= 10)\n",
    "end"
   ]
  },
  {
   "cell_type": "markdown",
   "metadata": {},
   "source": [
    "Now we have a climate dataset for a given glacier ready to be used for training. We have 2D grid values for scaled air temperature at each glacier altitude, and the corresponding fractions of snow and rain."
   ]
  },
  {
   "cell_type": "code",
   "execution_count": 34,
   "metadata": {},
   "outputs": [
    {
     "data": {
      "text/plain": [
       "get_raw_climate_data (generic function with 4 methods)"
      ]
     },
     "execution_count": 34,
     "metadata": {},
     "output_type": "execute_result"
    }
   ],
   "source": [
    "function get_raw_climate_data(gdir, temp_resolution=\"daily\", climate=\"W5E5\")\n",
    "    PARAMS[\"hydro_month_nh\"]=1\n",
    "    MBsandbox.process_w5e5_data(gdir, climate_type=climate, temporal_resol=temp_resolution) \n",
    "    fpath = gdir.get_filepath(\"climate_historical\", filesuffix=\"_daily_W5E5\")\n",
    "    climate = xr.open_dataset(fpath)\n",
    "\n",
    "    # Convert climate dataset to 2D based on the glacier's DEM\n",
    "    g_dem = xr.open_rasterio(gdir.get_filepath(\"dem\"))\n",
    "    climate_2D = create_2D_climate_data(climate, g_dem)\n",
    "\n",
    "    return climate_2D\n",
    "end"
   ]
  },
  {
   "cell_type": "code",
   "execution_count": 118,
   "metadata": {},
   "outputs": [
    {
     "data": {
      "text/plain": [
       "jldate (generic function with 1 method)"
      ]
     },
     "execution_count": 118,
     "metadata": {},
     "output_type": "execute_result"
    }
   ],
   "source": [
    "# Convert Pythonian date to Julian date\n",
    "function jldate(pydate)\n",
    "    return Date(pydate.dt.year.data[1], pydate.dt.month.data[1], pydate.dt.day.data[1])\n",
    "end"
   ]
  },
  {
   "cell_type": "code",
   "execution_count": 117,
   "metadata": {},
   "outputs": [
    {
     "data": {
      "text/plain": [
       "trim_period (generic function with 1 method)"
      ]
     },
     "execution_count": 117,
     "metadata": {},
     "output_type": "execute_result"
    }
   ],
   "source": [
    "function trim_period(period, climate)\n",
    "    if any(climate.time[1].dt.date.data[1] > period[1])\n",
    "        head = jldate(climate.time[1])\n",
    "        period = Date(year(head), 10, 1):Day(1):period[end] # make it a hydrological year\n",
    "    end\n",
    "    if any(climate.time[end].dt.date.data[1] < period[end])\n",
    "        tail = jldate(climate.time[end])\n",
    "        period = period[1]:Day(1):Date(year(tail), 9, 30) # make it a hydrological year\n",
    "    end\n",
    "\n",
    "    return period\n",
    "end"
   ]
  },
  {
   "cell_type": "code",
   "execution_count": 110,
   "metadata": {},
   "outputs": [
    {
     "data": {
      "text/plain": [
       "get_climate_forcing (generic function with 1 method)"
      ]
     },
     "execution_count": 110,
     "metadata": {},
     "output_type": "execute_result"
    }
   ],
   "source": [
    "# Compute climate forcings for a given period to feed MB model\n",
    "function get_climate_forcing(gdir, climate, period, season)\n",
    "    @assert any(season .== [\"annual\",\"accumulation\", \"ablation\"]) \"Wrong season type, must be `annual`, `accumulation` or `ablation`\"\n",
    "\n",
    "    # Make sure the desired period is covered by the climate data\n",
    "    period = trim_period(period, climate) \n",
    "    @assert any((climate.time[1].dt.date.data[1] <= period[1]) & any(climate.time[end].dt.date.data[1] >= period[end])) \"No overlapping period available between climate and MB data!\" \n",
    "    clim_period = climate.sel(time=period) # Crop desired time period\n",
    "\n",
    "    if season == \"accumulation\"\n",
    "        clim_period = clim_period.sel(time=is_acc.(clim_period.time.dt.month.data))\n",
    "    elseif season == \"ablation\"\n",
    "        clim_period = clim_period.sel(time=is_abl.(clim_period.time.dt.month.data))\n",
    "    end\n",
    "        \n",
    "    # Get glacier DEM\n",
    "    g_dem = xr.open_rasterio(gdir.get_filepath(\"dem\"))\n",
    "    # Apply temperature gradients and compute snow/rain fraction for the selected period\n",
    "    apply_t_grad!(clim_period, g_dem)\n",
    "    # Obtained PDDs and cumulative snowfall and rain\n",
    "    clim_period.temp.data = clim_period.temp.where(clim_period.temp.data .> 0, 0) # PDDs\n",
    "    clim_period = clim_period.drop(\"gradient\") #.sum() # Accumulate everything\n",
    "\n",
    "    return clim_period\n",
    "     \n",
    "end"
   ]
  },
  {
   "cell_type": "markdown",
   "metadata": {},
   "source": [
    "We need a function to retrieve all the necessary climate data matching the glaciological mass balance observations of a reference glacier"
   ]
  },
  {
   "cell_type": "code",
   "execution_count": 50,
   "metadata": {},
   "outputs": [
    {
     "data": {
      "text/plain": [
       "to_hydro_period (generic function with 1 method)"
      ]
     },
     "execution_count": 50,
     "metadata": {},
     "output_type": "execute_result"
    }
   ],
   "source": [
    "function to_hydro_period(mass_balance)\n",
    "    # Select hydro period between October 1st and 30th of September\n",
    "    hydro_period = collect(Date(mass_balance.index[1]-1,10,1):Day(1):Date(mass_balance.index[end],09,30))\n",
    "\n",
    "    return hydro_period\n",
    "end"
   ]
  },
  {
   "cell_type": "markdown",
   "metadata": {},
   "source": [
    "And now we have everything we need to generate the dataset to train the mass balance model"
   ]
  },
  {
   "cell_type": "code",
   "execution_count": 38,
   "metadata": {},
   "outputs": [],
   "source": [
    "# Metastructure to store xarray dataset with MB and climate data for training\n",
    "struct Dataset\n",
    "    annual\n",
    "    accumulation\n",
    "    ablation\n",
    "end"
   ]
  },
  {
   "cell_type": "code",
   "execution_count": 151,
   "metadata": {},
   "outputs": [
    {
     "data": {
      "text/plain": [
       "gen_MB_train_dataset (generic function with 1 method)"
      ]
     },
     "execution_count": 151,
     "metadata": {},
     "output_type": "execute_result"
    }
   ],
   "source": [
    "function gen_MB_train_dataset(gdir, fs)\n",
    "    # Retrieve reference MB data\n",
    "    println(\"Downloading climate data for glacier...\")\n",
    "    climate = get_raw_climate_data(gdir)\n",
    "\n",
    "    println(\"Fetching mass balance reference data...\")\n",
    "    mb_glaciological = gdir.get_ref_mb_data(input_filesuffix=fs)\n",
    "    # Get hydrological period matching the reference MB data\n",
    "    hydro_period = to_hydro_period(mb_glaciological)\n",
    "\n",
    "    println(\"Processing data for reference period \", hydro_period[1], \" - \", hydro_period[end])\n",
    "    # Get the climate forcings for the MB data\n",
    "    seasons = [\"annual\", \"accumulation\", \"ablation\"]\n",
    "    balances = [\"ANNUAL_BALANCE\", \"WINTER_BALANCE\", \"SUMMER_BALANCE\"]\n",
    "\n",
    "    # Build the training and reference dataset including annual and seasonal data\n",
    "    ds_clim_buffer, ds_MB_buffer = [],[]\n",
    "    for (season, balance) in zip(seasons, balances)\n",
    "        season_MB = mb_glaciological[balance].values\n",
    "        MB_clim = get_climate_forcing(gdir, climate, hydro_period, season)\n",
    "        push!(ds_MB_buffer, season_MB) # add MB data into climate dataset for reference\n",
    "        push!(ds_clim_buffer, MB_clim)\n",
    "    end\n",
    "\n",
    "    # Store everything in a global dataset \n",
    "    MB_ds = Dataset(ds_MB_buffer[1], ds_MB_buffer[2], ds_MB_buffer[3])\n",
    "    climate_ds = Dataset(ds_clim_buffer[1], ds_clim_buffer[2], ds_clim_buffer[3])\n",
    "\n",
    "    return MB_ds, climate_ds        \n",
    "end"
   ]
  },
  {
   "cell_type": "code",
   "execution_count": 152,
   "metadata": {},
   "outputs": [
    {
     "name": "stdout",
     "output_type": "stream",
     "text": [
      "Downloading climate data for glacier...\n",
      "Fetching mass balance reference data...\n",
      "Processing data for reference period 1978-10-01 - 1999-09-30\n",
      "ds_MB_buffer: "
     ]
    },
    {
     "name": "stderr",
     "output_type": "stream",
     "text": [
      "2021-10-08 18:04:39: MBsandbox.mbmod_daily_oneflowline: (RGI60-11.01450) process_w5e5_data\n"
     ]
    },
    {
     "name": "stdout",
     "output_type": "stream",
     "text": [
      "Any[[-508.0, 624.0, -23.0, -362.0, -317.0, 180.0, -318.0, -814.0, -194.0, -791.0, -680.0, -941.0, -1106.0, -1511.0, -93.0, -271.0, -24.0, -448.0, -520.0, -1226.0, -502.0], [1007.0, 1340.0, 1004.0, 890.0, 1269.0, 989.0, 861.0, 950.0, 1263.0, 779.0, 737.0, 587.0, 751.0, 337.0, 932.0, 1180.0, 1318.0, 507.0, 863.0, 630.0, 929.0], [-1515.0, -716.0, -1027.0, -1252.0, -1586.0, -809.0, -1179.0, -1764.0, -1457.0, -1570.0, -1417.0, -1528.0, -1857.0, -1848.0, -1025.0, -1451.0, -1342.0, -955.0, -1383.0, -1856.0, -1431.0]]\n"
     ]
    },
    {
     "data": {
      "text/plain": [
       "(Dataset([-508.0, 624.0, -23.0, -362.0, -317.0, 180.0, -318.0, -814.0, -194.0, -791.0  …  -941.0, -1106.0, -1511.0, -93.0, -271.0, -24.0, -448.0, -520.0, -1226.0, -502.0], [1007.0, 1340.0, 1004.0, 890.0, 1269.0, 989.0, 861.0, 950.0, 1263.0, 779.0  …  587.0, 751.0, 337.0, 932.0, 1180.0, 1318.0, 507.0, 863.0, 630.0, 929.0], [-1515.0, -716.0, -1027.0, -1252.0, -1586.0, -809.0, -1179.0, -1764.0, -1457.0, -1570.0  …  -1528.0, -1857.0, -1848.0, -1025.0, -1451.0, -1342.0, -955.0, -1383.0, -1856.0, -1431.0]), Dataset(PyObject <xarray.Dataset>\n",
       "Dimensions:  (time: 7305, y: 154, x: 107)\n",
       "Coordinates:\n",
       "  * time     (time) datetime64[ns] 1979-10-01 1979-10-02 ... 1999-09-30\n",
       "  * x        (x) float64 -8.041e+03 -7.904e+03 ... 6.344e+03 6.481e+03\n",
       "  * y        (y) float64 5.158e+06 5.158e+06 5.158e+06 ... 5.137e+06 5.137e+06\n",
       "Data variables:\n",
       "    snow     (time, y, x) float64 0.0 0.0 0.0 0.0 0.0 ... 0.0 0.0 0.0 0.0 0.0\n",
       "    rain     (time, y, x) float64 0.0 0.0 0.0 0.0 ... 21.12 21.12 21.12 21.12\n",
       "    temp     (time, y, x) float64 11.49 9.799 7.947 7.027 ... 9.663 9.85 10.05\n",
       "Attributes:\n",
       "    ref_pix_lon:     8.25\n",
       "    author:          OGGM\n",
       "    ref_pix_dis:     32652.873631988525\n",
       "    hydro_yr_0:      1979\n",
       "    ref_hgt:         1764.0\n",
       "    hydro_yr_1:      2019\n",
       "    ref_pix_lat:     46.75\n",
       "    climate_source:  temp: W5E5_daily, prcp: W5E5_daily, lapse rate: ERA5dr\n",
       "    author_info:     Open Global Glacier Model, PyObject <xarray.Dataset>\n",
       "Dimensions:  (time: 4245, y: 154, x: 107)\n",
       "Coordinates:\n",
       "  * time     (time) datetime64[ns] 1979-10-01 1979-10-02 ... 1999-04-30\n",
       "  * x        (x) float64 -8.041e+03 -7.904e+03 ... 6.344e+03 6.481e+03\n",
       "  * y        (y) float64 5.158e+06 5.158e+06 5.158e+06 ... 5.137e+06 5.137e+06\n",
       "Data variables:\n",
       "    snow     (time, y, x) float64 0.0 0.0 0.0 0.0 0.0 ... 0.0 0.0 0.0 0.0 0.0\n",
       "    rain     (time, y, x) float64 0.0 0.0 0.0 0.0 ... 5.736 5.736 5.736 5.736\n",
       "    temp     (time, y, x) float64 11.49 9.799 7.947 7.027 ... 7.67 7.86 8.062\n",
       "Attributes:\n",
       "    ref_pix_lon:     8.25\n",
       "    author:          OGGM\n",
       "    ref_pix_dis:     32652.873631988525\n",
       "    hydro_yr_0:      1979\n",
       "    ref_hgt:         1764.0\n",
       "    hydro_yr_1:      2019\n",
       "    ref_pix_lat:     46.75\n",
       "    climate_source:  temp: W5E5_daily, prcp: W5E5_daily, lapse rate: ERA5dr\n",
       "    author_info:     Open Global Glacier Model, PyObject <xarray.Dataset>\n",
       "Dimensions:  (time: 4280, y: 154, x: 107)\n",
       "Coordinates:\n",
       "  * time     (time) datetime64[ns] 1979-10-01 1979-10-02 ... 1999-09-30\n",
       "  * x        (x) float64 -8.041e+03 -7.904e+03 ... 6.344e+03 6.481e+03\n",
       "  * y        (y) float64 5.158e+06 5.158e+06 5.158e+06 ... 5.137e+06 5.137e+06\n",
       "Data variables:\n",
       "    snow     (time, y, x) float64 0.0 0.0 0.0 0.0 0.0 ... 0.0 0.0 0.0 0.0 0.0\n",
       "    rain     (time, y, x) float64 0.0 0.0 0.0 0.0 ... 21.12 21.12 21.12 21.12\n",
       "    temp     (time, y, x) float64 11.49 9.799 7.947 7.027 ... 9.663 9.85 10.05\n",
       "Attributes:\n",
       "    ref_pix_lon:     8.25\n",
       "    author:          OGGM\n",
       "    ref_pix_dis:     32652.873631988525\n",
       "    hydro_yr_0:      1979\n",
       "    ref_hgt:         1764.0\n",
       "    hydro_yr_1:      2019\n",
       "    ref_pix_lat:     46.75\n",
       "    climate_source:  temp: W5E5_daily, prcp: W5E5_daily, lapse rate: ERA5dr\n",
       "    author_info:     Open Global Glacier Model))"
      ]
     },
     "execution_count": 152,
     "metadata": {},
     "output_type": "execute_result"
    }
   ],
   "source": [
    "MB_ds, climate_ds = gen_MB_train_dataset(gdir, fs)"
   ]
  },
  {
   "cell_type": "markdown",
   "metadata": {},
   "source": [
    "We display the downscaled temperatures to make sure everything is fine."
   ]
  },
  {
   "cell_type": "code",
   "execution_count": null,
   "metadata": {},
   "outputs": [
    {
     "data": {
      "text/plain": [
       "PyObject <module 'proplot' from '/Users/Bolib001/miniconda3/envs/oggm_env/lib/python3.9/site-packages/proplot/__init__.py'>"
      ]
     },
     "execution_count": 29,
     "metadata": {},
     "output_type": "execute_result"
    }
   ],
   "source": [
    "# Use ProPlot for serious scientific plots with lots of subplots\n",
    "pplt = pyimport(\"proplot\")"
   ]
  },
  {
   "cell_type": "code",
   "execution_count": null,
   "metadata": {},
   "outputs": [
    {
     "ename": "LoadError",
     "evalue": "UndefVarError: climate_scaled_ref not defined",
     "output_type": "error",
     "traceback": [
      "UndefVarError: climate_scaled_ref not defined",
      "",
      "Stacktrace:",
      " [1] top-level scope",
      "   @ In[31]:1",
      " [2] eval",
      "   @ ./boot.jl:360 [inlined]",
      " [3] include_string(mapexpr::typeof(REPL.softscope), mod::Module, code::String, filename::String)",
      "   @ Base ./loading.jl:1094"
     ]
    }
   ],
   "source": [
    "plot_monthly_temps_map(climate_scaled_ref, 1989)"
   ]
  },
  {
   "cell_type": "markdown",
   "metadata": {},
   "source": [
    "### WGMS mass balance data"
   ]
  },
  {
   "cell_type": "markdown",
   "metadata": {},
   "source": [
    "We prepare the dataset with predictors and targets to train the MB model."
   ]
  },
  {
   "cell_type": "markdown",
   "metadata": {},
   "source": [
    "We can also obtain the geodetic mass balance data from Hugonnet el al (2021)"
   ]
  },
  {
   "cell_type": "code",
   "execution_count": null,
   "metadata": {},
   "outputs": [],
   "source": [
    "pd = pyimport(\"pandas\")\n",
    "\n",
    "# get the geodetic data for calibration\n",
    "url = \"https://cluster.klima.uni-bremen.de/~oggm/geodetic_ref_mb/hugonnet_2021_ds_rgi60_pergla_rates_10_20_worldwide.csv\"\n",
    "path = utils.file_downloader(url)\n",
    "pd_geodetic = pd.read_csv(path, index_col=\"rgiid\")\n",
    "\n",
    "pd_geodetic = get(pd_geodetic.loc, pd_geodetic.period == \"2000-01-01_2020-01-01\")\n",
    "mb_geodetic = get(pd_geodetic.loc, rgi_ids).dmdtda.values * 1000\n",
    "\n",
    "years = range(2000, 2020, step=1)"
   ]
  },
  {
   "cell_type": "code",
   "execution_count": null,
   "metadata": {},
   "outputs": [],
   "source": [
    "\n",
    "X = vcat(prcp_ref.data, temp_ref.data)\n",
    "Y = collect(annual_MB.values)\n",
    "Yw = collect(winter_MB.values)\n",
    "Ys = collect(summer_MB.values)\n",
    "\n",
    "# Very important:\n",
    "# Shuffle batches and use batchsize similar to dataset size for easy training\n",
    "data = Flux.Data.DataLoader((X, Y), batchsize=hyparams.batchsize, (X, Y), shuffle=true)"
   ]
  }
 ],
 "metadata": {
  "kernelspec": {
   "display_name": "Julia 1.6.0",
   "language": "julia",
   "name": "julia-1.6"
  },
  "language_info": {
   "file_extension": ".jl",
   "mimetype": "application/julia",
   "name": "julia",
   "version": "1.6.0"
  },
  "orig_nbformat": 4
 },
 "nbformat": 4,
 "nbformat_minor": 2
}
