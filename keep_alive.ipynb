{
 "cells": [
  {
   "cell_type": "code",
   "execution_count": null,
   "id": "6c590f6f-5e79-45f4-b7ec-45eaef8098a8",
   "metadata": {},
   "outputs": [],
   "source": [
    "import time\n",
    "# to avoid a mistake keeping a server running for months on end\n",
    "# adding costs to the cloud bill, avoid putting in 999999999999 etc.\n",
    "time.sleep(3600*48)"
   ]
  },
  {
   "cell_type": "code",
   "execution_count": null,
   "id": "641219f2-3b01-4c78-9c24-84e18298037d",
   "metadata": {},
   "outputs": [],
   "source": []
  }
 ],
 "metadata": {
  "kernelspec": {
   "display_name": "Python 3 (ipykernel)",
   "language": "python",
   "name": "python3"
  },
  "language_info": {
   "codemirror_mode": {
    "name": "ipython",
    "version": 3
   },
   "file_extension": ".py",
   "mimetype": "text/x-python",
   "name": "python",
   "nbconvert_exporter": "python",
   "pygments_lexer": "ipython3",
   "version": "3.9.9"
  }
 },
 "nbformat": 4,
 "nbformat_minor": 5
}
